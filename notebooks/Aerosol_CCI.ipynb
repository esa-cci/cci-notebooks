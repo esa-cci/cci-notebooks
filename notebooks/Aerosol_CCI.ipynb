{
 "cells": [
  {
   "cell_type": "markdown",
   "id": "ab36065c-42b2-4539-94b5-c1e048a0e8b4",
   "metadata": {},
   "source": [
    "# Getting Started with Aerosol CCI Data"
   ]
  },
  {
   "cell_type": "markdown",
   "id": "7820f8bc-21f0-4933-8972-0b19f268532e",
   "metadata": {},
   "source": [
    "### 1. Import Necessary Packages\n",
    "\n",
    "In this section, we import the required Python packages to work with ESA Climate Change Initiative (CCI) data. Most notably, we use the [ESA Climate Toolbox](https://esa-climate-toolbox.readthedocs.io/en/latest/) which simplifies access, manipulation, and visualization of CCI datasets in Python.\n",
    "\n",
    "These packages allow us to:\n",
    "- Access satellite-based climate data records from ESA.\n",
    "- Handle geospatial and temporal dimensions efficiently.\n",
    "- Visualize data with intuitive plotting tools.\n",
    "\n",
    "📚 For a broader introduction to the toolbox and how to install it, visit:  \n",
    "🔗 [ESA CCI Climate Toolbox Quick Start](https://esa-climate-toolbox.readthedocs.io/en/latest/quick_start.html#jupyter-notebooks)  \n",
    "🔗 [ESA Climate Data Toolbox Website](https://climate.esa.int/en/data/toolbox/)"
   ]
  },
  {
   "cell_type": "code",
   "execution_count": 1,
   "id": "f05b0d63-ff02-41f8-9070-f0d9c44d9a3c",
   "metadata": {},
   "outputs": [],
   "source": [
    "from xcube.core.store import new_data_store\n",
    "from esa_climate_toolbox.core import get_op\n",
    "from esa_climate_toolbox.core import list_ecv_datasets\n",
    "from esa_climate_toolbox.core import get_store\n",
    "from esa_climate_toolbox.core import list_datasets\n",
    "from esa_climate_toolbox.ops import plot\n",
    "import xarray as xr\n",
    "import matplotlib.pyplot as plt\n",
    "import warnings\n",
    "%matplotlib inline"
   ]
  },
  {
   "cell_type": "markdown",
   "id": "a2f223ea-569a-4c84-8266-8572f861f3ed",
   "metadata": {},
   "source": [
    "### Step 2: Connect to the ESA CCI Data Store\n",
    "\n",
    "The ESA Climate Toolbox provides direct access to the **ESA Climate Data Store**, which hosts harmonized satellite-based climate data records produced under the **ESA Climate Change Initiative (CCI)**.\n",
    "\n",
    "In this step, we establish a connection to the data store so we can browse and open datasets. This connection allows us to access data **without having to download files manually** — a convenient way to explore and analyze large geospatial datasets in cloud-friendly formats such as **Zarr** or **Kerchunk**.\n",
    "\n",
    "The data store includes a wide range of essential climate variables (ECVs), such as aerosols, land surface temperature, sea level, and soil moisture.\n",
    "\n",
    "📘 Learn more about available datasets:  \n",
    "🔗 [ESA Climate Data Toolbox – Quick Start Guide](https://esa-climate-toolbox.readthedocs.io/en/latest/quick_start.html#data-access)"
   ]
  },
  {
   "cell_type": "code",
   "execution_count": 2,
   "id": "94164c99-2ef2-48d7-b098-6e136ee861af",
   "metadata": {},
   "outputs": [],
   "source": [
    "cci_store = new_data_store(\"esa-cci\")\n",
    "# List all available data sets of an ECV\n",
    "  # list_ecv_datasets(\"Aerosol\")"
   ]
  },
  {
   "cell_type": "markdown",
   "id": "d736f1da-a755-4df7-864a-5f14f988159f",
   "metadata": {},
   "source": [
    "### Step 3: Define the Dataset ID  \n",
    "To work with a specific ESA CCI dataset, we need to specify its **dataset ID**. This unique identifier tells the toolbox which variable and product we want to access.\n",
    "\n",
    "In this example, we are using a dataset providing **Aerosol Optical Depth (AOD)** derived from the AATSR sensor. This variable is important for understanding the effects of aerosols on climate and air quality.\n",
    "\n",
    "For other ESA CCI projects (e.g., Land Cover, Soil Moisture, Sea Surface Temperature), simply replace the dataset ID accordingly.\n",
    "\n",
    "📘 A full list of dataset IDs can be retrieved from the store or found in the [ESA CCI Climate Toolbox documentation](https://esa-climate-toolbox.readthedocs.io/en/latest/quick_start.html#accessing-data)."
   ]
  },
  {
   "cell_type": "code",
   "execution_count": 3,
   "id": "7672a7f4-be9a-4b8f-a888-93d31647d5b4",
   "metadata": {},
   "outputs": [],
   "source": [
    "data_id = 'esacci.AEROSOL.day.L3C.AER_PRODUCTS.AATSR.Envisat.SU.4-3.r1'"
   ]
  },
  {
   "cell_type": "markdown",
   "id": "b1e9d068-a81b-4d00-91cb-cc020bd5333a",
   "metadata": {},
   "source": [
    "### Step 4: Describe Dataset (Check Available Variables and Metadata)\n",
    "\n",
    "Before loading the full dataset, it’s helpful to **inspect the metadata** to understand its structure. This includes:\n",
    "\n",
    "- Available variables (e.g., AOD, uncertainty estimates)\n",
    "- Temporal and spatial coverage\n",
    "- Data format and structure\n",
    "\n",
    "This step ensures we know what the dataset contains and how to work with it. It also helps confirm that the variable we want to plot or analyze is actually included.\n",
    "\n",
    "🛠️ Tip: You can use the description to verify variable names, dimensions (e.g., `lat`, `lon`, `time`), and time coverage.\n",
    "\n",
    "📘 More on dataset structure:  \n",
    "🔗 [ESA Climate Toolbox – Data Access](https://esa-climate-toolbox.readthedocs.io/en/latest/quick_start.html#accessing-data)"
   ]
  },
  {
   "cell_type": "code",
   "execution_count": 4,
   "id": "1ccb7546-70f0-479d-bb0a-d902190500af",
   "metadata": {},
   "outputs": [
    {
     "data": {
      "application/json": {
       "attrs": {
        "abstract": "The ESA Climate Change Initiative Aerosol project has produced a number of global aerosol Essential Climate Variable (ECV) products from a set of European satellite instruments with different characteristics.   This dataset comprises Level 3 daily and monthly aerosol products from the AATSR instrument on the ENVISAT satellite, using the Swansea University (SU) algorithm, version 4.3. Data is available for the period 2002 - 2012.\n\nFor further details about these data products please see the documentation.",
        "catalog_url": "https://catalogue.ceda.ac.uk/uuid/d12fc40e4f254ce38303157fa460f01c",
        "cci_project": "AEROSOL",
        "data_type": "AER_PRODUCTS",
        "ecv": "AEROSOL",
        "history": "Level 3 product from Swansea algorithm",
        "institute": "Swansea University",
        "platform_id": "Envisat",
        "processing_level": "L3C",
        "product_string": "SU",
        "product_version": "4-3",
        "project": "Climate Change Initiative - European Space Agency",
        "publication_date": "2020-08-27T16:11:31",
        "references": "http://www.esa-aerosol-cci.org",
        "sensor_id": "AATSR",
        "source": "ATS_TOA_1P, V6.05",
        "title": "ESA Aerosol Climate Change Initiative (Aerosol_cci): Level 3 aerosol products from AATSR (SU algorithm), Version 4.3",
        "uuid": "d12fc40e4f254ce38303157fa460f01c"
       },
       "bbox": [
        -180,
        -90,
        180,
        90
       ],
       "coords": {
        "latitude": {
         "attrs": {
          "axis": "Y",
          "chunk_sizes": [
           180
          ],
          "data_type": "float32",
          "dimensions": [
           "latitude"
          ],
          "file_chunk_sizes": [
           180
          ],
          "file_dimensions": [
           "latitude"
          ],
          "fill_value": null,
          "long_name": "latitude",
          "orig_data_type": "float32",
          "shape": [
           180
          ],
          "size": 180,
          "standard_name": "latitude",
          "units": "degrees_north",
          "valid_range": [
           -90,
           90
          ]
         },
         "dims": [
          "latitude"
         ],
         "dtype": "float32",
         "name": "latitude"
        },
        "longitude": {
         "attrs": {
          "axis": "X",
          "chunk_sizes": [
           360
          ],
          "data_type": "float32",
          "dimensions": [
           "longitude"
          ],
          "file_chunk_sizes": [
           360
          ],
          "file_dimensions": [
           "longitude"
          ],
          "fill_value": null,
          "long_name": "longitude",
          "orig_data_type": "float32",
          "shape": [
           360
          ],
          "size": 360,
          "standard_name": "longitude",
          "units": "degrees_east",
          "valid_range": [
           -180,
           180
          ]
         },
         "dims": [
          "longitude"
         ],
         "dtype": "float32",
         "name": "longitude"
        },
        "time": {
         "attrs": {
          "calendar": "proleptic_gregorian",
          "shape": [
           3528
          ],
          "size": 3528,
          "standard_name": "time",
          "units": "seconds since 1970-01-01T00:00:00Z"
         },
         "dims": [
          "time"
         ],
         "dtype": "int64",
         "name": "time"
        },
        "time_bnds": {
         "attrs": {
          "calendar": "proleptic_gregorian",
          "shape": [
           2,
           3528
          ],
          "size": 7056,
          "standard_name": "time_bnds",
          "units": "seconds since 1970-01-01T00:00:00Z"
         },
         "dims": [
          "time",
          "bnds"
         ],
         "dtype": "int64",
         "name": "time_bnds"
        }
       },
       "crs": "WGS84",
       "data_id": "esacci.AEROSOL.day.L3C.AER_PRODUCTS.AATSR.Envisat.SU.4-3.r1",
       "data_type": "dataset",
       "data_vars": {
        "AAOD550_mean": {
         "attrs": {
          "chunk_sizes": [
           180,
           360
          ],
          "coordinates": "latitude longitude",
          "data_type": "float32",
          "dimensions": [
           "latitude",
           "longitude"
          ],
          "file_chunk_sizes": [
           180,
           360
          ],
          "file_dimensions": [
           "latitude",
           "longitude"
          ],
          "fill_value": -999,
          "long_name": "absorbing AOD",
          "orig_data_type": "float32",
          "shape": [
           180,
           360
          ],
          "size": 64800,
          "standard_name": "atmosphere_optical_thickness_due_to_ambient_aerosol",
          "units": "1",
          "valid_range": [
           0,
           2
          ]
         },
         "dims": [
          "time",
          "lat",
          "lon"
         ],
         "dtype": "float32",
         "name": "AAOD550_mean"
        },
        "AAOD550_sdev": {
         "attrs": {
          "chunk_sizes": [
           180,
           360
          ],
          "coordinates": "latitude longitude",
          "data_type": "float32",
          "dimensions": [
           "latitude",
           "longitude"
          ],
          "file_chunk_sizes": [
           180,
           360
          ],
          "file_dimensions": [
           "latitude",
           "longitude"
          ],
          "fill_value": -999,
          "long_name": "standard deviation absorbing AOD",
          "orig_data_type": "float32",
          "shape": [
           180,
           360
          ],
          "size": 64800,
          "units": "1",
          "valid_range": [
           0,
           2
          ]
         },
         "dims": [
          "time",
          "lat",
          "lon"
         ],
         "dtype": "float32",
         "name": "AAOD550_sdev"
        },
        "ANG550_870_mean": {
         "attrs": {
          "chunk_sizes": [
           180,
           360
          ],
          "coordinates": "latitude longitude",
          "data_type": "float32",
          "dimensions": [
           "latitude",
           "longitude"
          ],
          "file_chunk_sizes": [
           180,
           360
          ],
          "file_dimensions": [
           "latitude",
           "longitude"
          ],
          "fill_value": -999,
          "long_name": "angstrom exponent computed on AOD550nm and AOD870nm",
          "orig_data_type": "float32",
          "shape": [
           180,
           360
          ],
          "size": 64800,
          "standard_name": "angstrom_exponent_of_ambient_aerosol_in_air",
          "units": "1",
          "valid_range": [
           -5,
           5
          ]
         },
         "dims": [
          "time",
          "lat",
          "lon"
         ],
         "dtype": "float32",
         "name": "ANG550_870_mean"
        },
        "ANG550_870_sdev": {
         "attrs": {
          "chunk_sizes": [
           180,
           360
          ],
          "coordinates": "latitude longitude",
          "data_type": "float32",
          "dimensions": [
           "latitude",
           "longitude"
          ],
          "file_chunk_sizes": [
           180,
           360
          ],
          "file_dimensions": [
           "latitude",
           "longitude"
          ],
          "fill_value": -999,
          "long_name": "standard deviation angstrom exponent computed on AOD550nm and AOD870nm",
          "orig_data_type": "float32",
          "shape": [
           180,
           360
          ],
          "size": 64800,
          "units": "1",
          "valid_range": [
           -5,
           5
          ]
         },
         "dims": [
          "time",
          "lat",
          "lon"
         ],
         "dtype": "float32",
         "name": "ANG550_870_sdev"
        },
        "AOD1600_mean": {
         "attrs": {
          "chunk_sizes": [
           180,
           360
          ],
          "coordinates": "latitude longitude",
          "data_type": "float32",
          "dimensions": [
           "latitude",
           "longitude"
          ],
          "file_chunk_sizes": [
           180,
           360
          ],
          "file_dimensions": [
           "latitude",
           "longitude"
          ],
          "fill_value": -999,
          "long_name": "aerosol optical thickness at 1600 nm",
          "orig_data_type": "float32",
          "shape": [
           180,
           360
          ],
          "size": 64800,
          "standard_name": "atmosphere_optical_thickness_due_to_ambient_aerosol",
          "units": "1",
          "valid_range": [
           0,
           2
          ]
         },
         "dims": [
          "time",
          "lat",
          "lon"
         ],
         "dtype": "float32",
         "name": "AOD1600_mean"
        },
        "AOD1600_sdev": {
         "attrs": {
          "chunk_sizes": [
           180,
           360
          ],
          "coordinates": "latitude longitude",
          "data_type": "float32",
          "dimensions": [
           "latitude",
           "longitude"
          ],
          "file_chunk_sizes": [
           180,
           360
          ],
          "file_dimensions": [
           "latitude",
           "longitude"
          ],
          "fill_value": -999,
          "long_name": "standard deviation aerosol optical thickness at 1600 nm",
          "orig_data_type": "float32",
          "shape": [
           180,
           360
          ],
          "size": 64800,
          "units": "1",
          "valid_range": [
           0,
           2
          ]
         },
         "dims": [
          "time",
          "lat",
          "lon"
         ],
         "dtype": "float32",
         "name": "AOD1600_sdev"
        },
        "AOD1600_uncertainty": {
         "attrs": {
          "chunk_sizes": [
           180,
           360
          ],
          "coordinates": "latitude longitude",
          "data_type": "float32",
          "dimensions": [
           "latitude",
           "longitude"
          ],
          "file_chunk_sizes": [
           180,
           360
          ],
          "file_dimensions": [
           "latitude",
           "longitude"
          ],
          "fill_value": -999,
          "long_name": "propagated L2 uncertainty in aerosol optical thickness at 1600 nm",
          "orig_data_type": "float32",
          "shape": [
           180,
           360
          ],
          "size": 64800,
          "units": "1",
          "valid_range": [
           0,
           10
          ]
         },
         "dims": [
          "time",
          "lat",
          "lon"
         ],
         "dtype": "float32",
         "name": "AOD1600_uncertainty"
        },
        "AOD1600_uncertainty_max": {
         "attrs": {
          "chunk_sizes": [
           180,
           360
          ],
          "coordinates": "latitude longitude",
          "data_type": "float32",
          "dimensions": [
           "latitude",
           "longitude"
          ],
          "file_chunk_sizes": [
           180,
           360
          ],
          "file_dimensions": [
           "latitude",
           "longitude"
          ],
          "fill_value": -999,
          "long_name": "maximum L2 uncertainty on AOT at 1600 nm",
          "orig_data_type": "float32",
          "shape": [
           180,
           360
          ],
          "size": 64800,
          "units": "1",
          "valid_range": [
           0,
           10
          ]
         },
         "dims": [
          "time",
          "lat",
          "lon"
         ],
         "dtype": "float32",
         "name": "AOD1600_uncertainty_max"
        },
        "AOD1600_uncertainty_mean": {
         "attrs": {
          "chunk_sizes": [
           180,
           360
          ],
          "coordinates": "latitude longitude",
          "data_type": "float32",
          "dimensions": [
           "latitude",
           "longitude"
          ],
          "file_chunk_sizes": [
           180,
           360
          ],
          "file_dimensions": [
           "latitude",
           "longitude"
          ],
          "fill_value": -999,
          "long_name": "Mean of L2 uncertainty on AOT at 1600 nm",
          "orig_data_type": "float32",
          "shape": [
           180,
           360
          ],
          "size": 64800,
          "units": "1",
          "valid_range": [
           0,
           10
          ]
         },
         "dims": [
          "time",
          "lat",
          "lon"
         ],
         "dtype": "float32",
         "name": "AOD1600_uncertainty_mean"
        },
        "AOD1600_uncertainty_min": {
         "attrs": {
          "chunk_sizes": [
           180,
           360
          ],
          "coordinates": "latitude longitude",
          "data_type": "float32",
          "dimensions": [
           "latitude",
           "longitude"
          ],
          "file_chunk_sizes": [
           180,
           360
          ],
          "file_dimensions": [
           "latitude",
           "longitude"
          ],
          "fill_value": -999,
          "long_name": "minimum L2 uncertainty on AOT at 1600 nm",
          "orig_data_type": "float32",
          "shape": [
           180,
           360
          ],
          "size": 64800,
          "units": "1",
          "valid_range": [
           0,
           10
          ]
         },
         "dims": [
          "time",
          "lat",
          "lon"
         ],
         "dtype": "float32",
         "name": "AOD1600_uncertainty_min"
        },
        "AOD1600_uncertainty_sdev": {
         "attrs": {
          "chunk_sizes": [
           180,
           360
          ],
          "coordinates": "latitude longitude",
          "data_type": "float32",
          "dimensions": [
           "latitude",
           "longitude"
          ],
          "file_chunk_sizes": [
           180,
           360
          ],
          "file_dimensions": [
           "latitude",
           "longitude"
          ],
          "fill_value": -999,
          "long_name": "standard deviation of L2 uncertainty on AOT at 1600 nm",
          "orig_data_type": "float32",
          "shape": [
           180,
           360
          ],
          "size": 64800,
          "units": "1",
          "valid_range": [
           0,
           10
          ]
         },
         "dims": [
          "time",
          "lat",
          "lon"
         ],
         "dtype": "float32",
         "name": "AOD1600_uncertainty_sdev"
        },
        "AOD550_mean": {
         "attrs": {
          "chunk_sizes": [
           180,
           360
          ],
          "coordinates": "latitude longitude",
          "data_type": "float32",
          "dimensions": [
           "latitude",
           "longitude"
          ],
          "file_chunk_sizes": [
           180,
           360
          ],
          "file_dimensions": [
           "latitude",
           "longitude"
          ],
          "fill_value": -999,
          "long_name": "aerosol optical thickness at 550 nm",
          "orig_data_type": "float32",
          "shape": [
           180,
           360
          ],
          "size": 64800,
          "standard_name": "atmosphere_optical_thickness_due_to_ambient_aerosol",
          "units": "1",
          "valid_range": [
           0,
           2
          ]
         },
         "dims": [
          "time",
          "lat",
          "lon"
         ],
         "dtype": "float32",
         "name": "AOD550_mean"
        },
        "AOD550_sdev": {
         "attrs": {
          "chunk_sizes": [
           180,
           360
          ],
          "coordinates": "latitude longitude",
          "data_type": "float32",
          "dimensions": [
           "latitude",
           "longitude"
          ],
          "file_chunk_sizes": [
           180,
           360
          ],
          "file_dimensions": [
           "latitude",
           "longitude"
          ],
          "fill_value": -999,
          "long_name": "standard deviation aerosol optical thickness at 550 nm",
          "orig_data_type": "float32",
          "shape": [
           180,
           360
          ],
          "size": 64800,
          "units": "1",
          "valid_range": [
           0,
           2
          ]
         },
         "dims": [
          "time",
          "lat",
          "lon"
         ],
         "dtype": "float32",
         "name": "AOD550_sdev"
        },
        "AOD550_uncertainty": {
         "attrs": {
          "chunk_sizes": [
           180,
           360
          ],
          "coordinates": "latitude longitude",
          "data_type": "float32",
          "dimensions": [
           "latitude",
           "longitude"
          ],
          "file_chunk_sizes": [
           180,
           360
          ],
          "file_dimensions": [
           "latitude",
           "longitude"
          ],
          "fill_value": -999,
          "long_name": "propagated L2 uncertainty in aerosol optical thickness at 550 nm",
          "orig_data_type": "float32",
          "shape": [
           180,
           360
          ],
          "size": 64800,
          "units": "1",
          "valid_range": [
           0,
           10
          ]
         },
         "dims": [
          "time",
          "lat",
          "lon"
         ],
         "dtype": "float32",
         "name": "AOD550_uncertainty"
        },
        "AOD550_uncertainty_max": {
         "attrs": {
          "chunk_sizes": [
           180,
           360
          ],
          "coordinates": "latitude longitude",
          "data_type": "float32",
          "dimensions": [
           "latitude",
           "longitude"
          ],
          "file_chunk_sizes": [
           180,
           360
          ],
          "file_dimensions": [
           "latitude",
           "longitude"
          ],
          "fill_value": -999,
          "long_name": "maximum L2 uncertainty on AOT at 550 nm",
          "orig_data_type": "float32",
          "shape": [
           180,
           360
          ],
          "size": 64800,
          "units": "1",
          "valid_range": [
           0,
           10
          ]
         },
         "dims": [
          "time",
          "lat",
          "lon"
         ],
         "dtype": "float32",
         "name": "AOD550_uncertainty_max"
        },
        "AOD550_uncertainty_mean": {
         "attrs": {
          "chunk_sizes": [
           180,
           360
          ],
          "coordinates": "latitude longitude",
          "data_type": "float32",
          "dimensions": [
           "latitude",
           "longitude"
          ],
          "file_chunk_sizes": [
           180,
           360
          ],
          "file_dimensions": [
           "latitude",
           "longitude"
          ],
          "fill_value": -999,
          "long_name": "Mean of L2 uncertainty on AOT at 550 nm",
          "orig_data_type": "float32",
          "shape": [
           180,
           360
          ],
          "size": 64800,
          "units": "1",
          "valid_range": [
           0,
           10
          ]
         },
         "dims": [
          "time",
          "lat",
          "lon"
         ],
         "dtype": "float32",
         "name": "AOD550_uncertainty_mean"
        },
        "AOD550_uncertainty_min": {
         "attrs": {
          "chunk_sizes": [
           180,
           360
          ],
          "coordinates": "latitude longitude",
          "data_type": "float32",
          "dimensions": [
           "latitude",
           "longitude"
          ],
          "file_chunk_sizes": [
           180,
           360
          ],
          "file_dimensions": [
           "latitude",
           "longitude"
          ],
          "fill_value": -999,
          "long_name": "minimum L2 uncertainty on AOT at 550 nm",
          "orig_data_type": "float32",
          "shape": [
           180,
           360
          ],
          "size": 64800,
          "units": "1",
          "valid_range": [
           0,
           10
          ]
         },
         "dims": [
          "time",
          "lat",
          "lon"
         ],
         "dtype": "float32",
         "name": "AOD550_uncertainty_min"
        },
        "AOD550_uncertainty_sdev": {
         "attrs": {
          "chunk_sizes": [
           180,
           360
          ],
          "coordinates": "latitude longitude",
          "data_type": "float32",
          "dimensions": [
           "latitude",
           "longitude"
          ],
          "file_chunk_sizes": [
           180,
           360
          ],
          "file_dimensions": [
           "latitude",
           "longitude"
          ],
          "fill_value": -999,
          "long_name": "standard deviation of L2 Uncertainty on AOT at 550 nm",
          "orig_data_type": "float32",
          "shape": [
           180,
           360
          ],
          "size": 64800,
          "units": "1",
          "valid_range": [
           0,
           10
          ]
         },
         "dims": [
          "time",
          "lat",
          "lon"
         ],
         "dtype": "float32",
         "name": "AOD550_uncertainty_sdev"
        },
        "AOD670_mean": {
         "attrs": {
          "chunk_sizes": [
           180,
           360
          ],
          "coordinates": "latitude longitude",
          "data_type": "float32",
          "dimensions": [
           "latitude",
           "longitude"
          ],
          "file_chunk_sizes": [
           180,
           360
          ],
          "file_dimensions": [
           "latitude",
           "longitude"
          ],
          "fill_value": -999,
          "long_name": "aerosol optical thickness at 670 nm",
          "orig_data_type": "float32",
          "shape": [
           180,
           360
          ],
          "size": 64800,
          "standard_name": "atmosphere_optical_thickness_due_to_ambient_aerosol",
          "units": "1",
          "valid_range": [
           0,
           2
          ]
         },
         "dims": [
          "time",
          "lat",
          "lon"
         ],
         "dtype": "float32",
         "name": "AOD670_mean"
        },
        "AOD670_sdev": {
         "attrs": {
          "chunk_sizes": [
           180,
           360
          ],
          "coordinates": "latitude longitude",
          "data_type": "float32",
          "dimensions": [
           "latitude",
           "longitude"
          ],
          "file_chunk_sizes": [
           180,
           360
          ],
          "file_dimensions": [
           "latitude",
           "longitude"
          ],
          "fill_value": -999,
          "long_name": "standard deviation aerosol optical thickness at 670 nm",
          "orig_data_type": "float32",
          "shape": [
           180,
           360
          ],
          "size": 64800,
          "units": "1",
          "valid_range": [
           0,
           2
          ]
         },
         "dims": [
          "time",
          "lat",
          "lon"
         ],
         "dtype": "float32",
         "name": "AOD670_sdev"
        },
        "AOD670_uncertainty": {
         "attrs": {
          "chunk_sizes": [
           180,
           360
          ],
          "coordinates": "latitude longitude",
          "data_type": "float32",
          "dimensions": [
           "latitude",
           "longitude"
          ],
          "file_chunk_sizes": [
           180,
           360
          ],
          "file_dimensions": [
           "latitude",
           "longitude"
          ],
          "fill_value": -999,
          "long_name": "propagated L2 uncertainty in aerosol optical thickness at 670 nm",
          "orig_data_type": "float32",
          "shape": [
           180,
           360
          ],
          "size": 64800,
          "units": "1",
          "valid_range": [
           0,
           10
          ]
         },
         "dims": [
          "time",
          "lat",
          "lon"
         ],
         "dtype": "float32",
         "name": "AOD670_uncertainty"
        },
        "AOD670_uncertainty_max": {
         "attrs": {
          "chunk_sizes": [
           180,
           360
          ],
          "coordinates": "latitude longitude",
          "data_type": "float32",
          "dimensions": [
           "latitude",
           "longitude"
          ],
          "file_chunk_sizes": [
           180,
           360
          ],
          "file_dimensions": [
           "latitude",
           "longitude"
          ],
          "fill_value": -999,
          "long_name": "maximum L2 Uncertainty on AOT at 670 nm",
          "orig_data_type": "float32",
          "shape": [
           180,
           360
          ],
          "size": 64800,
          "units": "1",
          "valid_range": [
           0,
           10
          ]
         },
         "dims": [
          "time",
          "lat",
          "lon"
         ],
         "dtype": "float32",
         "name": "AOD670_uncertainty_max"
        },
        "AOD670_uncertainty_mean": {
         "attrs": {
          "chunk_sizes": [
           180,
           360
          ],
          "coordinates": "latitude longitude",
          "data_type": "float32",
          "dimensions": [
           "latitude",
           "longitude"
          ],
          "file_chunk_sizes": [
           180,
           360
          ],
          "file_dimensions": [
           "latitude",
           "longitude"
          ],
          "fill_value": -999,
          "long_name": "Mean of L2 Uncertainty on AOT at 670 nm",
          "orig_data_type": "float32",
          "shape": [
           180,
           360
          ],
          "size": 64800,
          "units": "1",
          "valid_range": [
           0,
           10
          ]
         },
         "dims": [
          "time",
          "lat",
          "lon"
         ],
         "dtype": "float32",
         "name": "AOD670_uncertainty_mean"
        },
        "AOD670_uncertainty_min": {
         "attrs": {
          "chunk_sizes": [
           180,
           360
          ],
          "coordinates": "latitude longitude",
          "data_type": "float32",
          "dimensions": [
           "latitude",
           "longitude"
          ],
          "file_chunk_sizes": [
           180,
           360
          ],
          "file_dimensions": [
           "latitude",
           "longitude"
          ],
          "fill_value": -999,
          "long_name": "minimum L2 Uncertainty on AOT at 670 nm",
          "orig_data_type": "float32",
          "shape": [
           180,
           360
          ],
          "size": 64800,
          "units": "1",
          "valid_range": [
           0,
           10
          ]
         },
         "dims": [
          "time",
          "lat",
          "lon"
         ],
         "dtype": "float32",
         "name": "AOD670_uncertainty_min"
        },
        "AOD670_uncertainty_sdev": {
         "attrs": {
          "chunk_sizes": [
           180,
           360
          ],
          "coordinates": "latitude longitude",
          "data_type": "float32",
          "dimensions": [
           "latitude",
           "longitude"
          ],
          "file_chunk_sizes": [
           180,
           360
          ],
          "file_dimensions": [
           "latitude",
           "longitude"
          ],
          "fill_value": -999,
          "long_name": "standard deviation of L2 Uncertainty on AOT at 670 nm",
          "orig_data_type": "float32",
          "shape": [
           180,
           360
          ],
          "size": 64800,
          "units": "1",
          "valid_range": [
           0,
           10
          ]
         },
         "dims": [
          "time",
          "lat",
          "lon"
         ],
         "dtype": "float32",
         "name": "AOD670_uncertainty_sdev"
        },
        "AOD870_mean": {
         "attrs": {
          "chunk_sizes": [
           180,
           360
          ],
          "coordinates": "latitude longitude",
          "data_type": "float32",
          "dimensions": [
           "latitude",
           "longitude"
          ],
          "file_chunk_sizes": [
           180,
           360
          ],
          "file_dimensions": [
           "latitude",
           "longitude"
          ],
          "fill_value": -999,
          "long_name": "aerosol optical thickness at 870 nm",
          "orig_data_type": "float32",
          "shape": [
           180,
           360
          ],
          "size": 64800,
          "standard_name": "atmosphere_optical_thickness_due_to_ambient_aerosol",
          "units": "1",
          "valid_range": [
           0,
           2
          ]
         },
         "dims": [
          "time",
          "lat",
          "lon"
         ],
         "dtype": "float32",
         "name": "AOD870_mean"
        },
        "AOD870_sdev": {
         "attrs": {
          "chunk_sizes": [
           180,
           360
          ],
          "coordinates": "latitude longitude",
          "data_type": "float32",
          "dimensions": [
           "latitude",
           "longitude"
          ],
          "file_chunk_sizes": [
           180,
           360
          ],
          "file_dimensions": [
           "latitude",
           "longitude"
          ],
          "fill_value": -999,
          "long_name": "standard deviation aerosol optical thickness at 870 nm",
          "orig_data_type": "float32",
          "shape": [
           180,
           360
          ],
          "size": 64800,
          "units": "1",
          "valid_range": [
           0,
           2
          ]
         },
         "dims": [
          "time",
          "lat",
          "lon"
         ],
         "dtype": "float32",
         "name": "AOD870_sdev"
        },
        "AOD870_uncertainty": {
         "attrs": {
          "chunk_sizes": [
           180,
           360
          ],
          "coordinates": "latitude longitude",
          "data_type": "float32",
          "dimensions": [
           "latitude",
           "longitude"
          ],
          "file_chunk_sizes": [
           180,
           360
          ],
          "file_dimensions": [
           "latitude",
           "longitude"
          ],
          "fill_value": -999,
          "long_name": "propagated L2 uncertainty aerosol optical thickness at 870 nm",
          "orig_data_type": "float32",
          "shape": [
           180,
           360
          ],
          "size": 64800,
          "units": "1",
          "valid_range": [
           0,
           10
          ]
         },
         "dims": [
          "time",
          "lat",
          "lon"
         ],
         "dtype": "float32",
         "name": "AOD870_uncertainty"
        },
        "AOD870_uncertainty_max": {
         "attrs": {
          "chunk_sizes": [
           180,
           360
          ],
          "coordinates": "latitude longitude",
          "data_type": "float32",
          "dimensions": [
           "latitude",
           "longitude"
          ],
          "file_chunk_sizes": [
           180,
           360
          ],
          "file_dimensions": [
           "latitude",
           "longitude"
          ],
          "fill_value": -999,
          "long_name": "maximum L2 uncertainty on AOT at 870 nm",
          "orig_data_type": "float32",
          "shape": [
           180,
           360
          ],
          "size": 64800,
          "units": "1",
          "valid_range": [
           0,
           10
          ]
         },
         "dims": [
          "time",
          "lat",
          "lon"
         ],
         "dtype": "float32",
         "name": "AOD870_uncertainty_max"
        },
        "AOD870_uncertainty_mean": {
         "attrs": {
          "chunk_sizes": [
           180,
           360
          ],
          "coordinates": "latitude longitude",
          "data_type": "float32",
          "dimensions": [
           "latitude",
           "longitude"
          ],
          "file_chunk_sizes": [
           180,
           360
          ],
          "file_dimensions": [
           "latitude",
           "longitude"
          ],
          "fill_value": -999,
          "long_name": "Mean of L2 uncertainty on AOT at 870 nm",
          "orig_data_type": "float32",
          "shape": [
           180,
           360
          ],
          "size": 64800,
          "units": "1",
          "valid_range": [
           0,
           10
          ]
         },
         "dims": [
          "time",
          "lat",
          "lon"
         ],
         "dtype": "float32",
         "name": "AOD870_uncertainty_mean"
        },
        "AOD870_uncertainty_min": {
         "attrs": {
          "chunk_sizes": [
           180,
           360
          ],
          "coordinates": "latitude longitude",
          "data_type": "float32",
          "dimensions": [
           "latitude",
           "longitude"
          ],
          "file_chunk_sizes": [
           180,
           360
          ],
          "file_dimensions": [
           "latitude",
           "longitude"
          ],
          "fill_value": -999,
          "long_name": "minimum L2 uncertainty on AOT at 870 nm",
          "orig_data_type": "float32",
          "shape": [
           180,
           360
          ],
          "size": 64800,
          "units": "1",
          "valid_range": [
           0,
           10
          ]
         },
         "dims": [
          "time",
          "lat",
          "lon"
         ],
         "dtype": "float32",
         "name": "AOD870_uncertainty_min"
        },
        "AOD870_uncertainty_sdev": {
         "attrs": {
          "chunk_sizes": [
           180,
           360
          ],
          "coordinates": "latitude longitude",
          "data_type": "float32",
          "dimensions": [
           "latitude",
           "longitude"
          ],
          "file_chunk_sizes": [
           180,
           360
          ],
          "file_dimensions": [
           "latitude",
           "longitude"
          ],
          "fill_value": -999,
          "long_name": "standard deviation of L2 uncertainty on AOT at 870 nm",
          "orig_data_type": "float32",
          "shape": [
           180,
           360
          ],
          "size": 64800,
          "units": "1",
          "valid_range": [
           0,
           10
          ]
         },
         "dims": [
          "time",
          "lat",
          "lon"
         ],
         "dtype": "float32",
         "name": "AOD870_uncertainty_sdev"
        },
        "D_AOD550_mean": {
         "attrs": {
          "chunk_sizes": [
           180,
           360
          ],
          "coordinates": "latitude longitude",
          "data_type": "float32",
          "dimensions": [
           "latitude",
           "longitude"
          ],
          "file_chunk_sizes": [
           180,
           360
          ],
          "file_dimensions": [
           "latitude",
           "longitude"
          ],
          "fill_value": -999,
          "long_name": "non-spherical dust AOD",
          "orig_data_type": "float32",
          "shape": [
           180,
           360
          ],
          "size": 64800,
          "standard_name": "atmosphere_optical_thickness_due_to_ambient_aerosol",
          "units": "1",
          "valid_range": [
           0,
           2
          ]
         },
         "dims": [
          "time",
          "lat",
          "lon"
         ],
         "dtype": "float32",
         "name": "D_AOD550_mean"
        },
        "D_AOD550_sdev": {
         "attrs": {
          "chunk_sizes": [
           180,
           360
          ],
          "coordinates": "latitude longitude",
          "data_type": "float32",
          "dimensions": [
           "latitude",
           "longitude"
          ],
          "file_chunk_sizes": [
           180,
           360
          ],
          "file_dimensions": [
           "latitude",
           "longitude"
          ],
          "fill_value": -999,
          "long_name": "standard deviation non-spherical dust AOD",
          "orig_data_type": "float32",
          "shape": [
           180,
           360
          ],
          "size": 64800,
          "units": "1",
          "valid_range": [
           0,
           2
          ]
         },
         "dims": [
          "time",
          "lat",
          "lon"
         ],
         "dtype": "float32",
         "name": "D_AOD550_sdev"
        },
        "FM_AOD550_mean": {
         "attrs": {
          "chunk_sizes": [
           180,
           360
          ],
          "coordinates": "latitude longitude",
          "data_type": "float32",
          "dimensions": [
           "latitude",
           "longitude"
          ],
          "file_chunk_sizes": [
           180,
           360
          ],
          "file_dimensions": [
           "latitude",
           "longitude"
          ],
          "fill_value": -999,
          "long_name": "fine mode AOD",
          "orig_data_type": "float32",
          "shape": [
           180,
           360
          ],
          "size": 64800,
          "standard_name": "atmosphere_optical_thickness_due_to_ambient_aerosol",
          "units": "1",
          "valid_range": [
           0,
           2
          ]
         },
         "dims": [
          "time",
          "lat",
          "lon"
         ],
         "dtype": "float32",
         "name": "FM_AOD550_mean"
        },
        "FM_AOD550_sdev": {
         "attrs": {
          "chunk_sizes": [
           180,
           360
          ],
          "coordinates": "latitude longitude",
          "data_type": "float32",
          "dimensions": [
           "latitude",
           "longitude"
          ],
          "file_chunk_sizes": [
           180,
           360
          ],
          "file_dimensions": [
           "latitude",
           "longitude"
          ],
          "fill_value": -999,
          "long_name": "standard deviation fine mode AOD",
          "orig_data_type": "float32",
          "shape": [
           180,
           360
          ],
          "size": 64800,
          "units": "1",
          "valid_range": [
           0,
           2
          ]
         },
         "dims": [
          "time",
          "lat",
          "lon"
         ],
         "dtype": "float32",
         "name": "FM_AOD550_sdev"
        },
        "SSA550_mean": {
         "attrs": {
          "chunk_sizes": [
           180,
           360
          ],
          "coordinates": "latitude longitude",
          "data_type": "float32",
          "dimensions": [
           "latitude",
           "longitude"
          ],
          "file_chunk_sizes": [
           180,
           360
          ],
          "file_dimensions": [
           "latitude",
           "longitude"
          ],
          "fill_value": -999,
          "long_name": "single scattering albedo at 550nm",
          "orig_data_type": "float32",
          "shape": [
           180,
           360
          ],
          "size": 64800,
          "units": "1",
          "valid_range": [
           0,
           2
          ]
         },
         "dims": [
          "time",
          "lat",
          "lon"
         ],
         "dtype": "float32",
         "name": "SSA550_mean"
        },
        "SSA550_sdev": {
         "attrs": {
          "chunk_sizes": [
           180,
           360
          ],
          "coordinates": "latitude longitude",
          "data_type": "float32",
          "dimensions": [
           "latitude",
           "longitude"
          ],
          "file_chunk_sizes": [
           180,
           360
          ],
          "file_dimensions": [
           "latitude",
           "longitude"
          ],
          "fill_value": -999,
          "long_name": "standard deviation of SSA",
          "orig_data_type": "float32",
          "shape": [
           180,
           360
          ],
          "size": 64800,
          "units": "1",
          "valid_range": [
           0,
           2
          ]
         },
         "dims": [
          "time",
          "lat",
          "lon"
         ],
         "dtype": "float32",
         "name": "SSA550_sdev"
        },
        "cloud_fraction_mean": {
         "attrs": {
          "chunk_sizes": [
           180,
           360
          ],
          "coordinates": "latitude longitude",
          "data_type": "float32",
          "dimensions": [
           "latitude",
           "longitude"
          ],
          "file_chunk_sizes": [
           180,
           360
          ],
          "file_dimensions": [
           "latitude",
           "longitude"
          ],
          "fill_value": -999,
          "long_name": "mean fraction of cloud flagged pixels in 10km bin",
          "orig_data_type": "float32",
          "shape": [
           180,
           360
          ],
          "size": 64800,
          "standard_name": "cloud_area_fraction",
          "units": "1",
          "valid_range": [
           0,
           1
          ]
         },
         "dims": [
          "time",
          "lat",
          "lon"
         ],
         "dtype": "float32",
         "name": "cloud_fraction_mean"
        },
        "cloud_fraction_sdev": {
         "attrs": {
          "chunk_sizes": [
           180,
           360
          ],
          "coordinates": "latitude longitude",
          "data_type": "float32",
          "dimensions": [
           "latitude",
           "longitude"
          ],
          "file_chunk_sizes": [
           180,
           360
          ],
          "file_dimensions": [
           "latitude",
           "longitude"
          ],
          "fill_value": -999,
          "long_name": "standard deviation mean fraction of cloud flagged pixels in 10km bin",
          "orig_data_type": "float32",
          "shape": [
           180,
           360
          ],
          "size": 64800,
          "units": "1",
          "valid_range": [
           0,
           1
          ]
         },
         "dims": [
          "time",
          "lat",
          "lon"
         ],
         "dtype": "float32",
         "name": "cloud_fraction_sdev"
        },
        "pixel_count": {
         "attrs": {
          "chunk_sizes": [
           180,
           360
          ],
          "coordinates": "latitude longitude",
          "data_type": "int32",
          "dimensions": [
           "latitude",
           "longitude"
          ],
          "file_chunk_sizes": [
           180,
           360
          ],
          "file_dimensions": [
           "latitude",
           "longitude"
          ],
          "fill_value": 0,
          "long_name": "number of retrieval pixels in grid cell",
          "orig_data_type": "int32",
          "shape": [
           180,
           360
          ],
          "size": 64800,
          "units": "1",
          "valid_range": [
           1,
           1000
          ]
         },
         "dims": [
          "time",
          "lat",
          "lon"
         ],
         "dtype": "int32",
         "name": "pixel_count"
        },
        "surface_reflectance1600_mean": {
         "attrs": {
          "chunk_sizes": [
           180,
           360
          ],
          "coordinates": "latitude longitude",
          "data_type": "float32",
          "dimensions": [
           "latitude",
           "longitude"
          ],
          "file_chunk_sizes": [
           180,
           360
          ],
          "file_dimensions": [
           "latitude",
           "longitude"
          ],
          "fill_value": -999,
          "long_name": "mean bidirectional surface reflectance (nadir)",
          "orig_data_type": "float32",
          "shape": [
           180,
           360
          ],
          "size": 64800,
          "units": "1",
          "valid_range": [
           0,
           1
          ]
         },
         "dims": [
          "time",
          "lat",
          "lon"
         ],
         "dtype": "float32",
         "name": "surface_reflectance1600_mean"
        },
        "surface_reflectance1600_sdev": {
         "attrs": {
          "chunk_sizes": [
           180,
           360
          ],
          "coordinates": "latitude longitude",
          "data_type": "float32",
          "dimensions": [
           "latitude",
           "longitude"
          ],
          "file_chunk_sizes": [
           180,
           360
          ],
          "file_dimensions": [
           "latitude",
           "longitude"
          ],
          "fill_value": -999,
          "long_name": "standard deviation mean bidirectional surface reflectance (nadir)",
          "orig_data_type": "float32",
          "shape": [
           180,
           360
          ],
          "size": 64800,
          "units": "1",
          "valid_range": [
           0,
           1
          ]
         },
         "dims": [
          "time",
          "lat",
          "lon"
         ],
         "dtype": "float32",
         "name": "surface_reflectance1600_sdev"
        },
        "surface_reflectance550_mean": {
         "attrs": {
          "chunk_sizes": [
           180,
           360
          ],
          "coordinates": "latitude longitude",
          "data_type": "float32",
          "dimensions": [
           "latitude",
           "longitude"
          ],
          "file_chunk_sizes": [
           180,
           360
          ],
          "file_dimensions": [
           "latitude",
           "longitude"
          ],
          "fill_value": -999,
          "long_name": "mean bidirectional surface reflectance (nadir)",
          "orig_data_type": "float32",
          "shape": [
           180,
           360
          ],
          "size": 64800,
          "units": "1",
          "valid_range": [
           0,
           1
          ]
         },
         "dims": [
          "time",
          "lat",
          "lon"
         ],
         "dtype": "float32",
         "name": "surface_reflectance550_mean"
        },
        "surface_reflectance550_sdev": {
         "attrs": {
          "chunk_sizes": [
           180,
           360
          ],
          "coordinates": "latitude longitude",
          "data_type": "float32",
          "dimensions": [
           "latitude",
           "longitude"
          ],
          "file_chunk_sizes": [
           180,
           360
          ],
          "file_dimensions": [
           "latitude",
           "longitude"
          ],
          "fill_value": -999,
          "long_name": "standard deviation mean bidirectional surface reflectance (nadir)",
          "orig_data_type": "float32",
          "shape": [
           180,
           360
          ],
          "size": 64800,
          "units": "1",
          "valid_range": [
           0,
           1
          ]
         },
         "dims": [
          "time",
          "lat",
          "lon"
         ],
         "dtype": "float32",
         "name": "surface_reflectance550_sdev"
        },
        "surface_reflectance670_mean": {
         "attrs": {
          "chunk_sizes": [
           180,
           360
          ],
          "coordinates": "latitude longitude",
          "data_type": "float32",
          "dimensions": [
           "latitude",
           "longitude"
          ],
          "file_chunk_sizes": [
           180,
           360
          ],
          "file_dimensions": [
           "latitude",
           "longitude"
          ],
          "fill_value": -999,
          "long_name": "mean bidirectional surface reflectance (nadir)",
          "orig_data_type": "float32",
          "shape": [
           180,
           360
          ],
          "size": 64800,
          "units": "1",
          "valid_range": [
           0,
           1
          ]
         },
         "dims": [
          "time",
          "lat",
          "lon"
         ],
         "dtype": "float32",
         "name": "surface_reflectance670_mean"
        },
        "surface_reflectance670_sdev": {
         "attrs": {
          "chunk_sizes": [
           180,
           360
          ],
          "coordinates": "latitude longitude",
          "data_type": "float32",
          "dimensions": [
           "latitude",
           "longitude"
          ],
          "file_chunk_sizes": [
           180,
           360
          ],
          "file_dimensions": [
           "latitude",
           "longitude"
          ],
          "fill_value": -999,
          "long_name": "standard deviation mean bidirectional surface reflectance (nadir)",
          "orig_data_type": "float32",
          "shape": [
           180,
           360
          ],
          "size": 64800,
          "units": "1",
          "valid_range": [
           0,
           1
          ]
         },
         "dims": [
          "time",
          "lat",
          "lon"
         ],
         "dtype": "float32",
         "name": "surface_reflectance670_sdev"
        },
        "surface_reflectance870_mean": {
         "attrs": {
          "chunk_sizes": [
           180,
           360
          ],
          "coordinates": "latitude longitude",
          "data_type": "float32",
          "dimensions": [
           "latitude",
           "longitude"
          ],
          "file_chunk_sizes": [
           180,
           360
          ],
          "file_dimensions": [
           "latitude",
           "longitude"
          ],
          "fill_value": -999,
          "long_name": "mean bidirectional surface reflectance (nadir)",
          "orig_data_type": "float32",
          "shape": [
           180,
           360
          ],
          "size": 64800,
          "units": "1",
          "valid_range": [
           0,
           1
          ]
         },
         "dims": [
          "time",
          "lat",
          "lon"
         ],
         "dtype": "float32",
         "name": "surface_reflectance870_mean"
        },
        "surface_reflectance870_sdev": {
         "attrs": {
          "chunk_sizes": [
           180,
           360
          ],
          "coordinates": "latitude longitude",
          "data_type": "float32",
          "dimensions": [
           "latitude",
           "longitude"
          ],
          "file_chunk_sizes": [
           180,
           360
          ],
          "file_dimensions": [
           "latitude",
           "longitude"
          ],
          "fill_value": -999,
          "long_name": "standard deviation mean bidirectional surface reflectance (nadir)",
          "orig_data_type": "float32",
          "shape": [
           180,
           360
          ],
          "size": 64800,
          "units": "1",
          "valid_range": [
           0,
           1
          ]
         },
         "dims": [
          "time",
          "lat",
          "lon"
         ],
         "dtype": "float32",
         "name": "surface_reflectance870_sdev"
        },
        "surface_type_number_mean": {
         "attrs": {
          "chunk_sizes": [
           180,
           360
          ],
          "coordinates": "latitude longitude",
          "data_type": "float32",
          "dimensions": [
           "latitude",
           "longitude"
          ],
          "file_chunk_sizes": [
           180,
           360
          ],
          "file_dimensions": [
           "latitude",
           "longitude"
          ],
          "fill_value": -999,
          "long_name": "mean land fraction",
          "orig_data_type": "float32",
          "shape": [
           180,
           360
          ],
          "size": 64800,
          "standard_name": "land_area_fraction",
          "units": "1",
          "valid_range": [
           0,
           1
          ]
         },
         "dims": [
          "time",
          "lat",
          "lon"
         ],
         "dtype": "float32",
         "name": "surface_type_number_mean"
        },
        "surface_type_number_sdev": {
         "attrs": {
          "chunk_sizes": [
           180,
           360
          ],
          "coordinates": "latitude longitude",
          "data_type": "float32",
          "dimensions": [
           "latitude",
           "longitude"
          ],
          "file_chunk_sizes": [
           180,
           360
          ],
          "file_dimensions": [
           "latitude",
           "longitude"
          ],
          "fill_value": -999,
          "long_name": "standard deviation mean land fraction",
          "orig_data_type": "float32",
          "shape": [
           180,
           360
          ],
          "size": 64800,
          "standard_name": "land_area_fraction",
          "units": "1",
          "valid_range": [
           0,
           1
          ]
         },
         "dims": [
          "time",
          "lat",
          "lon"
         ],
         "dtype": "float32",
         "name": "surface_type_number_sdev"
        }
       },
       "dims": {
        "bnds": 2,
        "lat": 180,
        "lon": 360,
        "time": 3528
       },
       "open_params_schema": {
        "additionalProperties": false,
        "properties": {
         "bbox": {
          "items": [
           {
            "maximum": 180,
            "minimum": -180,
            "type": "number"
           },
           {
            "maximum": 90,
            "minimum": -90,
            "type": "number"
           },
           {
            "maximum": 180,
            "minimum": -180,
            "type": "number"
           },
           {
            "maximum": 90,
            "minimum": -90,
            "type": "number"
           }
          ],
          "type": "array"
         },
         "normalize_data": {
          "default": true,
          "type": "boolean"
         },
         "time_range": {
          "items": [
           {
            "format": "date",
            "maxDate": "2012-04-08",
            "minDate": "2002-05-20",
            "type": "string"
           },
           {
            "format": "date",
            "maxDate": "2012-04-08",
            "minDate": "2002-05-20",
            "type": "string"
           }
          ],
          "type": "array"
         },
         "variable_names": {
          "items": {
           "enum": [
            "pixel_count",
            "AOD550_mean",
            "AOD550_sdev",
            "AOD670_mean",
            "AOD670_sdev",
            "AOD870_mean",
            "AOD870_sdev",
            "AOD1600_mean",
            "AOD1600_sdev",
            "ANG550_870_mean",
            "ANG550_870_sdev",
            "FM_AOD550_mean",
            "FM_AOD550_sdev",
            "D_AOD550_mean",
            "D_AOD550_sdev",
            "AAOD550_mean",
            "AAOD550_sdev",
            "SSA550_mean",
            "SSA550_sdev",
            "surface_reflectance550_mean",
            "surface_reflectance550_sdev",
            "surface_reflectance670_mean",
            "surface_reflectance670_sdev",
            "surface_reflectance870_mean",
            "surface_reflectance870_sdev",
            "surface_reflectance1600_mean",
            "surface_reflectance1600_sdev",
            "AOD550_uncertainty_mean",
            "AOD550_uncertainty_sdev",
            "AOD550_uncertainty",
            "AOD550_uncertainty_min",
            "AOD550_uncertainty_max",
            "AOD670_uncertainty_mean",
            "AOD670_uncertainty_sdev",
            "AOD670_uncertainty",
            "AOD670_uncertainty_min",
            "AOD670_uncertainty_max",
            "AOD870_uncertainty_mean",
            "AOD870_uncertainty_sdev",
            "AOD870_uncertainty",
            "AOD870_uncertainty_min",
            "AOD870_uncertainty_max",
            "AOD1600_uncertainty_mean",
            "AOD1600_uncertainty_sdev",
            "AOD1600_uncertainty",
            "AOD1600_uncertainty_min",
            "AOD1600_uncertainty_max",
            "cloud_fraction_mean",
            "cloud_fraction_sdev",
            "surface_type_number_mean",
            "surface_type_number_sdev"
           ],
           "type": "string"
          },
          "type": "array"
         }
        },
        "type": "object"
       },
       "spatial_res": 1,
       "time_period": "1D",
       "time_range": [
        "2002-05-20",
        "2012-04-08"
       ]
      },
      "text/plain": [
       "<xcube.core.store.descriptor.DatasetDescriptor at 0x7f949ab1f440>"
      ]
     },
     "execution_count": 4,
     "metadata": {},
     "output_type": "execute_result"
    }
   ],
   "source": [
    "cci_store.describe_data(data_id)"
   ]
  },
  {
   "cell_type": "markdown",
   "id": "c4fd984c-0028-418a-8d9f-37dae390c869",
   "metadata": {},
   "source": [
    "### Step 5: Check Open Parameters for the Dataset\n",
    "\n",
    "Before opening the dataset, we can inspect which parameters are supported by the **Zarr opener** (e.g., `time_range`, `bbox`, `variable_names`). This step helps ensure that we pass valid arguments when loading data and avoid errors.\n",
    "\n",
    "The command below lists all expected input parameters and their allowed values for the selected dataset."
   ]
  },
  {
   "cell_type": "code",
   "execution_count": 5,
   "id": "a0ee1118-47e2-47c4-9401-1bb069776fdc",
   "metadata": {},
   "outputs": [
    {
     "data": {
      "application/json": {
       "additionalProperties": false,
       "properties": {
        "bbox": {
         "items": [
          {
           "maximum": 180,
           "minimum": -180,
           "type": "number"
          },
          {
           "maximum": 90,
           "minimum": -90,
           "type": "number"
          },
          {
           "maximum": 180,
           "minimum": -180,
           "type": "number"
          },
          {
           "maximum": 90,
           "minimum": -90,
           "type": "number"
          }
         ],
         "type": "array"
        },
        "normalize_data": {
         "default": true,
         "type": "boolean"
        },
        "time_range": {
         "items": [
          {
           "format": "date",
           "maxDate": "2012-04-08",
           "minDate": "2002-05-20",
           "type": "string"
          },
          {
           "format": "date",
           "maxDate": "2012-04-08",
           "minDate": "2002-05-20",
           "type": "string"
          }
         ],
         "type": "array"
        },
        "variable_names": {
         "items": {
          "enum": [
           "pixel_count",
           "AOD550_mean",
           "AOD550_sdev",
           "AOD670_mean",
           "AOD670_sdev",
           "AOD870_mean",
           "AOD870_sdev",
           "AOD1600_mean",
           "AOD1600_sdev",
           "ANG550_870_mean",
           "ANG550_870_sdev",
           "FM_AOD550_mean",
           "FM_AOD550_sdev",
           "D_AOD550_mean",
           "D_AOD550_sdev",
           "AAOD550_mean",
           "AAOD550_sdev",
           "SSA550_mean",
           "SSA550_sdev",
           "surface_reflectance550_mean",
           "surface_reflectance550_sdev",
           "surface_reflectance670_mean",
           "surface_reflectance670_sdev",
           "surface_reflectance870_mean",
           "surface_reflectance870_sdev",
           "surface_reflectance1600_mean",
           "surface_reflectance1600_sdev",
           "AOD550_uncertainty_mean",
           "AOD550_uncertainty_sdev",
           "AOD550_uncertainty",
           "AOD550_uncertainty_min",
           "AOD550_uncertainty_max",
           "AOD670_uncertainty_mean",
           "AOD670_uncertainty_sdev",
           "AOD670_uncertainty",
           "AOD670_uncertainty_min",
           "AOD670_uncertainty_max",
           "AOD870_uncertainty_mean",
           "AOD870_uncertainty_sdev",
           "AOD870_uncertainty",
           "AOD870_uncertainty_min",
           "AOD870_uncertainty_max",
           "AOD1600_uncertainty_mean",
           "AOD1600_uncertainty_sdev",
           "AOD1600_uncertainty",
           "AOD1600_uncertainty_min",
           "AOD1600_uncertainty_max",
           "cloud_fraction_mean",
           "cloud_fraction_sdev",
           "surface_type_number_mean",
           "surface_type_number_sdev"
          ],
          "type": "string"
         },
         "type": "array"
        }
       },
       "type": "object"
      },
      "text/plain": [
       "<xcube.util.jsonschema.JsonObjectSchema at 0x7f949ab03fb0>"
      ]
     },
     "execution_count": 5,
     "metadata": {},
     "output_type": "execute_result"
    }
   ],
   "source": [
    "cci_store.get_open_data_params_schema(data_id=data_id, opener_id='dataset:zarr:cciodp')"
   ]
  },
  {
   "cell_type": "markdown",
   "id": "63e58869-eac7-4f36-823c-8eaab9df7380",
   "metadata": {},
   "source": [
    "### Step 6: Define Region, Time Range, and Variables of Interest\n",
    "\n",
    "Before opening the dataset, we define a few key parameters:\n",
    "\n",
    "- **Time range**: the date(s) we want to load\n",
    "- **Variables**: which data variable(s) to retrieve\n",
    "- *(Optional)* **Bounding box**: spatial region of interest — here we skip it to load the global dataset"
   ]
  },
  {
   "cell_type": "code",
   "execution_count": 6,
   "id": "8a2be689-288c-4fb5-abe9-99b4b84eef07",
   "metadata": {},
   "outputs": [],
   "source": [
    "variables = ['AOD550_mean']  # Variable to retrieve\n",
    "start_date = '2011-06-21'    # Start and end date (same for a single timestep)\n",
    "end_date = '2011-06-21'\n",
    "# bbox = (-10.0, 35.0, 30.0, 60.0)  # Optional: restrict to a region like Europe"
   ]
  },
  {
   "cell_type": "markdown",
   "id": "14f9e524-ff7f-47e7-af2c-0e8ac2e3d668",
   "metadata": {},
   "source": [
    "### Step 7: Open the Dataset\n",
    "\n",
    "Now we open the dataset using the selected parameters.  \n",
    "The ESA Climate Toolbox will download only the necessary data (e.g., variable and time range).\n",
    "You can always adjust the time range or variables to explore different slices of the dataset."
   ]
  },
  {
   "cell_type": "code",
   "execution_count": 7,
   "id": "145b10bc-68b4-4645-a4a8-761965cb6098",
   "metadata": {},
   "outputs": [],
   "source": [
    "aerosol_ds = cci_store.open_data(\n",
    "    data_id=data_id,\n",
    "    variable_names=variables,\n",
    "    time_range=[start_date, end_date]\n",
    "    # bbox=bbox  # Uncomment if regional selection is needed\n",
    ")"
   ]
  },
  {
   "cell_type": "markdown",
   "id": "26aeedd6-d471-4056-ae4e-3057d7221cc3",
   "metadata": {},
   "source": [
    "### Step 8: Display Dataset Structure\n",
    "\n",
    "We print a summary of the opened dataset to inspect its structure, dimensions, variables, and metadata.  \n",
    "This helps verify that the data was loaded correctly and shows what is available for analysis and visualization.\n",
    "This step is useful to understand what the dataset contains before working with it further."
   ]
  },
  {
   "cell_type": "code",
   "execution_count": 8,
   "id": "192daaeb-241a-4fba-956f-3e7ac8cb04b5",
   "metadata": {},
   "outputs": [
    {
     "name": "stdout",
     "output_type": "stream",
     "text": [
      "\n",
      "Opened Dataset:\n",
      " <xarray.Dataset> Size: 261kB\n",
      "Dimensions:      (time: 1, lat: 180, lon: 360, bnds: 2)\n",
      "Coordinates:\n",
      "  * lat          (lat) float32 720B -89.5 -88.5 -87.5 -86.5 ... 87.5 88.5 89.5\n",
      "  * lon          (lon) float32 1kB -179.5 -178.5 -177.5 ... 177.5 178.5 179.5\n",
      "  * time         (time) datetime64[ns] 8B 2011-06-21T12:00:00\n",
      "    time_bnds    (time, bnds) datetime64[ns] 16B dask.array<chunksize=(1, 2), meta=np.ndarray>\n",
      "Dimensions without coordinates: bnds\n",
      "Data variables:\n",
      "    AOD550_mean  (time, lat, lon) float32 259kB dask.array<chunksize=(1, 180, 360), meta=np.ndarray>\n",
      "Attributes:\n",
      "    Conventions:             CF-1.7\n",
      "    title:                   esacci.AEROSOL.day.L3C.AER_PRODUCTS.AATSR.Envisa...\n",
      "    date_created:            2025-04-16T11:04:51.014622\n",
      "    processing_level:        L3C\n",
      "    time_coverage_start:     2011-06-21T00:00:00\n",
      "    time_coverage_end:       2011-06-22T00:00:00\n",
      "    time_coverage_duration:  P1DT0H0M0S\n",
      "    history:                 [{'program': 'xcube_cci.chunkstore.CciChunkStore...\n"
     ]
    }
   ],
   "source": [
    "print(\"\\nOpened Dataset:\\n\", aerosol_ds)"
   ]
  },
  {
   "cell_type": "markdown",
   "id": "7671aca3-81d9-472a-a93f-12d447155676",
   "metadata": {},
   "source": [
    "### Step 9: Visualize Results\n",
    "\n",
    "We now create a simple map plot of the selected variable.  \n",
    "This allows us to explore the spatial patterns of the data — in this case, the Aerosol Optical Depth (AOD) for the selected day.\n",
    "For more interactive and advanced visualizations, check out the [ESA Climate Toolbox](https://climate.esa.int/en/data/toolbox/) or the [Toolbox documentation](https://esa-climate-toolbox.readthedocs.io/en/latest/quick_start.html#jupyter-notebooks)."
   ]
  },
  {
   "cell_type": "code",
   "execution_count": 9,
   "id": "65ec997b-a0e8-40d7-8aa9-737a3ac2ec0d",
   "metadata": {
    "scrolled": true
   },
   "outputs": [
    {
     "data": {
      "image/png": "[encoded data removed]",
      "text/plain": [
       "<Figure size 1000x500 with 2 Axes>"
      ]
     },
     "metadata": {},
     "output_type": "display_data"
    }
   ],
   "source": [
    "import matplotlib.pyplot as plt\n",
    "\n",
    "# Select the variable and the first (and only) time step\n",
    "aod = aerosol_ds[\"AOD550_mean\"].isel(time=0)\n",
    "\n",
    "# Plot the data using xarray’s built-in .plot() with global map layout\n",
    "plt.figure(figsize=(10, 5))\n",
    "aod.plot(\n",
    "    cmap=\"viridis\",\n",
    "    robust=True,\n",
    "    cbar_kwargs={\"label\": \"Aerosol Optical Depth (550nm)\"}\n",
    ")\n",
    "plt.title(\"Global AOD at 550nm on 21 June 2011\")\n",
    "plt.xlabel(\"Longitude\")\n",
    "plt.ylabel(\"Latitude\")\n",
    "plt.show()"
   ]
  }
 ],
 "metadata": {
  "kernelspec": {
   "display_name": "Python 3 (ipykernel)",
   "language": "python",
   "name": "python3"
  },
  "language_info": {
   "codemirror_mode": {
    "name": "ipython",
    "version": 3
   },
   "file_extension": ".py",
   "mimetype": "text/x-python",
   "name": "python",
   "nbconvert_exporter": "python",
   "pygments_lexer": "ipython3",
   "version": "3.12.7"
  }
 },
 "nbformat": 4,
 "nbformat_minor": 5
}
