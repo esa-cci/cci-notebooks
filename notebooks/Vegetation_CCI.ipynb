{
 "cells": [
  {
   "cell_type": "markdown",
   "id": "ab36065c-42b2-4539-94b5-c1e048a0e8b4",
   "metadata": {},
   "source": [
    "# Getting Started with Vegetation CCI Data"
   ]
  },
  {
   "cell_type": "markdown",
   "id": "7820f8bc-21f0-4933-8972-0b19f268532e",
   "metadata": {},
   "source": [
    "### 1. Import Necessary Packages\n",
    "\n",
    "In this section, we import the required Python packages to work with ESA Climate Change Initiative (CCI) data. Most notably, we use the [ESA Climate Toolbox](https://esa-climate-toolbox.readthedocs.io/en/latest/) which simplifies access, manipulation, and visualization of CCI datasets in Python.\n",
    "\n",
    "These packages allow us to:\n",
    "- Access satellite-based climate data records from ESA.\n",
    "- Handle geospatial and temporal dimensions efficiently.\n",
    "- Visualize data with intuitive plotting tools.\n",
    "\n",
    "📚 For a broader introduction to the toolbox and how to install it, visit:  \n",
    "🔗 [ESA CCI Climate Toolbox Quick Start](https://esa-climate-toolbox.readthedocs.io/en/latest/quick_start.html#jupyter-notebooks)  \n",
    "🔗 [ESA Climate Data Toolbox Website](https://climate.esa.int/en/data/toolbox/)"
   ]
  },
  {
   "cell_type": "code",
   "execution_count": 1,
   "id": "f05b0d63-ff02-41f8-9070-f0d9c44d9a3c",
   "metadata": {},
   "outputs": [],
   "source": [
    "from xcube.core.store import new_data_store\n",
    "from esa_climate_toolbox.core import get_op\n",
    "from esa_climate_toolbox.core import list_ecv_datasets\n",
    "from esa_climate_toolbox.core import get_store\n",
    "from esa_climate_toolbox.core import list_datasets\n",
    "from esa_climate_toolbox.ops import plot\n",
    "import xarray as xr\n",
    "import matplotlib.pyplot as plt\n",
    "import warnings\n",
    "%matplotlib inline"
   ]
  },
  {
   "cell_type": "markdown",
   "id": "a2f223ea-569a-4c84-8266-8572f861f3ed",
   "metadata": {},
   "source": [
    "### Step 2: Connect to the ESA CCI Data Store\n",
    "\n",
    "The ESA Climate Toolbox provides direct access to the **ESA Climate Data Store**, which hosts harmonized satellite-based climate data records produced under the **ESA Climate Change Initiative (CCI)**.\n",
    "\n",
    "In this step, we establish a connection to the data store so we can browse and open datasets. This connection allows us to access data **without having to download files manually** — a convenient way to explore and analyze large geospatial datasets in cloud-friendly formats such as **Zarr** or **Kerchunk**.\n",
    "\n",
    "The data store includes a wide range of essential climate variables (ECVs), such as aerosols, land surface temperature, sea level, and soil moisture.\n",
    "\n",
    "📘 Learn more about available datasets:  \n",
    "🔗 [ESA Climate Data Toolbox – Quick Start Guide](https://esa-climate-toolbox.readthedocs.io/en/latest/quick_start.html#data-access)"
   ]
  },
  {
   "cell_type": "code",
   "execution_count": 2,
   "id": "94164c99-2ef2-48d7-b098-6e136ee861af",
   "metadata": {},
   "outputs": [],
   "source": [
    "cci_store = new_data_store(\"esa-cci\")\n",
    "# List all available data sets of an ECV\n",
    "# list_ecv_datasets(\"vegetation\")"
   ]
  },
  {
   "cell_type": "markdown",
   "id": "d736f1da-a755-4df7-864a-5f14f988159f",
   "metadata": {},
   "source": [
    "### Step 3: Define the Dataset ID  \n",
    "To work with a specific ESA CCI dataset, we need to specify its **dataset ID**. This unique identifier tells the toolbox which variable and product we want to access.\n",
    "\n",
    "In this example, we are using a dataset providing **Leaf Area Index (LAI)** from the **Vegetation CCI** project. LAI is a key biophysical variable that describes vegetation density and plays a crucial role in land surface processes, including evapotranspiration, photosynthesis, and energy exchange.\n",
    "\n",
    "To explore other ESA CCI projects (e.g., Soil Moisture, Ocean Colour, Snow), simply replace the dataset ID and variable name accordingly.\n",
    "\n",
    "We will use the following dataset ID:"
   ]
  },
  {
   "cell_type": "code",
   "execution_count": 3,
   "id": "7672a7f4-be9a-4b8f-a888-93d31647d5b4",
   "metadata": {},
   "outputs": [],
   "source": [
    "data_id = 'esacci.VEGETATION.5-days.L3S.VP_PRODUCTS.VEGETATION.multi-platform.MERGED.v1-0.r1'"
   ]
  },
  {
   "cell_type": "markdown",
   "id": "817922fd-a86b-4cee-ab9b-5a042692be42",
   "metadata": {},
   "source": [
    "📘 A full list of dataset IDs can be retrieved from the store or found in the [ESA CCI Climate Toolbox documentation](https://esa-climate-toolbox.readthedocs.io/en/latest/quick_start.html#accessing-data)."
   ]
  },
  {
   "cell_type": "markdown",
   "id": "b1e9d068-a81b-4d00-91cb-cc020bd5333a",
   "metadata": {},
   "source": [
    "### Step 4: Describe Dataset (Check Available Variables and Metadata)\n",
    "\n",
    "Before loading the full dataset, it’s helpful to **inspect the metadata** to understand its structure. This includes:\n",
    "\n",
    "- Available variables (e.g., AOD, uncertainty estimates)\n",
    "- Temporal and spatial coverage\n",
    "- Data format and structure\n",
    "\n",
    "This step ensures we know what the dataset contains and how to work with it. It also helps confirm that the variable we want to plot or analyze is actually included.\n",
    "\n",
    "🛠️ Tip: You can use the description to verify variable names, dimensions (e.g., `lat`, `lon`, `time`), and time coverage.\n",
    "\n",
    "📘 More on dataset structure:  \n",
    "🔗 [ESA Climate Toolbox – Data Access](https://esa-climate-toolbox.readthedocs.io/en/latest/quick_start.html#accessing-data)"
   ]
  },
  {
   "cell_type": "code",
   "execution_count": 5,
   "id": "1ccb7546-70f0-479d-bb0a-d902190500af",
   "metadata": {},
   "outputs": [
    {
     "data": {
      "application/json": {
       "attrs": {
        "abstract": "Climate Research Data Package 1 from the ESA Climate Change Initiative Vegetation Parameters Project (Vegetation_parameters_cci). The dataset consists of Leaf Area Index (LAI) and fraction of Absorbed Photosynthetically Active Radiation (fAPAR) gridded at 1 km resolution for the period 2000-2020. The dataset is based on data from SPOT4/5-VEGETATION1/2 and PROBA-V as input data.\n\nLAI and fAPAR are retrieved using OptiSAIL (see Blessing and Giering, 2021 doi:10.20944/preprints202109.0147.v1). The dataset is processed for a north-south transect from Finland to South-Africa, as well as for a set of globally distributed sites that is representative for all biomes and for those sites where in-situ reference data is available.\n\nThe temporal resolution of both datasets is 5 days, but is computed using data selected from a symmetric 10-days window. The data are not smoothed in time. The transect is ordered in tiles following the PROBA-V tiling definition. These files contain the fully validated layers of (effective) LAI, fAPAR, their uncertainties and the correlation between both. The sites additionally include the variables Chlorophyll a+b leaf pigment concentration (Cab), the fraction of Chlorophyll Absorbed Photosynthetically Active Radiation (fAPAR_Cab) and Surface Albedo calculated as bi-hemispheric reflectance (BHR) for diffuse illumination with a reference spectrum for spectral broadband intervals visible wavelengths (VIS, 400-700 nm), near-infrared wavelengths (NIR, 700-2500 nm), and for the combined shortwave range (SW, 400-2500 nm), as well as directional-hemispherical reflectance (DHR) for the same spectral broadbands, computed for local solar noon. These additional variables are not validated.\n\nFurther details about the data, including validation and intercomparison with similar datasets, can be found in the PDF documentation.",
        "catalog_url": "https://catalogue.ceda.ac.uk/uuid/34e4bfe402c048c783e64eac0f0bca37",
        "cci_project": "VEGETATION",
        "comment": "site name = AGUASCALIENTES, site id = 3, site network = b'LANDVAL V1.1'",
        "data_type": "VP_PRODUCTS",
        "ecv": "VEGETATION",
        "history": "2023-08-30 02:20:40 - Product generated by OptiSAIL r37088M\n2023-09-30 00:58:02 - Combined timeseries using 'cdo -O mergetime'\n2023-09-30 00:58:14 - Final product packaging by cciv_packager.py 1.0",
        "institute": "VITO",
        "platform_id": "multi-platform",
        "processing_level": "L3S",
        "product_string": "MERGED",
        "product_version": "v1-0",
        "project": "Climate Change Initiative - European Space Agency",
        "publication_date": "2023-12-18T16:26:50",
        "references": "ATBD: https://climate.esa.int/documents/1953/VP-CCI_D2.1_ATBD_V1.1.pdf",
        "sensor_id": "VEGETATION",
        "source": "SPOT-VEGETATION and PROBA-V Top-of-Canopy reflectance and uncertainty intermediate data from C3S_312b_Lot5 contract. Description available in https://datastore.copernicus-climate.eu/documents/satellite-albedo/D1.3.4-v2.0_ATBD_CDR_SA_MULTI_SENSOR_v2.0_PRODUCTS_v1.1.pdf",
        "title": "ESA Vegetation Parameters Climate Change Initiative (Vegetation_Parameters_cci): LAI and fAPAR, Version 1.0",
        "uuid": "34e4bfe402c048c783e64eac0f0bca37"
       },
       "bbox": [
        -180,
        -57,
        180,
        75
       ],
       "coords": {
        "lat": {
         "attrs": {
          "axis": "Y",
          "bounds": "lat_bnds",
          "chunk_sizes": [
           3
          ],
          "data_type": "float32",
          "dimensions": [
           "lat"
          ],
          "file_chunk_sizes": [
           3
          ],
          "file_dimensions": [
           "lat"
          ],
          "fill_value": null,
          "long_name": "latitude",
          "orig_data_type": "float32",
          "shape": [
           3
          ],
          "size": 3,
          "standard_name": "latitude",
          "units": "degrees_north"
         },
         "dims": [
          "lat"
         ],
         "dtype": "float32",
         "name": "lat"
        },
        "lat_bnds": {
         "attrs": {
          "chunk_sizes": [
           3,
           2
          ],
          "data_type": "float32",
          "dimensions": [
           "lat",
           "nbnds"
          ],
          "file_chunk_sizes": [
           3,
           2
          ],
          "file_dimensions": [
           "lat",
           "nbnds"
          ],
          "fill_value": null,
          "orig_data_type": "float32",
          "shape": [
           3,
           2
          ],
          "size": 6
         },
         "dims": [
          "lat",
          "nbnds"
         ],
         "dtype": "float32",
         "name": "lat_bnds"
        },
        "lon": {
         "attrs": {
          "axis": "X",
          "bounds": "lon_bnds",
          "chunk_sizes": [
           3
          ],
          "data_type": "float32",
          "dimensions": [
           "lon"
          ],
          "file_chunk_sizes": [
           3
          ],
          "file_dimensions": [
           "lon"
          ],
          "fill_value": null,
          "long_name": "longitude",
          "orig_data_type": "float32",
          "shape": [
           3
          ],
          "size": 3,
          "standard_name": "longitude",
          "units": "degrees_east"
         },
         "dims": [
          "lon"
         ],
         "dtype": "float32",
         "name": "lon"
        },
        "lon_bnds": {
         "attrs": {
          "chunk_sizes": [
           3,
           2
          ],
          "data_type": "float32",
          "dimensions": [
           "lon",
           "nbnds"
          ],
          "file_chunk_sizes": [
           3,
           2
          ],
          "file_dimensions": [
           "lon",
           "nbnds"
          ],
          "fill_value": null,
          "orig_data_type": "float32",
          "shape": [
           3,
           2
          ],
          "size": 6
         },
         "dims": [
          "lon",
          "nbnds"
         ],
         "dtype": "float32",
         "name": "lon_bnds"
        },
        "time": {
         "attrs": {
          "axis": "T",
          "bounds": "time_bnds",
          "calendar": "proleptic_gregorian",
          "chunk_sizes": 74,
          "data_type": "float64",
          "dimensions": [
           "time"
          ],
          "file_chunk_sizes": 74,
          "file_dimensions": [
           "time"
          ],
          "fill_value": null,
          "orig_data_type": "float64",
          "shape": [
           640618
          ],
          "size": 640618,
          "standard_name": "time",
          "units": "days since 1970-01-01T00:00:00Z"
         },
         "dims": [
          "time"
         ],
         "dtype": "float64",
         "name": "time"
        },
        "time_bnds": {
         "attrs": {
          "chunk_sizes": [
           1,
           2
          ],
          "data_type": "float64",
          "dimensions": [
           "time",
           "nbnds"
          ],
          "file_chunk_sizes": [
           1,
           2
          ],
          "file_dimensions": [
           "time",
           "nbnds"
          ],
          "fill_value": null,
          "orig_data_type": "float64",
          "shape": [
           640618,
           2
          ],
          "size": 1281236
         },
         "dims": [
          "time",
          "nbnds"
         ],
         "dtype": "float64",
         "name": "time_bnds"
        }
       },
       "crs": "latitude_longitude",
       "data_id": "esacci.VEGETATION.5-days.L3S.VP_PRODUCTS.VEGETATION.multi-platform.MERGED.v1-0.r1",
       "data_type": "dataset",
       "data_vars": {
        "BHR_NIR": {
         "attrs": {
          "add_offset": 0.5,
          "ancillary_roles": "uncertainty, quality of the retrieval, quality of model fit, standard error correlation with LAI, standard error correlation with fAPAR,  standard error correlation with fAPAR_Cab, standard error correlation with Cab, standard error correlation with BHR_VIS, standard error correlation with BHR_SW, standard error correlation with DHR_VIS, standard error correlation with DHR_NIR, standard error correlation with DHR_SW",
          "ancillary_variables": "BHR_NIR_ERR invcode p_chisquare LAI_BHR_NIR_correl fAPAR_BHR_NIR_correl fAPAR_Cab_BHR_NIR_correl Cab_BHR_NIR_correl BHR_VIS_BHR_NIR_correl BHR_NIR_BHR_SW_correl BHR_NIR_DHR_VIS_correl BHR_NIR_DHR_NIR_correl BHR_NIR_DHR_SW_correl",
          "chunk_sizes": [
           1,
           3,
           3
          ],
          "data_type": "int16",
          "dimensions": [
           "time",
           "lat",
           "lon"
          ],
          "file_chunk_sizes": [
           1,
           3,
           3
          ],
          "file_dimensions": [
           "time",
           "lat",
           "lon"
          ],
          "fill_value": -32768,
          "grid_mapping": "crs",
          "long_name": "bi-hemispherical reflectance (albedo) in the near infra-red range",
          "missing_value": -32768,
          "orig_data_type": "int16",
          "scale_factor": 1.5259255e-05,
          "shape": [
           640618,
           3,
           3
          ],
          "size": 5765562,
          "units": "1",
          "valid_max": 32767,
          "valid_min": -32767
         },
         "dims": [
          "time",
          "lat",
          "lon"
         ],
         "dtype": "int16",
         "name": "BHR_NIR"
        },
        "BHR_NIR_BHR_SW_correl": {
         "attrs": {
          "_Unsigned": "false",
          "add_offset": 0,
          "chunk_sizes": [
           1,
           3,
           3
          ],
          "data_type": "uint8",
          "dimensions": [
           "time",
           "lat",
           "lon"
          ],
          "file_chunk_sizes": [
           1,
           3,
           3
          ],
          "file_dimensions": [
           "time",
           "lat",
           "lon"
          ],
          "fill_value": 128,
          "grid_mapping": "crs",
          "long_name": "BHR_NIR BHR_SW standard_error_correlation",
          "missing_value": -128,
          "orig_data_type": "uint8",
          "scale_factor": 0.007874016,
          "shape": [
           640618,
           3,
           3
          ],
          "size": 5765562,
          "units": "1",
          "valid_max": 127,
          "valid_min": -127
         },
         "dims": [
          "time",
          "lat",
          "lon"
         ],
         "dtype": "uint8",
         "name": "BHR_NIR_BHR_SW_correl"
        },
        "BHR_NIR_DHR_NIR_correl": {
         "attrs": {
          "_Unsigned": "false",
          "add_offset": 0,
          "chunk_sizes": [
           1,
           3,
           3
          ],
          "data_type": "uint8",
          "dimensions": [
           "time",
           "lat",
           "lon"
          ],
          "file_chunk_sizes": [
           1,
           3,
           3
          ],
          "file_dimensions": [
           "time",
           "lat",
           "lon"
          ],
          "fill_value": 128,
          "grid_mapping": "crs",
          "long_name": "BHR_NIR DHR_NIR standard_error_correlation",
          "missing_value": -128,
          "orig_data_type": "uint8",
          "scale_factor": 0.007874016,
          "shape": [
           640618,
           3,
           3
          ],
          "size": 5765562,
          "units": "1",
          "valid_max": 127,
          "valid_min": -127
         },
         "dims": [
          "time",
          "lat",
          "lon"
         ],
         "dtype": "uint8",
         "name": "BHR_NIR_DHR_NIR_correl"
        },
        "BHR_NIR_DHR_SW_correl": {
         "attrs": {
          "_Unsigned": "false",
          "add_offset": 0,
          "chunk_sizes": [
           1,
           3,
           3
          ],
          "data_type": "uint8",
          "dimensions": [
           "time",
           "lat",
           "lon"
          ],
          "file_chunk_sizes": [
           1,
           3,
           3
          ],
          "file_dimensions": [
           "time",
           "lat",
           "lon"
          ],
          "fill_value": 128,
          "grid_mapping": "crs",
          "long_name": "BHR_NIR DHR_SW standard_error_correlation",
          "missing_value": -128,
          "orig_data_type": "uint8",
          "scale_factor": 0.007874016,
          "shape": [
           640618,
           3,
           3
          ],
          "size": 5765562,
          "units": "1",
          "valid_max": 127,
          "valid_min": -127
         },
         "dims": [
          "time",
          "lat",
          "lon"
         ],
         "dtype": "uint8",
         "name": "BHR_NIR_DHR_SW_correl"
        },
        "BHR_NIR_DHR_VIS_correl": {
         "attrs": {
          "_Unsigned": "false",
          "add_offset": 0,
          "chunk_sizes": [
           1,
           3,
           3
          ],
          "data_type": "uint8",
          "dimensions": [
           "time",
           "lat",
           "lon"
          ],
          "file_chunk_sizes": [
           1,
           3,
           3
          ],
          "file_dimensions": [
           "time",
           "lat",
           "lon"
          ],
          "fill_value": 128,
          "grid_mapping": "crs",
          "long_name": "BHR_NIR DHR_VIS standard_error_correlation",
          "missing_value": -128,
          "orig_data_type": "uint8",
          "scale_factor": 0.007874016,
          "shape": [
           640618,
           3,
           3
          ],
          "size": 5765562,
          "units": "1",
          "valid_max": 127,
          "valid_min": -127
         },
         "dims": [
          "time",
          "lat",
          "lon"
         ],
         "dtype": "uint8",
         "name": "BHR_NIR_DHR_VIS_correl"
        },
        "BHR_NIR_ERR": {
         "attrs": {
          "add_offset": 1,
          "chunk_sizes": [
           1,
           3,
           3
          ],
          "data_type": "int16",
          "dimensions": [
           "time",
           "lat",
           "lon"
          ],
          "file_chunk_sizes": [
           1,
           3,
           3
          ],
          "file_dimensions": [
           "time",
           "lat",
           "lon"
          ],
          "fill_value": -32768,
          "grid_mapping": "crs",
          "long_name": "BHR_NIR standard_error",
          "missing_value": -32768,
          "orig_data_type": "int16",
          "scale_factor": 3.051851e-05,
          "shape": [
           640618,
           3,
           3
          ],
          "size": 5765562,
          "units": "1",
          "valid_max": 32767,
          "valid_min": -32767
         },
         "dims": [
          "time",
          "lat",
          "lon"
         ],
         "dtype": "int16",
         "name": "BHR_NIR_ERR"
        },
        "BHR_SW": {
         "attrs": {
          "add_offset": 0.5,
          "ancillary_roles": "uncertainty, quality of the retrieval, quality of model fit, standard error correlation with LAI, standard error correlation with fAPAR,  standard error correlation with fAPAR_Cab, standard error correlation with Cab, standard error correlation with BHR_VIS, standard error correlation with BHR_NIR, standard error correlation with DHR_VIS, standard error correlation with DHR_NIR, standard error correlation with DHR_SW",
          "ancillary_variables": "BHR_SW_ERR invcode p_chisquare LAI_BHR_SW_correl fAPAR_BHR_SW_correl fAPAR_Cab_BHR_SW_correl Cab_BHR_SW_correl BHR_VIS_BHR_SW_correl BHR_NIR_BHR_SW_correl BHR_SW_DHR_VIS_correl BHR_SW_DHR_NIR_correl BHR_SW_DHR_SW_correl",
          "chunk_sizes": [
           1,
           3,
           3
          ],
          "data_type": "int16",
          "dimensions": [
           "time",
           "lat",
           "lon"
          ],
          "file_chunk_sizes": [
           1,
           3,
           3
          ],
          "file_dimensions": [
           "time",
           "lat",
           "lon"
          ],
          "fill_value": -32768,
          "grid_mapping": "crs",
          "long_name": "bi-hemispherical reflectance (albedo) in the shortwave range",
          "missing_value": -32768,
          "orig_data_type": "int16",
          "scale_factor": 1.5259255e-05,
          "shape": [
           640618,
           3,
           3
          ],
          "size": 5765562,
          "units": "1",
          "valid_max": 32767,
          "valid_min": -32767
         },
         "dims": [
          "time",
          "lat",
          "lon"
         ],
         "dtype": "int16",
         "name": "BHR_SW"
        },
        "BHR_SW_DHR_NIR_correl": {
         "attrs": {
          "_Unsigned": "false",
          "add_offset": 0,
          "chunk_sizes": [
           1,
           3,
           3
          ],
          "data_type": "uint8",
          "dimensions": [
           "time",
           "lat",
           "lon"
          ],
          "file_chunk_sizes": [
           1,
           3,
           3
          ],
          "file_dimensions": [
           "time",
           "lat",
           "lon"
          ],
          "fill_value": 128,
          "grid_mapping": "crs",
          "long_name": "BHR_SW DHR_NIR standard_error_correlation",
          "missing_value": -128,
          "orig_data_type": "uint8",
          "scale_factor": 0.007874016,
          "shape": [
           640618,
           3,
           3
          ],
          "size": 5765562,
          "units": "1",
          "valid_max": 127,
          "valid_min": -127
         },
         "dims": [
          "time",
          "lat",
          "lon"
         ],
         "dtype": "uint8",
         "name": "BHR_SW_DHR_NIR_correl"
        },
        "BHR_SW_DHR_SW_correl": {
         "attrs": {
          "_Unsigned": "false",
          "add_offset": 0,
          "chunk_sizes": [
           1,
           3,
           3
          ],
          "data_type": "uint8",
          "dimensions": [
           "time",
           "lat",
           "lon"
          ],
          "file_chunk_sizes": [
           1,
           3,
           3
          ],
          "file_dimensions": [
           "time",
           "lat",
           "lon"
          ],
          "fill_value": 128,
          "grid_mapping": "crs",
          "long_name": "BHR_SW DHR_SW standard_error_correlation",
          "missing_value": -128,
          "orig_data_type": "uint8",
          "scale_factor": 0.007874016,
          "shape": [
           640618,
           3,
           3
          ],
          "size": 5765562,
          "units": "1",
          "valid_max": 127,
          "valid_min": -127
         },
         "dims": [
          "time",
          "lat",
          "lon"
         ],
         "dtype": "uint8",
         "name": "BHR_SW_DHR_SW_correl"
        },
        "BHR_SW_DHR_VIS_correl": {
         "attrs": {
          "_Unsigned": "false",
          "add_offset": 0,
          "chunk_sizes": [
           1,
           3,
           3
          ],
          "data_type": "uint8",
          "dimensions": [
           "time",
           "lat",
           "lon"
          ],
          "file_chunk_sizes": [
           1,
           3,
           3
          ],
          "file_dimensions": [
           "time",
           "lat",
           "lon"
          ],
          "fill_value": 128,
          "grid_mapping": "crs",
          "long_name": "BHR_SW DHR_VIS standard_error_correlation",
          "missing_value": -128,
          "orig_data_type": "uint8",
          "scale_factor": 0.007874016,
          "shape": [
           640618,
           3,
           3
          ],
          "size": 5765562,
          "units": "1",
          "valid_max": 127,
          "valid_min": -127
         },
         "dims": [
          "time",
          "lat",
          "lon"
         ],
         "dtype": "uint8",
         "name": "BHR_SW_DHR_VIS_correl"
        },
        "BHR_SW_ERR": {
         "attrs": {
          "add_offset": 1,
          "chunk_sizes": [
           1,
           3,
           3
          ],
          "data_type": "int16",
          "dimensions": [
           "time",
           "lat",
           "lon"
          ],
          "file_chunk_sizes": [
           1,
           3,
           3
          ],
          "file_dimensions": [
           "time",
           "lat",
           "lon"
          ],
          "fill_value": -32768,
          "grid_mapping": "crs",
          "long_name": "BHR_SW standard_error",
          "missing_value": -32768,
          "orig_data_type": "int16",
          "scale_factor": 3.051851e-05,
          "shape": [
           640618,
           3,
           3
          ],
          "size": 5765562,
          "units": "1",
          "valid_max": 32767,
          "valid_min": -32767
         },
         "dims": [
          "time",
          "lat",
          "lon"
         ],
         "dtype": "int16",
         "name": "BHR_SW_ERR"
        },
        "BHR_VIS": {
         "attrs": {
          "add_offset": 0.5,
          "ancillary_roles": "uncertainty, quality of the retrieval, quality of model fit, standard error correlation with LAI, standard error correlation with fAPAR,  standard error correlation with fAPAR_Cab, standard error correlation with Cab, standard error correlation with BHR_NIR, standard error correlation with BHR_SW, standard error correlation with DHR_VIS, standard error correlation with DHR_NIR, standard error correlation with DHR_SW",
          "ancillary_variables": "BHR_VIS_ERR invcode p_chisquare LAI_BHR_VIS_correl fAPAR_BHR_VIS_correl fAPAR_Cab_BHR_VIS_correl Cab_BHR_VIS_correl BHR_VIS_BHR_NIR_correl BHR_VIS_BHR_SW_correl BHR_VIS_DHR_VIS_correl BHR_VIS_DHR_NIR_correl BHR_VIS_DHR_SW_correl",
          "chunk_sizes": [
           1,
           3,
           3
          ],
          "data_type": "int16",
          "dimensions": [
           "time",
           "lat",
           "lon"
          ],
          "file_chunk_sizes": [
           1,
           3,
           3
          ],
          "file_dimensions": [
           "time",
           "lat",
           "lon"
          ],
          "fill_value": -32768,
          "grid_mapping": "crs",
          "long_name": "bi-hemispherical reflectance (albedo) in the visible range",
          "missing_value": -32768,
          "orig_data_type": "int16",
          "scale_factor": 1.5259255e-05,
          "shape": [
           640618,
           3,
           3
          ],
          "size": 5765562,
          "units": "1",
          "valid_max": 32767,
          "valid_min": -32767
         },
         "dims": [
          "time",
          "lat",
          "lon"
         ],
         "dtype": "int16",
         "name": "BHR_VIS"
        },
        "BHR_VIS_BHR_NIR_correl": {
         "attrs": {
          "_Unsigned": "false",
          "add_offset": 0,
          "chunk_sizes": [
           1,
           3,
           3
          ],
          "data_type": "uint8",
          "dimensions": [
           "time",
           "lat",
           "lon"
          ],
          "file_chunk_sizes": [
           1,
           3,
           3
          ],
          "file_dimensions": [
           "time",
           "lat",
           "lon"
          ],
          "fill_value": 128,
          "grid_mapping": "crs",
          "long_name": "BHR_VIS BHR_NIR standard_error_correlation",
          "missing_value": -128,
          "orig_data_type": "uint8",
          "scale_factor": 0.007874016,
          "shape": [
           640618,
           3,
           3
          ],
          "size": 5765562,
          "units": "1",
          "valid_max": 127,
          "valid_min": -127
         },
         "dims": [
          "time",
          "lat",
          "lon"
         ],
         "dtype": "uint8",
         "name": "BHR_VIS_BHR_NIR_correl"
        },
        "BHR_VIS_BHR_SW_correl": {
         "attrs": {
          "_Unsigned": "false",
          "add_offset": 0,
          "chunk_sizes": [
           1,
           3,
           3
          ],
          "data_type": "uint8",
          "dimensions": [
           "time",
           "lat",
           "lon"
          ],
          "file_chunk_sizes": [
           1,
           3,
           3
          ],
          "file_dimensions": [
           "time",
           "lat",
           "lon"
          ],
          "fill_value": 128,
          "grid_mapping": "crs",
          "long_name": "BHR_VIS BHR_SW standard_error_correlation",
          "missing_value": -128,
          "orig_data_type": "uint8",
          "scale_factor": 0.007874016,
          "shape": [
           640618,
           3,
           3
          ],
          "size": 5765562,
          "units": "1",
          "valid_max": 127,
          "valid_min": -127
         },
         "dims": [
          "time",
          "lat",
          "lon"
         ],
         "dtype": "uint8",
         "name": "BHR_VIS_BHR_SW_correl"
        },
        "BHR_VIS_DHR_NIR_correl": {
         "attrs": {
          "_Unsigned": "false",
          "add_offset": 0,
          "chunk_sizes": [
           1,
           3,
           3
          ],
          "data_type": "uint8",
          "dimensions": [
           "time",
           "lat",
           "lon"
          ],
          "file_chunk_sizes": [
           1,
           3,
           3
          ],
          "file_dimensions": [
           "time",
           "lat",
           "lon"
          ],
          "fill_value": 128,
          "grid_mapping": "crs",
          "long_name": "BHR_VIS DHR_NIR standard_error_correlation",
          "missing_value": -128,
          "orig_data_type": "uint8",
          "scale_factor": 0.007874016,
          "shape": [
           640618,
           3,
           3
          ],
          "size": 5765562,
          "units": "1",
          "valid_max": 127,
          "valid_min": -127
         },
         "dims": [
          "time",
          "lat",
          "lon"
         ],
         "dtype": "uint8",
         "name": "BHR_VIS_DHR_NIR_correl"
        },
        "BHR_VIS_DHR_SW_correl": {
         "attrs": {
          "_Unsigned": "false",
          "add_offset": 0,
          "chunk_sizes": [
           1,
           3,
           3
          ],
          "data_type": "uint8",
          "dimensions": [
           "time",
           "lat",
           "lon"
          ],
          "file_chunk_sizes": [
           1,
           3,
           3
          ],
          "file_dimensions": [
           "time",
           "lat",
           "lon"
          ],
          "fill_value": 128,
          "grid_mapping": "crs",
          "long_name": "BHR_VIS DHR_SW standard_error_correlation",
          "missing_value": -128,
          "orig_data_type": "uint8",
          "scale_factor": 0.007874016,
          "shape": [
           640618,
           3,
           3
          ],
          "size": 5765562,
          "units": "1",
          "valid_max": 127,
          "valid_min": -127
         },
         "dims": [
          "time",
          "lat",
          "lon"
         ],
         "dtype": "uint8",
         "name": "BHR_VIS_DHR_SW_correl"
        },
        "BHR_VIS_DHR_VIS_correl": {
         "attrs": {
          "_Unsigned": "false",
          "add_offset": 0,
          "chunk_sizes": [
           1,
           3,
           3
          ],
          "data_type": "uint8",
          "dimensions": [
           "time",
           "lat",
           "lon"
          ],
          "file_chunk_sizes": [
           1,
           3,
           3
          ],
          "file_dimensions": [
           "time",
           "lat",
           "lon"
          ],
          "fill_value": 128,
          "grid_mapping": "crs",
          "long_name": "BHR_VIS DHR_VIS standard_error_correlation",
          "missing_value": -128,
          "orig_data_type": "uint8",
          "scale_factor": 0.007874016,
          "shape": [
           640618,
           3,
           3
          ],
          "size": 5765562,
          "units": "1",
          "valid_max": 127,
          "valid_min": -127
         },
         "dims": [
          "time",
          "lat",
          "lon"
         ],
         "dtype": "uint8",
         "name": "BHR_VIS_DHR_VIS_correl"
        },
        "BHR_VIS_ERR": {
         "attrs": {
          "add_offset": 1,
          "chunk_sizes": [
           1,
           3,
           3
          ],
          "data_type": "int16",
          "dimensions": [
           "time",
           "lat",
           "lon"
          ],
          "file_chunk_sizes": [
           1,
           3,
           3
          ],
          "file_dimensions": [
           "time",
           "lat",
           "lon"
          ],
          "fill_value": -32768,
          "grid_mapping": "crs",
          "long_name": "BHR_VIS standard_error",
          "missing_value": -32768,
          "orig_data_type": "int16",
          "scale_factor": 3.051851e-05,
          "shape": [
           640618,
           3,
           3
          ],
          "size": 5765562,
          "units": "1",
          "valid_max": 32767,
          "valid_min": -32767
         },
         "dims": [
          "time",
          "lat",
          "lon"
         ],
         "dtype": "int16",
         "name": "BHR_VIS_ERR"
        },
        "Cab": {
         "attrs": {
          "add_offset": 50,
          "ancillary_roles": "uncertainty, quality of the retrieval, quality of model fit, standard error correlation with LAI, standard error correlation with fAPAR,  standard error correlation with fAPAR_Cab, standard error correlation with BHR_VIS, standard error correlation with BHR_NIR, standard error correlation with BHR_SW, standard error correlation with DHR_VIS, standard error correlation with DHR_NIR, standard error correlation with DHR_SW",
          "ancillary_variables": "Cab_ERR invcode p_chisquare Cab_LAI_correl Cab_fAPAR_correl Cab_fAPAR_Cab_correl Cab_BHR_VIS_correl Cab_BHR_NIR_correl Cab_BHR_SW_correl Cab_DHR_VIR_correl Cab_DHR_NIR_correl Cab_DHR_SW_correl",
          "chunk_sizes": [
           1,
           3,
           3
          ],
          "data_type": "int16",
          "dimensions": [
           "time",
           "lat",
           "lon"
          ],
          "file_chunk_sizes": [
           1,
           3,
           3
          ],
          "file_dimensions": [
           "time",
           "lat",
           "lon"
          ],
          "fill_value": -32768,
          "grid_mapping": "crs",
          "long_name": "PROSPECT-D leaf chlorophyll a+b content",
          "missing_value": -32768,
          "orig_data_type": "int16",
          "prior": 60,
          "scale_factor": 0.0015259255,
          "shape": [
           640618,
           3,
           3
          ],
          "size": 5765562,
          "units": "ug.cm-2",
          "valid_max": 32767,
          "valid_min": -32767
         },
         "dims": [
          "time",
          "lat",
          "lon"
         ],
         "dtype": "int16",
         "name": "Cab"
        },
        "Cab_BHR_NIR_correl": {
         "attrs": {
          "_Unsigned": "false",
          "add_offset": 0,
          "chunk_sizes": [
           1,
           3,
           3
          ],
          "data_type": "uint8",
          "dimensions": [
           "time",
           "lat",
           "lon"
          ],
          "file_chunk_sizes": [
           1,
           3,
           3
          ],
          "file_dimensions": [
           "time",
           "lat",
           "lon"
          ],
          "fill_value": 128,
          "grid_mapping": "crs",
          "long_name": "Cab BHR_NIR standard_error_correlation",
          "missing_value": -128,
          "orig_data_type": "uint8",
          "scale_factor": 0.007874016,
          "shape": [
           640618,
           3,
           3
          ],
          "size": 5765562,
          "units": "1",
          "valid_max": 127,
          "valid_min": -127
         },
         "dims": [
          "time",
          "lat",
          "lon"
         ],
         "dtype": "uint8",
         "name": "Cab_BHR_NIR_correl"
        },
        "Cab_BHR_SW_correl": {
         "attrs": {
          "_Unsigned": "false",
          "add_offset": 0,
          "chunk_sizes": [
           1,
           3,
           3
          ],
          "data_type": "uint8",
          "dimensions": [
           "time",
           "lat",
           "lon"
          ],
          "file_chunk_sizes": [
           1,
           3,
           3
          ],
          "file_dimensions": [
           "time",
           "lat",
           "lon"
          ],
          "fill_value": 128,
          "grid_mapping": "crs",
          "long_name": "Cab BHR_SW standard_error_correlation",
          "missing_value": -128,
          "orig_data_type": "uint8",
          "scale_factor": 0.007874016,
          "shape": [
           640618,
           3,
           3
          ],
          "size": 5765562,
          "units": "1",
          "valid_max": 127,
          "valid_min": -127
         },
         "dims": [
          "time",
          "lat",
          "lon"
         ],
         "dtype": "uint8",
         "name": "Cab_BHR_SW_correl"
        },
        "Cab_BHR_VIS_correl": {
         "attrs": {
          "_Unsigned": "false",
          "add_offset": 0,
          "chunk_sizes": [
           1,
           3,
           3
          ],
          "data_type": "uint8",
          "dimensions": [
           "time",
           "lat",
           "lon"
          ],
          "file_chunk_sizes": [
           1,
           3,
           3
          ],
          "file_dimensions": [
           "time",
           "lat",
           "lon"
          ],
          "fill_value": 128,
          "grid_mapping": "crs",
          "long_name": "Cab BHR_VIS standard_error_correlation",
          "missing_value": -128,
          "orig_data_type": "uint8",
          "scale_factor": 0.007874016,
          "shape": [
           640618,
           3,
           3
          ],
          "size": 5765562,
          "units": "1",
          "valid_max": 127,
          "valid_min": -127
         },
         "dims": [
          "time",
          "lat",
          "lon"
         ],
         "dtype": "uint8",
         "name": "Cab_BHR_VIS_correl"
        },
        "Cab_DHR_NIR_correl": {
         "attrs": {
          "_Unsigned": "false",
          "add_offset": 0,
          "chunk_sizes": [
           1,
           3,
           3
          ],
          "data_type": "uint8",
          "dimensions": [
           "time",
           "lat",
           "lon"
          ],
          "file_chunk_sizes": [
           1,
           3,
           3
          ],
          "file_dimensions": [
           "time",
           "lat",
           "lon"
          ],
          "fill_value": 128,
          "grid_mapping": "crs",
          "long_name": "Cab DHR_NIR standard_error_correlation",
          "missing_value": -128,
          "orig_data_type": "uint8",
          "scale_factor": 0.007874016,
          "shape": [
           640618,
           3,
           3
          ],
          "size": 5765562,
          "units": "1",
          "valid_max": 127,
          "valid_min": -127
         },
         "dims": [
          "time",
          "lat",
          "lon"
         ],
         "dtype": "uint8",
         "name": "Cab_DHR_NIR_correl"
        },
        "Cab_DHR_SW_correl": {
         "attrs": {
          "_Unsigned": "false",
          "add_offset": 0,
          "chunk_sizes": [
           1,
           3,
           3
          ],
          "data_type": "uint8",
          "dimensions": [
           "time",
           "lat",
           "lon"
          ],
          "file_chunk_sizes": [
           1,
           3,
           3
          ],
          "file_dimensions": [
           "time",
           "lat",
           "lon"
          ],
          "fill_value": 128,
          "grid_mapping": "crs",
          "long_name": "Cab DHR_SW standard_error_correlation",
          "missing_value": -128,
          "orig_data_type": "uint8",
          "scale_factor": 0.007874016,
          "shape": [
           640618,
           3,
           3
          ],
          "size": 5765562,
          "units": "1",
          "valid_max": 127,
          "valid_min": -127
         },
         "dims": [
          "time",
          "lat",
          "lon"
         ],
         "dtype": "uint8",
         "name": "Cab_DHR_SW_correl"
        },
        "Cab_DHR_VIS_correl": {
         "attrs": {
          "_Unsigned": "false",
          "add_offset": 0,
          "chunk_sizes": [
           1,
           3,
           3
          ],
          "data_type": "uint8",
          "dimensions": [
           "time",
           "lat",
           "lon"
          ],
          "file_chunk_sizes": [
           1,
           3,
           3
          ],
          "file_dimensions": [
           "time",
           "lat",
           "lon"
          ],
          "fill_value": 128,
          "grid_mapping": "crs",
          "long_name": "Cab DHR_VIS standard_error_correlation",
          "missing_value": -128,
          "orig_data_type": "uint8",
          "scale_factor": 0.007874016,
          "shape": [
           640618,
           3,
           3
          ],
          "size": 5765562,
          "units": "1",
          "valid_max": 127,
          "valid_min": -127
         },
         "dims": [
          "time",
          "lat",
          "lon"
         ],
         "dtype": "uint8",
         "name": "Cab_DHR_VIS_correl"
        },
        "Cab_ERR": {
         "attrs": {
          "add_offset": 100,
          "chunk_sizes": [
           1,
           3,
           3
          ],
          "data_type": "int16",
          "dimensions": [
           "time",
           "lat",
           "lon"
          ],
          "file_chunk_sizes": [
           1,
           3,
           3
          ],
          "file_dimensions": [
           "time",
           "lat",
           "lon"
          ],
          "fill_value": -32768,
          "grid_mapping": "crs",
          "long_name": "Cab standard_error",
          "missing_value": -32768,
          "orig_data_type": "int16",
          "scale_factor": 0.003051851,
          "shape": [
           640618,
           3,
           3
          ],
          "size": 5765562,
          "units": "ug.cm-2",
          "valid_max": 32767,
          "valid_min": -32767
         },
         "dims": [
          "time",
          "lat",
          "lon"
         ],
         "dtype": "int16",
         "name": "Cab_ERR"
        },
        "Cab_LAI_correl": {
         "attrs": {
          "_Unsigned": "false",
          "add_offset": 0,
          "chunk_sizes": [
           1,
           3,
           3
          ],
          "data_type": "uint8",
          "dimensions": [
           "time",
           "lat",
           "lon"
          ],
          "file_chunk_sizes": [
           1,
           3,
           3
          ],
          "file_dimensions": [
           "time",
           "lat",
           "lon"
          ],
          "fill_value": 128,
          "grid_mapping": "crs",
          "long_name": "Cab LAI standard_error_correlation",
          "missing_value": -128,
          "orig_data_type": "uint8",
          "scale_factor": 0.007874016,
          "shape": [
           640618,
           3,
           3
          ],
          "size": 5765562,
          "units": "1",
          "valid_max": 127,
          "valid_min": -127
         },
         "dims": [
          "time",
          "lat",
          "lon"
         ],
         "dtype": "uint8",
         "name": "Cab_LAI_correl"
        },
        "Cab_fAPAR_Cab_correl": {
         "attrs": {
          "_Unsigned": "false",
          "add_offset": 0,
          "chunk_sizes": [
           1,
           3,
           3
          ],
          "data_type": "uint8",
          "dimensions": [
           "time",
           "lat",
           "lon"
          ],
          "file_chunk_sizes": [
           1,
           3,
           3
          ],
          "file_dimensions": [
           "time",
           "lat",
           "lon"
          ],
          "fill_value": 128,
          "grid_mapping": "crs",
          "long_name": "Cab fAPAR_Cab standard_error_correlation",
          "missing_value": -128,
          "orig_data_type": "uint8",
          "scale_factor": 0.007874016,
          "shape": [
           640618,
           3,
           3
          ],
          "size": 5765562,
          "units": "1",
          "valid_max": 127,
          "valid_min": -127
         },
         "dims": [
          "time",
          "lat",
          "lon"
         ],
         "dtype": "uint8",
         "name": "Cab_fAPAR_Cab_correl"
        },
        "Cab_fAPAR_correl": {
         "attrs": {
          "_Unsigned": "false",
          "add_offset": 0,
          "chunk_sizes": [
           1,
           3,
           3
          ],
          "data_type": "uint8",
          "dimensions": [
           "time",
           "lat",
           "lon"
          ],
          "file_chunk_sizes": [
           1,
           3,
           3
          ],
          "file_dimensions": [
           "time",
           "lat",
           "lon"
          ],
          "fill_value": 128,
          "grid_mapping": "crs",
          "long_name": "Cab fAPAR standard_error_correlation",
          "missing_value": -128,
          "orig_data_type": "uint8",
          "scale_factor": 0.007874016,
          "shape": [
           640618,
           3,
           3
          ],
          "size": 5765562,
          "units": "1",
          "valid_max": 127,
          "valid_min": -127
         },
         "dims": [
          "time",
          "lat",
          "lon"
         ],
         "dtype": "uint8",
         "name": "Cab_fAPAR_correl"
        },
        "DHR_NIR": {
         "attrs": {
          "add_offset": 1.5707964,
          "ancillary_roles": "uncertainty, quality of the retrieval, quality of model fit, standard error correlation with LAI, standard error correlation with fAPAR,  standard error correlation with fAPAR_Cab, standard error correlation with Cab, standard error correlation with BHR_VIS, standard error correlation with BHR_NIR, standard error correlation with BHR_SW, standard error correlation with DHR_NIR, standard error correlation with DHR_SW",
          "ancillary_variables": "DHR_NIR_ERR invcode p_chisquare LAI_DHR_NIR_correl fAPAR_DHR_NIR_correl fAPAR_Cab_DHR_NIR_correl Cab_DHR_NIR_correl BHR_VIS_DHR_NIR_correl BHR_NIR_DHR_NIR_correl BHR_SW_DHR_NIR_correl DHR_VIS_DHR_NIR_correl DHR_NIR_DHR_SW_correl",
          "chunk_sizes": [
           1,
           3,
           3
          ],
          "data_type": "int16",
          "dimensions": [
           "time",
           "lat",
           "lon"
          ],
          "file_chunk_sizes": [
           1,
           3,
           3
          ],
          "file_dimensions": [
           "time",
           "lat",
           "lon"
          ],
          "fill_value": -32768,
          "grid_mapping": "crs",
          "long_name": "directional-hemispherical reflectance (black-sky albedo), NIR, at local solar noon",
          "missing_value": -32768,
          "orig_data_type": "int16",
          "scale_factor": 4.7938363e-05,
          "shape": [
           640618,
           3,
           3
          ],
          "size": 5765562,
          "units": "1",
          "valid_max": -11907,
          "valid_min": -32767
         },
         "dims": [
          "time",
          "lat",
          "lon"
         ],
         "dtype": "int16",
         "name": "DHR_NIR"
        },
        "DHR_NIR_DHR_SW_correl": {
         "attrs": {
          "_Unsigned": "false",
          "add_offset": 0,
          "chunk_sizes": [
           1,
           3,
           3
          ],
          "data_type": "uint8",
          "dimensions": [
           "time",
           "lat",
           "lon"
          ],
          "file_chunk_sizes": [
           1,
           3,
           3
          ],
          "file_dimensions": [
           "time",
           "lat",
           "lon"
          ],
          "fill_value": 128,
          "grid_mapping": "crs",
          "long_name": "DHR_NIR DHR_SW standard_error_correlation",
          "missing_value": -128,
          "orig_data_type": "uint8",
          "scale_factor": 0.007874016,
          "shape": [
           640618,
           3,
           3
          ],
          "size": 5765562,
          "units": "1",
          "valid_max": 127,
          "valid_min": -127
         },
         "dims": [
          "time",
          "lat",
          "lon"
         ],
         "dtype": "uint8",
         "name": "DHR_NIR_DHR_SW_correl"
        },
        "DHR_NIR_ERR": {
         "attrs": {
          "add_offset": 3.1415927,
          "chunk_sizes": [
           1,
           3,
           3
          ],
          "data_type": "int16",
          "dimensions": [
           "time",
           "lat",
           "lon"
          ],
          "file_chunk_sizes": [
           1,
           3,
           3
          ],
          "file_dimensions": [
           "time",
           "lat",
           "lon"
          ],
          "fill_value": -32768,
          "grid_mapping": "crs",
          "long_name": "DHR_NIR standard_error",
          "missing_value": -32768,
          "orig_data_type": "int16",
          "scale_factor": 9.587673e-05,
          "shape": [
           640618,
           3,
           3
          ],
          "size": 5765562,
          "units": "1",
          "valid_max": 32767,
          "valid_min": -32767
         },
         "dims": [
          "time",
          "lat",
          "lon"
         ],
         "dtype": "int16",
         "name": "DHR_NIR_ERR"
        },
        "DHR_SW": {
         "attrs": {
          "add_offset": 1.5707964,
          "ancillary_roles": "uncertainty, quality of the retrieval, quality of model fit, standard error correlation with LAI, standard error correlation with fAPAR,  standard error correlation with fAPAR_Cab, standard error correlation with Cab, standard error correlation with BHR_VIS, standard error correlation with BHR_NIR, standard error correlation with BHR_SW, standard error correlation with DHR_VIS, standard error correlation with DHR_NIR",
          "ancillary_variables": "DHR_SW_ERR invcode p_chisquare LAI_DHR_SW_correl fAPAR_DHR_SW_correl fAPAR_Cab_DHR_SW_correl Cab_DHR_SW_correl BHR_VIS_DHR_SW_correl BHR_NIR_DHR_SW_correl BHR_SW_DHR_SW_correl DHR_VIS_DHR_SW_correl DHR_NIR_DHR_SW_correl",
          "chunk_sizes": [
           1,
           3,
           3
          ],
          "data_type": "int16",
          "dimensions": [
           "time",
           "lat",
           "lon"
          ],
          "file_chunk_sizes": [
           1,
           3,
           3
          ],
          "file_dimensions": [
           "time",
           "lat",
           "lon"
          ],
          "fill_value": -32768,
          "grid_mapping": "crs",
          "long_name": "directional-hemispherical reflectance (black-sky albedo), SW,  at local solar noon",
          "missing_value": -32768,
          "orig_data_type": "int16",
          "scale_factor": 4.7938363e-05,
          "shape": [
           640618,
           3,
           3
          ],
          "size": 5765562,
          "units": "1",
          "valid_max": -11907,
          "valid_min": -32767
         },
         "dims": [
          "time",
          "lat",
          "lon"
         ],
         "dtype": "int16",
         "name": "DHR_SW"
        },
        "DHR_SW_ERR": {
         "attrs": {
          "add_offset": 3.1415927,
          "chunk_sizes": [
           1,
           3,
           3
          ],
          "data_type": "int16",
          "dimensions": [
           "time",
           "lat",
           "lon"
          ],
          "file_chunk_sizes": [
           1,
           3,
           3
          ],
          "file_dimensions": [
           "time",
           "lat",
           "lon"
          ],
          "fill_value": -32768,
          "grid_mapping": "crs",
          "long_name": "DHR_SW standard_error",
          "missing_value": -32768,
          "orig_data_type": "int16",
          "scale_factor": 9.587673e-05,
          "shape": [
           640618,
           3,
           3
          ],
          "size": 5765562,
          "units": "1",
          "valid_max": 32767,
          "valid_min": -32767
         },
         "dims": [
          "time",
          "lat",
          "lon"
         ],
         "dtype": "int16",
         "name": "DHR_SW_ERR"
        },
        "DHR_VIS": {
         "attrs": {
          "add_offset": 1.5707964,
          "ancillary_roles": "uncertainty, quality of the retrieval, quality of model fit, standard error correlation with LAI, standard error correlation with fAPAR,  standard error correlation with fAPAR_Cab, standard error correlation with Cab, standard error correlation with BHR_VIS, standard error correlation with BHR_NIR, standard error correlation with BHR_SW, standard error correlation with DHR_NIR, standard error correlation with DHR_SW",
          "ancillary_variables": "DHR_VIS_ERR invcode p_chisquare LAI_DHR_VIS_correl fAPAR_DHR_VIS_correl fAPAR_Cab_DHR_VIS_correl Cab_DHR_VIS_correl BHR_VIS_DHR_VIS_correl BHR_NIR_DHR_VIS_correl BHR_SW_DHR_VIS_correl DHR_VIS_DHR_NIR_correl DHR_VIS_DHR_SW_correl",
          "chunk_sizes": [
           1,
           3,
           3
          ],
          "data_type": "int16",
          "dimensions": [
           "time",
           "lat",
           "lon"
          ],
          "file_chunk_sizes": [
           1,
           3,
           3
          ],
          "file_dimensions": [
           "time",
           "lat",
           "lon"
          ],
          "fill_value": -32768,
          "grid_mapping": "crs",
          "long_name": "directional-hemispherical reflectance (black-sky albedo), VIS, at local solar noon",
          "missing_value": -32768,
          "orig_data_type": "int16",
          "scale_factor": 4.7938363e-05,
          "shape": [
           640618,
           3,
           3
          ],
          "size": 5765562,
          "units": "1",
          "valid_max": -11907,
          "valid_min": -32767
         },
         "dims": [
          "time",
          "lat",
          "lon"
         ],
         "dtype": "int16",
         "name": "DHR_VIS"
        },
        "DHR_VIS_DHR_NIR_correl": {
         "attrs": {
          "_Unsigned": "false",
          "add_offset": 0,
          "chunk_sizes": [
           1,
           3,
           3
          ],
          "data_type": "uint8",
          "dimensions": [
           "time",
           "lat",
           "lon"
          ],
          "file_chunk_sizes": [
           1,
           3,
           3
          ],
          "file_dimensions": [
           "time",
           "lat",
           "lon"
          ],
          "fill_value": 128,
          "grid_mapping": "crs",
          "long_name": "DHR_VIS DHR_NIR standard_error_correlation",
          "missing_value": -128,
          "orig_data_type": "uint8",
          "scale_factor": 0.007874016,
          "shape": [
           640618,
           3,
           3
          ],
          "size": 5765562,
          "units": "1",
          "valid_max": 127,
          "valid_min": -127
         },
         "dims": [
          "time",
          "lat",
          "lon"
         ],
         "dtype": "uint8",
         "name": "DHR_VIS_DHR_NIR_correl"
        },
        "DHR_VIS_DHR_SW_correl": {
         "attrs": {
          "_Unsigned": "false",
          "add_offset": 0,
          "chunk_sizes": [
           1,
           3,
           3
          ],
          "data_type": "uint8",
          "dimensions": [
           "time",
           "lat",
           "lon"
          ],
          "file_chunk_sizes": [
           1,
           3,
           3
          ],
          "file_dimensions": [
           "time",
           "lat",
           "lon"
          ],
          "fill_value": 128,
          "grid_mapping": "crs",
          "long_name": "DHR_VIS DHR_SW standard_error_correlation",
          "missing_value": -128,
          "orig_data_type": "uint8",
          "scale_factor": 0.007874016,
          "shape": [
           640618,
           3,
           3
          ],
          "size": 5765562,
          "units": "1",
          "valid_max": 127,
          "valid_min": -127
         },
         "dims": [
          "time",
          "lat",
          "lon"
         ],
         "dtype": "uint8",
         "name": "DHR_VIS_DHR_SW_correl"
        },
        "DHR_VIS_ERR": {
         "attrs": {
          "add_offset": 3.1415927,
          "chunk_sizes": [
           1,
           3,
           3
          ],
          "data_type": "int16",
          "dimensions": [
           "time",
           "lat",
           "lon"
          ],
          "file_chunk_sizes": [
           1,
           3,
           3
          ],
          "file_dimensions": [
           "time",
           "lat",
           "lon"
          ],
          "fill_value": -32768,
          "grid_mapping": "crs",
          "long_name": "DHR_VIS standard_error",
          "missing_value": -32768,
          "orig_data_type": "int16",
          "scale_factor": 9.587673e-05,
          "shape": [
           640618,
           3,
           3
          ],
          "size": 5765562,
          "units": "1",
          "valid_max": 32767,
          "valid_min": -32767
         },
         "dims": [
          "time",
          "lat",
          "lon"
         ],
         "dtype": "int16",
         "name": "DHR_VIS_ERR"
        },
        "LAI": {
         "attrs": {
          "add_offset": 4,
          "ancillary_roles": "uncertainty, quality of the retrieval, quality of model fit, standard error correlation with fAPAR, standard error correlation with fAPAR_Cab, standard error correlation with Cab, standard error correlation with BHR_VIS, standard error correlation with BHR_NIR, standard error correlation with BHR_SW, standard error correlation with DHR_VIS, standard error correlation with DHR_NIR, standard error correlation with DHR_SW",
          "ancillary_variables": "LAI_ERR invcode p_chisquare LAI_fAPAR_correl LAI_fAPAR_Cab_correl Cab_LAI_correl LAI_BHR_VIS_correl LAI_BHR_NIR_correl LAI_BHR_SW_correl LAI_DHR_VIR_correl LAI_DHR_NIR_correl LAI_DHR_SW_correl",
          "chunk_sizes": [
           1,
           3,
           3
          ],
          "comment": "Best displayed using YlGn colormap scaled between valid_min and valid_max",
          "data_type": "int16",
          "dimensions": [
           "time",
           "lat",
           "lon"
          ],
          "file_chunk_sizes": [
           1,
           3,
           3
          ],
          "file_dimensions": [
           "time",
           "lat",
           "lon"
          ],
          "fill_value": -32768,
          "grid_mapping": "crs",
          "long_name": "SAIL effective Leaf Area Index",
          "missing_value": -32768,
          "orig_data_type": "int16",
          "prior": 1,
          "scale_factor": 0.00012207404,
          "shape": [
           640618,
           3,
           3
          ],
          "size": 5765562,
          "units": "m2.m-2",
          "valid_max": 32767,
          "valid_min": -32767
         },
         "dims": [
          "time",
          "lat",
          "lon"
         ],
         "dtype": "int16",
         "name": "LAI"
        },
        "LAI_BHR_NIR_correl": {
         "attrs": {
          "_Unsigned": "false",
          "add_offset": 0,
          "chunk_sizes": [
           1,
           3,
           3
          ],
          "data_type": "uint8",
          "dimensions": [
           "time",
           "lat",
           "lon"
          ],
          "file_chunk_sizes": [
           1,
           3,
           3
          ],
          "file_dimensions": [
           "time",
           "lat",
           "lon"
          ],
          "fill_value": 128,
          "grid_mapping": "crs",
          "long_name": "LAI BHR_NIR standard_error_correlation",
          "missing_value": -128,
          "orig_data_type": "uint8",
          "scale_factor": 0.007874016,
          "shape": [
           640618,
           3,
           3
          ],
          "size": 5765562,
          "units": "1",
          "valid_max": 127,
          "valid_min": -127
         },
         "dims": [
          "time",
          "lat",
          "lon"
         ],
         "dtype": "uint8",
         "name": "LAI_BHR_NIR_correl"
        },
        "LAI_BHR_SW_correl": {
         "attrs": {
          "_Unsigned": "false",
          "add_offset": 0,
          "chunk_sizes": [
           1,
           3,
           3
          ],
          "data_type": "uint8",
          "dimensions": [
           "time",
           "lat",
           "lon"
          ],
          "file_chunk_sizes": [
           1,
           3,
           3
          ],
          "file_dimensions": [
           "time",
           "lat",
           "lon"
          ],
          "fill_value": 128,
          "grid_mapping": "crs",
          "long_name": "LAI BHR_SW standard_error_correlation",
          "missing_value": -128,
          "orig_data_type": "uint8",
          "scale_factor": 0.007874016,
          "shape": [
           640618,
           3,
           3
          ],
          "size": 5765562,
          "units": "1",
          "valid_max": 127,
          "valid_min": -127
         },
         "dims": [
          "time",
          "lat",
          "lon"
         ],
         "dtype": "uint8",
         "name": "LAI_BHR_SW_correl"
        },
        "LAI_BHR_VIS_correl": {
         "attrs": {
          "_Unsigned": "false",
          "add_offset": 0,
          "chunk_sizes": [
           1,
           3,
           3
          ],
          "data_type": "uint8",
          "dimensions": [
           "time",
           "lat",
           "lon"
          ],
          "file_chunk_sizes": [
           1,
           3,
           3
          ],
          "file_dimensions": [
           "time",
           "lat",
           "lon"
          ],
          "fill_value": 128,
          "grid_mapping": "crs",
          "long_name": "LAI BHR_VIS standard_error_correlation",
          "missing_value": -128,
          "orig_data_type": "uint8",
          "scale_factor": 0.007874016,
          "shape": [
           640618,
           3,
           3
          ],
          "size": 5765562,
          "units": "1",
          "valid_max": 127,
          "valid_min": -127
         },
         "dims": [
          "time",
          "lat",
          "lon"
         ],
         "dtype": "uint8",
         "name": "LAI_BHR_VIS_correl"
        },
        "LAI_DHR_NIR_correl": {
         "attrs": {
          "_Unsigned": "false",
          "add_offset": 0,
          "chunk_sizes": [
           1,
           3,
           3
          ],
          "data_type": "uint8",
          "dimensions": [
           "time",
           "lat",
           "lon"
          ],
          "file_chunk_sizes": [
           1,
           3,
           3
          ],
          "file_dimensions": [
           "time",
           "lat",
           "lon"
          ],
          "fill_value": 128,
          "grid_mapping": "crs",
          "long_name": "LAI DHR_NIR standard_error_correlation",
          "missing_value": -128,
          "orig_data_type": "uint8",
          "scale_factor": 0.007874016,
          "shape": [
           640618,
           3,
           3
          ],
          "size": 5765562,
          "units": "1",
          "valid_max": 127,
          "valid_min": -127
         },
         "dims": [
          "time",
          "lat",
          "lon"
         ],
         "dtype": "uint8",
         "name": "LAI_DHR_NIR_correl"
        },
        "LAI_DHR_SW_correl": {
         "attrs": {
          "_Unsigned": "false",
          "add_offset": 0,
          "chunk_sizes": [
           1,
           3,
           3
          ],
          "data_type": "uint8",
          "dimensions": [
           "time",
           "lat",
           "lon"
          ],
          "file_chunk_sizes": [
           1,
           3,
           3
          ],
          "file_dimensions": [
           "time",
           "lat",
           "lon"
          ],
          "fill_value": 128,
          "grid_mapping": "crs",
          "long_name": "LAI DHR_SW standard_error_correlation",
          "missing_value": -128,
          "orig_data_type": "uint8",
          "scale_factor": 0.007874016,
          "shape": [
           640618,
           3,
           3
          ],
          "size": 5765562,
          "units": "1",
          "valid_max": 127,
          "valid_min": -127
         },
         "dims": [
          "time",
          "lat",
          "lon"
         ],
         "dtype": "uint8",
         "name": "LAI_DHR_SW_correl"
        },
        "LAI_DHR_VIS_correl": {
         "attrs": {
          "_Unsigned": "false",
          "add_offset": 0,
          "chunk_sizes": [
           1,
           3,
           3
          ],
          "data_type": "uint8",
          "dimensions": [
           "time",
           "lat",
           "lon"
          ],
          "file_chunk_sizes": [
           1,
           3,
           3
          ],
          "file_dimensions": [
           "time",
           "lat",
           "lon"
          ],
          "fill_value": 128,
          "grid_mapping": "crs",
          "long_name": "LAI DHR_VIS standard_error_correlation",
          "missing_value": -128,
          "orig_data_type": "uint8",
          "scale_factor": 0.007874016,
          "shape": [
           640618,
           3,
           3
          ],
          "size": 5765562,
          "units": "1",
          "valid_max": 127,
          "valid_min": -127
         },
         "dims": [
          "time",
          "lat",
          "lon"
         ],
         "dtype": "uint8",
         "name": "LAI_DHR_VIS_correl"
        },
        "LAI_ERR": {
         "attrs": {
          "add_offset": 8,
          "chunk_sizes": [
           1,
           3,
           3
          ],
          "data_type": "int16",
          "dimensions": [
           "time",
           "lat",
           "lon"
          ],
          "file_chunk_sizes": [
           1,
           3,
           3
          ],
          "file_dimensions": [
           "time",
           "lat",
           "lon"
          ],
          "fill_value": -32768,
          "grid_mapping": "crs",
          "long_name": "LAI standard_error",
          "missing_value": -32768,
          "orig_data_type": "int16",
          "scale_factor": 0.00024414808,
          "shape": [
           640618,
           3,
           3
          ],
          "size": 5765562,
          "units": "m2.m-2",
          "valid_max": 32767,
          "valid_min": -32767
         },
         "dims": [
          "time",
          "lat",
          "lon"
         ],
         "dtype": "int16",
         "name": "LAI_ERR"
        },
        "LAI_fAPAR_Cab_correl": {
         "attrs": {
          "_Unsigned": "false",
          "add_offset": 0,
          "chunk_sizes": [
           1,
           3,
           3
          ],
          "data_type": "uint8",
          "dimensions": [
           "time",
           "lat",
           "lon"
          ],
          "file_chunk_sizes": [
           1,
           3,
           3
          ],
          "file_dimensions": [
           "time",
           "lat",
           "lon"
          ],
          "fill_value": 128,
          "grid_mapping": "crs",
          "long_name": "LAI fAPAR_Cab standard_error_correlation",
          "missing_value": -128,
          "orig_data_type": "uint8",
          "scale_factor": 0.007874016,
          "shape": [
           640618,
           3,
           3
          ],
          "size": 5765562,
          "units": "1",
          "valid_max": 127,
          "valid_min": -127
         },
         "dims": [
          "time",
          "lat",
          "lon"
         ],
         "dtype": "uint8",
         "name": "LAI_fAPAR_Cab_correl"
        },
        "LAI_fAPAR_correl": {
         "attrs": {
          "_Unsigned": "false",
          "add_offset": 0,
          "chunk_sizes": [
           1,
           3,
           3
          ],
          "data_type": "uint8",
          "dimensions": [
           "time",
           "lat",
           "lon"
          ],
          "file_chunk_sizes": [
           1,
           3,
           3
          ],
          "file_dimensions": [
           "time",
           "lat",
           "lon"
          ],
          "fill_value": 128,
          "grid_mapping": "crs",
          "long_name": "LAI fAPAR standard_error_correlation",
          "missing_value": -128,
          "orig_data_type": "uint8",
          "scale_factor": 0.007874016,
          "shape": [
           640618,
           3,
           3
          ],
          "size": 5765562,
          "units": "1",
          "valid_max": 127,
          "valid_min": -127
         },
         "dims": [
          "time",
          "lat",
          "lon"
         ],
         "dtype": "uint8",
         "name": "LAI_fAPAR_correl"
        },
        "crs": {
         "attrs": {
          "DODS": {
           "strlen": 0
          },
          "GeoTransform": "-110.0000000000 0.0089285714 0.0 25.0000000000 0.0 -0.0089285714",
          "chunk_sizes": [
           1
          ],
          "data_type": "bytes1024",
          "dimensions": [],
          "file_chunk_sizes": [
           1
          ],
          "file_dimensions": [],
          "grid_mapping_name": "latitude_longitude",
          "inverse_flattening": 298.25723,
          "long_name": "coordinate reference system",
          "longitude_of_prime_meridian": 0,
          "orig_data_type": "bytes1024",
          "semi_major_axis": 6378137,
          "shape": [
           1
          ],
          "size": 1,
          "spatial_ref": "GEOGCS[\\\"WGS 84\\\",DATUM[\\\"WGS_1984\\\",SPHEROID[\\\"WGS 84\\\",6378137,298.257223563,AUTHORITY[\\\"EPSG\\\",\\\"7030\\\"]],TOWGS84[0,0,0,0,0,0,0],AUTHORITY[\\\"EPSG\\\",\\\"6326\\\"]],PRIMEM[\\\"Greenwich\\\",0,AUTHORITY[\\\"EPSG\\\",\\\"8901\\\"]],UNIT[\\\"degree\\\",0.0174532925199433,AUTHORITY[\\\"EPSG\\\",\\\"9108\\\"]],A"
         },
         "dims": [],
         "dtype": "bytes1024",
         "name": "crs"
        },
        "fAPAR": {
         "attrs": {
          "add_offset": 0.5,
          "ancillary_roles": "uncertainty, quality of the retrieval, quality of model fit, standard error correlation with LAI, standard error correlation with fAPAR_Cab, standard error correlation with Cab, standard error correlation with BHR_VIS, standard error correlation with BHR_NIR, standard error correlation with BHR_SW, standard error correlation with DHR_VIS, standard error correlation with DHR_NIR, standard error correlation with DHR_SW",
          "ancillary_variables": "fAPAR_ERR invcode p_chisquare LAI_fAPAR_correl fAPAR_fAPAR_Cab_correl Cab_fAPAR_correl fAPAR_BHR_VIS_correl fAPAR_BHR_NIR_correl fAPAR_BHR_SW_correl fAPAR_DHR_VIR_correl fAPAR_DHR_NIR_correl fAPAR_DHR_SW_correl",
          "chunk_sizes": [
           1,
           3,
           3
          ],
          "comment": "Best displayed using YlGn colormap scaled between valid_min and valid_max",
          "data_type": "int16",
          "dimensions": [
           "time",
           "lat",
           "lon"
          ],
          "file_chunk_sizes": [
           1,
           3,
           3
          ],
          "file_dimensions": [
           "time",
           "lat",
           "lon"
          ],
          "fill_value": -32768,
          "grid_mapping": "crs",
          "long_name": "DIAG fraction of Absorbed Photosynthetically Active Radiation using diffuse ASTMG173",
          "missing_value": -32768,
          "orig_data_type": "int16",
          "scale_factor": 1.5259255e-05,
          "shape": [
           640618,
           3,
           3
          ],
          "size": 5765562,
          "units": "1",
          "valid_max": 32767,
          "valid_min": -32767
         },
         "dims": [
          "time",
          "lat",
          "lon"
         ],
         "dtype": "int16",
         "name": "fAPAR"
        },
        "fAPAR_BHR_NIR_correl": {
         "attrs": {
          "_Unsigned": "false",
          "add_offset": 0,
          "chunk_sizes": [
           1,
           3,
           3
          ],
          "data_type": "uint8",
          "dimensions": [
           "time",
           "lat",
           "lon"
          ],
          "file_chunk_sizes": [
           1,
           3,
           3
          ],
          "file_dimensions": [
           "time",
           "lat",
           "lon"
          ],
          "fill_value": 128,
          "grid_mapping": "crs",
          "long_name": "fAPAR BHR_NIR standard_error_correlation",
          "missing_value": -128,
          "orig_data_type": "uint8",
          "scale_factor": 0.007874016,
          "shape": [
           640618,
           3,
           3
          ],
          "size": 5765562,
          "units": "1",
          "valid_max": 127,
          "valid_min": -127
         },
         "dims": [
          "time",
          "lat",
          "lon"
         ],
         "dtype": "uint8",
         "name": "fAPAR_BHR_NIR_correl"
        },
        "fAPAR_BHR_SW_correl": {
         "attrs": {
          "_Unsigned": "false",
          "add_offset": 0,
          "chunk_sizes": [
           1,
           3,
           3
          ],
          "data_type": "uint8",
          "dimensions": [
           "time",
           "lat",
           "lon"
          ],
          "file_chunk_sizes": [
           1,
           3,
           3
          ],
          "file_dimensions": [
           "time",
           "lat",
           "lon"
          ],
          "fill_value": 128,
          "grid_mapping": "crs",
          "long_name": "fAPAR BHR_SW standard_error_correlation",
          "missing_value": -128,
          "orig_data_type": "uint8",
          "scale_factor": 0.007874016,
          "shape": [
           640618,
           3,
           3
          ],
          "size": 5765562,
          "units": "1",
          "valid_max": 127,
          "valid_min": -127
         },
         "dims": [
          "time",
          "lat",
          "lon"
         ],
         "dtype": "uint8",
         "name": "fAPAR_BHR_SW_correl"
        },
        "fAPAR_BHR_VIS_correl": {
         "attrs": {
          "_Unsigned": "false",
          "add_offset": 0,
          "chunk_sizes": [
           1,
           3,
           3
          ],
          "data_type": "uint8",
          "dimensions": [
           "time",
           "lat",
           "lon"
          ],
          "file_chunk_sizes": [
           1,
           3,
           3
          ],
          "file_dimensions": [
           "time",
           "lat",
           "lon"
          ],
          "fill_value": 128,
          "grid_mapping": "crs",
          "long_name": "fAPAR BHR_VIS standard_error_correlation",
          "missing_value": -128,
          "orig_data_type": "uint8",
          "scale_factor": 0.007874016,
          "shape": [
           640618,
           3,
           3
          ],
          "size": 5765562,
          "units": "1",
          "valid_max": 127,
          "valid_min": -127
         },
         "dims": [
          "time",
          "lat",
          "lon"
         ],
         "dtype": "uint8",
         "name": "fAPAR_BHR_VIS_correl"
        },
        "fAPAR_Cab": {
         "attrs": {
          "add_offset": 0.5,
          "ancillary_roles": "uncertainty, quality of the retrieval, quality of model fit, standard error correlation with LAI, standard error correlation with fAPAR, standard error correlation with Cab, standard error correlation with BHR_VIS, standard error correlation with BHR_NIR, standard error correlation with BHR_SW, standard error correlation with DHR_VIS, standard error correlation with DHR_NIR, standard error correlation with DHR_SW",
          "ancillary_variables": "fAPAR_Cab_ERR invcode p_chisquare LAI_fAPAR_Cab_correl fAPAR_fAPAR_Cab_correl Cab_fAPAR_Cab_correl fAPAR_Cab_BHR_VIS_correl fAPAR_Cab_BHR_NIR_correl fAPAR_Cab_BHR_SW_correl fAPAR_Cab_DHR_VIR_correl fAPAR_Cab_DHR_NIR_correl fAPAR_Cab_DHR_SW_correl",
          "chunk_sizes": [
           1,
           3,
           3
          ],
          "data_type": "int16",
          "dimensions": [
           "time",
           "lat",
           "lon"
          ],
          "file_chunk_sizes": [
           1,
           3,
           3
          ],
          "file_dimensions": [
           "time",
           "lat",
           "lon"
          ],
          "fill_value": -32768,
          "grid_mapping": "crs",
          "long_name": "DIAG fAPAR absorbed by Chlorophyll a+b",
          "missing_value": -32768,
          "orig_data_type": "int16",
          "scale_factor": 1.5259255e-05,
          "shape": [
           640618,
           3,
           3
          ],
          "size": 5765562,
          "units": "1",
          "valid_max": 32767,
          "valid_min": -32767
         },
         "dims": [
          "time",
          "lat",
          "lon"
         ],
         "dtype": "int16",
         "name": "fAPAR_Cab"
        },
        "fAPAR_Cab_BHR_NIR_correl": {
         "attrs": {
          "_Unsigned": "false",
          "add_offset": 0,
          "chunk_sizes": [
           1,
           3,
           3
          ],
          "data_type": "uint8",
          "dimensions": [
           "time",
           "lat",
           "lon"
          ],
          "file_chunk_sizes": [
           1,
           3,
           3
          ],
          "file_dimensions": [
           "time",
           "lat",
           "lon"
          ],
          "fill_value": 128,
          "grid_mapping": "crs",
          "long_name": "fAPAR_Cab BHR_NIR standard_error_correlation",
          "missing_value": -128,
          "orig_data_type": "uint8",
          "scale_factor": 0.007874016,
          "shape": [
           640618,
           3,
           3
          ],
          "size": 5765562,
          "units": "1",
          "valid_max": 127,
          "valid_min": -127
         },
         "dims": [
          "time",
          "lat",
          "lon"
         ],
         "dtype": "uint8",
         "name": "fAPAR_Cab_BHR_NIR_correl"
        },
        "fAPAR_Cab_BHR_SW_correl": {
         "attrs": {
          "_Unsigned": "false",
          "add_offset": 0,
          "chunk_sizes": [
           1,
           3,
           3
          ],
          "data_type": "uint8",
          "dimensions": [
           "time",
           "lat",
           "lon"
          ],
          "file_chunk_sizes": [
           1,
           3,
           3
          ],
          "file_dimensions": [
           "time",
           "lat",
           "lon"
          ],
          "fill_value": 128,
          "grid_mapping": "crs",
          "long_name": "fAPAR_Cab BHR_SW standard_error_correlation",
          "missing_value": -128,
          "orig_data_type": "uint8",
          "scale_factor": 0.007874016,
          "shape": [
           640618,
           3,
           3
          ],
          "size": 5765562,
          "units": "1",
          "valid_max": 127,
          "valid_min": -127
         },
         "dims": [
          "time",
          "lat",
          "lon"
         ],
         "dtype": "uint8",
         "name": "fAPAR_Cab_BHR_SW_correl"
        },
        "fAPAR_Cab_BHR_VIS_correl": {
         "attrs": {
          "_Unsigned": "false",
          "add_offset": 0,
          "chunk_sizes": [
           1,
           3,
           3
          ],
          "data_type": "uint8",
          "dimensions": [
           "time",
           "lat",
           "lon"
          ],
          "file_chunk_sizes": [
           1,
           3,
           3
          ],
          "file_dimensions": [
           "time",
           "lat",
           "lon"
          ],
          "fill_value": 128,
          "grid_mapping": "crs",
          "long_name": "fAPAR_Cab BHR_VIS standard_error_correlation",
          "missing_value": -128,
          "orig_data_type": "uint8",
          "scale_factor": 0.007874016,
          "shape": [
           640618,
           3,
           3
          ],
          "size": 5765562,
          "units": "1",
          "valid_max": 127,
          "valid_min": -127
         },
         "dims": [
          "time",
          "lat",
          "lon"
         ],
         "dtype": "uint8",
         "name": "fAPAR_Cab_BHR_VIS_correl"
        },
        "fAPAR_Cab_DHR_NIR_correl": {
         "attrs": {
          "_Unsigned": "false",
          "add_offset": 0,
          "chunk_sizes": [
           1,
           3,
           3
          ],
          "data_type": "uint8",
          "dimensions": [
           "time",
           "lat",
           "lon"
          ],
          "file_chunk_sizes": [
           1,
           3,
           3
          ],
          "file_dimensions": [
           "time",
           "lat",
           "lon"
          ],
          "fill_value": 128,
          "grid_mapping": "crs",
          "long_name": "fAPAR_Cab DHR_NIR standard_error_correlation",
          "missing_value": -128,
          "orig_data_type": "uint8",
          "scale_factor": 0.007874016,
          "shape": [
           640618,
           3,
           3
          ],
          "size": 5765562,
          "units": "1",
          "valid_max": 127,
          "valid_min": -127
         },
         "dims": [
          "time",
          "lat",
          "lon"
         ],
         "dtype": "uint8",
         "name": "fAPAR_Cab_DHR_NIR_correl"
        },
        "fAPAR_Cab_DHR_SW_correl": {
         "attrs": {
          "_Unsigned": "false",
          "add_offset": 0,
          "chunk_sizes": [
           1,
           3,
           3
          ],
          "data_type": "uint8",
          "dimensions": [
           "time",
           "lat",
           "lon"
          ],
          "file_chunk_sizes": [
           1,
           3,
           3
          ],
          "file_dimensions": [
           "time",
           "lat",
           "lon"
          ],
          "fill_value": 128,
          "grid_mapping": "crs",
          "long_name": "fAPAR_Cab DHR_SW standard_error_correlation",
          "missing_value": -128,
          "orig_data_type": "uint8",
          "scale_factor": 0.007874016,
          "shape": [
           640618,
           3,
           3
          ],
          "size": 5765562,
          "units": "1",
          "valid_max": 127,
          "valid_min": -127
         },
         "dims": [
          "time",
          "lat",
          "lon"
         ],
         "dtype": "uint8",
         "name": "fAPAR_Cab_DHR_SW_correl"
        },
        "fAPAR_Cab_DHR_VIS_correl": {
         "attrs": {
          "_Unsigned": "false",
          "add_offset": 0,
          "chunk_sizes": [
           1,
           3,
           3
          ],
          "data_type": "uint8",
          "dimensions": [
           "time",
           "lat",
           "lon"
          ],
          "file_chunk_sizes": [
           1,
           3,
           3
          ],
          "file_dimensions": [
           "time",
           "lat",
           "lon"
          ],
          "fill_value": 128,
          "grid_mapping": "crs",
          "long_name": "fAPAR_Cab DHR_VIS standard_error_correlation",
          "missing_value": -128,
          "orig_data_type": "uint8",
          "scale_factor": 0.007874016,
          "shape": [
           640618,
           3,
           3
          ],
          "size": 5765562,
          "units": "1",
          "valid_max": 127,
          "valid_min": -127
         },
         "dims": [
          "time",
          "lat",
          "lon"
         ],
         "dtype": "uint8",
         "name": "fAPAR_Cab_DHR_VIS_correl"
        },
        "fAPAR_Cab_ERR": {
         "attrs": {
          "add_offset": 1,
          "chunk_sizes": [
           1,
           3,
           3
          ],
          "data_type": "int16",
          "dimensions": [
           "time",
           "lat",
           "lon"
          ],
          "file_chunk_sizes": [
           1,
           3,
           3
          ],
          "file_dimensions": [
           "time",
           "lat",
           "lon"
          ],
          "fill_value": -32768,
          "grid_mapping": "crs",
          "long_name": "fAPAR_Cab standard_error",
          "missing_value": -32768,
          "orig_data_type": "int16",
          "scale_factor": 3.051851e-05,
          "shape": [
           640618,
           3,
           3
          ],
          "size": 5765562,
          "units": "1",
          "valid_max": 32767,
          "valid_min": -32767
         },
         "dims": [
          "time",
          "lat",
          "lon"
         ],
         "dtype": "int16",
         "name": "fAPAR_Cab_ERR"
        },
        "fAPAR_DHR_NIR_correl": {
         "attrs": {
          "_Unsigned": "false",
          "add_offset": 0,
          "chunk_sizes": [
           1,
           3,
           3
          ],
          "data_type": "uint8",
          "dimensions": [
           "time",
           "lat",
           "lon"
          ],
          "file_chunk_sizes": [
           1,
           3,
           3
          ],
          "file_dimensions": [
           "time",
           "lat",
           "lon"
          ],
          "fill_value": 128,
          "grid_mapping": "crs",
          "long_name": "fAPAR DHR_NIR standard_error_correlation",
          "missing_value": -128,
          "orig_data_type": "uint8",
          "scale_factor": 0.007874016,
          "shape": [
           640618,
           3,
           3
          ],
          "size": 5765562,
          "units": "1",
          "valid_max": 127,
          "valid_min": -127
         },
         "dims": [
          "time",
          "lat",
          "lon"
         ],
         "dtype": "uint8",
         "name": "fAPAR_DHR_NIR_correl"
        },
        "fAPAR_DHR_SW_correl": {
         "attrs": {
          "_Unsigned": "false",
          "add_offset": 0,
          "chunk_sizes": [
           1,
           3,
           3
          ],
          "data_type": "uint8",
          "dimensions": [
           "time",
           "lat",
           "lon"
          ],
          "file_chunk_sizes": [
           1,
           3,
           3
          ],
          "file_dimensions": [
           "time",
           "lat",
           "lon"
          ],
          "fill_value": 128,
          "grid_mapping": "crs",
          "long_name": "fAPAR DHR_SW standard_error_correlation",
          "missing_value": -128,
          "orig_data_type": "uint8",
          "scale_factor": 0.007874016,
          "shape": [
           640618,
           3,
           3
          ],
          "size": 5765562,
          "units": "1",
          "valid_max": 127,
          "valid_min": -127
         },
         "dims": [
          "time",
          "lat",
          "lon"
         ],
         "dtype": "uint8",
         "name": "fAPAR_DHR_SW_correl"
        },
        "fAPAR_DHR_VIS_correl": {
         "attrs": {
          "_Unsigned": "false",
          "add_offset": 0,
          "chunk_sizes": [
           1,
           3,
           3
          ],
          "data_type": "uint8",
          "dimensions": [
           "time",
           "lat",
           "lon"
          ],
          "file_chunk_sizes": [
           1,
           3,
           3
          ],
          "file_dimensions": [
           "time",
           "lat",
           "lon"
          ],
          "fill_value": 128,
          "grid_mapping": "crs",
          "long_name": "fAPAR DHR_VIS standard_error_correlation",
          "missing_value": -128,
          "orig_data_type": "uint8",
          "scale_factor": 0.007874016,
          "shape": [
           640618,
           3,
           3
          ],
          "size": 5765562,
          "units": "1",
          "valid_max": 127,
          "valid_min": -127
         },
         "dims": [
          "time",
          "lat",
          "lon"
         ],
         "dtype": "uint8",
         "name": "fAPAR_DHR_VIS_correl"
        },
        "fAPAR_ERR": {
         "attrs": {
          "add_offset": 1,
          "chunk_sizes": [
           1,
           3,
           3
          ],
          "data_type": "int16",
          "dimensions": [
           "time",
           "lat",
           "lon"
          ],
          "file_chunk_sizes": [
           1,
           3,
           3
          ],
          "file_dimensions": [
           "time",
           "lat",
           "lon"
          ],
          "fill_value": -32768,
          "grid_mapping": "crs",
          "long_name": "fAPAR standard_error",
          "missing_value": -32768,
          "orig_data_type": "int16",
          "scale_factor": 3.051851e-05,
          "shape": [
           640618,
           3,
           3
          ],
          "size": 5765562,
          "units": "1",
          "valid_max": 32767,
          "valid_min": -32767
         },
         "dims": [
          "time",
          "lat",
          "lon"
         ],
         "dtype": "int16",
         "name": "fAPAR_ERR"
        },
        "fAPAR_fAPAR_Cab_correl": {
         "attrs": {
          "_Unsigned": "false",
          "add_offset": 0,
          "chunk_sizes": [
           1,
           3,
           3
          ],
          "data_type": "uint8",
          "dimensions": [
           "time",
           "lat",
           "lon"
          ],
          "file_chunk_sizes": [
           1,
           3,
           3
          ],
          "file_dimensions": [
           "time",
           "lat",
           "lon"
          ],
          "fill_value": 128,
          "grid_mapping": "crs",
          "long_name": "fAPAR fAPAR_Cab standard_error_correlation",
          "missing_value": -128,
          "orig_data_type": "uint8",
          "scale_factor": 0.007874016,
          "shape": [
           640618,
           3,
           3
          ],
          "size": 5765562,
          "units": "1",
          "valid_max": 127,
          "valid_min": -127
         },
         "dims": [
          "time",
          "lat",
          "lon"
         ],
         "dtype": "uint8",
         "name": "fAPAR_fAPAR_Cab_correl"
        },
        "invcode": {
         "attrs": {
          "chunk_sizes": [
           1,
           3,
           3
          ],
          "data_type": "int64",
          "dimensions": [
           "time",
           "lat",
           "lon"
          ],
          "file_chunk_sizes": [
           1,
           3,
           3
          ],
          "file_dimensions": [
           "time",
           "lat",
           "lon"
          ],
          "fill_value": 9223372036854776000,
          "flag_masks": [
           1,
           2,
           4,
           16,
           32,
           64,
           256,
           512,
           4096
          ],
          "flag_meanings": "NOT_PROCESSED OPTIERR_TOO_MANY_ITER OPTIERR_LNSRCH XHESSERR_NOTSYM XHESSERR_INVERSION XHESSERR_NOTPOSDEF RETR_UNTRUSTED RETR_LOW_QUALITY NSP_RETR",
          "flag_values": [
           1,
           2,
           4,
           16,
           32,
           64,
           256,
           512,
           4096
          ],
          "grid_mapping": "crs",
          "long_name": "inversion code",
          "orig_data_type": "int32",
          "shape": [
           640618,
           3,
           3
          ],
          "size": 5765562,
          "valid_max": 2147483647,
          "valid_min": -2147483648
         },
         "dims": [
          "time",
          "lat",
          "lon"
         ],
         "dtype": "int64",
         "name": "invcode"
        },
        "n_bands_used": {
         "attrs": {
          "chunk_sizes": [
           1,
           3,
           3
          ],
          "data_type": "int32",
          "dimensions": [
           "time",
           "lat",
           "lon"
          ],
          "file_chunk_sizes": [
           1,
           3,
           3
          ],
          "file_dimensions": [
           "time",
           "lat",
           "lon"
          ],
          "fill_value": 2147483647,
          "grid_mapping": "crs",
          "long_name": "Number of data contributions to cost function in retrival",
          "missing_value": 2147483647,
          "orig_data_type": "int32",
          "shape": [
           640618,
           3,
           3
          ],
          "size": 5765562,
          "units": "1",
          "valid_max": 2147483646,
          "valid_min": 0
         },
         "dims": [
          "time",
          "lat",
          "lon"
         ],
         "dtype": "int32",
         "name": "n_bands_used"
        },
        "p_chisquare": {
         "attrs": {
          "add_offset": 0.5,
          "chunk_sizes": [
           1,
           3,
           3
          ],
          "data_type": "int16",
          "dimensions": [
           "time",
           "lat",
           "lon"
          ],
          "file_chunk_sizes": [
           1,
           3,
           3
          ],
          "file_dimensions": [
           "time",
           "lat",
           "lon"
          ],
          "fill_value": -32768,
          "grid_mapping": "crs",
          "long_name": "Probability of Chi-square statistics; low values mark bad correspondence of model and data.",
          "missing_value": -32768,
          "orig_data_type": "int16",
          "scale_factor": 1.5259255e-05,
          "shape": [
           640618,
           3,
           3
          ],
          "size": 5765562,
          "units": "1",
          "valid_max": 32767,
          "valid_min": -32767
         },
         "dims": [
          "time",
          "lat",
          "lon"
         ],
         "dtype": "int16",
         "name": "p_chisquare"
        }
       },
       "dims": {
        "lat": 3,
        "lon": 3,
        "nbnds": 2,
        "time": 640618
       },
       "open_params_schema": {
        "additionalProperties": false,
        "properties": {
         "normalize_data": {
          "default": true,
          "type": "boolean"
         },
         "time_range": {
          "items": [
           {
            "format": "date",
            "maxDate": "2020-06-30",
            "minDate": "2000-01-01",
            "type": "string"
           },
           {
            "format": "date",
            "maxDate": "2020-06-30",
            "minDate": "2000-01-01",
            "type": "string"
           }
          ],
          "type": "array"
         },
         "variable_names": {
          "items": {
           "enum": [
            "crs",
            "LAI",
            "LAI_ERR",
            "fAPAR",
            "fAPAR_ERR",
            "LAI_fAPAR_correl",
            "n_bands_used",
            "p_chisquare",
            "invcode",
            "fAPAR_Cab",
            "fAPAR_Cab_ERR",
            "Cab",
            "Cab_ERR",
            "BHR_VIS",
            "BHR_VIS_ERR",
            "BHR_NIR",
            "BHR_NIR_ERR",
            "BHR_SW",
            "BHR_SW_ERR",
            "DHR_VIS",
            "DHR_VIS_ERR",
            "DHR_NIR",
            "DHR_NIR_ERR",
            "DHR_SW",
            "DHR_SW_ERR",
            "Cab_LAI_correl",
            "Cab_fAPAR_correl",
            "Cab_fAPAR_Cab_correl",
            "Cab_BHR_VIS_correl",
            "Cab_BHR_NIR_correl",
            "Cab_BHR_SW_correl",
            "Cab_DHR_VIS_correl",
            "Cab_DHR_NIR_correl",
            "Cab_DHR_SW_correl",
            "LAI_fAPAR_Cab_correl",
            "LAI_BHR_VIS_correl",
            "LAI_BHR_NIR_correl",
            "LAI_BHR_SW_correl",
            "LAI_DHR_VIS_correl",
            "LAI_DHR_NIR_correl",
            "LAI_DHR_SW_correl",
            "fAPAR_fAPAR_Cab_correl",
            "fAPAR_BHR_VIS_correl",
            "fAPAR_BHR_NIR_correl",
            "fAPAR_BHR_SW_correl",
            "fAPAR_DHR_VIS_correl",
            "fAPAR_DHR_NIR_correl",
            "fAPAR_DHR_SW_correl",
            "fAPAR_Cab_BHR_VIS_correl",
            "fAPAR_Cab_BHR_NIR_correl",
            "fAPAR_Cab_BHR_SW_correl",
            "fAPAR_Cab_DHR_VIS_correl",
            "fAPAR_Cab_DHR_NIR_correl",
            "fAPAR_Cab_DHR_SW_correl",
            "BHR_VIS_BHR_NIR_correl",
            "BHR_VIS_BHR_SW_correl",
            "BHR_VIS_DHR_VIS_correl",
            "BHR_VIS_DHR_NIR_correl",
            "BHR_VIS_DHR_SW_correl",
            "BHR_NIR_BHR_SW_correl",
            "BHR_NIR_DHR_VIS_correl",
            "BHR_NIR_DHR_NIR_correl",
            "BHR_NIR_DHR_SW_correl",
            "BHR_SW_DHR_VIS_correl",
            "BHR_SW_DHR_NIR_correl",
            "BHR_SW_DHR_SW_correl",
            "DHR_VIS_DHR_NIR_correl",
            "DHR_VIS_DHR_SW_correl",
            "DHR_NIR_DHR_SW_correl"
           ],
           "type": "string"
          },
          "type": "array"
         }
        },
        "type": "object"
       },
       "time_period": "5D",
       "time_range": [
        "2000-01-01",
        "2020-06-30"
       ]
      },
      "text/plain": [
       "<xcube.core.store.descriptor.DatasetDescriptor at 0x7ffaad33e120>"
      ]
     },
     "execution_count": 5,
     "metadata": {},
     "output_type": "execute_result"
    }
   ],
   "source": [
    "cci_store.describe_data(data_id)"
   ]
  },
  {
   "cell_type": "markdown",
   "id": "c4fd984c-0028-418a-8d9f-37dae390c869",
   "metadata": {},
   "source": [
    "### Step 5: Check Open Parameters for the Dataset\n",
    "\n",
    "Before opening the dataset, we can inspect which parameters are supported by the **Zarr opener** (e.g., `time_range`, `bbox`, `variable_names`). This step helps ensure that we pass valid arguments when loading data and avoid errors.\n",
    "\n",
    "The command below lists all expected input parameters and their allowed values for the selected dataset."
   ]
  },
  {
   "cell_type": "code",
   "execution_count": 6,
   "id": "a0ee1118-47e2-47c4-9401-1bb069776fdc",
   "metadata": {},
   "outputs": [
    {
     "data": {
      "application/json": {
       "additionalProperties": false,
       "properties": {
        "normalize_data": {
         "default": true,
         "type": "boolean"
        },
        "time_range": {
         "items": [
          {
           "format": "date",
           "maxDate": "2020-06-30",
           "minDate": "2000-01-01",
           "type": "string"
          },
          {
           "format": "date",
           "maxDate": "2020-06-30",
           "minDate": "2000-01-01",
           "type": "string"
          }
         ],
         "type": "array"
        },
        "variable_names": {
         "items": {
          "enum": [
           "crs",
           "LAI",
           "LAI_ERR",
           "fAPAR",
           "fAPAR_ERR",
           "LAI_fAPAR_correl",
           "n_bands_used",
           "p_chisquare",
           "invcode",
           "fAPAR_Cab",
           "fAPAR_Cab_ERR",
           "Cab",
           "Cab_ERR",
           "BHR_VIS",
           "BHR_VIS_ERR",
           "BHR_NIR",
           "BHR_NIR_ERR",
           "BHR_SW",
           "BHR_SW_ERR",
           "DHR_VIS",
           "DHR_VIS_ERR",
           "DHR_NIR",
           "DHR_NIR_ERR",
           "DHR_SW",
           "DHR_SW_ERR",
           "Cab_LAI_correl",
           "Cab_fAPAR_correl",
           "Cab_fAPAR_Cab_correl",
           "Cab_BHR_VIS_correl",
           "Cab_BHR_NIR_correl",
           "Cab_BHR_SW_correl",
           "Cab_DHR_VIS_correl",
           "Cab_DHR_NIR_correl",
           "Cab_DHR_SW_correl",
           "LAI_fAPAR_Cab_correl",
           "LAI_BHR_VIS_correl",
           "LAI_BHR_NIR_correl",
           "LAI_BHR_SW_correl",
           "LAI_DHR_VIS_correl",
           "LAI_DHR_NIR_correl",
           "LAI_DHR_SW_correl",
           "fAPAR_fAPAR_Cab_correl",
           "fAPAR_BHR_VIS_correl",
           "fAPAR_BHR_NIR_correl",
           "fAPAR_BHR_SW_correl",
           "fAPAR_DHR_VIS_correl",
           "fAPAR_DHR_NIR_correl",
           "fAPAR_DHR_SW_correl",
           "fAPAR_Cab_BHR_VIS_correl",
           "fAPAR_Cab_BHR_NIR_correl",
           "fAPAR_Cab_BHR_SW_correl",
           "fAPAR_Cab_DHR_VIS_correl",
           "fAPAR_Cab_DHR_NIR_correl",
           "fAPAR_Cab_DHR_SW_correl",
           "BHR_VIS_BHR_NIR_correl",
           "BHR_VIS_BHR_SW_correl",
           "BHR_VIS_DHR_VIS_correl",
           "BHR_VIS_DHR_NIR_correl",
           "BHR_VIS_DHR_SW_correl",
           "BHR_NIR_BHR_SW_correl",
           "BHR_NIR_DHR_VIS_correl",
           "BHR_NIR_DHR_NIR_correl",
           "BHR_NIR_DHR_SW_correl",
           "BHR_SW_DHR_VIS_correl",
           "BHR_SW_DHR_NIR_correl",
           "BHR_SW_DHR_SW_correl",
           "DHR_VIS_DHR_NIR_correl",
           "DHR_VIS_DHR_SW_correl",
           "DHR_NIR_DHR_SW_correl"
          ],
          "type": "string"
         },
         "type": "array"
        }
       },
       "type": "object"
      },
      "text/plain": [
       "<xcube.util.jsonschema.JsonObjectSchema at 0x7ffa3dcf5760>"
      ]
     },
     "execution_count": 6,
     "metadata": {},
     "output_type": "execute_result"
    }
   ],
   "source": [
    "cci_store.get_open_data_params_schema(data_id=data_id, opener_id='dataset:zarr:cciodp')"
   ]
  },
  {
   "cell_type": "markdown",
   "id": "63e58869-eac7-4f36-823c-8eaab9df7380",
   "metadata": {},
   "source": [
    "### Step 6: Define Region, Time Range, and Variables of Interest\n",
    "\n",
    "Before opening the dataset, we define a few key parameters:\n",
    "\n",
    "- **Time range**: the date(s) we want to load\n",
    "- **Variables**: which data variable(s) to retrieve\n",
    "- *(Optional)* **Bounding box**: spatial region of interest — here we skip it to load the global dataset"
   ]
  },
  {
   "cell_type": "code",
   "execution_count": 7,
   "id": "8a2be689-288c-4fb5-abe9-99b4b84eef07",
   "metadata": {},
   "outputs": [],
   "source": [
    "variables = ['LAI']  # Variable to retrieve\n",
    "start_date = '2019-06-01'    # Start and end date (same for a single timestep)\n",
    "end_date = '2019-06-30'\n",
    "# bbox = (-180, -57, 180, 75) # Not supported by dataset"
   ]
  },
  {
   "cell_type": "markdown",
   "id": "14f9e524-ff7f-47e7-af2c-0e8ac2e3d668",
   "metadata": {},
   "source": [
    "### Step 7: Open the Dataset\n",
    "\n",
    "Now we open the dataset using the selected parameters.  \n",
    "The ESA Climate Toolbox will download only the necessary data (e.g., variable and time range).\n",
    "You can always adjust the time range or variables to explore different slices of the dataset."
   ]
  },
  {
   "cell_type": "code",
   "execution_count": 8,
   "id": "145b10bc-68b4-4645-a4a8-761965cb6098",
   "metadata": {},
   "outputs": [],
   "source": [
    "vegetation_ds = cci_store.open_data(\n",
    "    data_id=data_id,\n",
    "    variable_names=variables\n",
    "    # time_range=[start_date, end_date]\n",
    "    # bbox=bbox  # Uncomment if regional selection is needed\n",
    ")"
   ]
  },
  {
   "cell_type": "markdown",
   "id": "26aeedd6-d471-4056-ae4e-3057d7221cc3",
   "metadata": {},
   "source": [
    "### Step 8: Display Dataset Structure\n",
    "\n",
    "We print a summary of the opened dataset to inspect its structure, dimensions, variables, and metadata.  \n",
    "This helps verify that the data was loaded correctly and shows what is available for analysis and visualization.\n",
    "This step is useful to understand what the dataset contains before working with it further."
   ]
  },
  {
   "cell_type": "code",
   "execution_count": 9,
   "id": "192daaeb-241a-4fba-956f-3e7ac8cb04b5",
   "metadata": {},
   "outputs": [
    {
     "name": "stdout",
     "output_type": "stream",
     "text": [
      "\n",
      "Opened Dataset:\n",
      " <xarray.Dataset> Size: 916kB\n",
      "Dimensions:    (time: 9541, lat: 3, lon: 3, nbnds: 2, bnds: 2)\n",
      "Coordinates:\n",
      "  * lat        (lat) float32 12B -10.75 -10.76 -10.77\n",
      "    lat_bnds   (lat, nbnds) float32 24B dask.array<chunksize=(3, 2), meta=np.ndarray>\n",
      "  * lon        (lon) float32 12B -62.37 -62.36 -62.35\n",
      "    lon_bnds   (lon, nbnds) float32 24B dask.array<chunksize=(3, 2), meta=np.ndarray>\n",
      "  * time       (time) datetime64[ns] 76kB 2000-07-01T23:59:59 ... 2003-01-31T...\n",
      "    time_bnds  (time, bnds) datetime64[ns] 153kB dask.array<chunksize=(9541, 2), meta=np.ndarray>\n",
      "Dimensions without coordinates: nbnds, bnds\n",
      "Data variables:\n",
      "    LAI        (time, lat, lon) float64 687kB dask.array<chunksize=(74, 3, 3), meta=np.ndarray>\n",
      "    crs        <U0 0B ...\n",
      "Attributes:\n",
      "    Conventions:             CF-1.7\n",
      "    title:                   esacci.VEGETATION.5-days.L3S.VP_PRODUCTS.VEGETAT...\n",
      "    date_created:            2025-04-16T13:30:38.677259\n",
      "    processing_level:        L3S\n",
      "    time_coverage_start:     2000-01-01T00:00:00\n",
      "    time_coverage_end:       2003-01-31T23:59:59\n",
      "    time_coverage_duration:  P1126DT23H59M59S\n",
      "    history:                 [{'program': 'xcube_cci.chunkstore.CciChunkStore...\n"
     ]
    }
   ],
   "source": [
    "print(\"\\nOpened Dataset:\\n\", vegetation_ds)"
   ]
  },
  {
   "cell_type": "markdown",
   "id": "7671aca3-81d9-472a-a93f-12d447155676",
   "metadata": {},
   "source": [
    "### Step 9: Visualize Results\n",
    "\n",
    "We now create a simple map plot of the selected variable.  \n",
    "This allows us to explore the spatial patterns of the data — in this case, the Aerosol Optical Depth (AOD) for the selected day.\n",
    "For more interactive and advanced visualizations, check out the [ESA Climate Toolbox](https://climate.esa.int/en/data/toolbox/) or the [Toolbox documentation](https://esa-climate-toolbox.readthedocs.io/en/latest/quick_start.html#jupyter-notebooks)."
   ]
  },
  {
   "cell_type": "code",
   "execution_count": 10,
   "id": "65ec997b-a0e8-40d7-8aa9-737a3ac2ec0d",
   "metadata": {
    "scrolled": true
   },
   "outputs": [
    {
     "data": {
      "image/png": "[encoded data removed]",
      "text/plain": [
       "<Figure size 1000x500 with 2 Axes>"
      ]
     },
     "metadata": {},
     "output_type": "display_data"
    }
   ],
   "source": [
    "import matplotlib.pyplot as plt\n",
    "\n",
    "lai = vegetation_ds[\"LAI\"].isel(time=0)\n",
    "\n",
    "# Plot\n",
    "plt.figure(figsize=(10, 5))\n",
    "lai.plot(\n",
    "    cmap=\"YlGn\",  # reverse blues\n",
    "    cbar_kwargs={\"label\": \"LAI\"}\n",
    ")\n",
    "plt.title(\"LAI (Leaf Area Index)\")\n",
    "plt.xlabel(\"Longitude\")\n",
    "plt.ylabel(\"Latitude\")\n",
    "plt.tight_layout()\n",
    "plt.show()"
   ]
  }
 ],
 "metadata": {
  "kernelspec": {
   "display_name": "Python 3 (ipykernel)",
   "language": "python",
   "name": "python3"
  },
  "language_info": {
   "codemirror_mode": {
    "name": "ipython",
    "version": 3
   },
   "file_extension": ".py",
   "mimetype": "text/x-python",
   "name": "python",
   "nbconvert_exporter": "python",
   "pygments_lexer": "ipython3",
   "version": "3.12.7"
  }
 },
 "nbformat": 4,
 "nbformat_minor": 5
}
