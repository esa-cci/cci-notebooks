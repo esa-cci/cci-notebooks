{
 "cells": [
  {
   "cell_type": "markdown",
   "id": "ab36065c-42b2-4539-94b5-c1e048a0e8b4",
   "metadata": {},
   "source": [
    "# Getting Started with Water Vapour CCI Data"
   ]
  },
  {
   "cell_type": "markdown",
   "id": "7820f8bc-21f0-4933-8972-0b19f268532e",
   "metadata": {},
   "source": [
    "### 1. Import Necessary Packages\n",
    "\n",
    "In this section, we import the required Python packages to work with ESA Climate Change Initiative (CCI) data. Most notably, we use the [ESA Climate Toolbox](https://esa-climate-toolbox.readthedocs.io/en/latest/) which simplifies access, manipulation, and visualization of CCI datasets in Python.\n",
    "\n",
    "These packages allow us to:\n",
    "- Access satellite-based climate data records from ESA.\n",
    "- Handle geospatial and temporal dimensions efficiently.\n",
    "- Visualize data with intuitive plotting tools.\n",
    "\n",
    "📚 For a broader introduction to the toolbox and how to install it, visit:  \n",
    "🔗 [ESA CCI Climate Toolbox Quick Start](https://esa-climate-toolbox.readthedocs.io/en/latest/quick_start.html#jupyter-notebooks)  \n",
    "🔗 [ESA Climate Data Toolbox Website](https://climate.esa.int/en/data/toolbox/)"
   ]
  },
  {
   "cell_type": "code",
   "execution_count": 1,
   "id": "f05b0d63-ff02-41f8-9070-f0d9c44d9a3c",
   "metadata": {},
   "outputs": [
    {
     "name": "stderr",
     "output_type": "stream",
     "text": [
      "<frozen abc>:106: FutureWarning: xarray subclass VectorDataCube should explicitly define __slots__\n"
     ]
    }
   ],
   "source": [
    "from xcube.core.store import new_data_store\n",
    "from esa_climate_toolbox.core import get_op\n",
    "from esa_climate_toolbox.core import list_ecv_datasets\n",
    "from esa_climate_toolbox.core import get_store\n",
    "from esa_climate_toolbox.core import list_datasets\n",
    "from esa_climate_toolbox.ops import plot\n",
    "import xarray as xr\n",
    "import matplotlib.pyplot as plt\n",
    "import warnings\n",
    "%matplotlib inline\n",
    "\n",
    "# Suppress FutureWarnings related to xarray subclassing\n",
    "warnings.filterwarnings(\"ignore\", category=FutureWarning, message=\".*xarray subclass VectorDataCube.*\")\n",
    "warnings.filterwarnings(\"ignore\", category=FutureWarning)"
   ]
  },
  {
   "cell_type": "markdown",
   "id": "a2f223ea-569a-4c84-8266-8572f861f3ed",
   "metadata": {},
   "source": [
    "### Step 2: Connect to the ESA CCI Data Store\n",
    "\n",
    "The ESA Climate Toolbox provides direct access to the **ESA Climate Data Store**, which hosts harmonized satellite-based climate data records produced under the **ESA Climate Change Initiative (CCI)**.\n",
    "\n",
    "In this step, we establish a connection to the data store so we can browse and open datasets. This connection allows us to access data **without having to download files manually** — a convenient way to explore and analyze large geospatial datasets in cloud-friendly formats such as **Zarr** or **Kerchunk**.\n",
    "\n",
    "The data store includes a wide range of essential climate variables (ECVs), such as aerosols, land surface temperature, sea level, and soil moisture.\n",
    "\n",
    "📘 Learn more about available datasets:  \n",
    "🔗 [ESA Climate Data Toolbox – Quick Start Guide](https://esa-climate-toolbox.readthedocs.io/en/latest/quick_start.html#data-access)"
   ]
  },
  {
   "cell_type": "code",
   "execution_count": 2,
   "id": "94164c99-2ef2-48d7-b098-6e136ee861af",
   "metadata": {},
   "outputs": [],
   "source": [
    "cci_store = new_data_store(\"esa-cci\")\n",
    "# List all available data sets of an ECV\n",
    "# list_ecv_datasets(\"WATERVAPOUR\")"
   ]
  },
  {
   "cell_type": "markdown",
   "id": "d736f1da-a755-4df7-864a-5f14f988159f",
   "metadata": {},
   "source": [
    "### Step 3: Define the Dataset ID  \n",
    "To work with a specific ESA CCI dataset, we need to specify its **dataset ID**. This unique identifier tells the toolbox which variable and product we want to access.\n",
    "\n",
    "In this example, we're working with the **Water Vapour CCI** dataset, which provides **Total Column Water Vapour (TCWV)** — the total amount of water vapor in a column of the atmosphere. This variable is key for understanding the hydrological cycle, weather systems, and atmospheric dynamics.\n",
    "\n",
    "For other CCI datasets, update the dataset ID and variable name accordingly.\n",
    "\n",
    "We will use the following dataset ID:"
   ]
  },
  {
   "cell_type": "code",
   "execution_count": 3,
   "id": "7672a7f4-be9a-4b8f-a888-93d31647d5b4",
   "metadata": {},
   "outputs": [],
   "source": [
    "data_id = 'esacci.WATERVAPOUR.mon.L3S.TCWV.multi-sensor.multi-platform.TCWV_land_005deg.3-2.r1'"
   ]
  },
  {
   "cell_type": "markdown",
   "id": "817922fd-a86b-4cee-ab9b-5a042692be42",
   "metadata": {},
   "source": [
    "📘 A full list of dataset IDs can be retrieved from the store or found in the [ESA CCI Climate Toolbox documentation](https://esa-climate-toolbox.readthedocs.io/en/latest/quick_start.html#accessing-data)."
   ]
  },
  {
   "cell_type": "markdown",
   "id": "b1e9d068-a81b-4d00-91cb-cc020bd5333a",
   "metadata": {},
   "source": [
    "### Step 4: Describe Dataset (Check Available Variables and Metadata)\n",
    "\n",
    "Before loading the full dataset, it’s helpful to **inspect the metadata** to understand its structure. This includes:\n",
    "\n",
    "- Available variables (e.g., AOD, uncertainty estimates)\n",
    "- Temporal and spatial coverage\n",
    "- Data format and structure\n",
    "\n",
    "This step ensures we know what the dataset contains and how to work with it. It also helps confirm that the variable we want to plot or analyze is actually included.\n",
    "\n",
    "🛠️ Tip: You can use the description to verify variable names, dimensions (e.g., `lat`, `lon`, `time`), and time coverage.\n",
    "\n",
    "📘 More on dataset structure:  \n",
    "🔗 [ESA Climate Toolbox – Data Access](https://esa-climate-toolbox.readthedocs.io/en/latest/quick_start.html#accessing-data)"
   ]
  },
  {
   "cell_type": "code",
   "execution_count": 4,
   "id": "1ccb7546-70f0-479d-bb0a-d902190500af",
   "metadata": {},
   "outputs": [
    {
     "data": {
      "application/json": {
       "attrs": {
        "abstract": "This dataset consists of monthly averaged total column water vapour (TCWV) over land, at a 0.05 degree resolution, observed by various satellite instruments.   It has been produced by the European Space Agency Water Vapour Climate Change Initiative (Water_Vapour_cci), and forms part of their TCVW over land Climate Data Record -1  (TCWV-land (CDR-1).\n\nThis version of the data is v3.2.  This is an updated dataset, which fixes an issue with the filtering of the v3.1 data.",
        "catalog_url": "https://catalogue.ceda.ac.uk/uuid/d1c2018e17d54df384fdbf562d2a9e8b",
        "cci_project": "WATERVAPOUR",
        "comment": "These data were produced in the frame of the Water Vapour ECV (Water_Vapour_cci) of the ESA Climate Change Initiative Extension (CCI+) Phase 1.",
        "data_type": "TCWV",
        "ecv": "WATERVAPOUR",
        "history": "python nc-compliance-py-process.py /hd3/yarn/local/usercache/olaf/appcache/application_1640808937980_44092/container_1640808937980_44092_01_000002/l3_tcwv_meris_005deg_2002-09-01_2002-09-30.nc",
        "institute": "European Space Agency",
        "platform_id": "multi-platform",
        "processing_level": "L3S",
        "product_string": "TCWV_land_005deg",
        "product_version": "3-2",
        "project": "Climate Change Initiative - European Space Agency",
        "publication_date": "2022-02-21T16:54:20",
        "references": "WV_cci D2.2: ATBD Part 1 - MERIS-MODIS-OLCI L2 Products, Issue 2.1, 21 January 2021; WV_cci D4.2: CRDP Issue 3.0, 11 August 2021 ",
        "sensor_id": "multi-sensor",
        "source": "Near-infrared Level 3 data over land from Brockmann Consult and Spectral Earth",
        "title": "ESA Water Vapour Climate Change Initiative (Water_Vapour_cci): Total Column Water Vapour monthly gridded data over land at 0.05 degree resolution, version 3.2",
        "uuid": "d1c2018e17d54df384fdbf562d2a9e8b"
       },
       "bbox": [
        -180,
        -90,
        180,
        90
       ],
       "coords": {
        "lat": {
         "attrs": {
          "axis": "Y",
          "bounds": "lat_bnds",
          "chunk_sizes": 3600,
          "data_type": "float64",
          "dimensions": [
           "lat"
          ],
          "file_chunk_sizes": 3600,
          "file_dimensions": [
           "lat"
          ],
          "fill_value": null,
          "long_name": "Latitude",
          "orig_data_type": "float64",
          "reference_datum": "geographical coordinates, WGS84 projection",
          "shape": [
           3600
          ],
          "size": 3600,
          "standard_name": "latitude",
          "units": "degrees_north ",
          "valid_range": [
           -90,
           90
          ]
         },
         "dims": [
          "lat"
         ],
         "dtype": "float64",
         "name": "lat"
        },
        "lat_bnds": {
         "attrs": {
          "chunk_sizes": [
           3600,
           2
          ],
          "comment": "Contains the northern and southern boundaries of the grid cells.",
          "data_type": "float32",
          "dimensions": [
           "lat",
           "nv"
          ],
          "file_chunk_sizes": [
           3600,
           2
          ],
          "file_dimensions": [
           "lat",
           "nv"
          ],
          "fill_value": null,
          "long_name": "Latitude cell boundaries",
          "orig_data_type": "float32",
          "reference_datum": "geographical coordinates, WGS84 projection",
          "shape": [
           3600,
           2
          ],
          "size": 7200,
          "valid_range": [
           -90,
           90
          ]
         },
         "dims": [
          "lat",
          "nv"
         ],
         "dtype": "float32",
         "name": "lat_bnds"
        },
        "lon": {
         "attrs": {
          "axis": "X",
          "bounds": "lon_bnds",
          "chunk_sizes": 7200,
          "data_type": "float64",
          "dimensions": [
           "lon"
          ],
          "file_chunk_sizes": 7200,
          "file_dimensions": [
           "lon"
          ],
          "fill_value": null,
          "long_name": "Longitude",
          "orig_data_type": "float64",
          "reference_datum": "geographical coordinates, WGS84 projection",
          "shape": [
           7200
          ],
          "size": 7200,
          "standard_name": "longitude",
          "units": "degrees_east",
          "valid_range": [
           -180,
           180
          ]
         },
         "dims": [
          "lon"
         ],
         "dtype": "float64",
         "name": "lon"
        },
        "lon_bnds": {
         "attrs": {
          "chunk_sizes": [
           7200,
           2
          ],
          "comment": "Contains the eastern and western boundaries of the grid cells.",
          "data_type": "float32",
          "dimensions": [
           "lon",
           "nv"
          ],
          "file_chunk_sizes": [
           7200,
           2
          ],
          "file_dimensions": [
           "lon",
           "nv"
          ],
          "fill_value": null,
          "long_name": "Longitude cell boundaries",
          "orig_data_type": "float32",
          "reference_datum": "geographical coordinates, WGS84 projection",
          "shape": [
           7200,
           2
          ],
          "size": 14400,
          "valid_range": [
           -180,
           180
          ]
         },
         "dims": [
          "lon",
          "nv"
         ],
         "dtype": "float32",
         "name": "lon_bnds"
        },
        "time": {
         "attrs": {
          "axis": "T",
          "bounds": "time_bnds",
          "calendar": "gregorian",
          "chunk_sizes": 1,
          "data_type": "int64",
          "dimensions": [
           "time"
          ],
          "file_chunk_sizes": 1,
          "file_dimensions": [
           "time"
          ],
          "fill_value": 9223372036854776000,
          "long_name": "Product dataset time given as days since 1970-01-01",
          "orig_data_type": "int32",
          "shape": [
           186
          ],
          "size": 186,
          "standard_name": "time",
          "units": "days since 1970-01-01"
         },
         "dims": [
          "time"
         ],
         "dtype": "int64",
         "name": "time"
        },
        "time_bnds": {
         "attrs": {
          "chunk_sizes": [
           1,
           2
          ],
          "comment": "Contains the start and end times for the time period the data represent.",
          "data_type": "int64",
          "dimensions": [
           "time",
           "nv"
          ],
          "file_chunk_sizes": [
           1,
           2
          ],
          "file_dimensions": [
           "time",
           "nv"
          ],
          "fill_value": 9223372036854776000,
          "long_name": "Time cell boundaries",
          "orig_data_type": "int32",
          "shape": [
           186,
           2
          ],
          "size": 372
         },
         "dims": [
          "time",
          "nv"
         ],
         "dtype": "int64",
         "name": "time_bnds"
        }
       },
       "crs": "WGS84",
       "data_id": "esacci.WATERVAPOUR.mon.L3S.TCWV.multi-sensor.multi-platform.TCWV_land_005deg.3-2.r1",
       "data_type": "dataset",
       "data_vars": {
        "crs": {
         "attrs": {
          "chunk_sizes": [
           1
          ],
          "comment": "A coordinate reference system (CRS) defines how the georeferenced spatial data relates to real locations on the Earth's surface ",
          "data_type": "int64",
          "dimensions": [],
          "file_chunk_sizes": [
           1
          ],
          "file_dimensions": [],
          "fill_value": 9223372036854776000,
          "i2m": "0.05,0.0,0.0,-0.05,-180.0,90.0",
          "long_name": "Coordinate Reference System ",
          "orig_data_type": "int32",
          "shape": [
           1
          ],
          "size": 1,
          "wkt": "GEOGCS[\\\"WGS84(DD)\\\", \n  DATUM[\\\"WGS84\\\", \n    SPHEROID[\\\"WGS84\\\", 6378137.0, 298.257223563]], \n  PRIMEM[\\\"Greenwich\\\", 0.0], \n  UNIT[\\\"degree\\\", 0.017453292519943295], \n  AXIS[\\\"Geodetic longitude\\\", EAST], \n  AXIS[\\\"Geodetic latitude\\\", NORTH]]"
         },
         "dims": [],
         "dtype": "int64",
         "name": "crs"
        },
        "num_days_tcwv": {
         "attrs": {
          "chunk_sizes": [
           1,
           720,
           1440
          ],
          "coordinates": "lat lon",
          "data_type": "int32",
          "dimensions": [
           "time",
           "lat",
           "lon"
          ],
          "file_chunk_sizes": [
           1,
           720,
           1440
          ],
          "file_dimensions": [
           "time",
           "lat",
           "lon"
          ],
          "fill_value": -1,
          "long_name": "Number of days in month with a valid TCWV value in L3 grid cell",
          "orig_data_type": "int32",
          "shape": [
           186,
           3600,
           7200
          ],
          "size": 4821120000,
          "units": " "
         },
         "dims": [
          "time",
          "lat",
          "lon"
         ],
         "dtype": "int32",
         "name": "num_days_tcwv"
        },
        "num_obs": {
         "attrs": {
          "chunk_sizes": [
           1,
           720,
           1440
          ],
          "coordinates": "lat lon",
          "data_type": "float32",
          "dimensions": [
           "time",
           "lat",
           "lon"
          ],
          "file_chunk_sizes": [
           1,
           720,
           1440
          ],
          "file_dimensions": [
           "time",
           "lat",
           "lon"
          ],
          "fill_value": null,
          "long_name": "Number of Total Column of Water Vapour retrievals contributing to L3 grid cell",
          "orig_data_type": "float32",
          "shape": [
           186,
           3600,
           7200
          ],
          "size": 4821120000,
          "units": " "
         },
         "dims": [
          "time",
          "lat",
          "lon"
         ],
         "dtype": "float32",
         "name": "num_obs"
        },
        "stdv": {
         "attrs": {
          "chunk_sizes": [
           1,
           720,
           1440
          ],
          "coordinates": "lat lon",
          "data_type": "float32",
          "dimensions": [
           "time",
           "lat",
           "lon"
          ],
          "file_chunk_sizes": [
           1,
           720,
           1440
          ],
          "file_dimensions": [
           "time",
           "lat",
           "lon"
          ],
          "fill_value": null,
          "long_name": "Standard deviation of Total Column of Water Vapour",
          "orig_data_type": "float32",
          "shape": [
           186,
           3600,
           7200
          ],
          "size": 4821120000,
          "units": "kg/m2"
         },
         "dims": [
          "time",
          "lat",
          "lon"
         ],
         "dtype": "float32",
         "name": "stdv"
        },
        "surface_type_flag": {
         "attrs": {
          "_Unsigned": "false",
          "chunk_sizes": [
           1,
           1200,
           2400
          ],
          "data_type": "uint16",
          "dimensions": [
           "time",
           "lat",
           "lon"
          ],
          "file_chunk_sizes": [
           1,
           1200,
           2400
          ],
          "file_dimensions": [
           "time",
           "lat",
           "lon"
          ],
          "fill_value": 65535,
          "flag_meanings": "LAND OCEAN CLOUD_OVER_LAND HEAVY_PRECIP_OVER_OCEAN SEA_ICE COAST PARTLY_CLOUDY_OVER_LAND PARTLY_SEA_ICE",
          "flag_values": [
           0,
           1,
           2,
           3,
           4,
           5,
           6,
           7
          ],
          "long_name": "Surface type flag",
          "orig_data_type": "uint8",
          "shape": [
           186,
           3600,
           7200
          ],
          "size": 4821120000,
          "standard_name": "status_flag ",
          "units": " ",
          "valid_range": [
           0,
           7
          ]
         },
         "dims": [
          "time",
          "lat",
          "lon"
         ],
         "dtype": "uint16",
         "name": "surface_type_flag"
        },
        "tcwv": {
         "attrs": {
          "actual_range": [
           0.009999994,
           69.950005
          ],
          "ancillary_variables": "stdv num_obs",
          "chunk_sizes": [
           1,
           720,
           1440
          ],
          "coordinates": "lat lon",
          "data_type": "float32",
          "dimensions": [
           "time",
           "lat",
           "lon"
          ],
          "file_chunk_sizes": [
           1,
           720,
           1440
          ],
          "file_dimensions": [
           "time",
           "lat",
           "lon"
          ],
          "fill_value": null,
          "long_name": "Total Column of Water",
          "orig_data_type": "float32",
          "shape": [
           186,
           3600,
           7200
          ],
          "size": 4821120000,
          "standard_name": "atmosphere_water_vapor_content ",
          "units": "kg/m2",
          "valid_range": [
           0,
           70
          ]
         },
         "dims": [
          "time",
          "lat",
          "lon"
         ],
         "dtype": "float32",
         "name": "tcwv"
        },
        "tcwv_err": {
         "attrs": {
          "chunk_sizes": [
           1,
           720,
           1440
          ],
          "coordinates": "lat lon",
          "data_type": "float32",
          "dimensions": [
           "time",
           "lat",
           "lon"
          ],
          "file_chunk_sizes": [
           1,
           720,
           1440
          ],
          "file_dimensions": [
           "time",
           "lat",
           "lon"
          ],
          "fill_value": null,
          "long_name": "Average retrieval uncertainty",
          "orig_data_type": "float32",
          "shape": [
           186,
           3600,
           7200
          ],
          "size": 4821120000,
          "units": "kg/m2"
         },
         "dims": [
          "time",
          "lat",
          "lon"
         ],
         "dtype": "float32",
         "name": "tcwv_err"
        },
        "tcwv_ran": {
         "attrs": {
          "chunk_sizes": [
           1,
           720,
           1440
          ],
          "coordinates": "lat lon",
          "data_type": "float32",
          "dimensions": [
           "time",
           "lat",
           "lon"
          ],
          "file_chunk_sizes": [
           1,
           720,
           1440
          ],
          "file_dimensions": [
           "time",
           "lat",
           "lon"
          ],
          "fill_value": null,
          "long_name": "Random retrieval uncertainty",
          "orig_data_type": "float32",
          "shape": [
           186,
           3600,
           7200
          ],
          "size": 4821120000,
          "units": "kg/m2"
         },
         "dims": [
          "time",
          "lat",
          "lon"
         ],
         "dtype": "float32",
         "name": "tcwv_ran"
        }
       },
       "dims": {
        "lat": 3600,
        "lon": 7200,
        "nv": 2,
        "time": 186
       },
       "open_params_schema": {
        "additionalProperties": false,
        "properties": {
         "bbox": {
          "items": [
           {
            "maximum": 180,
            "minimum": -180,
            "type": "number"
           },
           {
            "maximum": 90,
            "minimum": -90,
            "type": "number"
           },
           {
            "maximum": 180,
            "minimum": -180,
            "type": "number"
           },
           {
            "maximum": 90,
            "minimum": -90,
            "type": "number"
           }
          ],
          "type": "array"
         },
         "normalize_data": {
          "default": true,
          "type": "boolean"
         },
         "time_range": {
          "items": [
           {
            "format": "date",
            "maxDate": "2017-12-31",
            "minDate": "2002-07-01",
            "type": "string"
           },
           {
            "format": "date",
            "maxDate": "2017-12-31",
            "minDate": "2002-07-01",
            "type": "string"
           }
          ],
          "type": "array"
         },
         "variable_names": {
          "items": {
           "enum": [
            "surface_type_flag",
            "num_days_tcwv",
            "tcwv",
            "num_obs",
            "stdv",
            "tcwv_err",
            "tcwv_ran",
            "crs"
           ],
           "type": "string"
          },
          "type": "array"
         }
        },
        "type": "object"
       },
       "spatial_res": 0.05,
       "time_period": "1M",
       "time_range": [
        "2002-07-01",
        "2017-12-31"
       ]
      },
      "text/plain": [
       "<xcube.core.store.descriptor.DatasetDescriptor at 0x7f8584b27350>"
      ]
     },
     "execution_count": 4,
     "metadata": {},
     "output_type": "execute_result"
    }
   ],
   "source": [
    "cci_store.describe_data(data_id)"
   ]
  },
  {
   "cell_type": "markdown",
   "id": "c4fd984c-0028-418a-8d9f-37dae390c869",
   "metadata": {},
   "source": [
    "### Step 5: Check Open Parameters for the Dataset\n",
    "\n",
    "Before opening the dataset, we can inspect which parameters are supported by the **Zarr opener** (e.g., `time_range`, `bbox`, `variable_names`). This step helps ensure that we pass valid arguments when loading data and avoid errors.\n",
    "\n",
    "The command below lists all expected input parameters and their allowed values for the selected dataset."
   ]
  },
  {
   "cell_type": "code",
   "execution_count": 5,
   "id": "a0ee1118-47e2-47c4-9401-1bb069776fdc",
   "metadata": {},
   "outputs": [
    {
     "data": {
      "application/json": {
       "additionalProperties": false,
       "properties": {
        "bbox": {
         "items": [
          {
           "maximum": 180,
           "minimum": -180,
           "type": "number"
          },
          {
           "maximum": 90,
           "minimum": -90,
           "type": "number"
          },
          {
           "maximum": 180,
           "minimum": -180,
           "type": "number"
          },
          {
           "maximum": 90,
           "minimum": -90,
           "type": "number"
          }
         ],
         "type": "array"
        },
        "normalize_data": {
         "default": true,
         "type": "boolean"
        },
        "time_range": {
         "items": [
          {
           "format": "date",
           "maxDate": "2017-12-31",
           "minDate": "2002-07-01",
           "type": "string"
          },
          {
           "format": "date",
           "maxDate": "2017-12-31",
           "minDate": "2002-07-01",
           "type": "string"
          }
         ],
         "type": "array"
        },
        "variable_names": {
         "items": {
          "enum": [
           "surface_type_flag",
           "num_days_tcwv",
           "tcwv",
           "num_obs",
           "stdv",
           "tcwv_err",
           "tcwv_ran",
           "crs"
          ],
          "type": "string"
         },
         "type": "array"
        }
       },
       "type": "object"
      },
      "text/plain": [
       "<xcube.util.jsonschema.JsonObjectSchema at 0x7f857c6d8ec0>"
      ]
     },
     "execution_count": 5,
     "metadata": {},
     "output_type": "execute_result"
    }
   ],
   "source": [
    "cci_store.get_open_data_params_schema(data_id=data_id, opener_id='dataset:zarr:cciodp')"
   ]
  },
  {
   "cell_type": "markdown",
   "id": "63e58869-eac7-4f36-823c-8eaab9df7380",
   "metadata": {},
   "source": [
    "### Step 6: Define Region, Time Range, and Variables of Interest\n",
    "\n",
    "Before opening the dataset, we define a few key parameters:\n",
    "\n",
    "- **Time range**: the date(s) we want to load\n",
    "- **Variables**: which data variable(s) to retrieve\n",
    "- *(Optional)* **Bounding box**: spatial region of interest — here we skip it to load the global dataset"
   ]
  },
  {
   "cell_type": "code",
   "execution_count": 6,
   "id": "8a2be689-288c-4fb5-abe9-99b4b84eef07",
   "metadata": {},
   "outputs": [],
   "source": [
    "variables = ['tcwv']  # Variable to retrieve\n",
    "start_date = '2017-06-01'    # Start and end date (same for a single timestep)\n",
    "end_date = '2017-06-30'\n",
    "# bbox = (-10.0, 35.0, 30.0, 60.0)  # Optional: restrict to a region like Europe"
   ]
  },
  {
   "cell_type": "markdown",
   "id": "14f9e524-ff7f-47e7-af2c-0e8ac2e3d668",
   "metadata": {},
   "source": [
    "### Step 7: Open the Dataset\n",
    "\n",
    "Now we open the dataset using the selected parameters.  \n",
    "The ESA Climate Toolbox will download only the necessary data (e.g., variable and time range).\n",
    "You can always adjust the time range or variables to explore different slices of the dataset."
   ]
  },
  {
   "cell_type": "code",
   "execution_count": 7,
   "id": "145b10bc-68b4-4645-a4a8-761965cb6098",
   "metadata": {},
   "outputs": [],
   "source": [
    "wv_ds = cci_store.open_data(\n",
    "    data_id=data_id,\n",
    "    variable_names=variables,\n",
    "    time_range=[start_date, end_date]\n",
    "    # bbox=bbox  # Uncomment if regional selection is needed\n",
    ")"
   ]
  },
  {
   "cell_type": "markdown",
   "id": "26aeedd6-d471-4056-ae4e-3057d7221cc3",
   "metadata": {},
   "source": [
    "### Step 8: Display Dataset Structure\n",
    "\n",
    "We print a summary of the opened dataset to inspect its structure, dimensions, variables, and metadata.  \n",
    "This helps verify that the data was loaded correctly and shows what is available for analysis and visualization.\n",
    "This step is useful to understand what the dataset contains before working with it further."
   ]
  },
  {
   "cell_type": "code",
   "execution_count": 8,
   "id": "192daaeb-241a-4fba-956f-3e7ac8cb04b5",
   "metadata": {},
   "outputs": [
    {
     "name": "stdout",
     "output_type": "stream",
     "text": [
      "\n",
      "Opened Dataset:\n",
      " <xarray.Dataset> Size: 104MB\n",
      "Dimensions:    (lat: 3600, nv: 2, lon: 7200, time: 1, bnds: 2)\n",
      "Coordinates:\n",
      "  * lat        (lat) float64 29kB 89.97 89.92 89.88 ... -89.88 -89.93 -89.98\n",
      "    lat_bnds   (lat, nv) float32 29kB dask.array<chunksize=(3600, 2), meta=np.ndarray>\n",
      "  * lon        (lon) float64 58kB -180.0 -179.9 -179.9 ... 179.9 179.9 180.0\n",
      "    lon_bnds   (lon, nv) float32 58kB dask.array<chunksize=(7200, 2), meta=np.ndarray>\n",
      "  * time       (time) datetime64[ns] 8B 2017-06-16\n",
      "    time_bnds  (time, bnds) datetime64[ns] 16B dask.array<chunksize=(1, 2), meta=np.ndarray>\n",
      "Dimensions without coordinates: nv, bnds\n",
      "Data variables:\n",
      "    tcwv       (time, lat, lon) float32 104MB dask.array<chunksize=(1, 720, 1440), meta=np.ndarray>\n",
      "Attributes:\n",
      "    Conventions:             CF-1.7\n",
      "    title:                   esacci.WATERVAPOUR.mon.L3S.TCWV.multi-sensor.mul...\n",
      "    date_created:            2025-04-15T14:44:23.157076\n",
      "    processing_level:        L3S\n",
      "    time_coverage_start:     2017-06-01T00:00:00\n",
      "    time_coverage_end:       2017-07-01T00:00:00\n",
      "    time_coverage_duration:  P30DT0H0M0S\n",
      "    history:                 [{'program': 'xcube_cci.chunkstore.CciChunkStore...\n"
     ]
    }
   ],
   "source": [
    "print(\"\\nOpened Dataset:\\n\", wv_ds)"
   ]
  },
  {
   "cell_type": "markdown",
   "id": "7671aca3-81d9-472a-a93f-12d447155676",
   "metadata": {},
   "source": [
    "### Step 9: Visualize Results\n",
    "\n",
    "We now create a simple map plot of the selected variable.  \n",
    "This allows us to explore the spatial patterns of the data — in this case, the Aerosol Optical Depth (AOD) for the selected day.\n",
    "For more interactive and advanced visualizations, check out the [ESA Climate Toolbox](https://climate.esa.int/en/data/toolbox/) or the [Toolbox documentation](https://esa-climate-toolbox.readthedocs.io/en/latest/quick_start.html#jupyter-notebooks)."
   ]
  },
  {
   "cell_type": "code",
   "execution_count": null,
   "id": "65ec997b-a0e8-40d7-8aa9-737a3ac2ec0d",
   "metadata": {
    "scrolled": true
   },
   "outputs": [],
   "source": [
    "import matplotlib.pyplot as plt\n",
    "import cartopy.crs as ccrs\n",
    "import pandas as pd\n",
    "\n",
    "# Extract and format time\n",
    "time_str = pd.to_datetime(wv_ds[\"time\"].values[0]).strftime(\"%B %Y\")\n",
    "\n",
    "# Load the variable and coordinates\n",
    "tcwv = wv_ds[\"tcwv\"].isel(time=0).squeeze().load()\n",
    "lat = wv_ds[\"lat\"].values\n",
    "lon = wv_ds[\"lon\"].values\n",
    "\n",
    "# Create the plot\n",
    "fig = plt.figure(figsize=(12, 5))\n",
    "ax = plt.axes(projection=ccrs.PlateCarree())\n",
    "\n",
    "mesh = ax.pcolormesh(\n",
    "    lon, lat, tcwv,\n",
    "    cmap=\"YlGnBu\",\n",
    "    transform=ccrs.PlateCarree()\n",
    ")\n",
    "\n",
    "ax.coastlines()\n",
    "plt.colorbar(mesh, ax=ax, orientation='vertical', label=\"Total Column Water Vapour (kg/m²)\")\n",
    "plt.title(f\"Monthly Mean Water Vapour CCI – TCWV for {time_str}\")\n",
    "plt.tight_layout()\n",
    "plt.show()"
   ]
  }
 ],
 "metadata": {
  "kernelspec": {
   "display_name": "Python 3 (ipykernel)",
   "language": "python",
   "name": "python3"
  },
  "language_info": {
   "codemirror_mode": {
    "name": "ipython",
    "version": 3
   },
   "file_extension": ".py",
   "mimetype": "text/x-python",
   "name": "python",
   "nbconvert_exporter": "python",
   "pygments_lexer": "ipython3",
   "version": "3.12.7"
  }
 },
 "nbformat": 4,
 "nbformat_minor": 5
}
