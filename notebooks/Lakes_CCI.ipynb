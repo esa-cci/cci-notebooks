{
 "cells": [
  {
   "cell_type": "markdown",
   "id": "ab36065c-42b2-4539-94b5-c1e048a0e8b4",
   "metadata": {},
   "source": [
    "# Getting Started with Lakes CCI Data"
   ]
  },
  {
   "cell_type": "markdown",
   "id": "7820f8bc-21f0-4933-8972-0b19f268532e",
   "metadata": {},
   "source": [
    "### 1. Import Necessary Packages\n",
    "\n",
    "In this section, we import the required Python packages to work with ESA Climate Change Initiative (CCI) data. Most notably, we use the [ESA Climate Toolbox](https://esa-climate-toolbox.readthedocs.io/en/latest/) which simplifies access, manipulation, and visualization of CCI datasets in Python.\n",
    "\n",
    "These packages allow us to:\n",
    "- Access satellite-based climate data records from ESA.\n",
    "- Handle geospatial and temporal dimensions efficiently.\n",
    "- Visualize data with intuitive plotting tools.\n",
    "\n",
    "📚 For a broader introduction to the toolbox and how to install it, visit:  \n",
    "🔗 [ESA CCI Climate Toolbox Quick Start](https://esa-climate-toolbox.readthedocs.io/en/latest/quick_start.html#jupyter-notebooks)  \n",
    "🔗 [ESA Climate Data Toolbox Website](https://climate.esa.int/en/data/toolbox/)"
   ]
  },
  {
   "cell_type": "code",
   "execution_count": 1,
   "id": "f05b0d63-ff02-41f8-9070-f0d9c44d9a3c",
   "metadata": {},
   "outputs": [
    {
     "name": "stderr",
     "output_type": "stream",
     "text": [
      "<frozen abc>:106: FutureWarning: xarray subclass VectorDataCube should explicitly define __slots__\n"
     ]
    }
   ],
   "source": [
    "from xcube.core.store import new_data_store\n",
    "from esa_climate_toolbox.core import get_op\n",
    "from esa_climate_toolbox.core import list_ecv_datasets\n",
    "from esa_climate_toolbox.core import get_store\n",
    "from esa_climate_toolbox.core import list_datasets\n",
    "from esa_climate_toolbox.ops import plot\n",
    "import xarray as xr\n",
    "import matplotlib.pyplot as plt\n",
    "import warnings\n",
    "%matplotlib inline"
   ]
  },
  {
   "cell_type": "markdown",
   "id": "a2f223ea-569a-4c84-8266-8572f861f3ed",
   "metadata": {},
   "source": [
    "### Step 2: Connect to the ESA CCI Data Store\n",
    "\n",
    "The ESA Climate Toolbox provides direct access to the **ESA Climate Data Store**, which hosts harmonized satellite-based climate data records produced under the **ESA Climate Change Initiative (CCI)**.\n",
    "\n",
    "In this step, we establish a connection to the data store so we can browse and open datasets. This connection allows us to access data **without having to download files manually** — a convenient way to explore and analyze large geospatial datasets in cloud-friendly formats such as **Zarr** or **Kerchunk**.\n",
    "\n",
    "The data store includes a wide range of essential climate variables (ECVs), such as aerosols, land surface temperature, sea level, and soil moisture.\n",
    "\n",
    "📘 Learn more about available datasets:  \n",
    "🔗 [ESA Climate Data Toolbox – Quick Start Guide](https://esa-climate-toolbox.readthedocs.io/en/latest/quick_start.html#data-access)"
   ]
  },
  {
   "cell_type": "code",
   "execution_count": 2,
   "id": "94164c99-2ef2-48d7-b098-6e136ee861af",
   "metadata": {},
   "outputs": [],
   "source": [
    "cci_store = new_data_store(\"esa-cci\")\n",
    "# List all available data sets of an ECV\n",
    "# list_ecv_datasets(\"Lakes\")"
   ]
  },
  {
   "cell_type": "markdown",
   "id": "d736f1da-a755-4df7-864a-5f14f988159f",
   "metadata": {},
   "source": [
    "### Step 3: Define the Dataset ID  \n",
    "To work with a specific ESA CCI dataset, we need to specify its **dataset ID**. This unique identifier tells the toolbox which variable and product we want to access.\n",
    "\n",
    "In this example, we are using a dataset from the **Lakes CCI** project that provides daily Level 3 surface temperature products for inland water bodies. These data are derived from satellite observations using multiple sensors and are valuable for monitoring climate-related changes in freshwater systems.\n",
    "\n",
    "The key variable used in this example is `lake_surface_water_temperature`, which provides the skin temperature of lake surfaces globally.\n",
    "\n",
    "We will use the following dataset ID:"
   ]
  },
  {
   "cell_type": "code",
   "execution_count": 3,
   "id": "7672a7f4-be9a-4b8f-a888-93d31647d5b4",
   "metadata": {},
   "outputs": [],
   "source": [
    "data_id = 'esacci.LAKES.day.L3S.LK_PRODUCTS.multi-sensor.multi-platform.MERGED.v2-1-0.r1'"
   ]
  },
  {
   "cell_type": "markdown",
   "id": "817922fd-a86b-4cee-ab9b-5a042692be42",
   "metadata": {},
   "source": [
    "📘 A full list of dataset IDs can be retrieved from the store or found in the [ESA CCI Climate Toolbox documentation](https://esa-climate-toolbox.readthedocs.io/en/latest/quick_start.html#accessing-data)."
   ]
  },
  {
   "cell_type": "markdown",
   "id": "b1e9d068-a81b-4d00-91cb-cc020bd5333a",
   "metadata": {},
   "source": [
    "### Step 4: Describe Dataset (Check Available Variables and Metadata)\n",
    "\n",
    "Before loading the full dataset, it’s helpful to **inspect the metadata** to understand its structure. This includes:\n",
    "\n",
    "- Available variables (e.g., AOD, uncertainty estimates)\n",
    "- Temporal and spatial coverage\n",
    "- Data format and structure\n",
    "\n",
    "This step ensures we know what the dataset contains and how to work with it. It also helps confirm that the variable we want to plot or analyze is actually included.\n",
    "\n",
    "🛠️ Tip: You can use the description to verify variable names, dimensions (e.g., `lat`, `lon`, `time`), and time coverage.\n",
    "\n",
    "📘 More on dataset structure:  \n",
    "🔗 [ESA Climate Toolbox – Data Access](https://esa-climate-toolbox.readthedocs.io/en/latest/quick_start.html#accessing-data)"
   ]
  },
  {
   "cell_type": "code",
   "execution_count": 4,
   "id": "1ccb7546-70f0-479d-bb0a-d902190500af",
   "metadata": {},
   "outputs": [
    {
     "data": {
      "application/json": {
       "attrs": {
        "abstract": "This dataset contains the Lakes Essential Climate Variable, which is comprised of processed satellite observations at the global scale, over the period 1992-2022, for over 2000 inland water bodies. This dataset was produced by the European Space Agency (ESA) Lakes Climate Change Initiative (Lakes_cci) project. For more information about the Lakes_cci please visit the project website. \n\nThis is version 2.1.0 of the dataset.\n\nThe six thematic climate variables included in this dataset are:\n• Lake Water Level (LWL), derived from satellite altimetry, is fundamental to understand the balance between water inputs and water loss and their connection with regional and global climate change.\n• Lake Water Extent (LWE), modelled from the relation between LWL and high-resolution spatial extent observed at set time-points, describes the areal extent of the water body. This allows the observation of drought in arid environments, expansion in high Asia, or impact of large-scale atmospheric oscillations on lakes in tropical regions for example. .\n• Lake Surface Water temperature (LSWT), derived from optical and thermal satellite observations, is correlated with regional air temperatures and is informative about vertical mixing regimes, driving biogeochemical cycling and seasonality.\n• Lake Ice Cover (LIC), determined from optical observations, describes the freeze-up in autumn and break-up of ice in spring, which are proxies for gradually changing climate patterns and seasonality.\n• Lake Water-Leaving Reflectance (LWLR), derived from optical satellite observations, is a direct indicator of biogeochemical processes and habitats in the visible part of the water column (e.g. seasonal phytoplankton biomass fluctuations), and an indicator of the frequency of extreme events (peak terrestrial run-off, changing mixing conditions).\n• Lake Ice Thickness (LIT), containing LIT information over Great Slave lake from 2002-2022.\n\nData generated in the Lakes_cci are derived from multiple satellite sensors including: TOPEX/Poseidon, Jason, ENVISAT, SARAL, Sentinel 2-3, Landsat 4, 5, 7 and 8, ERS-1, ERS-2, Terra/Aqua and Metop-A/B.\n\nSatellite sensors associated with the thematic climate variables are as follows:\nLWL: TOPEX/Poseidon, Jason-1, Jason-2, Jason-3, Sentinel-6A, Envisat RA/RA-2, SARAL AltiKa, GFO, Sentinel-3A SRAL, Sentinel-3B SRAL, ERS-1 RA, ERS-2; \nLWE: Landsat 4 TM, 5 TM, 7 ETM+, 8 OLI, Sentinel-1 C-band SAR, Sentinel-2 MSI, Sentinel-3A SRAL, Sentinel-3B SRAL, ERS-1 AMI, ERS-2 AMI;\nLSWT: Envisat AATSR, Terra/Aqua MODIS, Sentinel-3A ATTSR-2, Sentinel-3B, ERS-2 AVHRR, Metop-A/B; \nLIC: Terra/Aqua MODIS; \nLWLR: Envisat MERIS, Sentinel-3A OLCI A/B, Aqua MODIS;\nLIT: Jason1, Jason2, Jason3, POSEIDON-2, POSEIDON-3 and POSEIDON-3B.\n\nDetailed information about the generation and validation of this dataset is available from the Lakes_cci documentation available on the project website  and in Carrea, L., Crétaux, JF., Liu, X. et al. Satellite-derived multivariate world-wide lake physical variable timeseries for climate studies. Sci Data 10, 30 (2023). https://doi.org/10.1038/s41597-022-01889-z",
        "catalog_url": "https://catalogue.ceda.ac.uk/uuid/7fc9df8070d34cacab8092e45ef276f1",
        "cci_project": "LAKES",
        "comment": "These data were produced for the ESA Lakes_cci project",
        "data_type": "LK_PRODUCTS",
        "ecv": "LAKES",
        "history": "LWL: Generated by Laboratoire d'Etudes en Geophysique et Oceanographie Spatiales, Collecte Localisation Satellites; LWE: Generated by Laboratoire d'Etudes en Geophysique et Oceanographie Spatiales, Collecte Localisation Satellites; LSWT: created with collate_10DAYS_onMASK_RES120_new_unc.py; LIC: Lake ice cover processor by H2O Geomatics; LWLR: Calimnos processor by Plymouth Marine Laboratory, including calls to Idepix (SNAP) and POLYMER (Hygeos) algorithms",
        "platform_id": "multi-platform",
        "processing_level": "L3S",
        "product_string": "MERGED",
        "product_version": "v2-1-0",
        "project": "Climate Change Initiative - European Space Agency",
        "publication_date": "2024-04-03T07:13:21",
        "references": "https://climate.esa.int/en/projects/lakes/",
        "sensor_id": "multi-sensor",
        "source": "LWL: European Space Agency (ESA), National Aeronautics and Space Administration (NASA), European Organisation for the Exploitation of Meteorological Satellites (EUMETSAT), National Oceanic and Atmospheric Administration (NOAA), Indian Space Research Organisation (ISRO); LWE: European Space Agency (ESA), National Aeronautics and Space Administration (NASA); LSWT: European Space Agency (ESA), European Organisation for the Exploitation of Meteorological Satellites (EUMETSAT), European Centre for Medium-Range Weather Forecasts (ECMWF) LIC: European Space Agency (ESA), National Aeronautics and Space Administration (NASA); LWLR: Calimnos processor by Plymouth Marine Laboratory, including calls to Idepix (SNAP) and POLYMER (Hygeos) algorithms;",
        "title": "ESA Lakes Climate Change Initiative (Lakes_cci):  Lake products, Version 2.1",
        "uuid": "7fc9df8070d34cacab8092e45ef276f1"
       },
       "bbox": [
        -180,
        -90,
        180,
        90
       ],
       "coords": {
        "lat": {
         "attrs": {
          "axis": "Y",
          "bounds": "lat_bounds",
          "chunk_sizes": [
           21600
          ],
          "data_type": "float64",
          "dimensions": [
           "lat"
          ],
          "file_chunk_sizes": [
           21600
          ],
          "file_dimensions": [
           "lat"
          ],
          "fill_value": null,
          "long_name": "latitude",
          "orig_data_type": "float64",
          "reference_datum": "WGS84 datum",
          "shape": [
           21600
          ],
          "size": 21600,
          "standard_name": "latitude",
          "units": "degrees_north",
          "valid_max": 90,
          "valid_min": -90
         },
         "dims": [
          "lat"
         ],
         "dtype": "float64",
         "name": "lat"
        },
        "lat_bounds": {
         "attrs": {
          "chunk_sizes": [
           21600,
           2
          ],
          "data_type": "float32",
          "dimensions": [
           "lat",
           "nv"
          ],
          "file_chunk_sizes": [
           21600,
           2
          ],
          "file_dimensions": [
           "lat",
           "nv"
          ],
          "fill_value": null,
          "orig_data_type": "float32",
          "shape": [
           21600,
           2
          ],
          "size": 43200
         },
         "dims": [
          "lat",
          "nv"
         ],
         "dtype": "float32",
         "name": "lat_bounds"
        },
        "lon": {
         "attrs": {
          "axis": "X",
          "bounds": "lon_bounds",
          "chunk_sizes": [
           43200
          ],
          "data_type": "float64",
          "dimensions": [
           "lon"
          ],
          "file_chunk_sizes": [
           43200
          ],
          "file_dimensions": [
           "lon"
          ],
          "fill_value": null,
          "long_name": "longitude",
          "orig_data_type": "float64",
          "reference_datum": "WGS84 datum",
          "shape": [
           43200
          ],
          "size": 43200,
          "standard_name": "longitude",
          "units": "degrees_east",
          "valid_max": 180,
          "valid_min": -180
         },
         "dims": [
          "lon"
         ],
         "dtype": "float64",
         "name": "lon"
        },
        "lon_bounds": {
         "attrs": {
          "chunk_sizes": [
           43200,
           2
          ],
          "data_type": "float32",
          "dimensions": [
           "lon",
           "nv"
          ],
          "file_chunk_sizes": [
           43200,
           2
          ],
          "file_dimensions": [
           "lon",
           "nv"
          ],
          "fill_value": null,
          "orig_data_type": "float32",
          "shape": [
           43200,
           2
          ],
          "size": 86400
         },
         "dims": [
          "lon",
          "nv"
         ],
         "dtype": "float32",
         "name": "lon_bounds"
        },
        "time": {
         "attrs": {
          "calendar": "gregorian",
          "chunk_sizes": 1,
          "data_type": "float32",
          "dimensions": [
           "time"
          ],
          "file_chunk_sizes": 1,
          "file_dimensions": [
           "time"
          ],
          "fill_value": null,
          "long_name": "time",
          "orig_data_type": "float32",
          "shape": [
           11054
          ],
          "size": 11054,
          "standard_name": "time",
          "units": "seconds since 1970-01-01 00:00:00"
         },
         "dims": [
          "time"
         ],
         "dtype": "float32",
         "name": "time"
        }
       },
       "crs": "\\\"WGS 84\\\"",
       "data_id": "esacci.LAKES.day.L3S.LK_PRODUCTS.multi-sensor.multi-platform.MERGED.v2-1-0.r1",
       "data_type": "dataset",
       "data_vars": {
        "Rw1020": {
         "attrs": {
          "ancillary_variables": "Rw1020_uncertainty_relative, Rw1020_uncertainty_relative_unbiased",
          "chunk_sizes": [
           1,
           1440,
           2880
          ],
          "coordinates": "lat lon",
          "data_type": "float32",
          "dimensions": [
           "time",
           "lat",
           "lon"
          ],
          "file_chunk_sizes": [
           1,
           1440,
           2880
          ],
          "file_dimensions": [
           "time",
           "lat",
           "lon"
          ],
          "fill_value": 9.96921e+36,
          "grid_mapping": "crs",
          "long_name": "Fully normalized water-leaving reflectance at 1020 nm",
          "orig_data_type": "float32",
          "radiation_wavelength": 1020,
          "radiation_wavelength_units": "nm",
          "shape": [
           11054,
           21600,
           43200
          ],
          "size": 10314708480000,
          "units": "1",
          "valid_max": 1,
          "valid_min": 0
         },
         "dims": [
          "time",
          "lat",
          "lon"
         ],
         "dtype": "float32",
         "name": "Rw1020"
        },
        "Rw1020_uncertainty_relative": {
         "attrs": {
          "chunk_sizes": [
           1,
           1440,
           2880
          ],
          "coordinates": "lat lon",
          "data_type": "float32",
          "dimensions": [
           "time",
           "lat",
           "lon"
          ],
          "file_chunk_sizes": [
           1,
           1440,
           2880
          ],
          "file_dimensions": [
           "time",
           "lat",
           "lon"
          ],
          "fill_value": 9.96921e+36,
          "grid_mapping": "crs",
          "long_name": "Relative uncertainty in fully normalized water-leaving reflectance at 1020 nm",
          "orig_data_type": "float32",
          "radiation_wavelength": 1020,
          "radiation_wavelength_units": "nm",
          "shape": [
           11054,
           21600,
           43200
          ],
          "size": 10314708480000,
          "units": "percent",
          "valid_max": 10000,
          "valid_min": -10000
         },
         "dims": [
          "time",
          "lat",
          "lon"
         ],
         "dtype": "float32",
         "name": "Rw1020_uncertainty_relative"
        },
        "Rw1020_uncertainty_relative_unbiased": {
         "attrs": {
          "chunk_sizes": [
           1,
           1440,
           2880
          ],
          "coordinates": "lat lon",
          "data_type": "float32",
          "dimensions": [
           "time",
           "lat",
           "lon"
          ],
          "file_chunk_sizes": [
           1,
           1440,
           2880
          ],
          "file_dimensions": [
           "time",
           "lat",
           "lon"
          ],
          "fill_value": 9.96921e+36,
          "grid_mapping": "crs",
          "long_name": "Relative unbiased uncertainty in fully normalized water-leaving reflectance at 1020 nm",
          "orig_data_type": "float32",
          "radiation_wavelength": 1020,
          "radiation_wavelength_units": "nm",
          "shape": [
           11054,
           21600,
           43200
          ],
          "size": 10314708480000,
          "units": "percent",
          "valid_max": 10000,
          "valid_min": -10000
         },
         "dims": [
          "time",
          "lat",
          "lon"
         ],
         "dtype": "float32",
         "name": "Rw1020_uncertainty_relative_unbiased"
        },
        "Rw400": {
         "attrs": {
          "ancillary_variables": "Rw400_uncertainty_relative, Rw400_uncertainty_relative_unbiased",
          "chunk_sizes": [
           1,
           1440,
           2880
          ],
          "coordinates": "lat lon",
          "data_type": "float32",
          "dimensions": [
           "time",
           "lat",
           "lon"
          ],
          "file_chunk_sizes": [
           1,
           1440,
           2880
          ],
          "file_dimensions": [
           "time",
           "lat",
           "lon"
          ],
          "fill_value": 9.96921e+36,
          "grid_mapping": "crs",
          "long_name": "Fully normalized water-leaving reflectance at 400 nm",
          "orig_data_type": "float32",
          "radiation_wavelength": 400,
          "radiation_wavelength_units": "nm",
          "shape": [
           11054,
           21600,
           43200
          ],
          "size": 10314708480000,
          "units": "1",
          "valid_max": 1,
          "valid_min": 0
         },
         "dims": [
          "time",
          "lat",
          "lon"
         ],
         "dtype": "float32",
         "name": "Rw400"
        },
        "Rw400_uncertainty_relative": {
         "attrs": {
          "chunk_sizes": [
           1,
           1440,
           2880
          ],
          "coordinates": "lat lon",
          "data_type": "float32",
          "dimensions": [
           "time",
           "lat",
           "lon"
          ],
          "file_chunk_sizes": [
           1,
           1440,
           2880
          ],
          "file_dimensions": [
           "time",
           "lat",
           "lon"
          ],
          "fill_value": 9.96921e+36,
          "grid_mapping": "crs",
          "long_name": "Relative uncertainty in fully normalized water-leaving reflectance at 400 nm",
          "orig_data_type": "float32",
          "radiation_wavelength": 400,
          "radiation_wavelength_units": "nm",
          "shape": [
           11054,
           21600,
           43200
          ],
          "size": 10314708480000,
          "units": "percent",
          "valid_max": 10000,
          "valid_min": -10000
         },
         "dims": [
          "time",
          "lat",
          "lon"
         ],
         "dtype": "float32",
         "name": "Rw400_uncertainty_relative"
        },
        "Rw400_uncertainty_relative_unbiased": {
         "attrs": {
          "chunk_sizes": [
           1,
           1440,
           2880
          ],
          "coordinates": "lat lon",
          "data_type": "float32",
          "dimensions": [
           "time",
           "lat",
           "lon"
          ],
          "file_chunk_sizes": [
           1,
           1440,
           2880
          ],
          "file_dimensions": [
           "time",
           "lat",
           "lon"
          ],
          "fill_value": 9.96921e+36,
          "grid_mapping": "crs",
          "long_name": "Relative unbiased uncertainty in fully normalized water-leaving reflectance at 400 nm",
          "orig_data_type": "float32",
          "radiation_wavelength": 400,
          "radiation_wavelength_units": "nm",
          "shape": [
           11054,
           21600,
           43200
          ],
          "size": 10314708480000,
          "units": "percent",
          "valid_max": 10000,
          "valid_min": -10000
         },
         "dims": [
          "time",
          "lat",
          "lon"
         ],
         "dtype": "float32",
         "name": "Rw400_uncertainty_relative_unbiased"
        },
        "Rw412": {
         "attrs": {
          "ancillary_variables": "Rw412_uncertainty_relative, Rw412_uncertainty_relative_unbiased",
          "chunk_sizes": [
           1,
           1440,
           2880
          ],
          "coordinates": "lat lon",
          "data_type": "float32",
          "dimensions": [
           "time",
           "lat",
           "lon"
          ],
          "file_chunk_sizes": [
           1,
           1440,
           2880
          ],
          "file_dimensions": [
           "time",
           "lat",
           "lon"
          ],
          "fill_value": 9.96921e+36,
          "grid_mapping": "crs",
          "long_name": "Fully normalized water-leaving reflectance at 412 nm",
          "orig_data_type": "float32",
          "radiation_wavelength": 412,
          "radiation_wavelength_units": "nm",
          "shape": [
           11054,
           21600,
           43200
          ],
          "size": 10314708480000,
          "units": "1",
          "valid_max": 1,
          "valid_min": 0
         },
         "dims": [
          "time",
          "lat",
          "lon"
         ],
         "dtype": "float32",
         "name": "Rw412"
        },
        "Rw412_uncertainty_relative": {
         "attrs": {
          "chunk_sizes": [
           1,
           1440,
           2880
          ],
          "coordinates": "lat lon",
          "data_type": "float32",
          "dimensions": [
           "time",
           "lat",
           "lon"
          ],
          "file_chunk_sizes": [
           1,
           1440,
           2880
          ],
          "file_dimensions": [
           "time",
           "lat",
           "lon"
          ],
          "fill_value": 9.96921e+36,
          "grid_mapping": "crs",
          "long_name": "Relative uncertainty in fully normalized water-leaving reflectance at 412 nm",
          "orig_data_type": "float32",
          "radiation_wavelength": 412,
          "radiation_wavelength_units": "nm",
          "shape": [
           11054,
           21600,
           43200
          ],
          "size": 10314708480000,
          "units": "percent",
          "valid_max": 10000,
          "valid_min": -10000
         },
         "dims": [
          "time",
          "lat",
          "lon"
         ],
         "dtype": "float32",
         "name": "Rw412_uncertainty_relative"
        },
        "Rw412_uncertainty_relative_unbiased": {
         "attrs": {
          "chunk_sizes": [
           1,
           1440,
           2880
          ],
          "coordinates": "lat lon",
          "data_type": "float32",
          "dimensions": [
           "time",
           "lat",
           "lon"
          ],
          "file_chunk_sizes": [
           1,
           1440,
           2880
          ],
          "file_dimensions": [
           "time",
           "lat",
           "lon"
          ],
          "fill_value": 9.96921e+36,
          "grid_mapping": "crs",
          "long_name": "Relative unbiased uncertainty in fully normalized water-leaving reflectance at 412 nm",
          "orig_data_type": "float32",
          "radiation_wavelength": 412,
          "radiation_wavelength_units": "nm",
          "shape": [
           11054,
           21600,
           43200
          ],
          "size": 10314708480000,
          "units": "percent",
          "valid_max": 10000,
          "valid_min": -10000
         },
         "dims": [
          "time",
          "lat",
          "lon"
         ],
         "dtype": "float32",
         "name": "Rw412_uncertainty_relative_unbiased"
        },
        "Rw443": {
         "attrs": {
          "ancillary_variables": "Rw443_uncertainty_relative, Rw443_uncertainty_relative_unbiased",
          "chunk_sizes": [
           1,
           1440,
           2880
          ],
          "coordinates": "lat lon",
          "data_type": "float32",
          "dimensions": [
           "time",
           "lat",
           "lon"
          ],
          "file_chunk_sizes": [
           1,
           1440,
           2880
          ],
          "file_dimensions": [
           "time",
           "lat",
           "lon"
          ],
          "fill_value": 9.96921e+36,
          "grid_mapping": "crs",
          "long_name": "Fully normalized water-leaving reflectance at 443 nm",
          "orig_data_type": "float32",
          "radiation_wavelength": 443,
          "radiation_wavelength_units": "nm",
          "shape": [
           11054,
           21600,
           43200
          ],
          "size": 10314708480000,
          "units": "1",
          "valid_max": 1,
          "valid_min": 0
         },
         "dims": [
          "time",
          "lat",
          "lon"
         ],
         "dtype": "float32",
         "name": "Rw443"
        },
        "Rw443_uncertainty_relative": {
         "attrs": {
          "chunk_sizes": [
           1,
           1440,
           2880
          ],
          "coordinates": "lat lon",
          "data_type": "float32",
          "dimensions": [
           "time",
           "lat",
           "lon"
          ],
          "file_chunk_sizes": [
           1,
           1440,
           2880
          ],
          "file_dimensions": [
           "time",
           "lat",
           "lon"
          ],
          "fill_value": 9.96921e+36,
          "grid_mapping": "crs",
          "long_name": "Relative uncertainty in fully normalized water-leaving reflectance at 443 nm",
          "orig_data_type": "float32",
          "radiation_wavelength": 443,
          "radiation_wavelength_units": "nm",
          "shape": [
           11054,
           21600,
           43200
          ],
          "size": 10314708480000,
          "units": "percent",
          "valid_max": 10000,
          "valid_min": -10000
         },
         "dims": [
          "time",
          "lat",
          "lon"
         ],
         "dtype": "float32",
         "name": "Rw443_uncertainty_relative"
        },
        "Rw443_uncertainty_relative_unbiased": {
         "attrs": {
          "chunk_sizes": [
           1,
           1440,
           2880
          ],
          "coordinates": "lat lon",
          "data_type": "float32",
          "dimensions": [
           "time",
           "lat",
           "lon"
          ],
          "file_chunk_sizes": [
           1,
           1440,
           2880
          ],
          "file_dimensions": [
           "time",
           "lat",
           "lon"
          ],
          "fill_value": 9.96921e+36,
          "grid_mapping": "crs",
          "long_name": "Relative unbiased uncertainty in fully normalized water-leaving reflectance at 443 nm",
          "orig_data_type": "float32",
          "radiation_wavelength": 443,
          "radiation_wavelength_units": "nm",
          "shape": [
           11054,
           21600,
           43200
          ],
          "size": 10314708480000,
          "units": "percent",
          "valid_max": 10000,
          "valid_min": -10000
         },
         "dims": [
          "time",
          "lat",
          "lon"
         ],
         "dtype": "float32",
         "name": "Rw443_uncertainty_relative_unbiased"
        },
        "Rw469": {
         "attrs": {
          "ancillary_variables": "Rw469_uncertainty_relative, Rw469_uncertainty_relative_unbiased",
          "chunk_sizes": [
           1,
           1440,
           2880
          ],
          "coordinates": "lat lon",
          "data_type": "float32",
          "dimensions": [
           "time",
           "lat",
           "lon"
          ],
          "file_chunk_sizes": [
           1,
           1440,
           2880
          ],
          "file_dimensions": [
           "time",
           "lat",
           "lon"
          ],
          "fill_value": 9.96921e+36,
          "grid_mapping": "crs",
          "long_name": "Fully normalized water-leaving reflectance at 469 nm",
          "orig_data_type": "float32",
          "radiation_wavelength": 469,
          "radiation_wavelength_units": "nm",
          "shape": [
           11054,
           21600,
           43200
          ],
          "size": 10314708480000,
          "units": "1",
          "valid_max": 1,
          "valid_min": 0
         },
         "dims": [
          "time",
          "lat",
          "lon"
         ],
         "dtype": "float32",
         "name": "Rw469"
        },
        "Rw469_uncertainty_relative": {
         "attrs": {
          "chunk_sizes": [
           1,
           1440,
           2880
          ],
          "coordinates": "lat lon",
          "data_type": "float32",
          "dimensions": [
           "time",
           "lat",
           "lon"
          ],
          "file_chunk_sizes": [
           1,
           1440,
           2880
          ],
          "file_dimensions": [
           "time",
           "lat",
           "lon"
          ],
          "fill_value": 9.96921e+36,
          "grid_mapping": "crs",
          "long_name": "Relative uncertainty in fully normalized water-leaving reflectance at 469 nm",
          "orig_data_type": "float32",
          "radiation_wavelength": 469,
          "radiation_wavelength_units": "nm",
          "shape": [
           11054,
           21600,
           43200
          ],
          "size": 10314708480000,
          "units": "percent",
          "valid_max": 10000,
          "valid_min": -10000
         },
         "dims": [
          "time",
          "lat",
          "lon"
         ],
         "dtype": "float32",
         "name": "Rw469_uncertainty_relative"
        },
        "Rw469_uncertainty_relative_unbiased": {
         "attrs": {
          "chunk_sizes": [
           1,
           1440,
           2880
          ],
          "coordinates": "lat lon",
          "data_type": "float32",
          "dimensions": [
           "time",
           "lat",
           "lon"
          ],
          "file_chunk_sizes": [
           1,
           1440,
           2880
          ],
          "file_dimensions": [
           "time",
           "lat",
           "lon"
          ],
          "fill_value": 9.96921e+36,
          "grid_mapping": "crs",
          "long_name": "Relative unbiased uncertainty in fully normalized water-leaving reflectance at 469 nm",
          "orig_data_type": "float32",
          "radiation_wavelength": 469,
          "radiation_wavelength_units": "nm",
          "shape": [
           11054,
           21600,
           43200
          ],
          "size": 10314708480000,
          "units": "percent",
          "valid_max": 10000,
          "valid_min": -10000
         },
         "dims": [
          "time",
          "lat",
          "lon"
         ],
         "dtype": "float32",
         "name": "Rw469_uncertainty_relative_unbiased"
        },
        "Rw490": {
         "attrs": {
          "ancillary_variables": "Rw490_uncertainty_relative, Rw490_uncertainty_relative_unbiased",
          "chunk_sizes": [
           1,
           1440,
           2880
          ],
          "coordinates": "lat lon",
          "data_type": "float32",
          "dimensions": [
           "time",
           "lat",
           "lon"
          ],
          "file_chunk_sizes": [
           1,
           1440,
           2880
          ],
          "file_dimensions": [
           "time",
           "lat",
           "lon"
          ],
          "fill_value": 9.96921e+36,
          "grid_mapping": "crs",
          "long_name": "Fully normalized water-leaving reflectance at 490 nm",
          "orig_data_type": "float32",
          "radiation_wavelength": 490,
          "radiation_wavelength_units": "nm",
          "shape": [
           11054,
           21600,
           43200
          ],
          "size": 10314708480000,
          "units": "1",
          "valid_max": 1,
          "valid_min": 0
         },
         "dims": [
          "time",
          "lat",
          "lon"
         ],
         "dtype": "float32",
         "name": "Rw490"
        },
        "Rw490_uncertainty_relative": {
         "attrs": {
          "chunk_sizes": [
           1,
           1440,
           2880
          ],
          "coordinates": "lat lon",
          "data_type": "float32",
          "dimensions": [
           "time",
           "lat",
           "lon"
          ],
          "file_chunk_sizes": [
           1,
           1440,
           2880
          ],
          "file_dimensions": [
           "time",
           "lat",
           "lon"
          ],
          "fill_value": 9.96921e+36,
          "grid_mapping": "crs",
          "long_name": "Relative uncertainty in fully normalized water-leaving reflectance at 490 nm",
          "orig_data_type": "float32",
          "radiation_wavelength": 490,
          "radiation_wavelength_units": "nm",
          "shape": [
           11054,
           21600,
           43200
          ],
          "size": 10314708480000,
          "units": "percent",
          "valid_max": 10000,
          "valid_min": -10000
         },
         "dims": [
          "time",
          "lat",
          "lon"
         ],
         "dtype": "float32",
         "name": "Rw490_uncertainty_relative"
        },
        "Rw490_uncertainty_relative_unbiased": {
         "attrs": {
          "chunk_sizes": [
           1,
           1440,
           2880
          ],
          "coordinates": "lat lon",
          "data_type": "float32",
          "dimensions": [
           "time",
           "lat",
           "lon"
          ],
          "file_chunk_sizes": [
           1,
           1440,
           2880
          ],
          "file_dimensions": [
           "time",
           "lat",
           "lon"
          ],
          "fill_value": 9.96921e+36,
          "grid_mapping": "crs",
          "long_name": "Relative unbiased uncertainty in fully normalized water-leaving reflectance at 490 nm",
          "orig_data_type": "float32",
          "radiation_wavelength": 490,
          "radiation_wavelength_units": "nm",
          "shape": [
           11054,
           21600,
           43200
          ],
          "size": 10314708480000,
          "units": "percent",
          "valid_max": 10000,
          "valid_min": -10000
         },
         "dims": [
          "time",
          "lat",
          "lon"
         ],
         "dtype": "float32",
         "name": "Rw490_uncertainty_relative_unbiased"
        },
        "Rw510": {
         "attrs": {
          "ancillary_variables": "Rw510_uncertainty_relative, Rw510_uncertainty_relative_unbiased",
          "chunk_sizes": [
           1,
           1440,
           2880
          ],
          "coordinates": "lat lon",
          "data_type": "float32",
          "dimensions": [
           "time",
           "lat",
           "lon"
          ],
          "file_chunk_sizes": [
           1,
           1440,
           2880
          ],
          "file_dimensions": [
           "time",
           "lat",
           "lon"
          ],
          "fill_value": 9.96921e+36,
          "grid_mapping": "crs",
          "long_name": "Fully normalized water-leaving reflectance at 510 nm",
          "orig_data_type": "float32",
          "radiation_wavelength": 510,
          "radiation_wavelength_units": "nm",
          "shape": [
           11054,
           21600,
           43200
          ],
          "size": 10314708480000,
          "units": "1",
          "valid_max": 1,
          "valid_min": 0
         },
         "dims": [
          "time",
          "lat",
          "lon"
         ],
         "dtype": "float32",
         "name": "Rw510"
        },
        "Rw510_uncertainty_relative": {
         "attrs": {
          "chunk_sizes": [
           1,
           1440,
           2880
          ],
          "coordinates": "lat lon",
          "data_type": "float32",
          "dimensions": [
           "time",
           "lat",
           "lon"
          ],
          "file_chunk_sizes": [
           1,
           1440,
           2880
          ],
          "file_dimensions": [
           "time",
           "lat",
           "lon"
          ],
          "fill_value": 9.96921e+36,
          "grid_mapping": "crs",
          "long_name": "Relative uncertainty in fully normalized water-leaving reflectance at 510 nm",
          "orig_data_type": "float32",
          "radiation_wavelength": 510,
          "radiation_wavelength_units": "nm",
          "shape": [
           11054,
           21600,
           43200
          ],
          "size": 10314708480000,
          "units": "percent",
          "valid_max": 10000,
          "valid_min": -10000
         },
         "dims": [
          "time",
          "lat",
          "lon"
         ],
         "dtype": "float32",
         "name": "Rw510_uncertainty_relative"
        },
        "Rw510_uncertainty_relative_unbiased": {
         "attrs": {
          "chunk_sizes": [
           1,
           1440,
           2880
          ],
          "coordinates": "lat lon",
          "data_type": "float32",
          "dimensions": [
           "time",
           "lat",
           "lon"
          ],
          "file_chunk_sizes": [
           1,
           1440,
           2880
          ],
          "file_dimensions": [
           "time",
           "lat",
           "lon"
          ],
          "fill_value": 9.96921e+36,
          "grid_mapping": "crs",
          "long_name": "Relative unbiased uncertainty in fully normalized water-leaving reflectance at 510 nm",
          "orig_data_type": "float32",
          "radiation_wavelength": 510,
          "radiation_wavelength_units": "nm",
          "shape": [
           11054,
           21600,
           43200
          ],
          "size": 10314708480000,
          "units": "percent",
          "valid_max": 10000,
          "valid_min": -10000
         },
         "dims": [
          "time",
          "lat",
          "lon"
         ],
         "dtype": "float32",
         "name": "Rw510_uncertainty_relative_unbiased"
        },
        "Rw531": {
         "attrs": {
          "ancillary_variables": "Rw531_uncertainty_relative, Rw531_uncertainty_relative_unbiased",
          "chunk_sizes": [
           1,
           1440,
           2880
          ],
          "coordinates": "lat lon",
          "data_type": "float32",
          "dimensions": [
           "time",
           "lat",
           "lon"
          ],
          "file_chunk_sizes": [
           1,
           1440,
           2880
          ],
          "file_dimensions": [
           "time",
           "lat",
           "lon"
          ],
          "fill_value": 9.96921e+36,
          "grid_mapping": "crs",
          "long_name": "Fully normalized water-leaving reflectance at 531 nm",
          "orig_data_type": "float32",
          "radiation_wavelength": 531,
          "radiation_wavelength_units": "nm",
          "shape": [
           11054,
           21600,
           43200
          ],
          "size": 10314708480000,
          "units": "1",
          "valid_max": 1,
          "valid_min": 0
         },
         "dims": [
          "time",
          "lat",
          "lon"
         ],
         "dtype": "float32",
         "name": "Rw531"
        },
        "Rw531_uncertainty_relative": {
         "attrs": {
          "chunk_sizes": [
           1,
           1440,
           2880
          ],
          "coordinates": "lat lon",
          "data_type": "float32",
          "dimensions": [
           "time",
           "lat",
           "lon"
          ],
          "file_chunk_sizes": [
           1,
           1440,
           2880
          ],
          "file_dimensions": [
           "time",
           "lat",
           "lon"
          ],
          "fill_value": 9.96921e+36,
          "grid_mapping": "crs",
          "long_name": "Relative uncertainty in fully normalized water-leaving reflectance at 531 nm",
          "orig_data_type": "float32",
          "radiation_wavelength": 531,
          "radiation_wavelength_units": "nm",
          "shape": [
           11054,
           21600,
           43200
          ],
          "size": 10314708480000,
          "units": "percent",
          "valid_max": 10000,
          "valid_min": -10000
         },
         "dims": [
          "time",
          "lat",
          "lon"
         ],
         "dtype": "float32",
         "name": "Rw531_uncertainty_relative"
        },
        "Rw531_uncertainty_relative_unbiased": {
         "attrs": {
          "chunk_sizes": [
           1,
           1440,
           2880
          ],
          "coordinates": "lat lon",
          "data_type": "float32",
          "dimensions": [
           "time",
           "lat",
           "lon"
          ],
          "file_chunk_sizes": [
           1,
           1440,
           2880
          ],
          "file_dimensions": [
           "time",
           "lat",
           "lon"
          ],
          "fill_value": 9.96921e+36,
          "grid_mapping": "crs",
          "long_name": "Relative unbiased uncertainty in fully normalized water-leaving reflectance at 531 nm",
          "orig_data_type": "float32",
          "radiation_wavelength": 531,
          "radiation_wavelength_units": "nm",
          "shape": [
           11054,
           21600,
           43200
          ],
          "size": 10314708480000,
          "units": "percent",
          "valid_max": 10000,
          "valid_min": -10000
         },
         "dims": [
          "time",
          "lat",
          "lon"
         ],
         "dtype": "float32",
         "name": "Rw531_uncertainty_relative_unbiased"
        },
        "Rw547": {
         "attrs": {
          "ancillary_variables": "Rw547_uncertainty_relative, Rw547_uncertainty_relative_unbiased",
          "chunk_sizes": [
           1,
           1440,
           2880
          ],
          "coordinates": "lat lon",
          "data_type": "float32",
          "dimensions": [
           "time",
           "lat",
           "lon"
          ],
          "file_chunk_sizes": [
           1,
           1440,
           2880
          ],
          "file_dimensions": [
           "time",
           "lat",
           "lon"
          ],
          "fill_value": 9.96921e+36,
          "grid_mapping": "crs",
          "long_name": "Fully normalized water-leaving reflectance at 547 nm",
          "orig_data_type": "float32",
          "radiation_wavelength": 547,
          "radiation_wavelength_units": "nm",
          "shape": [
           11054,
           21600,
           43200
          ],
          "size": 10314708480000,
          "units": "1",
          "valid_max": 1,
          "valid_min": 0
         },
         "dims": [
          "time",
          "lat",
          "lon"
         ],
         "dtype": "float32",
         "name": "Rw547"
        },
        "Rw547_uncertainty_relative": {
         "attrs": {
          "chunk_sizes": [
           1,
           1440,
           2880
          ],
          "coordinates": "lat lon",
          "data_type": "float32",
          "dimensions": [
           "time",
           "lat",
           "lon"
          ],
          "file_chunk_sizes": [
           1,
           1440,
           2880
          ],
          "file_dimensions": [
           "time",
           "lat",
           "lon"
          ],
          "fill_value": 9.96921e+36,
          "grid_mapping": "crs",
          "long_name": "Relative uncertainty in fully normalized water-leaving reflectance at 547 nm",
          "orig_data_type": "float32",
          "radiation_wavelength": 547,
          "radiation_wavelength_units": "nm",
          "shape": [
           11054,
           21600,
           43200
          ],
          "size": 10314708480000,
          "units": "percent",
          "valid_max": 10000,
          "valid_min": -10000
         },
         "dims": [
          "time",
          "lat",
          "lon"
         ],
         "dtype": "float32",
         "name": "Rw547_uncertainty_relative"
        },
        "Rw547_uncertainty_relative_unbiased": {
         "attrs": {
          "chunk_sizes": [
           1,
           1440,
           2880
          ],
          "coordinates": "lat lon",
          "data_type": "float32",
          "dimensions": [
           "time",
           "lat",
           "lon"
          ],
          "file_chunk_sizes": [
           1,
           1440,
           2880
          ],
          "file_dimensions": [
           "time",
           "lat",
           "lon"
          ],
          "fill_value": 9.96921e+36,
          "grid_mapping": "crs",
          "long_name": "Relative unbiased uncertainty in fully normalized water-leaving reflectance at 547 nm",
          "orig_data_type": "float32",
          "radiation_wavelength": 547,
          "radiation_wavelength_units": "nm",
          "shape": [
           11054,
           21600,
           43200
          ],
          "size": 10314708480000,
          "units": "percent",
          "valid_max": 10000,
          "valid_min": -10000
         },
         "dims": [
          "time",
          "lat",
          "lon"
         ],
         "dtype": "float32",
         "name": "Rw547_uncertainty_relative_unbiased"
        },
        "Rw560": {
         "attrs": {
          "ancillary_variables": "Rw560_uncertainty_relative, Rw560_uncertainty_relative_unbiased",
          "chunk_sizes": [
           1,
           1440,
           2880
          ],
          "coordinates": "lat lon",
          "data_type": "float32",
          "dimensions": [
           "time",
           "lat",
           "lon"
          ],
          "file_chunk_sizes": [
           1,
           1440,
           2880
          ],
          "file_dimensions": [
           "time",
           "lat",
           "lon"
          ],
          "fill_value": 9.96921e+36,
          "grid_mapping": "crs",
          "long_name": "Fully normalized water-leaving reflectance at 560 nm",
          "orig_data_type": "float32",
          "radiation_wavelength": 560,
          "radiation_wavelength_units": "nm",
          "shape": [
           11054,
           21600,
           43200
          ],
          "size": 10314708480000,
          "units": "1",
          "valid_max": 1,
          "valid_min": 0
         },
         "dims": [
          "time",
          "lat",
          "lon"
         ],
         "dtype": "float32",
         "name": "Rw560"
        },
        "Rw560_uncertainty_relative": {
         "attrs": {
          "chunk_sizes": [
           1,
           1440,
           2880
          ],
          "coordinates": "lat lon",
          "data_type": "float32",
          "dimensions": [
           "time",
           "lat",
           "lon"
          ],
          "file_chunk_sizes": [
           1,
           1440,
           2880
          ],
          "file_dimensions": [
           "time",
           "lat",
           "lon"
          ],
          "fill_value": 9.96921e+36,
          "grid_mapping": "crs",
          "long_name": "Relative uncertainty in fully normalized water-leaving reflectance at 560 nm",
          "orig_data_type": "float32",
          "radiation_wavelength": 560,
          "radiation_wavelength_units": "nm",
          "shape": [
           11054,
           21600,
           43200
          ],
          "size": 10314708480000,
          "units": "percent",
          "valid_max": 10000,
          "valid_min": -10000
         },
         "dims": [
          "time",
          "lat",
          "lon"
         ],
         "dtype": "float32",
         "name": "Rw560_uncertainty_relative"
        },
        "Rw560_uncertainty_relative_unbiased": {
         "attrs": {
          "chunk_sizes": [
           1,
           1440,
           2880
          ],
          "coordinates": "lat lon",
          "data_type": "float32",
          "dimensions": [
           "time",
           "lat",
           "lon"
          ],
          "file_chunk_sizes": [
           1,
           1440,
           2880
          ],
          "file_dimensions": [
           "time",
           "lat",
           "lon"
          ],
          "fill_value": 9.96921e+36,
          "grid_mapping": "crs",
          "long_name": "Relative unbiased uncertainty in fully normalized water-leaving reflectance at 560 nm",
          "orig_data_type": "float32",
          "radiation_wavelength": 560,
          "radiation_wavelength_units": "nm",
          "shape": [
           11054,
           21600,
           43200
          ],
          "size": 10314708480000,
          "units": "percent",
          "valid_max": 10000,
          "valid_min": -10000
         },
         "dims": [
          "time",
          "lat",
          "lon"
         ],
         "dtype": "float32",
         "name": "Rw560_uncertainty_relative_unbiased"
        },
        "Rw620": {
         "attrs": {
          "ancillary_variables": "Rw620_uncertainty_relative, Rw620_uncertainty_relative_unbiased",
          "chunk_sizes": [
           1,
           1440,
           2880
          ],
          "coordinates": "lat lon",
          "data_type": "float32",
          "dimensions": [
           "time",
           "lat",
           "lon"
          ],
          "file_chunk_sizes": [
           1,
           1440,
           2880
          ],
          "file_dimensions": [
           "time",
           "lat",
           "lon"
          ],
          "fill_value": 9.96921e+36,
          "grid_mapping": "crs",
          "long_name": "Fully normalized water-leaving reflectance at 620 nm",
          "orig_data_type": "float32",
          "radiation_wavelength": 620,
          "radiation_wavelength_units": "nm",
          "shape": [
           11054,
           21600,
           43200
          ],
          "size": 10314708480000,
          "units": "1",
          "valid_max": 1,
          "valid_min": 0
         },
         "dims": [
          "time",
          "lat",
          "lon"
         ],
         "dtype": "float32",
         "name": "Rw620"
        },
        "Rw620_uncertainty_relative": {
         "attrs": {
          "chunk_sizes": [
           1,
           1440,
           2880
          ],
          "coordinates": "lat lon",
          "data_type": "float32",
          "dimensions": [
           "time",
           "lat",
           "lon"
          ],
          "file_chunk_sizes": [
           1,
           1440,
           2880
          ],
          "file_dimensions": [
           "time",
           "lat",
           "lon"
          ],
          "fill_value": 9.96921e+36,
          "grid_mapping": "crs",
          "long_name": "Relative uncertainty in fully normalized water-leaving reflectance at 620 nm",
          "orig_data_type": "float32",
          "radiation_wavelength": 620,
          "radiation_wavelength_units": "nm",
          "shape": [
           11054,
           21600,
           43200
          ],
          "size": 10314708480000,
          "units": "percent",
          "valid_max": 10000,
          "valid_min": -10000
         },
         "dims": [
          "time",
          "lat",
          "lon"
         ],
         "dtype": "float32",
         "name": "Rw620_uncertainty_relative"
        },
        "Rw620_uncertainty_relative_unbiased": {
         "attrs": {
          "chunk_sizes": [
           1,
           1440,
           2880
          ],
          "coordinates": "lat lon",
          "data_type": "float32",
          "dimensions": [
           "time",
           "lat",
           "lon"
          ],
          "file_chunk_sizes": [
           1,
           1440,
           2880
          ],
          "file_dimensions": [
           "time",
           "lat",
           "lon"
          ],
          "fill_value": 9.96921e+36,
          "grid_mapping": "crs",
          "long_name": "Relative unbiased uncertainty in fully normalized water-leaving reflectance at 620 nm",
          "orig_data_type": "float32",
          "radiation_wavelength": 620,
          "radiation_wavelength_units": "nm",
          "shape": [
           11054,
           21600,
           43200
          ],
          "size": 10314708480000,
          "units": "percent",
          "valid_max": 10000,
          "valid_min": -10000
         },
         "dims": [
          "time",
          "lat",
          "lon"
         ],
         "dtype": "float32",
         "name": "Rw620_uncertainty_relative_unbiased"
        },
        "Rw645": {
         "attrs": {
          "ancillary_variables": "Rw645_uncertainty_relative, Rw645_uncertainty_relative_unbiased",
          "chunk_sizes": [
           1,
           1440,
           2880
          ],
          "coordinates": "lat lon",
          "data_type": "float32",
          "dimensions": [
           "time",
           "lat",
           "lon"
          ],
          "file_chunk_sizes": [
           1,
           1440,
           2880
          ],
          "file_dimensions": [
           "time",
           "lat",
           "lon"
          ],
          "fill_value": 9.96921e+36,
          "grid_mapping": "crs",
          "long_name": "Fully normalized water-leaving reflectance at 645 nm",
          "orig_data_type": "float32",
          "radiation_wavelength": 645,
          "radiation_wavelength_units": "nm",
          "shape": [
           11054,
           21600,
           43200
          ],
          "size": 10314708480000,
          "units": "1",
          "valid_max": 1,
          "valid_min": 0
         },
         "dims": [
          "time",
          "lat",
          "lon"
         ],
         "dtype": "float32",
         "name": "Rw645"
        },
        "Rw645_uncertainty_relative": {
         "attrs": {
          "chunk_sizes": [
           1,
           1440,
           2880
          ],
          "coordinates": "lat lon",
          "data_type": "float32",
          "dimensions": [
           "time",
           "lat",
           "lon"
          ],
          "file_chunk_sizes": [
           1,
           1440,
           2880
          ],
          "file_dimensions": [
           "time",
           "lat",
           "lon"
          ],
          "fill_value": 9.96921e+36,
          "grid_mapping": "crs",
          "long_name": "Relative uncertainty in fully normalized water-leaving reflectance at 645 nm",
          "orig_data_type": "float32",
          "radiation_wavelength": 645,
          "radiation_wavelength_units": "nm",
          "shape": [
           11054,
           21600,
           43200
          ],
          "size": 10314708480000,
          "units": "percent",
          "valid_max": 10000,
          "valid_min": -10000
         },
         "dims": [
          "time",
          "lat",
          "lon"
         ],
         "dtype": "float32",
         "name": "Rw645_uncertainty_relative"
        },
        "Rw645_uncertainty_relative_unbiased": {
         "attrs": {
          "chunk_sizes": [
           1,
           1440,
           2880
          ],
          "coordinates": "lat lon",
          "data_type": "float32",
          "dimensions": [
           "time",
           "lat",
           "lon"
          ],
          "file_chunk_sizes": [
           1,
           1440,
           2880
          ],
          "file_dimensions": [
           "time",
           "lat",
           "lon"
          ],
          "fill_value": 9.96921e+36,
          "grid_mapping": "crs",
          "long_name": "Relative unbiased uncertainty in fully normalized water-leaving reflectance at 645 nm",
          "orig_data_type": "float32",
          "radiation_wavelength": 645,
          "radiation_wavelength_units": "nm",
          "shape": [
           11054,
           21600,
           43200
          ],
          "size": 10314708480000,
          "units": "percent",
          "valid_max": 10000,
          "valid_min": -10000
         },
         "dims": [
          "time",
          "lat",
          "lon"
         ],
         "dtype": "float32",
         "name": "Rw645_uncertainty_relative_unbiased"
        },
        "Rw665": {
         "attrs": {
          "ancillary_variables": "Rw665_uncertainty_relative, Rw665_uncertainty_relative_unbiased",
          "chunk_sizes": [
           1,
           1440,
           2880
          ],
          "coordinates": "lat lon",
          "data_type": "float32",
          "dimensions": [
           "time",
           "lat",
           "lon"
          ],
          "file_chunk_sizes": [
           1,
           1440,
           2880
          ],
          "file_dimensions": [
           "time",
           "lat",
           "lon"
          ],
          "fill_value": 9.96921e+36,
          "grid_mapping": "crs",
          "long_name": "Fully normalized water-leaving reflectance at 665 nm",
          "orig_data_type": "float32",
          "radiation_wavelength": 665,
          "radiation_wavelength_units": "nm",
          "shape": [
           11054,
           21600,
           43200
          ],
          "size": 10314708480000,
          "units": "1",
          "valid_max": 1,
          "valid_min": 0
         },
         "dims": [
          "time",
          "lat",
          "lon"
         ],
         "dtype": "float32",
         "name": "Rw665"
        },
        "Rw665_uncertainty_relative": {
         "attrs": {
          "chunk_sizes": [
           1,
           1440,
           2880
          ],
          "coordinates": "lat lon",
          "data_type": "float32",
          "dimensions": [
           "time",
           "lat",
           "lon"
          ],
          "file_chunk_sizes": [
           1,
           1440,
           2880
          ],
          "file_dimensions": [
           "time",
           "lat",
           "lon"
          ],
          "fill_value": 9.96921e+36,
          "grid_mapping": "crs",
          "long_name": "Relative uncertainty in fully normalized water-leaving reflectance at 665 nm",
          "orig_data_type": "float32",
          "radiation_wavelength": 665,
          "radiation_wavelength_units": "nm",
          "shape": [
           11054,
           21600,
           43200
          ],
          "size": 10314708480000,
          "units": "percent",
          "valid_max": 10000,
          "valid_min": -10000
         },
         "dims": [
          "time",
          "lat",
          "lon"
         ],
         "dtype": "float32",
         "name": "Rw665_uncertainty_relative"
        },
        "Rw665_uncertainty_relative_unbiased": {
         "attrs": {
          "chunk_sizes": [
           1,
           1440,
           2880
          ],
          "coordinates": "lat lon",
          "data_type": "float32",
          "dimensions": [
           "time",
           "lat",
           "lon"
          ],
          "file_chunk_sizes": [
           1,
           1440,
           2880
          ],
          "file_dimensions": [
           "time",
           "lat",
           "lon"
          ],
          "fill_value": 9.96921e+36,
          "grid_mapping": "crs",
          "long_name": "Relative unbiased uncertainty in fully normalized water-leaving reflectance at 665 nm",
          "orig_data_type": "float32",
          "radiation_wavelength": 665,
          "radiation_wavelength_units": "nm",
          "shape": [
           11054,
           21600,
           43200
          ],
          "size": 10314708480000,
          "units": "percent",
          "valid_max": 10000,
          "valid_min": -10000
         },
         "dims": [
          "time",
          "lat",
          "lon"
         ],
         "dtype": "float32",
         "name": "Rw665_uncertainty_relative_unbiased"
        },
        "Rw674": {
         "attrs": {
          "ancillary_variables": "Rw674_uncertainty_relative, Rw674_uncertainty_relative_unbiased",
          "chunk_sizes": [
           1,
           1440,
           2880
          ],
          "coordinates": "lat lon",
          "data_type": "float32",
          "dimensions": [
           "time",
           "lat",
           "lon"
          ],
          "file_chunk_sizes": [
           1,
           1440,
           2880
          ],
          "file_dimensions": [
           "time",
           "lat",
           "lon"
          ],
          "fill_value": 9.96921e+36,
          "grid_mapping": "crs",
          "long_name": "Fully normalized water-leaving reflectance at 674 nm",
          "orig_data_type": "float32",
          "radiation_wavelength": 674,
          "radiation_wavelength_units": "nm",
          "shape": [
           11054,
           21600,
           43200
          ],
          "size": 10314708480000,
          "units": "1",
          "valid_max": 1,
          "valid_min": 0
         },
         "dims": [
          "time",
          "lat",
          "lon"
         ],
         "dtype": "float32",
         "name": "Rw674"
        },
        "Rw674_uncertainty_relative": {
         "attrs": {
          "chunk_sizes": [
           1,
           1440,
           2880
          ],
          "coordinates": "lat lon",
          "data_type": "float32",
          "dimensions": [
           "time",
           "lat",
           "lon"
          ],
          "file_chunk_sizes": [
           1,
           1440,
           2880
          ],
          "file_dimensions": [
           "time",
           "lat",
           "lon"
          ],
          "fill_value": 9.96921e+36,
          "grid_mapping": "crs",
          "long_name": "Relative uncertainty in fully normalized water-leaving reflectance at 674 nm",
          "orig_data_type": "float32",
          "radiation_wavelength": 674,
          "radiation_wavelength_units": "nm",
          "shape": [
           11054,
           21600,
           43200
          ],
          "size": 10314708480000,
          "units": "percent",
          "valid_max": 10000,
          "valid_min": -10000
         },
         "dims": [
          "time",
          "lat",
          "lon"
         ],
         "dtype": "float32",
         "name": "Rw674_uncertainty_relative"
        },
        "Rw674_uncertainty_relative_unbiased": {
         "attrs": {
          "chunk_sizes": [
           1,
           1440,
           2880
          ],
          "coordinates": "lat lon",
          "data_type": "float32",
          "dimensions": [
           "time",
           "lat",
           "lon"
          ],
          "file_chunk_sizes": [
           1,
           1440,
           2880
          ],
          "file_dimensions": [
           "time",
           "lat",
           "lon"
          ],
          "fill_value": 9.96921e+36,
          "grid_mapping": "crs",
          "long_name": "Relative unbiased uncertainty in fully normalized water-leaving reflectance at 674 nm",
          "orig_data_type": "float32",
          "radiation_wavelength": 674,
          "radiation_wavelength_units": "nm",
          "shape": [
           11054,
           21600,
           43200
          ],
          "size": 10314708480000,
          "units": "percent",
          "valid_max": 10000,
          "valid_min": -10000
         },
         "dims": [
          "time",
          "lat",
          "lon"
         ],
         "dtype": "float32",
         "name": "Rw674_uncertainty_relative_unbiased"
        },
        "Rw681": {
         "attrs": {
          "ancillary_variables": "Rw681_uncertainty_relative, Rw681_uncertainty_relative_unbiased",
          "chunk_sizes": [
           1,
           1440,
           2880
          ],
          "coordinates": "lat lon",
          "data_type": "float32",
          "dimensions": [
           "time",
           "lat",
           "lon"
          ],
          "file_chunk_sizes": [
           1,
           1440,
           2880
          ],
          "file_dimensions": [
           "time",
           "lat",
           "lon"
          ],
          "fill_value": 9.96921e+36,
          "grid_mapping": "crs",
          "long_name": "Fully normalized water-leaving reflectance at 681 nm",
          "orig_data_type": "float32",
          "radiation_wavelength": 681,
          "radiation_wavelength_units": "nm",
          "shape": [
           11054,
           21600,
           43200
          ],
          "size": 10314708480000,
          "units": "1",
          "valid_max": 1,
          "valid_min": 0
         },
         "dims": [
          "time",
          "lat",
          "lon"
         ],
         "dtype": "float32",
         "name": "Rw681"
        },
        "Rw681_uncertainty_relative": {
         "attrs": {
          "chunk_sizes": [
           1,
           1440,
           2880
          ],
          "coordinates": "lat lon",
          "data_type": "float32",
          "dimensions": [
           "time",
           "lat",
           "lon"
          ],
          "file_chunk_sizes": [
           1,
           1440,
           2880
          ],
          "file_dimensions": [
           "time",
           "lat",
           "lon"
          ],
          "fill_value": 9.96921e+36,
          "grid_mapping": "crs",
          "long_name": "Relative uncertainty in fully normalized water-leaving reflectance at 681 nm",
          "orig_data_type": "float32",
          "radiation_wavelength": 681,
          "radiation_wavelength_units": "nm",
          "shape": [
           11054,
           21600,
           43200
          ],
          "size": 10314708480000,
          "units": "percent",
          "valid_max": 10000,
          "valid_min": -10000
         },
         "dims": [
          "time",
          "lat",
          "lon"
         ],
         "dtype": "float32",
         "name": "Rw681_uncertainty_relative"
        },
        "Rw681_uncertainty_relative_unbiased": {
         "attrs": {
          "chunk_sizes": [
           1,
           1440,
           2880
          ],
          "coordinates": "lat lon",
          "data_type": "float32",
          "dimensions": [
           "time",
           "lat",
           "lon"
          ],
          "file_chunk_sizes": [
           1,
           1440,
           2880
          ],
          "file_dimensions": [
           "time",
           "lat",
           "lon"
          ],
          "fill_value": 9.96921e+36,
          "grid_mapping": "crs",
          "long_name": "Relative unbiased uncertainty in fully normalized water-leaving reflectance at 681 nm",
          "orig_data_type": "float32",
          "radiation_wavelength": 681,
          "radiation_wavelength_units": "nm",
          "shape": [
           11054,
           21600,
           43200
          ],
          "size": 10314708480000,
          "units": "percent",
          "valid_max": 10000,
          "valid_min": -10000
         },
         "dims": [
          "time",
          "lat",
          "lon"
         ],
         "dtype": "float32",
         "name": "Rw681_uncertainty_relative_unbiased"
        },
        "Rw709": {
         "attrs": {
          "ancillary_variables": "Rw709_uncertainty_relative, Rw709_uncertainty_relative_unbiased",
          "chunk_sizes": [
           1,
           1440,
           2880
          ],
          "coordinates": "lat lon",
          "data_type": "float32",
          "dimensions": [
           "time",
           "lat",
           "lon"
          ],
          "file_chunk_sizes": [
           1,
           1440,
           2880
          ],
          "file_dimensions": [
           "time",
           "lat",
           "lon"
          ],
          "fill_value": 9.96921e+36,
          "grid_mapping": "crs",
          "long_name": "Fully normalized water-leaving reflectance at 709 nm",
          "orig_data_type": "float32",
          "radiation_wavelength": 709,
          "radiation_wavelength_units": "nm",
          "shape": [
           11054,
           21600,
           43200
          ],
          "size": 10314708480000,
          "units": "1",
          "valid_max": 1,
          "valid_min": 0
         },
         "dims": [
          "time",
          "lat",
          "lon"
         ],
         "dtype": "float32",
         "name": "Rw709"
        },
        "Rw709_uncertainty_relative": {
         "attrs": {
          "chunk_sizes": [
           1,
           1440,
           2880
          ],
          "coordinates": "lat lon",
          "data_type": "float32",
          "dimensions": [
           "time",
           "lat",
           "lon"
          ],
          "file_chunk_sizes": [
           1,
           1440,
           2880
          ],
          "file_dimensions": [
           "time",
           "lat",
           "lon"
          ],
          "fill_value": 9.96921e+36,
          "grid_mapping": "crs",
          "long_name": "Relative uncertainty in fully normalized water-leaving reflectance at 709 nm",
          "orig_data_type": "float32",
          "radiation_wavelength": 709,
          "radiation_wavelength_units": "nm",
          "shape": [
           11054,
           21600,
           43200
          ],
          "size": 10314708480000,
          "units": "percent",
          "valid_max": 10000,
          "valid_min": -10000
         },
         "dims": [
          "time",
          "lat",
          "lon"
         ],
         "dtype": "float32",
         "name": "Rw709_uncertainty_relative"
        },
        "Rw709_uncertainty_relative_unbiased": {
         "attrs": {
          "chunk_sizes": [
           1,
           1440,
           2880
          ],
          "coordinates": "lat lon",
          "data_type": "float32",
          "dimensions": [
           "time",
           "lat",
           "lon"
          ],
          "file_chunk_sizes": [
           1,
           1440,
           2880
          ],
          "file_dimensions": [
           "time",
           "lat",
           "lon"
          ],
          "fill_value": 9.96921e+36,
          "grid_mapping": "crs",
          "long_name": "Relative unbiased uncertainty in fully normalized water-leaving reflectance at 709 nm",
          "orig_data_type": "float32",
          "radiation_wavelength": 709,
          "radiation_wavelength_units": "nm",
          "shape": [
           11054,
           21600,
           43200
          ],
          "size": 10314708480000,
          "units": "percent",
          "valid_max": 10000,
          "valid_min": -10000
         },
         "dims": [
          "time",
          "lat",
          "lon"
         ],
         "dtype": "float32",
         "name": "Rw709_uncertainty_relative_unbiased"
        },
        "Rw754": {
         "attrs": {
          "ancillary_variables": "Rw754_uncertainty_relative, Rw754_uncertainty_relative_unbiased",
          "chunk_sizes": [
           1,
           1440,
           2880
          ],
          "coordinates": "lat lon",
          "data_type": "float32",
          "dimensions": [
           "time",
           "lat",
           "lon"
          ],
          "file_chunk_sizes": [
           1,
           1440,
           2880
          ],
          "file_dimensions": [
           "time",
           "lat",
           "lon"
          ],
          "fill_value": 9.96921e+36,
          "grid_mapping": "crs",
          "long_name": "Fully normalized water-leaving reflectance at 754 nm",
          "orig_data_type": "float32",
          "radiation_wavelength": 754,
          "radiation_wavelength_units": "nm",
          "shape": [
           11054,
           21600,
           43200
          ],
          "size": 10314708480000,
          "units": "1",
          "valid_max": 1,
          "valid_min": 0
         },
         "dims": [
          "time",
          "lat",
          "lon"
         ],
         "dtype": "float32",
         "name": "Rw754"
        },
        "Rw754_uncertainty_relative": {
         "attrs": {
          "chunk_sizes": [
           1,
           1440,
           2880
          ],
          "coordinates": "lat lon",
          "data_type": "float32",
          "dimensions": [
           "time",
           "lat",
           "lon"
          ],
          "file_chunk_sizes": [
           1,
           1440,
           2880
          ],
          "file_dimensions": [
           "time",
           "lat",
           "lon"
          ],
          "fill_value": 9.96921e+36,
          "grid_mapping": "crs",
          "long_name": "Relative uncertainty in fully normalized water-leaving reflectance at 754 nm",
          "orig_data_type": "float32",
          "radiation_wavelength": 754,
          "radiation_wavelength_units": "nm",
          "shape": [
           11054,
           21600,
           43200
          ],
          "size": 10314708480000,
          "units": "percent",
          "valid_max": 10000,
          "valid_min": -10000
         },
         "dims": [
          "time",
          "lat",
          "lon"
         ],
         "dtype": "float32",
         "name": "Rw754_uncertainty_relative"
        },
        "Rw754_uncertainty_relative_unbiased": {
         "attrs": {
          "chunk_sizes": [
           1,
           1440,
           2880
          ],
          "coordinates": "lat lon",
          "data_type": "float32",
          "dimensions": [
           "time",
           "lat",
           "lon"
          ],
          "file_chunk_sizes": [
           1,
           1440,
           2880
          ],
          "file_dimensions": [
           "time",
           "lat",
           "lon"
          ],
          "fill_value": 9.96921e+36,
          "grid_mapping": "crs",
          "long_name": "Relative unbiased uncertainty in fully normalized water-leaving reflectance at 754 nm",
          "orig_data_type": "float32",
          "radiation_wavelength": 754,
          "radiation_wavelength_units": "nm",
          "shape": [
           11054,
           21600,
           43200
          ],
          "size": 10314708480000,
          "units": "percent",
          "valid_max": 10000,
          "valid_min": -10000
         },
         "dims": [
          "time",
          "lat",
          "lon"
         ],
         "dtype": "float32",
         "name": "Rw754_uncertainty_relative_unbiased"
        },
        "Rw779": {
         "attrs": {
          "ancillary_variables": "Rw779_uncertainty_relative, Rw779_uncertainty_relative_unbiased",
          "chunk_sizes": [
           1,
           1440,
           2880
          ],
          "coordinates": "lat lon",
          "data_type": "float32",
          "dimensions": [
           "time",
           "lat",
           "lon"
          ],
          "file_chunk_sizes": [
           1,
           1440,
           2880
          ],
          "file_dimensions": [
           "time",
           "lat",
           "lon"
          ],
          "fill_value": 9.96921e+36,
          "grid_mapping": "crs",
          "long_name": "Fully normalized water-leaving reflectance at 779 nm",
          "orig_data_type": "float32",
          "radiation_wavelength": 779,
          "radiation_wavelength_units": "nm",
          "shape": [
           11054,
           21600,
           43200
          ],
          "size": 10314708480000,
          "units": "1",
          "valid_max": 1,
          "valid_min": 0
         },
         "dims": [
          "time",
          "lat",
          "lon"
         ],
         "dtype": "float32",
         "name": "Rw779"
        },
        "Rw779_uncertainty_relative": {
         "attrs": {
          "chunk_sizes": [
           1,
           1440,
           2880
          ],
          "coordinates": "lat lon",
          "data_type": "float32",
          "dimensions": [
           "time",
           "lat",
           "lon"
          ],
          "file_chunk_sizes": [
           1,
           1440,
           2880
          ],
          "file_dimensions": [
           "time",
           "lat",
           "lon"
          ],
          "fill_value": 9.96921e+36,
          "grid_mapping": "crs",
          "long_name": "Relative uncertainty in fully normalized water-leaving reflectance at 779 nm",
          "orig_data_type": "float32",
          "radiation_wavelength": 779,
          "radiation_wavelength_units": "nm",
          "shape": [
           11054,
           21600,
           43200
          ],
          "size": 10314708480000,
          "units": "percent",
          "valid_max": 10000,
          "valid_min": -10000
         },
         "dims": [
          "time",
          "lat",
          "lon"
         ],
         "dtype": "float32",
         "name": "Rw779_uncertainty_relative"
        },
        "Rw779_uncertainty_relative_unbiased": {
         "attrs": {
          "chunk_sizes": [
           1,
           1440,
           2880
          ],
          "coordinates": "lat lon",
          "data_type": "float32",
          "dimensions": [
           "time",
           "lat",
           "lon"
          ],
          "file_chunk_sizes": [
           1,
           1440,
           2880
          ],
          "file_dimensions": [
           "time",
           "lat",
           "lon"
          ],
          "fill_value": 9.96921e+36,
          "grid_mapping": "crs",
          "long_name": "Relative unbiased uncertainty in fully normalized water-leaving reflectance at 779 nm",
          "orig_data_type": "float32",
          "radiation_wavelength": 779,
          "radiation_wavelength_units": "nm",
          "shape": [
           11054,
           21600,
           43200
          ],
          "size": 10314708480000,
          "units": "percent",
          "valid_max": 10000,
          "valid_min": -10000
         },
         "dims": [
          "time",
          "lat",
          "lon"
         ],
         "dtype": "float32",
         "name": "Rw779_uncertainty_relative_unbiased"
        },
        "Rw859": {
         "attrs": {
          "ancillary_variables": "Rw859_uncertainty_relative, Rw859_uncertainty_relative_unbiased",
          "chunk_sizes": [
           1,
           1440,
           2880
          ],
          "coordinates": "lat lon",
          "data_type": "float32",
          "dimensions": [
           "time",
           "lat",
           "lon"
          ],
          "file_chunk_sizes": [
           1,
           1440,
           2880
          ],
          "file_dimensions": [
           "time",
           "lat",
           "lon"
          ],
          "fill_value": 9.96921e+36,
          "grid_mapping": "crs",
          "long_name": "Fully normalized water-leaving reflectance at 859 nm",
          "orig_data_type": "float32",
          "radiation_wavelength": 859,
          "radiation_wavelength_units": "nm",
          "shape": [
           11054,
           21600,
           43200
          ],
          "size": 10314708480000,
          "units": "1",
          "valid_max": 1,
          "valid_min": 0
         },
         "dims": [
          "time",
          "lat",
          "lon"
         ],
         "dtype": "float32",
         "name": "Rw859"
        },
        "Rw859_uncertainty_relative": {
         "attrs": {
          "chunk_sizes": [
           1,
           1440,
           2880
          ],
          "coordinates": "lat lon",
          "data_type": "float32",
          "dimensions": [
           "time",
           "lat",
           "lon"
          ],
          "file_chunk_sizes": [
           1,
           1440,
           2880
          ],
          "file_dimensions": [
           "time",
           "lat",
           "lon"
          ],
          "fill_value": 9.96921e+36,
          "grid_mapping": "crs",
          "long_name": "Relative uncertainty in fully normalized water-leaving reflectance at 859 nm",
          "orig_data_type": "float32",
          "radiation_wavelength": 859,
          "radiation_wavelength_units": "nm",
          "shape": [
           11054,
           21600,
           43200
          ],
          "size": 10314708480000,
          "units": "percent",
          "valid_max": 10000,
          "valid_min": -10000
         },
         "dims": [
          "time",
          "lat",
          "lon"
         ],
         "dtype": "float32",
         "name": "Rw859_uncertainty_relative"
        },
        "Rw859_uncertainty_relative_unbiased": {
         "attrs": {
          "chunk_sizes": [
           1,
           1440,
           2880
          ],
          "coordinates": "lat lon",
          "data_type": "float32",
          "dimensions": [
           "time",
           "lat",
           "lon"
          ],
          "file_chunk_sizes": [
           1,
           1440,
           2880
          ],
          "file_dimensions": [
           "time",
           "lat",
           "lon"
          ],
          "fill_value": 9.96921e+36,
          "grid_mapping": "crs",
          "long_name": "Relative unbiased uncertainty in fully normalized water-leaving reflectance at 859 nm",
          "orig_data_type": "float32",
          "radiation_wavelength": 859,
          "radiation_wavelength_units": "nm",
          "shape": [
           11054,
           21600,
           43200
          ],
          "size": 10314708480000,
          "units": "percent",
          "valid_max": 10000,
          "valid_min": -10000
         },
         "dims": [
          "time",
          "lat",
          "lon"
         ],
         "dtype": "float32",
         "name": "Rw859_uncertainty_relative_unbiased"
        },
        "Rw885": {
         "attrs": {
          "ancillary_variables": "Rw885_uncertainty_relative, Rw885_uncertainty_relative_unbiased",
          "chunk_sizes": [
           1,
           1440,
           2880
          ],
          "coordinates": "lat lon",
          "data_type": "float32",
          "dimensions": [
           "time",
           "lat",
           "lon"
          ],
          "file_chunk_sizes": [
           1,
           1440,
           2880
          ],
          "file_dimensions": [
           "time",
           "lat",
           "lon"
          ],
          "fill_value": 9.96921e+36,
          "grid_mapping": "crs",
          "long_name": "Fully normalized water-leaving reflectance at 885 nm",
          "orig_data_type": "float32",
          "radiation_wavelength": 885,
          "radiation_wavelength_units": "nm",
          "shape": [
           11054,
           21600,
           43200
          ],
          "size": 10314708480000,
          "units": "1",
          "valid_max": 1,
          "valid_min": 0
         },
         "dims": [
          "time",
          "lat",
          "lon"
         ],
         "dtype": "float32",
         "name": "Rw885"
        },
        "Rw885_uncertainty_relative": {
         "attrs": {
          "chunk_sizes": [
           1,
           1440,
           2880
          ],
          "coordinates": "lat lon",
          "data_type": "float32",
          "dimensions": [
           "time",
           "lat",
           "lon"
          ],
          "file_chunk_sizes": [
           1,
           1440,
           2880
          ],
          "file_dimensions": [
           "time",
           "lat",
           "lon"
          ],
          "fill_value": 9.96921e+36,
          "grid_mapping": "crs",
          "long_name": "Relative uncertainty in fully normalized water-leaving reflectance at 885 nm",
          "orig_data_type": "float32",
          "radiation_wavelength": 885,
          "radiation_wavelength_units": "nm",
          "shape": [
           11054,
           21600,
           43200
          ],
          "size": 10314708480000,
          "units": "percent",
          "valid_max": 10000,
          "valid_min": -10000
         },
         "dims": [
          "time",
          "lat",
          "lon"
         ],
         "dtype": "float32",
         "name": "Rw885_uncertainty_relative"
        },
        "Rw885_uncertainty_relative_unbiased": {
         "attrs": {
          "chunk_sizes": [
           1,
           1440,
           2880
          ],
          "coordinates": "lat lon",
          "data_type": "float32",
          "dimensions": [
           "time",
           "lat",
           "lon"
          ],
          "file_chunk_sizes": [
           1,
           1440,
           2880
          ],
          "file_dimensions": [
           "time",
           "lat",
           "lon"
          ],
          "fill_value": 9.96921e+36,
          "grid_mapping": "crs",
          "long_name": "Relative unbiased uncertainty in fully normalized water-leaving reflectance at 885 nm",
          "orig_data_type": "float32",
          "radiation_wavelength": 885,
          "radiation_wavelength_units": "nm",
          "shape": [
           11054,
           21600,
           43200
          ],
          "size": 10314708480000,
          "units": "percent",
          "valid_max": 10000,
          "valid_min": -10000
         },
         "dims": [
          "time",
          "lat",
          "lon"
         ],
         "dtype": "float32",
         "name": "Rw885_uncertainty_relative_unbiased"
        },
        "Rw900": {
         "attrs": {
          "ancillary_variables": "Rw900_uncertainty_relative, Rw900_uncertainty_relative_unbiased",
          "chunk_sizes": [
           1,
           1440,
           2880
          ],
          "coordinates": "lat lon",
          "data_type": "float32",
          "dimensions": [
           "time",
           "lat",
           "lon"
          ],
          "file_chunk_sizes": [
           1,
           1440,
           2880
          ],
          "file_dimensions": [
           "time",
           "lat",
           "lon"
          ],
          "fill_value": 9.96921e+36,
          "grid_mapping": "crs",
          "long_name": "Fully normalized water-leaving reflectance at 900 nm",
          "orig_data_type": "float32",
          "radiation_wavelength": 900,
          "radiation_wavelength_units": "nm",
          "shape": [
           11054,
           21600,
           43200
          ],
          "size": 10314708480000,
          "units": "1",
          "valid_max": 1,
          "valid_min": 0
         },
         "dims": [
          "time",
          "lat",
          "lon"
         ],
         "dtype": "float32",
         "name": "Rw900"
        },
        "Rw900_uncertainty_relative": {
         "attrs": {
          "chunk_sizes": [
           1,
           1440,
           2880
          ],
          "coordinates": "lat lon",
          "data_type": "float32",
          "dimensions": [
           "time",
           "lat",
           "lon"
          ],
          "file_chunk_sizes": [
           1,
           1440,
           2880
          ],
          "file_dimensions": [
           "time",
           "lat",
           "lon"
          ],
          "fill_value": 9.96921e+36,
          "grid_mapping": "crs",
          "long_name": "Relative uncertainty in fully normalized water-leaving reflectance at 900 nm",
          "orig_data_type": "float32",
          "radiation_wavelength": 900,
          "radiation_wavelength_units": "nm",
          "shape": [
           11054,
           21600,
           43200
          ],
          "size": 10314708480000,
          "units": "percent",
          "valid_max": 10000,
          "valid_min": -10000
         },
         "dims": [
          "time",
          "lat",
          "lon"
         ],
         "dtype": "float32",
         "name": "Rw900_uncertainty_relative"
        },
        "Rw900_uncertainty_relative_unbiased": {
         "attrs": {
          "chunk_sizes": [
           1,
           1440,
           2880
          ],
          "coordinates": "lat lon",
          "data_type": "float32",
          "dimensions": [
           "time",
           "lat",
           "lon"
          ],
          "file_chunk_sizes": [
           1,
           1440,
           2880
          ],
          "file_dimensions": [
           "time",
           "lat",
           "lon"
          ],
          "fill_value": 9.96921e+36,
          "grid_mapping": "crs",
          "long_name": "Relative unbiased uncertainty in fully normalized water-leaving reflectance at 900 nm",
          "orig_data_type": "float32",
          "radiation_wavelength": 900,
          "radiation_wavelength_units": "nm",
          "shape": [
           11054,
           21600,
           43200
          ],
          "size": 10314708480000,
          "units": "percent",
          "valid_max": 10000,
          "valid_min": -10000
         },
         "dims": [
          "time",
          "lat",
          "lon"
         ],
         "dtype": "float32",
         "name": "Rw900_uncertainty_relative_unbiased"
        },
        "chla_mean": {
         "attrs": {
          "ancillary_variables": "chla_uncertainty",
          "chunk_sizes": [
           1,
           1440,
           2880
          ],
          "coordinates": "lat lon",
          "data_type": "float32",
          "dimensions": [
           "time",
           "lat",
           "lon"
          ],
          "file_chunk_sizes": [
           1,
           1440,
           2880
          ],
          "file_dimensions": [
           "time",
           "lat",
           "lon"
          ],
          "fill_value": 9.96921e+36,
          "grid_mapping": "crs",
          "long_name": "Concentration of chlorophyll-a",
          "orig_data_type": "float32",
          "shape": [
           11054,
           21600,
           43200
          ],
          "size": 10314708480000,
          "units": "mg.m-3",
          "valid_max": 1000,
          "valid_min": 0
         },
         "dims": [
          "time",
          "lat",
          "lon"
         ],
         "dtype": "float32",
         "name": "chla_mean"
        },
        "chla_uncertainty": {
         "attrs": {
          "chunk_sizes": [
           1,
           1440,
           2880
          ],
          "coordinates": "lat lon",
          "data_type": "float32",
          "dimensions": [
           "time",
           "lat",
           "lon"
          ],
          "file_chunk_sizes": [
           1,
           1440,
           2880
          ],
          "file_dimensions": [
           "time",
           "lat",
           "lon"
          ],
          "fill_value": 9.96921e+36,
          "grid_mapping": "crs",
          "long_name": "Relative uncertainty in concentration of chlorophyll-a",
          "orig_data_type": "float32",
          "shape": [
           11054,
           21600,
           43200
          ],
          "size": 10314708480000,
          "units": "percent",
          "valid_max": 200,
          "valid_min": 0
         },
         "dims": [
          "time",
          "lat",
          "lon"
         ],
         "dtype": "float32",
         "name": "chla_uncertainty"
        },
        "crs": {
         "attrs": {
          "chunk_sizes": [
           1
          ],
          "crs_wkt": "GEODCRS[\\\"WGS 84\\\",\nDATUM[\\\"World Geodetic System 1984\\\",\nELLIPSOID[\\\"WGS 84\\\",6378137,298.257223563,\nLENGTHUNIT[\\\"metre\\\",1.0]]],\nPRIMEM[\\\"Greenwich\\\",0],\nCS[ellipsoidal,3],\nAXIS[\\\"(lat)\\\",north,ANGLEUNIT[\\\"degree\\\",0.0174532925199433]],\nAXIS[\\\"(lon)\\\",east,ANGLEUNIT[\\\"degree\\\",0.0174532925199433]],\nAXIS[\\\"ellipsoidal height (h)\\\",up,LENGTHUNIT[\\\"metre\\\",1.0]]]\n",
          "data_type": "int64",
          "dimensions": [],
          "file_chunk_sizes": [
           1
          ],
          "file_dimensions": [],
          "fill_value": 9223372036854776000,
          "grid_mapping_name": "latitude_longitude",
          "inverse_flattening": 298.257223563,
          "longitude_of_prime_meridian": 0,
          "orig_data_type": "int32",
          "semi_major_axis": 6378137,
          "shape": [
           1
          ],
          "size": 1
         },
         "dims": [],
         "dtype": "int64",
         "name": "crs"
        },
        "lake_ice_cover_class": {
         "attrs": {
          "_Unsigned": "false",
          "ancillary_variables": "lake_ice_cover_flag lake_ice_cover_uncertainty",
          "chunk_sizes": [
           1,
           800,
           800
          ],
          "data_type": "uint8",
          "dimensions": [
           "time",
           "lat",
           "lon"
          ],
          "file_chunk_sizes": [
           1,
           800,
           800
          ],
          "file_dimensions": [
           "time",
           "lat",
           "lon"
          ],
          "fill_value": 0,
          "flag_meanings": "water ice cloud bad",
          "flag_values": [
           1,
           2,
           3,
           4
          ],
          "grid_mapping": "crs",
          "long_name": "lake ice cover",
          "orig_data_type": "uint8",
          "shape": [
           11054,
           21600,
           43200
          ],
          "size": 10314708480000,
          "valid_max": 4,
          "valid_min": 1
         },
         "dims": [
          "time",
          "lat",
          "lon"
         ],
         "dtype": "uint8",
         "name": "lake_ice_cover_class"
        },
        "lake_ice_cover_flag": {
         "attrs": {
          "_Unsigned": "false",
          "chunk_sizes": [
           1,
           800,
           800
          ],
          "data_type": "uint8",
          "dimensions": [
           "time",
           "lat",
           "lon"
          ],
          "file_chunk_sizes": [
           1,
           800,
           800
          ],
          "file_dimensions": [
           "time",
           "lat",
           "lon"
          ],
          "fill_value": 0,
          "flag_meanings": "does_not_form_ice forms_ice",
          "flag_values": [
           1,
           2
          ],
          "grid_mapping": "crs",
          "long_name": "lake ice cover flag",
          "orig_data_type": "uint8",
          "shape": [
           11054,
           21600,
           43200
          ],
          "size": 10314708480000,
          "valid_max": 2,
          "valid_min": 1
         },
         "dims": [
          "time",
          "lat",
          "lon"
         ],
         "dtype": "uint8",
         "name": "lake_ice_cover_flag"
        },
        "lake_ice_cover_uncertainty": {
         "attrs": {
          "chunk_sizes": [
           1,
           800,
           800
          ],
          "data_type": "int16",
          "dimensions": [
           "time",
           "lat",
           "lon"
          ],
          "file_chunk_sizes": [
           1,
           800,
           800
          ],
          "file_dimensions": [
           "time",
           "lat",
           "lon"
          ],
          "fill_value": -32768,
          "grid_mapping": "crs",
          "long_name": "lake ice cover uncertainty",
          "orig_data_type": "int16",
          "scale_factor": 0.01,
          "shape": [
           11054,
           21600,
           43200
          ],
          "size": 10314708480000,
          "units": "percent",
          "valid_max": 10000,
          "valid_min": 0
         },
         "dims": [
          "time",
          "lat",
          "lon"
         ],
         "dtype": "int16",
         "name": "lake_ice_cover_uncertainty"
        },
        "lake_surface_water_extent": {
         "attrs": {
          "anciliary_variables": "lwe_uncertainty, lwe_quality_flag",
          "chunk_sizes": [
           1,
           800,
           800
          ],
          "data_type": "float32",
          "dimensions": [
           "time",
           "lat",
           "lon"
          ],
          "file_chunk_sizes": [
           1,
           800,
           800
          ],
          "file_dimensions": [
           "time",
           "lat",
           "lon"
          ],
          "fill_value": 9.96921e+36,
          "grid_mapping": "crs",
          "long_name": "Lake Water Extent",
          "orig_data_type": "float32",
          "shape": [
           11054,
           21600,
           43200
          ],
          "size": 10314708480000,
          "units": "km2",
          "valid_max": 500000,
          "valid_min": 0
         },
         "dims": [
          "time",
          "lat",
          "lon"
         ],
         "dtype": "float32",
         "name": "lake_surface_water_extent"
        },
        "lake_surface_water_temperature": {
         "attrs": {
          "add_offset": 273.15,
          "ancillary_variables": "lswt_uncertainty lswt_quality_level lswt_obs_instr lswt_flag_bias_correction",
          "chunk_sizes": [
           1,
           800,
           800
          ],
          "comment": "The observations from different instruments have been combined.",
          "data_type": "int16",
          "dimensions": [
           "time",
           "lat",
           "lon"
          ],
          "file_chunk_sizes": [
           1,
           800,
           800
          ],
          "file_dimensions": [
           "time",
           "lat",
           "lon"
          ],
          "fill_value": -32768,
          "grid_mapping": "crs",
          "long_name": "lake surface skin temperature",
          "orig_data_type": "int16",
          "scale_factor": 0.01,
          "shape": [
           11054,
           21600,
           43200
          ],
          "size": 10314708480000,
          "units": "Kelvin",
          "valid_max": 5000,
          "valid_min": -200
         },
         "dims": [
          "time",
          "lat",
          "lon"
         ],
         "dtype": "int16",
         "name": "lake_surface_water_temperature"
        },
        "lswt_quality_level": {
         "attrs": {
          "_Unsigned": "false",
          "chunk_sizes": [
           1,
           800,
           800
          ],
          "comment": "These are overall quality indicators and they are important to properly use the data.",
          "data_type": "uint8",
          "dimensions": [
           "time",
           "lat",
           "lon"
          ],
          "file_chunk_sizes": [
           1,
           800,
           800
          ],
          "file_dimensions": [
           "time",
           "lat",
           "lon"
          ],
          "fill_value": 0,
          "flag_masks": [
           1,
           2,
           3,
           4,
           5
          ],
          "flag_meanings": "bad_data worst_quality low_quality acceptable_quality best_quality",
          "grid_mapping": "crs",
          "long_name": "lake surface water temperature quality levels",
          "orig_data_type": "uint8",
          "shape": [
           11054,
           21600,
           43200
          ],
          "size": 10314708480000,
          "valid_max": 5,
          "valid_min": 1
         },
         "dims": [
          "time",
          "lat",
          "lon"
         ],
         "dtype": "uint8",
         "name": "lswt_quality_level"
        },
        "lswt_uncertainty": {
         "attrs": {
          "add_offset": 0,
          "chunk_sizes": [
           1,
           800,
           800
          ],
          "comment": "Total uncertainty was computed with LSWT uncertainties from the Optimal Estimation and bias correction uncertainty.",
          "data_type": "int16",
          "dimensions": [
           "time",
           "lat",
           "lon"
          ],
          "file_chunk_sizes": [
           1,
           800,
           800
          ],
          "file_dimensions": [
           "time",
           "lat",
           "lon"
          ],
          "fill_value": -32768,
          "grid_mapping": "crs",
          "long_name": "total uncertainty",
          "orig_data_type": "int16",
          "scale_factor": 0.001,
          "shape": [
           11054,
           21600,
           43200
          ],
          "size": 10314708480000,
          "units": "Kelvin",
          "valid_max": 10000,
          "valid_min": 0
         },
         "dims": [
          "time",
          "lat",
          "lon"
         ],
         "dtype": "int16",
         "name": "lswt_uncertainty"
        },
        "lwe_quality_flag": {
         "attrs": {
          "_Unsigned": "false",
          "chunk_sizes": [
           1,
           800,
           800
          ],
          "comment": "These are quality indicators, and they are important to properly use the data",
          "data_type": "uint8",
          "dimensions": [
           "time",
           "lat",
           "lon"
          ],
          "file_chunk_sizes": [
           1,
           800,
           800
          ],
          "file_dimensions": [
           "time",
           "lat",
           "lon"
          ],
          "fill_value": -127,
          "flag_meanings": "best_quality medium_quality lower_quality",
          "flag_values": [
           0,
           1,
           2
          ],
          "grid_mapping": "crs",
          "long_name": "quality of the lake water extent estimated",
          "orig_data_type": "uint8",
          "shape": [
           11054,
           21600,
           43200
          ],
          "size": 10314708480000,
          "valid_max": 2,
          "valid_min": 0
         },
         "dims": [
          "time",
          "lat",
          "lon"
         ],
         "dtype": "uint8",
         "name": "lwe_quality_flag"
        },
        "lwe_uncertainty": {
         "attrs": {
          "chunk_sizes": [
           1,
           800,
           800
          ],
          "data_type": "int32",
          "dimensions": [
           "time",
           "lat",
           "lon"
          ],
          "file_chunk_sizes": [
           1,
           800,
           800
          ],
          "file_dimensions": [
           "time",
           "lat",
           "lon"
          ],
          "fill_value": -32767,
          "grid_mapping": "crs",
          "long_name": "Water extent uncertainty",
          "orig_data_type": "int32",
          "scale_factor": 0.01,
          "shape": [
           11054,
           21600,
           43200
          ],
          "size": 10314708480000,
          "units": "percent",
          "valid_max": 10000,
          "valid_min": 0
         },
         "dims": [
          "time",
          "lat",
          "lon"
         ],
         "dtype": "int32",
         "name": "lwe_uncertainty"
        },
        "lwl_quality_flag": {
         "attrs": {
          "_Unsigned": "false",
          "chunk_sizes": [
           1,
           800,
           800
          ],
          "comment": "These are quality indicators, and they are important to properly use the data",
          "data_type": "uint8",
          "dimensions": [
           "time",
           "lat",
           "lon"
          ],
          "file_chunk_sizes": [
           1,
           800,
           800
          ],
          "file_dimensions": [
           "time",
           "lat",
           "lon"
          ],
          "fill_value": -127,
          "flag_meanings": "best_quality medium_quality lower_quality",
          "flag_values": [
           0,
           1,
           2
          ],
          "grid_mapping": "crs",
          "long_name": "quality of the lake water level estimated",
          "orig_data_type": "uint8",
          "shape": [
           11054,
           21600,
           43200
          ],
          "size": 10314708480000,
          "valid_max": 2,
          "valid_min": 0
         },
         "dims": [
          "time",
          "lat",
          "lon"
         ],
         "dtype": "uint8",
         "name": "lwl_quality_flag"
        },
        "lwl_uncertainty": {
         "attrs": {
          "chunk_sizes": [
           1,
           800,
           800
          ],
          "data_type": "int32",
          "dimensions": [
           "time",
           "lat",
           "lon"
          ],
          "file_chunk_sizes": [
           1,
           800,
           800
          ],
          "file_dimensions": [
           "time",
           "lat",
           "lon"
          ],
          "fill_value": -32767,
          "grid_mapping": "crs",
          "long_name": "Water surface height uncertainty",
          "orig_data_type": "int32",
          "scale_factor": 0.01,
          "shape": [
           11054,
           21600,
           43200
          ],
          "size": 10314708480000,
          "units": "cm",
          "valid_max": 30000,
          "valid_min": 0
         },
         "dims": [
          "time",
          "lat",
          "lon"
         ],
         "dtype": "int32",
         "name": "lwl_uncertainty"
        },
        "lwlr_quality_flag": {
         "attrs": {
          "_Unsigned": "true",
          "chunk_sizes": [
           1,
           2700,
           5400
          ],
          "comment": "These quality indicators inform the user on the reasons behind missing observations and on proper use of the data. lwlr_cloud: not processed due to suspected cloud; lwlr_land: not processed due to suspected land; lwlr_snow_ice: not processed due to suspected snow or ice; lwlr_bright_pixel: extreme values masked; lwlr_land_contaminated: risk of land influence on water signal; lwlr_atmospheric_correction_failure: no atmospheric correction result; lwlr_poor_consistency: illegal combination of LWLR, LWST, and/or LIC; lwlr_ low_consistency: pixel includes at least some suspect combinations of LWLR, LWST, and/or LIC",
          "data_type": "uint8",
          "dimensions": [
           "time",
           "lat",
           "lon"
          ],
          "file_chunk_sizes": [
           1,
           2700,
           5400
          ],
          "file_dimensions": [
           "time",
           "lat",
           "lon"
          ],
          "fill_value": -1,
          "flag_meanings": "lwlr_cloud lwlr_land lwlr_snow_ice lwlr_bright_pixel lwlr_land_contaminated lwlr_atmospheric_correction_failure lwlr_poor_consistency lwlr_low_consistency",
          "flag_values": [
           1,
           2,
           4,
           8,
           16,
           32,
           64,
           -128
          ],
          "grid_mapping": "crs",
          "long_name": "Quality flag of LWLR pixels",
          "orig_data_type": "uint8",
          "shape": [
           11054,
           21600,
           43200
          ],
          "size": 10314708480000,
          "units": "",
          "valid_max": 128,
          "valid_min": 0
         },
         "dims": [
          "time",
          "lat",
          "lon"
         ],
         "dtype": "uint8",
         "name": "lwlr_quality_flag"
        },
        "num_obs": {
         "attrs": {
          "chunk_sizes": [
           1,
           1440,
           2880
          ],
          "coordinates": "lat lon",
          "data_type": "int32",
          "dimensions": [
           "time",
           "lat",
           "lon"
          ],
          "file_chunk_sizes": [
           1,
           1440,
           2880
          ],
          "file_dimensions": [
           "time",
           "lat",
           "lon"
          ],
          "fill_value": 0,
          "grid_mapping": "crs",
          "long_name": "number of observations of the pixel area",
          "orig_data_type": "int32",
          "shape": [
           11054,
           21600,
           43200
          ],
          "size": 10314708480000,
          "units": "1"
         },
         "dims": [
          "time",
          "lat",
          "lon"
         ],
         "dtype": "int32",
         "name": "num_obs"
        },
        "turbidity_mean": {
         "attrs": {
          "ancillary_variables": "turbidity_uncertainty",
          "chunk_sizes": [
           1,
           1440,
           2880
          ],
          "coordinates": "lat lon",
          "data_type": "float32",
          "dimensions": [
           "time",
           "lat",
           "lon"
          ],
          "file_chunk_sizes": [
           1,
           1440,
           2880
          ],
          "file_dimensions": [
           "time",
           "lat",
           "lon"
          ],
          "fill_value": 9.96921e+36,
          "grid_mapping": "crs",
          "long_name": "Turbidity in Nephelometric Turbidity Units",
          "orig_data_type": "float32",
          "shape": [
           11054,
           21600,
           43200
          ],
          "size": 10314708480000,
          "units": "1",
          "valid_max": 1000,
          "valid_min": 0
         },
         "dims": [
          "time",
          "lat",
          "lon"
         ],
         "dtype": "float32",
         "name": "turbidity_mean"
        },
        "turbidity_uncertainty": {
         "attrs": {
          "chunk_sizes": [
           1,
           1440,
           2880
          ],
          "coordinates": "lat lon",
          "data_type": "float32",
          "dimensions": [
           "time",
           "lat",
           "lon"
          ],
          "file_chunk_sizes": [
           1,
           1440,
           2880
          ],
          "file_dimensions": [
           "time",
           "lat",
           "lon"
          ],
          "fill_value": 9.96921e+36,
          "grid_mapping": "crs",
          "long_name": "Relative uncertainty in turbidity",
          "orig_data_type": "float32",
          "shape": [
           11054,
           21600,
           43200
          ],
          "size": 10314708480000,
          "units": "percent",
          "valid_max": 200,
          "valid_min": 0
         },
         "dims": [
          "time",
          "lat",
          "lon"
         ],
         "dtype": "float32",
         "name": "turbidity_uncertainty"
        },
        "water_surface_height_above_reference_datum": {
         "attrs": {
          "anciliary_variables": "lwl_uncertainty, lwl_quality_flag",
          "chunk_sizes": [
           1,
           800,
           800
          ],
          "comment": "A Lake Water Level value of -999 indicates that no past or present altimetry missions monitor the lake",
          "data_type": "float32",
          "dimensions": [
           "time",
           "lat",
           "lon"
          ],
          "file_chunk_sizes": [
           1,
           800,
           800
          ],
          "file_dimensions": [
           "time",
           "lat",
           "lon"
          ],
          "fill_value": 9.96921e+36,
          "grid_mapping": "crs",
          "long_name": "Lake water level above geoid",
          "orig_data_type": "float32",
          "shape": [
           11054,
           21600,
           43200
          ],
          "size": 10314708480000,
          "units": "m",
          "valid_max": 6000,
          "valid_min": -999
         },
         "dims": [
          "time",
          "lat",
          "lon"
         ],
         "dtype": "float32",
         "name": "water_surface_height_above_reference_datum"
        }
       },
       "dims": {
        "lat": 21600,
        "lon": 43200,
        "nv": 2,
        "time": 11054
       },
       "open_params_schema": {
        "additionalProperties": false,
        "properties": {
         "normalize_data": {
          "default": true,
          "type": "boolean"
         },
         "time_range": {
          "items": [
           {
            "format": "date",
            "maxDate": "2022-12-31",
            "minDate": "1992-09-26",
            "type": "string"
           },
           {
            "format": "date",
            "maxDate": "2022-12-31",
            "minDate": "1992-09-26",
            "type": "string"
           }
          ],
          "type": "array"
         },
         "variable_names": {
          "items": {
           "enum": [
            "num_obs",
            "Rw412",
            "Rw412_uncertainty_relative",
            "Rw412_uncertainty_relative_unbiased",
            "Rw443",
            "Rw443_uncertainty_relative",
            "Rw443_uncertainty_relative_unbiased",
            "Rw490",
            "Rw490_uncertainty_relative",
            "Rw490_uncertainty_relative_unbiased",
            "Rw510",
            "Rw510_uncertainty_relative",
            "Rw510_uncertainty_relative_unbiased",
            "Rw560",
            "Rw560_uncertainty_relative",
            "Rw560_uncertainty_relative_unbiased",
            "Rw620",
            "Rw620_uncertainty_relative",
            "Rw620_uncertainty_relative_unbiased",
            "Rw665",
            "Rw665_uncertainty_relative",
            "Rw665_uncertainty_relative_unbiased",
            "Rw681",
            "Rw681_uncertainty_relative",
            "Rw681_uncertainty_relative_unbiased",
            "Rw709",
            "Rw709_uncertainty_relative",
            "Rw709_uncertainty_relative_unbiased",
            "Rw754",
            "Rw754_uncertainty_relative",
            "Rw754_uncertainty_relative_unbiased",
            "Rw779",
            "Rw779_uncertainty_relative",
            "Rw779_uncertainty_relative_unbiased",
            "Rw885",
            "Rw885_uncertainty_relative",
            "Rw885_uncertainty_relative_unbiased",
            "Rw900",
            "Rw900_uncertainty_relative",
            "Rw900_uncertainty_relative_unbiased",
            "chla_mean",
            "chla_uncertainty",
            "turbidity_mean",
            "turbidity_uncertainty",
            "lwlr_quality_flag",
            "Rw531",
            "Rw859_uncertainty_relative_unbiased",
            "Rw400_uncertainty_relative_unbiased",
            "Rw400_uncertainty_relative",
            "Rw531_uncertainty_relative",
            "Rw547",
            "Rw645",
            "Rw547_uncertainty_relative_unbiased",
            "Rw469_uncertainty_relative_unbiased",
            "Rw859",
            "Rw531_uncertainty_relative_unbiased",
            "Rw1020",
            "Rw645_uncertainty_relative",
            "Rw469",
            "Rw674",
            "Rw400",
            "Rw674_uncertainty_relative",
            "Rw674_uncertainty_relative_unbiased",
            "Rw1020_uncertainty_relative",
            "Rw547_uncertainty_relative",
            "Rw645_uncertainty_relative_unbiased",
            "Rw469_uncertainty_relative",
            "Rw1020_uncertainty_relative_unbiased",
            "Rw859_uncertainty_relative",
            "lake_ice_cover_class",
            "lake_ice_cover_flag",
            "lake_ice_cover_uncertainty",
            "lake_surface_water_temperature",
            "lswt_uncertainty",
            "lswt_quality_level",
            "water_surface_height_above_reference_datum",
            "lwl_uncertainty",
            "lwl_quality_flag",
            "lake_surface_water_extent",
            "lwe_uncertainty",
            "lwe_quality_flag",
            "crs"
           ],
           "type": "string"
          },
          "type": "array"
         }
        },
        "type": "object"
       },
       "spatial_res": 0.008333333,
       "time_period": "1D",
       "time_range": [
        "1992-09-26",
        "2022-12-31"
       ]
      },
      "text/plain": [
       "<xcube.core.store.descriptor.DatasetDescriptor at 0x7f848a4e3410>"
      ]
     },
     "execution_count": 4,
     "metadata": {},
     "output_type": "execute_result"
    }
   ],
   "source": [
    "cci_store.describe_data(data_id)"
   ]
  },
  {
   "cell_type": "markdown",
   "id": "c4fd984c-0028-418a-8d9f-37dae390c869",
   "metadata": {},
   "source": [
    "### Step 5: Check Open Parameters for the Dataset\n",
    "\n",
    "Before opening the dataset, we can inspect which parameters are supported by the **Zarr opener** (e.g., `time_range`, `bbox`, `variable_names`). This step helps ensure that we pass valid arguments when loading data and avoid errors.\n",
    "\n",
    "The command below lists all expected input parameters and their allowed values for the selected dataset."
   ]
  },
  {
   "cell_type": "code",
   "execution_count": 5,
   "id": "a0ee1118-47e2-47c4-9401-1bb069776fdc",
   "metadata": {},
   "outputs": [
    {
     "data": {
      "application/json": {
       "additionalProperties": false,
       "properties": {
        "normalize_data": {
         "default": true,
         "type": "boolean"
        },
        "time_range": {
         "items": [
          {
           "format": "date",
           "maxDate": "2022-12-31",
           "minDate": "1992-09-26",
           "type": "string"
          },
          {
           "format": "date",
           "maxDate": "2022-12-31",
           "minDate": "1992-09-26",
           "type": "string"
          }
         ],
         "type": "array"
        },
        "variable_names": {
         "items": {
          "enum": [
           "num_obs",
           "Rw412",
           "Rw412_uncertainty_relative",
           "Rw412_uncertainty_relative_unbiased",
           "Rw443",
           "Rw443_uncertainty_relative",
           "Rw443_uncertainty_relative_unbiased",
           "Rw490",
           "Rw490_uncertainty_relative",
           "Rw490_uncertainty_relative_unbiased",
           "Rw510",
           "Rw510_uncertainty_relative",
           "Rw510_uncertainty_relative_unbiased",
           "Rw560",
           "Rw560_uncertainty_relative",
           "Rw560_uncertainty_relative_unbiased",
           "Rw620",
           "Rw620_uncertainty_relative",
           "Rw620_uncertainty_relative_unbiased",
           "Rw665",
           "Rw665_uncertainty_relative",
           "Rw665_uncertainty_relative_unbiased",
           "Rw681",
           "Rw681_uncertainty_relative",
           "Rw681_uncertainty_relative_unbiased",
           "Rw709",
           "Rw709_uncertainty_relative",
           "Rw709_uncertainty_relative_unbiased",
           "Rw754",
           "Rw754_uncertainty_relative",
           "Rw754_uncertainty_relative_unbiased",
           "Rw779",
           "Rw779_uncertainty_relative",
           "Rw779_uncertainty_relative_unbiased",
           "Rw885",
           "Rw885_uncertainty_relative",
           "Rw885_uncertainty_relative_unbiased",
           "Rw900",
           "Rw900_uncertainty_relative",
           "Rw900_uncertainty_relative_unbiased",
           "chla_mean",
           "chla_uncertainty",
           "turbidity_mean",
           "turbidity_uncertainty",
           "lwlr_quality_flag",
           "Rw531",
           "Rw859_uncertainty_relative_unbiased",
           "Rw400_uncertainty_relative_unbiased",
           "Rw400_uncertainty_relative",
           "Rw531_uncertainty_relative",
           "Rw547",
           "Rw645",
           "Rw547_uncertainty_relative_unbiased",
           "Rw469_uncertainty_relative_unbiased",
           "Rw859",
           "Rw531_uncertainty_relative_unbiased",
           "Rw1020",
           "Rw645_uncertainty_relative",
           "Rw469",
           "Rw674",
           "Rw400",
           "Rw674_uncertainty_relative",
           "Rw674_uncertainty_relative_unbiased",
           "Rw1020_uncertainty_relative",
           "Rw547_uncertainty_relative",
           "Rw645_uncertainty_relative_unbiased",
           "Rw469_uncertainty_relative",
           "Rw1020_uncertainty_relative_unbiased",
           "Rw859_uncertainty_relative",
           "lake_ice_cover_class",
           "lake_ice_cover_flag",
           "lake_ice_cover_uncertainty",
           "lake_surface_water_temperature",
           "lswt_uncertainty",
           "lswt_quality_level",
           "water_surface_height_above_reference_datum",
           "lwl_uncertainty",
           "lwl_quality_flag",
           "lake_surface_water_extent",
           "lwe_uncertainty",
           "lwe_quality_flag",
           "crs"
          ],
          "type": "string"
         },
         "type": "array"
        }
       },
       "type": "object"
      },
      "text/plain": [
       "<xcube.util.jsonschema.JsonObjectSchema at 0x7f841a2f6390>"
      ]
     },
     "execution_count": 5,
     "metadata": {},
     "output_type": "execute_result"
    }
   ],
   "source": [
    "cci_store.get_open_data_params_schema(data_id=data_id, opener_id='dataset:zarr:cciodp')"
   ]
  },
  {
   "cell_type": "markdown",
   "id": "63e58869-eac7-4f36-823c-8eaab9df7380",
   "metadata": {},
   "source": [
    "### Step 6: Define Region, Time Range, and Variables of Interest\n",
    "\n",
    "Before opening the dataset, we define a few key parameters:\n",
    "\n",
    "- **Time range**: the date(s) we want to load\n",
    "- **Variables**: which data variable(s) to retrieve\n",
    "- *(Optional)* **Bounding box**: spatial region of interest — here we skip it to load the global dataset"
   ]
  },
  {
   "cell_type": "code",
   "execution_count": 6,
   "id": "8a2be689-288c-4fb5-abe9-99b4b84eef07",
   "metadata": {},
   "outputs": [],
   "source": [
    "variables = ['lake_surface_water_temperature']  # Variable to retrieve\n",
    "start_date = '2022-06-21'    # Start and end date (same for a single timestep)\n",
    "end_date = '2022-06-21'"
   ]
  },
  {
   "cell_type": "markdown",
   "id": "14f9e524-ff7f-47e7-af2c-0e8ac2e3d668",
   "metadata": {},
   "source": [
    "### Step 7: Open the Dataset\n",
    "\n",
    "Now we open the dataset using the selected parameters.  \n",
    "The ESA Climate Toolbox will download only the necessary data (e.g., variable and time range).\n",
    "You can always adjust the time range or variables to explore different slices of the dataset."
   ]
  },
  {
   "cell_type": "code",
   "execution_count": 7,
   "id": "145b10bc-68b4-4645-a4a8-761965cb6098",
   "metadata": {},
   "outputs": [],
   "source": [
    "lakes_ds = cci_store.open_data(\n",
    "    data_id=data_id,\n",
    "    variable_names=variables,\n",
    "    time_range=[start_date, end_date],\n",
    ")"
   ]
  },
  {
   "cell_type": "markdown",
   "id": "26aeedd6-d471-4056-ae4e-3057d7221cc3",
   "metadata": {},
   "source": [
    "### Step 8: Display Dataset Structure\n",
    "\n",
    "We print a summary of the opened dataset to inspect its structure, dimensions, variables, and metadata.  \n",
    "This helps verify that the data was loaded correctly and shows what is available for analysis and visualization.\n",
    "This step is useful to understand what the dataset contains before working with it further."
   ]
  },
  {
   "cell_type": "code",
   "execution_count": 8,
   "id": "192daaeb-241a-4fba-956f-3e7ac8cb04b5",
   "metadata": {},
   "outputs": [
    {
     "name": "stdout",
     "output_type": "stream",
     "text": [
      "\n",
      "Opened Dataset:\n",
      " <xarray.Dataset> Size: 7GB\n",
      "Dimensions:                         (time: 1, lat: 21600, lon: 43200, nv: 2,\n",
      "                                     bnds: 2)\n",
      "Coordinates:\n",
      "  * lat                             (lat) float64 173kB -90.0 -89.99 ... 90.0\n",
      "    lat_bounds                      (lat, nv) float32 173kB dask.array<chunksize=(21600, 2), meta=np.ndarray>\n",
      "  * lon                             (lon) float64 346kB -180.0 -180.0 ... 180.0\n",
      "    lon_bounds                      (lon, nv) float32 346kB dask.array<chunksize=(43200, 2), meta=np.ndarray>\n",
      "  * time                            (time) datetime64[ns] 8B 2022-06-21T12:00:00\n",
      "    time_bnds                       (time, bnds) datetime64[ns] 16B dask.array<chunksize=(1, 2), meta=np.ndarray>\n",
      "Dimensions without coordinates: nv, bnds\n",
      "Data variables:\n",
      "    crs                             float64 8B ...\n",
      "    lake_surface_water_temperature  (time, lat, lon) float64 7GB dask.array<chunksize=(1, 800, 800), meta=np.ndarray>\n",
      "Attributes:\n",
      "    Conventions:             CF-1.7\n",
      "    title:                   esacci.LAKES.day.L3S.LK_PRODUCTS.multi-sensor.mu...\n",
      "    date_created:            2025-04-15T13:51:27.918008\n",
      "    processing_level:        L3S\n",
      "    time_coverage_start:     2022-06-21T00:00:00\n",
      "    time_coverage_end:       2022-06-22T00:00:00\n",
      "    time_coverage_duration:  P1DT0H0M0S\n",
      "    history:                 [{'program': 'xcube_cci.chunkstore.CciChunkStore...\n"
     ]
    }
   ],
   "source": [
    "print(\"\\nOpened Dataset:\\n\", lakes_ds)"
   ]
  },
  {
   "cell_type": "markdown",
   "id": "7671aca3-81d9-472a-a93f-12d447155676",
   "metadata": {},
   "source": [
    "### Step 9: Visualize Results\n",
    "\n",
    "We now create a simple map plot of the selected variable.  \n",
    "This allows us to explore the spatial patterns of the data — in this case, the Aerosol Optical Depth (AOD) for the selected day.\n",
    "For more interactive and advanced visualizations, check out the [ESA Climate Toolbox](https://climate.esa.int/en/data/toolbox/) or the [Toolbox documentation](https://esa-climate-toolbox.readthedocs.io/en/latest/quick_start.html#jupyter-notebooks)."
   ]
  },
  {
   "cell_type": "code",
   "execution_count": 9,
   "id": "65ec997b-a0e8-40d7-8aa9-737a3ac2ec0d",
   "metadata": {
    "scrolled": true
   },
   "outputs": [
    {
     "data": {
      "image/png": "[encoded data removed]",
      "text/plain": [
       "<Figure size 1200x600 with 2 Axes>"
      ]
     },
     "metadata": {},
     "output_type": "display_data"
    }
   ],
   "source": [
    "import matplotlib.pyplot as plt\n",
    "import cartopy.crs as ccrs\n",
    "\n",
    "# Select first (and only) time step and remove singleton dimension\n",
    "lswt = lakes_ds[\"lake_surface_water_temperature\"].isel(time=0).squeeze()\n",
    "\n",
    "# For clarity and performance, you may want to subset the region (e.g., African lakes):\n",
    "lswt = lswt.sel(lat=slice(-15, 5), lon=slice(25, 40))\n",
    "\n",
    "# Create figure and axis\n",
    "fig = plt.figure(figsize=(12, 6))\n",
    "ax = plt.axes(projection=ccrs.PlateCarree())\n",
    "\n",
    "# Plot the data\n",
    "mesh = lswt.plot(\n",
    "    ax=ax,\n",
    "    transform=ccrs.PlateCarree(),\n",
    "    cmap=\"turbo\",  # or \"inferno\", \"viridis\", or \"plasma\"\n",
    "    robust=True,\n",
    "    cbar_kwargs={\"label\": \"Lake Surface Water Temperature (K)\"}\n",
    ")\n",
    "\n",
    "ax.coastlines()\n",
    "ax.set_title(\"Lake Surface Water Temperature – 21 June 2022 (Lakes CCI)\")\n",
    "plt.tight_layout()\n",
    "plt.show()"
   ]
  }
 ],
 "metadata": {
  "kernelspec": {
   "display_name": "Python 3 (ipykernel)",
   "language": "python",
   "name": "python3"
  },
  "language_info": {
   "codemirror_mode": {
    "name": "ipython",
    "version": 3
   },
   "file_extension": ".py",
   "mimetype": "text/x-python",
   "name": "python",
   "nbconvert_exporter": "python",
   "pygments_lexer": "ipython3",
   "version": "3.12.7"
  }
 },
 "nbformat": 4,
 "nbformat_minor": 5
}
