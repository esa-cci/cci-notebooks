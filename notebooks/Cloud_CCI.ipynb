{
 "cells": [
  {
   "cell_type": "markdown",
   "id": "ab36065c-42b2-4539-94b5-c1e048a0e8b4",
   "metadata": {},
   "source": [
    "# Getting Started with Cloud CCI Data"
   ]
  },
  {
   "cell_type": "markdown",
   "id": "7820f8bc-21f0-4933-8972-0b19f268532e",
   "metadata": {},
   "source": [
    "### 1. Import Necessary Packages\n",
    "\n",
    "In this section, we import the required Python packages to work with ESA Climate Change Initiative (CCI) data. Most notably, we use the [ESA Climate Toolbox](https://esa-climate-toolbox.readthedocs.io/en/latest/) which simplifies access, manipulation, and visualization of CCI datasets in Python.\n",
    "\n",
    "These packages allow us to:\n",
    "- Access satellite-based climate data records from ESA.\n",
    "- Handle geospatial and temporal dimensions efficiently.\n",
    "- Visualize data with intuitive plotting tools.\n",
    "\n",
    "📚 For a broader introduction to the toolbox and how to install it, visit:  \n",
    "🔗 [ESA CCI Climate Toolbox Quick Start](https://esa-climate-toolbox.readthedocs.io/en/latest/quick_start.html#jupyter-notebooks)  \n",
    "🔗 [ESA Climate Data Toolbox Website](https://climate.esa.int/en/data/toolbox/)"
   ]
  },
  {
   "cell_type": "code",
   "execution_count": 1,
   "id": "f05b0d63-ff02-41f8-9070-f0d9c44d9a3c",
   "metadata": {},
   "outputs": [],
   "source": [
    "from xcube.core.store import new_data_store\n",
    "from esa_climate_toolbox.core import get_op\n",
    "from esa_climate_toolbox.core import list_ecv_datasets\n",
    "from esa_climate_toolbox.core import get_store\n",
    "from esa_climate_toolbox.core import list_datasets\n",
    "from esa_climate_toolbox.ops import plot\n",
    "import xarray as xr\n",
    "import matplotlib.pyplot as plt\n",
    "import warnings\n",
    "%matplotlib inline"
   ]
  },
  {
   "cell_type": "markdown",
   "id": "a2f223ea-569a-4c84-8266-8572f861f3ed",
   "metadata": {},
   "source": [
    "### Step 2: Connect to the ESA CCI Data Store\n",
    "\n",
    "The ESA Climate Toolbox provides direct access to the **ESA Climate Data Store**, which hosts harmonized satellite-based climate data records produced under the **ESA Climate Change Initiative (CCI)**.\n",
    "\n",
    "In this step, we establish a connection to the data store so we can browse and open datasets. This connection allows us to access data **without having to download files manually** — a convenient way to explore and analyze large geospatial datasets in cloud-friendly formats such as **Zarr** or **Kerchunk**.\n",
    "\n",
    "The data store includes a wide range of essential climate variables (ECVs), such as aerosols, land surface temperature, sea level, and soil moisture.\n",
    "\n",
    "📘 Learn more about available datasets:  \n",
    "🔗 [ESA Climate Data Toolbox – Quick Start Guide](https://esa-climate-toolbox.readthedocs.io/en/latest/quick_start.html#data-access)"
   ]
  },
  {
   "cell_type": "code",
   "execution_count": 2,
   "id": "94164c99-2ef2-48d7-b098-6e136ee861af",
   "metadata": {},
   "outputs": [],
   "source": [
    "cci_store = new_data_store(\"esa-cci\")\n",
    "# List all available data sets of an ECV\n",
    "# list_ecv_datasets(\"Cloud\")"
   ]
  },
  {
   "cell_type": "markdown",
   "id": "d736f1da-a755-4df7-864a-5f14f988159f",
   "metadata": {},
   "source": [
    "### Step 3: Define the Dataset ID  \n",
    "To work with a specific ESA CCI dataset, we need to specify its **dataset ID**. This unique identifier tells the toolbox which variable and product we want to access.\n",
    "\n",
    "In this example, we are using a dataset from the **Cloud CCI project** that provides monthly Level 3 cloud property products, derived from multiple satellite sensors. These products include key cloud variables such as **cloud fraction (cfc)**, which is important for understanding cloud coverage, its variability, and its impact on Earth’s radiation budget and climate.\n",
    "\n",
    "We will use the following dataset ID:"
   ]
  },
  {
   "cell_type": "code",
   "execution_count": 3,
   "id": "7672a7f4-be9a-4b8f-a888-93d31647d5b4",
   "metadata": {},
   "outputs": [],
   "source": [
    "data_id = 'esacci.CLOUD.mon.L3C.CLD_PRODUCTS.multi-sensor.multi-platform.AVHRR-PM.3-0.r1'"
   ]
  },
  {
   "cell_type": "markdown",
   "id": "817922fd-a86b-4cee-ab9b-5a042692be42",
   "metadata": {},
   "source": [
    "This product provides monthly cloud properties on a regular latitude–longitude grid at a resolution of 0.5°.\n",
    "📘 A full list of dataset IDs can be retrieved from the store or found in the [ESA CCI Climate Toolbox documentation](https://esa-climate-toolbox.readthedocs.io/en/latest/quick_start.html#accessing-data)."
   ]
  },
  {
   "cell_type": "markdown",
   "id": "b1e9d068-a81b-4d00-91cb-cc020bd5333a",
   "metadata": {},
   "source": [
    "### Step 4: Describe Dataset (Check Available Variables and Metadata)\n",
    "\n",
    "Before loading the full dataset, it’s helpful to **inspect the metadata** to understand its structure. This includes:\n",
    "\n",
    "- Available variables (e.g., AOD, uncertainty estimates)\n",
    "- Temporal and spatial coverage\n",
    "- Data format and structure\n",
    "\n",
    "This step ensures we know what the dataset contains and how to work with it. It also helps confirm that the variable we want to plot or analyze is actually included.\n",
    "\n",
    "🛠️ Tip: You can use the description to verify variable names, dimensions (e.g., `lat`, `lon`, `time`), and time coverage.\n",
    "\n",
    "📘 More on dataset structure:  \n",
    "🔗 [ESA Climate Toolbox – Data Access](https://esa-climate-toolbox.readthedocs.io/en/latest/quick_start.html#accessing-data)"
   ]
  },
  {
   "cell_type": "code",
   "execution_count": 4,
   "id": "1ccb7546-70f0-479d-bb0a-d902190500af",
   "metadata": {},
   "outputs": [
    {
     "data": {
      "application/json": {
       "attrs": {
        "abstract": "The Cloud_cci AVHRR-PMv3 dataset (covering 1982-2016) was generated within the Cloud_cci project, which was funded by the European Space Agency (ESA) as part of the ESA Climate Change Initiative (CCI) programme (Contract No.: 4000109870/13/I-NB). This dataset is one of the 6 datasets generated in Cloud_cci; all of them being based on passive-imager satellite measurements.\n\nThis dataset is based on measurements from AVHRR (onboard the NOAA-7, NOAA-9, NOAA-11, NOAA-14, NOAA-16, NOAA-18, NOAA-19 satellites) and contains a variety of cloud properties which were derived employing the Community Cloud retrieval for Climate (CC4CL; Sus et al., 2018; McGarragh et al., 2018) retrieval framework. The core cloud properties contained in the Cloud_cci AVHRR-PMv3 dataset are cloud mask/fraction, cloud phase, cloud top pressure/height/temperature, cloud optical thickness, cloud effective radius and cloud liquid/ice water path. Spectral cloud albedo is also included as experimental product. The cloud properties are available at different processing levels: This particular dataset contains Level-3C (monthly averages and histograms) data, while Level-3U (globally gridded, unaveraged data fields) is also available as a separate dataset. Pixel-based uncertainty estimates come along with all properties and have been propagated into the Level-3C data. \n\nThe data in this dataset are a subset of the AVHRR-PM L3C / L3U cloud products version 3.0 dataset produced by the ESA Cloud_cci project available from https://dx.doi.org/10.5676/DWD/ESA_Cloud_cci/AVHRR-PM/V003.  To cite the full dataset, please use the following citation: Stengel, Martin; Sus, Oliver; Stapelberg, Stefan; Finkensieper, Stephan; Würzler, Benjamin; Philipp, Daniel; Hollmann, Rainer; Poulsen, Caroline (2019): ESA Cloud Climate Change Initiative (ESA Cloud_cci) data: Cloud_cci AVHRR-PM L3C/L3U CLD_PRODUCTS v3.0, Deutscher Wetterdienst (DWD), DOI:10.5676/DWD/ESA_Cloud_cci/AVHRR-PM/V003.",
        "catalog_url": "https://catalogue.ceda.ac.uk/uuid/004fd44ff5124174ad3c03dd2c67d548",
        "cci_project": "CLOUD",
        "comment": "These data were produced at ESACCI as part of the ESA Cloud CCI project.",
        "data_type": "CLD_PRODUCTS",
        "ecv": "CLOUD",
        "history": "Dataset produced by DWDs CC4CL retrieval system installed at ECMWF in second phase of ESA Cloud CCI.",
        "institute": "Deutscher Wetterdienst",
        "platform_id": "multi-platform",
        "processing_level": "L3C",
        "product_string": "AVHRR-PM",
        "product_version": "3-0",
        "project": "Climate Change Initiative - European Space Agency",
        "publication_date": "2020-03-26T09:45:34",
        "references": "http://www.esa-cloud-cci.info",
        "sensor_id": "multi-sensor",
        "source": "AVHRR_NOAA-11_GAC",
        "title": "ESA Cloud Climate Change Initiative (Cloud_cci): AVHRR-PM monthly gridded cloud properties, version 3.0",
        "uuid": "004fd44ff5124174ad3c03dd2c67d548"
       },
       "bbox": [
        -180,
        -90,
        180,
        90
       ],
       "coords": {
        "hist1d_cer_bin_border": {
         "attrs": {
          "chunk_sizes": [
           12
          ],
          "data_type": "float32",
          "dimensions": [
           "hist1d_cer_bin_border"
          ],
          "file_chunk_sizes": [
           12
          ],
          "file_dimensions": [
           "hist1d_cer_bin_border"
          ],
          "fill_value": null,
          "long_name": "cer histogram bin border values",
          "orig_data_type": "float32",
          "shape": [
           12
          ],
          "size": 12,
          "units": "um"
         },
         "dims": [
          "hist1d_cer_bin_border"
         ],
         "dtype": "float32",
         "name": "hist1d_cer_bin_border"
        },
        "hist1d_cer_bin_centre": {
         "attrs": {
          "chunk_sizes": [
           11
          ],
          "data_type": "float32",
          "dimensions": [
           "hist1d_cer_bin_centre"
          ],
          "file_chunk_sizes": [
           11
          ],
          "file_dimensions": [
           "hist1d_cer_bin_centre"
          ],
          "fill_value": null,
          "long_name": "cer histogram bin centres",
          "orig_data_type": "float32",
          "shape": [
           11
          ],
          "size": 11,
          "units": "um"
         },
         "dims": [
          "hist1d_cer_bin_centre"
         ],
         "dtype": "float32",
         "name": "hist1d_cer_bin_centre"
        },
        "hist1d_cla_vis006_bin_border": {
         "attrs": {
          "chunk_sizes": [
           14
          ],
          "data_type": "float32",
          "dimensions": [
           "hist1d_cla_vis006_bin_border"
          ],
          "file_chunk_sizes": [
           14
          ],
          "file_dimensions": [
           "hist1d_cla_vis006_bin_border"
          ],
          "fill_value": null,
          "long_name": "cloud albedo1 histogram bin border values",
          "orig_data_type": "float32",
          "shape": [
           14
          ],
          "size": 14,
          "units": "1"
         },
         "dims": [
          "hist1d_cla_vis006_bin_border"
         ],
         "dtype": "float32",
         "name": "hist1d_cla_vis006_bin_border"
        },
        "hist1d_cla_vis006_bin_centre": {
         "attrs": {
          "chunk_sizes": [
           13
          ],
          "data_type": "float32",
          "dimensions": [
           "hist1d_cla_vis006_bin_centre"
          ],
          "file_chunk_sizes": [
           13
          ],
          "file_dimensions": [
           "hist1d_cla_vis006_bin_centre"
          ],
          "fill_value": null,
          "long_name": "cloud abedo1 histogram bin centres",
          "orig_data_type": "float32",
          "shape": [
           13
          ],
          "size": 13,
          "units": "1"
         },
         "dims": [
          "hist1d_cla_vis006_bin_centre"
         ],
         "dtype": "float32",
         "name": "hist1d_cla_vis006_bin_centre"
        },
        "hist1d_cla_vis008_bin_border": {
         "attrs": {
          "chunk_sizes": [
           14
          ],
          "data_type": "float32",
          "dimensions": [
           "hist1d_cla_vis008_bin_border"
          ],
          "file_chunk_sizes": [
           14
          ],
          "file_dimensions": [
           "hist1d_cla_vis008_bin_border"
          ],
          "fill_value": null,
          "long_name": "cloud albedo2 histogram bin border values",
          "orig_data_type": "float32",
          "shape": [
           14
          ],
          "size": 14,
          "units": "1"
         },
         "dims": [
          "hist1d_cla_vis008_bin_border"
         ],
         "dtype": "float32",
         "name": "hist1d_cla_vis008_bin_border"
        },
        "hist1d_cla_vis008_bin_centre": {
         "attrs": {
          "chunk_sizes": [
           13
          ],
          "data_type": "float32",
          "dimensions": [
           "hist1d_cla_vis008_bin_centre"
          ],
          "file_chunk_sizes": [
           13
          ],
          "file_dimensions": [
           "hist1d_cla_vis008_bin_centre"
          ],
          "fill_value": null,
          "long_name": "cloud albedo2 histogram bin centres",
          "orig_data_type": "float32",
          "shape": [
           13
          ],
          "size": 13,
          "units": "1"
         },
         "dims": [
          "hist1d_cla_vis008_bin_centre"
         ],
         "dtype": "float32",
         "name": "hist1d_cla_vis008_bin_centre"
        },
        "hist1d_cot_bin_border": {
         "attrs": {
          "chunk_sizes": [
           15
          ],
          "data_type": "float32",
          "dimensions": [
           "hist1d_cot_bin_border"
          ],
          "file_chunk_sizes": [
           15
          ],
          "file_dimensions": [
           "hist1d_cot_bin_border"
          ],
          "fill_value": null,
          "long_name": "cot histogram bin border values",
          "orig_data_type": "float32",
          "shape": [
           15
          ],
          "size": 15,
          "units": "1"
         },
         "dims": [
          "hist1d_cot_bin_border"
         ],
         "dtype": "float32",
         "name": "hist1d_cot_bin_border"
        },
        "hist1d_cot_bin_centre": {
         "attrs": {
          "chunk_sizes": [
           14
          ],
          "data_type": "float32",
          "dimensions": [
           "hist1d_cot_bin_centre"
          ],
          "file_chunk_sizes": [
           14
          ],
          "file_dimensions": [
           "hist1d_cot_bin_centre"
          ],
          "fill_value": null,
          "long_name": "cot histogram bin centres",
          "orig_data_type": "float32",
          "shape": [
           14
          ],
          "size": 14,
          "units": "1"
         },
         "dims": [
          "hist1d_cot_bin_centre"
         ],
         "dtype": "float32",
         "name": "hist1d_cot_bin_centre"
        },
        "hist1d_ctp_bin_border": {
         "attrs": {
          "chunk_sizes": [
           16
          ],
          "data_type": "float32",
          "dimensions": [
           "hist1d_ctp_bin_border"
          ],
          "file_chunk_sizes": [
           16
          ],
          "file_dimensions": [
           "hist1d_ctp_bin_border"
          ],
          "fill_value": null,
          "long_name": "ctp histogram bin border values",
          "orig_data_type": "float32",
          "shape": [
           16
          ],
          "size": 16,
          "units": "hPa"
         },
         "dims": [
          "hist1d_ctp_bin_border"
         ],
         "dtype": "float32",
         "name": "hist1d_ctp_bin_border"
        },
        "hist1d_ctp_bin_centre": {
         "attrs": {
          "chunk_sizes": [
           15
          ],
          "data_type": "float32",
          "dimensions": [
           "hist1d_ctp_bin_centre"
          ],
          "file_chunk_sizes": [
           15
          ],
          "file_dimensions": [
           "hist1d_ctp_bin_centre"
          ],
          "fill_value": null,
          "long_name": "ctp histogram bin centres",
          "orig_data_type": "float32",
          "shape": [
           15
          ],
          "size": 15,
          "units": "hPa"
         },
         "dims": [
          "hist1d_ctp_bin_centre"
         ],
         "dtype": "float32",
         "name": "hist1d_ctp_bin_centre"
        },
        "hist1d_ctt_bin_border": {
         "attrs": {
          "chunk_sizes": [
           17
          ],
          "data_type": "float32",
          "dimensions": [
           "hist1d_ctt_bin_border"
          ],
          "file_chunk_sizes": [
           17
          ],
          "file_dimensions": [
           "hist1d_ctt_bin_border"
          ],
          "fill_value": null,
          "long_name": "ctt histogram bin border values",
          "orig_data_type": "float32",
          "shape": [
           17
          ],
          "size": 17,
          "units": "K"
         },
         "dims": [
          "hist1d_ctt_bin_border"
         ],
         "dtype": "float32",
         "name": "hist1d_ctt_bin_border"
        },
        "hist1d_ctt_bin_centre": {
         "attrs": {
          "chunk_sizes": [
           16
          ],
          "data_type": "float32",
          "dimensions": [
           "hist1d_ctt_bin_centre"
          ],
          "file_chunk_sizes": [
           16
          ],
          "file_dimensions": [
           "hist1d_ctt_bin_centre"
          ],
          "fill_value": null,
          "long_name": "ctt histogram bin centres",
          "orig_data_type": "float32",
          "shape": [
           16
          ],
          "size": 16,
          "units": "K"
         },
         "dims": [
          "hist1d_ctt_bin_centre"
         ],
         "dtype": "float32",
         "name": "hist1d_ctt_bin_centre"
        },
        "hist1d_cwp_bin_border": {
         "attrs": {
          "chunk_sizes": [
           15
          ],
          "data_type": "float32",
          "dimensions": [
           "hist1d_cwp_bin_border"
          ],
          "file_chunk_sizes": [
           15
          ],
          "file_dimensions": [
           "hist1d_cwp_bin_border"
          ],
          "fill_value": null,
          "long_name": "cwp histogram bin border values",
          "orig_data_type": "float32",
          "shape": [
           15
          ],
          "size": 15,
          "units": "g/m2"
         },
         "dims": [
          "hist1d_cwp_bin_border"
         ],
         "dtype": "float32",
         "name": "hist1d_cwp_bin_border"
        },
        "hist1d_cwp_bin_centre": {
         "attrs": {
          "chunk_sizes": [
           14
          ],
          "data_type": "float32",
          "dimensions": [
           "hist1d_cwp_bin_centre"
          ],
          "file_chunk_sizes": [
           14
          ],
          "file_dimensions": [
           "hist1d_cwp_bin_centre"
          ],
          "fill_value": null,
          "long_name": "cwp histogram bin centres",
          "orig_data_type": "float32",
          "shape": [
           14
          ],
          "size": 14,
          "units": "g/m2"
         },
         "dims": [
          "hist1d_cwp_bin_centre"
         ],
         "dtype": "float32",
         "name": "hist1d_cwp_bin_centre"
        },
        "hist2d_cot_bin_border": {
         "attrs": {
          "chunk_sizes": [
           14
          ],
          "data_type": "float32",
          "dimensions": [
           "hist2d_cot_bin_border"
          ],
          "file_chunk_sizes": [
           14
          ],
          "file_dimensions": [
           "hist2d_cot_bin_border"
          ],
          "fill_value": null,
          "long_name": "cot histogram bin border values",
          "orig_data_type": "float32",
          "shape": [
           14
          ],
          "size": 14,
          "units": "1"
         },
         "dims": [
          "hist2d_cot_bin_border"
         ],
         "dtype": "float32",
         "name": "hist2d_cot_bin_border"
        },
        "hist2d_cot_bin_centre": {
         "attrs": {
          "chunk_sizes": [
           13
          ],
          "data_type": "float32",
          "dimensions": [
           "hist2d_cot_bin_centre"
          ],
          "file_chunk_sizes": [
           13
          ],
          "file_dimensions": [
           "hist2d_cot_bin_centre"
          ],
          "fill_value": null,
          "long_name": "cot histogram bin centres",
          "orig_data_type": "float32",
          "shape": [
           13
          ],
          "size": 13,
          "units": "1"
         },
         "dims": [
          "hist2d_cot_bin_centre"
         ],
         "dtype": "float32",
         "name": "hist2d_cot_bin_centre"
        },
        "hist2d_ctp_bin_border": {
         "attrs": {
          "chunk_sizes": [
           16
          ],
          "data_type": "float32",
          "dimensions": [
           "hist2d_ctp_bin_border"
          ],
          "file_chunk_sizes": [
           16
          ],
          "file_dimensions": [
           "hist2d_ctp_bin_border"
          ],
          "fill_value": null,
          "long_name": "ctp histogram bin border values",
          "orig_data_type": "float32",
          "shape": [
           16
          ],
          "size": 16,
          "units": "hPa"
         },
         "dims": [
          "hist2d_ctp_bin_border"
         ],
         "dtype": "float32",
         "name": "hist2d_ctp_bin_border"
        },
        "hist2d_ctp_bin_centre": {
         "attrs": {
          "chunk_sizes": [
           15
          ],
          "data_type": "float32",
          "dimensions": [
           "hist2d_ctp_bin_centre"
          ],
          "file_chunk_sizes": [
           15
          ],
          "file_dimensions": [
           "hist2d_ctp_bin_centre"
          ],
          "fill_value": null,
          "long_name": "ctp histogram bin centres",
          "orig_data_type": "float32",
          "shape": [
           15
          ],
          "size": 15,
          "units": "hPa"
         },
         "dims": [
          "hist2d_ctp_bin_centre"
         ],
         "dtype": "float32",
         "name": "hist2d_ctp_bin_centre"
        },
        "hist_phase": {
         "attrs": {
          "_Unsigned": "false",
          "chunk_sizes": [
           2
          ],
          "data_type": "uint16",
          "dimensions": [
           "hist_phase"
          ],
          "file_chunk_sizes": [
           2
          ],
          "file_dimensions": [
           "hist_phase"
          ],
          "fill_value": 65535,
          "long_name": "phase histogram bins (0:liquid, 1:ice)",
          "orig_data_type": "uint8",
          "shape": [
           2
          ],
          "size": 2,
          "units": "1"
         },
         "dims": [
          "hist_phase"
         ],
         "dtype": "uint16",
         "name": "hist_phase"
        },
        "lat": {
         "attrs": {
          "chunk_sizes": 360,
          "data_type": "float32",
          "dimensions": [
           "lat"
          ],
          "file_chunk_sizes": 360,
          "file_dimensions": [
           "lat"
          ],
          "fill_value": null,
          "long_name": "latitude",
          "orig_data_type": "float32",
          "shape": [
           360
          ],
          "size": 360,
          "standard_name": "latitude",
          "units": "degrees_north",
          "valid_max": 90,
          "valid_min": -90
         },
         "dims": [
          "lat"
         ],
         "dtype": "float32",
         "name": "lat"
        },
        "lon": {
         "attrs": {
          "chunk_sizes": 720,
          "data_type": "float32",
          "dimensions": [
           "lon"
          ],
          "file_chunk_sizes": 720,
          "file_dimensions": [
           "lon"
          ],
          "fill_value": null,
          "long_name": "longitude",
          "orig_data_type": "float32",
          "shape": [
           720
          ],
          "size": 720,
          "standard_name": "longitude",
          "units": "degrees_east",
          "valid_max": 180,
          "valid_min": -180
         },
         "dims": [
          "lon"
         ],
         "dtype": "float32",
         "name": "lon"
        },
        "time": {
         "attrs": {
          "calendar": "standard",
          "chunk_sizes": [
           415
          ],
          "data_type": "float32",
          "dimensions": [
           "time"
          ],
          "file_chunk_sizes": [
           1
          ],
          "file_dimensions": [
           "time"
          ],
          "fill_value": null,
          "long_name": "Time in days",
          "orig_data_type": "float32",
          "shape": [
           415
          ],
          "size": 415,
          "standard_name": "time",
          "units": "days since 1970-01-01 00:00:00"
         },
         "dims": [
          "time"
         ],
         "dtype": "float32",
         "name": "time"
        }
       },
       "crs": "WGS84",
       "data_id": "esacci.CLOUD.mon.L3C.CLD_PRODUCTS.multi-sensor.multi-platform.AVHRR-PM.3-0.r1",
       "data_type": "dataset",
       "data_vars": {
        "boa_lwdn": {
         "attrs": {
          "add_offset": 0,
          "chunk_sizes": [
           1,
           360,
           720
          ],
          "data_type": "float32",
          "dimensions": [
           "time",
           "lat",
           "lon"
          ],
          "file_chunk_sizes": [
           1,
           360,
           720
          ],
          "file_dimensions": [
           "time",
           "lat",
           "lon"
          ],
          "fill_value": -999,
          "long_name": "bottom of atmosphere downwelling thermal radiation",
          "orig_data_type": "float32",
          "scale_factor": 1,
          "shape": [
           415,
           360,
           720
          ],
          "size": 107568000,
          "standard_name": "surface_downwelling_longwave_flux_in_air",
          "units": "W m-2",
          "valid_max": 1500,
          "valid_min": 0
         },
         "dims": [
          "time",
          "lat",
          "lon"
         ],
         "dtype": "float32",
         "name": "boa_lwdn"
        },
        "boa_lwdn_clr": {
         "attrs": {
          "add_offset": 0,
          "chunk_sizes": [
           1,
           360,
           720
          ],
          "data_type": "float32",
          "dimensions": [
           "time",
           "lat",
           "lon"
          ],
          "file_chunk_sizes": [
           1,
           360,
           720
          ],
          "file_dimensions": [
           "time",
           "lat",
           "lon"
          ],
          "fill_value": -999,
          "long_name": "bottom of atmosphere downwelling thermal radiation",
          "orig_data_type": "float32",
          "scale_factor": 1,
          "shape": [
           415,
           360,
           720
          ],
          "size": 107568000,
          "standard_name": "surface_downwelling_longwave_flux_assuming_in_air_clear_sky",
          "units": "W m-2",
          "valid_max": 1500,
          "valid_min": 0
         },
         "dims": [
          "time",
          "lat",
          "lon"
         ],
         "dtype": "float32",
         "name": "boa_lwdn_clr"
        },
        "boa_lwup": {
         "attrs": {
          "add_offset": 0,
          "chunk_sizes": [
           1,
           360,
           720
          ],
          "data_type": "float32",
          "dimensions": [
           "time",
           "lat",
           "lon"
          ],
          "file_chunk_sizes": [
           1,
           360,
           720
          ],
          "file_dimensions": [
           "time",
           "lat",
           "lon"
          ],
          "fill_value": -999,
          "long_name": "bottom of atmosphere upwelling thermal radiation",
          "orig_data_type": "float32",
          "scale_factor": 1,
          "shape": [
           415,
           360,
           720
          ],
          "size": 107568000,
          "standard_name": "surface_upwelling_longwave_flux_in_air",
          "units": "W m-2",
          "valid_max": 1500,
          "valid_min": 0
         },
         "dims": [
          "time",
          "lat",
          "lon"
         ],
         "dtype": "float32",
         "name": "boa_lwup"
        },
        "boa_lwup_clr": {
         "attrs": {
          "add_offset": 0,
          "chunk_sizes": [
           1,
           360,
           720
          ],
          "data_type": "float32",
          "dimensions": [
           "time",
           "lat",
           "lon"
          ],
          "file_chunk_sizes": [
           1,
           360,
           720
          ],
          "file_dimensions": [
           "time",
           "lat",
           "lon"
          ],
          "fill_value": -999,
          "long_name": "bottom of atmosphere upwelling thermal radiation",
          "orig_data_type": "float32",
          "scale_factor": 1,
          "shape": [
           415,
           360,
           720
          ],
          "size": 107568000,
          "standard_name": "surface_upwelling_longwave_flux_assuming_in_air_clear_sky",
          "units": "W m-2",
          "valid_max": 1500,
          "valid_min": 0
         },
         "dims": [
          "time",
          "lat",
          "lon"
         ],
         "dtype": "float32",
         "name": "boa_lwup_clr"
        },
        "boa_par_dif": {
         "attrs": {
          "add_offset": 0,
          "chunk_sizes": [
           1,
           360,
           720
          ],
          "data_type": "float32",
          "dimensions": [
           "time",
           "lat",
           "lon"
          ],
          "file_chunk_sizes": [
           1,
           360,
           720
          ],
          "file_dimensions": [
           "time",
           "lat",
           "lon"
          ],
          "fill_value": -999,
          "long_name": "surface diffuse par",
          "orig_data_type": "float32",
          "scale_factor": 1,
          "shape": [
           415,
           360,
           720
          ],
          "size": 107568000,
          "standard_name": "surface_diffuse_downwelling_photosynthetic_radiative_flux_in_air",
          "units": "W m-2",
          "valid_max": 1500,
          "valid_min": 0
         },
         "dims": [
          "time",
          "lat",
          "lon"
         ],
         "dtype": "float32",
         "name": "boa_par_dif"
        },
        "boa_par_tot": {
         "attrs": {
          "add_offset": 0,
          "chunk_sizes": [
           1,
           360,
           720
          ],
          "data_type": "float32",
          "dimensions": [
           "time",
           "lat",
           "lon"
          ],
          "file_chunk_sizes": [
           1,
           360,
           720
          ],
          "file_dimensions": [
           "time",
           "lat",
           "lon"
          ],
          "fill_value": -999,
          "long_name": "surface total par",
          "orig_data_type": "float32",
          "scale_factor": 1,
          "shape": [
           415,
           360,
           720
          ],
          "size": 107568000,
          "standard_name": "surface_downwelling_photosynthetic_radiative_flux_in_air",
          "units": "W m-2",
          "valid_max": 1500,
          "valid_min": 0
         },
         "dims": [
          "time",
          "lat",
          "lon"
         ],
         "dtype": "float32",
         "name": "boa_par_tot"
        },
        "boa_swdn": {
         "attrs": {
          "add_offset": 0,
          "chunk_sizes": [
           1,
           360,
           720
          ],
          "data_type": "float32",
          "dimensions": [
           "time",
           "lat",
           "lon"
          ],
          "file_chunk_sizes": [
           1,
           360,
           720
          ],
          "file_dimensions": [
           "time",
           "lat",
           "lon"
          ],
          "fill_value": -999,
          "long_name": "bottom of atmosphere downwelling solar radiation",
          "orig_data_type": "float32",
          "scale_factor": 1,
          "shape": [
           415,
           360,
           720
          ],
          "size": 107568000,
          "standard_name": "surface_downwelling_shortwave_flux_in_air",
          "units": "W m-2",
          "valid_max": 1500,
          "valid_min": 0
         },
         "dims": [
          "time",
          "lat",
          "lon"
         ],
         "dtype": "float32",
         "name": "boa_swdn"
        },
        "boa_swdn_clr": {
         "attrs": {
          "add_offset": 0,
          "chunk_sizes": [
           1,
           360,
           720
          ],
          "data_type": "float32",
          "dimensions": [
           "time",
           "lat",
           "lon"
          ],
          "file_chunk_sizes": [
           1,
           360,
           720
          ],
          "file_dimensions": [
           "time",
           "lat",
           "lon"
          ],
          "fill_value": -999,
          "long_name": "bottom of atmosphere downwelling solar radiation",
          "orig_data_type": "float32",
          "scale_factor": 1,
          "shape": [
           415,
           360,
           720
          ],
          "size": 107568000,
          "standard_name": "surface_downwelling_shortwave_flux_in_air_assuming_clear_sky",
          "units": "W m-2",
          "valid_max": 1500,
          "valid_min": 0
         },
         "dims": [
          "time",
          "lat",
          "lon"
         ],
         "dtype": "float32",
         "name": "boa_swdn_clr"
        },
        "boa_swup": {
         "attrs": {
          "add_offset": 0,
          "chunk_sizes": [
           1,
           360,
           720
          ],
          "data_type": "float32",
          "dimensions": [
           "time",
           "lat",
           "lon"
          ],
          "file_chunk_sizes": [
           1,
           360,
           720
          ],
          "file_dimensions": [
           "time",
           "lat",
           "lon"
          ],
          "fill_value": -999,
          "long_name": "bottom of atmosphere upwelling solar radiation",
          "orig_data_type": "float32",
          "scale_factor": 1,
          "shape": [
           415,
           360,
           720
          ],
          "size": 107568000,
          "standard_name": "surface_upwelling_shortwave_flux_in_air",
          "units": "W m-2",
          "valid_max": 1500,
          "valid_min": 0
         },
         "dims": [
          "time",
          "lat",
          "lon"
         ],
         "dtype": "float32",
         "name": "boa_swup"
        },
        "boa_swup_clr": {
         "attrs": {
          "add_offset": 0,
          "chunk_sizes": [
           1,
           360,
           720
          ],
          "data_type": "float32",
          "dimensions": [
           "time",
           "lat",
           "lon"
          ],
          "file_chunk_sizes": [
           1,
           360,
           720
          ],
          "file_dimensions": [
           "time",
           "lat",
           "lon"
          ],
          "fill_value": -999,
          "long_name": "bottom of atmosphere upwelling solar radiation",
          "orig_data_type": "float32",
          "scale_factor": 1,
          "shape": [
           415,
           360,
           720
          ],
          "size": 107568000,
          "standard_name": "surface_upwelling_shortwave_flux_in_air_assuming_clear_sky",
          "units": "W m-2",
          "valid_max": 1500,
          "valid_min": 0
         },
         "dims": [
          "time",
          "lat",
          "lon"
         ],
         "dtype": "float32",
         "name": "boa_swup_clr"
        },
        "cee": {
         "attrs": {
          "add_offset": 0,
          "chunk_sizes": [
           1,
           360,
           720
          ],
          "data_type": "float32",
          "dimensions": [
           "time",
           "lat",
           "lon"
          ],
          "file_chunk_sizes": [
           1,
           360,
           720
          ],
          "file_dimensions": [
           "time",
           "lat",
           "lon"
          ],
          "fill_value": -999,
          "long_name": "cloud effective emissivity at 10.8 um",
          "orig_data_type": "float32",
          "scale_factor": 1,
          "shape": [
           415,
           360,
           720
          ],
          "size": 107568000,
          "units": "1",
          "valid_max": 1,
          "valid_min": 0
         },
         "dims": [
          "time",
          "lat",
          "lon"
         ],
         "dtype": "float32",
         "name": "cee"
        },
        "cee_corr_unc": {
         "attrs": {
          "add_offset": 0,
          "chunk_sizes": [
           1,
           360,
           720
          ],
          "comment": "correlated uncertainty assuming correlation of 0.1",
          "data_type": "float32",
          "dimensions": [
           "time",
           "lat",
           "lon"
          ],
          "file_chunk_sizes": [
           1,
           360,
           720
          ],
          "file_dimensions": [
           "time",
           "lat",
           "lon"
          ],
          "fill_value": -999,
          "long_name": "cloud effective emissivity at 10.8 um correlated uncertainty",
          "orig_data_type": "float32",
          "scale_factor": 1,
          "shape": [
           415,
           360,
           720
          ],
          "size": 107568000,
          "units": "1",
          "valid_max": 1,
          "valid_min": 0
         },
         "dims": [
          "time",
          "lat",
          "lon"
         ],
         "dtype": "float32",
         "name": "cee_corr_unc"
        },
        "cee_prop_unc": {
         "attrs": {
          "add_offset": 0,
          "chunk_sizes": [
           1,
           360,
           720
          ],
          "comment": "total uncertainty from individual pixel uncertainty added in quadrature",
          "data_type": "float32",
          "dimensions": [
           "time",
           "lat",
           "lon"
          ],
          "file_chunk_sizes": [
           1,
           360,
           720
          ],
          "file_dimensions": [
           "time",
           "lat",
           "lon"
          ],
          "fill_value": -999,
          "long_name": "cloud effective emissivity at 10.8 um propagated uncertainty",
          "orig_data_type": "float32",
          "scale_factor": 1,
          "shape": [
           415,
           360,
           720
          ],
          "size": 107568000,
          "units": "1",
          "valid_max": 1,
          "valid_min": 0
         },
         "dims": [
          "time",
          "lat",
          "lon"
         ],
         "dtype": "float32",
         "name": "cee_prop_unc"
        },
        "cee_std": {
         "attrs": {
          "add_offset": 0,
          "chunk_sizes": [
           1,
           360,
           720
          ],
          "comment": "standard deviation of retrieved values",
          "data_type": "float32",
          "dimensions": [
           "time",
           "lat",
           "lon"
          ],
          "file_chunk_sizes": [
           1,
           360,
           720
          ],
          "file_dimensions": [
           "time",
           "lat",
           "lon"
          ],
          "fill_value": -999,
          "long_name": "cloud effective emissivity at 10.8 um standard deviation",
          "orig_data_type": "float32",
          "scale_factor": 1,
          "shape": [
           415,
           360,
           720
          ],
          "size": 107568000,
          "units": "1",
          "valid_max": 1,
          "valid_min": 0
         },
         "dims": [
          "time",
          "lat",
          "lon"
         ],
         "dtype": "float32",
         "name": "cee_std"
        },
        "cee_unc": {
         "attrs": {
          "add_offset": 0,
          "chunk_sizes": [
           1,
           360,
           720
          ],
          "comment": "mean of the pixel uncertainties",
          "data_type": "float32",
          "dimensions": [
           "time",
           "lat",
           "lon"
          ],
          "file_chunk_sizes": [
           1,
           360,
           720
          ],
          "file_dimensions": [
           "time",
           "lat",
           "lon"
          ],
          "fill_value": -999,
          "long_name": "cloud effective emissivity at 10.8 um uncertainty",
          "orig_data_type": "float32",
          "scale_factor": 1,
          "shape": [
           415,
           360,
           720
          ],
          "size": 107568000,
          "units": "1",
          "valid_max": 1,
          "valid_min": 0
         },
         "dims": [
          "time",
          "lat",
          "lon"
         ],
         "dtype": "float32",
         "name": "cee_unc"
        },
        "cer": {
         "attrs": {
          "add_offset": 0,
          "chunk_sizes": [
           1,
           360,
           720
          ],
          "data_type": "float32",
          "dimensions": [
           "time",
           "lat",
           "lon"
          ],
          "file_chunk_sizes": [
           1,
           360,
           720
          ],
          "file_dimensions": [
           "time",
           "lat",
           "lon"
          ],
          "fill_value": -999,
          "long_name": "cloud effective radius",
          "orig_data_type": "float32",
          "scale_factor": 1,
          "shape": [
           415,
           360,
           720
          ],
          "size": 107568000,
          "standard_name": "effective_radius_of_cloud_condensed_water_particles_at_cloud_top",
          "units": "um",
          "valid_max": 200,
          "valid_min": 0
         },
         "dims": [
          "time",
          "lat",
          "lon"
         ],
         "dtype": "float32",
         "name": "cer"
        },
        "cer_corr_unc": {
         "attrs": {
          "add_offset": 0,
          "chunk_sizes": [
           1,
           360,
           720
          ],
          "comment": "correlated uncertainty assuming correlation of 0.1",
          "data_type": "float32",
          "dimensions": [
           "time",
           "lat",
           "lon"
          ],
          "file_chunk_sizes": [
           1,
           360,
           720
          ],
          "file_dimensions": [
           "time",
           "lat",
           "lon"
          ],
          "fill_value": -999,
          "long_name": "cloud effective radius correlated uncertainty",
          "orig_data_type": "float32",
          "scale_factor": 1,
          "shape": [
           415,
           360,
           720
          ],
          "size": 107568000,
          "units": "um",
          "valid_max": 200,
          "valid_min": 0
         },
         "dims": [
          "time",
          "lat",
          "lon"
         ],
         "dtype": "float32",
         "name": "cer_corr_unc"
        },
        "cer_ice": {
         "attrs": {
          "add_offset": 0,
          "chunk_sizes": [
           1,
           360,
           720
          ],
          "data_type": "float32",
          "dimensions": [
           "time",
           "lat",
           "lon"
          ],
          "file_chunk_sizes": [
           1,
           360,
           720
          ],
          "file_dimensions": [
           "time",
           "lat",
           "lon"
          ],
          "fill_value": -999,
          "long_name": "ice water cloud effective radius",
          "orig_data_type": "float32",
          "scale_factor": 1,
          "shape": [
           415,
           360,
           720
          ],
          "size": 107568000,
          "units": "um",
          "valid_max": 200,
          "valid_min": 0
         },
         "dims": [
          "time",
          "lat",
          "lon"
         ],
         "dtype": "float32",
         "name": "cer_ice"
        },
        "cer_ice_corr_unc": {
         "attrs": {
          "add_offset": 0,
          "chunk_sizes": [
           1,
           360,
           720
          ],
          "comment": "correlated uncertainty assuming correlation of 0.1",
          "data_type": "float32",
          "dimensions": [
           "time",
           "lat",
           "lon"
          ],
          "file_chunk_sizes": [
           1,
           360,
           720
          ],
          "file_dimensions": [
           "time",
           "lat",
           "lon"
          ],
          "fill_value": -999,
          "long_name": "ice water cloud effective radius correlated uncertainty",
          "orig_data_type": "float32",
          "scale_factor": 1,
          "shape": [
           415,
           360,
           720
          ],
          "size": 107568000,
          "units": "um",
          "valid_max": 200,
          "valid_min": 0
         },
         "dims": [
          "time",
          "lat",
          "lon"
         ],
         "dtype": "float32",
         "name": "cer_ice_corr_unc"
        },
        "cer_ice_prop_unc": {
         "attrs": {
          "add_offset": 0,
          "chunk_sizes": [
           1,
           360,
           720
          ],
          "comment": "total uncertainty from individual pixel uncertainty added in quadrature",
          "data_type": "float32",
          "dimensions": [
           "time",
           "lat",
           "lon"
          ],
          "file_chunk_sizes": [
           1,
           360,
           720
          ],
          "file_dimensions": [
           "time",
           "lat",
           "lon"
          ],
          "fill_value": -999,
          "long_name": "ice water cloud effective radius propagated uncertainty",
          "orig_data_type": "float32",
          "scale_factor": 1,
          "shape": [
           415,
           360,
           720
          ],
          "size": 107568000,
          "units": "um",
          "valid_max": 200,
          "valid_min": 0
         },
         "dims": [
          "time",
          "lat",
          "lon"
         ],
         "dtype": "float32",
         "name": "cer_ice_prop_unc"
        },
        "cer_ice_std": {
         "attrs": {
          "add_offset": 0,
          "chunk_sizes": [
           1,
           360,
           720
          ],
          "comment": "standard deviation of retrieved values",
          "data_type": "float32",
          "dimensions": [
           "time",
           "lat",
           "lon"
          ],
          "file_chunk_sizes": [
           1,
           360,
           720
          ],
          "file_dimensions": [
           "time",
           "lat",
           "lon"
          ],
          "fill_value": -999,
          "long_name": "ice water cloud effective radius standard deviation",
          "orig_data_type": "float32",
          "scale_factor": 1,
          "shape": [
           415,
           360,
           720
          ],
          "size": 107568000,
          "units": "um",
          "valid_max": 200,
          "valid_min": 0
         },
         "dims": [
          "time",
          "lat",
          "lon"
         ],
         "dtype": "float32",
         "name": "cer_ice_std"
        },
        "cer_ice_unc": {
         "attrs": {
          "add_offset": 0,
          "chunk_sizes": [
           1,
           360,
           720
          ],
          "comment": "mean of the pixel uncertainties",
          "data_type": "float32",
          "dimensions": [
           "time",
           "lat",
           "lon"
          ],
          "file_chunk_sizes": [
           1,
           360,
           720
          ],
          "file_dimensions": [
           "time",
           "lat",
           "lon"
          ],
          "fill_value": -999,
          "long_name": "ice water cloud effective radius uncertainty",
          "orig_data_type": "float32",
          "scale_factor": 1,
          "shape": [
           415,
           360,
           720
          ],
          "size": 107568000,
          "units": "um",
          "valid_max": 200,
          "valid_min": 0
         },
         "dims": [
          "time",
          "lat",
          "lon"
         ],
         "dtype": "float32",
         "name": "cer_ice_unc"
        },
        "cer_liq": {
         "attrs": {
          "add_offset": 0,
          "chunk_sizes": [
           1,
           360,
           720
          ],
          "data_type": "float32",
          "dimensions": [
           "time",
           "lat",
           "lon"
          ],
          "file_chunk_sizes": [
           1,
           360,
           720
          ],
          "file_dimensions": [
           "time",
           "lat",
           "lon"
          ],
          "fill_value": -999,
          "long_name": "liquid water cloud effective radius",
          "orig_data_type": "float32",
          "scale_factor": 1,
          "shape": [
           415,
           360,
           720
          ],
          "size": 107568000,
          "units": "um",
          "valid_max": 200,
          "valid_min": 0
         },
         "dims": [
          "time",
          "lat",
          "lon"
         ],
         "dtype": "float32",
         "name": "cer_liq"
        },
        "cer_liq_corr_unc": {
         "attrs": {
          "add_offset": 0,
          "chunk_sizes": [
           1,
           360,
           720
          ],
          "comment": "correlated uncertainty assuming correlation of 0.1",
          "data_type": "float32",
          "dimensions": [
           "time",
           "lat",
           "lon"
          ],
          "file_chunk_sizes": [
           1,
           360,
           720
          ],
          "file_dimensions": [
           "time",
           "lat",
           "lon"
          ],
          "fill_value": -999,
          "long_name": "liquid water cloud effective radius correlated uncertainty",
          "orig_data_type": "float32",
          "scale_factor": 1,
          "shape": [
           415,
           360,
           720
          ],
          "size": 107568000,
          "units": "um",
          "valid_max": 200,
          "valid_min": 0
         },
         "dims": [
          "time",
          "lat",
          "lon"
         ],
         "dtype": "float32",
         "name": "cer_liq_corr_unc"
        },
        "cer_liq_prop_unc": {
         "attrs": {
          "add_offset": 0,
          "chunk_sizes": [
           1,
           360,
           720
          ],
          "comment": "total uncertainty from individual pixel uncertainty added in quadrature",
          "data_type": "float32",
          "dimensions": [
           "time",
           "lat",
           "lon"
          ],
          "file_chunk_sizes": [
           1,
           360,
           720
          ],
          "file_dimensions": [
           "time",
           "lat",
           "lon"
          ],
          "fill_value": -999,
          "long_name": "liquid water cloud effective radius propagated uncertainty",
          "orig_data_type": "float32",
          "scale_factor": 1,
          "shape": [
           415,
           360,
           720
          ],
          "size": 107568000,
          "units": "um",
          "valid_max": 200,
          "valid_min": 0
         },
         "dims": [
          "time",
          "lat",
          "lon"
         ],
         "dtype": "float32",
         "name": "cer_liq_prop_unc"
        },
        "cer_liq_std": {
         "attrs": {
          "add_offset": 0,
          "chunk_sizes": [
           1,
           360,
           720
          ],
          "comment": "standard deviation of retrieved values",
          "data_type": "float32",
          "dimensions": [
           "time",
           "lat",
           "lon"
          ],
          "file_chunk_sizes": [
           1,
           360,
           720
          ],
          "file_dimensions": [
           "time",
           "lat",
           "lon"
          ],
          "fill_value": -999,
          "long_name": "liquid water cloud effective radius standard deviation",
          "orig_data_type": "float32",
          "scale_factor": 1,
          "shape": [
           415,
           360,
           720
          ],
          "size": 107568000,
          "units": "um",
          "valid_max": 200,
          "valid_min": 0
         },
         "dims": [
          "time",
          "lat",
          "lon"
         ],
         "dtype": "float32",
         "name": "cer_liq_std"
        },
        "cer_liq_unc": {
         "attrs": {
          "add_offset": 0,
          "chunk_sizes": [
           1,
           360,
           720
          ],
          "comment": "mean of the pixel uncertainties",
          "data_type": "float32",
          "dimensions": [
           "time",
           "lat",
           "lon"
          ],
          "file_chunk_sizes": [
           1,
           360,
           720
          ],
          "file_dimensions": [
           "time",
           "lat",
           "lon"
          ],
          "fill_value": -999,
          "long_name": "liquid water cloud effective radius uncertainty",
          "orig_data_type": "float32",
          "scale_factor": 1,
          "shape": [
           415,
           360,
           720
          ],
          "size": 107568000,
          "units": "um",
          "valid_max": 200,
          "valid_min": 0
         },
         "dims": [
          "time",
          "lat",
          "lon"
         ],
         "dtype": "float32",
         "name": "cer_liq_unc"
        },
        "cer_prop_unc": {
         "attrs": {
          "add_offset": 0,
          "chunk_sizes": [
           1,
           360,
           720
          ],
          "comment": "total uncertainty from individual pixel uncertainty added in quadrature",
          "data_type": "float32",
          "dimensions": [
           "time",
           "lat",
           "lon"
          ],
          "file_chunk_sizes": [
           1,
           360,
           720
          ],
          "file_dimensions": [
           "time",
           "lat",
           "lon"
          ],
          "fill_value": -999,
          "long_name": "cloud effective radius propagated uncertainty",
          "orig_data_type": "float32",
          "scale_factor": 1,
          "shape": [
           415,
           360,
           720
          ],
          "size": 107568000,
          "units": "um",
          "valid_max": 200,
          "valid_min": 0
         },
         "dims": [
          "time",
          "lat",
          "lon"
         ],
         "dtype": "float32",
         "name": "cer_prop_unc"
        },
        "cer_std": {
         "attrs": {
          "add_offset": 0,
          "chunk_sizes": [
           1,
           360,
           720
          ],
          "comment": "standard deviation of retrieved values",
          "data_type": "float32",
          "dimensions": [
           "time",
           "lat",
           "lon"
          ],
          "file_chunk_sizes": [
           1,
           360,
           720
          ],
          "file_dimensions": [
           "time",
           "lat",
           "lon"
          ],
          "fill_value": -999,
          "long_name": "cloud effective radius standard deviation",
          "orig_data_type": "float32",
          "scale_factor": 1,
          "shape": [
           415,
           360,
           720
          ],
          "size": 107568000,
          "units": "um",
          "valid_max": 200,
          "valid_min": 0
         },
         "dims": [
          "time",
          "lat",
          "lon"
         ],
         "dtype": "float32",
         "name": "cer_std"
        },
        "cer_unc": {
         "attrs": {
          "add_offset": 0,
          "chunk_sizes": [
           1,
           360,
           720
          ],
          "comment": "mean of the pixel uncertainties",
          "data_type": "float32",
          "dimensions": [
           "time",
           "lat",
           "lon"
          ],
          "file_chunk_sizes": [
           1,
           360,
           720
          ],
          "file_dimensions": [
           "time",
           "lat",
           "lon"
          ],
          "fill_value": -999,
          "long_name": "cloud effective radius uncertainty",
          "orig_data_type": "float32",
          "scale_factor": 1,
          "shape": [
           415,
           360,
           720
          ],
          "size": 107568000,
          "units": "um",
          "valid_max": 200,
          "valid_min": 0
         },
         "dims": [
          "time",
          "lat",
          "lon"
         ],
         "dtype": "float32",
         "name": "cer_unc"
        },
        "cfc": {
         "attrs": {
          "add_offset": 0,
          "chunk_sizes": [
           1,
           360,
           720
          ],
          "data_type": "float32",
          "dimensions": [
           "time",
           "lat",
           "lon"
          ],
          "file_chunk_sizes": [
           1,
           360,
           720
          ],
          "file_dimensions": [
           "time",
           "lat",
           "lon"
          ],
          "fill_value": -999,
          "long_name": "cloud fraction",
          "orig_data_type": "float32",
          "scale_factor": 1,
          "shape": [
           415,
           360,
           720
          ],
          "size": 107568000,
          "standard_name": "cloud_area_fraction",
          "units": "1",
          "valid_max": 1,
          "valid_min": 0
         },
         "dims": [
          "time",
          "lat",
          "lon"
         ],
         "dtype": "float32",
         "name": "cfc"
        },
        "cfc_corr_unc": {
         "attrs": {
          "add_offset": 0,
          "chunk_sizes": [
           1,
           360,
           720
          ],
          "comment": "correlated uncertainty assuming correlation of 0.1",
          "data_type": "float32",
          "dimensions": [
           "time",
           "lat",
           "lon"
          ],
          "file_chunk_sizes": [
           1,
           360,
           720
          ],
          "file_dimensions": [
           "time",
           "lat",
           "lon"
          ],
          "fill_value": -999,
          "long_name": "cloud fraction correlated uncertainty",
          "orig_data_type": "float32",
          "scale_factor": 1,
          "shape": [
           415,
           360,
           720
          ],
          "size": 107568000,
          "units": "%",
          "valid_max": 100,
          "valid_min": 0
         },
         "dims": [
          "time",
          "lat",
          "lon"
         ],
         "dtype": "float32",
         "name": "cfc_corr_unc"
        },
        "cfc_day": {
         "attrs": {
          "add_offset": 0,
          "chunk_sizes": [
           1,
           360,
           720
          ],
          "data_type": "float32",
          "dimensions": [
           "time",
           "lat",
           "lon"
          ],
          "file_chunk_sizes": [
           1,
           360,
           720
          ],
          "file_dimensions": [
           "time",
           "lat",
           "lon"
          ],
          "fill_value": -999,
          "long_name": "cloud fraction day",
          "orig_data_type": "float32",
          "scale_factor": 1,
          "shape": [
           415,
           360,
           720
          ],
          "size": 107568000,
          "units": "1",
          "valid_max": 1,
          "valid_min": 0
         },
         "dims": [
          "time",
          "lat",
          "lon"
         ],
         "dtype": "float32",
         "name": "cfc_day"
        },
        "cfc_high": {
         "attrs": {
          "add_offset": 0,
          "chunk_sizes": [
           1,
           360,
           720
          ],
          "comment": "high level clouds = ctp < 440 hPa",
          "data_type": "float32",
          "dimensions": [
           "time",
           "lat",
           "lon"
          ],
          "file_chunk_sizes": [
           1,
           360,
           720
          ],
          "file_dimensions": [
           "time",
           "lat",
           "lon"
          ],
          "fill_value": -999,
          "long_name": "high level cloud fraction",
          "orig_data_type": "float32",
          "scale_factor": 1,
          "shape": [
           415,
           360,
           720
          ],
          "size": 107568000,
          "units": "1",
          "valid_max": 1,
          "valid_min": 0
         },
         "dims": [
          "time",
          "lat",
          "lon"
         ],
         "dtype": "float32",
         "name": "cfc_high"
        },
        "cfc_low": {
         "attrs": {
          "add_offset": 0,
          "chunk_sizes": [
           1,
           360,
           720
          ],
          "comment": "low level clouds = 680 hPa < ctp < 1100 hPa",
          "data_type": "float32",
          "dimensions": [
           "time",
           "lat",
           "lon"
          ],
          "file_chunk_sizes": [
           1,
           360,
           720
          ],
          "file_dimensions": [
           "time",
           "lat",
           "lon"
          ],
          "fill_value": -999,
          "long_name": "low level cloud fraction",
          "orig_data_type": "float32",
          "scale_factor": 1,
          "shape": [
           415,
           360,
           720
          ],
          "size": 107568000,
          "units": "1",
          "valid_max": 1,
          "valid_min": 0
         },
         "dims": [
          "time",
          "lat",
          "lon"
         ],
         "dtype": "float32",
         "name": "cfc_low"
        },
        "cfc_mid": {
         "attrs": {
          "add_offset": 0,
          "chunk_sizes": [
           1,
           360,
           720
          ],
          "comment": "mid level clouds = 440 hPa < ctp < 680 hPa",
          "data_type": "float32",
          "dimensions": [
           "time",
           "lat",
           "lon"
          ],
          "file_chunk_sizes": [
           1,
           360,
           720
          ],
          "file_dimensions": [
           "time",
           "lat",
           "lon"
          ],
          "fill_value": -999,
          "long_name": "mid level cloud fraction",
          "orig_data_type": "float32",
          "scale_factor": 1,
          "shape": [
           415,
           360,
           720
          ],
          "size": 107568000,
          "units": "1",
          "valid_max": 1,
          "valid_min": 0
         },
         "dims": [
          "time",
          "lat",
          "lon"
         ],
         "dtype": "float32",
         "name": "cfc_mid"
        },
        "cfc_night": {
         "attrs": {
          "add_offset": 0,
          "chunk_sizes": [
           1,
           360,
           720
          ],
          "data_type": "float32",
          "dimensions": [
           "time",
           "lat",
           "lon"
          ],
          "file_chunk_sizes": [
           1,
           360,
           720
          ],
          "file_dimensions": [
           "time",
           "lat",
           "lon"
          ],
          "fill_value": -999,
          "long_name": "cloud fraction night",
          "orig_data_type": "float32",
          "scale_factor": 1,
          "shape": [
           415,
           360,
           720
          ],
          "size": 107568000,
          "units": "1",
          "valid_max": 1,
          "valid_min": 0
         },
         "dims": [
          "time",
          "lat",
          "lon"
         ],
         "dtype": "float32",
         "name": "cfc_night"
        },
        "cfc_prop_unc": {
         "attrs": {
          "add_offset": 0,
          "chunk_sizes": [
           1,
           360,
           720
          ],
          "comment": "total uncertainty from individual pixel uncertainty added in quadrature",
          "data_type": "float32",
          "dimensions": [
           "time",
           "lat",
           "lon"
          ],
          "file_chunk_sizes": [
           1,
           360,
           720
          ],
          "file_dimensions": [
           "time",
           "lat",
           "lon"
          ],
          "fill_value": -999,
          "long_name": "cloud fraction propagated uncertainty",
          "orig_data_type": "float32",
          "scale_factor": 1,
          "shape": [
           415,
           360,
           720
          ],
          "size": 107568000,
          "units": "%",
          "valid_max": 100,
          "valid_min": 0
         },
         "dims": [
          "time",
          "lat",
          "lon"
         ],
         "dtype": "float32",
         "name": "cfc_prop_unc"
        },
        "cfc_std": {
         "attrs": {
          "add_offset": 0,
          "chunk_sizes": [
           1,
           360,
           720
          ],
          "comment": "standard deviation of retrieved values",
          "data_type": "float32",
          "dimensions": [
           "time",
           "lat",
           "lon"
          ],
          "file_chunk_sizes": [
           1,
           360,
           720
          ],
          "file_dimensions": [
           "time",
           "lat",
           "lon"
          ],
          "fill_value": -999,
          "long_name": "cloud fraction standard deviation",
          "orig_data_type": "float32",
          "scale_factor": 1,
          "shape": [
           415,
           360,
           720
          ],
          "size": 107568000,
          "units": "1",
          "valid_max": 100,
          "valid_min": 0
         },
         "dims": [
          "time",
          "lat",
          "lon"
         ],
         "dtype": "float32",
         "name": "cfc_std"
        },
        "cfc_twl": {
         "attrs": {
          "add_offset": 0,
          "chunk_sizes": [
           1,
           360,
           720
          ],
          "data_type": "float32",
          "dimensions": [
           "time",
           "lat",
           "lon"
          ],
          "file_chunk_sizes": [
           1,
           360,
           720
          ],
          "file_dimensions": [
           "time",
           "lat",
           "lon"
          ],
          "fill_value": -999,
          "long_name": "cloud fraction twilight",
          "orig_data_type": "float32",
          "scale_factor": 1,
          "shape": [
           415,
           360,
           720
          ],
          "size": 107568000,
          "units": "1",
          "valid_max": 1,
          "valid_min": 0
         },
         "dims": [
          "time",
          "lat",
          "lon"
         ],
         "dtype": "float32",
         "name": "cfc_twl"
        },
        "cfc_unc": {
         "attrs": {
          "add_offset": 0,
          "chunk_sizes": [
           1,
           360,
           720
          ],
          "comment": "mean of the pixel uncertainties",
          "data_type": "float32",
          "dimensions": [
           "time",
           "lat",
           "lon"
          ],
          "file_chunk_sizes": [
           1,
           360,
           720
          ],
          "file_dimensions": [
           "time",
           "lat",
           "lon"
          ],
          "fill_value": -999,
          "long_name": "cloud fraction uncertainty",
          "orig_data_type": "float32",
          "scale_factor": 1,
          "shape": [
           415,
           360,
           720
          ],
          "size": 107568000,
          "units": "%",
          "valid_max": 100,
          "valid_min": 0
         },
         "dims": [
          "time",
          "lat",
          "lon"
         ],
         "dtype": "float32",
         "name": "cfc_unc"
        },
        "cla_vis006": {
         "attrs": {
          "add_offset": 0,
          "chunk_sizes": [
           1,
           360,
           720
          ],
          "data_type": "float32",
          "dimensions": [
           "time",
           "lat",
           "lon"
          ],
          "file_chunk_sizes": [
           1,
           360,
           720
          ],
          "file_dimensions": [
           "time",
           "lat",
           "lon"
          ],
          "fill_value": -999,
          "long_name": "cloud albedo at 0.6 um",
          "orig_data_type": "float32",
          "scale_factor": 1,
          "shape": [
           415,
           360,
           720
          ],
          "size": 107568000,
          "standard_name": "cloud_albedo",
          "units": "1",
          "valid_max": 1,
          "valid_min": 0
         },
         "dims": [
          "time",
          "lat",
          "lon"
         ],
         "dtype": "float32",
         "name": "cla_vis006"
        },
        "cla_vis006_corr_unc": {
         "attrs": {
          "add_offset": 0,
          "chunk_sizes": [
           1,
           360,
           720
          ],
          "comment": "correlated uncertainty assuming correlation of 0.1",
          "data_type": "float32",
          "dimensions": [
           "time",
           "lat",
           "lon"
          ],
          "file_chunk_sizes": [
           1,
           360,
           720
          ],
          "file_dimensions": [
           "time",
           "lat",
           "lon"
          ],
          "fill_value": -999,
          "long_name": "cloud albedo at 0.6 um correlated uncertainty",
          "orig_data_type": "float32",
          "scale_factor": 1,
          "shape": [
           415,
           360,
           720
          ],
          "size": 107568000,
          "units": "1",
          "valid_max": 1,
          "valid_min": 0
         },
         "dims": [
          "time",
          "lat",
          "lon"
         ],
         "dtype": "float32",
         "name": "cla_vis006_corr_unc"
        },
        "cla_vis006_ice": {
         "attrs": {
          "add_offset": 0,
          "chunk_sizes": [
           1,
           360,
           720
          ],
          "data_type": "float32",
          "dimensions": [
           "time",
           "lat",
           "lon"
          ],
          "file_chunk_sizes": [
           1,
           360,
           720
          ],
          "file_dimensions": [
           "time",
           "lat",
           "lon"
          ],
          "fill_value": -999,
          "long_name": "ice water cloud albedo at 0.6 um",
          "orig_data_type": "float32",
          "scale_factor": 1,
          "shape": [
           415,
           360,
           720
          ],
          "size": 107568000,
          "units": "1",
          "valid_max": 1,
          "valid_min": 0
         },
         "dims": [
          "time",
          "lat",
          "lon"
         ],
         "dtype": "float32",
         "name": "cla_vis006_ice"
        },
        "cla_vis006_ice_std": {
         "attrs": {
          "add_offset": 0,
          "chunk_sizes": [
           1,
           360,
           720
          ],
          "comment": "standard deviation of retrieved values",
          "data_type": "float32",
          "dimensions": [
           "time",
           "lat",
           "lon"
          ],
          "file_chunk_sizes": [
           1,
           360,
           720
          ],
          "file_dimensions": [
           "time",
           "lat",
           "lon"
          ],
          "fill_value": -999,
          "long_name": "ice water cloud albedo at 0.6 um standard deviation",
          "orig_data_type": "float32",
          "scale_factor": 1,
          "shape": [
           415,
           360,
           720
          ],
          "size": 107568000,
          "units": "1",
          "valid_max": 1,
          "valid_min": 0
         },
         "dims": [
          "time",
          "lat",
          "lon"
         ],
         "dtype": "float32",
         "name": "cla_vis006_ice_std"
        },
        "cla_vis006_ice_unc": {
         "attrs": {
          "add_offset": 0,
          "chunk_sizes": [
           1,
           360,
           720
          ],
          "comment": "mean of the pixel uncertainties",
          "data_type": "float32",
          "dimensions": [
           "time",
           "lat",
           "lon"
          ],
          "file_chunk_sizes": [
           1,
           360,
           720
          ],
          "file_dimensions": [
           "time",
           "lat",
           "lon"
          ],
          "fill_value": -999,
          "long_name": "ice water cloud albedo at 0.6 um uncertainty",
          "orig_data_type": "float32",
          "scale_factor": 1,
          "shape": [
           415,
           360,
           720
          ],
          "size": 107568000,
          "units": "1",
          "valid_max": 1,
          "valid_min": 0
         },
         "dims": [
          "time",
          "lat",
          "lon"
         ],
         "dtype": "float32",
         "name": "cla_vis006_ice_unc"
        },
        "cla_vis006_liq": {
         "attrs": {
          "add_offset": 0,
          "chunk_sizes": [
           1,
           360,
           720
          ],
          "data_type": "float32",
          "dimensions": [
           "time",
           "lat",
           "lon"
          ],
          "file_chunk_sizes": [
           1,
           360,
           720
          ],
          "file_dimensions": [
           "time",
           "lat",
           "lon"
          ],
          "fill_value": -999,
          "long_name": "liquid water cloud albedo at 0.6 um",
          "orig_data_type": "float32",
          "scale_factor": 1,
          "shape": [
           415,
           360,
           720
          ],
          "size": 107568000,
          "units": "1",
          "valid_max": 1,
          "valid_min": 0
         },
         "dims": [
          "time",
          "lat",
          "lon"
         ],
         "dtype": "float32",
         "name": "cla_vis006_liq"
        },
        "cla_vis006_liq_std": {
         "attrs": {
          "add_offset": 0,
          "chunk_sizes": [
           1,
           360,
           720
          ],
          "comment": "standard deviation of retrieved values",
          "data_type": "float32",
          "dimensions": [
           "time",
           "lat",
           "lon"
          ],
          "file_chunk_sizes": [
           1,
           360,
           720
          ],
          "file_dimensions": [
           "time",
           "lat",
           "lon"
          ],
          "fill_value": -999,
          "long_name": "liquid water cloud albedo at 0.6 um standard deviation",
          "orig_data_type": "float32",
          "scale_factor": 1,
          "shape": [
           415,
           360,
           720
          ],
          "size": 107568000,
          "units": "1",
          "valid_max": 1,
          "valid_min": 0
         },
         "dims": [
          "time",
          "lat",
          "lon"
         ],
         "dtype": "float32",
         "name": "cla_vis006_liq_std"
        },
        "cla_vis006_liq_unc": {
         "attrs": {
          "add_offset": 0,
          "chunk_sizes": [
           1,
           360,
           720
          ],
          "comment": "mean of the pixel uncertainties",
          "data_type": "float32",
          "dimensions": [
           "time",
           "lat",
           "lon"
          ],
          "file_chunk_sizes": [
           1,
           360,
           720
          ],
          "file_dimensions": [
           "time",
           "lat",
           "lon"
          ],
          "fill_value": -999,
          "long_name": "liquid water cloud albedo at 0.6 um uncertainty",
          "orig_data_type": "float32",
          "scale_factor": 1,
          "shape": [
           415,
           360,
           720
          ],
          "size": 107568000,
          "units": "1",
          "valid_max": 1,
          "valid_min": 0
         },
         "dims": [
          "time",
          "lat",
          "lon"
         ],
         "dtype": "float32",
         "name": "cla_vis006_liq_unc"
        },
        "cla_vis006_prop_unc": {
         "attrs": {
          "add_offset": 0,
          "chunk_sizes": [
           1,
           360,
           720
          ],
          "comment": "total uncertainty from individual pixel uncertainty added in quadrature",
          "data_type": "float32",
          "dimensions": [
           "time",
           "lat",
           "lon"
          ],
          "file_chunk_sizes": [
           1,
           360,
           720
          ],
          "file_dimensions": [
           "time",
           "lat",
           "lon"
          ],
          "fill_value": -999,
          "long_name": "cloud albedo at 0.6 um propagated uncertainty",
          "orig_data_type": "float32",
          "scale_factor": 1,
          "shape": [
           415,
           360,
           720
          ],
          "size": 107568000,
          "units": "1",
          "valid_max": 1,
          "valid_min": 0
         },
         "dims": [
          "time",
          "lat",
          "lon"
         ],
         "dtype": "float32",
         "name": "cla_vis006_prop_unc"
        },
        "cla_vis006_std": {
         "attrs": {
          "add_offset": 0,
          "chunk_sizes": [
           1,
           360,
           720
          ],
          "comment": "standard deviation of retrieved values",
          "data_type": "float32",
          "dimensions": [
           "time",
           "lat",
           "lon"
          ],
          "file_chunk_sizes": [
           1,
           360,
           720
          ],
          "file_dimensions": [
           "time",
           "lat",
           "lon"
          ],
          "fill_value": -999,
          "long_name": "cloud albedo at 0.6 um standard deviation",
          "orig_data_type": "float32",
          "scale_factor": 1,
          "shape": [
           415,
           360,
           720
          ],
          "size": 107568000,
          "units": "1",
          "valid_max": 1,
          "valid_min": 0
         },
         "dims": [
          "time",
          "lat",
          "lon"
         ],
         "dtype": "float32",
         "name": "cla_vis006_std"
        },
        "cla_vis006_unc": {
         "attrs": {
          "add_offset": 0,
          "chunk_sizes": [
           1,
           360,
           720
          ],
          "comment": "mean of the pixel uncertainties",
          "data_type": "float32",
          "dimensions": [
           "time",
           "lat",
           "lon"
          ],
          "file_chunk_sizes": [
           1,
           360,
           720
          ],
          "file_dimensions": [
           "time",
           "lat",
           "lon"
          ],
          "fill_value": -999,
          "long_name": "cloud albedo at 0.6 um uncertainty",
          "orig_data_type": "float32",
          "scale_factor": 1,
          "shape": [
           415,
           360,
           720
          ],
          "size": 107568000,
          "units": "1",
          "valid_max": 1,
          "valid_min": 0
         },
         "dims": [
          "time",
          "lat",
          "lon"
         ],
         "dtype": "float32",
         "name": "cla_vis006_unc"
        },
        "cla_vis008": {
         "attrs": {
          "add_offset": 0,
          "chunk_sizes": [
           1,
           360,
           720
          ],
          "data_type": "float32",
          "dimensions": [
           "time",
           "lat",
           "lon"
          ],
          "file_chunk_sizes": [
           1,
           360,
           720
          ],
          "file_dimensions": [
           "time",
           "lat",
           "lon"
          ],
          "fill_value": -999,
          "long_name": "cloud albedo at 0.8 um",
          "orig_data_type": "float32",
          "scale_factor": 1,
          "shape": [
           415,
           360,
           720
          ],
          "size": 107568000,
          "standard_name": "cloud_albedo",
          "units": "1",
          "valid_max": 1,
          "valid_min": 0
         },
         "dims": [
          "time",
          "lat",
          "lon"
         ],
         "dtype": "float32",
         "name": "cla_vis008"
        },
        "cla_vis008_corr_unc": {
         "attrs": {
          "add_offset": 0,
          "chunk_sizes": [
           1,
           360,
           720
          ],
          "comment": "correlated uncertainty assuming correlation of 0.1",
          "data_type": "float32",
          "dimensions": [
           "time",
           "lat",
           "lon"
          ],
          "file_chunk_sizes": [
           1,
           360,
           720
          ],
          "file_dimensions": [
           "time",
           "lat",
           "lon"
          ],
          "fill_value": -999,
          "long_name": "cloud albedo at 0.8 um correlated uncertainty",
          "orig_data_type": "float32",
          "scale_factor": 1,
          "shape": [
           415,
           360,
           720
          ],
          "size": 107568000,
          "units": "1",
          "valid_max": 1,
          "valid_min": 0
         },
         "dims": [
          "time",
          "lat",
          "lon"
         ],
         "dtype": "float32",
         "name": "cla_vis008_corr_unc"
        },
        "cla_vis008_ice": {
         "attrs": {
          "add_offset": 0,
          "chunk_sizes": [
           1,
           360,
           720
          ],
          "data_type": "float32",
          "dimensions": [
           "time",
           "lat",
           "lon"
          ],
          "file_chunk_sizes": [
           1,
           360,
           720
          ],
          "file_dimensions": [
           "time",
           "lat",
           "lon"
          ],
          "fill_value": -999,
          "long_name": "ice water cloud albedo at 0.8 um",
          "orig_data_type": "float32",
          "scale_factor": 1,
          "shape": [
           415,
           360,
           720
          ],
          "size": 107568000,
          "units": "1",
          "valid_max": 1,
          "valid_min": 0
         },
         "dims": [
          "time",
          "lat",
          "lon"
         ],
         "dtype": "float32",
         "name": "cla_vis008_ice"
        },
        "cla_vis008_ice_std": {
         "attrs": {
          "add_offset": 0,
          "chunk_sizes": [
           1,
           360,
           720
          ],
          "comment": "standard deviation of retrieved values",
          "data_type": "float32",
          "dimensions": [
           "time",
           "lat",
           "lon"
          ],
          "file_chunk_sizes": [
           1,
           360,
           720
          ],
          "file_dimensions": [
           "time",
           "lat",
           "lon"
          ],
          "fill_value": -999,
          "long_name": "ice water cloud albedo at 0.8 um standard deviation",
          "orig_data_type": "float32",
          "scale_factor": 1,
          "shape": [
           415,
           360,
           720
          ],
          "size": 107568000,
          "units": "1",
          "valid_max": 1,
          "valid_min": 0
         },
         "dims": [
          "time",
          "lat",
          "lon"
         ],
         "dtype": "float32",
         "name": "cla_vis008_ice_std"
        },
        "cla_vis008_ice_unc": {
         "attrs": {
          "add_offset": 0,
          "chunk_sizes": [
           1,
           360,
           720
          ],
          "comment": "mean of the pixel uncertainties",
          "data_type": "float32",
          "dimensions": [
           "time",
           "lat",
           "lon"
          ],
          "file_chunk_sizes": [
           1,
           360,
           720
          ],
          "file_dimensions": [
           "time",
           "lat",
           "lon"
          ],
          "fill_value": -999,
          "long_name": "ice water cloud albedo at 0.8 um uncertainty",
          "orig_data_type": "float32",
          "scale_factor": 1,
          "shape": [
           415,
           360,
           720
          ],
          "size": 107568000,
          "units": "1",
          "valid_max": 1,
          "valid_min": 0
         },
         "dims": [
          "time",
          "lat",
          "lon"
         ],
         "dtype": "float32",
         "name": "cla_vis008_ice_unc"
        },
        "cla_vis008_liq": {
         "attrs": {
          "add_offset": 0,
          "chunk_sizes": [
           1,
           360,
           720
          ],
          "data_type": "float32",
          "dimensions": [
           "time",
           "lat",
           "lon"
          ],
          "file_chunk_sizes": [
           1,
           360,
           720
          ],
          "file_dimensions": [
           "time",
           "lat",
           "lon"
          ],
          "fill_value": -999,
          "long_name": "liquid water cloud albedo at 0.8 um",
          "orig_data_type": "float32",
          "scale_factor": 1,
          "shape": [
           415,
           360,
           720
          ],
          "size": 107568000,
          "units": "1",
          "valid_max": 1,
          "valid_min": 0
         },
         "dims": [
          "time",
          "lat",
          "lon"
         ],
         "dtype": "float32",
         "name": "cla_vis008_liq"
        },
        "cla_vis008_liq_std": {
         "attrs": {
          "add_offset": 0,
          "chunk_sizes": [
           1,
           360,
           720
          ],
          "comment": "standard deviation of retrieved values",
          "data_type": "float32",
          "dimensions": [
           "time",
           "lat",
           "lon"
          ],
          "file_chunk_sizes": [
           1,
           360,
           720
          ],
          "file_dimensions": [
           "time",
           "lat",
           "lon"
          ],
          "fill_value": -999,
          "long_name": "liquid water cloud albedo at 0.8 um standard deviation",
          "orig_data_type": "float32",
          "scale_factor": 1,
          "shape": [
           415,
           360,
           720
          ],
          "size": 107568000,
          "units": "1",
          "valid_max": 1,
          "valid_min": 0
         },
         "dims": [
          "time",
          "lat",
          "lon"
         ],
         "dtype": "float32",
         "name": "cla_vis008_liq_std"
        },
        "cla_vis008_liq_unc": {
         "attrs": {
          "add_offset": 0,
          "chunk_sizes": [
           1,
           360,
           720
          ],
          "comment": "standard deviation of uncertainty values",
          "data_type": "float32",
          "dimensions": [
           "time",
           "lat",
           "lon"
          ],
          "file_chunk_sizes": [
           1,
           360,
           720
          ],
          "file_dimensions": [
           "time",
           "lat",
           "lon"
          ],
          "fill_value": -999,
          "long_name": "liquid water cloud albedo at 0.8 um uncertainty",
          "orig_data_type": "float32",
          "scale_factor": 1,
          "shape": [
           415,
           360,
           720
          ],
          "size": 107568000,
          "units": "1",
          "valid_max": 1,
          "valid_min": 0
         },
         "dims": [
          "time",
          "lat",
          "lon"
         ],
         "dtype": "float32",
         "name": "cla_vis008_liq_unc"
        },
        "cla_vis008_prop_unc": {
         "attrs": {
          "add_offset": 0,
          "chunk_sizes": [
           1,
           360,
           720
          ],
          "comment": "total uncertainty from individual pixel uncertainty added in quadrature",
          "data_type": "float32",
          "dimensions": [
           "time",
           "lat",
           "lon"
          ],
          "file_chunk_sizes": [
           1,
           360,
           720
          ],
          "file_dimensions": [
           "time",
           "lat",
           "lon"
          ],
          "fill_value": -999,
          "long_name": "cloud albedo at 0.8 um propagated uncertainty",
          "orig_data_type": "float32",
          "scale_factor": 1,
          "shape": [
           415,
           360,
           720
          ],
          "size": 107568000,
          "units": "1",
          "valid_max": 1,
          "valid_min": 0
         },
         "dims": [
          "time",
          "lat",
          "lon"
         ],
         "dtype": "float32",
         "name": "cla_vis008_prop_unc"
        },
        "cla_vis008_std": {
         "attrs": {
          "add_offset": 0,
          "chunk_sizes": [
           1,
           360,
           720
          ],
          "comment": "standard deviation of retrieved values",
          "data_type": "float32",
          "dimensions": [
           "time",
           "lat",
           "lon"
          ],
          "file_chunk_sizes": [
           1,
           360,
           720
          ],
          "file_dimensions": [
           "time",
           "lat",
           "lon"
          ],
          "fill_value": -999,
          "long_name": "cloud albedo at 0.8 um standard deviation",
          "orig_data_type": "float32",
          "scale_factor": 1,
          "shape": [
           415,
           360,
           720
          ],
          "size": 107568000,
          "units": "1",
          "valid_max": 1,
          "valid_min": 0
         },
         "dims": [
          "time",
          "lat",
          "lon"
         ],
         "dtype": "float32",
         "name": "cla_vis008_std"
        },
        "cla_vis008_unc": {
         "attrs": {
          "add_offset": 0,
          "chunk_sizes": [
           1,
           360,
           720
          ],
          "comment": "mean of the pixel uncertainties",
          "data_type": "float32",
          "dimensions": [
           "time",
           "lat",
           "lon"
          ],
          "file_chunk_sizes": [
           1,
           360,
           720
          ],
          "file_dimensions": [
           "time",
           "lat",
           "lon"
          ],
          "fill_value": -999,
          "long_name": "cloud albedo at 0.8 um uncertainty",
          "orig_data_type": "float32",
          "scale_factor": 1,
          "shape": [
           415,
           360,
           720
          ],
          "size": 107568000,
          "units": "1",
          "valid_max": 1,
          "valid_min": 0
         },
         "dims": [
          "time",
          "lat",
          "lon"
         ],
         "dtype": "float32",
         "name": "cla_vis008_unc"
        },
        "cot": {
         "attrs": {
          "add_offset": 0,
          "chunk_sizes": [
           1,
           360,
           720
          ],
          "data_type": "float32",
          "dimensions": [
           "time",
           "lat",
           "lon"
          ],
          "file_chunk_sizes": [
           1,
           360,
           720
          ],
          "file_dimensions": [
           "time",
           "lat",
           "lon"
          ],
          "fill_value": -999,
          "long_name": "cloud optical thickness",
          "orig_data_type": "float32",
          "scale_factor": 1,
          "shape": [
           415,
           360,
           720
          ],
          "size": 107568000,
          "standard_name": "atmosphere_optical_thickness_due_to_cloud",
          "units": "1",
          "valid_max": 320,
          "valid_min": 0
         },
         "dims": [
          "time",
          "lat",
          "lon"
         ],
         "dtype": "float32",
         "name": "cot"
        },
        "cot_corr_unc": {
         "attrs": {
          "add_offset": 0,
          "chunk_sizes": [
           1,
           360,
           720
          ],
          "comment": "correlated uncertainty assuming correlation of 0.1",
          "data_type": "float32",
          "dimensions": [
           "time",
           "lat",
           "lon"
          ],
          "file_chunk_sizes": [
           1,
           360,
           720
          ],
          "file_dimensions": [
           "time",
           "lat",
           "lon"
          ],
          "fill_value": -999,
          "long_name": "cloud optical thickness correlated uncertainty",
          "orig_data_type": "float32",
          "scale_factor": 1,
          "shape": [
           415,
           360,
           720
          ],
          "size": 107568000,
          "units": "1",
          "valid_max": 320,
          "valid_min": 0
         },
         "dims": [
          "time",
          "lat",
          "lon"
         ],
         "dtype": "float32",
         "name": "cot_corr_unc"
        },
        "cot_ice": {
         "attrs": {
          "add_offset": 0,
          "chunk_sizes": [
           1,
           360,
           720
          ],
          "data_type": "float32",
          "dimensions": [
           "time",
           "lat",
           "lon"
          ],
          "file_chunk_sizes": [
           1,
           360,
           720
          ],
          "file_dimensions": [
           "time",
           "lat",
           "lon"
          ],
          "fill_value": -999,
          "long_name": "ice water cloud optical thickness",
          "orig_data_type": "float32",
          "scale_factor": 1,
          "shape": [
           415,
           360,
           720
          ],
          "size": 107568000,
          "units": "1",
          "valid_max": 320,
          "valid_min": 0
         },
         "dims": [
          "time",
          "lat",
          "lon"
         ],
         "dtype": "float32",
         "name": "cot_ice"
        },
        "cot_ice_corr_unc": {
         "attrs": {
          "add_offset": 0,
          "chunk_sizes": [
           1,
           360,
           720
          ],
          "comment": "correlated uncertainty assuming correlation of 0.1",
          "data_type": "float32",
          "dimensions": [
           "time",
           "lat",
           "lon"
          ],
          "file_chunk_sizes": [
           1,
           360,
           720
          ],
          "file_dimensions": [
           "time",
           "lat",
           "lon"
          ],
          "fill_value": -999,
          "long_name": "ice water cloud optical thickness correlated uncertainty",
          "orig_data_type": "float32",
          "scale_factor": 1,
          "shape": [
           415,
           360,
           720
          ],
          "size": 107568000,
          "units": "1",
          "valid_max": 320,
          "valid_min": 0
         },
         "dims": [
          "time",
          "lat",
          "lon"
         ],
         "dtype": "float32",
         "name": "cot_ice_corr_unc"
        },
        "cot_ice_prop_unc": {
         "attrs": {
          "add_offset": 0,
          "chunk_sizes": [
           1,
           360,
           720
          ],
          "comment": "total uncertainty from individual pixel uncertainty added in quadrature",
          "data_type": "float32",
          "dimensions": [
           "time",
           "lat",
           "lon"
          ],
          "file_chunk_sizes": [
           1,
           360,
           720
          ],
          "file_dimensions": [
           "time",
           "lat",
           "lon"
          ],
          "fill_value": -999,
          "long_name": "ice water cloud optical thickness propagated uncertainty",
          "orig_data_type": "float32",
          "scale_factor": 1,
          "shape": [
           415,
           360,
           720
          ],
          "size": 107568000,
          "units": "1",
          "valid_max": 320,
          "valid_min": 0
         },
         "dims": [
          "time",
          "lat",
          "lon"
         ],
         "dtype": "float32",
         "name": "cot_ice_prop_unc"
        },
        "cot_ice_std": {
         "attrs": {
          "add_offset": 0,
          "chunk_sizes": [
           1,
           360,
           720
          ],
          "comment": "standard deviation of retrieved values",
          "data_type": "float32",
          "dimensions": [
           "time",
           "lat",
           "lon"
          ],
          "file_chunk_sizes": [
           1,
           360,
           720
          ],
          "file_dimensions": [
           "time",
           "lat",
           "lon"
          ],
          "fill_value": -999,
          "long_name": "ice water cloud optical thickness standard deviation",
          "orig_data_type": "float32",
          "scale_factor": 1,
          "shape": [
           415,
           360,
           720
          ],
          "size": 107568000,
          "units": "1",
          "valid_max": 320,
          "valid_min": 0
         },
         "dims": [
          "time",
          "lat",
          "lon"
         ],
         "dtype": "float32",
         "name": "cot_ice_std"
        },
        "cot_ice_unc": {
         "attrs": {
          "add_offset": 0,
          "chunk_sizes": [
           1,
           360,
           720
          ],
          "comment": "mean of the pixel uncertainties",
          "data_type": "float32",
          "dimensions": [
           "time",
           "lat",
           "lon"
          ],
          "file_chunk_sizes": [
           1,
           360,
           720
          ],
          "file_dimensions": [
           "time",
           "lat",
           "lon"
          ],
          "fill_value": -999,
          "long_name": "ice water cloud optical thickness uncertainty",
          "orig_data_type": "float32",
          "scale_factor": 1,
          "shape": [
           415,
           360,
           720
          ],
          "size": 107568000,
          "units": "1",
          "valid_max": 320,
          "valid_min": 0
         },
         "dims": [
          "time",
          "lat",
          "lon"
         ],
         "dtype": "float32",
         "name": "cot_ice_unc"
        },
        "cot_liq": {
         "attrs": {
          "add_offset": 0,
          "chunk_sizes": [
           1,
           360,
           720
          ],
          "data_type": "float32",
          "dimensions": [
           "time",
           "lat",
           "lon"
          ],
          "file_chunk_sizes": [
           1,
           360,
           720
          ],
          "file_dimensions": [
           "time",
           "lat",
           "lon"
          ],
          "fill_value": -999,
          "long_name": "liquid water cloud optical thickness",
          "orig_data_type": "float32",
          "scale_factor": 1,
          "shape": [
           415,
           360,
           720
          ],
          "size": 107568000,
          "units": "1",
          "valid_max": 320,
          "valid_min": 0
         },
         "dims": [
          "time",
          "lat",
          "lon"
         ],
         "dtype": "float32",
         "name": "cot_liq"
        },
        "cot_liq_corr_unc": {
         "attrs": {
          "add_offset": 0,
          "chunk_sizes": [
           1,
           360,
           720
          ],
          "comment": "correlated uncertainty assuming correlation of 0.1",
          "data_type": "float32",
          "dimensions": [
           "time",
           "lat",
           "lon"
          ],
          "file_chunk_sizes": [
           1,
           360,
           720
          ],
          "file_dimensions": [
           "time",
           "lat",
           "lon"
          ],
          "fill_value": -999,
          "long_name": "liquid water cloud optical thickness correlated uncertainty",
          "orig_data_type": "float32",
          "scale_factor": 1,
          "shape": [
           415,
           360,
           720
          ],
          "size": 107568000,
          "units": "1",
          "valid_max": 320,
          "valid_min": 0
         },
         "dims": [
          "time",
          "lat",
          "lon"
         ],
         "dtype": "float32",
         "name": "cot_liq_corr_unc"
        },
        "cot_liq_prop_unc": {
         "attrs": {
          "add_offset": 0,
          "chunk_sizes": [
           1,
           360,
           720
          ],
          "comment": "total uncertainty from individual pixel uncertainty added in quadrature",
          "data_type": "float32",
          "dimensions": [
           "time",
           "lat",
           "lon"
          ],
          "file_chunk_sizes": [
           1,
           360,
           720
          ],
          "file_dimensions": [
           "time",
           "lat",
           "lon"
          ],
          "fill_value": -999,
          "long_name": "liquid water cloud optical thickness propagated uncertainty",
          "orig_data_type": "float32",
          "scale_factor": 1,
          "shape": [
           415,
           360,
           720
          ],
          "size": 107568000,
          "units": "1",
          "valid_max": 320,
          "valid_min": 0
         },
         "dims": [
          "time",
          "lat",
          "lon"
         ],
         "dtype": "float32",
         "name": "cot_liq_prop_unc"
        },
        "cot_liq_std": {
         "attrs": {
          "add_offset": 0,
          "chunk_sizes": [
           1,
           360,
           720
          ],
          "comment": "standard deviation of retrieved values",
          "data_type": "float32",
          "dimensions": [
           "time",
           "lat",
           "lon"
          ],
          "file_chunk_sizes": [
           1,
           360,
           720
          ],
          "file_dimensions": [
           "time",
           "lat",
           "lon"
          ],
          "fill_value": -999,
          "long_name": "liquid water cloud optical thickness standard deviation",
          "orig_data_type": "float32",
          "scale_factor": 1,
          "shape": [
           415,
           360,
           720
          ],
          "size": 107568000,
          "units": "1",
          "valid_max": 320,
          "valid_min": 0
         },
         "dims": [
          "time",
          "lat",
          "lon"
         ],
         "dtype": "float32",
         "name": "cot_liq_std"
        },
        "cot_liq_unc": {
         "attrs": {
          "add_offset": 0,
          "chunk_sizes": [
           1,
           360,
           720
          ],
          "comment": "mean of the pixel uncertainties",
          "data_type": "float32",
          "dimensions": [
           "time",
           "lat",
           "lon"
          ],
          "file_chunk_sizes": [
           1,
           360,
           720
          ],
          "file_dimensions": [
           "time",
           "lat",
           "lon"
          ],
          "fill_value": -999,
          "long_name": "liquid water cloud optical thickness uncertainty",
          "orig_data_type": "float32",
          "scale_factor": 1,
          "shape": [
           415,
           360,
           720
          ],
          "size": 107568000,
          "units": "1",
          "valid_max": 320,
          "valid_min": 0
         },
         "dims": [
          "time",
          "lat",
          "lon"
         ],
         "dtype": "float32",
         "name": "cot_liq_unc"
        },
        "cot_log": {
         "attrs": {
          "add_offset": 0,
          "chunk_sizes": [
           1,
           360,
           720
          ],
          "comment": "as COT, but values were log-transformed while averaging",
          "data_type": "float32",
          "dimensions": [
           "time",
           "lat",
           "lon"
          ],
          "file_chunk_sizes": [
           1,
           360,
           720
          ],
          "file_dimensions": [
           "time",
           "lat",
           "lon"
          ],
          "fill_value": -999,
          "long_name": "cloud optical thickness logarithmically averaged",
          "orig_data_type": "float32",
          "scale_factor": 1,
          "shape": [
           415,
           360,
           720
          ],
          "size": 107568000,
          "standard_name": "atmosphere_optical_thickness_due_to_cloud",
          "units": "1",
          "valid_max": 320,
          "valid_min": 0
         },
         "dims": [
          "time",
          "lat",
          "lon"
         ],
         "dtype": "float32",
         "name": "cot_log"
        },
        "cot_prop_unc": {
         "attrs": {
          "add_offset": 0,
          "chunk_sizes": [
           1,
           360,
           720
          ],
          "comment": "total uncertainty from individual pixel uncertainty added in quadrature",
          "data_type": "float32",
          "dimensions": [
           "time",
           "lat",
           "lon"
          ],
          "file_chunk_sizes": [
           1,
           360,
           720
          ],
          "file_dimensions": [
           "time",
           "lat",
           "lon"
          ],
          "fill_value": -999,
          "long_name": "cloud optical thickness propagated uncertainty",
          "orig_data_type": "float32",
          "scale_factor": 1,
          "shape": [
           415,
           360,
           720
          ],
          "size": 107568000,
          "units": "1",
          "valid_max": 320,
          "valid_min": 0
         },
         "dims": [
          "time",
          "lat",
          "lon"
         ],
         "dtype": "float32",
         "name": "cot_prop_unc"
        },
        "cot_std": {
         "attrs": {
          "add_offset": 0,
          "chunk_sizes": [
           1,
           360,
           720
          ],
          "comment": "standard deviation of retrieved values",
          "data_type": "float32",
          "dimensions": [
           "time",
           "lat",
           "lon"
          ],
          "file_chunk_sizes": [
           1,
           360,
           720
          ],
          "file_dimensions": [
           "time",
           "lat",
           "lon"
          ],
          "fill_value": -999,
          "long_name": "cloud optical thickness standard deviation",
          "orig_data_type": "float32",
          "scale_factor": 1,
          "shape": [
           415,
           360,
           720
          ],
          "size": 107568000,
          "units": "1",
          "valid_max": 320,
          "valid_min": 0
         },
         "dims": [
          "time",
          "lat",
          "lon"
         ],
         "dtype": "float32",
         "name": "cot_std"
        },
        "cot_unc": {
         "attrs": {
          "add_offset": 0,
          "chunk_sizes": [
           1,
           360,
           720
          ],
          "comment": "mean of the pixel uncertainties",
          "data_type": "float32",
          "dimensions": [
           "time",
           "lat",
           "lon"
          ],
          "file_chunk_sizes": [
           1,
           360,
           720
          ],
          "file_dimensions": [
           "time",
           "lat",
           "lon"
          ],
          "fill_value": -999,
          "long_name": "cloud optical thickness uncertainty",
          "orig_data_type": "float32",
          "scale_factor": 1,
          "shape": [
           415,
           360,
           720
          ],
          "size": 107568000,
          "units": "1",
          "valid_max": 320,
          "valid_min": 0
         },
         "dims": [
          "time",
          "lat",
          "lon"
         ],
         "dtype": "float32",
         "name": "cot_unc"
        },
        "cph": {
         "attrs": {
          "add_offset": 0,
          "chunk_sizes": [
           1,
           360,
           720
          ],
          "data_type": "float32",
          "dimensions": [
           "time",
           "lat",
           "lon"
          ],
          "file_chunk_sizes": [
           1,
           360,
           720
          ],
          "file_dimensions": [
           "time",
           "lat",
           "lon"
          ],
          "fill_value": -999,
          "long_name": "fraction of liquid water clouds",
          "orig_data_type": "float32",
          "scale_factor": 1,
          "shape": [
           415,
           360,
           720
          ],
          "size": 107568000,
          "units": "1",
          "valid_max": 1,
          "valid_min": 0
         },
         "dims": [
          "time",
          "lat",
          "lon"
         ],
         "dtype": "float32",
         "name": "cph"
        },
        "cph_corr_unc": {
         "attrs": {
          "add_offset": 0,
          "chunk_sizes": [
           1,
           360,
           720
          ],
          "comment": "correlated uncertainty assuming correlation of 0.1",
          "data_type": "float32",
          "dimensions": [
           "time",
           "lat",
           "lon"
          ],
          "file_chunk_sizes": [
           1,
           360,
           720
          ],
          "file_dimensions": [
           "time",
           "lat",
           "lon"
          ],
          "fill_value": -999,
          "long_name": "fraction of liquid water clouds correlated uncertainty",
          "orig_data_type": "float32",
          "scale_factor": 1,
          "shape": [
           415,
           360,
           720
          ],
          "size": 107568000,
          "units": "%",
          "valid_max": 100,
          "valid_min": 0
         },
         "dims": [
          "time",
          "lat",
          "lon"
         ],
         "dtype": "float32",
         "name": "cph_corr_unc"
        },
        "cph_day": {
         "attrs": {
          "add_offset": 0,
          "chunk_sizes": [
           1,
           360,
           720
          ],
          "data_type": "float32",
          "dimensions": [
           "time",
           "lat",
           "lon"
          ],
          "file_chunk_sizes": [
           1,
           360,
           720
          ],
          "file_dimensions": [
           "time",
           "lat",
           "lon"
          ],
          "fill_value": -999,
          "long_name": "daytime fraction of liquid water clouds",
          "orig_data_type": "float32",
          "scale_factor": 1,
          "shape": [
           415,
           360,
           720
          ],
          "size": 107568000,
          "units": "1",
          "valid_max": 1,
          "valid_min": 0
         },
         "dims": [
          "time",
          "lat",
          "lon"
         ],
         "dtype": "float32",
         "name": "cph_day"
        },
        "cph_day_corr_unc": {
         "attrs": {
          "add_offset": 0,
          "chunk_sizes": [
           1,
           360,
           720
          ],
          "comment": "correlated uncertainty assuming correlation of 0.1",
          "data_type": "float32",
          "dimensions": [
           "time",
           "lat",
           "lon"
          ],
          "file_chunk_sizes": [
           1,
           360,
           720
          ],
          "file_dimensions": [
           "time",
           "lat",
           "lon"
          ],
          "fill_value": -999,
          "long_name": "fraction of liquid water clouds correlated uncertainty",
          "orig_data_type": "float32",
          "scale_factor": 1,
          "shape": [
           415,
           360,
           720
          ],
          "size": 107568000,
          "units": "%",
          "valid_max": 100,
          "valid_min": 0
         },
         "dims": [
          "time",
          "lat",
          "lon"
         ],
         "dtype": "float32",
         "name": "cph_day_corr_unc"
        },
        "cph_day_prop_unc": {
         "attrs": {
          "add_offset": 0,
          "chunk_sizes": [
           1,
           360,
           720
          ],
          "comment": "total uncertainty from individual pixel uncertainty added in quadrature",
          "data_type": "float32",
          "dimensions": [
           "time",
           "lat",
           "lon"
          ],
          "file_chunk_sizes": [
           1,
           360,
           720
          ],
          "file_dimensions": [
           "time",
           "lat",
           "lon"
          ],
          "fill_value": -999,
          "long_name": "fraction of liquid water clouds propagated uncertainty",
          "orig_data_type": "float32",
          "scale_factor": 1,
          "shape": [
           415,
           360,
           720
          ],
          "size": 107568000,
          "units": "%",
          "valid_max": 100,
          "valid_min": 0
         },
         "dims": [
          "time",
          "lat",
          "lon"
         ],
         "dtype": "float32",
         "name": "cph_day_prop_unc"
        },
        "cph_day_std": {
         "attrs": {
          "add_offset": 0,
          "chunk_sizes": [
           1,
           360,
           720
          ],
          "comment": "standard deviation of retrieved values",
          "data_type": "float32",
          "dimensions": [
           "time",
           "lat",
           "lon"
          ],
          "file_chunk_sizes": [
           1,
           360,
           720
          ],
          "file_dimensions": [
           "time",
           "lat",
           "lon"
          ],
          "fill_value": -999,
          "long_name": "daytime fraction of liquid water clouds standard deviation",
          "orig_data_type": "float32",
          "scale_factor": 1,
          "shape": [
           415,
           360,
           720
          ],
          "size": 107568000,
          "units": "1",
          "valid_max": 1,
          "valid_min": 0
         },
         "dims": [
          "time",
          "lat",
          "lon"
         ],
         "dtype": "float32",
         "name": "cph_day_std"
        },
        "cph_day_unc": {
         "attrs": {
          "add_offset": 0,
          "chunk_sizes": [
           1,
           360,
           720
          ],
          "comment": "mean of the pixel uncertainties",
          "data_type": "float32",
          "dimensions": [
           "time",
           "lat",
           "lon"
          ],
          "file_chunk_sizes": [
           1,
           360,
           720
          ],
          "file_dimensions": [
           "time",
           "lat",
           "lon"
          ],
          "fill_value": -999,
          "long_name": "fraction of liquid water clouds uncertainty",
          "orig_data_type": "float32",
          "scale_factor": 1,
          "shape": [
           415,
           360,
           720
          ],
          "size": 107568000,
          "units": "%",
          "valid_max": 100,
          "valid_min": 0
         },
         "dims": [
          "time",
          "lat",
          "lon"
         ],
         "dtype": "float32",
         "name": "cph_day_unc"
        },
        "cph_prop_unc": {
         "attrs": {
          "add_offset": 0,
          "chunk_sizes": [
           1,
           360,
           720
          ],
          "comment": "total uncertainty from individual pixel uncertainty added in quadrature",
          "data_type": "float32",
          "dimensions": [
           "time",
           "lat",
           "lon"
          ],
          "file_chunk_sizes": [
           1,
           360,
           720
          ],
          "file_dimensions": [
           "time",
           "lat",
           "lon"
          ],
          "fill_value": -999,
          "long_name": "fraction of liquid water clouds propagated uncertainty",
          "orig_data_type": "float32",
          "scale_factor": 1,
          "shape": [
           415,
           360,
           720
          ],
          "size": 107568000,
          "units": "%",
          "valid_max": 100,
          "valid_min": 0
         },
         "dims": [
          "time",
          "lat",
          "lon"
         ],
         "dtype": "float32",
         "name": "cph_prop_unc"
        },
        "cph_std": {
         "attrs": {
          "add_offset": 0,
          "chunk_sizes": [
           1,
           360,
           720
          ],
          "comment": "standard deviation of retrieved values",
          "data_type": "float32",
          "dimensions": [
           "time",
           "lat",
           "lon"
          ],
          "file_chunk_sizes": [
           1,
           360,
           720
          ],
          "file_dimensions": [
           "time",
           "lat",
           "lon"
          ],
          "fill_value": -999,
          "long_name": "fraction of liquid water clouds standard deviation",
          "orig_data_type": "float32",
          "scale_factor": 1,
          "shape": [
           415,
           360,
           720
          ],
          "size": 107568000,
          "units": "1",
          "valid_max": 1,
          "valid_min": 0
         },
         "dims": [
          "time",
          "lat",
          "lon"
         ],
         "dtype": "float32",
         "name": "cph_std"
        },
        "cph_unc": {
         "attrs": {
          "add_offset": 0,
          "chunk_sizes": [
           1,
           360,
           720
          ],
          "comment": "mean of the pixel uncertainties",
          "data_type": "float32",
          "dimensions": [
           "time",
           "lat",
           "lon"
          ],
          "file_chunk_sizes": [
           1,
           360,
           720
          ],
          "file_dimensions": [
           "time",
           "lat",
           "lon"
          ],
          "fill_value": -999,
          "long_name": "fraction of liquid water clouds uncertainty",
          "orig_data_type": "float32",
          "scale_factor": 1,
          "shape": [
           415,
           360,
           720
          ],
          "size": 107568000,
          "units": "%",
          "valid_max": 100,
          "valid_min": 0
         },
         "dims": [
          "time",
          "lat",
          "lon"
         ],
         "dtype": "float32",
         "name": "cph_unc"
        },
        "cth": {
         "attrs": {
          "add_offset": 0,
          "chunk_sizes": [
           1,
           360,
           720
          ],
          "comment": "CTH retrieved at approx. 1 optical depth below cloud top",
          "data_type": "float32",
          "dimensions": [
           "time",
           "lat",
           "lon"
          ],
          "file_chunk_sizes": [
           1,
           360,
           720
          ],
          "file_dimensions": [
           "time",
           "lat",
           "lon"
          ],
          "fill_value": -999,
          "long_name": "cloud top height",
          "orig_data_type": "float32",
          "scale_factor": 1,
          "shape": [
           415,
           360,
           720
          ],
          "size": 107568000,
          "standard_name": "cloud_top_altitude",
          "units": "km",
          "valid_max": 20,
          "valid_min": -1
         },
         "dims": [
          "time",
          "lat",
          "lon"
         ],
         "dtype": "float32",
         "name": "cth"
        },
        "cth_corr_unc": {
         "attrs": {
          "add_offset": 0,
          "chunk_sizes": [
           1,
           360,
           720
          ],
          "comment": "correlated uncertainty assuming correlation of 0.1",
          "data_type": "float32",
          "dimensions": [
           "time",
           "lat",
           "lon"
          ],
          "file_chunk_sizes": [
           1,
           360,
           720
          ],
          "file_dimensions": [
           "time",
           "lat",
           "lon"
          ],
          "fill_value": -999,
          "long_name": "cloud top height correlated uncertainty",
          "orig_data_type": "float32",
          "scale_factor": 1,
          "shape": [
           415,
           360,
           720
          ],
          "size": 107568000,
          "units": "km",
          "valid_max": 20,
          "valid_min": -1
         },
         "dims": [
          "time",
          "lat",
          "lon"
         ],
         "dtype": "float32",
         "name": "cth_corr_unc"
        },
        "cth_corrected": {
         "attrs": {
          "add_offset": 0,
          "chunk_sizes": [
           1,
           360,
           720
          ],
          "comment": "as CTH, but ice cloud values are corrected with microphysical information",
          "data_type": "float32",
          "dimensions": [
           "time",
           "lat",
           "lon"
          ],
          "file_chunk_sizes": [
           1,
           360,
           720
          ],
          "file_dimensions": [
           "time",
           "lat",
           "lon"
          ],
          "fill_value": -999,
          "long_name": "cloud top height",
          "orig_data_type": "float32",
          "scale_factor": 1,
          "shape": [
           415,
           360,
           720
          ],
          "size": 107568000,
          "standard_name": "cloud_top_altitude",
          "units": "km",
          "valid_max": 50,
          "valid_min": -1
         },
         "dims": [
          "time",
          "lat",
          "lon"
         ],
         "dtype": "float32",
         "name": "cth_corrected"
        },
        "cth_corrected_corr_unc": {
         "attrs": {
          "add_offset": 0,
          "chunk_sizes": [
           1,
           360,
           720
          ],
          "comment": "correlated uncertainty assuming correlation of 0.1",
          "data_type": "float32",
          "dimensions": [
           "time",
           "lat",
           "lon"
          ],
          "file_chunk_sizes": [
           1,
           360,
           720
          ],
          "file_dimensions": [
           "time",
           "lat",
           "lon"
          ],
          "fill_value": -999,
          "long_name": "cloud top height correlated uncertainty",
          "orig_data_type": "float32",
          "scale_factor": 1,
          "shape": [
           415,
           360,
           720
          ],
          "size": 107568000,
          "units": "km",
          "valid_max": 50,
          "valid_min": -1
         },
         "dims": [
          "time",
          "lat",
          "lon"
         ],
         "dtype": "float32",
         "name": "cth_corrected_corr_unc"
        },
        "cth_corrected_prop_unc": {
         "attrs": {
          "add_offset": 0,
          "chunk_sizes": [
           1,
           360,
           720
          ],
          "comment": "total uncertainty from individual pixel uncertainty added in quadrature",
          "data_type": "float32",
          "dimensions": [
           "time",
           "lat",
           "lon"
          ],
          "file_chunk_sizes": [
           1,
           360,
           720
          ],
          "file_dimensions": [
           "time",
           "lat",
           "lon"
          ],
          "fill_value": -999,
          "long_name": "cloud top height propagated uncertainty",
          "orig_data_type": "float32",
          "scale_factor": 1,
          "shape": [
           415,
           360,
           720
          ],
          "size": 107568000,
          "units": "km",
          "valid_max": 50,
          "valid_min": -1
         },
         "dims": [
          "time",
          "lat",
          "lon"
         ],
         "dtype": "float32",
         "name": "cth_corrected_prop_unc"
        },
        "cth_corrected_std": {
         "attrs": {
          "add_offset": 0,
          "chunk_sizes": [
           1,
           360,
           720
          ],
          "comment": "standard deviation of retrieved values",
          "data_type": "float32",
          "dimensions": [
           "time",
           "lat",
           "lon"
          ],
          "file_chunk_sizes": [
           1,
           360,
           720
          ],
          "file_dimensions": [
           "time",
           "lat",
           "lon"
          ],
          "fill_value": -999,
          "long_name": "cloud top height standard deviation",
          "orig_data_type": "float32",
          "scale_factor": 1,
          "shape": [
           415,
           360,
           720
          ],
          "size": 107568000,
          "units": "km",
          "valid_max": 50,
          "valid_min": -1
         },
         "dims": [
          "time",
          "lat",
          "lon"
         ],
         "dtype": "float32",
         "name": "cth_corrected_std"
        },
        "cth_corrected_unc": {
         "attrs": {
          "add_offset": 0,
          "chunk_sizes": [
           1,
           360,
           720
          ],
          "comment": "mean of the pixel uncertainties",
          "data_type": "float32",
          "dimensions": [
           "time",
           "lat",
           "lon"
          ],
          "file_chunk_sizes": [
           1,
           360,
           720
          ],
          "file_dimensions": [
           "time",
           "lat",
           "lon"
          ],
          "fill_value": -999,
          "long_name": "cloud top height uncertainty",
          "orig_data_type": "float32",
          "scale_factor": 1,
          "shape": [
           415,
           360,
           720
          ],
          "size": 107568000,
          "units": "km",
          "valid_max": 50,
          "valid_min": -1
         },
         "dims": [
          "time",
          "lat",
          "lon"
         ],
         "dtype": "float32",
         "name": "cth_corrected_unc"
        },
        "cth_prop_unc": {
         "attrs": {
          "add_offset": 0,
          "chunk_sizes": [
           1,
           360,
           720
          ],
          "comment": "total uncertainty from individual pixel uncertainty added in quadrature",
          "data_type": "float32",
          "dimensions": [
           "time",
           "lat",
           "lon"
          ],
          "file_chunk_sizes": [
           1,
           360,
           720
          ],
          "file_dimensions": [
           "time",
           "lat",
           "lon"
          ],
          "fill_value": -999,
          "long_name": "cloud top height propagated uncertainty",
          "orig_data_type": "float32",
          "scale_factor": 1,
          "shape": [
           415,
           360,
           720
          ],
          "size": 107568000,
          "units": "km",
          "valid_max": 20,
          "valid_min": -1
         },
         "dims": [
          "time",
          "lat",
          "lon"
         ],
         "dtype": "float32",
         "name": "cth_prop_unc"
        },
        "cth_std": {
         "attrs": {
          "add_offset": 0,
          "chunk_sizes": [
           1,
           360,
           720
          ],
          "comment": "standard deviation of retrieved values",
          "data_type": "float32",
          "dimensions": [
           "time",
           "lat",
           "lon"
          ],
          "file_chunk_sizes": [
           1,
           360,
           720
          ],
          "file_dimensions": [
           "time",
           "lat",
           "lon"
          ],
          "fill_value": -999,
          "long_name": "cloud top height standard deviation",
          "orig_data_type": "float32",
          "scale_factor": 1,
          "shape": [
           415,
           360,
           720
          ],
          "size": 107568000,
          "units": "km",
          "valid_max": 20,
          "valid_min": -1
         },
         "dims": [
          "time",
          "lat",
          "lon"
         ],
         "dtype": "float32",
         "name": "cth_std"
        },
        "cth_unc": {
         "attrs": {
          "add_offset": 0,
          "chunk_sizes": [
           1,
           360,
           720
          ],
          "comment": "mean of the pixel uncertainties",
          "data_type": "float32",
          "dimensions": [
           "time",
           "lat",
           "lon"
          ],
          "file_chunk_sizes": [
           1,
           360,
           720
          ],
          "file_dimensions": [
           "time",
           "lat",
           "lon"
          ],
          "fill_value": -999,
          "long_name": "cloud top height uncertainty",
          "orig_data_type": "float32",
          "scale_factor": 1,
          "shape": [
           415,
           360,
           720
          ],
          "size": 107568000,
          "units": "km",
          "valid_max": 20,
          "valid_min": -1
         },
         "dims": [
          "time",
          "lat",
          "lon"
         ],
         "dtype": "float32",
         "name": "cth_unc"
        },
        "ctp": {
         "attrs": {
          "add_offset": 0,
          "chunk_sizes": [
           1,
           360,
           720
          ],
          "comment": "CTP retrieved at approx. 1 optical depth below cloud top",
          "data_type": "float32",
          "dimensions": [
           "time",
           "lat",
           "lon"
          ],
          "file_chunk_sizes": [
           1,
           360,
           720
          ],
          "file_dimensions": [
           "time",
           "lat",
           "lon"
          ],
          "fill_value": -999,
          "long_name": "cloud top pressure",
          "orig_data_type": "float32",
          "scale_factor": 1,
          "shape": [
           415,
           360,
           720
          ],
          "size": 107568000,
          "standard_name": "air_pressure_at_cloud_top",
          "units": "hPa",
          "valid_max": 1200,
          "valid_min": 50
         },
         "dims": [
          "time",
          "lat",
          "lon"
         ],
         "dtype": "float32",
         "name": "ctp"
        },
        "ctp_corr_unc": {
         "attrs": {
          "add_offset": 0,
          "chunk_sizes": [
           1,
           360,
           720
          ],
          "comment": "correlated uncertainty assuming correlation of 0.1",
          "data_type": "float32",
          "dimensions": [
           "time",
           "lat",
           "lon"
          ],
          "file_chunk_sizes": [
           1,
           360,
           720
          ],
          "file_dimensions": [
           "time",
           "lat",
           "lon"
          ],
          "fill_value": -999,
          "long_name": "cloud top pressure correlated uncertainty",
          "orig_data_type": "float32",
          "scale_factor": 1,
          "shape": [
           415,
           360,
           720
          ],
          "size": 107568000,
          "units": "hPa",
          "valid_max": 1200,
          "valid_min": 0
         },
         "dims": [
          "time",
          "lat",
          "lon"
         ],
         "dtype": "float32",
         "name": "ctp_corr_unc"
        },
        "ctp_corrected": {
         "attrs": {
          "add_offset": 0,
          "chunk_sizes": [
           1,
           360,
           720
          ],
          "comment": "as CTP, but ice cloud values are corrected with microphysical information",
          "data_type": "float32",
          "dimensions": [
           "time",
           "lat",
           "lon"
          ],
          "file_chunk_sizes": [
           1,
           360,
           720
          ],
          "file_dimensions": [
           "time",
           "lat",
           "lon"
          ],
          "fill_value": -999,
          "long_name": "cloud top pressure",
          "orig_data_type": "float32",
          "scale_factor": 1,
          "shape": [
           415,
           360,
           720
          ],
          "size": 107568000,
          "standard_name": "air_pressure_at_cloud_top",
          "units": "hPa",
          "valid_max": 1200,
          "valid_min": 50
         },
         "dims": [
          "time",
          "lat",
          "lon"
         ],
         "dtype": "float32",
         "name": "ctp_corrected"
        },
        "ctp_corrected_corr_unc": {
         "attrs": {
          "add_offset": 0,
          "chunk_sizes": [
           1,
           360,
           720
          ],
          "comment": "correlated uncertainty assuming correlation of 0.1",
          "data_type": "float32",
          "dimensions": [
           "time",
           "lat",
           "lon"
          ],
          "file_chunk_sizes": [
           1,
           360,
           720
          ],
          "file_dimensions": [
           "time",
           "lat",
           "lon"
          ],
          "fill_value": -999,
          "long_name": "cloud top pressure correlated uncertainty",
          "orig_data_type": "float32",
          "scale_factor": 1,
          "shape": [
           415,
           360,
           720
          ],
          "size": 107568000,
          "units": "hPa",
          "valid_max": 1200,
          "valid_min": 0
         },
         "dims": [
          "time",
          "lat",
          "lon"
         ],
         "dtype": "float32",
         "name": "ctp_corrected_corr_unc"
        },
        "ctp_corrected_prop_unc": {
         "attrs": {
          "add_offset": 0,
          "chunk_sizes": [
           1,
           360,
           720
          ],
          "comment": "total uncertainty from individual pixel uncertainty added in quadrature",
          "data_type": "float32",
          "dimensions": [
           "time",
           "lat",
           "lon"
          ],
          "file_chunk_sizes": [
           1,
           360,
           720
          ],
          "file_dimensions": [
           "time",
           "lat",
           "lon"
          ],
          "fill_value": -999,
          "long_name": "cloud top pressure propagated uncertainty",
          "orig_data_type": "float32",
          "scale_factor": 1,
          "shape": [
           415,
           360,
           720
          ],
          "size": 107568000,
          "units": "hPa",
          "valid_max": 1200,
          "valid_min": 0
         },
         "dims": [
          "time",
          "lat",
          "lon"
         ],
         "dtype": "float32",
         "name": "ctp_corrected_prop_unc"
        },
        "ctp_corrected_std": {
         "attrs": {
          "add_offset": 0,
          "chunk_sizes": [
           1,
           360,
           720
          ],
          "comment": "standard deviation of retrieved values",
          "data_type": "float32",
          "dimensions": [
           "time",
           "lat",
           "lon"
          ],
          "file_chunk_sizes": [
           1,
           360,
           720
          ],
          "file_dimensions": [
           "time",
           "lat",
           "lon"
          ],
          "fill_value": -999,
          "long_name": "cloud top pressure standard deviation",
          "orig_data_type": "float32",
          "scale_factor": 1,
          "shape": [
           415,
           360,
           720
          ],
          "size": 107568000,
          "units": "hPa",
          "valid_max": 1200,
          "valid_min": 0
         },
         "dims": [
          "time",
          "lat",
          "lon"
         ],
         "dtype": "float32",
         "name": "ctp_corrected_std"
        },
        "ctp_corrected_unc": {
         "attrs": {
          "add_offset": 0,
          "chunk_sizes": [
           1,
           360,
           720
          ],
          "comment": "mean of the pixel uncertainties",
          "data_type": "float32",
          "dimensions": [
           "time",
           "lat",
           "lon"
          ],
          "file_chunk_sizes": [
           1,
           360,
           720
          ],
          "file_dimensions": [
           "time",
           "lat",
           "lon"
          ],
          "fill_value": -999,
          "long_name": "cloud top pressure uncertainty",
          "orig_data_type": "float32",
          "scale_factor": 1,
          "shape": [
           415,
           360,
           720
          ],
          "size": 107568000,
          "units": "hPa",
          "valid_max": 1200,
          "valid_min": 0
         },
         "dims": [
          "time",
          "lat",
          "lon"
         ],
         "dtype": "float32",
         "name": "ctp_corrected_unc"
        },
        "ctp_log": {
         "attrs": {
          "add_offset": 0,
          "chunk_sizes": [
           1,
           360,
           720
          ],
          "comment": "as CTP, but values were log-transformed while averaging",
          "data_type": "float32",
          "dimensions": [
           "time",
           "lat",
           "lon"
          ],
          "file_chunk_sizes": [
           1,
           360,
           720
          ],
          "file_dimensions": [
           "time",
           "lat",
           "lon"
          ],
          "fill_value": -999,
          "long_name": "cloud top pressure logarithmically averaged",
          "orig_data_type": "float32",
          "scale_factor": 1,
          "shape": [
           415,
           360,
           720
          ],
          "size": 107568000,
          "standard_name": "air_pressure_at_cloud_top",
          "units": "hPa",
          "valid_max": 1200,
          "valid_min": 50
         },
         "dims": [
          "time",
          "lat",
          "lon"
         ],
         "dtype": "float32",
         "name": "ctp_log"
        },
        "ctp_prop_unc": {
         "attrs": {
          "add_offset": 0,
          "chunk_sizes": [
           1,
           360,
           720
          ],
          "comment": "total uncertainty from individual pixel uncertainty added in quadrature",
          "data_type": "float32",
          "dimensions": [
           "time",
           "lat",
           "lon"
          ],
          "file_chunk_sizes": [
           1,
           360,
           720
          ],
          "file_dimensions": [
           "time",
           "lat",
           "lon"
          ],
          "fill_value": -999,
          "long_name": "cloud top pressure propagated uncertainty",
          "orig_data_type": "float32",
          "scale_factor": 1,
          "shape": [
           415,
           360,
           720
          ],
          "size": 107568000,
          "units": "hPa",
          "valid_max": 1200,
          "valid_min": 0
         },
         "dims": [
          "time",
          "lat",
          "lon"
         ],
         "dtype": "float32",
         "name": "ctp_prop_unc"
        },
        "ctp_std": {
         "attrs": {
          "add_offset": 0,
          "chunk_sizes": [
           1,
           360,
           720
          ],
          "comment": "standard deviation of retrieved values",
          "data_type": "float32",
          "dimensions": [
           "time",
           "lat",
           "lon"
          ],
          "file_chunk_sizes": [
           1,
           360,
           720
          ],
          "file_dimensions": [
           "time",
           "lat",
           "lon"
          ],
          "fill_value": -999,
          "long_name": "cloud top pressure standard deviation",
          "orig_data_type": "float32",
          "scale_factor": 1,
          "shape": [
           415,
           360,
           720
          ],
          "size": 107568000,
          "units": "hPa",
          "valid_max": 1200,
          "valid_min": 0
         },
         "dims": [
          "time",
          "lat",
          "lon"
         ],
         "dtype": "float32",
         "name": "ctp_std"
        },
        "ctp_unc": {
         "attrs": {
          "add_offset": 0,
          "chunk_sizes": [
           1,
           360,
           720
          ],
          "comment": "mean of the pixel uncertainties",
          "data_type": "float32",
          "dimensions": [
           "time",
           "lat",
           "lon"
          ],
          "file_chunk_sizes": [
           1,
           360,
           720
          ],
          "file_dimensions": [
           "time",
           "lat",
           "lon"
          ],
          "fill_value": -999,
          "long_name": "cloud top pressure uncertainty",
          "orig_data_type": "float32",
          "scale_factor": 1,
          "shape": [
           415,
           360,
           720
          ],
          "size": 107568000,
          "units": "hPa",
          "valid_max": 1200,
          "valid_min": 0
         },
         "dims": [
          "time",
          "lat",
          "lon"
         ],
         "dtype": "float32",
         "name": "ctp_unc"
        },
        "ctt": {
         "attrs": {
          "add_offset": 0,
          "chunk_sizes": [
           1,
           360,
           720
          ],
          "data_type": "float32",
          "dimensions": [
           "time",
           "lat",
           "lon"
          ],
          "file_chunk_sizes": [
           1,
           360,
           720
          ],
          "file_dimensions": [
           "time",
           "lat",
           "lon"
          ],
          "fill_value": -999,
          "long_name": "cloud top temperature",
          "orig_data_type": "float32",
          "scale_factor": 1,
          "shape": [
           415,
           360,
           720
          ],
          "size": 107568000,
          "standard_name": "air_temperature_at_cloud_top",
          "units": "K",
          "valid_max": 320,
          "valid_min": 0
         },
         "dims": [
          "time",
          "lat",
          "lon"
         ],
         "dtype": "float32",
         "name": "ctt"
        },
        "ctt_corr_unc": {
         "attrs": {
          "add_offset": 0,
          "chunk_sizes": [
           1,
           360,
           720
          ],
          "comment": "correlated uncertainty assuming correlation of 0.1",
          "data_type": "float32",
          "dimensions": [
           "time",
           "lat",
           "lon"
          ],
          "file_chunk_sizes": [
           1,
           360,
           720
          ],
          "file_dimensions": [
           "time",
           "lat",
           "lon"
          ],
          "fill_value": -999,
          "long_name": "cloud top temperature correlated uncertainty",
          "orig_data_type": "float32",
          "scale_factor": 1,
          "shape": [
           415,
           360,
           720
          ],
          "size": 107568000,
          "units": "K",
          "valid_max": 320,
          "valid_min": 0
         },
         "dims": [
          "time",
          "lat",
          "lon"
         ],
         "dtype": "float32",
         "name": "ctt_corr_unc"
        },
        "ctt_corrected": {
         "attrs": {
          "add_offset": 0,
          "chunk_sizes": [
           1,
           360,
           720
          ],
          "comment": "as CTT, but ice cloud values are corrected with microphysical information",
          "data_type": "float32",
          "dimensions": [
           "time",
           "lat",
           "lon"
          ],
          "file_chunk_sizes": [
           1,
           360,
           720
          ],
          "file_dimensions": [
           "time",
           "lat",
           "lon"
          ],
          "fill_value": -999,
          "long_name": "cloud top temperature",
          "orig_data_type": "float32",
          "scale_factor": 1,
          "shape": [
           415,
           360,
           720
          ],
          "size": 107568000,
          "standard_name": "air_temperature_at_cloud_top",
          "units": "K",
          "valid_max": 320,
          "valid_min": 0
         },
         "dims": [
          "time",
          "lat",
          "lon"
         ],
         "dtype": "float32",
         "name": "ctt_corrected"
        },
        "ctt_corrected_corr_unc": {
         "attrs": {
          "add_offset": 0,
          "chunk_sizes": [
           1,
           360,
           720
          ],
          "comment": "correlated uncertainty assuming correlation of 0.1",
          "data_type": "float32",
          "dimensions": [
           "time",
           "lat",
           "lon"
          ],
          "file_chunk_sizes": [
           1,
           360,
           720
          ],
          "file_dimensions": [
           "time",
           "lat",
           "lon"
          ],
          "fill_value": -999,
          "long_name": "cloud top temperature correlated uncertainty",
          "orig_data_type": "float32",
          "scale_factor": 1,
          "shape": [
           415,
           360,
           720
          ],
          "size": 107568000,
          "units": "K",
          "valid_max": 320,
          "valid_min": 0
         },
         "dims": [
          "time",
          "lat",
          "lon"
         ],
         "dtype": "float32",
         "name": "ctt_corrected_corr_unc"
        },
        "ctt_corrected_prop_unc": {
         "attrs": {
          "add_offset": 0,
          "chunk_sizes": [
           1,
           360,
           720
          ],
          "comment": "total uncertainty from individual pixel uncertainty added in quadrature",
          "data_type": "float32",
          "dimensions": [
           "time",
           "lat",
           "lon"
          ],
          "file_chunk_sizes": [
           1,
           360,
           720
          ],
          "file_dimensions": [
           "time",
           "lat",
           "lon"
          ],
          "fill_value": -999,
          "long_name": "cloud top temperature propagated uncertainty",
          "orig_data_type": "float32",
          "scale_factor": 1,
          "shape": [
           415,
           360,
           720
          ],
          "size": 107568000,
          "units": "K",
          "valid_max": 320,
          "valid_min": 0
         },
         "dims": [
          "time",
          "lat",
          "lon"
         ],
         "dtype": "float32",
         "name": "ctt_corrected_prop_unc"
        },
        "ctt_corrected_std": {
         "attrs": {
          "add_offset": 0,
          "chunk_sizes": [
           1,
           360,
           720
          ],
          "comment": "standard deviation of retrieved values",
          "data_type": "float32",
          "dimensions": [
           "time",
           "lat",
           "lon"
          ],
          "file_chunk_sizes": [
           1,
           360,
           720
          ],
          "file_dimensions": [
           "time",
           "lat",
           "lon"
          ],
          "fill_value": -999,
          "long_name": "cloud top temperature standard deviation",
          "orig_data_type": "float32",
          "scale_factor": 1,
          "shape": [
           415,
           360,
           720
          ],
          "size": 107568000,
          "units": "K",
          "valid_max": 320,
          "valid_min": 0
         },
         "dims": [
          "time",
          "lat",
          "lon"
         ],
         "dtype": "float32",
         "name": "ctt_corrected_std"
        },
        "ctt_corrected_unc": {
         "attrs": {
          "add_offset": 0,
          "chunk_sizes": [
           1,
           360,
           720
          ],
          "comment": "mean of the pixel uncertainties",
          "data_type": "float32",
          "dimensions": [
           "time",
           "lat",
           "lon"
          ],
          "file_chunk_sizes": [
           1,
           360,
           720
          ],
          "file_dimensions": [
           "time",
           "lat",
           "lon"
          ],
          "fill_value": -999,
          "long_name": "cloud top temperature uncertainty",
          "orig_data_type": "float32",
          "scale_factor": 1,
          "shape": [
           415,
           360,
           720
          ],
          "size": 107568000,
          "units": "K",
          "valid_max": 320,
          "valid_min": 0
         },
         "dims": [
          "time",
          "lat",
          "lon"
         ],
         "dtype": "float32",
         "name": "ctt_corrected_unc"
        },
        "ctt_prop_unc": {
         "attrs": {
          "add_offset": 0,
          "chunk_sizes": [
           1,
           360,
           720
          ],
          "comment": "total uncertainty from individual pixel uncertainty added in quadrature",
          "data_type": "float32",
          "dimensions": [
           "time",
           "lat",
           "lon"
          ],
          "file_chunk_sizes": [
           1,
           360,
           720
          ],
          "file_dimensions": [
           "time",
           "lat",
           "lon"
          ],
          "fill_value": -999,
          "long_name": "cloud top temperature propagated uncertainty",
          "orig_data_type": "float32",
          "scale_factor": 1,
          "shape": [
           415,
           360,
           720
          ],
          "size": 107568000,
          "units": "K",
          "valid_max": 320,
          "valid_min": 0
         },
         "dims": [
          "time",
          "lat",
          "lon"
         ],
         "dtype": "float32",
         "name": "ctt_prop_unc"
        },
        "ctt_std": {
         "attrs": {
          "add_offset": 0,
          "chunk_sizes": [
           1,
           360,
           720
          ],
          "comment": "standard deviation of retrieved values",
          "data_type": "float32",
          "dimensions": [
           "time",
           "lat",
           "lon"
          ],
          "file_chunk_sizes": [
           1,
           360,
           720
          ],
          "file_dimensions": [
           "time",
           "lat",
           "lon"
          ],
          "fill_value": -999,
          "long_name": "cloud top temperature standard deviation",
          "orig_data_type": "float32",
          "scale_factor": 1,
          "shape": [
           415,
           360,
           720
          ],
          "size": 107568000,
          "units": "K",
          "valid_max": 320,
          "valid_min": 0
         },
         "dims": [
          "time",
          "lat",
          "lon"
         ],
         "dtype": "float32",
         "name": "ctt_std"
        },
        "ctt_unc": {
         "attrs": {
          "add_offset": 0,
          "chunk_sizes": [
           1,
           360,
           720
          ],
          "comment": "mean of the pixel uncertainties",
          "data_type": "float32",
          "dimensions": [
           "time",
           "lat",
           "lon"
          ],
          "file_chunk_sizes": [
           1,
           360,
           720
          ],
          "file_dimensions": [
           "time",
           "lat",
           "lon"
          ],
          "fill_value": -999,
          "long_name": "cloud top temperature uncertainty",
          "orig_data_type": "float32",
          "scale_factor": 1,
          "shape": [
           415,
           360,
           720
          ],
          "size": 107568000,
          "units": "K",
          "valid_max": 320,
          "valid_min": 0
         },
         "dims": [
          "time",
          "lat",
          "lon"
         ],
         "dtype": "float32",
         "name": "ctt_unc"
        },
        "hist1d_cer": {
         "attrs": {
          "chunk_sizes": [
           1,
           1,
           6,
           180,
           360
          ],
          "data_type": "int32",
          "dimensions": [
           "time",
           "hist_phase",
           "hist1d_cer_bin_centre",
           "lat",
           "lon"
          ],
          "file_chunk_sizes": [
           1,
           1,
           6,
           180,
           360
          ],
          "file_dimensions": [
           "time",
           "hist_phase",
           "hist1d_cer_bin_centre",
           "lat",
           "lon"
          ],
          "fill_value": -999,
          "long_name": "histogram of cloud effective radius",
          "name": "effective_radius_of_cloud_condensed_water_particles_at_cloud_top_histogram",
          "orig_data_type": "int32",
          "shape": [
           415,
           2,
           11,
           360,
           720
          ],
          "size": 2366496000,
          "units": "1"
         },
         "dims": [
          "time",
          "hist_phase",
          "hist1d_cer_bin_centre",
          "lat",
          "lon"
         ],
         "dtype": "int32",
         "name": "hist1d_cer"
        },
        "hist1d_cla_vis006": {
         "attrs": {
          "chunk_sizes": [
           1,
           1,
           7,
           180,
           360
          ],
          "data_type": "int32",
          "dimensions": [
           "time",
           "hist_phase",
           "hist1d_cla_vis006_bin_centre",
           "lat",
           "lon"
          ],
          "file_chunk_sizes": [
           1,
           1,
           7,
           180,
           360
          ],
          "file_dimensions": [
           "time",
           "hist_phase",
           "hist1d_cla_vis006_bin_centre",
           "lat",
           "lon"
          ],
          "fill_value": -999,
          "long_name": "histogram of cloud albedo at 0.6 um",
          "name": "cloud_albedo_histogram",
          "orig_data_type": "int32",
          "shape": [
           415,
           2,
           13,
           360,
           720
          ],
          "size": 2796768000,
          "units": "1"
         },
         "dims": [
          "time",
          "hist_phase",
          "hist1d_cla_vis006_bin_centre",
          "lat",
          "lon"
         ],
         "dtype": "int32",
         "name": "hist1d_cla_vis006"
        },
        "hist1d_cla_vis008": {
         "attrs": {
          "chunk_sizes": [
           1,
           1,
           7,
           180,
           360
          ],
          "data_type": "int32",
          "dimensions": [
           "time",
           "hist_phase",
           "hist1d_cla_vis008_bin_centre",
           "lat",
           "lon"
          ],
          "file_chunk_sizes": [
           1,
           1,
           7,
           180,
           360
          ],
          "file_dimensions": [
           "time",
           "hist_phase",
           "hist1d_cla_vis008_bin_centre",
           "lat",
           "lon"
          ],
          "fill_value": -999,
          "long_name": "histogram of cloud albedo at 0.8 um",
          "name": "cloud_albedo_histogram",
          "orig_data_type": "int32",
          "shape": [
           415,
           2,
           13,
           360,
           720
          ],
          "size": 2796768000,
          "units": "1"
         },
         "dims": [
          "time",
          "hist_phase",
          "hist1d_cla_vis008_bin_centre",
          "lat",
          "lon"
         ],
         "dtype": "int32",
         "name": "hist1d_cla_vis008"
        },
        "hist1d_cot": {
         "attrs": {
          "chunk_sizes": [
           1,
           1,
           7,
           180,
           360
          ],
          "data_type": "int32",
          "dimensions": [
           "time",
           "hist_phase",
           "hist1d_cot_bin_centre",
           "lat",
           "lon"
          ],
          "file_chunk_sizes": [
           1,
           1,
           7,
           180,
           360
          ],
          "file_dimensions": [
           "time",
           "hist_phase",
           "hist1d_cot_bin_centre",
           "lat",
           "lon"
          ],
          "fill_value": -999,
          "long_name": "histogram of cloud optical thickness",
          "name": "atmosphere_optical_thickness_due_to_cloud_histogram",
          "orig_data_type": "int32",
          "shape": [
           415,
           2,
           14,
           360,
           720
          ],
          "size": 3011904000,
          "units": "1"
         },
         "dims": [
          "time",
          "hist_phase",
          "hist1d_cot_bin_centre",
          "lat",
          "lon"
         ],
         "dtype": "int32",
         "name": "hist1d_cot"
        },
        "hist1d_ctp": {
         "attrs": {
          "chunk_sizes": [
           1,
           1,
           8,
           180,
           360
          ],
          "data_type": "int32",
          "dimensions": [
           "time",
           "hist_phase",
           "hist1d_ctp_bin_centre",
           "lat",
           "lon"
          ],
          "file_chunk_sizes": [
           1,
           1,
           8,
           180,
           360
          ],
          "file_dimensions": [
           "time",
           "hist_phase",
           "hist1d_ctp_bin_centre",
           "lat",
           "lon"
          ],
          "fill_value": -999,
          "long_name": "histogram of cloud top pressure",
          "name": "air_pressure_at_cloud_top_histogram",
          "orig_data_type": "int32",
          "shape": [
           415,
           2,
           15,
           360,
           720
          ],
          "size": 3227040000,
          "units": "1"
         },
         "dims": [
          "time",
          "hist_phase",
          "hist1d_ctp_bin_centre",
          "lat",
          "lon"
         ],
         "dtype": "int32",
         "name": "hist1d_ctp"
        },
        "hist1d_ctt": {
         "attrs": {
          "chunk_sizes": [
           1,
           1,
           8,
           180,
           360
          ],
          "data_type": "int32",
          "dimensions": [
           "time",
           "hist_phase",
           "hist1d_ctt_bin_centre",
           "lat",
           "lon"
          ],
          "file_chunk_sizes": [
           1,
           1,
           8,
           180,
           360
          ],
          "file_dimensions": [
           "time",
           "hist_phase",
           "hist1d_ctt_bin_centre",
           "lat",
           "lon"
          ],
          "fill_value": -999,
          "long_name": "histogram of cloud top temperature",
          "name": "temperature_at_cloud_top_histogram",
          "orig_data_type": "int32",
          "shape": [
           415,
           2,
           16,
           360,
           720
          ],
          "size": 3442176000,
          "units": "1"
         },
         "dims": [
          "time",
          "hist_phase",
          "hist1d_ctt_bin_centre",
          "lat",
          "lon"
         ],
         "dtype": "int32",
         "name": "hist1d_ctt"
        },
        "hist1d_cwp": {
         "attrs": {
          "chunk_sizes": [
           1,
           1,
           7,
           180,
           360
          ],
          "data_type": "int32",
          "dimensions": [
           "time",
           "hist_phase",
           "hist1d_cwp_bin_centre",
           "lat",
           "lon"
          ],
          "file_chunk_sizes": [
           1,
           1,
           7,
           180,
           360
          ],
          "file_dimensions": [
           "time",
           "hist_phase",
           "hist1d_cwp_bin_centre",
           "lat",
           "lon"
          ],
          "fill_value": -999,
          "long_name": "histogram of cloud water path",
          "name": "atmosphere_mass_content_of_cloud_condensed_water_histogram",
          "orig_data_type": "int32",
          "shape": [
           415,
           2,
           14,
           360,
           720
          ],
          "size": 3011904000,
          "units": "1"
         },
         "dims": [
          "time",
          "hist_phase",
          "hist1d_cwp_bin_centre",
          "lat",
          "lon"
         ],
         "dtype": "int32",
         "name": "hist1d_cwp"
        },
        "hist2d_cot_ctp": {
         "attrs": {
          "chunk_sizes": [
           1,
           1,
           5,
           5,
           120,
           240
          ],
          "data_type": "int32",
          "dimensions": [
           "time",
           "hist_phase",
           "hist2d_ctp_bin_centre",
           "hist2d_cot_bin_centre",
           "lat",
           "lon"
          ],
          "file_chunk_sizes": [
           1,
           1,
           5,
           5,
           120,
           240
          ],
          "file_dimensions": [
           "time",
           "hist_phase",
           "hist2d_ctp_bin_centre",
           "hist2d_cot_bin_centre",
           "lat",
           "lon"
          ],
          "fill_value": -999,
          "long_name": "joint histogram of cloud optical thickness and cloud top pressure",
          "name": "atmosphere_optical_thickness_due_to_cloud_and_air_pressure_at_cloud_top_histogram",
          "orig_data_type": "int32",
          "shape": [
           415,
           2,
           15,
           13,
           360,
           720
          ],
          "size": 41951520000,
          "units": "1"
         },
         "dims": [
          "time",
          "hist_phase",
          "hist2d_ctp_bin_centre",
          "hist2d_cot_bin_centre",
          "lat",
          "lon"
         ],
         "dtype": "int32",
         "name": "hist2d_cot_ctp"
        },
        "iwp": {
         "attrs": {
          "add_offset": 0,
          "chunk_sizes": [
           1,
           360,
           720
          ],
          "data_type": "float32",
          "dimensions": [
           "time",
           "lat",
           "lon"
          ],
          "file_chunk_sizes": [
           1,
           360,
           720
          ],
          "file_dimensions": [
           "time",
           "lat",
           "lon"
          ],
          "fill_value": -999,
          "long_name": "cloud ice water path",
          "orig_data_type": "float32",
          "scale_factor": 1,
          "shape": [
           415,
           360,
           720
          ],
          "size": 107568000,
          "standard_name": "atmosphere_mass_content_of_cloud_ice",
          "units": "g/m2",
          "valid_max": 32000,
          "valid_min": 0
         },
         "dims": [
          "time",
          "lat",
          "lon"
         ],
         "dtype": "float32",
         "name": "iwp"
        },
        "iwp_allsky": {
         "attrs": {
          "add_offset": 0,
          "chunk_sizes": [
           1,
           360,
           720
          ],
          "data_type": "float32",
          "dimensions": [
           "time",
           "lat",
           "lon"
          ],
          "file_chunk_sizes": [
           1,
           360,
           720
          ],
          "file_dimensions": [
           "time",
           "lat",
           "lon"
          ],
          "fill_value": -999,
          "long_name": "grid box mean of cloud ice water path",
          "orig_data_type": "float32",
          "scale_factor": 1,
          "shape": [
           415,
           360,
           720
          ],
          "size": 107568000,
          "standard_name": "atmosphere_mass_content_of_cloud_ice",
          "units": "g/m2",
          "valid_max": 32000,
          "valid_min": 0
         },
         "dims": [
          "time",
          "lat",
          "lon"
         ],
         "dtype": "float32",
         "name": "iwp_allsky"
        },
        "iwp_corr_unc": {
         "attrs": {
          "add_offset": 0,
          "chunk_sizes": [
           1,
           360,
           720
          ],
          "comment": "correlated uncertainty assuming correlation of 0.1",
          "data_type": "float32",
          "dimensions": [
           "time",
           "lat",
           "lon"
          ],
          "file_chunk_sizes": [
           1,
           360,
           720
          ],
          "file_dimensions": [
           "time",
           "lat",
           "lon"
          ],
          "fill_value": -999,
          "long_name": "cloud ice water path correlated uncertainty",
          "orig_data_type": "float32",
          "scale_factor": 1,
          "shape": [
           415,
           360,
           720
          ],
          "size": 107568000,
          "units": "g/m2",
          "valid_max": 32000,
          "valid_min": 0
         },
         "dims": [
          "time",
          "lat",
          "lon"
         ],
         "dtype": "float32",
         "name": "iwp_corr_unc"
        },
        "iwp_prop_unc": {
         "attrs": {
          "add_offset": 0,
          "chunk_sizes": [
           1,
           360,
           720
          ],
          "comment": "total uncertainty from individual pixel uncertainty added in quadrature",
          "data_type": "float32",
          "dimensions": [
           "time",
           "lat",
           "lon"
          ],
          "file_chunk_sizes": [
           1,
           360,
           720
          ],
          "file_dimensions": [
           "time",
           "lat",
           "lon"
          ],
          "fill_value": -999,
          "long_name": "cloud ice water path propagated uncertainty",
          "orig_data_type": "float32",
          "scale_factor": 1,
          "shape": [
           415,
           360,
           720
          ],
          "size": 107568000,
          "units": "g/m2",
          "valid_max": 32000,
          "valid_min": 0
         },
         "dims": [
          "time",
          "lat",
          "lon"
         ],
         "dtype": "float32",
         "name": "iwp_prop_unc"
        },
        "iwp_std": {
         "attrs": {
          "add_offset": 0,
          "chunk_sizes": [
           1,
           360,
           720
          ],
          "comment": "standard deviation of retrieved values",
          "data_type": "float32",
          "dimensions": [
           "time",
           "lat",
           "lon"
          ],
          "file_chunk_sizes": [
           1,
           360,
           720
          ],
          "file_dimensions": [
           "time",
           "lat",
           "lon"
          ],
          "fill_value": -999,
          "long_name": "cloud ice water path standard deviation",
          "orig_data_type": "float32",
          "scale_factor": 1,
          "shape": [
           415,
           360,
           720
          ],
          "size": 107568000,
          "units": "g/m2",
          "valid_max": 32000,
          "valid_min": 0
         },
         "dims": [
          "time",
          "lat",
          "lon"
         ],
         "dtype": "float32",
         "name": "iwp_std"
        },
        "iwp_unc": {
         "attrs": {
          "add_offset": 0,
          "chunk_sizes": [
           1,
           360,
           720
          ],
          "comment": "mean of the pixel uncertainties",
          "data_type": "float32",
          "dimensions": [
           "time",
           "lat",
           "lon"
          ],
          "file_chunk_sizes": [
           1,
           360,
           720
          ],
          "file_dimensions": [
           "time",
           "lat",
           "lon"
          ],
          "fill_value": -999,
          "long_name": "cloud ice water path uncertainty",
          "orig_data_type": "float32",
          "scale_factor": 1,
          "shape": [
           415,
           360,
           720
          ],
          "size": 107568000,
          "units": "g/m2",
          "valid_max": 32000,
          "valid_min": 0
         },
         "dims": [
          "time",
          "lat",
          "lon"
         ],
         "dtype": "float32",
         "name": "iwp_unc"
        },
        "lwp": {
         "attrs": {
          "add_offset": 0,
          "chunk_sizes": [
           1,
           360,
           720
          ],
          "data_type": "float32",
          "dimensions": [
           "time",
           "lat",
           "lon"
          ],
          "file_chunk_sizes": [
           1,
           360,
           720
          ],
          "file_dimensions": [
           "time",
           "lat",
           "lon"
          ],
          "fill_value": -999,
          "long_name": "cloud liquid water path",
          "orig_data_type": "float32",
          "scale_factor": 1,
          "shape": [
           415,
           360,
           720
          ],
          "size": 107568000,
          "standard_name": "atmosphere_mass_content_of_cloud_liquid_water",
          "units": "g/m2",
          "valid_max": 32000,
          "valid_min": 0
         },
         "dims": [
          "time",
          "lat",
          "lon"
         ],
         "dtype": "float32",
         "name": "lwp"
        },
        "lwp_allsky": {
         "attrs": {
          "add_offset": 0,
          "chunk_sizes": [
           1,
           360,
           720
          ],
          "data_type": "float32",
          "dimensions": [
           "time",
           "lat",
           "lon"
          ],
          "file_chunk_sizes": [
           1,
           360,
           720
          ],
          "file_dimensions": [
           "time",
           "lat",
           "lon"
          ],
          "fill_value": -999,
          "long_name": "grid box mean of cloud liquid water path",
          "orig_data_type": "float32",
          "scale_factor": 1,
          "shape": [
           415,
           360,
           720
          ],
          "size": 107568000,
          "standard_name": "atmosphere_mass_content_of_cloud_liquid_water",
          "units": "g/m2",
          "valid_max": 32000,
          "valid_min": 0
         },
         "dims": [
          "time",
          "lat",
          "lon"
         ],
         "dtype": "float32",
         "name": "lwp_allsky"
        },
        "lwp_corr_unc": {
         "attrs": {
          "add_offset": 0,
          "chunk_sizes": [
           1,
           360,
           720
          ],
          "comment": "correlated uncertainty assuming correlation of 0.1",
          "data_type": "float32",
          "dimensions": [
           "time",
           "lat",
           "lon"
          ],
          "file_chunk_sizes": [
           1,
           360,
           720
          ],
          "file_dimensions": [
           "time",
           "lat",
           "lon"
          ],
          "fill_value": -999,
          "long_name": "cloud liquid water path correlated uncertainty",
          "orig_data_type": "float32",
          "scale_factor": 1,
          "shape": [
           415,
           360,
           720
          ],
          "size": 107568000,
          "units": "g/m2",
          "valid_max": 32000,
          "valid_min": 0
         },
         "dims": [
          "time",
          "lat",
          "lon"
         ],
         "dtype": "float32",
         "name": "lwp_corr_unc"
        },
        "lwp_prop_unc": {
         "attrs": {
          "add_offset": 0,
          "chunk_sizes": [
           1,
           360,
           720
          ],
          "comment": "total uncertainty from individual pixel uncertainty added in quadrature",
          "data_type": "float32",
          "dimensions": [
           "time",
           "lat",
           "lon"
          ],
          "file_chunk_sizes": [
           1,
           360,
           720
          ],
          "file_dimensions": [
           "time",
           "lat",
           "lon"
          ],
          "fill_value": -999,
          "long_name": "cloud liquid water path propagated uncertainty",
          "orig_data_type": "float32",
          "scale_factor": 1,
          "shape": [
           415,
           360,
           720
          ],
          "size": 107568000,
          "units": "g/m2",
          "valid_max": 32000,
          "valid_min": 0
         },
         "dims": [
          "time",
          "lat",
          "lon"
         ],
         "dtype": "float32",
         "name": "lwp_prop_unc"
        },
        "lwp_std": {
         "attrs": {
          "add_offset": 0,
          "chunk_sizes": [
           1,
           360,
           720
          ],
          "comment": "standard deviation of retrieved values",
          "data_type": "float32",
          "dimensions": [
           "time",
           "lat",
           "lon"
          ],
          "file_chunk_sizes": [
           1,
           360,
           720
          ],
          "file_dimensions": [
           "time",
           "lat",
           "lon"
          ],
          "fill_value": -999,
          "long_name": "cloud liquid water path standard deviation",
          "orig_data_type": "float32",
          "scale_factor": 1,
          "shape": [
           415,
           360,
           720
          ],
          "size": 107568000,
          "units": "g/m2",
          "valid_max": 32000,
          "valid_min": 0
         },
         "dims": [
          "time",
          "lat",
          "lon"
         ],
         "dtype": "float32",
         "name": "lwp_std"
        },
        "lwp_unc": {
         "attrs": {
          "add_offset": 0,
          "chunk_sizes": [
           1,
           360,
           720
          ],
          "comment": "mean of the pixel uncertainties",
          "data_type": "float32",
          "dimensions": [
           "time",
           "lat",
           "lon"
          ],
          "file_chunk_sizes": [
           1,
           360,
           720
          ],
          "file_dimensions": [
           "time",
           "lat",
           "lon"
          ],
          "fill_value": -999,
          "long_name": "cloud liquid water path uncertainty",
          "orig_data_type": "float32",
          "scale_factor": 1,
          "shape": [
           415,
           360,
           720
          ],
          "size": 107568000,
          "units": "g/m2",
          "valid_max": 32000,
          "valid_min": 0
         },
         "dims": [
          "time",
          "lat",
          "lon"
         ],
         "dtype": "float32",
         "name": "lwp_unc"
        },
        "nobs": {
         "attrs": {
          "add_offset": 0,
          "chunk_sizes": [
           1,
           360,
           720
          ],
          "comment": "total number of satellite observations available",
          "data_type": "int32",
          "dimensions": [
           "time",
           "lat",
           "lon"
          ],
          "file_chunk_sizes": [
           1,
           360,
           720
          ],
          "file_dimensions": [
           "time",
           "lat",
           "lon"
          ],
          "fill_value": -999,
          "long_name": "number of observations",
          "orig_data_type": "int32",
          "scale_factor": 1,
          "shape": [
           415,
           360,
           720
          ],
          "size": 107568000,
          "units": "1",
          "valid_max": 1212370944,
          "valid_min": 0
         },
         "dims": [
          "time",
          "lat",
          "lon"
         ],
         "dtype": "int32",
         "name": "nobs"
        },
        "nobs_clear_day": {
         "attrs": {
          "add_offset": 0,
          "chunk_sizes": [
           1,
           360,
           720
          ],
          "data_type": "int32",
          "dimensions": [
           "time",
           "lat",
           "lon"
          ],
          "file_chunk_sizes": [
           1,
           360,
           720
          ],
          "file_dimensions": [
           "time",
           "lat",
           "lon"
          ],
          "fill_value": -999,
          "long_name": "number of clear daytime observations",
          "orig_data_type": "int32",
          "scale_factor": 1,
          "shape": [
           415,
           360,
           720
          ],
          "size": 107568000,
          "units": "1",
          "valid_max": 1212370944,
          "valid_min": 0
         },
         "dims": [
          "time",
          "lat",
          "lon"
         ],
         "dtype": "int32",
         "name": "nobs_clear_day"
        },
        "nobs_clear_night": {
         "attrs": {
          "add_offset": 0,
          "chunk_sizes": [
           1,
           360,
           720
          ],
          "data_type": "int32",
          "dimensions": [
           "time",
           "lat",
           "lon"
          ],
          "file_chunk_sizes": [
           1,
           360,
           720
          ],
          "file_dimensions": [
           "time",
           "lat",
           "lon"
          ],
          "fill_value": -999,
          "long_name": "number of clear nighttime observations",
          "orig_data_type": "int32",
          "scale_factor": 1,
          "shape": [
           415,
           360,
           720
          ],
          "size": 107568000,
          "units": "1",
          "valid_max": 1212370944,
          "valid_min": 0
         },
         "dims": [
          "time",
          "lat",
          "lon"
         ],
         "dtype": "int32",
         "name": "nobs_clear_night"
        },
        "nobs_clear_twl": {
         "attrs": {
          "add_offset": 0,
          "chunk_sizes": [
           1,
           360,
           720
          ],
          "data_type": "int32",
          "dimensions": [
           "time",
           "lat",
           "lon"
          ],
          "file_chunk_sizes": [
           1,
           360,
           720
          ],
          "file_dimensions": [
           "time",
           "lat",
           "lon"
          ],
          "fill_value": -999,
          "long_name": "number of clear twilight observations",
          "orig_data_type": "int32",
          "scale_factor": 1,
          "shape": [
           415,
           360,
           720
          ],
          "size": 107568000,
          "units": "1",
          "valid_max": 1212370944,
          "valid_min": 0
         },
         "dims": [
          "time",
          "lat",
          "lon"
         ],
         "dtype": "int32",
         "name": "nobs_clear_twl"
        },
        "nobs_cloudy": {
         "attrs": {
          "add_offset": 0,
          "chunk_sizes": [
           1,
           360,
           720
          ],
          "data_type": "int32",
          "dimensions": [
           "time",
           "lat",
           "lon"
          ],
          "file_chunk_sizes": [
           1,
           360,
           720
          ],
          "file_dimensions": [
           "time",
           "lat",
           "lon"
          ],
          "fill_value": -999,
          "long_name": "number of cloudy observations",
          "orig_data_type": "int32",
          "scale_factor": 1,
          "shape": [
           415,
           360,
           720
          ],
          "size": 107568000,
          "units": "1",
          "valid_max": 1212370944,
          "valid_min": 0
         },
         "dims": [
          "time",
          "lat",
          "lon"
         ],
         "dtype": "int32",
         "name": "nobs_cloudy"
        },
        "nobs_cloudy_day": {
         "attrs": {
          "add_offset": 0,
          "chunk_sizes": [
           1,
           360,
           720
          ],
          "data_type": "int32",
          "dimensions": [
           "time",
           "lat",
           "lon"
          ],
          "file_chunk_sizes": [
           1,
           360,
           720
          ],
          "file_dimensions": [
           "time",
           "lat",
           "lon"
          ],
          "fill_value": -999,
          "long_name": "number of cloudy daytime observations",
          "orig_data_type": "int32",
          "scale_factor": 1,
          "shape": [
           415,
           360,
           720
          ],
          "size": 107568000,
          "units": "1",
          "valid_max": 1212370944,
          "valid_min": 0
         },
         "dims": [
          "time",
          "lat",
          "lon"
         ],
         "dtype": "int32",
         "name": "nobs_cloudy_day"
        },
        "nobs_cloudy_night": {
         "attrs": {
          "add_offset": 0,
          "chunk_sizes": [
           1,
           360,
           720
          ],
          "data_type": "int32",
          "dimensions": [
           "time",
           "lat",
           "lon"
          ],
          "file_chunk_sizes": [
           1,
           360,
           720
          ],
          "file_dimensions": [
           "time",
           "lat",
           "lon"
          ],
          "fill_value": -999,
          "long_name": "number of cloudy nighttime observations",
          "orig_data_type": "int32",
          "scale_factor": 1,
          "shape": [
           415,
           360,
           720
          ],
          "size": 107568000,
          "units": "1",
          "valid_max": 1212370944,
          "valid_min": 0
         },
         "dims": [
          "time",
          "lat",
          "lon"
         ],
         "dtype": "int32",
         "name": "nobs_cloudy_night"
        },
        "nobs_cloudy_twl": {
         "attrs": {
          "add_offset": 0,
          "chunk_sizes": [
           1,
           360,
           720
          ],
          "data_type": "int32",
          "dimensions": [
           "time",
           "lat",
           "lon"
          ],
          "file_chunk_sizes": [
           1,
           360,
           720
          ],
          "file_dimensions": [
           "time",
           "lat",
           "lon"
          ],
          "fill_value": -999,
          "long_name": "number of cloudy twilight observations",
          "orig_data_type": "int32",
          "scale_factor": 1,
          "shape": [
           415,
           360,
           720
          ],
          "size": 107568000,
          "units": "1",
          "valid_max": 1212370944,
          "valid_min": 0
         },
         "dims": [
          "time",
          "lat",
          "lon"
         ],
         "dtype": "int32",
         "name": "nobs_cloudy_twl"
        },
        "nobs_day": {
         "attrs": {
          "add_offset": 0,
          "chunk_sizes": [
           1,
           360,
           720
          ],
          "comment": "total number of satellite observations available",
          "data_type": "int32",
          "dimensions": [
           "time",
           "lat",
           "lon"
          ],
          "file_chunk_sizes": [
           1,
           360,
           720
          ],
          "file_dimensions": [
           "time",
           "lat",
           "lon"
          ],
          "fill_value": -999,
          "long_name": "number of daytime observations",
          "orig_data_type": "int32",
          "scale_factor": 1,
          "shape": [
           415,
           360,
           720
          ],
          "size": 107568000,
          "units": "1",
          "valid_max": 1212370944,
          "valid_min": 0
         },
         "dims": [
          "time",
          "lat",
          "lon"
         ],
         "dtype": "int32",
         "name": "nobs_day"
        },
        "nretr_clear": {
         "attrs": {
          "add_offset": 0,
          "chunk_sizes": [
           1,
           360,
           720
          ],
          "comment": "number of valid clear sky retrievals, not valid = cloudy/high cost/fill_value/not converged",
          "data_type": "int32",
          "dimensions": [
           "time",
           "lat",
           "lon"
          ],
          "file_chunk_sizes": [
           1,
           360,
           720
          ],
          "file_dimensions": [
           "time",
           "lat",
           "lon"
          ],
          "fill_value": -999,
          "long_name": "number of valid clear sky retrievals",
          "orig_data_type": "int32",
          "scale_factor": 1,
          "shape": [
           415,
           360,
           720
          ],
          "size": 107568000,
          "units": "1",
          "valid_max": 1212370944,
          "valid_min": 0
         },
         "dims": [
          "time",
          "lat",
          "lon"
         ],
         "dtype": "int32",
         "name": "nretr_clear"
        },
        "nretr_cloudy": {
         "attrs": {
          "add_offset": 0,
          "chunk_sizes": [
           1,
           360,
           720
          ],
          "comment": "number of valid cloudy retrievals, not valid = clear/high cost/fill_value/not converged",
          "data_type": "int32",
          "dimensions": [
           "time",
           "lat",
           "lon"
          ],
          "file_chunk_sizes": [
           1,
           360,
           720
          ],
          "file_dimensions": [
           "time",
           "lat",
           "lon"
          ],
          "fill_value": -999,
          "long_name": "number of valid cloudy retrievals",
          "orig_data_type": "int32",
          "scale_factor": 1,
          "shape": [
           415,
           360,
           720
          ],
          "size": 107568000,
          "units": "1",
          "valid_max": 1212370944,
          "valid_min": 0
         },
         "dims": [
          "time",
          "lat",
          "lon"
         ],
         "dtype": "int32",
         "name": "nretr_cloudy"
        },
        "nretr_cloudy_day": {
         "attrs": {
          "add_offset": 0,
          "chunk_sizes": [
           1,
           360,
           720
          ],
          "data_type": "int32",
          "dimensions": [
           "time",
           "lat",
           "lon"
          ],
          "file_chunk_sizes": [
           1,
           360,
           720
          ],
          "file_dimensions": [
           "time",
           "lat",
           "lon"
          ],
          "fill_value": -999,
          "long_name": "number of valid daytime cloudy retrievals",
          "orig_data_type": "int32",
          "scale_factor": 1,
          "shape": [
           415,
           360,
           720
          ],
          "size": 107568000,
          "units": "1",
          "valid_max": 1212370944,
          "valid_min": 0
         },
         "dims": [
          "time",
          "lat",
          "lon"
         ],
         "dtype": "int32",
         "name": "nretr_cloudy_day"
        },
        "nretr_cloudy_day_ice": {
         "attrs": {
          "add_offset": 0,
          "chunk_sizes": [
           1,
           360,
           720
          ],
          "data_type": "int32",
          "dimensions": [
           "time",
           "lat",
           "lon"
          ],
          "file_chunk_sizes": [
           1,
           360,
           720
          ],
          "file_dimensions": [
           "time",
           "lat",
           "lon"
          ],
          "fill_value": -999,
          "long_name": "number of valid ice phase daytime cloudy retrievals",
          "orig_data_type": "int32",
          "scale_factor": 1,
          "shape": [
           415,
           360,
           720
          ],
          "size": 107568000,
          "units": "1",
          "valid_max": 1212370944,
          "valid_min": 0
         },
         "dims": [
          "time",
          "lat",
          "lon"
         ],
         "dtype": "int32",
         "name": "nretr_cloudy_day_ice"
        },
        "nretr_cloudy_day_liq": {
         "attrs": {
          "add_offset": 0,
          "chunk_sizes": [
           1,
           360,
           720
          ],
          "data_type": "int32",
          "dimensions": [
           "time",
           "lat",
           "lon"
          ],
          "file_chunk_sizes": [
           1,
           360,
           720
          ],
          "file_dimensions": [
           "time",
           "lat",
           "lon"
          ],
          "fill_value": -999,
          "long_name": "number of valid liquid phase daytime cloudy retrievals",
          "orig_data_type": "int32",
          "scale_factor": 1,
          "shape": [
           415,
           360,
           720
          ],
          "size": 107568000,
          "units": "1",
          "valid_max": 1212370944,
          "valid_min": 0
         },
         "dims": [
          "time",
          "lat",
          "lon"
         ],
         "dtype": "int32",
         "name": "nretr_cloudy_day_liq"
        },
        "nretr_cloudy_high": {
         "attrs": {
          "add_offset": 0,
          "chunk_sizes": [
           1,
           360,
           720
          ],
          "comment": "ctp < 440 hPa",
          "data_type": "int32",
          "dimensions": [
           "time",
           "lat",
           "lon"
          ],
          "file_chunk_sizes": [
           1,
           360,
           720
          ],
          "file_dimensions": [
           "time",
           "lat",
           "lon"
          ],
          "fill_value": -999,
          "long_name": "number of valid high level cloudy retrievals",
          "orig_data_type": "int32",
          "scale_factor": 1,
          "shape": [
           415,
           360,
           720
          ],
          "size": 107568000,
          "units": "1",
          "valid_max": 1212370944,
          "valid_min": 0
         },
         "dims": [
          "time",
          "lat",
          "lon"
         ],
         "dtype": "int32",
         "name": "nretr_cloudy_high"
        },
        "nretr_cloudy_ice": {
         "attrs": {
          "add_offset": 0,
          "chunk_sizes": [
           1,
           360,
           720
          ],
          "comment": "number of valid ice phase cloudy retrievals, not valid = clear/high cost/fill_value/not converged",
          "data_type": "int32",
          "dimensions": [
           "time",
           "lat",
           "lon"
          ],
          "file_chunk_sizes": [
           1,
           360,
           720
          ],
          "file_dimensions": [
           "time",
           "lat",
           "lon"
          ],
          "fill_value": -999,
          "long_name": "number of valid ice phase cloudy retrievals",
          "orig_data_type": "int32",
          "scale_factor": 1,
          "shape": [
           415,
           360,
           720
          ],
          "size": 107568000,
          "units": "1",
          "valid_max": 1212370944,
          "valid_min": 0
         },
         "dims": [
          "time",
          "lat",
          "lon"
         ],
         "dtype": "int32",
         "name": "nretr_cloudy_ice"
        },
        "nretr_cloudy_liq": {
         "attrs": {
          "add_offset": 0,
          "chunk_sizes": [
           1,
           360,
           720
          ],
          "comment": "number of valid liquid phase cloudy retrievals, not valid = clear/high cost/fill_value/not converged",
          "data_type": "int32",
          "dimensions": [
           "time",
           "lat",
           "lon"
          ],
          "file_chunk_sizes": [
           1,
           360,
           720
          ],
          "file_dimensions": [
           "time",
           "lat",
           "lon"
          ],
          "fill_value": -999,
          "long_name": "number of valid liquid phase cloudy retrievals",
          "orig_data_type": "int32",
          "scale_factor": 1,
          "shape": [
           415,
           360,
           720
          ],
          "size": 107568000,
          "units": "1",
          "valid_max": 1212370944,
          "valid_min": 0
         },
         "dims": [
          "time",
          "lat",
          "lon"
         ],
         "dtype": "int32",
         "name": "nretr_cloudy_liq"
        },
        "nretr_cloudy_low": {
         "attrs": {
          "add_offset": 0,
          "chunk_sizes": [
           1,
           360,
           720
          ],
          "comment": "680 hPa < ctp < 1100 hPa",
          "data_type": "int32",
          "dimensions": [
           "time",
           "lat",
           "lon"
          ],
          "file_chunk_sizes": [
           1,
           360,
           720
          ],
          "file_dimensions": [
           "time",
           "lat",
           "lon"
          ],
          "fill_value": -999,
          "long_name": "number of valid low level cloudy retrievals",
          "orig_data_type": "int32",
          "scale_factor": 1,
          "shape": [
           415,
           360,
           720
          ],
          "size": 107568000,
          "units": "1",
          "valid_max": 1212370944,
          "valid_min": 0
         },
         "dims": [
          "time",
          "lat",
          "lon"
         ],
         "dtype": "int32",
         "name": "nretr_cloudy_low"
        },
        "nretr_cloudy_mid": {
         "attrs": {
          "add_offset": 0,
          "chunk_sizes": [
           1,
           360,
           720
          ],
          "comment": "440 hPa < ctp < 680 hPa",
          "data_type": "int32",
          "dimensions": [
           "time",
           "lat",
           "lon"
          ],
          "file_chunk_sizes": [
           1,
           360,
           720
          ],
          "file_dimensions": [
           "time",
           "lat",
           "lon"
          ],
          "fill_value": -999,
          "long_name": "number of valid mid level cloudy retrievals",
          "orig_data_type": "int32",
          "scale_factor": 1,
          "shape": [
           415,
           360,
           720
          ],
          "size": 107568000,
          "units": "1",
          "valid_max": 1212370944,
          "valid_min": 0
         },
         "dims": [
          "time",
          "lat",
          "lon"
         ],
         "dtype": "int32",
         "name": "nretr_cloudy_mid"
        },
        "stemp_clear": {
         "attrs": {
          "add_offset": 0,
          "chunk_sizes": [
           1,
           360,
           720
          ],
          "comment": "clear sky retrieved surface temperature",
          "data_type": "float32",
          "dimensions": [
           "time",
           "lat",
           "lon"
          ],
          "file_chunk_sizes": [
           1,
           360,
           720
          ],
          "file_dimensions": [
           "time",
           "lat",
           "lon"
          ],
          "fill_value": -999,
          "long_name": "clear sky surface temperature",
          "orig_data_type": "float32",
          "scale_factor": 1,
          "shape": [
           415,
           360,
           720
          ],
          "size": 107568000,
          "standard_name": "surface_temperature",
          "units": "K",
          "valid_max": 320,
          "valid_min": 0
         },
         "dims": [
          "time",
          "lat",
          "lon"
         ],
         "dtype": "float32",
         "name": "stemp_clear"
        },
        "stemp_clear_corr_unc": {
         "attrs": {
          "add_offset": 0,
          "chunk_sizes": [
           1,
           360,
           720
          ],
          "comment": "correlated uncertainty assuming correlation of 0.1",
          "data_type": "float32",
          "dimensions": [
           "time",
           "lat",
           "lon"
          ],
          "file_chunk_sizes": [
           1,
           360,
           720
          ],
          "file_dimensions": [
           "time",
           "lat",
           "lon"
          ],
          "fill_value": -999,
          "long_name": "clear sky surface temperature correlated uncertainty",
          "orig_data_type": "float32",
          "scale_factor": 1,
          "shape": [
           415,
           360,
           720
          ],
          "size": 107568000,
          "units": "K",
          "valid_max": 320,
          "valid_min": 0
         },
         "dims": [
          "time",
          "lat",
          "lon"
         ],
         "dtype": "float32",
         "name": "stemp_clear_corr_unc"
        },
        "stemp_clear_prop_unc": {
         "attrs": {
          "add_offset": 0,
          "chunk_sizes": [
           1,
           360,
           720
          ],
          "comment": "total uncertainty from individual pixel uncertainty added in quadrature",
          "data_type": "float32",
          "dimensions": [
           "time",
           "lat",
           "lon"
          ],
          "file_chunk_sizes": [
           1,
           360,
           720
          ],
          "file_dimensions": [
           "time",
           "lat",
           "lon"
          ],
          "fill_value": -999,
          "long_name": "clear sky surface temperature propagated uncertainty",
          "orig_data_type": "float32",
          "scale_factor": 1,
          "shape": [
           415,
           360,
           720
          ],
          "size": 107568000,
          "units": "K",
          "valid_max": 320,
          "valid_min": 0
         },
         "dims": [
          "time",
          "lat",
          "lon"
         ],
         "dtype": "float32",
         "name": "stemp_clear_prop_unc"
        },
        "stemp_clear_std": {
         "attrs": {
          "add_offset": 0,
          "chunk_sizes": [
           1,
           360,
           720
          ],
          "comment": "standard deviation of retrieved values",
          "data_type": "float32",
          "dimensions": [
           "time",
           "lat",
           "lon"
          ],
          "file_chunk_sizes": [
           1,
           360,
           720
          ],
          "file_dimensions": [
           "time",
           "lat",
           "lon"
          ],
          "fill_value": -999,
          "long_name": "clear sky surface temperature standard deviation",
          "orig_data_type": "float32",
          "scale_factor": 1,
          "shape": [
           415,
           360,
           720
          ],
          "size": 107568000,
          "units": "K",
          "valid_max": 320,
          "valid_min": 0
         },
         "dims": [
          "time",
          "lat",
          "lon"
         ],
         "dtype": "float32",
         "name": "stemp_clear_std"
        },
        "stemp_clear_unc": {
         "attrs": {
          "add_offset": 0,
          "chunk_sizes": [
           1,
           360,
           720
          ],
          "comment": "mean of the pixel uncertainties",
          "data_type": "float32",
          "dimensions": [
           "time",
           "lat",
           "lon"
          ],
          "file_chunk_sizes": [
           1,
           360,
           720
          ],
          "file_dimensions": [
           "time",
           "lat",
           "lon"
          ],
          "fill_value": -999,
          "long_name": "clear sky surface temperature uncertainty",
          "orig_data_type": "float32",
          "scale_factor": 1,
          "shape": [
           415,
           360,
           720
          ],
          "size": 107568000,
          "units": "K",
          "valid_max": 320,
          "valid_min": 0
         },
         "dims": [
          "time",
          "lat",
          "lon"
         ],
         "dtype": "float32",
         "name": "stemp_clear_unc"
        },
        "stemp_cloudy": {
         "attrs": {
          "add_offset": 0,
          "chunk_sizes": [
           1,
           360,
           720
          ],
          "comment": "stemp is retrieved only under optically thin clouds, and otherwise reverts to the apriori ECMWF ERA-Interim stemp value",
          "data_type": "float32",
          "dimensions": [
           "time",
           "lat",
           "lon"
          ],
          "file_chunk_sizes": [
           1,
           360,
           720
          ],
          "file_dimensions": [
           "time",
           "lat",
           "lon"
          ],
          "fill_value": -999,
          "long_name": "surface temperature",
          "orig_data_type": "float32",
          "scale_factor": 1,
          "shape": [
           415,
           360,
           720
          ],
          "size": 107568000,
          "standard_name": "surface_temperature",
          "units": "K",
          "valid_max": 320,
          "valid_min": 0
         },
         "dims": [
          "time",
          "lat",
          "lon"
         ],
         "dtype": "float32",
         "name": "stemp_cloudy"
        },
        "stemp_cloudy_corr_unc": {
         "attrs": {
          "add_offset": 0,
          "chunk_sizes": [
           1,
           360,
           720
          ],
          "comment": "correlated uncertainty assuming correlation of 0.1",
          "data_type": "float32",
          "dimensions": [
           "time",
           "lat",
           "lon"
          ],
          "file_chunk_sizes": [
           1,
           360,
           720
          ],
          "file_dimensions": [
           "time",
           "lat",
           "lon"
          ],
          "fill_value": -999,
          "long_name": "surface temperature correlated uncertainty",
          "orig_data_type": "float32",
          "scale_factor": 1,
          "shape": [
           415,
           360,
           720
          ],
          "size": 107568000,
          "units": "K",
          "valid_max": 320,
          "valid_min": 0
         },
         "dims": [
          "time",
          "lat",
          "lon"
         ],
         "dtype": "float32",
         "name": "stemp_cloudy_corr_unc"
        },
        "stemp_cloudy_prop_unc": {
         "attrs": {
          "add_offset": 0,
          "chunk_sizes": [
           1,
           360,
           720
          ],
          "comment": "total uncertainty from individual pixel uncertainty added in quadrature",
          "data_type": "float32",
          "dimensions": [
           "time",
           "lat",
           "lon"
          ],
          "file_chunk_sizes": [
           1,
           360,
           720
          ],
          "file_dimensions": [
           "time",
           "lat",
           "lon"
          ],
          "fill_value": -999,
          "long_name": "surface temperature propagated uncertainty",
          "orig_data_type": "float32",
          "scale_factor": 1,
          "shape": [
           415,
           360,
           720
          ],
          "size": 107568000,
          "units": "K",
          "valid_max": 320,
          "valid_min": 0
         },
         "dims": [
          "time",
          "lat",
          "lon"
         ],
         "dtype": "float32",
         "name": "stemp_cloudy_prop_unc"
        },
        "stemp_cloudy_std": {
         "attrs": {
          "add_offset": 0,
          "chunk_sizes": [
           1,
           360,
           720
          ],
          "comment": "standard deviation of retrieved values",
          "data_type": "float32",
          "dimensions": [
           "time",
           "lat",
           "lon"
          ],
          "file_chunk_sizes": [
           1,
           360,
           720
          ],
          "file_dimensions": [
           "time",
           "lat",
           "lon"
          ],
          "fill_value": -999,
          "long_name": "surface temperature standard deviation",
          "orig_data_type": "float32",
          "scale_factor": 1,
          "shape": [
           415,
           360,
           720
          ],
          "size": 107568000,
          "units": "K",
          "valid_max": 320,
          "valid_min": 0
         },
         "dims": [
          "time",
          "lat",
          "lon"
         ],
         "dtype": "float32",
         "name": "stemp_cloudy_std"
        },
        "stemp_cloudy_unc": {
         "attrs": {
          "add_offset": 0,
          "chunk_sizes": [
           1,
           360,
           720
          ],
          "comment": "mean of the pixel uncertainties",
          "data_type": "float32",
          "dimensions": [
           "time",
           "lat",
           "lon"
          ],
          "file_chunk_sizes": [
           1,
           360,
           720
          ],
          "file_dimensions": [
           "time",
           "lat",
           "lon"
          ],
          "fill_value": -999,
          "long_name": "surface temperature uncertainty",
          "orig_data_type": "float32",
          "scale_factor": 1,
          "shape": [
           415,
           360,
           720
          ],
          "size": 107568000,
          "units": "K",
          "valid_max": 320,
          "valid_min": 0
         },
         "dims": [
          "time",
          "lat",
          "lon"
         ],
         "dtype": "float32",
         "name": "stemp_cloudy_unc"
        },
        "toa_lwup": {
         "attrs": {
          "add_offset": 0,
          "chunk_sizes": [
           1,
           360,
           720
          ],
          "data_type": "float32",
          "dimensions": [
           "time",
           "lat",
           "lon"
          ],
          "file_chunk_sizes": [
           1,
           360,
           720
          ],
          "file_dimensions": [
           "time",
           "lat",
           "lon"
          ],
          "fill_value": -999,
          "long_name": "top of atmosphere upwelling thermal radiation",
          "orig_data_type": "float32",
          "scale_factor": 1,
          "shape": [
           415,
           360,
           720
          ],
          "size": 107568000,
          "standard_name": "toa_outgoing_longwave_flux",
          "units": "W m-2",
          "valid_max": 1500,
          "valid_min": 0
         },
         "dims": [
          "time",
          "lat",
          "lon"
         ],
         "dtype": "float32",
         "name": "toa_lwup"
        },
        "toa_lwup_clr": {
         "attrs": {
          "add_offset": 0,
          "chunk_sizes": [
           1,
           360,
           720
          ],
          "data_type": "float32",
          "dimensions": [
           "time",
           "lat",
           "lon"
          ],
          "file_chunk_sizes": [
           1,
           360,
           720
          ],
          "file_dimensions": [
           "time",
           "lat",
           "lon"
          ],
          "fill_value": -999,
          "long_name": "top of atmosphere upwelling thermal radiation",
          "orig_data_type": "float32",
          "scale_factor": 1,
          "shape": [
           415,
           360,
           720
          ],
          "size": 107568000,
          "standard_name": "toa_outgoing_longwave_flux_assuming_clear_sky",
          "units": "W m-2",
          "valid_max": 1500,
          "valid_min": 0
         },
         "dims": [
          "time",
          "lat",
          "lon"
         ],
         "dtype": "float32",
         "name": "toa_lwup_clr"
        },
        "toa_lwup_hig": {
         "attrs": {
          "add_offset": 0,
          "chunk_sizes": [
           1,
           360,
           720
          ],
          "data_type": "float32",
          "dimensions": [
           "time",
           "lat",
           "lon"
          ],
          "file_chunk_sizes": [
           1,
           360,
           720
          ],
          "file_dimensions": [
           "time",
           "lat",
           "lon"
          ],
          "fill_value": -999,
          "long_name": "top of atmosphere upwelling thermal radiation high clouds",
          "orig_data_type": "float32",
          "scale_factor": 1,
          "shape": [
           415,
           360,
           720
          ],
          "size": 107568000,
          "standard_name": "toa_outgoing_longwave_flux",
          "units": "W m-2",
          "valid_max": 1500,
          "valid_min": 0
         },
         "dims": [
          "time",
          "lat",
          "lon"
         ],
         "dtype": "float32",
         "name": "toa_lwup_hig"
        },
        "toa_lwup_low": {
         "attrs": {
          "add_offset": 0,
          "chunk_sizes": [
           1,
           360,
           720
          ],
          "data_type": "float32",
          "dimensions": [
           "time",
           "lat",
           "lon"
          ],
          "file_chunk_sizes": [
           1,
           360,
           720
          ],
          "file_dimensions": [
           "time",
           "lat",
           "lon"
          ],
          "fill_value": -999,
          "long_name": "top of atmosphere upwelling thermal radiation low clouds",
          "orig_data_type": "float32",
          "scale_factor": 1,
          "shape": [
           415,
           360,
           720
          ],
          "size": 107568000,
          "standard_name": "toa_outgoing_longwave_flux",
          "units": "W m-2",
          "valid_max": 1500,
          "valid_min": 0
         },
         "dims": [
          "time",
          "lat",
          "lon"
         ],
         "dtype": "float32",
         "name": "toa_lwup_low"
        },
        "toa_lwup_mid": {
         "attrs": {
          "add_offset": 0,
          "chunk_sizes": [
           1,
           360,
           720
          ],
          "data_type": "float32",
          "dimensions": [
           "time",
           "lat",
           "lon"
          ],
          "file_chunk_sizes": [
           1,
           360,
           720
          ],
          "file_dimensions": [
           "time",
           "lat",
           "lon"
          ],
          "fill_value": -999,
          "long_name": "top of atmosphere upwelling thermal radiation mid-level clouds",
          "orig_data_type": "float32",
          "scale_factor": 1,
          "shape": [
           415,
           360,
           720
          ],
          "size": 107568000,
          "standard_name": "toa_outgoing_longwave_flux",
          "units": "W m-2",
          "valid_max": 1500,
          "valid_min": 0
         },
         "dims": [
          "time",
          "lat",
          "lon"
         ],
         "dtype": "float32",
         "name": "toa_lwup_mid"
        },
        "toa_swdn": {
         "attrs": {
          "add_offset": 0,
          "chunk_sizes": [
           1,
           360,
           720
          ],
          "data_type": "float32",
          "dimensions": [
           "time",
           "lat",
           "lon"
          ],
          "file_chunk_sizes": [
           1,
           360,
           720
          ],
          "file_dimensions": [
           "time",
           "lat",
           "lon"
          ],
          "fill_value": -999,
          "long_name": "top of atmosphere downwelling solar radiation",
          "orig_data_type": "float32",
          "scale_factor": 1,
          "shape": [
           415,
           360,
           720
          ],
          "size": 107568000,
          "standard_name": "toa_downwelling_shortwave_flux",
          "units": "W m-2",
          "valid_max": 1500,
          "valid_min": 0
         },
         "dims": [
          "time",
          "lat",
          "lon"
         ],
         "dtype": "float32",
         "name": "toa_swdn"
        },
        "toa_swup": {
         "attrs": {
          "add_offset": 0,
          "chunk_sizes": [
           1,
           360,
           720
          ],
          "data_type": "float32",
          "dimensions": [
           "time",
           "lat",
           "lon"
          ],
          "file_chunk_sizes": [
           1,
           360,
           720
          ],
          "file_dimensions": [
           "time",
           "lat",
           "lon"
          ],
          "fill_value": -999,
          "long_name": "top of atmosphere upwelling solar radiation",
          "orig_data_type": "float32",
          "scale_factor": 1,
          "shape": [
           415,
           360,
           720
          ],
          "size": 107568000,
          "standard_name": "toa_outgoing_shortwave_flux",
          "units": "W m-2",
          "valid_max": 1500,
          "valid_min": 0
         },
         "dims": [
          "time",
          "lat",
          "lon"
         ],
         "dtype": "float32",
         "name": "toa_swup"
        },
        "toa_swup_clr": {
         "attrs": {
          "add_offset": 0,
          "chunk_sizes": [
           1,
           360,
           720
          ],
          "data_type": "float32",
          "dimensions": [
           "time",
           "lat",
           "lon"
          ],
          "file_chunk_sizes": [
           1,
           360,
           720
          ],
          "file_dimensions": [
           "time",
           "lat",
           "lon"
          ],
          "fill_value": -999,
          "long_name": "top of atmosphere upwelling solar radiation",
          "orig_data_type": "float32",
          "scale_factor": 1,
          "shape": [
           415,
           360,
           720
          ],
          "size": 107568000,
          "standard_name": "toa_outgoing_shortwave_flux_assuming_clear_sky",
          "units": "W m-2",
          "valid_max": 1500,
          "valid_min": 0
         },
         "dims": [
          "time",
          "lat",
          "lon"
         ],
         "dtype": "float32",
         "name": "toa_swup_clr"
        },
        "toa_swup_hig": {
         "attrs": {
          "add_offset": 0,
          "chunk_sizes": [
           1,
           360,
           720
          ],
          "data_type": "float32",
          "dimensions": [
           "time",
           "lat",
           "lon"
          ],
          "file_chunk_sizes": [
           1,
           360,
           720
          ],
          "file_dimensions": [
           "time",
           "lat",
           "lon"
          ],
          "fill_value": -999,
          "long_name": "top of atmosphere upwelling solar radiation high clouds",
          "orig_data_type": "float32",
          "scale_factor": 1,
          "shape": [
           415,
           360,
           720
          ],
          "size": 107568000,
          "standard_name": "toa_outgoing_shortwave_flux",
          "units": "W m-2",
          "valid_max": 1500,
          "valid_min": 0
         },
         "dims": [
          "time",
          "lat",
          "lon"
         ],
         "dtype": "float32",
         "name": "toa_swup_hig"
        },
        "toa_swup_low": {
         "attrs": {
          "add_offset": 0,
          "chunk_sizes": [
           1,
           360,
           720
          ],
          "data_type": "float32",
          "dimensions": [
           "time",
           "lat",
           "lon"
          ],
          "file_chunk_sizes": [
           1,
           360,
           720
          ],
          "file_dimensions": [
           "time",
           "lat",
           "lon"
          ],
          "fill_value": -999,
          "long_name": "top of atmosphere upwelling solar radiation low clouds",
          "orig_data_type": "float32",
          "scale_factor": 1,
          "shape": [
           415,
           360,
           720
          ],
          "size": 107568000,
          "standard_name": "toa_outgoing_shortwave_flux",
          "units": "W m-2",
          "valid_max": 1500,
          "valid_min": 0
         },
         "dims": [
          "time",
          "lat",
          "lon"
         ],
         "dtype": "float32",
         "name": "toa_swup_low"
        },
        "toa_swup_mid": {
         "attrs": {
          "add_offset": 0,
          "chunk_sizes": [
           1,
           360,
           720
          ],
          "data_type": "float32",
          "dimensions": [
           "time",
           "lat",
           "lon"
          ],
          "file_chunk_sizes": [
           1,
           360,
           720
          ],
          "file_dimensions": [
           "time",
           "lat",
           "lon"
          ],
          "fill_value": -999,
          "long_name": "top of atmosphere upwelling solar radiation mid-level clouds",
          "orig_data_type": "float32",
          "scale_factor": 1,
          "shape": [
           415,
           360,
           720
          ],
          "size": 107568000,
          "standard_name": "toa_outgoing_shortwave_flux",
          "units": "W m-2",
          "valid_max": 1500,
          "valid_min": 0
         },
         "dims": [
          "time",
          "lat",
          "lon"
         ],
         "dtype": "float32",
         "name": "toa_swup_mid"
        }
       },
       "dims": {
        "hist1d_cer_bin_border": 12,
        "hist1d_cer_bin_centre": 11,
        "hist1d_cla_vis006_bin_border": 14,
        "hist1d_cla_vis006_bin_centre": 13,
        "hist1d_cla_vis008_bin_border": 14,
        "hist1d_cla_vis008_bin_centre": 13,
        "hist1d_cot_bin_border": 15,
        "hist1d_cot_bin_centre": 14,
        "hist1d_ctp_bin_border": 16,
        "hist1d_ctp_bin_centre": 15,
        "hist1d_ctt_bin_border": 17,
        "hist1d_ctt_bin_centre": 16,
        "hist1d_cwp_bin_border": 15,
        "hist1d_cwp_bin_centre": 14,
        "hist2d_cot_bin_border": 14,
        "hist2d_cot_bin_centre": 13,
        "hist2d_ctp_bin_border": 16,
        "hist2d_ctp_bin_centre": 15,
        "hist_phase": 2,
        "lat": 360,
        "lon": 720,
        "time": 415
       },
       "open_params_schema": {
        "additionalProperties": false,
        "properties": {
         "bbox": {
          "items": [
           {
            "maximum": 180,
            "minimum": -180,
            "type": "number"
           },
           {
            "maximum": 90,
            "minimum": -90,
            "type": "number"
           },
           {
            "maximum": 180,
            "minimum": -180,
            "type": "number"
           },
           {
            "maximum": 90,
            "minimum": -90,
            "type": "number"
           }
          ],
          "type": "array"
         },
         "normalize_data": {
          "default": true,
          "type": "boolean"
         },
         "time_range": {
          "items": [
           {
            "format": "date",
            "maxDate": "2016-12-31",
            "minDate": "1982-01-01",
            "type": "string"
           },
           {
            "format": "date",
            "maxDate": "2016-12-31",
            "minDate": "1982-01-01",
            "type": "string"
           }
          ],
          "type": "array"
         },
         "variable_names": {
          "items": {
           "enum": [
            "nobs",
            "nobs_day",
            "nobs_clear_day",
            "nobs_cloudy_day",
            "nobs_clear_night",
            "nobs_cloudy_night",
            "nobs_clear_twl",
            "nobs_cloudy_twl",
            "nobs_cloudy",
            "nretr_clear",
            "nretr_cloudy",
            "nretr_cloudy_liq",
            "nretr_cloudy_ice",
            "nretr_cloudy_day",
            "nretr_cloudy_day_liq",
            "nretr_cloudy_day_ice",
            "nretr_cloudy_low",
            "nretr_cloudy_mid",
            "nretr_cloudy_high",
            "cfc",
            "cfc_std",
            "cfc_prop_unc",
            "cfc_corr_unc",
            "cfc_unc",
            "cfc_low",
            "cfc_mid",
            "cfc_high",
            "cfc_day",
            "cfc_night",
            "cfc_twl",
            "ctt",
            "ctt_std",
            "ctt_prop_unc",
            "ctt_corr_unc",
            "ctt_unc",
            "ctt_corrected",
            "ctt_corrected_std",
            "ctt_corrected_prop_unc",
            "ctt_corrected_corr_unc",
            "ctt_corrected_unc",
            "stemp_cloudy",
            "stemp_cloudy_std",
            "stemp_cloudy_prop_unc",
            "stemp_cloudy_corr_unc",
            "stemp_cloudy_unc",
            "stemp_clear",
            "stemp_clear_std",
            "stemp_clear_prop_unc",
            "stemp_clear_corr_unc",
            "stemp_clear_unc",
            "cth",
            "cth_std",
            "cth_prop_unc",
            "cth_corr_unc",
            "cth_unc",
            "cth_corrected",
            "cth_corrected_std",
            "cth_corrected_prop_unc",
            "cth_corrected_corr_unc",
            "cth_corrected_unc",
            "ctp",
            "ctp_std",
            "ctp_prop_unc",
            "ctp_corr_unc",
            "ctp_unc",
            "ctp_log",
            "ctp_corrected",
            "ctp_corrected_std",
            "ctp_corrected_prop_unc",
            "ctp_corrected_corr_unc",
            "ctp_corrected_unc",
            "cph",
            "cph_std",
            "cph_prop_unc",
            "cph_corr_unc",
            "cph_unc",
            "cph_day",
            "cph_day_std",
            "cph_day_prop_unc",
            "cph_day_corr_unc",
            "cph_day_unc",
            "cer",
            "cer_std",
            "cer_prop_unc",
            "cer_corr_unc",
            "cer_unc",
            "cot",
            "cot_log",
            "cot_std",
            "cot_prop_unc",
            "cot_corr_unc",
            "cot_unc",
            "toa_swup",
            "toa_swdn",
            "toa_swup_clr",
            "toa_lwup",
            "toa_lwup_clr",
            "toa_swup_low",
            "toa_swup_mid",
            "toa_swup_hig",
            "toa_lwup_low",
            "toa_lwup_mid",
            "toa_lwup_hig",
            "boa_swup",
            "boa_swup_clr",
            "boa_lwup",
            "boa_lwup_clr",
            "boa_swdn",
            "boa_swdn_clr",
            "boa_lwdn",
            "boa_lwdn_clr",
            "boa_par_dif",
            "boa_par_tot",
            "cee",
            "cee_std",
            "cee_prop_unc",
            "cee_corr_unc",
            "cee_unc",
            "cla_vis006",
            "cla_vis006_std",
            "cla_vis006_prop_unc",
            "cla_vis006_corr_unc",
            "cla_vis006_unc",
            "cla_vis006_liq",
            "cla_vis006_liq_std",
            "cla_vis006_liq_unc",
            "cla_vis006_ice",
            "cla_vis006_ice_std",
            "cla_vis006_ice_unc",
            "cla_vis008",
            "cla_vis008_std",
            "cla_vis008_prop_unc",
            "cla_vis008_corr_unc",
            "cla_vis008_unc",
            "cla_vis008_liq",
            "cla_vis008_liq_std",
            "cla_vis008_liq_unc",
            "cla_vis008_ice",
            "cla_vis008_ice_std",
            "cla_vis008_ice_unc",
            "lwp",
            "lwp_std",
            "lwp_prop_unc",
            "lwp_corr_unc",
            "lwp_unc",
            "lwp_allsky",
            "iwp",
            "iwp_std",
            "iwp_prop_unc",
            "iwp_corr_unc",
            "iwp_unc",
            "iwp_allsky",
            "cer_liq",
            "cer_liq_std",
            "cer_liq_prop_unc",
            "cer_liq_corr_unc",
            "cer_liq_unc",
            "cer_ice",
            "cer_ice_std",
            "cer_ice_prop_unc",
            "cer_ice_corr_unc",
            "cer_ice_unc",
            "cot_liq",
            "cot_liq_std",
            "cot_liq_prop_unc",
            "cot_liq_corr_unc",
            "cot_liq_unc",
            "cot_ice",
            "cot_ice_std",
            "cot_ice_prop_unc",
            "cot_ice_corr_unc",
            "cot_ice_unc",
            "hist2d_cot_ctp",
            "hist1d_cot",
            "hist1d_ctp",
            "hist1d_ctt",
            "hist1d_cer",
            "hist1d_cwp",
            "hist1d_cla_vis006",
            "hist1d_cla_vis008"
           ],
           "type": "string"
          },
          "type": "array"
         }
        },
        "type": "object"
       },
       "spatial_res": 0.5,
       "time_period": "1M",
       "time_range": [
        "1982-01-01",
        "2016-12-31"
       ]
      },
      "text/plain": [
       "<xcube.core.store.descriptor.DatasetDescriptor at 0x7f238c1ceb40>"
      ]
     },
     "execution_count": 4,
     "metadata": {},
     "output_type": "execute_result"
    }
   ],
   "source": [
    "cci_store.describe_data(data_id)"
   ]
  },
  {
   "cell_type": "markdown",
   "id": "c4fd984c-0028-418a-8d9f-37dae390c869",
   "metadata": {},
   "source": [
    "### Step 5: Check Open Parameters for the Dataset\n",
    "\n",
    "Before opening the dataset, we can inspect which parameters are supported by the **Zarr opener** (e.g., `time_range`, `bbox`, `variable_names`). This step helps ensure that we pass valid arguments when loading data and avoid errors.\n",
    "\n",
    "The command below lists all expected input parameters and their allowed values for the selected dataset."
   ]
  },
  {
   "cell_type": "code",
   "execution_count": 5,
   "id": "a0ee1118-47e2-47c4-9401-1bb069776fdc",
   "metadata": {},
   "outputs": [
    {
     "data": {
      "application/json": {
       "additionalProperties": false,
       "properties": {
        "bbox": {
         "items": [
          {
           "maximum": 180,
           "minimum": -180,
           "type": "number"
          },
          {
           "maximum": 90,
           "minimum": -90,
           "type": "number"
          },
          {
           "maximum": 180,
           "minimum": -180,
           "type": "number"
          },
          {
           "maximum": 90,
           "minimum": -90,
           "type": "number"
          }
         ],
         "type": "array"
        },
        "normalize_data": {
         "default": true,
         "type": "boolean"
        },
        "time_range": {
         "items": [
          {
           "format": "date",
           "maxDate": "2016-12-31",
           "minDate": "1982-01-01",
           "type": "string"
          },
          {
           "format": "date",
           "maxDate": "2016-12-31",
           "minDate": "1982-01-01",
           "type": "string"
          }
         ],
         "type": "array"
        },
        "variable_names": {
         "items": {
          "enum": [
           "nobs",
           "nobs_day",
           "nobs_clear_day",
           "nobs_cloudy_day",
           "nobs_clear_night",
           "nobs_cloudy_night",
           "nobs_clear_twl",
           "nobs_cloudy_twl",
           "nobs_cloudy",
           "nretr_clear",
           "nretr_cloudy",
           "nretr_cloudy_liq",
           "nretr_cloudy_ice",
           "nretr_cloudy_day",
           "nretr_cloudy_day_liq",
           "nretr_cloudy_day_ice",
           "nretr_cloudy_low",
           "nretr_cloudy_mid",
           "nretr_cloudy_high",
           "cfc",
           "cfc_std",
           "cfc_prop_unc",
           "cfc_corr_unc",
           "cfc_unc",
           "cfc_low",
           "cfc_mid",
           "cfc_high",
           "cfc_day",
           "cfc_night",
           "cfc_twl",
           "ctt",
           "ctt_std",
           "ctt_prop_unc",
           "ctt_corr_unc",
           "ctt_unc",
           "ctt_corrected",
           "ctt_corrected_std",
           "ctt_corrected_prop_unc",
           "ctt_corrected_corr_unc",
           "ctt_corrected_unc",
           "stemp_cloudy",
           "stemp_cloudy_std",
           "stemp_cloudy_prop_unc",
           "stemp_cloudy_corr_unc",
           "stemp_cloudy_unc",
           "stemp_clear",
           "stemp_clear_std",
           "stemp_clear_prop_unc",
           "stemp_clear_corr_unc",
           "stemp_clear_unc",
           "cth",
           "cth_std",
           "cth_prop_unc",
           "cth_corr_unc",
           "cth_unc",
           "cth_corrected",
           "cth_corrected_std",
           "cth_corrected_prop_unc",
           "cth_corrected_corr_unc",
           "cth_corrected_unc",
           "ctp",
           "ctp_std",
           "ctp_prop_unc",
           "ctp_corr_unc",
           "ctp_unc",
           "ctp_log",
           "ctp_corrected",
           "ctp_corrected_std",
           "ctp_corrected_prop_unc",
           "ctp_corrected_corr_unc",
           "ctp_corrected_unc",
           "cph",
           "cph_std",
           "cph_prop_unc",
           "cph_corr_unc",
           "cph_unc",
           "cph_day",
           "cph_day_std",
           "cph_day_prop_unc",
           "cph_day_corr_unc",
           "cph_day_unc",
           "cer",
           "cer_std",
           "cer_prop_unc",
           "cer_corr_unc",
           "cer_unc",
           "cot",
           "cot_log",
           "cot_std",
           "cot_prop_unc",
           "cot_corr_unc",
           "cot_unc",
           "toa_swup",
           "toa_swdn",
           "toa_swup_clr",
           "toa_lwup",
           "toa_lwup_clr",
           "toa_swup_low",
           "toa_swup_mid",
           "toa_swup_hig",
           "toa_lwup_low",
           "toa_lwup_mid",
           "toa_lwup_hig",
           "boa_swup",
           "boa_swup_clr",
           "boa_lwup",
           "boa_lwup_clr",
           "boa_swdn",
           "boa_swdn_clr",
           "boa_lwdn",
           "boa_lwdn_clr",
           "boa_par_dif",
           "boa_par_tot",
           "cee",
           "cee_std",
           "cee_prop_unc",
           "cee_corr_unc",
           "cee_unc",
           "cla_vis006",
           "cla_vis006_std",
           "cla_vis006_prop_unc",
           "cla_vis006_corr_unc",
           "cla_vis006_unc",
           "cla_vis006_liq",
           "cla_vis006_liq_std",
           "cla_vis006_liq_unc",
           "cla_vis006_ice",
           "cla_vis006_ice_std",
           "cla_vis006_ice_unc",
           "cla_vis008",
           "cla_vis008_std",
           "cla_vis008_prop_unc",
           "cla_vis008_corr_unc",
           "cla_vis008_unc",
           "cla_vis008_liq",
           "cla_vis008_liq_std",
           "cla_vis008_liq_unc",
           "cla_vis008_ice",
           "cla_vis008_ice_std",
           "cla_vis008_ice_unc",
           "lwp",
           "lwp_std",
           "lwp_prop_unc",
           "lwp_corr_unc",
           "lwp_unc",
           "lwp_allsky",
           "iwp",
           "iwp_std",
           "iwp_prop_unc",
           "iwp_corr_unc",
           "iwp_unc",
           "iwp_allsky",
           "cer_liq",
           "cer_liq_std",
           "cer_liq_prop_unc",
           "cer_liq_corr_unc",
           "cer_liq_unc",
           "cer_ice",
           "cer_ice_std",
           "cer_ice_prop_unc",
           "cer_ice_corr_unc",
           "cer_ice_unc",
           "cot_liq",
           "cot_liq_std",
           "cot_liq_prop_unc",
           "cot_liq_corr_unc",
           "cot_liq_unc",
           "cot_ice",
           "cot_ice_std",
           "cot_ice_prop_unc",
           "cot_ice_corr_unc",
           "cot_ice_unc",
           "hist2d_cot_ctp",
           "hist1d_cot",
           "hist1d_ctp",
           "hist1d_ctt",
           "hist1d_cer",
           "hist1d_cwp",
           "hist1d_cla_vis006",
           "hist1d_cla_vis008"
          ],
          "type": "string"
         },
         "type": "array"
        }
       },
       "type": "object"
      },
      "text/plain": [
       "<xcube.util.jsonschema.JsonObjectSchema at 0x7f230f6a5d30>"
      ]
     },
     "execution_count": 5,
     "metadata": {},
     "output_type": "execute_result"
    }
   ],
   "source": [
    "cci_store.get_open_data_params_schema(data_id=data_id, opener_id='dataset:zarr:cciodp')"
   ]
  },
  {
   "cell_type": "markdown",
   "id": "63e58869-eac7-4f36-823c-8eaab9df7380",
   "metadata": {},
   "source": [
    "### Step 6: Define Region, Time Range, and Variables of Interest\n",
    "\n",
    "Before opening the dataset, we define a few key parameters:\n",
    "\n",
    "- **Time range**: the date(s) we want to load\n",
    "- **Variables**: which data variable(s) to retrieve\n",
    "- *(Optional)* **Bounding box**: spatial region of interest — here we skip it to load the global dataset"
   ]
  },
  {
   "cell_type": "code",
   "execution_count": 6,
   "id": "8a2be689-288c-4fb5-abe9-99b4b84eef07",
   "metadata": {},
   "outputs": [],
   "source": [
    "variables = ['cfc']  # Variable to retrieve\n",
    "start_date = '2016-06-21'    # Start and end date (same for a single timestep)\n",
    "end_date = '2016-06-21'\n",
    "# bbox = (-10.0, 35.0, 30.0, 60.0)  # Optional: restrict to a region like Europe"
   ]
  },
  {
   "cell_type": "markdown",
   "id": "14f9e524-ff7f-47e7-af2c-0e8ac2e3d668",
   "metadata": {},
   "source": [
    "### Step 7: Open the Dataset\n",
    "\n",
    "Now we open the dataset using the selected parameters.  \n",
    "The ESA Climate Toolbox will download only the necessary data (e.g., variable and time range).\n",
    "You can always adjust the time range or variables to explore different slices of the dataset."
   ]
  },
  {
   "cell_type": "code",
   "execution_count": 7,
   "id": "145b10bc-68b4-4645-a4a8-761965cb6098",
   "metadata": {},
   "outputs": [],
   "source": [
    "cloud_ds = cci_store.open_data(\n",
    "    data_id=data_id,\n",
    "    variable_names=variables,\n",
    "    time_range=[start_date, end_date]\n",
    "    # bbox=bbox  # Uncomment if regional selection is needed\n",
    ")"
   ]
  },
  {
   "cell_type": "markdown",
   "id": "26aeedd6-d471-4056-ae4e-3057d7221cc3",
   "metadata": {},
   "source": [
    "### Step 8: Display Dataset Structure\n",
    "\n",
    "We print a summary of the opened dataset to inspect its structure, dimensions, variables, and metadata.  \n",
    "This helps verify that the data was loaded correctly and shows what is available for analysis and visualization.\n",
    "This step is useful to understand what the dataset contains before working with it further."
   ]
  },
  {
   "cell_type": "code",
   "execution_count": 8,
   "id": "192daaeb-241a-4fba-956f-3e7ac8cb04b5",
   "metadata": {},
   "outputs": [
    {
     "name": "stdout",
     "output_type": "stream",
     "text": [
      "\n",
      "Opened Dataset:\n",
      " <xarray.Dataset> Size: 2MB\n",
      "Dimensions:                       (time: 1, lat: 360, lon: 720,\n",
      "                                   hist1d_cer_bin_border: 12,\n",
      "                                   hist1d_cer_bin_centre: 11,\n",
      "                                   hist1d_cla_vis006_bin_border: 14,\n",
      "                                   hist1d_cla_vis006_bin_centre: 13,\n",
      "                                   hist1d_cla_vis008_bin_border: 14,\n",
      "                                   ...\n",
      "                                   hist1d_cwp_bin_centre: 14,\n",
      "                                   hist2d_cot_bin_border: 14,\n",
      "                                   hist2d_cot_bin_centre: 13,\n",
      "                                   hist2d_ctp_bin_border: 16,\n",
      "                                   hist2d_ctp_bin_centre: 15, hist_phase: 2,\n",
      "                                   bnds: 2)\n",
      "Coordinates: (12/23)\n",
      "  * hist1d_cer_bin_border         (hist1d_cer_bin_border) float32 48B 0.0 ......\n",
      "  * hist1d_cer_bin_centre         (hist1d_cer_bin_centre) float32 44B 1.5 ......\n",
      "  * hist1d_cla_vis006_bin_border  (hist1d_cla_vis006_bin_border) float32 56B ...\n",
      "  * hist1d_cla_vis006_bin_centre  (hist1d_cla_vis006_bin_centre) float32 52B ...\n",
      "  * hist1d_cla_vis008_bin_border  (hist1d_cla_vis008_bin_border) float32 56B ...\n",
      "  * hist1d_cla_vis008_bin_centre  (hist1d_cla_vis008_bin_centre) float32 52B ...\n",
      "    ...                            ...\n",
      "  * hist2d_ctp_bin_centre         (hist2d_ctp_bin_centre) float32 60B 45.5 .....\n",
      "  * hist_phase                    (hist_phase) int8 2B 0 1\n",
      "  * lat                           (lat) float32 1kB -89.75 -89.25 ... 89.75\n",
      "  * lon                           (lon) float32 3kB -179.8 -179.2 ... 179.8\n",
      "  * time                          (time) datetime64[ns] 8B 2016-06-16\n",
      "    time_bnds                     (time, bnds) datetime64[ns] 16B dask.array<chunksize=(1, 2), meta=np.ndarray>\n",
      "Dimensions without coordinates: bnds\n",
      "Data variables:\n",
      "    cfc                           (time, lat, lon) float64 2MB dask.array<chunksize=(1, 360, 720), meta=np.ndarray>\n",
      "Attributes:\n",
      "    Conventions:             CF-1.7\n",
      "    title:                   esacci.CLOUD.mon.L3C.CLD_PRODUCTS.multi-sensor.m...\n",
      "    date_created:            2025-04-16T11:18:46.576835\n",
      "    processing_level:        L3C\n",
      "    time_coverage_start:     2016-06-01T00:00:00\n",
      "    time_coverage_end:       2016-07-01T00:00:00\n",
      "    time_coverage_duration:  P30DT0H0M0S\n",
      "    history:                 [{'program': 'xcube_cci.chunkstore.CciChunkStore...\n"
     ]
    }
   ],
   "source": [
    "print(\"\\nOpened Dataset:\\n\", cloud_ds)"
   ]
  },
  {
   "cell_type": "markdown",
   "id": "7671aca3-81d9-472a-a93f-12d447155676",
   "metadata": {},
   "source": [
    "### Step 9: Visualize Results\n",
    "\n",
    "We now create a simple map plot of the selected variable.  \n",
    "This allows us to explore the spatial patterns of the data — in this case, the Aerosol Optical Depth (AOD) for the selected day.\n",
    "For more interactive and advanced visualizations, check out the [ESA Climate Toolbox](https://climate.esa.int/en/data/toolbox/) or the [Toolbox documentation](https://esa-climate-toolbox.readthedocs.io/en/latest/quick_start.html#jupyter-notebooks)."
   ]
  },
  {
   "cell_type": "code",
   "execution_count": 9,
   "id": "65ec997b-a0e8-40d7-8aa9-737a3ac2ec0d",
   "metadata": {
    "scrolled": true
   },
   "outputs": [
    {
     "data": {
      "image/png": "[encoded data removed]",
      "text/plain": [
       "<Figure size 1000x500 with 2 Axes>"
      ]
     },
     "metadata": {},
     "output_type": "display_data"
    }
   ],
   "source": [
    "import matplotlib.pyplot as plt\n",
    "\n",
    "# Select the cloud fraction data at the available time (e.g. first and only time slice)\n",
    "cfc = cloud_ds[\"cfc\"].isel(time=0)\n",
    "\n",
    "# Plot\n",
    "plt.figure(figsize=(10, 5))\n",
    "cfc.plot(\n",
    "    cmap=\"Blues_r\",  # reverse blues\n",
    "    cbar_kwargs={\"label\": \"Cloud Fraction (0-1)\"}\n",
    ")\n",
    "plt.title(\"Cloud Fraction – June 2016 (Cloud CCI)\")\n",
    "plt.xlabel(\"Longitude\")\n",
    "plt.ylabel(\"Latitude\")\n",
    "plt.tight_layout()\n",
    "plt.show()"
   ]
  }
 ],
 "metadata": {
  "kernelspec": {
   "display_name": "Python 3 (ipykernel)",
   "language": "python",
   "name": "python3"
  },
  "language_info": {
   "codemirror_mode": {
    "name": "ipython",
    "version": 3
   },
   "file_extension": ".py",
   "mimetype": "text/x-python",
   "name": "python",
   "nbconvert_exporter": "python",
   "pygments_lexer": "ipython3",
   "version": "3.12.7"
  }
 },
 "nbformat": 4,
 "nbformat_minor": 5
}
