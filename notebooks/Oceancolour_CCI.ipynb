{
 "cells": [
  {
   "cell_type": "markdown",
   "id": "ab36065c-42b2-4539-94b5-c1e048a0e8b4",
   "metadata": {},
   "source": [
    "# Getting Started with Ocean Colour CCI Data"
   ]
  },
  {
   "cell_type": "markdown",
   "id": "7820f8bc-21f0-4933-8972-0b19f268532e",
   "metadata": {},
   "source": [
    "### 1. Import Necessary Packages\n",
    "\n",
    "In this section, we import the required Python packages to work with ESA Climate Change Initiative (CCI) data. Most notably, we use the [ESA Climate Toolbox](https://esa-climate-toolbox.readthedocs.io/en/latest/) which simplifies access, manipulation, and visualization of CCI datasets in Python.\n",
    "\n",
    "These packages allow us to:\n",
    "- Access satellite-based climate data records from ESA.\n",
    "- Handle geospatial and temporal dimensions efficiently.\n",
    "- Visualize data with intuitive plotting tools.\n",
    "\n",
    "📚 For a broader introduction to the toolbox and how to install it, visit:  \n",
    "🔗 [ESA CCI Climate Toolbox Quick Start](https://esa-climate-toolbox.readthedocs.io/en/latest/quick_start.html#jupyter-notebooks)  \n",
    "🔗 [ESA Climate Data Toolbox Website](https://climate.esa.int/en/data/toolbox/)"
   ]
  },
  {
   "cell_type": "code",
   "execution_count": 1,
   "id": "f05b0d63-ff02-41f8-9070-f0d9c44d9a3c",
   "metadata": {},
   "outputs": [],
   "source": [
    "from xcube.core.store import new_data_store\n",
    "from esa_climate_toolbox.core import get_op\n",
    "from esa_climate_toolbox.core import list_ecv_datasets\n",
    "from esa_climate_toolbox.core import get_store\n",
    "from esa_climate_toolbox.core import list_datasets\n",
    "from esa_climate_toolbox.ops import plot\n",
    "import xarray as xr\n",
    "import matplotlib.pyplot as plt\n",
    "import warnings\n",
    "%matplotlib inline"
   ]
  },
  {
   "cell_type": "markdown",
   "id": "a2f223ea-569a-4c84-8266-8572f861f3ed",
   "metadata": {},
   "source": [
    "### Step 2: Connect to the ESA CCI Data Store\n",
    "\n",
    "The ESA Climate Toolbox provides direct access to the **ESA Climate Data Store**, which hosts harmonized satellite-based climate data records produced under the **ESA Climate Change Initiative (CCI)**.\n",
    "\n",
    "In this step, we establish a connection to the data store so we can browse and open datasets. This connection allows us to access data **without having to download files manually** — a convenient way to explore and analyze large geospatial datasets in cloud-friendly formats such as **Zarr** or **Kerchunk**.\n",
    "\n",
    "The data store includes a wide range of essential climate variables (ECVs), such as aerosols, land surface temperature, sea level, and soil moisture.\n",
    "\n",
    "📘 Learn more about available datasets:  \n",
    "🔗 [ESA Climate Data Toolbox – Quick Start Guide](https://esa-climate-toolbox.readthedocs.io/en/latest/quick_start.html#data-access)"
   ]
  },
  {
   "cell_type": "code",
   "execution_count": 2,
   "id": "94164c99-2ef2-48d7-b098-6e136ee861af",
   "metadata": {},
   "outputs": [],
   "source": [
    "cci_store = new_data_store(\"esa-cci\")\n",
    "# List all available data sets of an ECV\n",
    "# list_ecv_datasets(\"OC\")"
   ]
  },
  {
   "cell_type": "markdown",
   "id": "d736f1da-a755-4df7-864a-5f14f988159f",
   "metadata": {},
   "source": [
    "### Step 3: Define the Dataset ID  \n",
    "To work with a specific ESA CCI dataset, we need to specify its **dataset ID**. This unique identifier tells the toolbox which variable and product we want to access.\n",
    "\n",
    "In this example, we are using a dataset providing **Chlorophyll-a concentration** from multiple satellite sensors. Chlorophyll-a is a key indicator of phytoplankton biomass and ocean biological productivity — essential for monitoring ocean health and understanding the global carbon cycle.\n",
    "\n",
    "To explore other ESA CCI projects (e.g., Soil Moisture, Snow, Sea Level), simply replace the dataset ID and variable name accordingly.\n",
    "\n",
    "We will use the following dataset ID:"
   ]
  },
  {
   "cell_type": "code",
   "execution_count": 3,
   "id": "7672a7f4-be9a-4b8f-a888-93d31647d5b4",
   "metadata": {},
   "outputs": [],
   "source": [
    "data_id = 'esacci.OC.mon.L3S.OC_PRODUCTS.multi-sensor.multi-platform.MERGED.6-0.geographic'"
   ]
  },
  {
   "cell_type": "markdown",
   "id": "817922fd-a86b-4cee-ab9b-5a042692be42",
   "metadata": {},
   "source": [
    "📘 A full list of dataset IDs can be retrieved from the store or found in the [ESA CCI Climate Toolbox documentation](https://esa-climate-toolbox.readthedocs.io/en/latest/quick_start.html#accessing-data)."
   ]
  },
  {
   "cell_type": "markdown",
   "id": "b1e9d068-a81b-4d00-91cb-cc020bd5333a",
   "metadata": {},
   "source": [
    "### Step 4: Describe Dataset (Check Available Variables and Metadata)\n",
    "\n",
    "Before loading the full dataset, it’s helpful to **inspect the metadata** to understand its structure. This includes:\n",
    "\n",
    "- Available variables (e.g., AOD, uncertainty estimates)\n",
    "- Temporal and spatial coverage\n",
    "- Data format and structure\n",
    "\n",
    "This step ensures we know what the dataset contains and how to work with it. It also helps confirm that the variable we want to plot or analyze is actually included.\n",
    "\n",
    "🛠️ Tip: You can use the description to verify variable names, dimensions (e.g., `lat`, `lon`, `time`), and time coverage.\n",
    "\n",
    "📘 More on dataset structure:  \n",
    "🔗 [ESA Climate Toolbox – Data Access](https://esa-climate-toolbox.readthedocs.io/en/latest/quick_start.html#accessing-data)"
   ]
  },
  {
   "cell_type": "code",
   "execution_count": 4,
   "id": "1ccb7546-70f0-479d-bb0a-d902190500af",
   "metadata": {},
   "outputs": [
    {
     "data": {
      "application/json": {
       "attrs": {
        "abstract": "The ESA Ocean Colour CCI project has produced global, level 3, binned multi-sensor time-series of satellite ocean-colour data with a particular focus for use in climate studies.\n\nThis dataset contains all their Version 6.0 generated ocean colour products on a geographic projection at 4 km spatial resolution and at a number of time resolutions (daily, 5-day, 8-day, monthly and yearly composites) covering the period 1997 - 2022.  Data are also available as monthly climatologies.\n\nData products being produced include: phytoplankton chlorophyll-a concentration; remote-sensing reflectance at six wavelengths; total absorption and backscattering coefficients; phytoplankton absorption coefficient and absorption coefficients for dissolved and detrital material; and the diffuse attenuation coefficient for downwelling irradiance for light of wavelength 490nm. Information on uncertainties is also provided.\n\nThis data product is on a geographic grid projection, which is a direct conversion of latitude and longitude coordinates to a rectangular grid, typically a fixed multiplier of 360x180. The netCDF files follow the CF convention for this projection with a resolution of 8640x4320. (A separate dataset is also available for data on a sinusoidal projection.)",
        "catalog_url": "https://catalogue.ceda.ac.uk/uuid/0875b4675f1e46ebadb526e0b95505c5",
        "cci_project": "OC",
        "comment": "See summary attribute",
        "data_type": "OC_PRODUCTS",
        "ecv": "OC",
        "history": "Source data were: ESACCI-OC-L3S-OC_PRODUCTS-MERGED-1D_DAILY_4km_GEO_PML_OCx_QAA-19971101-fv6.0.nc, ESACCI-OC-L3S-OC_PRODUCTS-MERGED-1D_DAILY_4km_GEO_PML_OCx_QAA-19971102-fv6.0.nc, ESACCI-OC-L3S-OC_PRODUCTS-MERGED-1D_DAILY_4km_GEO_PML_OCx_QAA-19971103-fv6.0.nc, ESACCI-OC-L3S-OC_PRODUCTS-MERGED-1D_DAILY_4km_GEO_PML_OCx_QAA-19971104-fv6.0.nc, ESACCI-OC-L3S-OC_PRODUCTS-MERGED-1D_DAILY_4km_GEO_PML_OCx_QAA-19971105-fv6.0.nc, ESACCI-OC-L3S-OC_PRODUCTS-MERGED-1D_DAILY_4km_GEO_PML_OCx_QAA-19971106-fv6.0.nc, ESACCI-OC-L3S-OC_PRODUCTS-MERGED-1D_DAILY_4km_GEO_PML_OCx_QAA-19971107-fv6.0.nc, ESACCI-OC-L3S-OC_PRODUCTS-MERGED-1D_DAILY_4km_GEO_PML_OCx_QAA-19971108-fv6.0.nc, ESACCI-OC-L3S-OC_PRODUCTS-MERGED-1D_DAILY_4km_GEO_PML_OCx_QAA-19971109-fv6.0.nc, ESACCI-OC-L3S-OC_PRODUCTS-MERGED-1D_DAILY_4km_GEO_PML_OCx_QAA-19971110-fv6.0.nc, ESACCI-OC-L3S-OC_PRODUCTS-MERGED-1D_DAILY_4km_GEO_PML_OCx_QAA-19971111-fv6.0.nc, ESACCI-OC-L3S-OC_PRODUCTS-MERGED-1D_DAILY_4km_GEO_PML_OCx_QAA-19971112-fv6.0.nc, ESACCI-OC-L3S-OC_PRODUCTS-MERGED-1D_DAILY_4km_GEO_PML_OCx_QAA-19971113-fv6.0.nc, ESACCI-OC-L3S-OC_PRODUCTS-MERGED-1D_DAILY_4km_GEO_PML_OCx_QAA-19971114-fv6.0.nc, ESACCI-OC-L3S-OC_PRODUCTS-MERGED-1D_DAILY_4km_GEO_PML_OCx_QAA-19971115-fv6.0.nc, ESACCI-OC-L3S-OC_PRODUCTS-MERGED-1D_DAILY_4km_GEO_PML_OCx_QAA-19971116-fv6.0.nc, ESACCI-OC-L3S-OC_PRODUCTS-MERGED-1D_DAILY_4km_GEO_PML_OCx_QAA-19971117-fv6.0.nc, ESACCI-OC-L3S-OC_PRODUCTS-MERGED-1D_DAILY_4km_GEO_PML_OCx_QAA-19971118-fv6.0.nc, ESACCI-OC-L3S-OC_PRODUCTS-MERGED-1D_DAILY_4km_GEO_PML_OCx_QAA-19971119-fv6.0.nc, ESACCI-OC-L3S-OC_PRODUCTS-MERGED-1D_DAILY_4km_GEO_PML_OCx_QAA-19971120-fv6.0.nc, ESACCI-OC-L3S-OC_PRODUCTS-MERGED-1D_DAILY_4km_GEO_PML_OCx_QAA-19971121-fv6.0.nc, ESACCI-OC-L3S-OC_PRODUCTS-MERGED-1D_DAILY_4km_GEO_PML_OCx_QAA-19971122-fv6.0.nc, ESACCI-OC-L3S-OC_PRODUCTS-MERGED-1D_DAILY_4km_GEO_PML_OCx_QAA-19971123-fv6.0.nc, ESACCI-OC-L3S-OC_PRODUCTS-MERGED-1D_DAILY_4km_GEO_PML_OCx_QAA-19971124-fv6.0.nc, ESACCI-OC-L3S-OC_PRODUCTS-MERGED-1D_DAILY_4km_GEO_PML_OCx_QAA-19971125-fv6.0.nc, ESACCI-OC-L3S-OC_PRODUCTS-MERGED-1D_DAILY_4km_GEO_PML_OCx_QAA-19971126-fv6.0.nc, ESACCI-OC-L3S-OC_PRODUCTS-MERGED-1D_DAILY_4km_GEO_PML_OCx_QAA-19971127-fv6.0.nc, ESACCI-OC-L3S-OC_PRODUCTS-MERGED-1D_DAILY_4km_GEO_PML_OCx_QAA-19971128-fv6.0.nc, ESACCI-OC-L3S-OC_PRODUCTS-MERGED-1D_DAILY_4km_GEO_PML_OCx_QAA-19971129-fv6.0.nc, ESACCI-OC-L3S-OC_PRODUCTS-MERGED-1D_DAILY_4km_GEO_PML_OCx_QAA-19971130-fv6.0.nc; netcdf_compositor_cci composites  Rrs_412, Rrs_412_bias, Rrs_443, Rrs_443_bias, Rrs_490, Rrs_490_bias, Rrs_510, Rrs_510_bias, Rrs_560, Rrs_560_bias, Rrs_665, Rrs_665_bias, adg_412, adg_412_bias, adg_443, adg_443_bias, adg_490, adg_490_bias, adg_510, adg_510_bias, adg_560, adg_560_bias, adg_665, adg_665_bias, aph_412, aph_412_bias, aph_443, aph_443_bias, aph_490, aph_490_bias, aph_510, aph_510_bias, aph_560, aph_560_bias, aph_665, aph_665_bias, atot_412, atot_443, atot_490, atot_510, atot_560, atot_665, bbp_412, bbp_443, bbp_490, bbp_510, bbp_560, bbp_665, chlor_a, chlor_a_log10_bias, kd_490, kd_490_bias, water_class1, water_class10, water_class11, water_class12, water_class13, water_class14, water_class2, water_class3, water_class4, water_class5, water_class6, water_class7, water_class8, water_class9 with --mean,  Rrs_412_rmsd, Rrs_443_rmsd, Rrs_490_rmsd, Rrs_510_rmsd, Rrs_560_rmsd, Rrs_665_rmsd, adg_412_rmsd, adg_443_rmsd, adg_490_rmsd, adg_510_rmsd, adg_560_rmsd, adg_665_rmsd, aph_412_rmsd, aph_443_rmsd, aph_490_rmsd, aph_510_rmsd, aph_560_rmsd, aph_665_rmsd, chlor_a_log10_rmsd, kd_490_rmsd with --root-mean-square, and  MERIS_nobs, MODISA_nobs, OLCI-A_nobs, OLCI-B_nobs, SeaWiFS_nobs, VIIRS_nobs, total_nobs - with --total",
        "institute": "Plymouth Marine Laboratory",
        "platform_id": "multi-platform",
        "processing_level": "L3S",
        "product_string": "MERGED",
        "product_version": "6-0",
        "project": "Climate Change Initiative - European Space Agency",
        "publication_date": "2023-08-01T09:28:59",
        "references": "http://www.esa-oceancolour-cci.org/",
        "sensor_id": "multi-sensor",
        "source": "NASA SeaWiFS  L1A and L2 R2018.0 LAC and GAC, MODIS-Aqua L1A and L2 R2018.0, MERIS L1B 4th reprocessing inc OCL corrections, NASA VIIRS L1A and L2 R2018.0, OLCI L1B",
        "title": "ESA Ocean Colour Climate Change Initiative (Ocean_Colour_cci): Global ocean colour data products gridded on a geographic projection (All Products) at 4km resolution, Version 6.0",
        "uuid": "0875b4675f1e46ebadb526e0b95505c5"
       },
       "bbox": [
        -180,
        -90,
        180,
        90
       ],
       "coords": {
        "lat": {
         "attrs": {
          "axis": "Y",
          "chunk_sizes": 270,
          "data_type": "float64",
          "dimensions": [
           "lat"
          ],
          "file_chunk_sizes": 270,
          "file_dimensions": [
           "lat"
          ],
          "fill_value": null,
          "long_name": "latitude",
          "orig_data_type": "float64",
          "shape": [
           4320
          ],
          "size": 4320,
          "standard_name": "latitude",
          "units": "degrees_north",
          "valid_max": 89.97916666666667,
          "valid_min": -89.97916666666666
         },
         "dims": [
          "lat"
         ],
         "dtype": "float64",
         "name": "lat"
        },
        "lon": {
         "attrs": {
          "axis": "X",
          "chunk_sizes": 270,
          "data_type": "float64",
          "dimensions": [
           "lon"
          ],
          "file_chunk_sizes": 270,
          "file_dimensions": [
           "lon"
          ],
          "fill_value": null,
          "long_name": "longitude",
          "orig_data_type": "float64",
          "shape": [
           8640
          ],
          "size": 8640,
          "standard_name": "longitude",
          "units": "degrees_east",
          "valid_max": 179.97916666666663,
          "valid_min": -179.97916666666666
         },
         "dims": [
          "lon"
         ],
         "dtype": "float64",
         "name": "lon"
        },
        "time": {
         "attrs": {
          "axis": "T",
          "chunk_sizes": 1,
          "data_type": "int64",
          "dimensions": [
           "time"
          ],
          "file_chunk_sizes": 1,
          "file_dimensions": [
           "time"
          ],
          "fill_value": 9223372036854776000,
          "orig_data_type": "int32",
          "shape": [
           304
          ],
          "size": 304,
          "standard_name": "time",
          "units": "days since 1970-01-01 00:00:00"
         },
         "dims": [
          "time"
         ],
         "dtype": "int64",
         "name": "time"
        }
       },
       "crs": "OGC:CRS84",
       "data_id": "esacci.OC.mon.L3S.OC_PRODUCTS.multi-sensor.multi-platform.MERGED.6-0.geographic",
       "data_type": "dataset",
       "data_vars": {
        "MERIS_nobs_sum": {
         "attrs": {
          "chunk_sizes": [
           1,
           270,
           270
          ],
          "data_type": "float32",
          "dimensions": [
           "time",
           "lat",
           "lon"
          ],
          "file_chunk_sizes": [
           1,
           270,
           270
          ],
          "file_dimensions": [
           "time",
           "lat",
           "lon"
          ],
          "fill_value": 0,
          "long_name": "Count of the number of observations from the MERIS sensor contributing to this bin cell",
          "number_of_files_composited": 30,
          "orig_data_type": "float32",
          "shape": [
           304,
           4320,
           8640
          ],
          "size": 11346739200
         },
         "dims": [
          "time",
          "lat",
          "lon"
         ],
         "dtype": "float32",
         "name": "MERIS_nobs_sum"
        },
        "MODISA_nobs_sum": {
         "attrs": {
          "chunk_sizes": [
           1,
           270,
           270
          ],
          "data_type": "float32",
          "dimensions": [
           "time",
           "lat",
           "lon"
          ],
          "file_chunk_sizes": [
           1,
           270,
           270
          ],
          "file_dimensions": [
           "time",
           "lat",
           "lon"
          ],
          "fill_value": 0,
          "long_name": "Count of the number of observations from the MODIS (Aqua) sensor contributing to this bin cell",
          "number_of_files_composited": 30,
          "orig_data_type": "float32",
          "shape": [
           304,
           4320,
           8640
          ],
          "size": 11346739200
         },
         "dims": [
          "time",
          "lat",
          "lon"
         ],
         "dtype": "float32",
         "name": "MODISA_nobs_sum"
        },
        "OLCI-A_nobs_sum": {
         "attrs": {
          "chunk_sizes": [
           1,
           270,
           270
          ],
          "data_type": "float32",
          "dimensions": [
           "time",
           "lat",
           "lon"
          ],
          "file_chunk_sizes": [
           1,
           270,
           270
          ],
          "file_dimensions": [
           "time",
           "lat",
           "lon"
          ],
          "fill_value": 0,
          "long_name": "Count of the number of observations from the OLCI (Sentinel-3a) sensor contributing to this bin cell",
          "number_of_files_composited": 30,
          "orig_data_type": "float32",
          "shape": [
           304,
           4320,
           8640
          ],
          "size": 11346739200
         },
         "dims": [
          "time",
          "lat",
          "lon"
         ],
         "dtype": "float32",
         "name": "OLCI-A_nobs_sum"
        },
        "OLCI-B_nobs_sum": {
         "attrs": {
          "chunk_sizes": [
           1,
           270,
           270
          ],
          "data_type": "float32",
          "dimensions": [
           "time",
           "lat",
           "lon"
          ],
          "file_chunk_sizes": [
           1,
           270,
           270
          ],
          "file_dimensions": [
           "time",
           "lat",
           "lon"
          ],
          "fill_value": 0,
          "long_name": "Count of the number of observations from the OLCI (Sentinel-3b) sensor contributing to this bin cell",
          "number_of_files_composited": 30,
          "orig_data_type": "float32",
          "shape": [
           304,
           4320,
           8640
          ],
          "size": 11346739200
         },
         "dims": [
          "time",
          "lat",
          "lon"
         ],
         "dtype": "float32",
         "name": "OLCI-B_nobs_sum"
        },
        "Rrs_412": {
         "attrs": {
          "ancillary_variables": "Rrs_412_rmsd Rrs_412_bias",
          "chunk_sizes": [
           1,
           270,
           270
          ],
          "data_type": "float32",
          "dimensions": [
           "time",
           "lat",
           "lon"
          ],
          "file_chunk_sizes": [
           1,
           270,
           270
          ],
          "file_dimensions": [
           "time",
           "lat",
           "lon"
          ],
          "fill_value": 9.96921e+36,
          "long_name": "Sea surface reflectance defined as the ratio of water-leaving radiance to surface irradiance at 412 nm.",
          "orig_data_type": "float32",
          "parameter_vocab_uri": "http://vocab.ndg.nerc.ac.uk/term/P071/19/CFV13N26",
          "shape": [
           304,
           4320,
           8640
          ],
          "size": 11346739200,
          "standard_name": "surface_ratio_of_upwelling_radiance_emerging_from_sea_water_to_downwelling_radiative_flux_in_air",
          "units": "sr-1",
          "units_nonstandard": "sr^-1",
          "wavelength": 412
         },
         "dims": [
          "time",
          "lat",
          "lon"
         ],
         "dtype": "float32",
         "name": "Rrs_412"
        },
        "Rrs_412_bias": {
         "attrs": {
          "chunk_sizes": [
           1,
           270,
           270
          ],
          "comment": "Uncertainty lookups derived from file: /data/datasets/CCI/v6.0-production/stage09b-uncertainty_tables/rrs/cci_Rrs_bias.dat",
          "data_type": "float32",
          "dimensions": [
           "time",
           "lat",
           "lon"
          ],
          "file_chunk_sizes": [
           1,
           270,
           270
          ],
          "file_dimensions": [
           "time",
           "lat",
           "lon"
          ],
          "fill_value": 9.96921e+36,
          "long_name": "Bias of sea surface reflectance defined as the ratio of water-leaving radiance to surface irradiance at 412 nm.",
          "orig_data_type": "float32",
          "ref": "http://www.esa-oceancolour-cci.org/?q=webfm_send/581",
          "rel": "uncertainty",
          "shape": [
           304,
           4320,
           8640
          ],
          "size": 11346739200,
          "units": "sr-1",
          "units_nonstandard": "sr^-1",
          "wavelength": 412
         },
         "dims": [
          "time",
          "lat",
          "lon"
         ],
         "dtype": "float32",
         "name": "Rrs_412_bias"
        },
        "Rrs_412_rmsd": {
         "attrs": {
          "chunk_sizes": [
           1,
           270,
           270
          ],
          "comment": "Uncertainty lookups derived from file: /data/datasets/CCI/v6.0-production/stage09b-uncertainty_tables/rrs/cci_Rrs_rmsd.dat",
          "data_type": "float32",
          "dimensions": [
           "time",
           "lat",
           "lon"
          ],
          "file_chunk_sizes": [
           1,
           270,
           270
          ],
          "file_dimensions": [
           "time",
           "lat",
           "lon"
          ],
          "fill_value": 9.96921e+36,
          "long_name": "Root-mean-square-difference of sea surface reflectance defined as the ratio of water-leaving radiance to surface irradiance at 412 nm.",
          "orig_data_type": "float32",
          "ref": "http://www.esa-oceancolour-cci.org/?q=webfm_send/581",
          "rel": "uncertainty",
          "shape": [
           304,
           4320,
           8640
          ],
          "size": 11346739200,
          "units": "sr-1",
          "units_nonstandard": "sr^-1",
          "wavelength": 412
         },
         "dims": [
          "time",
          "lat",
          "lon"
         ],
         "dtype": "float32",
         "name": "Rrs_412_rmsd"
        },
        "Rrs_443": {
         "attrs": {
          "ancillary_variables": "Rrs_443_rmsd Rrs_443_bias",
          "chunk_sizes": [
           1,
           270,
           270
          ],
          "data_type": "float32",
          "dimensions": [
           "time",
           "lat",
           "lon"
          ],
          "file_chunk_sizes": [
           1,
           270,
           270
          ],
          "file_dimensions": [
           "time",
           "lat",
           "lon"
          ],
          "fill_value": 9.96921e+36,
          "long_name": "Sea surface reflectance defined as the ratio of water-leaving radiance to surface irradiance at 443 nm.",
          "orig_data_type": "float32",
          "parameter_vocab_uri": "http://vocab.ndg.nerc.ac.uk/term/P071/19/CFV13N26",
          "shape": [
           304,
           4320,
           8640
          ],
          "size": 11346739200,
          "standard_name": "surface_ratio_of_upwelling_radiance_emerging_from_sea_water_to_downwelling_radiative_flux_in_air",
          "units": "sr-1",
          "units_nonstandard": "sr^-1",
          "wavelength": 443
         },
         "dims": [
          "time",
          "lat",
          "lon"
         ],
         "dtype": "float32",
         "name": "Rrs_443"
        },
        "Rrs_443_bias": {
         "attrs": {
          "chunk_sizes": [
           1,
           270,
           270
          ],
          "comment": "Uncertainty lookups derived from file: /data/datasets/CCI/v6.0-production/stage09b-uncertainty_tables/rrs/cci_Rrs_bias.dat",
          "data_type": "float32",
          "dimensions": [
           "time",
           "lat",
           "lon"
          ],
          "file_chunk_sizes": [
           1,
           270,
           270
          ],
          "file_dimensions": [
           "time",
           "lat",
           "lon"
          ],
          "fill_value": 9.96921e+36,
          "long_name": "Bias of sea surface reflectance defined as the ratio of water-leaving radiance to surface irradiance at 443 nm.",
          "orig_data_type": "float32",
          "ref": "http://www.esa-oceancolour-cci.org/?q=webfm_send/581",
          "rel": "uncertainty",
          "shape": [
           304,
           4320,
           8640
          ],
          "size": 11346739200,
          "units": "sr-1",
          "units_nonstandard": "sr^-1",
          "wavelength": 443
         },
         "dims": [
          "time",
          "lat",
          "lon"
         ],
         "dtype": "float32",
         "name": "Rrs_443_bias"
        },
        "Rrs_443_rmsd": {
         "attrs": {
          "chunk_sizes": [
           1,
           270,
           270
          ],
          "comment": "Uncertainty lookups derived from file: /data/datasets/CCI/v6.0-production/stage09b-uncertainty_tables/rrs/cci_Rrs_rmsd.dat",
          "data_type": "float32",
          "dimensions": [
           "time",
           "lat",
           "lon"
          ],
          "file_chunk_sizes": [
           1,
           270,
           270
          ],
          "file_dimensions": [
           "time",
           "lat",
           "lon"
          ],
          "fill_value": 9.96921e+36,
          "long_name": "Root-mean-square-difference of sea surface reflectance defined as the ratio of water-leaving radiance to surface irradiance at 443 nm.",
          "orig_data_type": "float32",
          "ref": "http://www.esa-oceancolour-cci.org/?q=webfm_send/581",
          "rel": "uncertainty",
          "shape": [
           304,
           4320,
           8640
          ],
          "size": 11346739200,
          "units": "sr-1",
          "units_nonstandard": "sr^-1",
          "wavelength": 443
         },
         "dims": [
          "time",
          "lat",
          "lon"
         ],
         "dtype": "float32",
         "name": "Rrs_443_rmsd"
        },
        "Rrs_490": {
         "attrs": {
          "ancillary_variables": "Rrs_490_rmsd Rrs_490_bias",
          "chunk_sizes": [
           1,
           270,
           270
          ],
          "data_type": "float32",
          "dimensions": [
           "time",
           "lat",
           "lon"
          ],
          "file_chunk_sizes": [
           1,
           270,
           270
          ],
          "file_dimensions": [
           "time",
           "lat",
           "lon"
          ],
          "fill_value": 9.96921e+36,
          "long_name": "Sea surface reflectance defined as the ratio of water-leaving radiance to surface irradiance at 490 nm.",
          "orig_data_type": "float32",
          "parameter_vocab_uri": "http://vocab.ndg.nerc.ac.uk/term/P071/19/CFV13N26",
          "shape": [
           304,
           4320,
           8640
          ],
          "size": 11346739200,
          "standard_name": "surface_ratio_of_upwelling_radiance_emerging_from_sea_water_to_downwelling_radiative_flux_in_air",
          "units": "sr-1",
          "units_nonstandard": "sr^-1",
          "wavelength": 490
         },
         "dims": [
          "time",
          "lat",
          "lon"
         ],
         "dtype": "float32",
         "name": "Rrs_490"
        },
        "Rrs_490_bias": {
         "attrs": {
          "chunk_sizes": [
           1,
           270,
           270
          ],
          "comment": "Uncertainty lookups derived from file: /data/datasets/CCI/v6.0-production/stage09b-uncertainty_tables/rrs/cci_Rrs_bias.dat",
          "data_type": "float32",
          "dimensions": [
           "time",
           "lat",
           "lon"
          ],
          "file_chunk_sizes": [
           1,
           270,
           270
          ],
          "file_dimensions": [
           "time",
           "lat",
           "lon"
          ],
          "fill_value": 9.96921e+36,
          "long_name": "Bias of sea surface reflectance defined as the ratio of water-leaving radiance to surface irradiance at 490 nm.",
          "orig_data_type": "float32",
          "ref": "http://www.esa-oceancolour-cci.org/?q=webfm_send/581",
          "rel": "uncertainty",
          "shape": [
           304,
           4320,
           8640
          ],
          "size": 11346739200,
          "units": "sr-1",
          "units_nonstandard": "sr^-1",
          "wavelength": 490
         },
         "dims": [
          "time",
          "lat",
          "lon"
         ],
         "dtype": "float32",
         "name": "Rrs_490_bias"
        },
        "Rrs_490_rmsd": {
         "attrs": {
          "chunk_sizes": [
           1,
           270,
           270
          ],
          "comment": "Uncertainty lookups derived from file: /data/datasets/CCI/v6.0-production/stage09b-uncertainty_tables/rrs/cci_Rrs_rmsd.dat",
          "data_type": "float32",
          "dimensions": [
           "time",
           "lat",
           "lon"
          ],
          "file_chunk_sizes": [
           1,
           270,
           270
          ],
          "file_dimensions": [
           "time",
           "lat",
           "lon"
          ],
          "fill_value": 9.96921e+36,
          "long_name": "Root-mean-square-difference of sea surface reflectance defined as the ratio of water-leaving radiance to surface irradiance at 490 nm.",
          "orig_data_type": "float32",
          "ref": "http://www.esa-oceancolour-cci.org/?q=webfm_send/581",
          "rel": "uncertainty",
          "shape": [
           304,
           4320,
           8640
          ],
          "size": 11346739200,
          "units": "sr-1",
          "units_nonstandard": "sr^-1",
          "wavelength": 490
         },
         "dims": [
          "time",
          "lat",
          "lon"
         ],
         "dtype": "float32",
         "name": "Rrs_490_rmsd"
        },
        "Rrs_510": {
         "attrs": {
          "ancillary_variables": "Rrs_510_rmsd Rrs_510_bias",
          "chunk_sizes": [
           1,
           270,
           270
          ],
          "data_type": "float32",
          "dimensions": [
           "time",
           "lat",
           "lon"
          ],
          "file_chunk_sizes": [
           1,
           270,
           270
          ],
          "file_dimensions": [
           "time",
           "lat",
           "lon"
          ],
          "fill_value": 9.96921e+36,
          "long_name": "Sea surface reflectance defined as the ratio of water-leaving radiance to surface irradiance at 510 nm.",
          "orig_data_type": "float32",
          "parameter_vocab_uri": "http://vocab.ndg.nerc.ac.uk/term/P071/19/CFV13N26",
          "shape": [
           304,
           4320,
           8640
          ],
          "size": 11346739200,
          "standard_name": "surface_ratio_of_upwelling_radiance_emerging_from_sea_water_to_downwelling_radiative_flux_in_air",
          "units": "sr-1",
          "units_nonstandard": "sr^-1",
          "wavelength": 510
         },
         "dims": [
          "time",
          "lat",
          "lon"
         ],
         "dtype": "float32",
         "name": "Rrs_510"
        },
        "Rrs_510_bias": {
         "attrs": {
          "chunk_sizes": [
           1,
           270,
           270
          ],
          "comment": "Uncertainty lookups derived from file: /data/datasets/CCI/v6.0-production/stage09b-uncertainty_tables/rrs/cci_Rrs_bias.dat",
          "data_type": "float32",
          "dimensions": [
           "time",
           "lat",
           "lon"
          ],
          "file_chunk_sizes": [
           1,
           270,
           270
          ],
          "file_dimensions": [
           "time",
           "lat",
           "lon"
          ],
          "fill_value": 9.96921e+36,
          "long_name": "Bias of sea surface reflectance defined as the ratio of water-leaving radiance to surface irradiance at 510 nm.",
          "orig_data_type": "float32",
          "ref": "http://www.esa-oceancolour-cci.org/?q=webfm_send/581",
          "rel": "uncertainty",
          "shape": [
           304,
           4320,
           8640
          ],
          "size": 11346739200,
          "units": "sr-1",
          "units_nonstandard": "sr^-1",
          "wavelength": 510
         },
         "dims": [
          "time",
          "lat",
          "lon"
         ],
         "dtype": "float32",
         "name": "Rrs_510_bias"
        },
        "Rrs_510_rmsd": {
         "attrs": {
          "chunk_sizes": [
           1,
           270,
           270
          ],
          "comment": "Uncertainty lookups derived from file: /data/datasets/CCI/v6.0-production/stage09b-uncertainty_tables/rrs/cci_Rrs_rmsd.dat",
          "data_type": "float32",
          "dimensions": [
           "time",
           "lat",
           "lon"
          ],
          "file_chunk_sizes": [
           1,
           270,
           270
          ],
          "file_dimensions": [
           "time",
           "lat",
           "lon"
          ],
          "fill_value": 9.96921e+36,
          "long_name": "Root-mean-square-difference of sea surface reflectance defined as the ratio of water-leaving radiance to surface irradiance at 510 nm.",
          "orig_data_type": "float32",
          "ref": "http://www.esa-oceancolour-cci.org/?q=webfm_send/581",
          "rel": "uncertainty",
          "shape": [
           304,
           4320,
           8640
          ],
          "size": 11346739200,
          "units": "sr-1",
          "units_nonstandard": "sr^-1",
          "wavelength": 510
         },
         "dims": [
          "time",
          "lat",
          "lon"
         ],
         "dtype": "float32",
         "name": "Rrs_510_rmsd"
        },
        "Rrs_560": {
         "attrs": {
          "ancillary_variables": "Rrs_560_rmsd Rrs_560_bias",
          "chunk_sizes": [
           1,
           270,
           270
          ],
          "data_type": "float32",
          "dimensions": [
           "time",
           "lat",
           "lon"
          ],
          "file_chunk_sizes": [
           1,
           270,
           270
          ],
          "file_dimensions": [
           "time",
           "lat",
           "lon"
          ],
          "fill_value": 9.96921e+36,
          "long_name": "Sea surface reflectance defined as the ratio of water-leaving radiance to surface irradiance at 560 nm.",
          "orig_data_type": "float32",
          "parameter_vocab_uri": "http://vocab.ndg.nerc.ac.uk/term/P071/19/CFV13N26",
          "shape": [
           304,
           4320,
           8640
          ],
          "size": 11346739200,
          "standard_name": "surface_ratio_of_upwelling_radiance_emerging_from_sea_water_to_downwelling_radiative_flux_in_air",
          "units": "sr-1",
          "units_nonstandard": "sr^-1",
          "wavelength": 560
         },
         "dims": [
          "time",
          "lat",
          "lon"
         ],
         "dtype": "float32",
         "name": "Rrs_560"
        },
        "Rrs_560_bias": {
         "attrs": {
          "chunk_sizes": [
           1,
           270,
           270
          ],
          "comment": "Uncertainty lookups derived from file: /data/datasets/CCI/v6.0-production/stage09b-uncertainty_tables/rrs/cci_Rrs_bias.dat",
          "data_type": "float32",
          "dimensions": [
           "time",
           "lat",
           "lon"
          ],
          "file_chunk_sizes": [
           1,
           270,
           270
          ],
          "file_dimensions": [
           "time",
           "lat",
           "lon"
          ],
          "fill_value": 9.96921e+36,
          "long_name": "Bias of sea surface reflectance defined as the ratio of water-leaving radiance to surface irradiance at 560 nm.",
          "orig_data_type": "float32",
          "ref": "http://www.esa-oceancolour-cci.org/?q=webfm_send/581",
          "rel": "uncertainty",
          "shape": [
           304,
           4320,
           8640
          ],
          "size": 11346739200,
          "units": "sr-1",
          "units_nonstandard": "sr^-1",
          "wavelength": 560
         },
         "dims": [
          "time",
          "lat",
          "lon"
         ],
         "dtype": "float32",
         "name": "Rrs_560_bias"
        },
        "Rrs_560_rmsd": {
         "attrs": {
          "chunk_sizes": [
           1,
           270,
           270
          ],
          "comment": "Uncertainty lookups derived from file: /data/datasets/CCI/v6.0-production/stage09b-uncertainty_tables/rrs/cci_Rrs_rmsd.dat",
          "data_type": "float32",
          "dimensions": [
           "time",
           "lat",
           "lon"
          ],
          "file_chunk_sizes": [
           1,
           270,
           270
          ],
          "file_dimensions": [
           "time",
           "lat",
           "lon"
          ],
          "fill_value": 9.96921e+36,
          "long_name": "Root-mean-square-difference of sea surface reflectance defined as the ratio of water-leaving radiance to surface irradiance at 560 nm.",
          "orig_data_type": "float32",
          "ref": "http://www.esa-oceancolour-cci.org/?q=webfm_send/581",
          "rel": "uncertainty",
          "shape": [
           304,
           4320,
           8640
          ],
          "size": 11346739200,
          "units": "sr-1",
          "units_nonstandard": "sr^-1",
          "wavelength": 560
         },
         "dims": [
          "time",
          "lat",
          "lon"
         ],
         "dtype": "float32",
         "name": "Rrs_560_rmsd"
        },
        "Rrs_665": {
         "attrs": {
          "ancillary_variables": "Rrs_665_rmsd Rrs_665_bias",
          "chunk_sizes": [
           1,
           270,
           270
          ],
          "data_type": "float32",
          "dimensions": [
           "time",
           "lat",
           "lon"
          ],
          "file_chunk_sizes": [
           1,
           270,
           270
          ],
          "file_dimensions": [
           "time",
           "lat",
           "lon"
          ],
          "fill_value": 9.96921e+36,
          "long_name": "Sea surface reflectance defined as the ratio of water-leaving radiance to surface irradiance at 665 nm.",
          "orig_data_type": "float32",
          "parameter_vocab_uri": "http://vocab.ndg.nerc.ac.uk/term/P071/19/CFV13N26",
          "shape": [
           304,
           4320,
           8640
          ],
          "size": 11346739200,
          "standard_name": "surface_ratio_of_upwelling_radiance_emerging_from_sea_water_to_downwelling_radiative_flux_in_air",
          "units": "sr-1",
          "units_nonstandard": "sr^-1",
          "wavelength": 665
         },
         "dims": [
          "time",
          "lat",
          "lon"
         ],
         "dtype": "float32",
         "name": "Rrs_665"
        },
        "Rrs_665_bias": {
         "attrs": {
          "chunk_sizes": [
           1,
           270,
           270
          ],
          "comment": "Uncertainty lookups derived from file: /data/datasets/CCI/v6.0-production/stage09b-uncertainty_tables/rrs/cci_Rrs_bias.dat",
          "data_type": "float32",
          "dimensions": [
           "time",
           "lat",
           "lon"
          ],
          "file_chunk_sizes": [
           1,
           270,
           270
          ],
          "file_dimensions": [
           "time",
           "lat",
           "lon"
          ],
          "fill_value": 9.96921e+36,
          "long_name": "Bias of sea surface reflectance defined as the ratio of water-leaving radiance to surface irradiance at 665 nm.",
          "orig_data_type": "float32",
          "ref": "http://www.esa-oceancolour-cci.org/?q=webfm_send/581",
          "rel": "uncertainty",
          "shape": [
           304,
           4320,
           8640
          ],
          "size": 11346739200,
          "units": "sr-1",
          "units_nonstandard": "sr^-1",
          "wavelength": 665
         },
         "dims": [
          "time",
          "lat",
          "lon"
         ],
         "dtype": "float32",
         "name": "Rrs_665_bias"
        },
        "Rrs_665_rmsd": {
         "attrs": {
          "chunk_sizes": [
           1,
           270,
           270
          ],
          "comment": "Uncertainty lookups derived from file: /data/datasets/CCI/v6.0-production/stage09b-uncertainty_tables/rrs/cci_Rrs_rmsd.dat",
          "data_type": "float32",
          "dimensions": [
           "time",
           "lat",
           "lon"
          ],
          "file_chunk_sizes": [
           1,
           270,
           270
          ],
          "file_dimensions": [
           "time",
           "lat",
           "lon"
          ],
          "fill_value": 9.96921e+36,
          "long_name": "Root-mean-square-difference of sea surface reflectance defined as the ratio of water-leaving radiance to surface irradiance at 665 nm.",
          "orig_data_type": "float32",
          "ref": "http://www.esa-oceancolour-cci.org/?q=webfm_send/581",
          "rel": "uncertainty",
          "shape": [
           304,
           4320,
           8640
          ],
          "size": 11346739200,
          "units": "sr-1",
          "units_nonstandard": "sr^-1",
          "wavelength": 665
         },
         "dims": [
          "time",
          "lat",
          "lon"
         ],
         "dtype": "float32",
         "name": "Rrs_665_rmsd"
        },
        "SeaWiFS_nobs_sum": {
         "attrs": {
          "chunk_sizes": [
           1,
           270,
           270
          ],
          "data_type": "float32",
          "dimensions": [
           "time",
           "lat",
           "lon"
          ],
          "file_chunk_sizes": [
           1,
           270,
           270
          ],
          "file_dimensions": [
           "time",
           "lat",
           "lon"
          ],
          "fill_value": 0,
          "long_name": "Count of the number of observations from the SeaWiFS (GAC and LAC) sensor contributing to this bin cell",
          "number_of_files_composited": 30,
          "orig_data_type": "float32",
          "shape": [
           304,
           4320,
           8640
          ],
          "size": 11346739200
         },
         "dims": [
          "time",
          "lat",
          "lon"
         ],
         "dtype": "float32",
         "name": "SeaWiFS_nobs_sum"
        },
        "VIIRS_nobs_sum": {
         "attrs": {
          "chunk_sizes": [
           1,
           270,
           270
          ],
          "data_type": "float32",
          "dimensions": [
           "time",
           "lat",
           "lon"
          ],
          "file_chunk_sizes": [
           1,
           270,
           270
          ],
          "file_dimensions": [
           "time",
           "lat",
           "lon"
          ],
          "fill_value": 0,
          "long_name": "Count of the number of observations from the VIIRS sensor contributing to this bin cell",
          "number_of_files_composited": 30,
          "orig_data_type": "float32",
          "shape": [
           304,
           4320,
           8640
          ],
          "size": 11346739200
         },
         "dims": [
          "time",
          "lat",
          "lon"
         ],
         "dtype": "float32",
         "name": "VIIRS_nobs_sum"
        },
        "adg_412": {
         "attrs": {
          "ancillary_variables": "adg_412_rmsd adg_412_bias",
          "chunk_sizes": [
           1,
           270,
           270
          ],
          "data_type": "float32",
          "dimensions": [
           "time",
           "lat",
           "lon"
          ],
          "file_chunk_sizes": [
           1,
           270,
           270
          ],
          "file_dimensions": [
           "time",
           "lat",
           "lon"
          ],
          "fill_value": 9.96921e+36,
          "long_name": "Absorption coefficient for dissolved and detrital material at 412 nm derived using the QAA model V6 (Lee et al 2014) as parameterised within SeaDAS.",
          "orig_data_type": "float32",
          "paper_ref": "Lee, Z., et al. Update of the Quasi-Analytical Algorithm (QAA_v6) [R/OL]. International Ocean Color Group Software Report [2013-04-03]. http://www.ioccg.org/groups/Software-OCA/OAA_5.2014.",
          "parameter_vocab_uri": "http://vocab.ndg.nerc.ac.uk/term/P071/19/CFSN0063",
          "shape": [
           304,
           4320,
           8640
          ],
          "size": 11346739200,
          "standard_name": "volume_absorption_coefficient_of_radiative_flux_in_sea_water",
          "units": "m-1",
          "units_nonstandard": "m^-1",
          "wavelength": 412
         },
         "dims": [
          "time",
          "lat",
          "lon"
         ],
         "dtype": "float32",
         "name": "adg_412"
        },
        "adg_412_bias": {
         "attrs": {
          "chunk_sizes": [
           1,
           270,
           270
          ],
          "comment": "Uncertainty lookups derived from file: /data/datasets/CCI/v6.0-production/stage09b-uncertainty_tables/adg/cci_iop_adg_bias.dat",
          "data_type": "float32",
          "dimensions": [
           "time",
           "lat",
           "lon"
          ],
          "file_chunk_sizes": [
           1,
           270,
           270
          ],
          "file_dimensions": [
           "time",
           "lat",
           "lon"
          ],
          "fill_value": 9.96921e+36,
          "long_name": "Bias of absorption coefficient for dissolved and detrital material at 412 nm.",
          "orig_data_type": "float32",
          "ref": "http://www.uncertweb.org",
          "rel": "uncertainty",
          "shape": [
           304,
           4320,
           8640
          ],
          "size": 11346739200,
          "units": "m-1",
          "units_nonstandard": "m^-1",
          "wavelength": 412
         },
         "dims": [
          "time",
          "lat",
          "lon"
         ],
         "dtype": "float32",
         "name": "adg_412_bias"
        },
        "adg_412_rmsd": {
         "attrs": {
          "chunk_sizes": [
           1,
           270,
           270
          ],
          "comment": "Uncertainty lookups derived from file: /data/datasets/CCI/v6.0-production/stage09b-uncertainty_tables/adg/cci_iop_adg_rmsd.dat",
          "data_type": "float32",
          "dimensions": [
           "time",
           "lat",
           "lon"
          ],
          "file_chunk_sizes": [
           1,
           270,
           270
          ],
          "file_dimensions": [
           "time",
           "lat",
           "lon"
          ],
          "fill_value": 9.96921e+36,
          "long_name": "Root-mean-square-difference of absorption coefficient for dissolved and detrital material at 412 nm.",
          "orig_data_type": "float32",
          "ref": "http://www.uncertweb.org",
          "rel": "uncertainty",
          "shape": [
           304,
           4320,
           8640
          ],
          "size": 11346739200,
          "units": "m-1",
          "units_nonstandard": "m^-1",
          "wavelength": 412
         },
         "dims": [
          "time",
          "lat",
          "lon"
         ],
         "dtype": "float32",
         "name": "adg_412_rmsd"
        },
        "adg_443": {
         "attrs": {
          "ancillary_variables": "adg_443_rmsd adg_443_bias",
          "chunk_sizes": [
           1,
           270,
           270
          ],
          "data_type": "float32",
          "dimensions": [
           "time",
           "lat",
           "lon"
          ],
          "file_chunk_sizes": [
           1,
           270,
           270
          ],
          "file_dimensions": [
           "time",
           "lat",
           "lon"
          ],
          "fill_value": 9.96921e+36,
          "long_name": "Absorption coefficient for dissolved and detrital material at 443 nm derived using the QAA model V6 (Lee et al 2014) as parameterised within SeaDAS.",
          "orig_data_type": "float32",
          "paper_ref": "Lee, Z., et al. Update of the Quasi-Analytical Algorithm (QAA_v6) [R/OL]. International Ocean Color Group Software Report [2013-04-03]. http://www.ioccg.org/groups/Software-OCA/OAA_5.2014.",
          "parameter_vocab_uri": "http://vocab.ndg.nerc.ac.uk/term/P071/19/CFSN0063",
          "shape": [
           304,
           4320,
           8640
          ],
          "size": 11346739200,
          "standard_name": "volume_absorption_coefficient_of_radiative_flux_in_sea_water",
          "units": "m-1",
          "units_nonstandard": "m^-1",
          "wavelength": 443
         },
         "dims": [
          "time",
          "lat",
          "lon"
         ],
         "dtype": "float32",
         "name": "adg_443"
        },
        "adg_443_bias": {
         "attrs": {
          "chunk_sizes": [
           1,
           270,
           270
          ],
          "comment": "Uncertainty lookups derived from file: /data/datasets/CCI/v6.0-production/stage09b-uncertainty_tables/adg/cci_iop_adg_bias.dat",
          "data_type": "float32",
          "dimensions": [
           "time",
           "lat",
           "lon"
          ],
          "file_chunk_sizes": [
           1,
           270,
           270
          ],
          "file_dimensions": [
           "time",
           "lat",
           "lon"
          ],
          "fill_value": 9.96921e+36,
          "long_name": "Bias of absorption coefficient for dissolved and detrital material at 443 nm.",
          "orig_data_type": "float32",
          "ref": "http://www.uncertweb.org",
          "rel": "uncertainty",
          "shape": [
           304,
           4320,
           8640
          ],
          "size": 11346739200,
          "units": "m-1",
          "units_nonstandard": "m^-1",
          "wavelength": 443
         },
         "dims": [
          "time",
          "lat",
          "lon"
         ],
         "dtype": "float32",
         "name": "adg_443_bias"
        },
        "adg_443_rmsd": {
         "attrs": {
          "chunk_sizes": [
           1,
           270,
           270
          ],
          "comment": "Uncertainty lookups derived from file: /data/datasets/CCI/v6.0-production/stage09b-uncertainty_tables/adg/cci_iop_adg_rmsd.dat",
          "data_type": "float32",
          "dimensions": [
           "time",
           "lat",
           "lon"
          ],
          "file_chunk_sizes": [
           1,
           270,
           270
          ],
          "file_dimensions": [
           "time",
           "lat",
           "lon"
          ],
          "fill_value": 9.96921e+36,
          "long_name": "Root-mean-square-difference of absorption coefficient for dissolved and detrital material at 443 nm.",
          "orig_data_type": "float32",
          "ref": "http://www.uncertweb.org",
          "rel": "uncertainty",
          "shape": [
           304,
           4320,
           8640
          ],
          "size": 11346739200,
          "units": "m-1",
          "units_nonstandard": "m^-1",
          "wavelength": 443
         },
         "dims": [
          "time",
          "lat",
          "lon"
         ],
         "dtype": "float32",
         "name": "adg_443_rmsd"
        },
        "adg_490": {
         "attrs": {
          "ancillary_variables": "adg_490_rmsd adg_490_bias",
          "chunk_sizes": [
           1,
           270,
           270
          ],
          "data_type": "float32",
          "dimensions": [
           "time",
           "lat",
           "lon"
          ],
          "file_chunk_sizes": [
           1,
           270,
           270
          ],
          "file_dimensions": [
           "time",
           "lat",
           "lon"
          ],
          "fill_value": 9.96921e+36,
          "long_name": "Absorption coefficient for dissolved and detrital material at 490 nm derived using the QAA model V6 (Lee et al 2014) as parameterised within SeaDAS.",
          "orig_data_type": "float32",
          "paper_ref": "Lee, Z., et al. Update of the Quasi-Analytical Algorithm (QAA_v6) [R/OL]. International Ocean Color Group Software Report [2013-04-03]. http://www.ioccg.org/groups/Software-OCA/OAA_5.2014.",
          "parameter_vocab_uri": "http://vocab.ndg.nerc.ac.uk/term/P071/19/CFSN0063",
          "shape": [
           304,
           4320,
           8640
          ],
          "size": 11346739200,
          "standard_name": "volume_absorption_coefficient_of_radiative_flux_in_sea_water",
          "units": "m-1",
          "units_nonstandard": "m^-1",
          "wavelength": 490
         },
         "dims": [
          "time",
          "lat",
          "lon"
         ],
         "dtype": "float32",
         "name": "adg_490"
        },
        "adg_490_bias": {
         "attrs": {
          "chunk_sizes": [
           1,
           270,
           270
          ],
          "comment": "Uncertainty lookups derived from file: /data/datasets/CCI/v6.0-production/stage09b-uncertainty_tables/adg/cci_iop_adg_bias.dat",
          "data_type": "float32",
          "dimensions": [
           "time",
           "lat",
           "lon"
          ],
          "file_chunk_sizes": [
           1,
           270,
           270
          ],
          "file_dimensions": [
           "time",
           "lat",
           "lon"
          ],
          "fill_value": 9.96921e+36,
          "long_name": "Bias of absorption coefficient for dissolved and detrital material at 490 nm.",
          "orig_data_type": "float32",
          "ref": "http://www.uncertweb.org",
          "rel": "uncertainty",
          "shape": [
           304,
           4320,
           8640
          ],
          "size": 11346739200,
          "units": "m-1",
          "units_nonstandard": "m^-1",
          "wavelength": 490
         },
         "dims": [
          "time",
          "lat",
          "lon"
         ],
         "dtype": "float32",
         "name": "adg_490_bias"
        },
        "adg_490_rmsd": {
         "attrs": {
          "chunk_sizes": [
           1,
           270,
           270
          ],
          "comment": "Uncertainty lookups derived from file: /data/datasets/CCI/v6.0-production/stage09b-uncertainty_tables/adg/cci_iop_adg_rmsd.dat",
          "data_type": "float32",
          "dimensions": [
           "time",
           "lat",
           "lon"
          ],
          "file_chunk_sizes": [
           1,
           270,
           270
          ],
          "file_dimensions": [
           "time",
           "lat",
           "lon"
          ],
          "fill_value": 9.96921e+36,
          "long_name": "Root-mean-square-difference of absorption coefficient for dissolved and detrital material at 490 nm.",
          "orig_data_type": "float32",
          "ref": "http://www.uncertweb.org",
          "rel": "uncertainty",
          "shape": [
           304,
           4320,
           8640
          ],
          "size": 11346739200,
          "units": "m-1",
          "units_nonstandard": "m^-1",
          "wavelength": 490
         },
         "dims": [
          "time",
          "lat",
          "lon"
         ],
         "dtype": "float32",
         "name": "adg_490_rmsd"
        },
        "adg_510": {
         "attrs": {
          "ancillary_variables": "adg_510_rmsd adg_510_bias",
          "chunk_sizes": [
           1,
           270,
           270
          ],
          "data_type": "float32",
          "dimensions": [
           "time",
           "lat",
           "lon"
          ],
          "file_chunk_sizes": [
           1,
           270,
           270
          ],
          "file_dimensions": [
           "time",
           "lat",
           "lon"
          ],
          "fill_value": 9.96921e+36,
          "long_name": "Absorption coefficient for dissolved and detrital material at 510 nm derived using the QAA model V6 (Lee et al 2014) as parameterised within SeaDAS.",
          "orig_data_type": "float32",
          "paper_ref": "Lee, Z., et al. Update of the Quasi-Analytical Algorithm (QAA_v6) [R/OL]. International Ocean Color Group Software Report [2013-04-03]. http://www.ioccg.org/groups/Software-OCA/OAA_5.2014.",
          "parameter_vocab_uri": "http://vocab.ndg.nerc.ac.uk/term/P071/19/CFSN0063",
          "shape": [
           304,
           4320,
           8640
          ],
          "size": 11346739200,
          "standard_name": "volume_absorption_coefficient_of_radiative_flux_in_sea_water",
          "units": "m-1",
          "units_nonstandard": "m^-1",
          "wavelength": 510
         },
         "dims": [
          "time",
          "lat",
          "lon"
         ],
         "dtype": "float32",
         "name": "adg_510"
        },
        "adg_510_bias": {
         "attrs": {
          "chunk_sizes": [
           1,
           270,
           270
          ],
          "comment": "Uncertainty lookups derived from file: /data/datasets/CCI/v6.0-production/stage09b-uncertainty_tables/adg/cci_iop_adg_bias.dat",
          "data_type": "float32",
          "dimensions": [
           "time",
           "lat",
           "lon"
          ],
          "file_chunk_sizes": [
           1,
           270,
           270
          ],
          "file_dimensions": [
           "time",
           "lat",
           "lon"
          ],
          "fill_value": 9.96921e+36,
          "long_name": "Bias of absorption coefficient for dissolved and detrital material at 510 nm.",
          "orig_data_type": "float32",
          "ref": "http://www.uncertweb.org",
          "rel": "uncertainty",
          "shape": [
           304,
           4320,
           8640
          ],
          "size": 11346739200,
          "units": "m-1",
          "units_nonstandard": "m^-1",
          "wavelength": 510
         },
         "dims": [
          "time",
          "lat",
          "lon"
         ],
         "dtype": "float32",
         "name": "adg_510_bias"
        },
        "adg_510_rmsd": {
         "attrs": {
          "chunk_sizes": [
           1,
           270,
           270
          ],
          "comment": "Uncertainty lookups derived from file: /data/datasets/CCI/v6.0-production/stage09b-uncertainty_tables/adg/cci_iop_adg_rmsd.dat",
          "data_type": "float32",
          "dimensions": [
           "time",
           "lat",
           "lon"
          ],
          "file_chunk_sizes": [
           1,
           270,
           270
          ],
          "file_dimensions": [
           "time",
           "lat",
           "lon"
          ],
          "fill_value": 9.96921e+36,
          "long_name": "Root-mean-square-difference of absorption coefficient for dissolved and detrital material at 510 nm.",
          "orig_data_type": "float32",
          "ref": "http://www.uncertweb.org",
          "rel": "uncertainty",
          "shape": [
           304,
           4320,
           8640
          ],
          "size": 11346739200,
          "units": "m-1",
          "units_nonstandard": "m^-1",
          "wavelength": 510
         },
         "dims": [
          "time",
          "lat",
          "lon"
         ],
         "dtype": "float32",
         "name": "adg_510_rmsd"
        },
        "adg_560": {
         "attrs": {
          "ancillary_variables": "adg_560_rmsd adg_560_bias",
          "chunk_sizes": [
           1,
           270,
           270
          ],
          "data_type": "float32",
          "dimensions": [
           "time",
           "lat",
           "lon"
          ],
          "file_chunk_sizes": [
           1,
           270,
           270
          ],
          "file_dimensions": [
           "time",
           "lat",
           "lon"
          ],
          "fill_value": 9.96921e+36,
          "long_name": "Absorption coefficient for dissolved and detrital material at 560 nm derived using the QAA model V6 (Lee et al 2014) as parameterised within SeaDAS.",
          "orig_data_type": "float32",
          "paper_ref": "Lee, Z., et al. Update of the Quasi-Analytical Algorithm (QAA_v6) [R/OL]. International Ocean Color Group Software Report [2013-04-03]. http://www.ioccg.org/groups/Software-OCA/OAA_5.2014.",
          "parameter_vocab_uri": "http://vocab.ndg.nerc.ac.uk/term/P071/19/CFSN0063",
          "shape": [
           304,
           4320,
           8640
          ],
          "size": 11346739200,
          "standard_name": "volume_absorption_coefficient_of_radiative_flux_in_sea_water",
          "units": "m-1",
          "units_nonstandard": "m^-1",
          "wavelength": 560
         },
         "dims": [
          "time",
          "lat",
          "lon"
         ],
         "dtype": "float32",
         "name": "adg_560"
        },
        "adg_560_bias": {
         "attrs": {
          "chunk_sizes": [
           1,
           270,
           270
          ],
          "comment": "Uncertainty lookups derived from file: /data/datasets/CCI/v6.0-production/stage09b-uncertainty_tables/adg/cci_iop_adg_bias.dat",
          "data_type": "float32",
          "dimensions": [
           "time",
           "lat",
           "lon"
          ],
          "file_chunk_sizes": [
           1,
           270,
           270
          ],
          "file_dimensions": [
           "time",
           "lat",
           "lon"
          ],
          "fill_value": 9.96921e+36,
          "long_name": "Bias of absorption coefficient for dissolved and detrital material at 560 nm.",
          "orig_data_type": "float32",
          "ref": "http://www.uncertweb.org",
          "rel": "uncertainty",
          "shape": [
           304,
           4320,
           8640
          ],
          "size": 11346739200,
          "units": "m-1",
          "units_nonstandard": "m^-1",
          "wavelength": 560
         },
         "dims": [
          "time",
          "lat",
          "lon"
         ],
         "dtype": "float32",
         "name": "adg_560_bias"
        },
        "adg_560_rmsd": {
         "attrs": {
          "chunk_sizes": [
           1,
           270,
           270
          ],
          "comment": "Uncertainty lookups derived from file: /data/datasets/CCI/v6.0-production/stage09b-uncertainty_tables/adg/cci_iop_adg_rmsd.dat",
          "data_type": "float32",
          "dimensions": [
           "time",
           "lat",
           "lon"
          ],
          "file_chunk_sizes": [
           1,
           270,
           270
          ],
          "file_dimensions": [
           "time",
           "lat",
           "lon"
          ],
          "fill_value": 9.96921e+36,
          "long_name": "Root-mean-square-difference of absorption coefficient for dissolved and detrital material at 560 nm.",
          "orig_data_type": "float32",
          "ref": "http://www.uncertweb.org",
          "rel": "uncertainty",
          "shape": [
           304,
           4320,
           8640
          ],
          "size": 11346739200,
          "units": "m-1",
          "units_nonstandard": "m^-1",
          "wavelength": 560
         },
         "dims": [
          "time",
          "lat",
          "lon"
         ],
         "dtype": "float32",
         "name": "adg_560_rmsd"
        },
        "adg_665": {
         "attrs": {
          "ancillary_variables": "adg_665_rmsd adg_665_bias",
          "chunk_sizes": [
           1,
           270,
           270
          ],
          "data_type": "float32",
          "dimensions": [
           "time",
           "lat",
           "lon"
          ],
          "file_chunk_sizes": [
           1,
           270,
           270
          ],
          "file_dimensions": [
           "time",
           "lat",
           "lon"
          ],
          "fill_value": 9.96921e+36,
          "long_name": "Absorption coefficient for dissolved and detrital material at 665 nm derived using the QAA model V6 (Lee et al 2014) as parameterised within SeaDAS.",
          "orig_data_type": "float32",
          "paper_ref": "Lee, Z., et al. Update of the Quasi-Analytical Algorithm (QAA_v6) [R/OL]. International Ocean Color Group Software Report [2013-04-03]. http://www.ioccg.org/groups/Software-OCA/OAA_5.2014.",
          "parameter_vocab_uri": "http://vocab.ndg.nerc.ac.uk/term/P071/19/CFSN0063",
          "shape": [
           304,
           4320,
           8640
          ],
          "size": 11346739200,
          "standard_name": "volume_absorption_coefficient_of_radiative_flux_in_sea_water",
          "units": "m-1",
          "units_nonstandard": "m^-1",
          "wavelength": 665
         },
         "dims": [
          "time",
          "lat",
          "lon"
         ],
         "dtype": "float32",
         "name": "adg_665"
        },
        "adg_665_bias": {
         "attrs": {
          "chunk_sizes": [
           1,
           270,
           270
          ],
          "comment": "Uncertainty lookups derived from file: /data/datasets/CCI/v6.0-production/stage09b-uncertainty_tables/adg/cci_iop_adg_bias.dat",
          "data_type": "float32",
          "dimensions": [
           "time",
           "lat",
           "lon"
          ],
          "file_chunk_sizes": [
           1,
           270,
           270
          ],
          "file_dimensions": [
           "time",
           "lat",
           "lon"
          ],
          "fill_value": 9.96921e+36,
          "long_name": "Bias of absorption coefficient for dissolved and detrital material at 665 nm.",
          "orig_data_type": "float32",
          "ref": "http://www.uncertweb.org",
          "rel": "uncertainty",
          "shape": [
           304,
           4320,
           8640
          ],
          "size": 11346739200,
          "units": "m-1",
          "units_nonstandard": "m^-1",
          "wavelength": 665
         },
         "dims": [
          "time",
          "lat",
          "lon"
         ],
         "dtype": "float32",
         "name": "adg_665_bias"
        },
        "adg_665_rmsd": {
         "attrs": {
          "chunk_sizes": [
           1,
           270,
           270
          ],
          "comment": "Uncertainty lookups derived from file: /data/datasets/CCI/v6.0-production/stage09b-uncertainty_tables/adg/cci_iop_adg_rmsd.dat",
          "data_type": "float32",
          "dimensions": [
           "time",
           "lat",
           "lon"
          ],
          "file_chunk_sizes": [
           1,
           270,
           270
          ],
          "file_dimensions": [
           "time",
           "lat",
           "lon"
          ],
          "fill_value": 9.96921e+36,
          "long_name": "Root-mean-square-difference of absorption coefficient for dissolved and detrital material at 665 nm.",
          "orig_data_type": "float32",
          "ref": "http://www.uncertweb.org",
          "rel": "uncertainty",
          "shape": [
           304,
           4320,
           8640
          ],
          "size": 11346739200,
          "units": "m-1",
          "units_nonstandard": "m^-1",
          "wavelength": 665
         },
         "dims": [
          "time",
          "lat",
          "lon"
         ],
         "dtype": "float32",
         "name": "adg_665_rmsd"
        },
        "aph_412": {
         "attrs": {
          "ancillary_variables": "aph_412_rmsd aph_412_bias",
          "chunk_sizes": [
           1,
           270,
           270
          ],
          "data_type": "float32",
          "dimensions": [
           "time",
           "lat",
           "lon"
          ],
          "file_chunk_sizes": [
           1,
           270,
           270
          ],
          "file_dimensions": [
           "time",
           "lat",
           "lon"
          ],
          "fill_value": 9.96921e+36,
          "grid_mapping": "crs",
          "long_name": "Phytoplankton absorption coefficient at 412 nm derived using the QAA model V6 (Lee et al 2014) as parameterised within SeaDAS.",
          "orig_data_type": "float32",
          "paper_ref": "Lee, Z., et al. Update of the Quasi-Analytical Algorithm (QAA_v6) [R/OL]. International Ocean Color Group Software Report [2013-04-03]. http://www.ioccg.org/groups/Software-OCA/OAA_5.2014.",
          "parameter_vocab_uri": "http://vocab.ndg.nerc.ac.uk/term/P071/19/CFSN0063",
          "shape": [
           304,
           4320,
           8640
          ],
          "size": 11346739200,
          "standard_name": "volume_absorption_coefficient_of_radiative_flux_in_sea_water",
          "units": "m-1",
          "units_nonstandard": "m^-1",
          "wavelength": 412
         },
         "dims": [
          "time",
          "lat",
          "lon"
         ],
         "dtype": "float32",
         "name": "aph_412"
        },
        "aph_412_bias": {
         "attrs": {
          "chunk_sizes": [
           1,
           270,
           270
          ],
          "comment": "Uncertainty lookups derived from file: /data/datasets/CCI/v6.0-production/stage09b-uncertainty_tables/aph/cci_iop_aph_bias.dat",
          "data_type": "float32",
          "dimensions": [
           "time",
           "lat",
           "lon"
          ],
          "file_chunk_sizes": [
           1,
           270,
           270
          ],
          "file_dimensions": [
           "time",
           "lat",
           "lon"
          ],
          "fill_value": 9.96921e+36,
          "long_name": "Bias of phytoplankton absorption coefficient at 412 nm.",
          "orig_data_type": "float32",
          "ref": "http://www.uncertweb.org",
          "rel": "uncertainty",
          "shape": [
           304,
           4320,
           8640
          ],
          "size": 11346739200,
          "units": "m-1",
          "units_nonstandard": "m^-1",
          "wavelength": 412
         },
         "dims": [
          "time",
          "lat",
          "lon"
         ],
         "dtype": "float32",
         "name": "aph_412_bias"
        },
        "aph_412_rmsd": {
         "attrs": {
          "chunk_sizes": [
           1,
           270,
           270
          ],
          "comment": "Uncertainty lookups derived from file: /data/datasets/CCI/v6.0-production/stage09b-uncertainty_tables/aph/cci_iop_aph_rmsd.dat",
          "data_type": "float32",
          "dimensions": [
           "time",
           "lat",
           "lon"
          ],
          "file_chunk_sizes": [
           1,
           270,
           270
          ],
          "file_dimensions": [
           "time",
           "lat",
           "lon"
          ],
          "fill_value": 9.96921e+36,
          "long_name": "Root-mean-square-difference of phytoplankton absorption coefficient at 412 nm.",
          "orig_data_type": "float32",
          "ref": "http://www.uncertweb.org",
          "rel": "uncertainty",
          "shape": [
           304,
           4320,
           8640
          ],
          "size": 11346739200,
          "units": "m-1",
          "units_nonstandard": "m^-1",
          "wavelength": 412
         },
         "dims": [
          "time",
          "lat",
          "lon"
         ],
         "dtype": "float32",
         "name": "aph_412_rmsd"
        },
        "aph_443": {
         "attrs": {
          "ancillary_variables": "aph_443_rmsd aph_443_bias",
          "chunk_sizes": [
           1,
           270,
           270
          ],
          "data_type": "float32",
          "dimensions": [
           "time",
           "lat",
           "lon"
          ],
          "file_chunk_sizes": [
           1,
           270,
           270
          ],
          "file_dimensions": [
           "time",
           "lat",
           "lon"
          ],
          "fill_value": 9.96921e+36,
          "grid_mapping": "crs",
          "long_name": "Phytoplankton absorption coefficient at 443 nm derived using the QAA model V6 (Lee et al 2014) as parameterised within SeaDAS.",
          "orig_data_type": "float32",
          "paper_ref": "Lee, Z., et al. Update of the Quasi-Analytical Algorithm (QAA_v6) [R/OL]. International Ocean Color Group Software Report [2013-04-03]. http://www.ioccg.org/groups/Software-OCA/OAA_5.2014.",
          "parameter_vocab_uri": "http://vocab.ndg.nerc.ac.uk/term/P071/19/CFSN0063",
          "shape": [
           304,
           4320,
           8640
          ],
          "size": 11346739200,
          "standard_name": "volume_absorption_coefficient_of_radiative_flux_in_sea_water",
          "units": "m-1",
          "units_nonstandard": "m^-1",
          "wavelength": 443
         },
         "dims": [
          "time",
          "lat",
          "lon"
         ],
         "dtype": "float32",
         "name": "aph_443"
        },
        "aph_443_bias": {
         "attrs": {
          "chunk_sizes": [
           1,
           270,
           270
          ],
          "comment": "Uncertainty lookups derived from file: /data/datasets/CCI/v6.0-production/stage09b-uncertainty_tables/aph/cci_iop_aph_bias.dat",
          "data_type": "float32",
          "dimensions": [
           "time",
           "lat",
           "lon"
          ],
          "file_chunk_sizes": [
           1,
           270,
           270
          ],
          "file_dimensions": [
           "time",
           "lat",
           "lon"
          ],
          "fill_value": 9.96921e+36,
          "long_name": "Bias of phytoplankton absorption coefficient at 443 nm.",
          "orig_data_type": "float32",
          "ref": "http://www.uncertweb.org",
          "rel": "uncertainty",
          "shape": [
           304,
           4320,
           8640
          ],
          "size": 11346739200,
          "units": "m-1",
          "units_nonstandard": "m^-1",
          "wavelength": 443
         },
         "dims": [
          "time",
          "lat",
          "lon"
         ],
         "dtype": "float32",
         "name": "aph_443_bias"
        },
        "aph_443_rmsd": {
         "attrs": {
          "chunk_sizes": [
           1,
           270,
           270
          ],
          "comment": "Uncertainty lookups derived from file: /data/datasets/CCI/v6.0-production/stage09b-uncertainty_tables/aph/cci_iop_aph_rmsd.dat",
          "data_type": "float32",
          "dimensions": [
           "time",
           "lat",
           "lon"
          ],
          "file_chunk_sizes": [
           1,
           270,
           270
          ],
          "file_dimensions": [
           "time",
           "lat",
           "lon"
          ],
          "fill_value": 9.96921e+36,
          "long_name": "Root-mean-square-difference of phytoplankton absorption coefficient at 443 nm.",
          "orig_data_type": "float32",
          "ref": "http://www.uncertweb.org",
          "rel": "uncertainty",
          "shape": [
           304,
           4320,
           8640
          ],
          "size": 11346739200,
          "units": "m-1",
          "units_nonstandard": "m^-1",
          "wavelength": 443
         },
         "dims": [
          "time",
          "lat",
          "lon"
         ],
         "dtype": "float32",
         "name": "aph_443_rmsd"
        },
        "aph_490": {
         "attrs": {
          "ancillary_variables": "aph_490_rmsd aph_490_bias",
          "chunk_sizes": [
           1,
           270,
           270
          ],
          "data_type": "float32",
          "dimensions": [
           "time",
           "lat",
           "lon"
          ],
          "file_chunk_sizes": [
           1,
           270,
           270
          ],
          "file_dimensions": [
           "time",
           "lat",
           "lon"
          ],
          "fill_value": 9.96921e+36,
          "grid_mapping": "crs",
          "long_name": "Phytoplankton absorption coefficient at 490 nm derived using the QAA model V6 (Lee et al 2014) as parameterised within SeaDAS.",
          "orig_data_type": "float32",
          "paper_ref": "Lee, Z., et al. Update of the Quasi-Analytical Algorithm (QAA_v6) [R/OL]. International Ocean Color Group Software Report [2013-04-03]. http://www.ioccg.org/groups/Software-OCA/OAA_5.2014.",
          "parameter_vocab_uri": "http://vocab.ndg.nerc.ac.uk/term/P071/19/CFSN0063",
          "shape": [
           304,
           4320,
           8640
          ],
          "size": 11346739200,
          "standard_name": "volume_absorption_coefficient_of_radiative_flux_in_sea_water",
          "units": "m-1",
          "units_nonstandard": "m^-1",
          "wavelength": 490
         },
         "dims": [
          "time",
          "lat",
          "lon"
         ],
         "dtype": "float32",
         "name": "aph_490"
        },
        "aph_490_bias": {
         "attrs": {
          "chunk_sizes": [
           1,
           270,
           270
          ],
          "comment": "Uncertainty lookups derived from file: /data/datasets/CCI/v6.0-production/stage09b-uncertainty_tables/aph/cci_iop_aph_bias.dat",
          "data_type": "float32",
          "dimensions": [
           "time",
           "lat",
           "lon"
          ],
          "file_chunk_sizes": [
           1,
           270,
           270
          ],
          "file_dimensions": [
           "time",
           "lat",
           "lon"
          ],
          "fill_value": 9.96921e+36,
          "long_name": "Bias of phytoplankton absorption coefficient at 490 nm.",
          "orig_data_type": "float32",
          "ref": "http://www.uncertweb.org",
          "rel": "uncertainty",
          "shape": [
           304,
           4320,
           8640
          ],
          "size": 11346739200,
          "units": "m-1",
          "units_nonstandard": "m^-1",
          "wavelength": 490
         },
         "dims": [
          "time",
          "lat",
          "lon"
         ],
         "dtype": "float32",
         "name": "aph_490_bias"
        },
        "aph_490_rmsd": {
         "attrs": {
          "chunk_sizes": [
           1,
           270,
           270
          ],
          "comment": "Uncertainty lookups derived from file: /data/datasets/CCI/v6.0-production/stage09b-uncertainty_tables/aph/cci_iop_aph_rmsd.dat",
          "data_type": "float32",
          "dimensions": [
           "time",
           "lat",
           "lon"
          ],
          "file_chunk_sizes": [
           1,
           270,
           270
          ],
          "file_dimensions": [
           "time",
           "lat",
           "lon"
          ],
          "fill_value": 9.96921e+36,
          "long_name": "Root-mean-square-difference of phytoplankton absorption coefficient at 490 nm.",
          "orig_data_type": "float32",
          "ref": "http://www.uncertweb.org",
          "rel": "uncertainty",
          "shape": [
           304,
           4320,
           8640
          ],
          "size": 11346739200,
          "units": "m-1",
          "units_nonstandard": "m^-1",
          "wavelength": 490
         },
         "dims": [
          "time",
          "lat",
          "lon"
         ],
         "dtype": "float32",
         "name": "aph_490_rmsd"
        },
        "aph_510": {
         "attrs": {
          "ancillary_variables": "aph_510_rmsd aph_510_bias",
          "chunk_sizes": [
           1,
           270,
           270
          ],
          "data_type": "float32",
          "dimensions": [
           "time",
           "lat",
           "lon"
          ],
          "file_chunk_sizes": [
           1,
           270,
           270
          ],
          "file_dimensions": [
           "time",
           "lat",
           "lon"
          ],
          "fill_value": 9.96921e+36,
          "grid_mapping": "crs",
          "long_name": "Phytoplankton absorption coefficient at 510 nm derived using the QAA model V6 (Lee et al 2014) as parameterised within SeaDAS.",
          "orig_data_type": "float32",
          "paper_ref": "Lee, Z., et al. Update of the Quasi-Analytical Algorithm (QAA_v6) [R/OL]. International Ocean Color Group Software Report [2013-04-03]. http://www.ioccg.org/groups/Software-OCA/OAA_5.2014.",
          "parameter_vocab_uri": "http://vocab.ndg.nerc.ac.uk/term/P071/19/CFSN0063",
          "shape": [
           304,
           4320,
           8640
          ],
          "size": 11346739200,
          "standard_name": "volume_absorption_coefficient_of_radiative_flux_in_sea_water",
          "units": "m-1",
          "units_nonstandard": "m^-1",
          "wavelength": 510
         },
         "dims": [
          "time",
          "lat",
          "lon"
         ],
         "dtype": "float32",
         "name": "aph_510"
        },
        "aph_510_bias": {
         "attrs": {
          "chunk_sizes": [
           1,
           270,
           270
          ],
          "comment": "Uncertainty lookups derived from file: /data/datasets/CCI/v6.0-production/stage09b-uncertainty_tables/aph/cci_iop_aph_bias.dat",
          "data_type": "float32",
          "dimensions": [
           "time",
           "lat",
           "lon"
          ],
          "file_chunk_sizes": [
           1,
           270,
           270
          ],
          "file_dimensions": [
           "time",
           "lat",
           "lon"
          ],
          "fill_value": 9.96921e+36,
          "long_name": "Bias of phytoplankton absorption coefficient at 510 nm.",
          "orig_data_type": "float32",
          "ref": "http://www.uncertweb.org",
          "rel": "uncertainty",
          "shape": [
           304,
           4320,
           8640
          ],
          "size": 11346739200,
          "units": "m-1",
          "units_nonstandard": "m^-1",
          "wavelength": 510
         },
         "dims": [
          "time",
          "lat",
          "lon"
         ],
         "dtype": "float32",
         "name": "aph_510_bias"
        },
        "aph_510_rmsd": {
         "attrs": {
          "chunk_sizes": [
           1,
           270,
           270
          ],
          "comment": "Uncertainty lookups derived from file: /data/datasets/CCI/v6.0-production/stage09b-uncertainty_tables/aph/cci_iop_aph_rmsd.dat",
          "data_type": "float32",
          "dimensions": [
           "time",
           "lat",
           "lon"
          ],
          "file_chunk_sizes": [
           1,
           270,
           270
          ],
          "file_dimensions": [
           "time",
           "lat",
           "lon"
          ],
          "fill_value": 9.96921e+36,
          "long_name": "Root-mean-square-difference of phytoplankton absorption coefficient at 510 nm.",
          "orig_data_type": "float32",
          "ref": "http://www.uncertweb.org",
          "rel": "uncertainty",
          "shape": [
           304,
           4320,
           8640
          ],
          "size": 11346739200,
          "units": "m-1",
          "units_nonstandard": "m^-1",
          "wavelength": 510
         },
         "dims": [
          "time",
          "lat",
          "lon"
         ],
         "dtype": "float32",
         "name": "aph_510_rmsd"
        },
        "aph_560": {
         "attrs": {
          "ancillary_variables": "aph_560_rmsd aph_560_bias",
          "chunk_sizes": [
           1,
           270,
           270
          ],
          "data_type": "float32",
          "dimensions": [
           "time",
           "lat",
           "lon"
          ],
          "file_chunk_sizes": [
           1,
           270,
           270
          ],
          "file_dimensions": [
           "time",
           "lat",
           "lon"
          ],
          "fill_value": 9.96921e+36,
          "grid_mapping": "crs",
          "long_name": "Phytoplankton absorption coefficient at 560 nm derived using the QAA model V6 (Lee et al 2014) as parameterised within SeaDAS.",
          "orig_data_type": "float32",
          "paper_ref": "Lee, Z., et al. Update of the Quasi-Analytical Algorithm (QAA_v6) [R/OL]. International Ocean Color Group Software Report [2013-04-03]. http://www.ioccg.org/groups/Software-OCA/OAA_5.2014.",
          "parameter_vocab_uri": "http://vocab.ndg.nerc.ac.uk/term/P071/19/CFSN0063",
          "shape": [
           304,
           4320,
           8640
          ],
          "size": 11346739200,
          "standard_name": "volume_absorption_coefficient_of_radiative_flux_in_sea_water",
          "units": "m-1",
          "units_nonstandard": "m^-1",
          "wavelength": 560
         },
         "dims": [
          "time",
          "lat",
          "lon"
         ],
         "dtype": "float32",
         "name": "aph_560"
        },
        "aph_560_bias": {
         "attrs": {
          "chunk_sizes": [
           1,
           270,
           270
          ],
          "comment": "Uncertainty lookups derived from file: /data/datasets/CCI/v6.0-production/stage09b-uncertainty_tables/aph/cci_iop_aph_bias.dat",
          "data_type": "float32",
          "dimensions": [
           "time",
           "lat",
           "lon"
          ],
          "file_chunk_sizes": [
           1,
           270,
           270
          ],
          "file_dimensions": [
           "time",
           "lat",
           "lon"
          ],
          "fill_value": 9.96921e+36,
          "long_name": "Bias of phytoplankton absorption coefficient at 560 nm.",
          "orig_data_type": "float32",
          "ref": "http://www.uncertweb.org",
          "rel": "uncertainty",
          "shape": [
           304,
           4320,
           8640
          ],
          "size": 11346739200,
          "units": "m-1",
          "units_nonstandard": "m^-1",
          "wavelength": 560
         },
         "dims": [
          "time",
          "lat",
          "lon"
         ],
         "dtype": "float32",
         "name": "aph_560_bias"
        },
        "aph_560_rmsd": {
         "attrs": {
          "chunk_sizes": [
           1,
           270,
           270
          ],
          "comment": "Uncertainty lookups derived from file: /data/datasets/CCI/v6.0-production/stage09b-uncertainty_tables/aph/cci_iop_aph_rmsd.dat",
          "data_type": "float32",
          "dimensions": [
           "time",
           "lat",
           "lon"
          ],
          "file_chunk_sizes": [
           1,
           270,
           270
          ],
          "file_dimensions": [
           "time",
           "lat",
           "lon"
          ],
          "fill_value": 9.96921e+36,
          "long_name": "Root-mean-square-difference of phytoplankton absorption coefficient at 560 nm.",
          "orig_data_type": "float32",
          "ref": "http://www.uncertweb.org",
          "rel": "uncertainty",
          "shape": [
           304,
           4320,
           8640
          ],
          "size": 11346739200,
          "units": "m-1",
          "units_nonstandard": "m^-1",
          "wavelength": 560
         },
         "dims": [
          "time",
          "lat",
          "lon"
         ],
         "dtype": "float32",
         "name": "aph_560_rmsd"
        },
        "aph_665": {
         "attrs": {
          "ancillary_variables": "aph_665_rmsd aph_665_bias",
          "chunk_sizes": [
           1,
           270,
           270
          ],
          "data_type": "float32",
          "dimensions": [
           "time",
           "lat",
           "lon"
          ],
          "file_chunk_sizes": [
           1,
           270,
           270
          ],
          "file_dimensions": [
           "time",
           "lat",
           "lon"
          ],
          "fill_value": 9.96921e+36,
          "grid_mapping": "crs",
          "long_name": "Phytoplankton absorption coefficient at 665 nm derived using the QAA model V6 (Lee et al 2014) as parameterised within SeaDAS.",
          "orig_data_type": "float32",
          "paper_ref": "Lee, Z., et al. Update of the Quasi-Analytical Algorithm (QAA_v6) [R/OL]. International Ocean Color Group Software Report [2013-04-03]. http://www.ioccg.org/groups/Software-OCA/OAA_5.2014.",
          "parameter_vocab_uri": "http://vocab.ndg.nerc.ac.uk/term/P071/19/CFSN0063",
          "shape": [
           304,
           4320,
           8640
          ],
          "size": 11346739200,
          "standard_name": "volume_absorption_coefficient_of_radiative_flux_in_sea_water",
          "units": "m-1",
          "units_nonstandard": "m^-1",
          "wavelength": 665
         },
         "dims": [
          "time",
          "lat",
          "lon"
         ],
         "dtype": "float32",
         "name": "aph_665"
        },
        "aph_665_bias": {
         "attrs": {
          "chunk_sizes": [
           1,
           270,
           270
          ],
          "comment": "Uncertainty lookups derived from file: /data/datasets/CCI/v6.0-production/stage09b-uncertainty_tables/aph/cci_iop_aph_bias.dat",
          "data_type": "float32",
          "dimensions": [
           "time",
           "lat",
           "lon"
          ],
          "file_chunk_sizes": [
           1,
           270,
           270
          ],
          "file_dimensions": [
           "time",
           "lat",
           "lon"
          ],
          "fill_value": 9.96921e+36,
          "long_name": "Bias of phytoplankton absorption coefficient at 665 nm.",
          "orig_data_type": "float32",
          "ref": "http://www.uncertweb.org",
          "rel": "uncertainty",
          "shape": [
           304,
           4320,
           8640
          ],
          "size": 11346739200,
          "units": "m-1",
          "units_nonstandard": "m^-1",
          "wavelength": 665
         },
         "dims": [
          "time",
          "lat",
          "lon"
         ],
         "dtype": "float32",
         "name": "aph_665_bias"
        },
        "aph_665_rmsd": {
         "attrs": {
          "chunk_sizes": [
           1,
           270,
           270
          ],
          "comment": "Uncertainty lookups derived from file: /data/datasets/CCI/v6.0-production/stage09b-uncertainty_tables/aph/cci_iop_aph_rmsd.dat",
          "data_type": "float32",
          "dimensions": [
           "time",
           "lat",
           "lon"
          ],
          "file_chunk_sizes": [
           1,
           270,
           270
          ],
          "file_dimensions": [
           "time",
           "lat",
           "lon"
          ],
          "fill_value": 9.96921e+36,
          "long_name": "Root-mean-square-difference of phytoplankton absorption coefficient at 665 nm.",
          "orig_data_type": "float32",
          "ref": "http://www.uncertweb.org",
          "rel": "uncertainty",
          "shape": [
           304,
           4320,
           8640
          ],
          "size": 11346739200,
          "units": "m-1",
          "units_nonstandard": "m^-1",
          "wavelength": 665
         },
         "dims": [
          "time",
          "lat",
          "lon"
         ],
         "dtype": "float32",
         "name": "aph_665_rmsd"
        },
        "atot_412": {
         "attrs": {
          "chunk_sizes": [
           1,
           270,
           270
          ],
          "data_type": "float32",
          "dimensions": [
           "time",
           "lat",
           "lon"
          ],
          "file_chunk_sizes": [
           1,
           270,
           270
          ],
          "file_dimensions": [
           "time",
           "lat",
           "lon"
          ],
          "fill_value": 9.96921e+36,
          "long_name": "Total absorption coefficient at 412 nm derived using the QAA model V6 (Lee et al 2014) as parameterised within SeaDAS.",
          "orig_data_type": "float32",
          "paper_ref": "Lee, Z., et al. Update of the Quasi-Analytical Algorithm (QAA_v6) [R/OL]. International Ocean Color Group Software Report [2013-04-03]. http://www.ioccg.org/groups/Software-OCA/OAA_5.2014.",
          "parameter_vocab_uri": "http://vocab.ndg.nerc.ac.uk/term/P071/19/CFSN0062",
          "shape": [
           304,
           4320,
           8640
          ],
          "size": 11346739200,
          "standard_name": "volume_absorption_coefficient_of_radiative_flux_in_sea_water",
          "units": "m-1",
          "units_nonstandard": "m^-1",
          "wavelength": 412
         },
         "dims": [
          "time",
          "lat",
          "lon"
         ],
         "dtype": "float32",
         "name": "atot_412"
        },
        "atot_443": {
         "attrs": {
          "chunk_sizes": [
           1,
           270,
           270
          ],
          "data_type": "float32",
          "dimensions": [
           "time",
           "lat",
           "lon"
          ],
          "file_chunk_sizes": [
           1,
           270,
           270
          ],
          "file_dimensions": [
           "time",
           "lat",
           "lon"
          ],
          "fill_value": 9.96921e+36,
          "long_name": "Total absorption coefficient at 443 nm derived using the QAA model V6 (Lee et al 2014) as parameterised within SeaDAS.",
          "orig_data_type": "float32",
          "paper_ref": "Lee, Z., et al. Update of the Quasi-Analytical Algorithm (QAA_v6) [R/OL]. International Ocean Color Group Software Report [2013-04-03]. http://www.ioccg.org/groups/Software-OCA/OAA_5.2014.",
          "parameter_vocab_uri": "http://vocab.ndg.nerc.ac.uk/term/P071/19/CFSN0062",
          "shape": [
           304,
           4320,
           8640
          ],
          "size": 11346739200,
          "standard_name": "volume_absorption_coefficient_of_radiative_flux_in_sea_water",
          "units": "m-1",
          "units_nonstandard": "m^-1",
          "wavelength": 443
         },
         "dims": [
          "time",
          "lat",
          "lon"
         ],
         "dtype": "float32",
         "name": "atot_443"
        },
        "atot_490": {
         "attrs": {
          "chunk_sizes": [
           1,
           270,
           270
          ],
          "data_type": "float32",
          "dimensions": [
           "time",
           "lat",
           "lon"
          ],
          "file_chunk_sizes": [
           1,
           270,
           270
          ],
          "file_dimensions": [
           "time",
           "lat",
           "lon"
          ],
          "fill_value": 9.96921e+36,
          "long_name": "Total absorption coefficient at 490 nm derived using the QAA model V6 (Lee et al 2014) as parameterised within SeaDAS.",
          "orig_data_type": "float32",
          "paper_ref": "Lee, Z., et al. Update of the Quasi-Analytical Algorithm (QAA_v6) [R/OL]. International Ocean Color Group Software Report [2013-04-03]. http://www.ioccg.org/groups/Software-OCA/OAA_5.2014.",
          "parameter_vocab_uri": "http://vocab.ndg.nerc.ac.uk/term/P071/19/CFSN0062",
          "shape": [
           304,
           4320,
           8640
          ],
          "size": 11346739200,
          "standard_name": "volume_absorption_coefficient_of_radiative_flux_in_sea_water",
          "units": "m-1",
          "units_nonstandard": "m^-1",
          "wavelength": 490
         },
         "dims": [
          "time",
          "lat",
          "lon"
         ],
         "dtype": "float32",
         "name": "atot_490"
        },
        "atot_510": {
         "attrs": {
          "chunk_sizes": [
           1,
           270,
           270
          ],
          "data_type": "float32",
          "dimensions": [
           "time",
           "lat",
           "lon"
          ],
          "file_chunk_sizes": [
           1,
           270,
           270
          ],
          "file_dimensions": [
           "time",
           "lat",
           "lon"
          ],
          "fill_value": 9.96921e+36,
          "long_name": "Total absorption coefficient at 510 nm derived using the QAA model V6 (Lee et al 2014) as parameterised within SeaDAS.",
          "orig_data_type": "float32",
          "paper_ref": "Lee, Z., et al. Update of the Quasi-Analytical Algorithm (QAA_v6) [R/OL]. International Ocean Color Group Software Report [2013-04-03]. http://www.ioccg.org/groups/Software-OCA/OAA_5.2014.",
          "parameter_vocab_uri": "http://vocab.ndg.nerc.ac.uk/term/P071/19/CFSN0062",
          "shape": [
           304,
           4320,
           8640
          ],
          "size": 11346739200,
          "standard_name": "volume_absorption_coefficient_of_radiative_flux_in_sea_water",
          "units": "m-1",
          "units_nonstandard": "m^-1",
          "wavelength": 510
         },
         "dims": [
          "time",
          "lat",
          "lon"
         ],
         "dtype": "float32",
         "name": "atot_510"
        },
        "atot_560": {
         "attrs": {
          "chunk_sizes": [
           1,
           270,
           270
          ],
          "data_type": "float32",
          "dimensions": [
           "time",
           "lat",
           "lon"
          ],
          "file_chunk_sizes": [
           1,
           270,
           270
          ],
          "file_dimensions": [
           "time",
           "lat",
           "lon"
          ],
          "fill_value": 9.96921e+36,
          "long_name": "Total absorption coefficient at 560 nm derived using the QAA model V6 (Lee et al 2014) as parameterised within SeaDAS.",
          "orig_data_type": "float32",
          "paper_ref": "Lee, Z., et al. Update of the Quasi-Analytical Algorithm (QAA_v6) [R/OL]. International Ocean Color Group Software Report [2013-04-03]. http://www.ioccg.org/groups/Software-OCA/OAA_5.2014.",
          "parameter_vocab_uri": "http://vocab.ndg.nerc.ac.uk/term/P071/19/CFSN0062",
          "shape": [
           304,
           4320,
           8640
          ],
          "size": 11346739200,
          "standard_name": "volume_absorption_coefficient_of_radiative_flux_in_sea_water",
          "units": "m-1",
          "units_nonstandard": "m^-1",
          "wavelength": 560
         },
         "dims": [
          "time",
          "lat",
          "lon"
         ],
         "dtype": "float32",
         "name": "atot_560"
        },
        "atot_665": {
         "attrs": {
          "chunk_sizes": [
           1,
           270,
           270
          ],
          "data_type": "float32",
          "dimensions": [
           "time",
           "lat",
           "lon"
          ],
          "file_chunk_sizes": [
           1,
           270,
           270
          ],
          "file_dimensions": [
           "time",
           "lat",
           "lon"
          ],
          "fill_value": 9.96921e+36,
          "long_name": "Total absorption coefficient at 665 nm derived using the QAA model V6 (Lee et al 2014) as parameterised within SeaDAS.",
          "orig_data_type": "float32",
          "paper_ref": "Lee, Z., et al. Update of the Quasi-Analytical Algorithm (QAA_v6) [R/OL]. International Ocean Color Group Software Report [2013-04-03]. http://www.ioccg.org/groups/Software-OCA/OAA_5.2014.",
          "parameter_vocab_uri": "http://vocab.ndg.nerc.ac.uk/term/P071/19/CFSN0062",
          "shape": [
           304,
           4320,
           8640
          ],
          "size": 11346739200,
          "standard_name": "volume_absorption_coefficient_of_radiative_flux_in_sea_water",
          "units": "m-1",
          "units_nonstandard": "m^-1",
          "wavelength": 665
         },
         "dims": [
          "time",
          "lat",
          "lon"
         ],
         "dtype": "float32",
         "name": "atot_665"
        },
        "bbp_412": {
         "attrs": {
          "chunk_sizes": [
           1,
           270,
           270
          ],
          "data_type": "float32",
          "dimensions": [
           "time",
           "lat",
           "lon"
          ],
          "file_chunk_sizes": [
           1,
           270,
           270
          ],
          "file_dimensions": [
           "time",
           "lat",
           "lon"
          ],
          "fill_value": 9.96921e+36,
          "long_name": "Particulate backscattering coefficient for dissolved and detrital material at 412 nm derived using the QAA model V6 (Lee et al 2014) as parameterised within SeaDAS.",
          "orig_data_type": "float32",
          "paper_ref": "Lee, Z., et al. Update of the Quasi-Analytical Algorithm (QAA_v6) [R/OL]. International Ocean Color Group Software Report [2013-04-03]. http://www.ioccg.org/groups/Software-OCA/OAA_5.2014.",
          "parameter_vocab_uri": "http://vocab.nerc.ac.uk/collection/P04/current/",
          "shape": [
           304,
           4320,
           8640
          ],
          "size": 11346739200,
          "standard_name": "volume_backwards_scattering_coefficient_of_radiative_flux_in_sea_water",
          "units": "m-1",
          "units_nonstandard": "m^-1",
          "wavelength": 412
         },
         "dims": [
          "time",
          "lat",
          "lon"
         ],
         "dtype": "float32",
         "name": "bbp_412"
        },
        "bbp_443": {
         "attrs": {
          "chunk_sizes": [
           1,
           270,
           270
          ],
          "data_type": "float32",
          "dimensions": [
           "time",
           "lat",
           "lon"
          ],
          "file_chunk_sizes": [
           1,
           270,
           270
          ],
          "file_dimensions": [
           "time",
           "lat",
           "lon"
          ],
          "fill_value": 9.96921e+36,
          "long_name": "Particulate backscattering coefficient for dissolved and detrital material at 443 nm derived using the QAA model V6 (Lee et al 2014) as parameterised within SeaDAS.",
          "orig_data_type": "float32",
          "paper_ref": "Lee, Z., et al. Update of the Quasi-Analytical Algorithm (QAA_v6) [R/OL]. International Ocean Color Group Software Report [2013-04-03]. http://www.ioccg.org/groups/Software-OCA/OAA_5.2014.",
          "parameter_vocab_uri": "http://vocab.nerc.ac.uk/collection/P04/current/",
          "shape": [
           304,
           4320,
           8640
          ],
          "size": 11346739200,
          "standard_name": "volume_backwards_scattering_coefficient_of_radiative_flux_in_sea_water",
          "units": "m-1",
          "units_nonstandard": "m^-1",
          "wavelength": 443
         },
         "dims": [
          "time",
          "lat",
          "lon"
         ],
         "dtype": "float32",
         "name": "bbp_443"
        },
        "bbp_490": {
         "attrs": {
          "chunk_sizes": [
           1,
           270,
           270
          ],
          "data_type": "float32",
          "dimensions": [
           "time",
           "lat",
           "lon"
          ],
          "file_chunk_sizes": [
           1,
           270,
           270
          ],
          "file_dimensions": [
           "time",
           "lat",
           "lon"
          ],
          "fill_value": 9.96921e+36,
          "long_name": "Particulate backscattering coefficient for dissolved and detrital material at 490 nm derived using the QAA model V6 (Lee et al 2014) as parameterised within SeaDAS.",
          "orig_data_type": "float32",
          "paper_ref": "Lee, Z., et al. Update of the Quasi-Analytical Algorithm (QAA_v6) [R/OL]. International Ocean Color Group Software Report [2013-04-03]. http://www.ioccg.org/groups/Software-OCA/OAA_5.2014.",
          "parameter_vocab_uri": "http://vocab.nerc.ac.uk/collection/P04/current/",
          "shape": [
           304,
           4320,
           8640
          ],
          "size": 11346739200,
          "standard_name": "volume_backwards_scattering_coefficient_of_radiative_flux_in_sea_water",
          "units": "m-1",
          "units_nonstandard": "m^-1",
          "wavelength": 490
         },
         "dims": [
          "time",
          "lat",
          "lon"
         ],
         "dtype": "float32",
         "name": "bbp_490"
        },
        "bbp_510": {
         "attrs": {
          "chunk_sizes": [
           1,
           270,
           270
          ],
          "data_type": "float32",
          "dimensions": [
           "time",
           "lat",
           "lon"
          ],
          "file_chunk_sizes": [
           1,
           270,
           270
          ],
          "file_dimensions": [
           "time",
           "lat",
           "lon"
          ],
          "fill_value": 9.96921e+36,
          "long_name": "Particulate backscattering coefficient for dissolved and detrital material at 510 nm derived using the QAA model V6 (Lee et al 2014) as parameterised within SeaDAS.",
          "orig_data_type": "float32",
          "paper_ref": "Lee, Z., et al. Update of the Quasi-Analytical Algorithm (QAA_v6) [R/OL]. International Ocean Color Group Software Report [2013-04-03]. http://www.ioccg.org/groups/Software-OCA/OAA_5.2014.",
          "parameter_vocab_uri": "http://vocab.nerc.ac.uk/collection/P04/current/",
          "shape": [
           304,
           4320,
           8640
          ],
          "size": 11346739200,
          "standard_name": "volume_backwards_scattering_coefficient_of_radiative_flux_in_sea_water",
          "units": "m-1",
          "units_nonstandard": "m^-1",
          "wavelength": 510
         },
         "dims": [
          "time",
          "lat",
          "lon"
         ],
         "dtype": "float32",
         "name": "bbp_510"
        },
        "bbp_560": {
         "attrs": {
          "chunk_sizes": [
           1,
           270,
           270
          ],
          "data_type": "float32",
          "dimensions": [
           "time",
           "lat",
           "lon"
          ],
          "file_chunk_sizes": [
           1,
           270,
           270
          ],
          "file_dimensions": [
           "time",
           "lat",
           "lon"
          ],
          "fill_value": 9.96921e+36,
          "long_name": "Particulate backscattering coefficient for dissolved and detrital material at 560 nm derived using the QAA model V6 (Lee et al 2014) as parameterised within SeaDAS.",
          "orig_data_type": "float32",
          "paper_ref": "Lee, Z., et al. Update of the Quasi-Analytical Algorithm (QAA_v6) [R/OL]. International Ocean Color Group Software Report [2013-04-03]. http://www.ioccg.org/groups/Software-OCA/OAA_5.2014.",
          "parameter_vocab_uri": "http://vocab.nerc.ac.uk/collection/P04/current/",
          "shape": [
           304,
           4320,
           8640
          ],
          "size": 11346739200,
          "standard_name": "volume_backwards_scattering_coefficient_of_radiative_flux_in_sea_water",
          "units": "m-1",
          "units_nonstandard": "m^-1",
          "wavelength": 560
         },
         "dims": [
          "time",
          "lat",
          "lon"
         ],
         "dtype": "float32",
         "name": "bbp_560"
        },
        "bbp_665": {
         "attrs": {
          "chunk_sizes": [
           1,
           270,
           270
          ],
          "data_type": "float32",
          "dimensions": [
           "time",
           "lat",
           "lon"
          ],
          "file_chunk_sizes": [
           1,
           270,
           270
          ],
          "file_dimensions": [
           "time",
           "lat",
           "lon"
          ],
          "fill_value": 9.96921e+36,
          "long_name": "Particulate backscattering coefficient for dissolved and detrital material at 665 nm derived using the QAA model V6 (Lee et al 2014) as parameterised within SeaDAS.",
          "orig_data_type": "float32",
          "paper_ref": "Lee, Z., et al. Update of the Quasi-Analytical Algorithm (QAA_v6) [R/OL]. International Ocean Color Group Software Report [2013-04-03]. http://www.ioccg.org/groups/Software-OCA/OAA_5.2014.",
          "parameter_vocab_uri": "http://vocab.nerc.ac.uk/collection/P04/current/",
          "shape": [
           304,
           4320,
           8640
          ],
          "size": 11346739200,
          "standard_name": "volume_backwards_scattering_coefficient_of_radiative_flux_in_sea_water",
          "units": "m-1",
          "units_nonstandard": "m^-1",
          "wavelength": 665
         },
         "dims": [
          "time",
          "lat",
          "lon"
         ],
         "dtype": "float32",
         "name": "bbp_665"
        },
        "chlor_a": {
         "attrs": {
          "ancillary_variables": "chlor_a_log10_rmsd chlor_a_log10_bias",
          "chunk_sizes": [
           1,
           270,
           270
          ],
          "data_type": "float32",
          "dimensions": [
           "time",
           "lat",
           "lon"
          ],
          "file_chunk_sizes": [
           1,
           270,
           270
          ],
          "file_dimensions": [
           "time",
           "lat",
           "lon"
          ],
          "fill_value": 9.96921e+36,
          "long_name": "Chlorophyll-a concentration in seawater (not log-transformed), generated by as a blended combination of OCI, OCI2, OC2 and OCx algorithms, depending on water class memberships",
          "orig_data_type": "float32",
          "parameter_vocab_uri": "http://vocab.ndg.nerc.ac.uk/term/P011/current/CHLTVOLU",
          "shape": [
           304,
           4320,
           8640
          ],
          "size": 11346739200,
          "standard_name": "mass_concentration_of_chlorophyll_a_in_sea_water",
          "units": "milligram m-3",
          "units_nonstandard": "mg m^-3"
         },
         "dims": [
          "time",
          "lat",
          "lon"
         ],
         "dtype": "float32",
         "name": "chlor_a"
        },
        "chlor_a_log10_bias": {
         "attrs": {
          "chunk_sizes": [
           1,
           270,
           270
          ],
          "comment": "Uncertainty lookups derived from file: /data/datasets/CCI/v6.0-production/stage09b-uncertainty_tables/chlor_a/cci_chla_bias.dat",
          "data_type": "float32",
          "dimensions": [
           "time",
           "lat",
           "lon"
          ],
          "file_chunk_sizes": [
           1,
           270,
           270
          ],
          "file_dimensions": [
           "time",
           "lat",
           "lon"
          ],
          "fill_value": 9.96921e+36,
          "long_name": "Bias of log10-transformed chlorophyll-a concentration in seawater.",
          "orig_data_type": "float32",
          "ref": "http://www.esa-oceancolour-cci.org/?q=webfm_send/581",
          "rel": "uncertainty",
          "shape": [
           304,
           4320,
           8640
          ],
          "size": 11346739200
         },
         "dims": [
          "time",
          "lat",
          "lon"
         ],
         "dtype": "float32",
         "name": "chlor_a_log10_bias"
        },
        "chlor_a_log10_rmsd": {
         "attrs": {
          "chunk_sizes": [
           1,
           270,
           270
          ],
          "comment": "Uncertainty lookups derived from file: /data/datasets/CCI/v6.0-production/stage09b-uncertainty_tables/chlor_a/cci_chla_rmsd.dat",
          "data_type": "float32",
          "dimensions": [
           "time",
           "lat",
           "lon"
          ],
          "file_chunk_sizes": [
           1,
           270,
           270
          ],
          "file_dimensions": [
           "time",
           "lat",
           "lon"
          ],
          "fill_value": 9.96921e+36,
          "long_name": "Root-mean-square-difference of log10-transformed chlorophyll-a concentration in seawater.",
          "orig_data_type": "float32",
          "ref": "http://www.esa-oceancolour-cci.org/?q=webfm_send/581",
          "rel": "uncertainty",
          "shape": [
           304,
           4320,
           8640
          ],
          "size": 11346739200
         },
         "dims": [
          "time",
          "lat",
          "lon"
         ],
         "dtype": "float32",
         "name": "chlor_a_log10_rmsd"
        },
        "crs": {
         "attrs": {
          "chunk_sizes": [
           1
          ],
          "data_type": "int64",
          "dimensions": [],
          "file_chunk_sizes": [
           1
          ],
          "file_dimensions": [],
          "fill_value": 9223372036854776000,
          "grid_mapping_name": "latitude_longitude",
          "orig_data_type": "int32",
          "shape": [
           1
          ],
          "size": 1
         },
         "dims": [],
         "dtype": "int64",
         "name": "crs"
        },
        "kd_490": {
         "attrs": {
          "ancillary_variables": "kd_490_rmsd kd_490_bias",
          "chunk_sizes": [
           1,
           270,
           270
          ],
          "data_type": "float32",
          "dimensions": [
           "time",
           "lat",
           "lon"
          ],
          "file_chunk_sizes": [
           1,
           270,
           270
          ],
          "file_dimensions": [
           "time",
           "lat",
           "lon"
          ],
          "fill_value": 9.96921e+36,
          "long_name": "Downwelling attenuation coefficient at 490nm, derived using Lee 2005 equation and bbw from Zhang 2009 (following the SeaDAS Kd_lee algorithm)",
          "orig_data_type": "float32",
          "parameter_vocab_uri": "http://vocab.ndg.nerc.ac.uk/term/P071/19/CFSN0064",
          "shape": [
           304,
           4320,
           8640
          ],
          "size": 11346739200,
          "standard_name": "volume_attenuation_coefficient_of_downwelling_radiative_flux_in_sea_water",
          "units": "m-1",
          "units_nonstandard": "m^-1",
          "wavelength": 490
         },
         "dims": [
          "time",
          "lat",
          "lon"
         ],
         "dtype": "float32",
         "name": "kd_490"
        },
        "kd_490_bias": {
         "attrs": {
          "chunk_sizes": [
           1,
           270,
           270
          ],
          "comment": "Uncertainty lookups derived from file: /data/datasets/CCI/v6.0-production/stage09b-uncertainty_tables/kd/cci_kd_bias.dat",
          "data_type": "float32",
          "dimensions": [
           "time",
           "lat",
           "lon"
          ],
          "file_chunk_sizes": [
           1,
           270,
           270
          ],
          "file_dimensions": [
           "time",
           "lat",
           "lon"
          ],
          "fill_value": 9.96921e+36,
          "long_name": "Bias of downwelling attenuation coefficient at 490 nm derived using Lee 2005 equation and bbw from Zhang 2009",
          "orig_data_type": "float32",
          "ref": "http://www.esa-oceancolour-cci.org/?q=webfm_send/581",
          "rel": "uncertainty",
          "shape": [
           304,
           4320,
           8640
          ],
          "size": 11346739200,
          "units": "m-1",
          "units_nonstandard": "m^-1",
          "wavelength": 490
         },
         "dims": [
          "time",
          "lat",
          "lon"
         ],
         "dtype": "float32",
         "name": "kd_490_bias"
        },
        "kd_490_rmsd": {
         "attrs": {
          "chunk_sizes": [
           1,
           270,
           270
          ],
          "comment": "Uncertainty lookups derived from file: /data/datasets/CCI/v6.0-production/stage09b-uncertainty_tables/kd/cci_kd_rmsd.dat",
          "data_type": "float32",
          "dimensions": [
           "time",
           "lat",
           "lon"
          ],
          "file_chunk_sizes": [
           1,
           270,
           270
          ],
          "file_dimensions": [
           "time",
           "lat",
           "lon"
          ],
          "fill_value": 9.96921e+36,
          "long_name": "Root-mean-square-difference of downwelling attenuation coefficient at 490 nm derived using Lee 2005 equation and bbw from Zhang 2009",
          "orig_data_type": "float32",
          "ref": "http://www.esa-oceancolour-cci.org/?q=webfm_send/581",
          "rel": "uncertainty",
          "shape": [
           304,
           4320,
           8640
          ],
          "size": 11346739200,
          "units": "m-1",
          "units_nonstandard": "m^-1",
          "wavelength": 490
         },
         "dims": [
          "time",
          "lat",
          "lon"
         ],
         "dtype": "float32",
         "name": "kd_490_rmsd"
        },
        "total_nobs_sum": {
         "attrs": {
          "chunk_sizes": [
           1,
           270,
           270
          ],
          "data_type": "float32",
          "dimensions": [
           "time",
           "lat",
           "lon"
          ],
          "file_chunk_sizes": [
           1,
           270,
           270
          ],
          "file_dimensions": [
           "time",
           "lat",
           "lon"
          ],
          "fill_value": 0,
          "long_name": "Count of the total number of observations contributing to this bin cell",
          "number_of_files_composited": 30,
          "orig_data_type": "float32",
          "shape": [
           304,
           4320,
           8640
          ],
          "size": 11346739200
         },
         "dims": [
          "time",
          "lat",
          "lon"
         ],
         "dtype": "float32",
         "name": "total_nobs_sum"
        },
        "water_class1": {
         "attrs": {
          "chunk_sizes": [
           1,
           270,
           270
          ],
          "data_type": "float32",
          "dimensions": [
           "time",
           "lat",
           "lon"
          ],
          "file_chunk_sizes": [
           1,
           270,
           270
          ],
          "file_dimensions": [
           "time",
           "lat",
           "lon"
          ],
          "fill_value": 9.96921e+36,
          "long_name": "Mean of normalised water class 1 membership over the compositing period",
          "orig_data_type": "float32",
          "paper_ref": "Thomas Jackson, Shubha Sathyendranath, Frederic Melin, (2017) An improved optical classification scheme for the Ocean Colour Essential Climate Variable and its applications, Remote Sensing of Environment, Available online 5 April 2017, ISSN 0034-4257, http://doi.org/10.1016/j.rse.2017.03.036.",
          "ref": "http://dx.doi.org/10.1016/j.rse.2009.07.016",
          "shape": [
           304,
           4320,
           8640
          ],
          "size": 11346739200
         },
         "dims": [
          "time",
          "lat",
          "lon"
         ],
         "dtype": "float32",
         "name": "water_class1"
        },
        "water_class10": {
         "attrs": {
          "chunk_sizes": [
           1,
           270,
           270
          ],
          "data_type": "float32",
          "dimensions": [
           "time",
           "lat",
           "lon"
          ],
          "file_chunk_sizes": [
           1,
           270,
           270
          ],
          "file_dimensions": [
           "time",
           "lat",
           "lon"
          ],
          "fill_value": 9.96921e+36,
          "long_name": "Mean of normalised water class 10 membership over the compositing period",
          "orig_data_type": "float32",
          "paper_ref": "Thomas Jackson, Shubha Sathyendranath, Frederic Melin, (2017) An improved optical classification scheme for the Ocean Colour Essential Climate Variable and its applications, Remote Sensing of Environment, Available online 5 April 2017, ISSN 0034-4257, http://doi.org/10.1016/j.rse.2017.03.036.",
          "ref": "http://dx.doi.org/10.1016/j.rse.2009.07.016",
          "shape": [
           304,
           4320,
           8640
          ],
          "size": 11346739200
         },
         "dims": [
          "time",
          "lat",
          "lon"
         ],
         "dtype": "float32",
         "name": "water_class10"
        },
        "water_class11": {
         "attrs": {
          "chunk_sizes": [
           1,
           270,
           270
          ],
          "data_type": "float32",
          "dimensions": [
           "time",
           "lat",
           "lon"
          ],
          "file_chunk_sizes": [
           1,
           270,
           270
          ],
          "file_dimensions": [
           "time",
           "lat",
           "lon"
          ],
          "fill_value": 9.96921e+36,
          "long_name": "Mean of normalised water class 11 membership over the compositing period",
          "orig_data_type": "float32",
          "paper_ref": "Thomas Jackson, Shubha Sathyendranath, Frederic Melin, (2017) An improved optical classification scheme for the Ocean Colour Essential Climate Variable and its applications, Remote Sensing of Environment, Available online 5 April 2017, ISSN 0034-4257, http://doi.org/10.1016/j.rse.2017.03.036.",
          "ref": "http://dx.doi.org/10.1016/j.rse.2009.07.016",
          "shape": [
           304,
           4320,
           8640
          ],
          "size": 11346739200
         },
         "dims": [
          "time",
          "lat",
          "lon"
         ],
         "dtype": "float32",
         "name": "water_class11"
        },
        "water_class12": {
         "attrs": {
          "chunk_sizes": [
           1,
           270,
           270
          ],
          "data_type": "float32",
          "dimensions": [
           "time",
           "lat",
           "lon"
          ],
          "file_chunk_sizes": [
           1,
           270,
           270
          ],
          "file_dimensions": [
           "time",
           "lat",
           "lon"
          ],
          "fill_value": 9.96921e+36,
          "long_name": "Mean of normalised water class 12 membership over the compositing period",
          "orig_data_type": "float32",
          "paper_ref": "Thomas Jackson, Shubha Sathyendranath, Frederic Melin, (2017) An improved optical classification scheme for the Ocean Colour Essential Climate Variable and its applications, Remote Sensing of Environment, Available online 5 April 2017, ISSN 0034-4257, http://doi.org/10.1016/j.rse.2017.03.036.",
          "ref": "http://dx.doi.org/10.1016/j.rse.2009.07.016",
          "shape": [
           304,
           4320,
           8640
          ],
          "size": 11346739200
         },
         "dims": [
          "time",
          "lat",
          "lon"
         ],
         "dtype": "float32",
         "name": "water_class12"
        },
        "water_class13": {
         "attrs": {
          "chunk_sizes": [
           1,
           270,
           270
          ],
          "data_type": "float32",
          "dimensions": [
           "time",
           "lat",
           "lon"
          ],
          "file_chunk_sizes": [
           1,
           270,
           270
          ],
          "file_dimensions": [
           "time",
           "lat",
           "lon"
          ],
          "fill_value": 9.96921e+36,
          "long_name": "Mean of normalised water class 13 membership over the compositing period",
          "orig_data_type": "float32",
          "paper_ref": "Thomas Jackson, Shubha Sathyendranath, Frederic Melin, (2017) An improved optical classification scheme for the Ocean Colour Essential Climate Variable and its applications, Remote Sensing of Environment, Available online 5 April 2017, ISSN 0034-4257, http://doi.org/10.1016/j.rse.2017.03.036.",
          "ref": "http://dx.doi.org/10.1016/j.rse.2009.07.016",
          "shape": [
           304,
           4320,
           8640
          ],
          "size": 11346739200
         },
         "dims": [
          "time",
          "lat",
          "lon"
         ],
         "dtype": "float32",
         "name": "water_class13"
        },
        "water_class14": {
         "attrs": {
          "chunk_sizes": [
           1,
           270,
           270
          ],
          "data_type": "float32",
          "dimensions": [
           "time",
           "lat",
           "lon"
          ],
          "file_chunk_sizes": [
           1,
           270,
           270
          ],
          "file_dimensions": [
           "time",
           "lat",
           "lon"
          ],
          "fill_value": 9.96921e+36,
          "long_name": "Mean of normalised water class 14 membership over the compositing period",
          "orig_data_type": "float32",
          "paper_ref": "Thomas Jackson, Shubha Sathyendranath, Frederic Melin, (2017) An improved optical classification scheme for the Ocean Colour Essential Climate Variable and its applications, Remote Sensing of Environment, Available online 5 April 2017, ISSN 0034-4257, http://doi.org/10.1016/j.rse.2017.03.036.",
          "ref": "http://dx.doi.org/10.1016/j.rse.2009.07.016",
          "shape": [
           304,
           4320,
           8640
          ],
          "size": 11346739200
         },
         "dims": [
          "time",
          "lat",
          "lon"
         ],
         "dtype": "float32",
         "name": "water_class14"
        },
        "water_class2": {
         "attrs": {
          "chunk_sizes": [
           1,
           270,
           270
          ],
          "data_type": "float32",
          "dimensions": [
           "time",
           "lat",
           "lon"
          ],
          "file_chunk_sizes": [
           1,
           270,
           270
          ],
          "file_dimensions": [
           "time",
           "lat",
           "lon"
          ],
          "fill_value": 9.96921e+36,
          "long_name": "Mean of normalised water class 2 membership over the compositing period",
          "orig_data_type": "float32",
          "paper_ref": "Thomas Jackson, Shubha Sathyendranath, Frederic Melin, (2017) An improved optical classification scheme for the Ocean Colour Essential Climate Variable and its applications, Remote Sensing of Environment, Available online 5 April 2017, ISSN 0034-4257, http://doi.org/10.1016/j.rse.2017.03.036.",
          "ref": "http://dx.doi.org/10.1016/j.rse.2009.07.016",
          "shape": [
           304,
           4320,
           8640
          ],
          "size": 11346739200
         },
         "dims": [
          "time",
          "lat",
          "lon"
         ],
         "dtype": "float32",
         "name": "water_class2"
        },
        "water_class3": {
         "attrs": {
          "chunk_sizes": [
           1,
           270,
           270
          ],
          "data_type": "float32",
          "dimensions": [
           "time",
           "lat",
           "lon"
          ],
          "file_chunk_sizes": [
           1,
           270,
           270
          ],
          "file_dimensions": [
           "time",
           "lat",
           "lon"
          ],
          "fill_value": 9.96921e+36,
          "long_name": "Mean of normalised water class 3 membership over the compositing period",
          "orig_data_type": "float32",
          "paper_ref": "Thomas Jackson, Shubha Sathyendranath, Frederic Melin, (2017) An improved optical classification scheme for the Ocean Colour Essential Climate Variable and its applications, Remote Sensing of Environment, Available online 5 April 2017, ISSN 0034-4257, http://doi.org/10.1016/j.rse.2017.03.036.",
          "ref": "http://dx.doi.org/10.1016/j.rse.2009.07.016",
          "shape": [
           304,
           4320,
           8640
          ],
          "size": 11346739200
         },
         "dims": [
          "time",
          "lat",
          "lon"
         ],
         "dtype": "float32",
         "name": "water_class3"
        },
        "water_class4": {
         "attrs": {
          "chunk_sizes": [
           1,
           270,
           270
          ],
          "data_type": "float32",
          "dimensions": [
           "time",
           "lat",
           "lon"
          ],
          "file_chunk_sizes": [
           1,
           270,
           270
          ],
          "file_dimensions": [
           "time",
           "lat",
           "lon"
          ],
          "fill_value": 9.96921e+36,
          "long_name": "Mean of normalised water class 4 membership over the compositing period",
          "orig_data_type": "float32",
          "paper_ref": "Thomas Jackson, Shubha Sathyendranath, Frederic Melin, (2017) An improved optical classification scheme for the Ocean Colour Essential Climate Variable and its applications, Remote Sensing of Environment, Available online 5 April 2017, ISSN 0034-4257, http://doi.org/10.1016/j.rse.2017.03.036.",
          "ref": "http://dx.doi.org/10.1016/j.rse.2009.07.016",
          "shape": [
           304,
           4320,
           8640
          ],
          "size": 11346739200
         },
         "dims": [
          "time",
          "lat",
          "lon"
         ],
         "dtype": "float32",
         "name": "water_class4"
        },
        "water_class5": {
         "attrs": {
          "chunk_sizes": [
           1,
           270,
           270
          ],
          "data_type": "float32",
          "dimensions": [
           "time",
           "lat",
           "lon"
          ],
          "file_chunk_sizes": [
           1,
           270,
           270
          ],
          "file_dimensions": [
           "time",
           "lat",
           "lon"
          ],
          "fill_value": 9.96921e+36,
          "long_name": "Mean of normalised water class 5 membership over the compositing period",
          "orig_data_type": "float32",
          "paper_ref": "Thomas Jackson, Shubha Sathyendranath, Frederic Melin, (2017) An improved optical classification scheme for the Ocean Colour Essential Climate Variable and its applications, Remote Sensing of Environment, Available online 5 April 2017, ISSN 0034-4257, http://doi.org/10.1016/j.rse.2017.03.036.",
          "ref": "http://dx.doi.org/10.1016/j.rse.2009.07.016",
          "shape": [
           304,
           4320,
           8640
          ],
          "size": 11346739200
         },
         "dims": [
          "time",
          "lat",
          "lon"
         ],
         "dtype": "float32",
         "name": "water_class5"
        },
        "water_class6": {
         "attrs": {
          "chunk_sizes": [
           1,
           270,
           270
          ],
          "data_type": "float32",
          "dimensions": [
           "time",
           "lat",
           "lon"
          ],
          "file_chunk_sizes": [
           1,
           270,
           270
          ],
          "file_dimensions": [
           "time",
           "lat",
           "lon"
          ],
          "fill_value": 9.96921e+36,
          "long_name": "Mean of normalised water class 6 membership over the compositing period",
          "orig_data_type": "float32",
          "paper_ref": "Thomas Jackson, Shubha Sathyendranath, Frederic Melin, (2017) An improved optical classification scheme for the Ocean Colour Essential Climate Variable and its applications, Remote Sensing of Environment, Available online 5 April 2017, ISSN 0034-4257, http://doi.org/10.1016/j.rse.2017.03.036.",
          "ref": "http://dx.doi.org/10.1016/j.rse.2009.07.016",
          "shape": [
           304,
           4320,
           8640
          ],
          "size": 11346739200
         },
         "dims": [
          "time",
          "lat",
          "lon"
         ],
         "dtype": "float32",
         "name": "water_class6"
        },
        "water_class7": {
         "attrs": {
          "chunk_sizes": [
           1,
           270,
           270
          ],
          "data_type": "float32",
          "dimensions": [
           "time",
           "lat",
           "lon"
          ],
          "file_chunk_sizes": [
           1,
           270,
           270
          ],
          "file_dimensions": [
           "time",
           "lat",
           "lon"
          ],
          "fill_value": 9.96921e+36,
          "long_name": "Mean of normalised water class 7 membership over the compositing period",
          "orig_data_type": "float32",
          "paper_ref": "Thomas Jackson, Shubha Sathyendranath, Frederic Melin, (2017) An improved optical classification scheme for the Ocean Colour Essential Climate Variable and its applications, Remote Sensing of Environment, Available online 5 April 2017, ISSN 0034-4257, http://doi.org/10.1016/j.rse.2017.03.036.",
          "ref": "http://dx.doi.org/10.1016/j.rse.2009.07.016",
          "shape": [
           304,
           4320,
           8640
          ],
          "size": 11346739200
         },
         "dims": [
          "time",
          "lat",
          "lon"
         ],
         "dtype": "float32",
         "name": "water_class7"
        },
        "water_class8": {
         "attrs": {
          "chunk_sizes": [
           1,
           270,
           270
          ],
          "data_type": "float32",
          "dimensions": [
           "time",
           "lat",
           "lon"
          ],
          "file_chunk_sizes": [
           1,
           270,
           270
          ],
          "file_dimensions": [
           "time",
           "lat",
           "lon"
          ],
          "fill_value": 9.96921e+36,
          "long_name": "Mean of normalised water class 8 membership over the compositing period",
          "orig_data_type": "float32",
          "paper_ref": "Thomas Jackson, Shubha Sathyendranath, Frederic Melin, (2017) An improved optical classification scheme for the Ocean Colour Essential Climate Variable and its applications, Remote Sensing of Environment, Available online 5 April 2017, ISSN 0034-4257, http://doi.org/10.1016/j.rse.2017.03.036.",
          "ref": "http://dx.doi.org/10.1016/j.rse.2009.07.016",
          "shape": [
           304,
           4320,
           8640
          ],
          "size": 11346739200
         },
         "dims": [
          "time",
          "lat",
          "lon"
         ],
         "dtype": "float32",
         "name": "water_class8"
        },
        "water_class9": {
         "attrs": {
          "chunk_sizes": [
           1,
           270,
           270
          ],
          "data_type": "float32",
          "dimensions": [
           "time",
           "lat",
           "lon"
          ],
          "file_chunk_sizes": [
           1,
           270,
           270
          ],
          "file_dimensions": [
           "time",
           "lat",
           "lon"
          ],
          "fill_value": 9.96921e+36,
          "long_name": "Mean of normalised water class 9 membership over the compositing period",
          "orig_data_type": "float32",
          "paper_ref": "Thomas Jackson, Shubha Sathyendranath, Frederic Melin, (2017) An improved optical classification scheme for the Ocean Colour Essential Climate Variable and its applications, Remote Sensing of Environment, Available online 5 April 2017, ISSN 0034-4257, http://doi.org/10.1016/j.rse.2017.03.036.",
          "ref": "http://dx.doi.org/10.1016/j.rse.2009.07.016",
          "shape": [
           304,
           4320,
           8640
          ],
          "size": 11346739200
         },
         "dims": [
          "time",
          "lat",
          "lon"
         ],
         "dtype": "float32",
         "name": "water_class9"
        }
       },
       "dims": {
        "bnds": 2,
        "lat": 4320,
        "lon": 8640,
        "time": 304
       },
       "open_params_schema": {
        "additionalProperties": false,
        "properties": {
         "bbox": {
          "items": [
           {
            "maximum": 180,
            "minimum": -180,
            "type": "number"
           },
           {
            "maximum": 90,
            "minimum": -90,
            "type": "number"
           },
           {
            "maximum": 180,
            "minimum": -180,
            "type": "number"
           },
           {
            "maximum": 90,
            "minimum": -90,
            "type": "number"
           }
          ],
          "type": "array"
         },
         "normalize_data": {
          "default": true,
          "type": "boolean"
         },
         "time_range": {
          "items": [
           {
            "format": "date",
            "maxDate": "2022-12-31",
            "minDate": "1997-09-04",
            "type": "string"
           },
           {
            "format": "date",
            "maxDate": "2022-12-31",
            "minDate": "1997-09-04",
            "type": "string"
           }
          ],
          "type": "array"
         },
         "variable_names": {
          "items": {
           "enum": [
            "Rrs_412",
            "Rrs_412_bias",
            "Rrs_412_rmsd",
            "Rrs_443",
            "Rrs_443_bias",
            "Rrs_443_rmsd",
            "Rrs_490",
            "Rrs_490_bias",
            "Rrs_490_rmsd",
            "Rrs_510",
            "Rrs_510_bias",
            "Rrs_510_rmsd",
            "Rrs_560",
            "Rrs_560_bias",
            "Rrs_560_rmsd",
            "Rrs_665",
            "Rrs_665_bias",
            "Rrs_665_rmsd",
            "adg_412",
            "adg_412_bias",
            "adg_412_rmsd",
            "adg_443",
            "adg_443_bias",
            "adg_443_rmsd",
            "adg_490",
            "adg_490_bias",
            "adg_490_rmsd",
            "adg_510",
            "adg_510_bias",
            "adg_510_rmsd",
            "adg_560",
            "adg_560_bias",
            "adg_560_rmsd",
            "adg_665",
            "adg_665_bias",
            "adg_665_rmsd",
            "aph_412",
            "aph_412_bias",
            "aph_412_rmsd",
            "aph_443",
            "aph_443_bias",
            "aph_443_rmsd",
            "aph_490",
            "aph_490_bias",
            "aph_490_rmsd",
            "aph_510",
            "aph_510_bias",
            "aph_510_rmsd",
            "aph_560",
            "aph_560_bias",
            "aph_560_rmsd",
            "aph_665",
            "aph_665_bias",
            "aph_665_rmsd",
            "atot_412",
            "atot_443",
            "atot_490",
            "atot_510",
            "atot_560",
            "atot_665",
            "bbp_412",
            "bbp_443",
            "bbp_490",
            "bbp_510",
            "bbp_560",
            "bbp_665",
            "chlor_a",
            "chlor_a_log10_bias",
            "chlor_a_log10_rmsd",
            "kd_490",
            "kd_490_bias",
            "kd_490_rmsd",
            "water_class1",
            "water_class10",
            "water_class11",
            "water_class12",
            "water_class13",
            "water_class14",
            "water_class2",
            "water_class3",
            "water_class4",
            "water_class5",
            "water_class6",
            "water_class7",
            "water_class8",
            "water_class9",
            "crs",
            "MERIS_nobs_sum",
            "MODISA_nobs_sum",
            "OLCI-A_nobs_sum",
            "OLCI-B_nobs_sum",
            "SeaWiFS_nobs_sum",
            "VIIRS_nobs_sum",
            "total_nobs_sum"
           ],
           "type": "string"
          },
          "type": "array"
         }
        },
        "type": "object"
       },
       "spatial_res": 0.041666666666666664,
       "time_period": "1M",
       "time_range": [
        "1997-09-04",
        "2022-12-31"
       ]
      },
      "text/plain": [
       "<xcube.core.store.descriptor.DatasetDescriptor at 0x7fa8aed3fef0>"
      ]
     },
     "execution_count": 4,
     "metadata": {},
     "output_type": "execute_result"
    }
   ],
   "source": [
    "cci_store.describe_data(data_id)"
   ]
  },
  {
   "cell_type": "markdown",
   "id": "c4fd984c-0028-418a-8d9f-37dae390c869",
   "metadata": {},
   "source": [
    "### Step 5: Check Open Parameters for the Dataset\n",
    "\n",
    "Before opening the dataset, we can inspect which parameters are supported by the **Zarr opener** (e.g., `time_range`, `bbox`, `variable_names`). This step helps ensure that we pass valid arguments when loading data and avoid errors.\n",
    "\n",
    "The command below lists all expected input parameters and their allowed values for the selected dataset."
   ]
  },
  {
   "cell_type": "code",
   "execution_count": 5,
   "id": "a0ee1118-47e2-47c4-9401-1bb069776fdc",
   "metadata": {},
   "outputs": [
    {
     "data": {
      "application/json": {
       "additionalProperties": false,
       "properties": {
        "bbox": {
         "items": [
          {
           "maximum": 180,
           "minimum": -180,
           "type": "number"
          },
          {
           "maximum": 90,
           "minimum": -90,
           "type": "number"
          },
          {
           "maximum": 180,
           "minimum": -180,
           "type": "number"
          },
          {
           "maximum": 90,
           "minimum": -90,
           "type": "number"
          }
         ],
         "type": "array"
        },
        "normalize_data": {
         "default": true,
         "type": "boolean"
        },
        "time_range": {
         "items": [
          {
           "format": "date",
           "maxDate": "2022-12-31",
           "minDate": "1997-09-04",
           "type": "string"
          },
          {
           "format": "date",
           "maxDate": "2022-12-31",
           "minDate": "1997-09-04",
           "type": "string"
          }
         ],
         "type": "array"
        },
        "variable_names": {
         "items": {
          "enum": [
           "Rrs_412",
           "Rrs_412_bias",
           "Rrs_412_rmsd",
           "Rrs_443",
           "Rrs_443_bias",
           "Rrs_443_rmsd",
           "Rrs_490",
           "Rrs_490_bias",
           "Rrs_490_rmsd",
           "Rrs_510",
           "Rrs_510_bias",
           "Rrs_510_rmsd",
           "Rrs_560",
           "Rrs_560_bias",
           "Rrs_560_rmsd",
           "Rrs_665",
           "Rrs_665_bias",
           "Rrs_665_rmsd",
           "adg_412",
           "adg_412_bias",
           "adg_412_rmsd",
           "adg_443",
           "adg_443_bias",
           "adg_443_rmsd",
           "adg_490",
           "adg_490_bias",
           "adg_490_rmsd",
           "adg_510",
           "adg_510_bias",
           "adg_510_rmsd",
           "adg_560",
           "adg_560_bias",
           "adg_560_rmsd",
           "adg_665",
           "adg_665_bias",
           "adg_665_rmsd",
           "aph_412",
           "aph_412_bias",
           "aph_412_rmsd",
           "aph_443",
           "aph_443_bias",
           "aph_443_rmsd",
           "aph_490",
           "aph_490_bias",
           "aph_490_rmsd",
           "aph_510",
           "aph_510_bias",
           "aph_510_rmsd",
           "aph_560",
           "aph_560_bias",
           "aph_560_rmsd",
           "aph_665",
           "aph_665_bias",
           "aph_665_rmsd",
           "atot_412",
           "atot_443",
           "atot_490",
           "atot_510",
           "atot_560",
           "atot_665",
           "bbp_412",
           "bbp_443",
           "bbp_490",
           "bbp_510",
           "bbp_560",
           "bbp_665",
           "chlor_a",
           "chlor_a_log10_bias",
           "chlor_a_log10_rmsd",
           "kd_490",
           "kd_490_bias",
           "kd_490_rmsd",
           "water_class1",
           "water_class10",
           "water_class11",
           "water_class12",
           "water_class13",
           "water_class14",
           "water_class2",
           "water_class3",
           "water_class4",
           "water_class5",
           "water_class6",
           "water_class7",
           "water_class8",
           "water_class9",
           "crs",
           "MERIS_nobs_sum",
           "MODISA_nobs_sum",
           "OLCI-A_nobs_sum",
           "OLCI-B_nobs_sum",
           "SeaWiFS_nobs_sum",
           "VIIRS_nobs_sum",
           "total_nobs_sum"
          ],
          "type": "string"
         },
         "type": "array"
        }
       },
       "type": "object"
      },
      "text/plain": [
       "<xcube.util.jsonschema.JsonObjectSchema at 0x7fa8af009ac0>"
      ]
     },
     "execution_count": 5,
     "metadata": {},
     "output_type": "execute_result"
    }
   ],
   "source": [
    "cci_store.get_open_data_params_schema(data_id=data_id, opener_id='dataset:zarr:cciodp')"
   ]
  },
  {
   "cell_type": "markdown",
   "id": "63e58869-eac7-4f36-823c-8eaab9df7380",
   "metadata": {},
   "source": [
    "### Step 6: Define Region, Time Range, and Variables of Interest\n",
    "\n",
    "Before opening the dataset, we define a few key parameters:\n",
    "\n",
    "- **Time range**: the date(s) we want to load\n",
    "- **Variables**: which data variable(s) to retrieve\n",
    "- *(Optional)* **Bounding box**: spatial region of interest — here we skip it to load the global dataset"
   ]
  },
  {
   "cell_type": "code",
   "execution_count": 6,
   "id": "8a2be689-288c-4fb5-abe9-99b4b84eef07",
   "metadata": {},
   "outputs": [],
   "source": [
    "variables = ['chlor_a']  # Variable to retrieve\n",
    "start_date = '2022-06-01'    # Start and end date (same for a single timestep)\n",
    "end_date = '2022-06-30'\n",
    "# bbox = (-10.0, 35.0, 30.0, 60.0)  # Optional: restrict to a region like Europe"
   ]
  },
  {
   "cell_type": "markdown",
   "id": "14f9e524-ff7f-47e7-af2c-0e8ac2e3d668",
   "metadata": {},
   "source": [
    "### Step 7: Open the Dataset\n",
    "\n",
    "Now we open the dataset using the selected parameters.  \n",
    "The ESA Climate Toolbox will download only the necessary data (e.g., variable and time range).\n",
    "You can always adjust the time range or variables to explore different slices of the dataset."
   ]
  },
  {
   "cell_type": "code",
   "execution_count": 7,
   "id": "145b10bc-68b4-4645-a4a8-761965cb6098",
   "metadata": {},
   "outputs": [],
   "source": [
    "oc_ds = cci_store.open_data(\n",
    "    data_id=data_id,\n",
    "    variable_names=variables,\n",
    "    time_range=[start_date, end_date]\n",
    "    # bbox=bbox  # Uncomment if regional selection is needed\n",
    ")"
   ]
  },
  {
   "cell_type": "markdown",
   "id": "26aeedd6-d471-4056-ae4e-3057d7221cc3",
   "metadata": {},
   "source": [
    "### Step 8: Display Dataset Structure\n",
    "\n",
    "We print a summary of the opened dataset to inspect its structure, dimensions, variables, and metadata.  \n",
    "This helps verify that the data was loaded correctly and shows what is available for analysis and visualization.\n",
    "This step is useful to understand what the dataset contains before working with it further."
   ]
  },
  {
   "cell_type": "code",
   "execution_count": 8,
   "id": "192daaeb-241a-4fba-956f-3e7ac8cb04b5",
   "metadata": {},
   "outputs": [
    {
     "name": "stdout",
     "output_type": "stream",
     "text": [
      "\n",
      "Opened Dataset:\n",
      " <xarray.Dataset> Size: 149MB\n",
      "Dimensions:    (time: 1, lat: 4320, lon: 8640, bnds: 2)\n",
      "Coordinates:\n",
      "  * lat        (lat) float64 35kB 89.98 89.94 89.9 89.85 ... -89.9 -89.94 -89.98\n",
      "  * lon        (lon) float64 69kB -180.0 -179.9 -179.9 ... 179.9 179.9 180.0\n",
      "  * time       (time) datetime64[ns] 8B 2022-06-16\n",
      "    time_bnds  (time, bnds) datetime64[ns] 16B dask.array<chunksize=(1, 2), meta=np.ndarray>\n",
      "Dimensions without coordinates: bnds\n",
      "Data variables:\n",
      "    chlor_a    (time, lat, lon) float32 149MB dask.array<chunksize=(1, 2160, 1728), meta=np.ndarray>\n",
      "Attributes:\n",
      "    Conventions:             CF-1.7\n",
      "    title:                   esacci.OC.mon.L3S.OC_PRODUCTS.multi-sensor.multi...\n",
      "    date_created:            2025-04-16T11:28:45.335609\n",
      "    processing_level:        L3S\n",
      "    time_coverage_start:     2022-06-01T00:00:00\n",
      "    time_coverage_end:       2022-07-01T00:00:00\n",
      "    time_coverage_duration:  P30DT0H0M0S\n",
      "    history:                 [{'program': 'xcube_cci.chunkstore.CciChunkStore...\n"
     ]
    }
   ],
   "source": [
    "print(\"\\nOpened Dataset:\\n\", oc_ds)"
   ]
  },
  {
   "cell_type": "markdown",
   "id": "7671aca3-81d9-472a-a93f-12d447155676",
   "metadata": {},
   "source": [
    "### Step 9: Visualize Results\n",
    "\n",
    "We now create a simple map plot of the selected variable.  \n",
    "This allows us to explore the spatial patterns of the data — in this case, the Aerosol Optical Depth (AOD) for the selected day.\n",
    "For more interactive and advanced visualizations, check out the [ESA Climate Toolbox](https://climate.esa.int/en/data/toolbox/) or the [Toolbox documentation](https://esa-climate-toolbox.readthedocs.io/en/latest/quick_start.html#jupyter-notebooks)."
   ]
  },
  {
   "cell_type": "code",
   "execution_count": 9,
   "id": "65ec997b-a0e8-40d7-8aa9-737a3ac2ec0d",
   "metadata": {
    "scrolled": true
   },
   "outputs": [
    {
     "data": {
      "image/png": "[encoded data removed]",
      "text/plain": [
       "<Figure size 1200x500 with 2 Axes>"
      ]
     },
     "metadata": {},
     "output_type": "display_data"
    }
   ],
   "source": [
    "import numpy as np\n",
    "import matplotlib.pyplot as plt\n",
    "import cartopy.crs as ccrs\n",
    "\n",
    "# Extract and load the chlorophyll-a data\n",
    "chlor_a = oc_ds[\"chlor_a\"].isel(time=0).squeeze().load()\n",
    "lat = oc_ds[\"lat\"].values\n",
    "lon = oc_ds[\"lon\"].values\n",
    "\n",
    "# Mask invalid or zero/negative values for better visualization\n",
    "chlor_a = chlor_a.where(chlor_a > 0)\n",
    "\n",
    "# Plotting\n",
    "fig = plt.figure(figsize=(12, 5))\n",
    "ax = plt.axes(projection=ccrs.PlateCarree())\n",
    "\n",
    "mesh = ax.pcolormesh(\n",
    "    lon, lat, np.log10(chlor_a),\n",
    "    cmap=\"viridis\", vmin=-2, vmax=1  # log10 scale of chlorophyll-a in mg/m³\n",
    ")\n",
    "ax.coastlines()\n",
    "plt.colorbar(mesh, ax=ax, label=\"log10(Chlorophyll-a) [log10(mg/m³)]\")\n",
    "plt.title(\"Chlorophyll-a Concentration – June 2022\")\n",
    "plt.tight_layout()\n",
    "plt.show()"
   ]
  }
 ],
 "metadata": {
  "kernelspec": {
   "display_name": "Python 3 (ipykernel)",
   "language": "python",
   "name": "python3"
  },
  "language_info": {
   "codemirror_mode": {
    "name": "ipython",
    "version": 3
   },
   "file_extension": ".py",
   "mimetype": "text/x-python",
   "name": "python",
   "nbconvert_exporter": "python",
   "pygments_lexer": "ipython3",
   "version": "3.12.7"
  }
 },
 "nbformat": 4,
 "nbformat_minor": 5
}
