{
 "cells": [
  {
   "cell_type": "markdown",
   "id": "ab36065c-42b2-4539-94b5-c1e048a0e8b4",
   "metadata": {},
   "source": [
    "# Getting Started with Sea State CCI Data"
   ]
  },
  {
   "cell_type": "markdown",
   "id": "7820f8bc-21f0-4933-8972-0b19f268532e",
   "metadata": {},
   "source": [
    "### 1. Import Necessary Packages\n",
    "\n",
    "In this section, we import the required Python packages to work with ESA Climate Change Initiative (CCI) data. Most notably, we use the [ESA Climate Toolbox](https://esa-climate-toolbox.readthedocs.io/en/latest/) which simplifies access, manipulation, and visualization of CCI datasets in Python.\n",
    "\n",
    "These packages allow us to:\n",
    "- Access satellite-based climate data records from ESA.\n",
    "- Handle geospatial and temporal dimensions efficiently.\n",
    "- Visualize data with intuitive plotting tools.\n",
    "\n",
    "📚 For a broader introduction to the toolbox and how to install it, visit:  \n",
    "🔗 [ESA CCI Climate Toolbox Quick Start](https://esa-climate-toolbox.readthedocs.io/en/latest/quick_start.html#jupyter-notebooks)  \n",
    "🔗 [ESA Climate Data Toolbox Website](https://climate.esa.int/en/data/toolbox/)"
   ]
  },
  {
   "cell_type": "code",
   "execution_count": 1,
   "id": "f05b0d63-ff02-41f8-9070-f0d9c44d9a3c",
   "metadata": {},
   "outputs": [
    {
     "name": "stderr",
     "output_type": "stream",
     "text": [
      "<frozen abc>:106: FutureWarning: xarray subclass VectorDataCube should explicitly define __slots__\n"
     ]
    }
   ],
   "source": [
    "from xcube.core.store import new_data_store\n",
    "from esa_climate_toolbox.core import get_op\n",
    "from esa_climate_toolbox.core import list_ecv_datasets\n",
    "from esa_climate_toolbox.core import get_store\n",
    "from esa_climate_toolbox.core import list_datasets\n",
    "from esa_climate_toolbox.ops import plot\n",
    "import xarray as xr\n",
    "import matplotlib.pyplot as plt\n",
    "import warnings\n",
    "%matplotlib inline\n",
    "\n",
    "# Suppress FutureWarnings related to xarray subclassing\n",
    "warnings.filterwarnings(\"ignore\", category=FutureWarning, message=\".*xarray subclass VectorDataCube.*\")\n",
    "warnings.filterwarnings(\"ignore\", category=FutureWarning)"
   ]
  },
  {
   "cell_type": "markdown",
   "id": "a2f223ea-569a-4c84-8266-8572f861f3ed",
   "metadata": {},
   "source": [
    "### Step 2: Connect to the ESA CCI Data Store\n",
    "\n",
    "The ESA Climate Toolbox provides direct access to the **ESA Climate Data Store**, which hosts harmonized satellite-based climate data records produced under the **ESA Climate Change Initiative (CCI)**.\n",
    "\n",
    "In this step, we establish a connection to the data store so we can browse and open datasets. This connection allows us to access data **without having to download files manually** — a convenient way to explore and analyze large geospatial datasets in cloud-friendly formats such as **Zarr** or **Kerchunk**.\n",
    "\n",
    "The data store includes a wide range of essential climate variables (ECVs), such as aerosols, land surface temperature, sea level, and soil moisture.\n",
    "\n",
    "📘 Learn more about available datasets:  \n",
    "🔗 [ESA Climate Data Toolbox – Quick Start Guide](https://esa-climate-toolbox.readthedocs.io/en/latest/quick_start.html#data-access)"
   ]
  },
  {
   "cell_type": "code",
   "execution_count": 2,
   "id": "94164c99-2ef2-48d7-b098-6e136ee861af",
   "metadata": {},
   "outputs": [],
   "source": [
    "cci_store = new_data_store(\"esa-cci\")\n",
    "# List all available data sets of an ECV\n",
    "# list_ecv_datasets(\"seastate\")"
   ]
  },
  {
   "cell_type": "markdown",
   "id": "d736f1da-a755-4df7-864a-5f14f988159f",
   "metadata": {},
   "source": [
    "### Step 3: Define the Dataset ID  \n",
    "To work with a specific ESA CCI dataset, we need to specify its **dataset ID**. This unique identifier tells the toolbox which variable and product we want to access.\n",
    "\n",
    "The **ESA Sea State Climate Change Initiative (CCI)** provides several products related to **significant wave height (SWH)**. For a gridded monthly dataset, you can use the Level 4 (L4) product. This dataset offers global, monthly gridded SWH data from August 1991 to December 2018.\n",
    "\n",
    "To explore other ESA CCI projects (e.g., SST, LST, Water Vapour), simply replace the dataset ID and variable name accordingly.\n",
    "\n",
    "We will use the following dataset ID:"
   ]
  },
  {
   "cell_type": "code",
   "execution_count": 3,
   "id": "7672a7f4-be9a-4b8f-a888-93d31647d5b4",
   "metadata": {},
   "outputs": [],
   "source": [
    "data_id = 'esacci.SEASTATE.mon.L4.SWH.multi-sensor.multi-platform.MULTI_1M.3-0.r1'"
   ]
  },
  {
   "cell_type": "markdown",
   "id": "817922fd-a86b-4cee-ab9b-5a042692be42",
   "metadata": {},
   "source": [
    "📘 A full list of dataset IDs can be retrieved from the store or found in the [ESA CCI Climate Toolbox documentation](https://esa-climate-toolbox.readthedocs.io/en/latest/quick_start.html#accessing-data)."
   ]
  },
  {
   "cell_type": "markdown",
   "id": "b1e9d068-a81b-4d00-91cb-cc020bd5333a",
   "metadata": {},
   "source": [
    "### Step 4: Describe Dataset (Check Available Variables and Metadata)\n",
    "\n",
    "Before loading the full dataset, it’s helpful to **inspect the metadata** to understand its structure. This includes:\n",
    "\n",
    "- Available variables (e.g., AOD, uncertainty estimates)\n",
    "- Temporal and spatial coverage\n",
    "- Data format and structure\n",
    "\n",
    "This step ensures we know what the dataset contains and how to work with it. It also helps confirm that the variable we want to plot or analyze is actually included.\n",
    "\n",
    "🛠️ Tip: You can use the description to verify variable names, dimensions (e.g., `lat`, `lon`, `time`), and time coverage.\n",
    "\n",
    "📘 More on dataset structure:  \n",
    "🔗 [ESA Climate Toolbox – Data Access](https://esa-climate-toolbox.readthedocs.io/en/latest/quick_start.html#accessing-data)"
   ]
  },
  {
   "cell_type": "code",
   "execution_count": 4,
   "id": "1ccb7546-70f0-479d-bb0a-d902190500af",
   "metadata": {},
   "outputs": [
    {
     "name": "stderr",
     "output_type": "stream",
     "text": [
      "Dataset is not accessible via Opendap or Download\n"
     ]
    },
    {
     "data": {
      "application/json": {
       "attrs": {
        "abstract": "The ESA Sea State Climate Change Initiative (CCI) project has produced global multi-sensor time-series of along-track satellite altimeter significant wave height data (referred to as Level 4 (L4) data) with a particular focus for use in climate studies.\n\nThis dataset contains the Version 3 Remote Sensing Significant Wave Height product, gridded over a global regular cylindrical projection (1°x1° resolution), averaging valid and good measurements from all available altimeters on a monthly basis (using the L2P products also available). These L4 products are meant for statistics and visualization.\n\nThe altimeter data used in the Sea State CCI dataset v3 come from multiple satellite missions spanning from 2002 to 2021 ( Envisat, CryoSat-2, Jason-1, Jason-2, Jason-3, SARAL, Sentinel-3A), therefore spanning over a shorter time range than version 1.1. Unlike version 1.1, this version 3 involved a complete and consistent retracking of all the included altimeters. Many altimeters are bi-frequency (Ku-C or Ku-S) and only measurements in Ku band were used, for consistency reasons, being available on each altimeter but SARAL (Ka band).",
        "catalog_url": "https://catalogue.ceda.ac.uk/uuid/9c350d4ff7ee438f9f1fc7252cbb2282",
        "cci_project": "SEASTATE",
        "data_type": "SWH",
        "ecv": "SEASTATE",
        "platform_id": "multi-platform",
        "processing_level": "L4",
        "product_string": "MULTI_1M",
        "product_version": "3-0",
        "publication_date": "2022-10-10T09:23:54",
        "sensor_id": "multi-sensor",
        "title": "ESA Sea State Climate Change Initiative (Sea_State_cci) : Global remote sensing merged multi-mission monthly gridded significant wave height from altimetry,  L4 product, version 3",
        "uuid": "9c350d4ff7ee438f9f1fc7252cbb2282"
       },
       "bbox": [
        -180,
        -80,
        180,
        80
       ],
       "coords": {
        "time": {
         "attrs": {
          "calendar": "proleptic_gregorian",
          "shape": [
           224
          ],
          "size": 224,
          "standard_name": "time",
          "units": "seconds since 1970-01-01T00:00:00Z"
         },
         "dims": [
          "time"
         ],
         "dtype": "int64",
         "name": "time"
        },
        "time_bnds": {
         "attrs": {
          "calendar": "proleptic_gregorian",
          "shape": [
           2,
           224
          ],
          "size": 448,
          "standard_name": "time_bnds",
          "units": "seconds since 1970-01-01T00:00:00Z"
         },
         "dims": [
          "time",
          "bnds"
         ],
         "dtype": "int64",
         "name": "time_bnds"
        }
       },
       "crs": "WGS84",
       "data_id": "esacci.SEASTATE.mon.L4.SWH.multi-sensor.multi-platform.MULTI_1M.3-0.r1",
       "data_type": "dataset",
       "dims": {
        "bnds": 2,
        "time": 224
       },
       "open_params_schema": {
        "additionalProperties": false,
        "properties": {
         "bbox": {
          "items": [
           {
            "maximum": 180,
            "minimum": -180,
            "type": "number"
           },
           {
            "maximum": 80,
            "minimum": -80,
            "type": "number"
           },
           {
            "maximum": 180,
            "minimum": -180,
            "type": "number"
           },
           {
            "maximum": 80,
            "minimum": -80,
            "type": "number"
           }
          ],
          "type": "array"
         },
         "normalize_data": {
          "default": true,
          "type": "boolean"
         },
         "time_range": {
          "items": [
           {
            "format": "date",
            "maxDate": "2021-01-31",
            "minDate": "2002-06-01",
            "type": "string"
           },
           {
            "format": "date",
            "maxDate": "2021-01-31",
            "minDate": "2002-06-01",
            "type": "string"
           }
          ],
          "type": "array"
         },
         "variable_names": {
          "items": {
           "type": "string"
          },
          "type": "array"
         }
        },
        "type": "object"
       },
       "time_period": "1M",
       "time_range": [
        "2002-06-01",
        "2021-01-31"
       ]
      },
      "text/plain": [
       "<xcube.core.store.descriptor.DatasetDescriptor at 0x7ff18a9e5cd0>"
      ]
     },
     "execution_count": 4,
     "metadata": {},
     "output_type": "execute_result"
    }
   ],
   "source": [
    "cci_store.describe_data(data_id)"
   ]
  },
  {
   "cell_type": "markdown",
   "id": "c4fd984c-0028-418a-8d9f-37dae390c869",
   "metadata": {},
   "source": [
    "### Step 5: Check Open Parameters for the Dataset\n",
    "\n",
    "Before opening the dataset, we can inspect which parameters are supported by the **Zarr opener** (e.g., `time_range`, `bbox`, `variable_names`). This step helps ensure that we pass valid arguments when loading data and avoid errors.\n",
    "\n",
    "The command below lists all expected input parameters and their allowed values for the selected dataset."
   ]
  },
  {
   "cell_type": "code",
   "execution_count": 5,
   "id": "a0ee1118-47e2-47c4-9401-1bb069776fdc",
   "metadata": {},
   "outputs": [
    {
     "data": {
      "application/json": {
       "additionalProperties": false,
       "properties": {
        "bbox": {
         "items": [
          {
           "maximum": 180,
           "minimum": -180,
           "type": "number"
          },
          {
           "maximum": 80,
           "minimum": -80,
           "type": "number"
          },
          {
           "maximum": 180,
           "minimum": -180,
           "type": "number"
          },
          {
           "maximum": 80,
           "minimum": -80,
           "type": "number"
          }
         ],
         "type": "array"
        },
        "normalize_data": {
         "default": true,
         "type": "boolean"
        },
        "time_range": {
         "items": [
          {
           "format": "date",
           "maxDate": "2021-01-31",
           "minDate": "2002-06-01",
           "type": "string"
          },
          {
           "format": "date",
           "maxDate": "2021-01-31",
           "minDate": "2002-06-01",
           "type": "string"
          }
         ],
         "type": "array"
        },
        "variable_names": {
         "items": {
          "type": "string"
         },
         "type": "array"
        }
       },
       "type": "object"
      },
      "text/plain": [
       "<xcube.util.jsonschema.JsonObjectSchema at 0x7ff18a9c7b00>"
      ]
     },
     "execution_count": 5,
     "metadata": {},
     "output_type": "execute_result"
    }
   ],
   "source": [
    "cci_store.get_open_data_params_schema(data_id=data_id, opener_id='dataset:zarr:cciodp')"
   ]
  },
  {
   "cell_type": "markdown",
   "id": "63e58869-eac7-4f36-823c-8eaab9df7380",
   "metadata": {},
   "source": [
    "### Step 6: Define Region, Time Range, and Variables of Interest\n",
    "\n",
    "Before opening the dataset, we define a few key parameters:\n",
    "\n",
    "- **Time range**: the date(s) we want to load\n",
    "- **Variables**: which data variable(s) to retrieve\n",
    "- *(Optional)* **Bounding box**: spatial region of interest — here we skip it to load the global dataset"
   ]
  },
  {
   "cell_type": "code",
   "execution_count": 6,
   "id": "8a2be689-288c-4fb5-abe9-99b4b84eef07",
   "metadata": {},
   "outputs": [],
   "source": [
    "variables = ['swh']  # Variable to retrieve\n",
    "start_date = '2015-06-01'    # Start and end date (same for a single timestep)\n",
    "end_date = '2015-06-30'\n",
    "# bbox = (-10.0, 35.0, 30.0, 60.0)  # Optional: restrict to a region like Europe"
   ]
  },
  {
   "cell_type": "markdown",
   "id": "14f9e524-ff7f-47e7-af2c-0e8ac2e3d668",
   "metadata": {},
   "source": [
    "### Step 7: Open the Dataset\n",
    "\n",
    "Now we open the dataset using the selected parameters.  \n",
    "The ESA Climate Toolbox will download only the necessary data (e.g., variable and time range).\n",
    "You can always adjust the time range or variables to explore different slices of the dataset."
   ]
  },
  {
   "cell_type": "code",
   "execution_count": 7,
   "id": "145b10bc-68b4-4645-a4a8-761965cb6098",
   "metadata": {},
   "outputs": [],
   "source": [
    "seastate_ds = cci_store.open_data(\n",
    "    data_id=data_id,\n",
    "    variable_names=variables,\n",
    "    time_range=[start_date, end_date]\n",
    "    # bbox=bbox  # Uncomment if regional selection is needed\n",
    ")"
   ]
  },
  {
   "cell_type": "markdown",
   "id": "26aeedd6-d471-4056-ae4e-3057d7221cc3",
   "metadata": {},
   "source": [
    "### Step 8: Display Dataset Structure\n",
    "\n",
    "We print a summary of the opened dataset to inspect its structure, dimensions, variables, and metadata.  \n",
    "This helps verify that the data was loaded correctly and shows what is available for analysis and visualization.\n",
    "This step is useful to understand what the dataset contains before working with it further."
   ]
  },
  {
   "cell_type": "code",
   "execution_count": 8,
   "id": "192daaeb-241a-4fba-956f-3e7ac8cb04b5",
   "metadata": {},
   "outputs": [
    {
     "name": "stdout",
     "output_type": "stream",
     "text": [
      "\n",
      "Opened Dataset:\n",
      " <xarray.Dataset> Size: 32B\n",
      "Dimensions:    (time: 1, bnds: 2)\n",
      "Coordinates:\n",
      "  * time       (time) datetime64[ns] 8B 2015-01-01\n",
      "    time_bnds  (time, bnds) datetime64[ns] 16B 2015-01-01 2015-01-01\n",
      "Dimensions without coordinates: bnds\n",
      "Data variables:\n",
      "    swh        (time) float64 8B 0.0\n",
      "Attributes:\n",
      "    Conventions:             CF-1.7\n",
      "    title:                   esacci.SEASTATE.mon.L4.SWH.multi-sensor.multi-pl...\n",
      "    date_created:            2025-04-15T14:28:16.318984\n",
      "    processing_level:        L4\n",
      "    time_coverage_start:     2015-06-01T00:00:00\n",
      "    time_coverage_end:       2015-07-01T00:00:00\n",
      "    time_coverage_duration:  P30DT0H0M0S\n",
      "    history:                 [{'program': 'xcube_cci.chunkstore.CciChunkStore...\n"
     ]
    }
   ],
   "source": [
    "print(\"\\nOpened Dataset:\\n\", seastate_ds)"
   ]
  },
  {
   "cell_type": "markdown",
   "id": "7671aca3-81d9-472a-a93f-12d447155676",
   "metadata": {},
   "source": [
    "### Step 9: Visualize Results\n",
    "\n",
    "We now create a simple map plot of the selected variable.  \n",
    "This allows us to explore the spatial patterns of the data — in this case, the Aerosol Optical Depth (AOD) for the selected day.\n",
    "For more interactive and advanced visualizations, check out the [ESA Climate Toolbox](https://climate.esa.int/en/data/toolbox/) or the [Toolbox documentation](https://esa-climate-toolbox.readthedocs.io/en/latest/quick_start.html#jupyter-notebooks)."
   ]
  },
  {
   "cell_type": "code",
   "execution_count": 9,
   "id": "65ec997b-a0e8-40d7-8aa9-737a3ac2ec0d",
   "metadata": {
    "scrolled": true
   },
   "outputs": [
    {
     "ename": "KeyError",
     "evalue": "\"No variable named 'lat'. Variables on the dataset include ['swh', 'time', 'time_bnds']\"",
     "output_type": "error",
     "traceback": [
      "\u001b[0;31m---------------------------------------------------------------------------\u001b[0m",
      "\u001b[0;31mKeyError\u001b[0m                                  Traceback (most recent call last)",
      "\u001b[0;32m/cmsaf/cmsaf-ops3/stkothe/KE/ect/lib/python3.12/site-packages/xarray/core/dataset.py\u001b[0m in \u001b[0;36m?\u001b[0;34m(self, name)\u001b[0m\n\u001b[1;32m   1475\u001b[0m             \u001b[0mvariable\u001b[0m \u001b[0;34m=\u001b[0m \u001b[0mself\u001b[0m\u001b[0;34m.\u001b[0m\u001b[0m_variables\u001b[0m\u001b[0;34m[\u001b[0m\u001b[0mname\u001b[0m\u001b[0;34m]\u001b[0m\u001b[0;34m\u001b[0m\u001b[0;34m\u001b[0m\u001b[0m\n\u001b[1;32m   1476\u001b[0m         \u001b[0;32mexcept\u001b[0m \u001b[0mKeyError\u001b[0m\u001b[0;34m:\u001b[0m\u001b[0;34m\u001b[0m\u001b[0;34m\u001b[0m\u001b[0m\n\u001b[0;32m-> 1477\u001b[0;31m             \u001b[0m_\u001b[0m\u001b[0;34m,\u001b[0m \u001b[0mname\u001b[0m\u001b[0;34m,\u001b[0m \u001b[0mvariable\u001b[0m \u001b[0;34m=\u001b[0m \u001b[0m_get_virtual_variable\u001b[0m\u001b[0;34m(\u001b[0m\u001b[0mself\u001b[0m\u001b[0;34m.\u001b[0m\u001b[0m_variables\u001b[0m\u001b[0;34m,\u001b[0m \u001b[0mname\u001b[0m\u001b[0;34m,\u001b[0m \u001b[0mself\u001b[0m\u001b[0;34m.\u001b[0m\u001b[0msizes\u001b[0m\u001b[0;34m)\u001b[0m\u001b[0;34m\u001b[0m\u001b[0;34m\u001b[0m\u001b[0m\n\u001b[0m\u001b[1;32m   1478\u001b[0m \u001b[0;34m\u001b[0m\u001b[0m\n",
      "\u001b[0;31mKeyError\u001b[0m: 'lat'",
      "\nDuring handling of the above exception, another exception occurred:\n",
      "\u001b[0;31mKeyError\u001b[0m                                  Traceback (most recent call last)",
      "\u001b[0;32m/cmsaf/cmsaf-ops3/stkothe/KE/ect/lib/python3.12/site-packages/xarray/core/dataset.py\u001b[0m in \u001b[0;36m?\u001b[0;34m(self, key)\u001b[0m\n\u001b[1;32m   1574\u001b[0m                 \u001b[0;32mreturn\u001b[0m \u001b[0mself\u001b[0m\u001b[0;34m.\u001b[0m\u001b[0m_construct_dataarray\u001b[0m\u001b[0;34m(\u001b[0m\u001b[0mkey\u001b[0m\u001b[0;34m)\u001b[0m\u001b[0;34m\u001b[0m\u001b[0;34m\u001b[0m\u001b[0m\n\u001b[1;32m   1575\u001b[0m             \u001b[0;32mexcept\u001b[0m \u001b[0mKeyError\u001b[0m \u001b[0;32mas\u001b[0m \u001b[0me\u001b[0m\u001b[0;34m:\u001b[0m\u001b[0;34m\u001b[0m\u001b[0;34m\u001b[0m\u001b[0m\n\u001b[0;32m-> 1576\u001b[0;31m                 raise KeyError(\n\u001b[0m\u001b[1;32m   1577\u001b[0m                     \u001b[0;34mf\"\u001b[0m\u001b[0;34mNo variable named \u001b[0m\u001b[0;34m{\u001b[0m\u001b[0mkey\u001b[0m\u001b[0;34m!\u001b[0m\u001b[0mr\u001b[0m\u001b[0;34m}\u001b[0m\u001b[0;34m. Variables on the dataset include \u001b[0m\u001b[0;34m{\u001b[0m\u001b[0mshorten_list_repr\u001b[0m\u001b[0;34m(\u001b[0m\u001b[0mlist\u001b[0m\u001b[0;34m(\u001b[0m\u001b[0mself\u001b[0m\u001b[0;34m.\u001b[0m\u001b[0mvariables\u001b[0m\u001b[0;34m.\u001b[0m\u001b[0mkeys\u001b[0m\u001b[0;34m(\u001b[0m\u001b[0;34m)\u001b[0m\u001b[0;34m)\u001b[0m\u001b[0;34m,\u001b[0m \u001b[0mmax_items\u001b[0m\u001b[0;34m=\u001b[0m\u001b[0;36m10\u001b[0m\u001b[0;34m)\u001b[0m\u001b[0;34m}\u001b[0m\u001b[0;34m\"\u001b[0m\u001b[0;34m\u001b[0m\u001b[0;34m\u001b[0m\u001b[0m\n",
      "\u001b[0;32m/cmsaf/cmsaf-ops3/stkothe/KE/ect/lib/python3.12/site-packages/xarray/core/dataset.py\u001b[0m in \u001b[0;36m?\u001b[0;34m(self, name)\u001b[0m\n\u001b[1;32m   1475\u001b[0m             \u001b[0mvariable\u001b[0m \u001b[0;34m=\u001b[0m \u001b[0mself\u001b[0m\u001b[0;34m.\u001b[0m\u001b[0m_variables\u001b[0m\u001b[0;34m[\u001b[0m\u001b[0mname\u001b[0m\u001b[0;34m]\u001b[0m\u001b[0;34m\u001b[0m\u001b[0;34m\u001b[0m\u001b[0m\n\u001b[1;32m   1476\u001b[0m         \u001b[0;32mexcept\u001b[0m \u001b[0mKeyError\u001b[0m\u001b[0;34m:\u001b[0m\u001b[0;34m\u001b[0m\u001b[0;34m\u001b[0m\u001b[0m\n\u001b[0;32m-> 1477\u001b[0;31m             \u001b[0m_\u001b[0m\u001b[0;34m,\u001b[0m \u001b[0mname\u001b[0m\u001b[0;34m,\u001b[0m \u001b[0mvariable\u001b[0m \u001b[0;34m=\u001b[0m \u001b[0m_get_virtual_variable\u001b[0m\u001b[0;34m(\u001b[0m\u001b[0mself\u001b[0m\u001b[0;34m.\u001b[0m\u001b[0m_variables\u001b[0m\u001b[0;34m,\u001b[0m \u001b[0mname\u001b[0m\u001b[0;34m,\u001b[0m \u001b[0mself\u001b[0m\u001b[0;34m.\u001b[0m\u001b[0msizes\u001b[0m\u001b[0;34m)\u001b[0m\u001b[0;34m\u001b[0m\u001b[0;34m\u001b[0m\u001b[0m\n\u001b[0m\u001b[1;32m   1478\u001b[0m \u001b[0;34m\u001b[0m\u001b[0m\n",
      "\u001b[0;32m/cmsaf/cmsaf-ops3/stkothe/KE/ect/lib/python3.12/site-packages/xarray/core/dataset.py\u001b[0m in \u001b[0;36m?\u001b[0;34m(variables, key, dim_sizes)\u001b[0m\n\u001b[1;32m    208\u001b[0m     \u001b[0msplit_key\u001b[0m \u001b[0;34m=\u001b[0m \u001b[0mkey\u001b[0m\u001b[0;34m.\u001b[0m\u001b[0msplit\u001b[0m\u001b[0;34m(\u001b[0m\u001b[0;34m\".\"\u001b[0m\u001b[0;34m,\u001b[0m \u001b[0;36m1\u001b[0m\u001b[0;34m)\u001b[0m\u001b[0;34m\u001b[0m\u001b[0;34m\u001b[0m\u001b[0m\n\u001b[1;32m    209\u001b[0m     \u001b[0;32mif\u001b[0m \u001b[0mlen\u001b[0m\u001b[0;34m(\u001b[0m\u001b[0msplit_key\u001b[0m\u001b[0;34m)\u001b[0m \u001b[0;34m!=\u001b[0m \u001b[0;36m2\u001b[0m\u001b[0;34m:\u001b[0m\u001b[0;34m\u001b[0m\u001b[0;34m\u001b[0m\u001b[0m\n\u001b[0;32m--> 210\u001b[0;31m         \u001b[0;32mraise\u001b[0m \u001b[0mKeyError\u001b[0m\u001b[0;34m(\u001b[0m\u001b[0mkey\u001b[0m\u001b[0;34m)\u001b[0m\u001b[0;34m\u001b[0m\u001b[0;34m\u001b[0m\u001b[0m\n\u001b[0m\u001b[1;32m    211\u001b[0m \u001b[0;34m\u001b[0m\u001b[0m\n",
      "\u001b[0;31mKeyError\u001b[0m: 'lat'",
      "\nThe above exception was the direct cause of the following exception:\n",
      "\u001b[0;31mKeyError\u001b[0m                                  Traceback (most recent call last)",
      "\u001b[0;32m/tmp/ipykernel_2864/1192142206.py\u001b[0m in \u001b[0;36m?\u001b[0;34m()\u001b[0m\n\u001b[1;32m      3\u001b[0m \u001b[0;32mimport\u001b[0m \u001b[0mnumpy\u001b[0m \u001b[0;32mas\u001b[0m \u001b[0mnp\u001b[0m\u001b[0;34m\u001b[0m\u001b[0;34m\u001b[0m\u001b[0m\n\u001b[1;32m      4\u001b[0m \u001b[0;34m\u001b[0m\u001b[0m\n\u001b[1;32m      5\u001b[0m \u001b[0;31m# Assuming 'ds' is your xarray Dataset and 'swh' is the variable for significant wave height\u001b[0m\u001b[0;34m\u001b[0m\u001b[0;34m\u001b[0m\u001b[0m\n\u001b[1;32m      6\u001b[0m \u001b[0mswh\u001b[0m \u001b[0;34m=\u001b[0m \u001b[0mseastate_ds\u001b[0m\u001b[0;34m[\u001b[0m\u001b[0;34m'swh'\u001b[0m\u001b[0;34m]\u001b[0m\u001b[0;34m.\u001b[0m\u001b[0misel\u001b[0m\u001b[0;34m(\u001b[0m\u001b[0mtime\u001b[0m\u001b[0;34m=\u001b[0m\u001b[0;36m0\u001b[0m\u001b[0;34m)\u001b[0m  \u001b[0;31m# Select the first time step\u001b[0m\u001b[0;34m\u001b[0m\u001b[0;34m\u001b[0m\u001b[0m\n\u001b[0;32m----> 7\u001b[0;31m \u001b[0mlat\u001b[0m \u001b[0;34m=\u001b[0m \u001b[0mseastate_ds\u001b[0m\u001b[0;34m[\u001b[0m\u001b[0;34m'lat'\u001b[0m\u001b[0;34m]\u001b[0m\u001b[0;34m\u001b[0m\u001b[0;34m\u001b[0m\u001b[0m\n\u001b[0m\u001b[1;32m      8\u001b[0m \u001b[0mlon\u001b[0m \u001b[0;34m=\u001b[0m \u001b[0mseastate_ds\u001b[0m\u001b[0;34m[\u001b[0m\u001b[0;34m'lon'\u001b[0m\u001b[0;34m]\u001b[0m\u001b[0;34m\u001b[0m\u001b[0;34m\u001b[0m\u001b[0m\n\u001b[1;32m      9\u001b[0m \u001b[0;34m\u001b[0m\u001b[0m\n\u001b[1;32m     10\u001b[0m \u001b[0;31m# Create the plot\u001b[0m\u001b[0;34m\u001b[0m\u001b[0;34m\u001b[0m\u001b[0m\n",
      "\u001b[0;32m/cmsaf/cmsaf-ops3/stkothe/KE/ect/lib/python3.12/site-packages/xarray/core/dataset.py\u001b[0m in \u001b[0;36m?\u001b[0;34m(self, key)\u001b[0m\n\u001b[1;32m   1572\u001b[0m         \u001b[0;32mif\u001b[0m \u001b[0mutils\u001b[0m\u001b[0;34m.\u001b[0m\u001b[0mhashable\u001b[0m\u001b[0;34m(\u001b[0m\u001b[0mkey\u001b[0m\u001b[0;34m)\u001b[0m\u001b[0;34m:\u001b[0m\u001b[0;34m\u001b[0m\u001b[0;34m\u001b[0m\u001b[0m\n\u001b[1;32m   1573\u001b[0m             \u001b[0;32mtry\u001b[0m\u001b[0;34m:\u001b[0m\u001b[0;34m\u001b[0m\u001b[0;34m\u001b[0m\u001b[0m\n\u001b[1;32m   1574\u001b[0m                 \u001b[0;32mreturn\u001b[0m \u001b[0mself\u001b[0m\u001b[0;34m.\u001b[0m\u001b[0m_construct_dataarray\u001b[0m\u001b[0;34m(\u001b[0m\u001b[0mkey\u001b[0m\u001b[0;34m)\u001b[0m\u001b[0;34m\u001b[0m\u001b[0;34m\u001b[0m\u001b[0m\n\u001b[1;32m   1575\u001b[0m             \u001b[0;32mexcept\u001b[0m \u001b[0mKeyError\u001b[0m \u001b[0;32mas\u001b[0m \u001b[0me\u001b[0m\u001b[0;34m:\u001b[0m\u001b[0;34m\u001b[0m\u001b[0;34m\u001b[0m\u001b[0m\n\u001b[0;32m-> 1576\u001b[0;31m                 raise KeyError(\n\u001b[0m\u001b[1;32m   1577\u001b[0m                     \u001b[0;34mf\"\u001b[0m\u001b[0;34mNo variable named \u001b[0m\u001b[0;34m{\u001b[0m\u001b[0mkey\u001b[0m\u001b[0;34m!\u001b[0m\u001b[0mr\u001b[0m\u001b[0;34m}\u001b[0m\u001b[0;34m. Variables on the dataset include \u001b[0m\u001b[0;34m{\u001b[0m\u001b[0mshorten_list_repr\u001b[0m\u001b[0;34m(\u001b[0m\u001b[0mlist\u001b[0m\u001b[0;34m(\u001b[0m\u001b[0mself\u001b[0m\u001b[0;34m.\u001b[0m\u001b[0mvariables\u001b[0m\u001b[0;34m.\u001b[0m\u001b[0mkeys\u001b[0m\u001b[0;34m(\u001b[0m\u001b[0;34m)\u001b[0m\u001b[0;34m)\u001b[0m\u001b[0;34m,\u001b[0m \u001b[0mmax_items\u001b[0m\u001b[0;34m=\u001b[0m\u001b[0;36m10\u001b[0m\u001b[0;34m)\u001b[0m\u001b[0;34m}\u001b[0m\u001b[0;34m\"\u001b[0m\u001b[0;34m\u001b[0m\u001b[0;34m\u001b[0m\u001b[0m\n\u001b[1;32m   1578\u001b[0m                 \u001b[0;34m)\u001b[0m \u001b[0;32mfrom\u001b[0m \u001b[0me\u001b[0m\u001b[0;34m\u001b[0m\u001b[0;34m\u001b[0m\u001b[0m\n\u001b[1;32m   1579\u001b[0m \u001b[0;34m\u001b[0m\u001b[0m\n",
      "\u001b[0;31mKeyError\u001b[0m: \"No variable named 'lat'. Variables on the dataset include ['swh', 'time', 'time_bnds']\""
     ]
    }
   ],
   "source": [
    "import matplotlib.pyplot as plt\n",
    "import cartopy.crs as ccrs\n",
    "import numpy as np\n",
    "\n",
    "# Assuming 'ds' is your xarray Dataset and 'swh' is the variable for significant wave height\n",
    "swh = seastate_ds['swh'].isel(time=0)  # Select the first time step\n",
    "lat = seastate_ds['lat']\n",
    "lon = seastate_ds['lon']\n",
    "\n",
    "# Create the plot\n",
    "fig, ax = plt.subplots(figsize=(12, 6), subplot_kw={'projection': ccrs.PlateCarree()})\n",
    "mesh = ax.pcolormesh(lon, lat, swh, cmap='viridis', shading='auto')\n",
    "ax.coastlines()\n",
    "ax.set_title('Significant Wave Height (m)')\n",
    "plt.colorbar(mesh, ax=ax, label='SWH (m)')\n",
    "plt.show()"
   ]
  }
 ],
 "metadata": {
  "kernelspec": {
   "display_name": "Python 3 (ipykernel)",
   "language": "python",
   "name": "python3"
  },
  "language_info": {
   "codemirror_mode": {
    "name": "ipython",
    "version": 3
   },
   "file_extension": ".py",
   "mimetype": "text/x-python",
   "name": "python",
   "nbconvert_exporter": "python",
   "pygments_lexer": "ipython3",
   "version": "3.12.7"
  }
 },
 "nbformat": 4,
 "nbformat_minor": 5
}
