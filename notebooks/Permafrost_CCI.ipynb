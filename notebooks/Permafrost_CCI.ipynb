{
 "cells": [
  {
   "cell_type": "markdown",
   "id": "ab36065c-42b2-4539-94b5-c1e048a0e8b4",
   "metadata": {},
   "source": [
    "# Getting Started with Permafrost CCI Data"
   ]
  },
  {
   "cell_type": "markdown",
   "id": "7820f8bc-21f0-4933-8972-0b19f268532e",
   "metadata": {},
   "source": [
    "### 1. Import Necessary Packages\n",
    "\n",
    "In this section, we import the required Python packages to work with ESA Climate Change Initiative (CCI) data. Most notably, we use the [ESA Climate Toolbox](https://esa-climate-toolbox.readthedocs.io/en/latest/) which simplifies access, manipulation, and visualization of CCI datasets in Python.\n",
    "\n",
    "These packages allow us to:\n",
    "- Access satellite-based climate data records from ESA.\n",
    "- Handle geospatial and temporal dimensions efficiently.\n",
    "- Visualize data with intuitive plotting tools.\n",
    "\n",
    "📚 For a broader introduction to the toolbox and how to install it, visit:  \n",
    "🔗 [ESA CCI Climate Toolbox Quick Start](https://esa-climate-toolbox.readthedocs.io/en/latest/quick_start.html#jupyter-notebooks)  \n",
    "🔗 [ESA Climate Data Toolbox Website](https://climate.esa.int/en/data/toolbox/)"
   ]
  },
  {
   "cell_type": "code",
   "execution_count": 20,
   "id": "f05b0d63-ff02-41f8-9070-f0d9c44d9a3c",
   "metadata": {},
   "outputs": [],
   "source": [
    "from xcube.core.store import new_data_store\n",
    "from esa_climate_toolbox.core import get_op\n",
    "from esa_climate_toolbox.core import list_ecv_datasets\n",
    "from esa_climate_toolbox.core import get_store\n",
    "from esa_climate_toolbox.core import list_datasets\n",
    "from esa_climate_toolbox.ops import plot\n",
    "import xarray as xr\n",
    "import matplotlib.pyplot as plt\n",
    "import warnings\n",
    "%matplotlib inline\n",
    "\n",
    "# Suppress FutureWarnings related to xarray subclassing\n",
    "warnings.filterwarnings(\"ignore\", category=FutureWarning, message=\".*xarray subclass VectorDataCube.*\")\n",
    "warnings.filterwarnings(\"ignore\", category=FutureWarning)"
   ]
  },
  {
   "cell_type": "markdown",
   "id": "a2f223ea-569a-4c84-8266-8572f861f3ed",
   "metadata": {},
   "source": [
    "### Step 2: Connect to the ESA CCI Data Store\n",
    "\n",
    "The ESA Climate Toolbox provides direct access to the **ESA Climate Data Store**, which hosts harmonized satellite-based climate data records produced under the **ESA Climate Change Initiative (CCI)**.\n",
    "\n",
    "In this step, we establish a connection to the data store so we can browse and open datasets. This connection allows us to access data **without having to download files manually** — a convenient way to explore and analyze large geospatial datasets in cloud-friendly formats such as **Zarr** or **Kerchunk**.\n",
    "\n",
    "The data store includes a wide range of essential climate variables (ECVs), such as aerosols, land surface temperature, sea level, and soil moisture.\n",
    "\n",
    "📘 Learn more about available datasets:  \n",
    "🔗 [ESA Climate Data Toolbox – Quick Start Guide](https://esa-climate-toolbox.readthedocs.io/en/latest/quick_start.html#data-access)"
   ]
  },
  {
   "cell_type": "code",
   "execution_count": 24,
   "id": "94164c99-2ef2-48d7-b098-6e136ee861af",
   "metadata": {},
   "outputs": [],
   "source": [
    "cci_store = new_data_store(\"esa-cci\")\n",
    "# List all available data sets of an ECV\n",
    "# list_ecv_datasets(\"Permafrost\")"
   ]
  },
  {
   "cell_type": "markdown",
   "id": "d736f1da-a755-4df7-864a-5f14f988159f",
   "metadata": {},
   "source": [
    "### Step 3: Define the Dataset ID  \n",
    "To work with a specific ESA CCI dataset, we need to specify its **dataset ID**. This unique identifier tells the toolbox which variable and product we want to access.\n",
    "\n",
    "In this example, we are using a dataset from the **Permafrost CCI project** that provides yearly estimates of permafrost extent and ground temperature, derived from a combination of satellite data and land surface modeling. These products are key for monitoring the stability of permafrost regions and understanding their role in the carbon cycle and climate feedback mechanisms.\n",
    "\n",
    "We will use the following dataset ID:"
   ]
  },
  {
   "cell_type": "code",
   "execution_count": 25,
   "id": "7672a7f4-be9a-4b8f-a888-93d31647d5b4",
   "metadata": {},
   "outputs": [],
   "source": [
    "data_id = 'esacci.PERMAFROST.yr.L4.PFR.multi-sensor.multi-platform.ERA5_MODISLST_BIASCORRECTED.04-0.r1'"
   ]
  },
  {
   "cell_type": "markdown",
   "id": "817922fd-a86b-4cee-ab9b-5a042692be42",
   "metadata": {},
   "source": [
    "📘 A full list of dataset IDs can be retrieved from the store or found in the [ESA CCI Climate Toolbox documentation](https://esa-climate-toolbox.readthedocs.io/en/latest/quick_start.html#accessing-data)."
   ]
  },
  {
   "cell_type": "markdown",
   "id": "b1e9d068-a81b-4d00-91cb-cc020bd5333a",
   "metadata": {},
   "source": [
    "### Step 4: Describe Dataset (Check Available Variables and Metadata)\n",
    "\n",
    "Before loading the full dataset, it’s helpful to **inspect the metadata** to understand its structure. This includes:\n",
    "\n",
    "- Available variables (e.g., AOD, uncertainty estimates)\n",
    "- Temporal and spatial coverage\n",
    "- Data format and structure\n",
    "\n",
    "This step ensures we know what the dataset contains and how to work with it. It also helps confirm that the variable we want to plot or analyze is actually included.\n",
    "\n",
    "🛠️ Tip: You can use the description to verify variable names, dimensions (e.g., `lat`, `lon`, `time`), and time coverage.\n",
    "\n",
    "📘 More on dataset structure:  \n",
    "🔗 [ESA Climate Toolbox – Data Access](https://esa-climate-toolbox.readthedocs.io/en/latest/quick_start.html#accessing-data)"
   ]
  },
  {
   "cell_type": "code",
   "execution_count": 26,
   "id": "1ccb7546-70f0-479d-bb0a-d902190500af",
   "metadata": {},
   "outputs": [
    {
     "data": {
      "application/json": {
       "attrs": {
        "abstract": "This dataset contains v4.0 permafrost extent data produced as part of the European Space Agency's (ESA) Climate Change Initiative (CCI) Permafrost project. It forms part of the third version of their Climate Research Data Package (CRDP v3). It is derived from a thermal model driven and constrained by satellite data. CRDPv3 covers the years from 1997 to 2021. Grid products of CDRP v3 are released in annual files, covering the start to the end of the Julian year. This corresponds to average annual ground temperatures (at 2 m depth) which forms the basis for the retrieval of yearly fraction of permafrost-underlain and permafrost-free area within a pixel. A classification according to the IPA (International Permafrost Association) zonation delivers the well-known permafrost zones, distinguishing isolated (0-10%) sporadic (10-50%), discontinuous (50-90%) and continuous permafrost (90-100%).  \n\nCase A: It covers the Northern Hemisphere (north of 30°) for the period 2003-2021 based on MODIS \nLand Surface temperature merged with downscaled ERA5 reanalysis near-surface air temperature data.\nCase B: It covers the Northern Hemisphere (north of 30°) for the period 1997-2002 based on downscaled ERA5 reanalysis near-surface air temperature data which are bias-corrected with the Case A product for the overlap period 2003-2021 using a pixel-specific statistics for each day of the year.",
        "catalog_url": "https://catalogue.ceda.ac.uk/uuid/93444bc1c4364a59869e004bf9bfd94a",
        "cci_project": "PERMAFROST",
        "comment": "These data were produced at ESA CCI as part of the ESA Permafrost CCI+ project Contract No 4000123681-18-I-NB. They are part of the 1st Climate Research Data Package release.",
        "data_type": "PFR",
        "ecv": "PERMAFROST",
        "history": "2024-03-20 13:44:29",
        "institute": "Department of Geosciences, University of Oslo",
        "platform_id": "multi-platform",
        "processing_level": "L4",
        "product_string": "ERA5_MODISLST_BIASCORRECTED",
        "product_version": "04-0",
        "project": "Climate Change Initiative - European Space Agency",
        "publication_date": "2024-04-03T13:06:18",
        "references": "http://cci.esa.int/Permafrost, https://doi.org/10.5194/gmd-9-523-2016",
        "sensor_id": "multi-sensor",
        "source": "MODIS MOD11A1 and MYD11A1 level 3 Collection 6, ESA CCI Land Cover dataset v1.6.1, ERA5 Reanalysis",
        "title": "ESA Permafrost Climate Change Initiative (Permafrost_cci): Permafrost extent for the Northern Hemisphere, v4.0",
        "uuid": "93444bc1c4364a59869e004bf9bfd94a"
       },
       "bbox": [
        -180,
        25,
        180,
        85
       ],
       "coords": {
        "lat": {
         "attrs": {
          "chunk_sizes": 1000,
          "data_type": "float32",
          "dimensions": [
           "lat"
          ],
          "file_chunk_sizes": 1000,
          "file_dimensions": [
           "lat"
          ],
          "fill_value": 9.96921e+36,
          "long_name": "latitude_coordinates",
          "orig_data_type": "float32",
          "reference_datum": "geographical coordinates, WGS84 projection",
          "shape": [
           6000
          ],
          "size": 6000,
          "standard_name": "latitude",
          "units": "degrees_north",
          "valid_max": 85,
          "valid_min": 25
         },
         "dims": [
          "lat"
         ],
         "dtype": "float32",
         "name": "lat"
        },
        "lon": {
         "attrs": {
          "chunk_sizes": 1000,
          "data_type": "float32",
          "dimensions": [
           "lon"
          ],
          "file_chunk_sizes": 1000,
          "file_dimensions": [
           "lon"
          ],
          "fill_value": 9.96921e+36,
          "long_name": "longitude_coordinates",
          "orig_data_type": "float32",
          "reference_datum": "geographical coordinates, WGS84 projection",
          "shape": [
           36000
          ],
          "size": 36000,
          "standard_name": "longitude",
          "units": "degrees_east",
          "valid_max": 180,
          "valid_min": -180
         },
         "dims": [
          "lon"
         ],
         "dtype": "float32",
         "name": "lon"
        },
        "time": {
         "attrs": {
          "axis": "T",
          "calendar": "standard",
          "chunk_sizes": 1,
          "data_type": "float32",
          "dimensions": [
           "time"
          ],
          "file_chunk_sizes": 1,
          "file_dimensions": [
           "time"
          ],
          "fill_value": 9.96921e+36,
          "long_name": "time",
          "orig_data_type": "float32",
          "shape": [
           6
          ],
          "size": 6,
          "standard_name": "time",
          "units": "hours since 1950-01-01 00:00:00"
         },
         "dims": [
          "time"
         ],
         "dtype": "float32",
         "name": "time"
        }
       },
       "crs": "\\\"WGS 84\\\"",
       "data_id": "esacci.PERMAFROST.yr.L4.PFR.multi-sensor.multi-platform.ERA5_MODISLST_BIASCORRECTED.04-0.r1",
       "data_type": "dataset",
       "data_vars": {
        "PFR": {
         "attrs": {
          "_Unsigned": "true",
          "chunk_sizes": [
           1,
           1000,
           1000
          ],
          "conversion": "no",
          "data_type": "uint8",
          "dimensions": [
           "time",
           "lat",
           "lon"
          ],
          "file_chunk_sizes": [
           1,
           1000,
           1000
          ],
          "file_dimensions": [
           "time",
           "lat",
           "lon"
          ],
          "fill_value": -1,
          "grid_mapping": "spatial_ref",
          "orig_data_type": "uint8",
          "shape": [
           6,
           6000,
           36000
          ],
          "size": 1296000000,
          "standard_name": "permafrost_area_fraction",
          "units": "percent",
          "valid_max": 100,
          "valid_min": 0
         },
         "dims": [
          "time",
          "lat",
          "lon"
         ],
         "dtype": "uint8",
         "name": "PFR"
        },
        "PFR_uncertainty": {
         "attrs": {
          "_Unsigned": "true",
          "chunk_sizes": [
           1,
           1000,
           1000
          ],
          "conversion": "no",
          "data_type": "uint8",
          "dimensions": [
           "time",
           "lat",
           "lon"
          ],
          "file_chunk_sizes": [
           1,
           1000,
           1000
          ],
          "file_dimensions": [
           "time",
           "lat",
           "lon"
          ],
          "fill_value": -1,
          "grid_mapping": "spatial_ref",
          "long_name": "uncertainty of permafrost fraction",
          "orig_data_type": "uint8",
          "shape": [
           6,
           6000,
           36000
          ],
          "size": 1296000000,
          "units": "percent",
          "valid_max": 100,
          "valid_min": 0
         },
         "dims": [
          "time",
          "lat",
          "lon"
         ],
         "dtype": "uint8",
         "name": "PFR_uncertainty"
        },
        "spatial_ref": {
         "attrs": {
          "GeoTransform": "-180 0.01 0 90 0 -0.01",
          "chunk_sizes": [
           1
          ],
          "data_type": "int32",
          "dimensions": [],
          "file_chunk_sizes": [
           1
          ],
          "file_dimensions": [],
          "fill_value": -2147483647,
          "grid_mapping_name": "latitude_longitude",
          "inverse_flattening": 298.257223563,
          "longitude_of_prime_meridian": 0,
          "orig_data_type": "int32",
          "semi_major_axis": 6378137,
          "shape": [
           1
          ],
          "size": 1,
          "spatial_ref": "GEOGCS[\\\"WGS 84\\\",DATUM[\\\"WGS_1984\\\",SPHEROID[\\\"WGS 84\\\",6378137,298.257223563,AUTHORITY[\\\"EPSG\\\",\\\"7030\\\"]],AUTHORITY[\\\"EPSG\\\",\\\"6326\\\"]],PRIMEM[\\\"Greenwich\\\",0,AUTHORITY[\\\"EPSG\\\",\\\"8901\\\"]],UNIT[\\\"degree\\\",0.0174532925199433,AUTHORITY[\\\"EPSG\\\",\\\"9122\\\"]],AXIS[\\\"Latitude\\\",NORTH],AXIS[\\\"Longitude\\\",EAST],AUTHORITY[\\\"EPSG\\\",\\\"4326\\\"]]"
         },
         "dims": [],
         "dtype": "int32",
         "name": "spatial_ref"
        }
       },
       "dims": {
        "bnds": 2,
        "lat": 6000,
        "lon": 36000,
        "time": 6
       },
       "open_params_schema": {
        "additionalProperties": false,
        "properties": {
         "normalize_data": {
          "default": true,
          "type": "boolean"
         },
         "time_range": {
          "items": [
           {
            "format": "date",
            "maxDate": "2021-12-31",
            "minDate": "1997-01-01",
            "type": "string"
           },
           {
            "format": "date",
            "maxDate": "2021-12-31",
            "minDate": "1997-01-01",
            "type": "string"
           }
          ],
          "type": "array"
         },
         "variable_names": {
          "items": {
           "enum": [
            "spatial_ref",
            "PFR",
            "PFR_uncertainty"
           ],
           "type": "string"
          },
          "type": "array"
         }
        },
        "type": "object"
       },
       "spatial_res": 0.01,
       "time_period": "1Y",
       "time_range": [
        "1997-01-01",
        "2021-12-31"
       ]
      },
      "text/plain": [
       "<xcube.core.store.descriptor.DatasetDescriptor at 0x7f71e1ac7410>"
      ]
     },
     "execution_count": 26,
     "metadata": {},
     "output_type": "execute_result"
    }
   ],
   "source": [
    "cci_store.describe_data(data_id)"
   ]
  },
  {
   "cell_type": "markdown",
   "id": "c4fd984c-0028-418a-8d9f-37dae390c869",
   "metadata": {},
   "source": [
    "### Step 5: Check Open Parameters for the Dataset\n",
    "\n",
    "Before opening the dataset, we can inspect which parameters are supported by the **Zarr opener** (e.g., `time_range`, `bbox`, `variable_names`). This step helps ensure that we pass valid arguments when loading data and avoid errors.\n",
    "\n",
    "The command below lists all expected input parameters and their allowed values for the selected dataset."
   ]
  },
  {
   "cell_type": "code",
   "execution_count": 27,
   "id": "a0ee1118-47e2-47c4-9401-1bb069776fdc",
   "metadata": {},
   "outputs": [
    {
     "data": {
      "application/json": {
       "additionalProperties": false,
       "properties": {
        "normalize_data": {
         "default": true,
         "type": "boolean"
        },
        "time_range": {
         "items": [
          {
           "format": "date",
           "maxDate": "2021-12-31",
           "minDate": "1997-01-01",
           "type": "string"
          },
          {
           "format": "date",
           "maxDate": "2021-12-31",
           "minDate": "1997-01-01",
           "type": "string"
          }
         ],
         "type": "array"
        },
        "variable_names": {
         "items": {
          "enum": [
           "spatial_ref",
           "PFR",
           "PFR_uncertainty"
          ],
          "type": "string"
         },
         "type": "array"
        }
       },
       "type": "object"
      },
      "text/plain": [
       "<xcube.util.jsonschema.JsonObjectSchema at 0x7f71e10cfce0>"
      ]
     },
     "execution_count": 27,
     "metadata": {},
     "output_type": "execute_result"
    }
   ],
   "source": [
    "cci_store.get_open_data_params_schema(data_id=data_id, opener_id='dataset:zarr:cciodp')"
   ]
  },
  {
   "cell_type": "markdown",
   "id": "63e58869-eac7-4f36-823c-8eaab9df7380",
   "metadata": {},
   "source": [
    "### Step 6: Define Region, Time Range, and Variables of Interest\n",
    "\n",
    "Before opening the dataset, we define a few key parameters:\n",
    "\n",
    "- **Time range**: the date(s) we want to load\n",
    "- **Variables**: which data variable(s) to retrieve\n",
    "- *(Optional)* **Bounding box**: spatial region of interest — here we skip it to load the global dataset"
   ]
  },
  {
   "cell_type": "code",
   "execution_count": 28,
   "id": "8a2be689-288c-4fb5-abe9-99b4b84eef07",
   "metadata": {},
   "outputs": [],
   "source": [
    "variables = ['PFR']  # Variable to retrieve\n",
    "start_date = '2021-01-01'    # Start and end date (same for a single timestep)\n",
    "end_date = '2021-12-31'\n",
    "# bbox = (-10.0, 35.0, 30.0, 60.0)  # Optional: restrict to a region like Europe / no option for this dataset"
   ]
  },
  {
   "cell_type": "markdown",
   "id": "14f9e524-ff7f-47e7-af2c-0e8ac2e3d668",
   "metadata": {},
   "source": [
    "### Step 7: Open the Dataset\n",
    "\n",
    "Now we open the dataset using the selected parameters.  \n",
    "The ESA Climate Toolbox will download only the necessary data (e.g., variable and time range).\n",
    "You can always adjust the time range or variables to explore different slices of the dataset."
   ]
  },
  {
   "cell_type": "code",
   "execution_count": 29,
   "id": "145b10bc-68b4-4645-a4a8-761965cb6098",
   "metadata": {
    "scrolled": true
   },
   "outputs": [
    {
     "ename": "MetadataError",
     "evalue": "error decoding metadata",
     "output_type": "error",
     "traceback": [
      "\u001b[0;31m---------------------------------------------------------------------------\u001b[0m",
      "\u001b[0;31mOverflowError\u001b[0m                             Traceback (most recent call last)",
      "File \u001b[0;32m/cmsaf/cmsaf-ops3/stkothe/KE/ect/lib/python3.12/site-packages/zarr/meta.py:127\u001b[0m, in \u001b[0;36mMetadata2.decode_array_metadata\u001b[0;34m(cls, s)\u001b[0m\n\u001b[1;32m    126\u001b[0m dimension_separator \u001b[38;5;241m=\u001b[39m meta\u001b[38;5;241m.\u001b[39mget(\u001b[38;5;124m\"\u001b[39m\u001b[38;5;124mdimension_separator\u001b[39m\u001b[38;5;124m\"\u001b[39m, \u001b[38;5;28;01mNone\u001b[39;00m)\n\u001b[0;32m--> 127\u001b[0m fill_value \u001b[38;5;241m=\u001b[39m \u001b[38;5;28;43mcls\u001b[39;49m\u001b[38;5;241;43m.\u001b[39;49m\u001b[43mdecode_fill_value\u001b[49m\u001b[43m(\u001b[49m\u001b[43mmeta\u001b[49m\u001b[43m[\u001b[49m\u001b[38;5;124;43m\"\u001b[39;49m\u001b[38;5;124;43mfill_value\u001b[39;49m\u001b[38;5;124;43m\"\u001b[39;49m\u001b[43m]\u001b[49m\u001b[43m,\u001b[49m\u001b[43m \u001b[49m\u001b[43mdtype\u001b[49m\u001b[43m,\u001b[49m\u001b[43m \u001b[49m\u001b[43mobject_codec\u001b[49m\u001b[43m)\u001b[49m\n\u001b[1;32m    128\u001b[0m meta \u001b[38;5;241m=\u001b[39m \u001b[38;5;28mdict\u001b[39m(\n\u001b[1;32m    129\u001b[0m     zarr_format\u001b[38;5;241m=\u001b[39mmeta[\u001b[38;5;124m\"\u001b[39m\u001b[38;5;124mzarr_format\u001b[39m\u001b[38;5;124m\"\u001b[39m],\n\u001b[1;32m    130\u001b[0m     shape\u001b[38;5;241m=\u001b[39m\u001b[38;5;28mtuple\u001b[39m(meta[\u001b[38;5;124m\"\u001b[39m\u001b[38;5;124mshape\u001b[39m\u001b[38;5;124m\"\u001b[39m]),\n\u001b[0;32m   (...)\u001b[0m\n\u001b[1;32m    136\u001b[0m     filters\u001b[38;5;241m=\u001b[39mmeta[\u001b[38;5;124m\"\u001b[39m\u001b[38;5;124mfilters\u001b[39m\u001b[38;5;124m\"\u001b[39m],\n\u001b[1;32m    137\u001b[0m )\n",
      "File \u001b[0;32m/cmsaf/cmsaf-ops3/stkothe/KE/ect/lib/python3.12/site-packages/zarr/meta.py:260\u001b[0m, in \u001b[0;36mMetadata2.decode_fill_value\u001b[0;34m(cls, v, dtype, object_codec)\u001b[0m\n\u001b[1;32m    259\u001b[0m \u001b[38;5;28;01melse\u001b[39;00m:\n\u001b[0;32m--> 260\u001b[0m     \u001b[38;5;28;01mreturn\u001b[39;00m \u001b[43mnp\u001b[49m\u001b[38;5;241;43m.\u001b[39;49m\u001b[43marray\u001b[49m\u001b[43m(\u001b[49m\u001b[43mv\u001b[49m\u001b[43m,\u001b[49m\u001b[43m \u001b[49m\u001b[43mdtype\u001b[49m\u001b[38;5;241;43m=\u001b[39;49m\u001b[43mdtype\u001b[49m\u001b[43m)\u001b[49m[()]\n",
      "\u001b[0;31mOverflowError\u001b[0m: Python integer -1 out of bounds for uint8",
      "\nThe above exception was the direct cause of the following exception:\n",
      "\u001b[0;31mMetadataError\u001b[0m                             Traceback (most recent call last)",
      "Cell \u001b[0;32mIn[29], line 1\u001b[0m\n\u001b[0;32m----> 1\u001b[0m pfr_ds \u001b[38;5;241m=\u001b[39m \u001b[43mcci_store\u001b[49m\u001b[38;5;241;43m.\u001b[39;49m\u001b[43mopen_data\u001b[49m\u001b[43m(\u001b[49m\n\u001b[1;32m      2\u001b[0m \u001b[43m    \u001b[49m\u001b[43mdata_id\u001b[49m\u001b[38;5;241;43m=\u001b[39;49m\u001b[43mdata_id\u001b[49m\u001b[43m,\u001b[49m\n\u001b[1;32m      3\u001b[0m \u001b[43m    \u001b[49m\u001b[43mvariable_names\u001b[49m\u001b[38;5;241;43m=\u001b[39;49m\u001b[43mvariables\u001b[49m\u001b[43m,\u001b[49m\n\u001b[1;32m      4\u001b[0m \u001b[43m    \u001b[49m\u001b[43mtime_range\u001b[49m\u001b[38;5;241;43m=\u001b[39;49m\u001b[43m[\u001b[49m\u001b[43mstart_date\u001b[49m\u001b[43m,\u001b[49m\u001b[43m \u001b[49m\u001b[43mend_date\u001b[49m\u001b[43m]\u001b[49m\n\u001b[1;32m      5\u001b[0m \u001b[43m)\u001b[49m\n",
      "File \u001b[0;32m/cmsaf/cmsaf-ops3/stkothe/KE/ect/lib/python3.12/site-packages/xcube_cci/dataaccess.py:923\u001b[0m, in \u001b[0;36mCciOdpDataStore.open_data\u001b[0;34m(self, data_id, opener_id, **open_params)\u001b[0m\n\u001b[1;32m    921\u001b[0m \u001b[38;5;28;01mfor\u001b[39;00m opener \u001b[38;5;129;01min\u001b[39;00m openers:\n\u001b[1;32m    922\u001b[0m     \u001b[38;5;28;01mif\u001b[39;00m opener\u001b[38;5;241m.\u001b[39mhas_data(data_id):\n\u001b[0;32m--> 923\u001b[0m         \u001b[38;5;28;01mreturn\u001b[39;00m \u001b[43mopener\u001b[49m\u001b[38;5;241;43m.\u001b[39;49m\u001b[43mopen_data\u001b[49m\u001b[43m(\u001b[49m\u001b[43mdata_id\u001b[49m\u001b[43m,\u001b[49m\u001b[43m \u001b[49m\u001b[38;5;241;43m*\u001b[39;49m\u001b[38;5;241;43m*\u001b[39;49m\u001b[43mopen_params\u001b[49m\u001b[43m)\u001b[49m\n\u001b[1;32m    924\u001b[0m \u001b[38;5;28;01mraise\u001b[39;00m \u001b[38;5;167;01mValueError\u001b[39;00m(\u001b[38;5;124mf\u001b[39m\u001b[38;5;124m\"\u001b[39m\u001b[38;5;124mCould not open data \u001b[39m\u001b[38;5;124m'\u001b[39m\u001b[38;5;132;01m{\u001b[39;00mdata_id\u001b[38;5;132;01m}\u001b[39;00m\u001b[38;5;124m'\u001b[39m\u001b[38;5;124m. No opener found.\u001b[39m\u001b[38;5;124m\"\u001b[39m)\n",
      "File \u001b[0;32m/cmsaf/cmsaf-ops3/stkothe/KE/ect/lib/python3.12/site-packages/xcube_cci/dataaccess.py:382\u001b[0m, in \u001b[0;36mCciOdpDatasetOpener.open_data\u001b[0;34m(self, data_id, **open_params)\u001b[0m\n\u001b[1;32m    376\u001b[0m cube_kwargs, open_params \u001b[38;5;241m=\u001b[39m cci_schema\u001b[38;5;241m.\u001b[39mprocess_kwargs_subset(\n\u001b[1;32m    377\u001b[0m     open_params, (\u001b[38;5;124m'\u001b[39m\u001b[38;5;124mvariable_names\u001b[39m\u001b[38;5;124m'\u001b[39m,\n\u001b[1;32m    378\u001b[0m                   \u001b[38;5;124m'\u001b[39m\u001b[38;5;124mtime_range\u001b[39m\u001b[38;5;124m'\u001b[39m,\n\u001b[1;32m    379\u001b[0m                   \u001b[38;5;124m'\u001b[39m\u001b[38;5;124mbbox\u001b[39m\u001b[38;5;124m'\u001b[39m)\n\u001b[1;32m    380\u001b[0m )\n\u001b[1;32m    381\u001b[0m chunk_store \u001b[38;5;241m=\u001b[39m CciChunkStore(\u001b[38;5;28mself\u001b[39m\u001b[38;5;241m.\u001b[39m_cci_cdc, data_id, cube_kwargs)\n\u001b[0;32m--> 382\u001b[0m ds \u001b[38;5;241m=\u001b[39m \u001b[43mxr\u001b[49m\u001b[38;5;241;43m.\u001b[39;49m\u001b[43mopen_zarr\u001b[49m\u001b[43m(\u001b[49m\u001b[43mchunk_store\u001b[49m\u001b[43m,\u001b[49m\u001b[43m \u001b[49m\u001b[43mconsolidated\u001b[49m\u001b[38;5;241;43m=\u001b[39;49m\u001b[38;5;28;43;01mFalse\u001b[39;49;00m\u001b[43m)\u001b[49m\n\u001b[1;32m    383\u001b[0m ds\u001b[38;5;241m.\u001b[39mzarr_store\u001b[38;5;241m.\u001b[39mset(chunk_store)\n\u001b[1;32m    384\u001b[0m ds \u001b[38;5;241m=\u001b[39m \u001b[38;5;28mself\u001b[39m\u001b[38;5;241m.\u001b[39m_normalize_dataset(ds)\n",
      "File \u001b[0;32m/cmsaf/cmsaf-ops3/stkothe/KE/ect/lib/python3.12/site-packages/xarray/backends/zarr.py:1097\u001b[0m, in \u001b[0;36mopen_zarr\u001b[0;34m(store, group, synchronizer, chunks, decode_cf, mask_and_scale, decode_times, concat_characters, decode_coords, drop_variables, consolidated, overwrite_encoded_chunks, chunk_store, storage_options, decode_timedelta, use_cftime, zarr_version, chunked_array_type, from_array_kwargs, **kwargs)\u001b[0m\n\u001b[1;32m   1083\u001b[0m     \u001b[38;5;28;01mraise\u001b[39;00m \u001b[38;5;167;01mTypeError\u001b[39;00m(\n\u001b[1;32m   1084\u001b[0m         \u001b[38;5;124m\"\u001b[39m\u001b[38;5;124mopen_zarr() got unexpected keyword arguments \u001b[39m\u001b[38;5;124m\"\u001b[39m \u001b[38;5;241m+\u001b[39m \u001b[38;5;124m\"\u001b[39m\u001b[38;5;124m,\u001b[39m\u001b[38;5;124m\"\u001b[39m\u001b[38;5;241m.\u001b[39mjoin(kwargs\u001b[38;5;241m.\u001b[39mkeys())\n\u001b[1;32m   1085\u001b[0m     )\n\u001b[1;32m   1087\u001b[0m backend_kwargs \u001b[38;5;241m=\u001b[39m {\n\u001b[1;32m   1088\u001b[0m     \u001b[38;5;124m\"\u001b[39m\u001b[38;5;124msynchronizer\u001b[39m\u001b[38;5;124m\"\u001b[39m: synchronizer,\n\u001b[1;32m   1089\u001b[0m     \u001b[38;5;124m\"\u001b[39m\u001b[38;5;124mconsolidated\u001b[39m\u001b[38;5;124m\"\u001b[39m: consolidated,\n\u001b[0;32m   (...)\u001b[0m\n\u001b[1;32m   1094\u001b[0m     \u001b[38;5;124m\"\u001b[39m\u001b[38;5;124mzarr_version\u001b[39m\u001b[38;5;124m\"\u001b[39m: zarr_version,\n\u001b[1;32m   1095\u001b[0m }\n\u001b[0;32m-> 1097\u001b[0m ds \u001b[38;5;241m=\u001b[39m \u001b[43mopen_dataset\u001b[49m\u001b[43m(\u001b[49m\n\u001b[1;32m   1098\u001b[0m \u001b[43m    \u001b[49m\u001b[43mfilename_or_obj\u001b[49m\u001b[38;5;241;43m=\u001b[39;49m\u001b[43mstore\u001b[49m\u001b[43m,\u001b[49m\n\u001b[1;32m   1099\u001b[0m \u001b[43m    \u001b[49m\u001b[43mgroup\u001b[49m\u001b[38;5;241;43m=\u001b[39;49m\u001b[43mgroup\u001b[49m\u001b[43m,\u001b[49m\n\u001b[1;32m   1100\u001b[0m \u001b[43m    \u001b[49m\u001b[43mdecode_cf\u001b[49m\u001b[38;5;241;43m=\u001b[39;49m\u001b[43mdecode_cf\u001b[49m\u001b[43m,\u001b[49m\n\u001b[1;32m   1101\u001b[0m \u001b[43m    \u001b[49m\u001b[43mmask_and_scale\u001b[49m\u001b[38;5;241;43m=\u001b[39;49m\u001b[43mmask_and_scale\u001b[49m\u001b[43m,\u001b[49m\n\u001b[1;32m   1102\u001b[0m \u001b[43m    \u001b[49m\u001b[43mdecode_times\u001b[49m\u001b[38;5;241;43m=\u001b[39;49m\u001b[43mdecode_times\u001b[49m\u001b[43m,\u001b[49m\n\u001b[1;32m   1103\u001b[0m \u001b[43m    \u001b[49m\u001b[43mconcat_characters\u001b[49m\u001b[38;5;241;43m=\u001b[39;49m\u001b[43mconcat_characters\u001b[49m\u001b[43m,\u001b[49m\n\u001b[1;32m   1104\u001b[0m \u001b[43m    \u001b[49m\u001b[43mdecode_coords\u001b[49m\u001b[38;5;241;43m=\u001b[39;49m\u001b[43mdecode_coords\u001b[49m\u001b[43m,\u001b[49m\n\u001b[1;32m   1105\u001b[0m \u001b[43m    \u001b[49m\u001b[43mengine\u001b[49m\u001b[38;5;241;43m=\u001b[39;49m\u001b[38;5;124;43m\"\u001b[39;49m\u001b[38;5;124;43mzarr\u001b[39;49m\u001b[38;5;124;43m\"\u001b[39;49m\u001b[43m,\u001b[49m\n\u001b[1;32m   1106\u001b[0m \u001b[43m    \u001b[49m\u001b[43mchunks\u001b[49m\u001b[38;5;241;43m=\u001b[39;49m\u001b[43mchunks\u001b[49m\u001b[43m,\u001b[49m\n\u001b[1;32m   1107\u001b[0m \u001b[43m    \u001b[49m\u001b[43mdrop_variables\u001b[49m\u001b[38;5;241;43m=\u001b[39;49m\u001b[43mdrop_variables\u001b[49m\u001b[43m,\u001b[49m\n\u001b[1;32m   1108\u001b[0m \u001b[43m    \u001b[49m\u001b[43mchunked_array_type\u001b[49m\u001b[38;5;241;43m=\u001b[39;49m\u001b[43mchunked_array_type\u001b[49m\u001b[43m,\u001b[49m\n\u001b[1;32m   1109\u001b[0m \u001b[43m    \u001b[49m\u001b[43mfrom_array_kwargs\u001b[49m\u001b[38;5;241;43m=\u001b[39;49m\u001b[43mfrom_array_kwargs\u001b[49m\u001b[43m,\u001b[49m\n\u001b[1;32m   1110\u001b[0m \u001b[43m    \u001b[49m\u001b[43mbackend_kwargs\u001b[49m\u001b[38;5;241;43m=\u001b[39;49m\u001b[43mbackend_kwargs\u001b[49m\u001b[43m,\u001b[49m\n\u001b[1;32m   1111\u001b[0m \u001b[43m    \u001b[49m\u001b[43mdecode_timedelta\u001b[49m\u001b[38;5;241;43m=\u001b[39;49m\u001b[43mdecode_timedelta\u001b[49m\u001b[43m,\u001b[49m\n\u001b[1;32m   1112\u001b[0m \u001b[43m    \u001b[49m\u001b[43muse_cftime\u001b[49m\u001b[38;5;241;43m=\u001b[39;49m\u001b[43muse_cftime\u001b[49m\u001b[43m,\u001b[49m\n\u001b[1;32m   1113\u001b[0m \u001b[43m    \u001b[49m\u001b[43mzarr_version\u001b[49m\u001b[38;5;241;43m=\u001b[39;49m\u001b[43mzarr_version\u001b[49m\u001b[43m,\u001b[49m\n\u001b[1;32m   1114\u001b[0m \u001b[43m\u001b[49m\u001b[43m)\u001b[49m\n\u001b[1;32m   1115\u001b[0m \u001b[38;5;28;01mreturn\u001b[39;00m ds\n",
      "File \u001b[0;32m/cmsaf/cmsaf-ops3/stkothe/KE/ect/lib/python3.12/site-packages/xarray/backends/api.py:571\u001b[0m, in \u001b[0;36mopen_dataset\u001b[0;34m(filename_or_obj, engine, chunks, cache, decode_cf, mask_and_scale, decode_times, decode_timedelta, use_cftime, concat_characters, decode_coords, drop_variables, inline_array, chunked_array_type, from_array_kwargs, backend_kwargs, **kwargs)\u001b[0m\n\u001b[1;32m    559\u001b[0m decoders \u001b[38;5;241m=\u001b[39m _resolve_decoders_kwargs(\n\u001b[1;32m    560\u001b[0m     decode_cf,\n\u001b[1;32m    561\u001b[0m     open_backend_dataset_parameters\u001b[38;5;241m=\u001b[39mbackend\u001b[38;5;241m.\u001b[39mopen_dataset_parameters,\n\u001b[0;32m   (...)\u001b[0m\n\u001b[1;32m    567\u001b[0m     decode_coords\u001b[38;5;241m=\u001b[39mdecode_coords,\n\u001b[1;32m    568\u001b[0m )\n\u001b[1;32m    570\u001b[0m overwrite_encoded_chunks \u001b[38;5;241m=\u001b[39m kwargs\u001b[38;5;241m.\u001b[39mpop(\u001b[38;5;124m\"\u001b[39m\u001b[38;5;124moverwrite_encoded_chunks\u001b[39m\u001b[38;5;124m\"\u001b[39m, \u001b[38;5;28;01mNone\u001b[39;00m)\n\u001b[0;32m--> 571\u001b[0m backend_ds \u001b[38;5;241m=\u001b[39m \u001b[43mbackend\u001b[49m\u001b[38;5;241;43m.\u001b[39;49m\u001b[43mopen_dataset\u001b[49m\u001b[43m(\u001b[49m\n\u001b[1;32m    572\u001b[0m \u001b[43m    \u001b[49m\u001b[43mfilename_or_obj\u001b[49m\u001b[43m,\u001b[49m\n\u001b[1;32m    573\u001b[0m \u001b[43m    \u001b[49m\u001b[43mdrop_variables\u001b[49m\u001b[38;5;241;43m=\u001b[39;49m\u001b[43mdrop_variables\u001b[49m\u001b[43m,\u001b[49m\n\u001b[1;32m    574\u001b[0m \u001b[43m    \u001b[49m\u001b[38;5;241;43m*\u001b[39;49m\u001b[38;5;241;43m*\u001b[39;49m\u001b[43mdecoders\u001b[49m\u001b[43m,\u001b[49m\n\u001b[1;32m    575\u001b[0m \u001b[43m    \u001b[49m\u001b[38;5;241;43m*\u001b[39;49m\u001b[38;5;241;43m*\u001b[39;49m\u001b[43mkwargs\u001b[49m\u001b[43m,\u001b[49m\n\u001b[1;32m    576\u001b[0m \u001b[43m\u001b[49m\u001b[43m)\u001b[49m\n\u001b[1;32m    577\u001b[0m ds \u001b[38;5;241m=\u001b[39m _dataset_from_backend_dataset(\n\u001b[1;32m    578\u001b[0m     backend_ds,\n\u001b[1;32m    579\u001b[0m     filename_or_obj,\n\u001b[0;32m   (...)\u001b[0m\n\u001b[1;32m    589\u001b[0m     \u001b[38;5;241m*\u001b[39m\u001b[38;5;241m*\u001b[39mkwargs,\n\u001b[1;32m    590\u001b[0m )\n\u001b[1;32m    591\u001b[0m \u001b[38;5;28;01mreturn\u001b[39;00m ds\n",
      "File \u001b[0;32m/cmsaf/cmsaf-ops3/stkothe/KE/ect/lib/python3.12/site-packages/xarray/backends/zarr.py:1182\u001b[0m, in \u001b[0;36mZarrBackendEntrypoint.open_dataset\u001b[0;34m(self, filename_or_obj, mask_and_scale, decode_times, concat_characters, decode_coords, drop_variables, use_cftime, decode_timedelta, group, mode, synchronizer, consolidated, chunk_store, storage_options, stacklevel, zarr_version, store, engine)\u001b[0m\n\u001b[1;32m   1180\u001b[0m store_entrypoint \u001b[38;5;241m=\u001b[39m StoreBackendEntrypoint()\n\u001b[1;32m   1181\u001b[0m \u001b[38;5;28;01mwith\u001b[39;00m close_on_error(store):\n\u001b[0;32m-> 1182\u001b[0m     ds \u001b[38;5;241m=\u001b[39m \u001b[43mstore_entrypoint\u001b[49m\u001b[38;5;241;43m.\u001b[39;49m\u001b[43mopen_dataset\u001b[49m\u001b[43m(\u001b[49m\n\u001b[1;32m   1183\u001b[0m \u001b[43m        \u001b[49m\u001b[43mstore\u001b[49m\u001b[43m,\u001b[49m\n\u001b[1;32m   1184\u001b[0m \u001b[43m        \u001b[49m\u001b[43mmask_and_scale\u001b[49m\u001b[38;5;241;43m=\u001b[39;49m\u001b[43mmask_and_scale\u001b[49m\u001b[43m,\u001b[49m\n\u001b[1;32m   1185\u001b[0m \u001b[43m        \u001b[49m\u001b[43mdecode_times\u001b[49m\u001b[38;5;241;43m=\u001b[39;49m\u001b[43mdecode_times\u001b[49m\u001b[43m,\u001b[49m\n\u001b[1;32m   1186\u001b[0m \u001b[43m        \u001b[49m\u001b[43mconcat_characters\u001b[49m\u001b[38;5;241;43m=\u001b[39;49m\u001b[43mconcat_characters\u001b[49m\u001b[43m,\u001b[49m\n\u001b[1;32m   1187\u001b[0m \u001b[43m        \u001b[49m\u001b[43mdecode_coords\u001b[49m\u001b[38;5;241;43m=\u001b[39;49m\u001b[43mdecode_coords\u001b[49m\u001b[43m,\u001b[49m\n\u001b[1;32m   1188\u001b[0m \u001b[43m        \u001b[49m\u001b[43mdrop_variables\u001b[49m\u001b[38;5;241;43m=\u001b[39;49m\u001b[43mdrop_variables\u001b[49m\u001b[43m,\u001b[49m\n\u001b[1;32m   1189\u001b[0m \u001b[43m        \u001b[49m\u001b[43muse_cftime\u001b[49m\u001b[38;5;241;43m=\u001b[39;49m\u001b[43muse_cftime\u001b[49m\u001b[43m,\u001b[49m\n\u001b[1;32m   1190\u001b[0m \u001b[43m        \u001b[49m\u001b[43mdecode_timedelta\u001b[49m\u001b[38;5;241;43m=\u001b[39;49m\u001b[43mdecode_timedelta\u001b[49m\u001b[43m,\u001b[49m\n\u001b[1;32m   1191\u001b[0m \u001b[43m    \u001b[49m\u001b[43m)\u001b[49m\n\u001b[1;32m   1192\u001b[0m \u001b[38;5;28;01mreturn\u001b[39;00m ds\n",
      "File \u001b[0;32m/cmsaf/cmsaf-ops3/stkothe/KE/ect/lib/python3.12/site-packages/xarray/backends/store.py:43\u001b[0m, in \u001b[0;36mStoreBackendEntrypoint.open_dataset\u001b[0;34m(self, filename_or_obj, mask_and_scale, decode_times, concat_characters, decode_coords, drop_variables, use_cftime, decode_timedelta)\u001b[0m\n\u001b[1;32m     29\u001b[0m \u001b[38;5;28;01mdef\u001b[39;00m \u001b[38;5;21mopen_dataset\u001b[39m(  \u001b[38;5;66;03m# type: ignore[override]  # allow LSP violation, not supporting **kwargs\u001b[39;00m\n\u001b[1;32m     30\u001b[0m     \u001b[38;5;28mself\u001b[39m,\n\u001b[1;32m     31\u001b[0m     filename_or_obj: \u001b[38;5;28mstr\u001b[39m \u001b[38;5;241m|\u001b[39m os\u001b[38;5;241m.\u001b[39mPathLike[Any] \u001b[38;5;241m|\u001b[39m BufferedIOBase \u001b[38;5;241m|\u001b[39m AbstractDataStore,\n\u001b[0;32m   (...)\u001b[0m\n\u001b[1;32m     39\u001b[0m     decode_timedelta\u001b[38;5;241m=\u001b[39m\u001b[38;5;28;01mNone\u001b[39;00m,\n\u001b[1;32m     40\u001b[0m ) \u001b[38;5;241m-\u001b[39m\u001b[38;5;241m>\u001b[39m Dataset:\n\u001b[1;32m     41\u001b[0m     \u001b[38;5;28;01massert\u001b[39;00m \u001b[38;5;28misinstance\u001b[39m(filename_or_obj, AbstractDataStore)\n\u001b[0;32m---> 43\u001b[0m     \u001b[38;5;28mvars\u001b[39m, attrs \u001b[38;5;241m=\u001b[39m \u001b[43mfilename_or_obj\u001b[49m\u001b[38;5;241;43m.\u001b[39;49m\u001b[43mload\u001b[49m\u001b[43m(\u001b[49m\u001b[43m)\u001b[49m\n\u001b[1;32m     44\u001b[0m     encoding \u001b[38;5;241m=\u001b[39m filename_or_obj\u001b[38;5;241m.\u001b[39mget_encoding()\n\u001b[1;32m     46\u001b[0m     \u001b[38;5;28mvars\u001b[39m, attrs, coord_names \u001b[38;5;241m=\u001b[39m conventions\u001b[38;5;241m.\u001b[39mdecode_cf_variables(\n\u001b[1;32m     47\u001b[0m         \u001b[38;5;28mvars\u001b[39m,\n\u001b[1;32m     48\u001b[0m         attrs,\n\u001b[0;32m   (...)\u001b[0m\n\u001b[1;32m     55\u001b[0m         decode_timedelta\u001b[38;5;241m=\u001b[39mdecode_timedelta,\n\u001b[1;32m     56\u001b[0m     )\n",
      "File \u001b[0;32m/cmsaf/cmsaf-ops3/stkothe/KE/ect/lib/python3.12/site-packages/xarray/backends/common.py:221\u001b[0m, in \u001b[0;36mAbstractDataStore.load\u001b[0;34m(self)\u001b[0m\n\u001b[1;32m    199\u001b[0m \u001b[38;5;28;01mdef\u001b[39;00m \u001b[38;5;21mload\u001b[39m(\u001b[38;5;28mself\u001b[39m):\n\u001b[1;32m    200\u001b[0m \u001b[38;5;250m    \u001b[39m\u001b[38;5;124;03m\"\"\"\u001b[39;00m\n\u001b[1;32m    201\u001b[0m \u001b[38;5;124;03m    This loads the variables and attributes simultaneously.\u001b[39;00m\n\u001b[1;32m    202\u001b[0m \u001b[38;5;124;03m    A centralized loading function makes it easier to create\u001b[39;00m\n\u001b[0;32m   (...)\u001b[0m\n\u001b[1;32m    218\u001b[0m \u001b[38;5;124;03m    are requested, so care should be taken to make sure its fast.\u001b[39;00m\n\u001b[1;32m    219\u001b[0m \u001b[38;5;124;03m    \"\"\"\u001b[39;00m\n\u001b[1;32m    220\u001b[0m     variables \u001b[38;5;241m=\u001b[39m FrozenDict(\n\u001b[0;32m--> 221\u001b[0m         (_decode_variable_name(k), v) \u001b[38;5;28;01mfor\u001b[39;00m k, v \u001b[38;5;129;01min\u001b[39;00m \u001b[38;5;28;43mself\u001b[39;49m\u001b[38;5;241;43m.\u001b[39;49m\u001b[43mget_variables\u001b[49m\u001b[43m(\u001b[49m\u001b[43m)\u001b[49m\u001b[38;5;241m.\u001b[39mitems()\n\u001b[1;32m    222\u001b[0m     )\n\u001b[1;32m    223\u001b[0m     attributes \u001b[38;5;241m=\u001b[39m FrozenDict(\u001b[38;5;28mself\u001b[39m\u001b[38;5;241m.\u001b[39mget_attrs())\n\u001b[1;32m    224\u001b[0m     \u001b[38;5;28;01mreturn\u001b[39;00m variables, attributes\n",
      "File \u001b[0;32m/cmsaf/cmsaf-ops3/stkothe/KE/ect/lib/python3.12/site-packages/xarray/backends/zarr.py:563\u001b[0m, in \u001b[0;36mZarrStore.get_variables\u001b[0;34m(self)\u001b[0m\n\u001b[1;32m    562\u001b[0m \u001b[38;5;28;01mdef\u001b[39;00m \u001b[38;5;21mget_variables\u001b[39m(\u001b[38;5;28mself\u001b[39m):\n\u001b[0;32m--> 563\u001b[0m     \u001b[38;5;28;01mreturn\u001b[39;00m \u001b[43mFrozenDict\u001b[49m\u001b[43m(\u001b[49m\n\u001b[1;32m    564\u001b[0m \u001b[43m        \u001b[49m\u001b[43m(\u001b[49m\u001b[43mk\u001b[49m\u001b[43m,\u001b[49m\u001b[43m \u001b[49m\u001b[38;5;28;43mself\u001b[39;49m\u001b[38;5;241;43m.\u001b[39;49m\u001b[43mopen_store_variable\u001b[49m\u001b[43m(\u001b[49m\u001b[43mk\u001b[49m\u001b[43m,\u001b[49m\u001b[43m \u001b[49m\u001b[43mv\u001b[49m\u001b[43m)\u001b[49m\u001b[43m)\u001b[49m\u001b[43m \u001b[49m\u001b[38;5;28;43;01mfor\u001b[39;49;00m\u001b[43m \u001b[49m\u001b[43mk\u001b[49m\u001b[43m,\u001b[49m\u001b[43m \u001b[49m\u001b[43mv\u001b[49m\u001b[43m \u001b[49m\u001b[38;5;129;43;01min\u001b[39;49;00m\u001b[43m \u001b[49m\u001b[38;5;28;43mself\u001b[39;49m\u001b[38;5;241;43m.\u001b[39;49m\u001b[43mzarr_group\u001b[49m\u001b[38;5;241;43m.\u001b[39;49m\u001b[43marrays\u001b[49m\u001b[43m(\u001b[49m\u001b[43m)\u001b[49m\n\u001b[1;32m    565\u001b[0m \u001b[43m    \u001b[49m\u001b[43m)\u001b[49m\n",
      "File \u001b[0;32m/cmsaf/cmsaf-ops3/stkothe/KE/ect/lib/python3.12/site-packages/xarray/core/utils.py:443\u001b[0m, in \u001b[0;36mFrozenDict\u001b[0;34m(*args, **kwargs)\u001b[0m\n\u001b[1;32m    442\u001b[0m \u001b[38;5;28;01mdef\u001b[39;00m \u001b[38;5;21mFrozenDict\u001b[39m(\u001b[38;5;241m*\u001b[39margs, \u001b[38;5;241m*\u001b[39m\u001b[38;5;241m*\u001b[39mkwargs) \u001b[38;5;241m-\u001b[39m\u001b[38;5;241m>\u001b[39m Frozen:\n\u001b[0;32m--> 443\u001b[0m     \u001b[38;5;28;01mreturn\u001b[39;00m Frozen(\u001b[38;5;28;43mdict\u001b[39;49m\u001b[43m(\u001b[49m\u001b[38;5;241;43m*\u001b[39;49m\u001b[43margs\u001b[49m\u001b[43m,\u001b[49m\u001b[43m \u001b[49m\u001b[38;5;241;43m*\u001b[39;49m\u001b[38;5;241;43m*\u001b[39;49m\u001b[43mkwargs\u001b[49m\u001b[43m)\u001b[49m)\n",
      "File \u001b[0;32m/cmsaf/cmsaf-ops3/stkothe/KE/ect/lib/python3.12/site-packages/xarray/backends/zarr.py:564\u001b[0m, in \u001b[0;36m<genexpr>\u001b[0;34m(.0)\u001b[0m\n\u001b[1;32m    562\u001b[0m \u001b[38;5;28;01mdef\u001b[39;00m \u001b[38;5;21mget_variables\u001b[39m(\u001b[38;5;28mself\u001b[39m):\n\u001b[1;32m    563\u001b[0m     \u001b[38;5;28;01mreturn\u001b[39;00m FrozenDict(\n\u001b[0;32m--> 564\u001b[0m         (k, \u001b[38;5;28mself\u001b[39m\u001b[38;5;241m.\u001b[39mopen_store_variable(k, v)) \u001b[38;5;28;01mfor\u001b[39;00m k, v \u001b[38;5;129;01min\u001b[39;00m \u001b[38;5;28mself\u001b[39m\u001b[38;5;241m.\u001b[39mzarr_group\u001b[38;5;241m.\u001b[39marrays()\n\u001b[1;32m    565\u001b[0m     )\n",
      "File \u001b[0;32m/cmsaf/cmsaf-ops3/stkothe/KE/ect/lib/python3.12/site-packages/zarr/hierarchy.py:691\u001b[0m, in \u001b[0;36mGroup._array_iter\u001b[0;34m(self, keys_only, method, recurse)\u001b[0m\n\u001b[1;32m    689\u001b[0m \u001b[38;5;28;01mif\u001b[39;00m contains_array(\u001b[38;5;28mself\u001b[39m\u001b[38;5;241m.\u001b[39m_store, path):\n\u001b[1;32m    690\u001b[0m     _key \u001b[38;5;241m=\u001b[39m key\u001b[38;5;241m.\u001b[39mrstrip(\u001b[38;5;124m\"\u001b[39m\u001b[38;5;124m/\u001b[39m\u001b[38;5;124m\"\u001b[39m)\n\u001b[0;32m--> 691\u001b[0m     \u001b[38;5;28;01myield\u001b[39;00m _key \u001b[38;5;28;01mif\u001b[39;00m keys_only \u001b[38;5;28;01melse\u001b[39;00m (_key, \u001b[38;5;28;43mself\u001b[39;49m\u001b[43m[\u001b[49m\u001b[43mkey\u001b[49m\u001b[43m]\u001b[49m)\n\u001b[1;32m    692\u001b[0m \u001b[38;5;28;01melif\u001b[39;00m recurse \u001b[38;5;129;01mand\u001b[39;00m contains_group(\u001b[38;5;28mself\u001b[39m\u001b[38;5;241m.\u001b[39m_store, path):\n\u001b[1;32m    693\u001b[0m     group \u001b[38;5;241m=\u001b[39m \u001b[38;5;28mself\u001b[39m[key]\n",
      "File \u001b[0;32m/cmsaf/cmsaf-ops3/stkothe/KE/ect/lib/python3.12/site-packages/zarr/hierarchy.py:467\u001b[0m, in \u001b[0;36mGroup.__getitem__\u001b[0;34m(self, item)\u001b[0m\n\u001b[1;32m    465\u001b[0m path \u001b[38;5;241m=\u001b[39m \u001b[38;5;28mself\u001b[39m\u001b[38;5;241m.\u001b[39m_item_path(item)\n\u001b[1;32m    466\u001b[0m \u001b[38;5;28;01mtry\u001b[39;00m:\n\u001b[0;32m--> 467\u001b[0m     \u001b[38;5;28;01mreturn\u001b[39;00m \u001b[43mArray\u001b[49m\u001b[43m(\u001b[49m\n\u001b[1;32m    468\u001b[0m \u001b[43m        \u001b[49m\u001b[38;5;28;43mself\u001b[39;49m\u001b[38;5;241;43m.\u001b[39;49m\u001b[43m_store\u001b[49m\u001b[43m,\u001b[49m\n\u001b[1;32m    469\u001b[0m \u001b[43m        \u001b[49m\u001b[43mread_only\u001b[49m\u001b[38;5;241;43m=\u001b[39;49m\u001b[38;5;28;43mself\u001b[39;49m\u001b[38;5;241;43m.\u001b[39;49m\u001b[43m_read_only\u001b[49m\u001b[43m,\u001b[49m\n\u001b[1;32m    470\u001b[0m \u001b[43m        \u001b[49m\u001b[43mpath\u001b[49m\u001b[38;5;241;43m=\u001b[39;49m\u001b[43mpath\u001b[49m\u001b[43m,\u001b[49m\n\u001b[1;32m    471\u001b[0m \u001b[43m        \u001b[49m\u001b[43mchunk_store\u001b[49m\u001b[38;5;241;43m=\u001b[39;49m\u001b[38;5;28;43mself\u001b[39;49m\u001b[38;5;241;43m.\u001b[39;49m\u001b[43m_chunk_store\u001b[49m\u001b[43m,\u001b[49m\n\u001b[1;32m    472\u001b[0m \u001b[43m        \u001b[49m\u001b[43msynchronizer\u001b[49m\u001b[38;5;241;43m=\u001b[39;49m\u001b[38;5;28;43mself\u001b[39;49m\u001b[38;5;241;43m.\u001b[39;49m\u001b[43m_synchronizer\u001b[49m\u001b[43m,\u001b[49m\n\u001b[1;32m    473\u001b[0m \u001b[43m        \u001b[49m\u001b[43mcache_attrs\u001b[49m\u001b[38;5;241;43m=\u001b[39;49m\u001b[38;5;28;43mself\u001b[39;49m\u001b[38;5;241;43m.\u001b[39;49m\u001b[43mattrs\u001b[49m\u001b[38;5;241;43m.\u001b[39;49m\u001b[43mcache\u001b[49m\u001b[43m,\u001b[49m\n\u001b[1;32m    474\u001b[0m \u001b[43m        \u001b[49m\u001b[43mzarr_version\u001b[49m\u001b[38;5;241;43m=\u001b[39;49m\u001b[38;5;28;43mself\u001b[39;49m\u001b[38;5;241;43m.\u001b[39;49m\u001b[43m_version\u001b[49m\u001b[43m,\u001b[49m\n\u001b[1;32m    475\u001b[0m \u001b[43m        \u001b[49m\u001b[43mmeta_array\u001b[49m\u001b[38;5;241;43m=\u001b[39;49m\u001b[38;5;28;43mself\u001b[39;49m\u001b[38;5;241;43m.\u001b[39;49m\u001b[43m_meta_array\u001b[49m\u001b[43m,\u001b[49m\n\u001b[1;32m    476\u001b[0m \u001b[43m    \u001b[49m\u001b[43m)\u001b[49m\n\u001b[1;32m    477\u001b[0m \u001b[38;5;28;01mexcept\u001b[39;00m ArrayNotFoundError:\n\u001b[1;32m    478\u001b[0m     \u001b[38;5;28;01mpass\u001b[39;00m\n",
      "File \u001b[0;32m/cmsaf/cmsaf-ops3/stkothe/KE/ect/lib/python3.12/site-packages/zarr/core.py:170\u001b[0m, in \u001b[0;36mArray.__init__\u001b[0;34m(self, store, path, read_only, chunk_store, synchronizer, cache_metadata, cache_attrs, partial_decompress, write_empty_chunks, zarr_version, meta_array)\u001b[0m\n\u001b[1;32m    167\u001b[0m     \u001b[38;5;28mself\u001b[39m\u001b[38;5;241m.\u001b[39m_metadata_key_suffix \u001b[38;5;241m=\u001b[39m \u001b[38;5;28mself\u001b[39m\u001b[38;5;241m.\u001b[39m_hierarchy_metadata[\u001b[38;5;124m\"\u001b[39m\u001b[38;5;124mmetadata_key_suffix\u001b[39m\u001b[38;5;124m\"\u001b[39m]\n\u001b[1;32m    169\u001b[0m \u001b[38;5;66;03m# initialize metadata\u001b[39;00m\n\u001b[0;32m--> 170\u001b[0m \u001b[38;5;28;43mself\u001b[39;49m\u001b[38;5;241;43m.\u001b[39;49m\u001b[43m_load_metadata\u001b[49m\u001b[43m(\u001b[49m\u001b[43m)\u001b[49m\n\u001b[1;32m    172\u001b[0m \u001b[38;5;66;03m# initialize attributes\u001b[39;00m\n\u001b[1;32m    173\u001b[0m akey \u001b[38;5;241m=\u001b[39m _prefix_to_attrs_key(\u001b[38;5;28mself\u001b[39m\u001b[38;5;241m.\u001b[39m_store, \u001b[38;5;28mself\u001b[39m\u001b[38;5;241m.\u001b[39m_key_prefix)\n",
      "File \u001b[0;32m/cmsaf/cmsaf-ops3/stkothe/KE/ect/lib/python3.12/site-packages/zarr/core.py:193\u001b[0m, in \u001b[0;36mArray._load_metadata\u001b[0;34m(self)\u001b[0m\n\u001b[1;32m    191\u001b[0m \u001b[38;5;250m\u001b[39m\u001b[38;5;124;03m\"\"\"(Re)load metadata from store.\"\"\"\u001b[39;00m\n\u001b[1;32m    192\u001b[0m \u001b[38;5;28;01mif\u001b[39;00m \u001b[38;5;28mself\u001b[39m\u001b[38;5;241m.\u001b[39m_synchronizer \u001b[38;5;129;01mis\u001b[39;00m \u001b[38;5;28;01mNone\u001b[39;00m:\n\u001b[0;32m--> 193\u001b[0m     \u001b[38;5;28;43mself\u001b[39;49m\u001b[38;5;241;43m.\u001b[39;49m\u001b[43m_load_metadata_nosync\u001b[49m\u001b[43m(\u001b[49m\u001b[43m)\u001b[49m\n\u001b[1;32m    194\u001b[0m \u001b[38;5;28;01melse\u001b[39;00m:\n\u001b[1;32m    195\u001b[0m     mkey \u001b[38;5;241m=\u001b[39m _prefix_to_array_key(\u001b[38;5;28mself\u001b[39m\u001b[38;5;241m.\u001b[39m_store, \u001b[38;5;28mself\u001b[39m\u001b[38;5;241m.\u001b[39m_key_prefix)\n",
      "File \u001b[0;32m/cmsaf/cmsaf-ops3/stkothe/KE/ect/lib/python3.12/site-packages/zarr/core.py:207\u001b[0m, in \u001b[0;36mArray._load_metadata_nosync\u001b[0;34m(self)\u001b[0m\n\u001b[1;32m    204\u001b[0m     \u001b[38;5;28;01mraise\u001b[39;00m ArrayNotFoundError(\u001b[38;5;28mself\u001b[39m\u001b[38;5;241m.\u001b[39m_path) \u001b[38;5;28;01mfrom\u001b[39;00m \u001b[38;5;21;01me\u001b[39;00m\n\u001b[1;32m    205\u001b[0m \u001b[38;5;28;01melse\u001b[39;00m:\n\u001b[1;32m    206\u001b[0m     \u001b[38;5;66;03m# decode and store metadata as instance members\u001b[39;00m\n\u001b[0;32m--> 207\u001b[0m     meta \u001b[38;5;241m=\u001b[39m \u001b[38;5;28;43mself\u001b[39;49m\u001b[38;5;241;43m.\u001b[39;49m\u001b[43m_store\u001b[49m\u001b[38;5;241;43m.\u001b[39;49m\u001b[43m_metadata_class\u001b[49m\u001b[38;5;241;43m.\u001b[39;49m\u001b[43mdecode_array_metadata\u001b[49m\u001b[43m(\u001b[49m\u001b[43mmeta_bytes\u001b[49m\u001b[43m)\u001b[49m\n\u001b[1;32m    208\u001b[0m     \u001b[38;5;28mself\u001b[39m\u001b[38;5;241m.\u001b[39m_meta \u001b[38;5;241m=\u001b[39m meta\n\u001b[1;32m    209\u001b[0m     \u001b[38;5;28mself\u001b[39m\u001b[38;5;241m.\u001b[39m_shape \u001b[38;5;241m=\u001b[39m meta[\u001b[38;5;124m\"\u001b[39m\u001b[38;5;124mshape\u001b[39m\u001b[38;5;124m\"\u001b[39m]\n",
      "File \u001b[0;32m/cmsaf/cmsaf-ops3/stkothe/KE/ect/lib/python3.12/site-packages/zarr/meta.py:141\u001b[0m, in \u001b[0;36mMetadata2.decode_array_metadata\u001b[0;34m(cls, s)\u001b[0m\n\u001b[1;32m    139\u001b[0m         meta[\u001b[38;5;124m\"\u001b[39m\u001b[38;5;124mdimension_separator\u001b[39m\u001b[38;5;124m\"\u001b[39m] \u001b[38;5;241m=\u001b[39m dimension_separator\n\u001b[1;32m    140\u001b[0m \u001b[38;5;28;01mexcept\u001b[39;00m \u001b[38;5;167;01mException\u001b[39;00m \u001b[38;5;28;01mas\u001b[39;00m e:\n\u001b[0;32m--> 141\u001b[0m     \u001b[38;5;28;01mraise\u001b[39;00m MetadataError(\u001b[38;5;124m\"\u001b[39m\u001b[38;5;124merror decoding metadata\u001b[39m\u001b[38;5;124m\"\u001b[39m) \u001b[38;5;28;01mfrom\u001b[39;00m \u001b[38;5;21;01me\u001b[39;00m\n\u001b[1;32m    142\u001b[0m \u001b[38;5;28;01melse\u001b[39;00m:\n\u001b[1;32m    143\u001b[0m     \u001b[38;5;28;01mreturn\u001b[39;00m meta\n",
      "\u001b[0;31mMetadataError\u001b[0m: error decoding metadata"
     ]
    }
   ],
   "source": [
    "pfr_ds = cci_store.open_data(\n",
    "    data_id=data_id,\n",
    "    variable_names=variables,\n",
    "    time_range=[start_date, end_date]\n",
    ")"
   ]
  },
  {
   "cell_type": "markdown",
   "id": "26aeedd6-d471-4056-ae4e-3057d7221cc3",
   "metadata": {},
   "source": [
    "### Step 8: Display Dataset Structure\n",
    "\n",
    "We print a summary of the opened dataset to inspect its structure, dimensions, variables, and metadata.  \n",
    "This helps verify that the data was loaded correctly and shows what is available for analysis and visualization.\n",
    "This step is useful to understand what the dataset contains before working with it further."
   ]
  },
  {
   "cell_type": "code",
   "execution_count": null,
   "id": "192daaeb-241a-4fba-956f-3e7ac8cb04b5",
   "metadata": {},
   "outputs": [],
   "source": [
    "print(\"\\nOpened Dataset:\\n\", pfr_ds)"
   ]
  },
  {
   "cell_type": "markdown",
   "id": "7671aca3-81d9-472a-a93f-12d447155676",
   "metadata": {},
   "source": [
    "### Step 9: Visualize Results\n",
    "\n",
    "We now create a simple map plot of the selected variable.  \n",
    "This allows us to explore the spatial patterns of the data — in this case, the Aerosol Optical Depth (AOD) for the selected day.\n",
    "For more interactive and advanced visualizations, check out the [ESA Climate Toolbox](https://climate.esa.int/en/data/toolbox/) or the [Toolbox documentation](https://esa-climate-toolbox.readthedocs.io/en/latest/quick_start.html#jupyter-notebooks)."
   ]
  },
  {
   "cell_type": "code",
   "execution_count": null,
   "id": "65ec997b-a0e8-40d7-8aa9-737a3ac2ec0d",
   "metadata": {
    "scrolled": true
   },
   "outputs": [],
   "source": [
    "import matplotlib.pyplot as plt\n",
    "\n",
    "# Select the cloud fraction data at the available time (e.g. first and only time slice)\n",
    "pfr = pfr_ds[\"PFR\"].isel(time=0)\n",
    "\n",
    "# Plot\n",
    "plt.figure(figsize=(10, 5))\n",
    "pfr.plot(\n",
    "    cmap=\"Blues\",  # reverse blues\n",
    "    cbar_kwargs={\"label\": \"Permafrost\"}\n",
    ")\n",
    "plt.title(\"Permafrost – 2021 (Permafrost CCI)\")\n",
    "plt.xlabel(\"Longitude\")\n",
    "plt.ylabel(\"Latitude\")\n",
    "plt.tight_layout()\n",
    "plt.show()"
   ]
  }
 ],
 "metadata": {
  "kernelspec": {
   "display_name": "Python 3 (ipykernel)",
   "language": "python",
   "name": "python3"
  },
  "language_info": {
   "codemirror_mode": {
    "name": "ipython",
    "version": 3
   },
   "file_extension": ".py",
   "mimetype": "text/x-python",
   "name": "python",
   "nbconvert_exporter": "python",
   "pygments_lexer": "ipython3",
   "version": "3.12.7"
  }
 },
 "nbformat": 4,
 "nbformat_minor": 5
}
