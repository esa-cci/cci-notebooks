{
 "cells": [
  {
   "cell_type": "markdown",
   "id": "ab36065c-42b2-4539-94b5-c1e048a0e8b4",
   "metadata": {},
   "source": [
    "# Getting Started with Permafrost CCI Data"
   ]
  },
  {
   "cell_type": "markdown",
   "id": "7820f8bc-21f0-4933-8972-0b19f268532e",
   "metadata": {},
   "source": [
    "### 1. Import Necessary Packages\n",
    "\n",
    "In this section, we import the required Python packages to work with ESA Climate Change Initiative (CCI) data. Most notably, we use the [ESA Climate Toolbox](https://esa-climate-toolbox.readthedocs.io/en/latest/) which simplifies access, manipulation, and visualization of CCI datasets in Python.\n",
    "\n",
    "These packages allow us to:\n",
    "- Access satellite-based climate data records from ESA.\n",
    "- Handle geospatial and temporal dimensions efficiently.\n",
    "- Visualize data with intuitive plotting tools.\n",
    "\n",
    "📚 For a broader introduction to the toolbox and how to install it, visit:  \n",
    "🔗 [ESA CCI Climate Toolbox Quick Start](https://esa-climate-toolbox.readthedocs.io/en/latest/quick_start.html#jupyter-notebooks)  \n",
    "🔗 [ESA Climate Data Toolbox Website](https://climate.esa.int/en/data/toolbox/)"
   ]
  },
  {
   "cell_type": "code",
   "execution_count": 1,
   "id": "f05b0d63-ff02-41f8-9070-f0d9c44d9a3c",
   "metadata": {},
   "outputs": [],
   "source": [
    "from xcube.core.store import new_data_store\n",
    "from esa_climate_toolbox.core import get_op\n",
    "from esa_climate_toolbox.core import list_ecv_datasets\n",
    "from esa_climate_toolbox.core import get_store\n",
    "from esa_climate_toolbox.core import list_datasets\n",
    "from esa_climate_toolbox.ops import plot\n",
    "import xarray as xr\n",
    "import matplotlib.pyplot as plt\n",
    "import warnings\n",
    "%matplotlib inline"
   ]
  },
  {
   "cell_type": "markdown",
   "id": "a2f223ea-569a-4c84-8266-8572f861f3ed",
   "metadata": {},
   "source": [
    "### Step 2: Connect to the ESA CCI Data Store\n",
    "\n",
    "The ESA Climate Toolbox provides direct access to the **ESA Climate Data Store**, which hosts harmonized satellite-based climate data records produced under the **ESA Climate Change Initiative (CCI)**.\n",
    "\n",
    "In this step, we establish a connection to the data store so we can browse and open datasets. This connection allows us to access data **without having to download files manually** — a convenient way to explore and analyze large geospatial datasets in cloud-friendly formats such as **Zarr** or **Kerchunk**.\n",
    "\n",
    "The data store includes a wide range of essential climate variables (ECVs), such as aerosols, land surface temperature, sea level, and soil moisture.\n",
    "\n",
    "📘 Learn more about available datasets:  \n",
    "🔗 [ESA Climate Data Toolbox – Quick Start Guide](https://esa-climate-toolbox.readthedocs.io/en/latest/quick_start.html#data-access)"
   ]
  },
  {
   "cell_type": "code",
   "execution_count": 2,
   "id": "94164c99-2ef2-48d7-b098-6e136ee861af",
   "metadata": {},
   "outputs": [],
   "source": [
    "cci_store = new_data_store(\"esa-cci\")\n",
    "# List all available data sets of an ECV\n",
    "# list_ecv_datasets(\"Permafrost\")"
   ]
  },
  {
   "cell_type": "markdown",
   "id": "d736f1da-a755-4df7-864a-5f14f988159f",
   "metadata": {},
   "source": [
    "### Step 3: Define the Dataset ID  \n",
    "To work with a specific ESA CCI dataset, we need to specify its **dataset ID**. This unique identifier tells the toolbox which variable and product we want to access.\n",
    "\n",
    "In this example, we are using a dataset from the **Permafrost CCI project** that provides yearly estimates of permafrost extent and ground temperature, derived from a combination of satellite data and land surface modeling. These products are key for monitoring the stability of permafrost regions and understanding their role in the carbon cycle and climate feedback mechanisms.\n",
    "\n",
    "We will use the following dataset ID:"
   ]
  },
  {
   "cell_type": "code",
   "execution_count": 3,
   "id": "7672a7f4-be9a-4b8f-a888-93d31647d5b4",
   "metadata": {},
   "outputs": [],
   "source": [
    "data_id = 'esacci.PERMAFROST.yr.L4.PFR.multi-sensor.multi-platform.ERA5_MODISLST_BIASCORRECTED.04-0.r1'"
   ]
  },
  {
   "cell_type": "markdown",
   "id": "817922fd-a86b-4cee-ab9b-5a042692be42",
   "metadata": {},
   "source": [
    "📘 A full list of dataset IDs can be retrieved from the store or found in the [ESA CCI Climate Toolbox documentation](https://esa-climate-toolbox.readthedocs.io/en/latest/quick_start.html#accessing-data)."
   ]
  },
  {
   "cell_type": "markdown",
   "id": "b1e9d068-a81b-4d00-91cb-cc020bd5333a",
   "metadata": {},
   "source": [
    "### Step 4: Describe Dataset (Check Available Variables and Metadata)\n",
    "\n",
    "Before loading the full dataset, it’s helpful to **inspect the metadata** to understand its structure. This includes:\n",
    "\n",
    "- Available variables (e.g., AOD, uncertainty estimates)\n",
    "- Temporal and spatial coverage\n",
    "- Data format and structure\n",
    "\n",
    "This step ensures we know what the dataset contains and how to work with it. It also helps confirm that the variable we want to plot or analyze is actually included.\n",
    "\n",
    "🛠️ Tip: You can use the description to verify variable names, dimensions (e.g., `lat`, `lon`, `time`), and time coverage.\n",
    "\n",
    "📘 More on dataset structure:  \n",
    "🔗 [ESA Climate Toolbox – Data Access](https://esa-climate-toolbox.readthedocs.io/en/latest/quick_start.html#accessing-data)"
   ]
  },
  {
   "cell_type": "code",
   "execution_count": 4,
   "id": "1ccb7546-70f0-479d-bb0a-d902190500af",
   "metadata": {},
   "outputs": [
    {
     "data": {
      "application/json": {
       "attrs": {
        "abstract": "This dataset contains v4.0 permafrost extent data produced as part of the European Space Agency's (ESA) Climate Change Initiative (CCI) Permafrost project. It forms part of the third version of their Climate Research Data Package (CRDP v3). It is derived from a thermal model driven and constrained by satellite data. CRDPv3 covers the years from 1997 to 2021. Grid products of CDRP v3 are released in annual files, covering the start to the end of the Julian year. This corresponds to average annual ground temperatures (at 2 m depth) which forms the basis for the retrieval of yearly fraction of permafrost-underlain and permafrost-free area within a pixel. A classification according to the IPA (International Permafrost Association) zonation delivers the well-known permafrost zones, distinguishing isolated (0-10%) sporadic (10-50%), discontinuous (50-90%) and continuous permafrost (90-100%).  \n\nCase A: It covers the Northern Hemisphere (north of 30°) for the period 2003-2021 based on MODIS \nLand Surface temperature merged with downscaled ERA5 reanalysis near-surface air temperature data.\nCase B: It covers the Northern Hemisphere (north of 30°) for the period 1997-2002 based on downscaled ERA5 reanalysis near-surface air temperature data which are bias-corrected with the Case A product for the overlap period 2003-2021 using a pixel-specific statistics for each day of the year.",
        "catalog_url": "https://catalogue.ceda.ac.uk/uuid/93444bc1c4364a59869e004bf9bfd94a",
        "cci_project": "PERMAFROST",
        "comment": "These data were produced at ESA CCI as part of the ESA Permafrost CCI+ project Contract No 4000123681-18-I-NB. They are part of the 1st Climate Research Data Package release.",
        "data_type": "PFR",
        "ecv": "PERMAFROST",
        "history": "2024-03-20 13:44:29",
        "institute": "Department of Geosciences, University of Oslo",
        "platform_id": "multi-platform",
        "processing_level": "L4",
        "product_string": "ERA5_MODISLST_BIASCORRECTED",
        "product_version": "04-0",
        "project": "Climate Change Initiative - European Space Agency",
        "publication_date": "2024-04-03T13:06:18",
        "references": "http://cci.esa.int/Permafrost, https://doi.org/10.5194/gmd-9-523-2016",
        "sensor_id": "multi-sensor",
        "source": "MODIS MOD11A1 and MYD11A1 level 3 Collection 6, ESA CCI Land Cover dataset v1.6.1, ERA5 Reanalysis",
        "title": "ESA Permafrost Climate Change Initiative (Permafrost_cci): Permafrost extent for the Northern Hemisphere, v4.0",
        "uuid": "93444bc1c4364a59869e004bf9bfd94a"
       },
       "bbox": [
        -180,
        25,
        180,
        85
       ],
       "coords": {
        "lat": {
         "attrs": {
          "chunk_sizes": 1000,
          "data_type": "float32",
          "dimensions": [
           "lat"
          ],
          "file_chunk_sizes": 1000,
          "file_dimensions": [
           "lat"
          ],
          "fill_value": 9.96921e+36,
          "long_name": "latitude_coordinates",
          "orig_data_type": "float32",
          "reference_datum": "geographical coordinates, WGS84 projection",
          "shape": [
           6000
          ],
          "size": 6000,
          "standard_name": "latitude",
          "units": "degrees_north",
          "valid_max": 85,
          "valid_min": 25
         },
         "dims": [
          "lat"
         ],
         "dtype": "float32",
         "name": "lat"
        },
        "lon": {
         "attrs": {
          "chunk_sizes": 1000,
          "data_type": "float32",
          "dimensions": [
           "lon"
          ],
          "file_chunk_sizes": 1000,
          "file_dimensions": [
           "lon"
          ],
          "fill_value": 9.96921e+36,
          "long_name": "longitude_coordinates",
          "orig_data_type": "float32",
          "reference_datum": "geographical coordinates, WGS84 projection",
          "shape": [
           36000
          ],
          "size": 36000,
          "standard_name": "longitude",
          "units": "degrees_east",
          "valid_max": 180,
          "valid_min": -180
         },
         "dims": [
          "lon"
         ],
         "dtype": "float32",
         "name": "lon"
        },
        "time": {
         "attrs": {
          "axis": "T",
          "calendar": "standard",
          "chunk_sizes": 1,
          "data_type": "float32",
          "dimensions": [
           "time"
          ],
          "file_chunk_sizes": 1,
          "file_dimensions": [
           "time"
          ],
          "fill_value": 9.96921e+36,
          "long_name": "time",
          "orig_data_type": "float32",
          "shape": [
           6
          ],
          "size": 6,
          "standard_name": "time",
          "units": "hours since 1950-01-01 00:00:00"
         },
         "dims": [
          "time"
         ],
         "dtype": "float32",
         "name": "time"
        }
       },
       "crs": "\\\"WGS 84\\\"",
       "data_id": "esacci.PERMAFROST.yr.L4.PFR.multi-sensor.multi-platform.ERA5_MODISLST_BIASCORRECTED.04-0.r1",
       "data_type": "dataset",
       "data_vars": {
        "PFR": {
         "attrs": {
          "_Unsigned": "true",
          "chunk_sizes": [
           1,
           1000,
           1000
          ],
          "conversion": "no",
          "data_type": "uint8",
          "dimensions": [
           "time",
           "lat",
           "lon"
          ],
          "file_chunk_sizes": [
           1,
           1000,
           1000
          ],
          "file_dimensions": [
           "time",
           "lat",
           "lon"
          ],
          "fill_value": 255,
          "grid_mapping": "spatial_ref",
          "orig_data_type": "uint8",
          "shape": [
           6,
           6000,
           36000
          ],
          "size": 1296000000,
          "standard_name": "permafrost_area_fraction",
          "units": "percent",
          "valid_max": 100,
          "valid_min": 0
         },
         "dims": [
          "time",
          "lat",
          "lon"
         ],
         "dtype": "uint8",
         "name": "PFR"
        },
        "PFR_uncertainty": {
         "attrs": {
          "_Unsigned": "true",
          "chunk_sizes": [
           1,
           1000,
           1000
          ],
          "conversion": "no",
          "data_type": "uint8",
          "dimensions": [
           "time",
           "lat",
           "lon"
          ],
          "file_chunk_sizes": [
           1,
           1000,
           1000
          ],
          "file_dimensions": [
           "time",
           "lat",
           "lon"
          ],
          "fill_value": 255,
          "grid_mapping": "spatial_ref",
          "long_name": "uncertainty of permafrost fraction",
          "orig_data_type": "uint8",
          "shape": [
           6,
           6000,
           36000
          ],
          "size": 1296000000,
          "units": "percent",
          "valid_max": 100,
          "valid_min": 0
         },
         "dims": [
          "time",
          "lat",
          "lon"
         ],
         "dtype": "uint8",
         "name": "PFR_uncertainty"
        },
        "spatial_ref": {
         "attrs": {
          "GeoTransform": "-180 0.01 0 90 0 -0.01",
          "chunk_sizes": [
           1
          ],
          "data_type": "int32",
          "dimensions": [],
          "file_chunk_sizes": [
           1
          ],
          "file_dimensions": [],
          "fill_value": -2147483647,
          "grid_mapping_name": "latitude_longitude",
          "inverse_flattening": 298.257223563,
          "longitude_of_prime_meridian": 0,
          "orig_data_type": "int32",
          "semi_major_axis": 6378137,
          "shape": [
           1
          ],
          "size": 1,
          "spatial_ref": "GEOGCS[\\\"WGS 84\\\",DATUM[\\\"WGS_1984\\\",SPHEROID[\\\"WGS 84\\\",6378137,298.257223563,AUTHORITY[\\\"EPSG\\\",\\\"7030\\\"]],AUTHORITY[\\\"EPSG\\\",\\\"6326\\\"]],PRIMEM[\\\"Greenwich\\\",0,AUTHORITY[\\\"EPSG\\\",\\\"8901\\\"]],UNIT[\\\"degree\\\",0.0174532925199433,AUTHORITY[\\\"EPSG\\\",\\\"9122\\\"]],AXIS[\\\"Latitude\\\",NORTH],AXIS[\\\"Longitude\\\",EAST],AUTHORITY[\\\"EPSG\\\",\\\"4326\\\"]]"
         },
         "dims": [],
         "dtype": "int32",
         "name": "spatial_ref"
        }
       },
       "dims": {
        "bnds": 2,
        "lat": 6000,
        "lon": 36000,
        "time": 6
       },
       "open_params_schema": {
        "additionalProperties": false,
        "properties": {
         "normalize_data": {
          "default": true,
          "type": "boolean"
         },
         "time_range": {
          "items": [
           {
            "format": "date",
            "maxDate": "2021-12-31",
            "minDate": "1997-01-01",
            "type": "string"
           },
           {
            "format": "date",
            "maxDate": "2021-12-31",
            "minDate": "1997-01-01",
            "type": "string"
           }
          ],
          "type": "array"
         },
         "variable_names": {
          "items": {
           "enum": [
            "spatial_ref",
            "PFR",
            "PFR_uncertainty"
           ],
           "type": "string"
          },
          "type": "array"
         }
        },
        "type": "object"
       },
       "spatial_res": 0.01,
       "time_period": "1Y",
       "time_range": [
        "1997-01-01",
        "2021-12-31"
       ]
      },
      "text/plain": [
       "<xcube.core.store.descriptor.DatasetDescriptor at 0x7f5b1a951a60>"
      ]
     },
     "execution_count": 4,
     "metadata": {},
     "output_type": "execute_result"
    }
   ],
   "source": [
    "cci_store.describe_data(data_id)"
   ]
  },
  {
   "cell_type": "markdown",
   "id": "c4fd984c-0028-418a-8d9f-37dae390c869",
   "metadata": {},
   "source": [
    "### Step 5: Check Open Parameters for the Dataset\n",
    "\n",
    "Before opening the dataset, we can inspect which parameters are supported by the **Zarr opener** (e.g., `time_range`, `bbox`, `variable_names`). This step helps ensure that we pass valid arguments when loading data and avoid errors.\n",
    "\n",
    "The command below lists all expected input parameters and their allowed values for the selected dataset."
   ]
  },
  {
   "cell_type": "code",
   "execution_count": 5,
   "id": "a0ee1118-47e2-47c4-9401-1bb069776fdc",
   "metadata": {},
   "outputs": [
    {
     "data": {
      "application/json": {
       "additionalProperties": false,
       "properties": {
        "normalize_data": {
         "default": true,
         "type": "boolean"
        },
        "time_range": {
         "items": [
          {
           "format": "date",
           "maxDate": "2021-12-31",
           "minDate": "1997-01-01",
           "type": "string"
          },
          {
           "format": "date",
           "maxDate": "2021-12-31",
           "minDate": "1997-01-01",
           "type": "string"
          }
         ],
         "type": "array"
        },
        "variable_names": {
         "items": {
          "enum": [
           "spatial_ref",
           "PFR",
           "PFR_uncertainty"
          ],
          "type": "string"
         },
         "type": "array"
        }
       },
       "type": "object"
      },
      "text/plain": [
       "<xcube.util.jsonschema.JsonObjectSchema at 0x7f5b12368f80>"
      ]
     },
     "execution_count": 5,
     "metadata": {},
     "output_type": "execute_result"
    }
   ],
   "source": [
    "cci_store.get_open_data_params_schema(data_id=data_id, opener_id='dataset:zarr:cciodp')"
   ]
  },
  {
   "cell_type": "markdown",
   "id": "63e58869-eac7-4f36-823c-8eaab9df7380",
   "metadata": {},
   "source": [
    "### Step 6: Define Region, Time Range, and Variables of Interest\n",
    "\n",
    "Before opening the dataset, we define a few key parameters:\n",
    "\n",
    "- **Time range**: the date(s) we want to load\n",
    "- **Variables**: which data variable(s) to retrieve\n",
    "- *(Optional)* **Bounding box**: spatial region of interest — here we skip it to load the global dataset"
   ]
  },
  {
   "cell_type": "code",
   "execution_count": 6,
   "id": "8a2be689-288c-4fb5-abe9-99b4b84eef07",
   "metadata": {},
   "outputs": [],
   "source": [
    "variables = ['PFR']  # Variable to retrieve\n",
    "start_date = '2021-01-01'    # Start and end date (same for a single timestep)\n",
    "end_date = '2021-12-31'\n",
    "# bbox = (-10.0, 35.0, 30.0, 60.0)  # Optional: restrict to a region like Europe / no option for this dataset"
   ]
  },
  {
   "cell_type": "markdown",
   "id": "14f9e524-ff7f-47e7-af2c-0e8ac2e3d668",
   "metadata": {},
   "source": [
    "### Step 7: Open the Dataset\n",
    "\n",
    "Now we open the dataset using the selected parameters.  \n",
    "The ESA Climate Toolbox will download only the necessary data (e.g., variable and time range).\n",
    "You can always adjust the time range or variables to explore different slices of the dataset."
   ]
  },
  {
   "cell_type": "code",
   "execution_count": 7,
   "id": "145b10bc-68b4-4645-a4a8-761965cb6098",
   "metadata": {
    "scrolled": true
   },
   "outputs": [],
   "source": [
    "pfr_ds = cci_store.open_data(\n",
    "    data_id=data_id,\n",
    "    variable_names=variables,\n",
    "    time_range=[start_date, end_date]\n",
    ")"
   ]
  },
  {
   "cell_type": "markdown",
   "id": "26aeedd6-d471-4056-ae4e-3057d7221cc3",
   "metadata": {},
   "source": [
    "### Step 8: Display Dataset Structure\n",
    "\n",
    "We print a summary of the opened dataset to inspect its structure, dimensions, variables, and metadata.  \n",
    "This helps verify that the data was loaded correctly and shows what is available for analysis and visualization.\n",
    "This step is useful to understand what the dataset contains before working with it further."
   ]
  },
  {
   "cell_type": "code",
   "execution_count": 8,
   "id": "192daaeb-241a-4fba-956f-3e7ac8cb04b5",
   "metadata": {},
   "outputs": [
    {
     "name": "stdout",
     "output_type": "stream",
     "text": [
      "\n",
      "Opened Dataset:\n",
      " <xarray.Dataset> Size: 864MB\n",
      "Dimensions:      (time: 1, lat: 6000, lon: 36000, bnds: 2)\n",
      "Coordinates:\n",
      "  * lat          (lat) float32 24kB 25.0 25.01 25.02 25.03 ... 84.97 84.98 84.99\n",
      "  * lon          (lon) float32 144kB -180.0 -180.0 -180.0 ... 180.0 180.0 180.0\n",
      "  * time         (time) datetime64[ns] 8B 2021-07-02T12:00:00\n",
      "    time_bnds    (time, bnds) datetime64[ns] 16B dask.array<chunksize=(1, 2), meta=np.ndarray>\n",
      "Dimensions without coordinates: bnds\n",
      "Data variables:\n",
      "    PFR          (time, lat, lon) float32 864MB dask.array<chunksize=(1, 1000, 1000), meta=np.ndarray>\n",
      "    spatial_ref  float64 8B ...\n",
      "Attributes:\n",
      "    Conventions:             CF-1.7\n",
      "    title:                   esacci.PERMAFROST.yr.L4.PFR.multi-sensor.multi-p...\n",
      "    date_created:            2025-04-16T12:48:08.397216\n",
      "    processing_level:        L4\n",
      "    time_coverage_start:     2021-01-01T00:00:00\n",
      "    time_coverage_end:       2022-01-01T00:00:00\n",
      "    time_coverage_duration:  P365DT0H0M0S\n",
      "    history:                 [{'program': 'xcube_cci.chunkstore.CciChunkStore...\n"
     ]
    }
   ],
   "source": [
    "print(\"\\nOpened Dataset:\\n\", pfr_ds)"
   ]
  },
  {
   "cell_type": "markdown",
   "id": "7671aca3-81d9-472a-a93f-12d447155676",
   "metadata": {},
   "source": [
    "### Step 9: Visualize Results\n",
    "\n",
    "We now create a simple map plot of the selected variable.  \n",
    "This allows us to explore the spatial patterns of the data — in this case, the Aerosol Optical Depth (AOD) for the selected day.\n",
    "For more interactive and advanced visualizations, check out the [ESA Climate Toolbox](https://climate.esa.int/en/data/toolbox/) or the [Toolbox documentation](https://esa-climate-toolbox.readthedocs.io/en/latest/quick_start.html#jupyter-notebooks)."
   ]
  },
  {
   "cell_type": "code",
   "execution_count": null,
   "id": "65ec997b-a0e8-40d7-8aa9-737a3ac2ec0d",
   "metadata": {
    "scrolled": true
   },
   "outputs": [
    {
     "name": "stderr",
     "output_type": "stream",
     "text": [
      "/cmsaf/cmsaf-ops3/stkothe/KE/ect/lib/python3.12/site-packages/xcube_cci/chunkstore.py:975: UserWarning: PFR/0.5.9: cannot fetch chunk for variable 'PFR' and time_range (Timestamp('2021-01-01 00:00:00'), Timestamp('2022-01-01 00:00:00')).\n",
      "  warnings.warn(f'{key}: cannot fetch chunk for variable '\n",
      "/cmsaf/cmsaf-ops3/stkothe/KE/ect/lib/python3.12/site-packages/xcube_cci/chunkstore.py:975: UserWarning: PFR/0.5.8: cannot fetch chunk for variable 'PFR' and time_range (Timestamp('2021-01-01 00:00:00'), Timestamp('2022-01-01 00:00:00')).\n",
      "  warnings.warn(f'{key}: cannot fetch chunk for variable '\n",
      "/cmsaf/cmsaf-ops3/stkothe/KE/ect/lib/python3.12/site-packages/xcube_cci/chunkstore.py:975: UserWarning: PFR/0.5.6: cannot fetch chunk for variable 'PFR' and time_range (Timestamp('2021-01-01 00:00:00'), Timestamp('2022-01-01 00:00:00')).\n",
      "  warnings.warn(f'{key}: cannot fetch chunk for variable '\n",
      "/cmsaf/cmsaf-ops3/stkothe/KE/ect/lib/python3.12/site-packages/xcube_cci/chunkstore.py:975: UserWarning: PFR/0.5.4: cannot fetch chunk for variable 'PFR' and time_range (Timestamp('2021-01-01 00:00:00'), Timestamp('2022-01-01 00:00:00')).\n",
      "  warnings.warn(f'{key}: cannot fetch chunk for variable '\n",
      "/cmsaf/cmsaf-ops3/stkothe/KE/ect/lib/python3.12/site-packages/xcube_cci/chunkstore.py:975: UserWarning: PFR/0.5.5: cannot fetch chunk for variable 'PFR' and time_range (Timestamp('2021-01-01 00:00:00'), Timestamp('2022-01-01 00:00:00')).\n",
      "  warnings.warn(f'{key}: cannot fetch chunk for variable '\n",
      "/cmsaf/cmsaf-ops3/stkothe/KE/ect/lib/python3.12/site-packages/xcube_cci/chunkstore.py:975: UserWarning: PFR/0.5.7: cannot fetch chunk for variable 'PFR' and time_range (Timestamp('2021-01-01 00:00:00'), Timestamp('2022-01-01 00:00:00')).\n",
      "  warnings.warn(f'{key}: cannot fetch chunk for variable '\n",
      "/cmsaf/cmsaf-ops3/stkothe/KE/ect/lib/python3.12/site-packages/xcube_cci/chunkstore.py:975: UserWarning: PFR/0.5.32: cannot fetch chunk for variable 'PFR' and time_range (Timestamp('2021-01-01 00:00:00'), Timestamp('2022-01-01 00:00:00')).\n",
      "  warnings.warn(f'{key}: cannot fetch chunk for variable '\n",
      "/cmsaf/cmsaf-ops3/stkothe/KE/ect/lib/python3.12/site-packages/xcube_cci/chunkstore.py:975: UserWarning: PFR/0.5.35: cannot fetch chunk for variable 'PFR' and time_range (Timestamp('2021-01-01 00:00:00'), Timestamp('2022-01-01 00:00:00')).\n",
      "  warnings.warn(f'{key}: cannot fetch chunk for variable '\n",
      "/cmsaf/cmsaf-ops3/stkothe/KE/ect/lib/python3.12/site-packages/xcube_cci/chunkstore.py:975: UserWarning: PFR/0.5.30: cannot fetch chunk for variable 'PFR' and time_range (Timestamp('2021-01-01 00:00:00'), Timestamp('2022-01-01 00:00:00')).\n",
      "  warnings.warn(f'{key}: cannot fetch chunk for variable '\n",
      "/cmsaf/cmsaf-ops3/stkothe/KE/ect/lib/python3.12/site-packages/xcube_cci/chunkstore.py:975: UserWarning: PFR/0.5.33: cannot fetch chunk for variable 'PFR' and time_range (Timestamp('2021-01-01 00:00:00'), Timestamp('2022-01-01 00:00:00')).\n",
      "  warnings.warn(f'{key}: cannot fetch chunk for variable '\n",
      "/cmsaf/cmsaf-ops3/stkothe/KE/ect/lib/python3.12/site-packages/xcube_cci/chunkstore.py:975: UserWarning: PFR/0.5.31: cannot fetch chunk for variable 'PFR' and time_range (Timestamp('2021-01-01 00:00:00'), Timestamp('2022-01-01 00:00:00')).\n",
      "  warnings.warn(f'{key}: cannot fetch chunk for variable '\n",
      "/cmsaf/cmsaf-ops3/stkothe/KE/ect/lib/python3.12/site-packages/xcube_cci/chunkstore.py:975: UserWarning: PFR/0.5.34: cannot fetch chunk for variable 'PFR' and time_range (Timestamp('2021-01-01 00:00:00'), Timestamp('2022-01-01 00:00:00')).\n",
      "  warnings.warn(f'{key}: cannot fetch chunk for variable '\n",
      "/cmsaf/cmsaf-ops3/stkothe/KE/ect/lib/python3.12/site-packages/xcube_cci/chunkstore.py:975: UserWarning: PFR/0.5.29: cannot fetch chunk for variable 'PFR' and time_range (Timestamp('2021-01-01 00:00:00'), Timestamp('2022-01-01 00:00:00')).\n",
      "  warnings.warn(f'{key}: cannot fetch chunk for variable '\n",
      "/cmsaf/cmsaf-ops3/stkothe/KE/ect/lib/python3.12/site-packages/xcube_cci/chunkstore.py:975: UserWarning: PFR/0.5.27: cannot fetch chunk for variable 'PFR' and time_range (Timestamp('2021-01-01 00:00:00'), Timestamp('2022-01-01 00:00:00')).\n",
      "  warnings.warn(f'{key}: cannot fetch chunk for variable '\n",
      "/cmsaf/cmsaf-ops3/stkothe/KE/ect/lib/python3.12/site-packages/xcube_cci/chunkstore.py:975: UserWarning: PFR/0.5.3: cannot fetch chunk for variable 'PFR' and time_range (Timestamp('2021-01-01 00:00:00'), Timestamp('2022-01-01 00:00:00')).\n",
      "  warnings.warn(f'{key}: cannot fetch chunk for variable '\n",
      "/cmsaf/cmsaf-ops3/stkothe/KE/ect/lib/python3.12/site-packages/xcube_cci/chunkstore.py:975: UserWarning: PFR/0.5.26: cannot fetch chunk for variable 'PFR' and time_range (Timestamp('2021-01-01 00:00:00'), Timestamp('2022-01-01 00:00:00')).\n",
      "  warnings.warn(f'{key}: cannot fetch chunk for variable '\n",
      "/cmsaf/cmsaf-ops3/stkothe/KE/ect/lib/python3.12/site-packages/xcube_cci/chunkstore.py:975: UserWarning: PFR/0.5.28: cannot fetch chunk for variable 'PFR' and time_range (Timestamp('2021-01-01 00:00:00'), Timestamp('2022-01-01 00:00:00')).\n",
      "  warnings.warn(f'{key}: cannot fetch chunk for variable '\n",
      "/cmsaf/cmsaf-ops3/stkothe/KE/ect/lib/python3.12/site-packages/xcube_cci/chunkstore.py:975: UserWarning: PFR/0.5.25: cannot fetch chunk for variable 'PFR' and time_range (Timestamp('2021-01-01 00:00:00'), Timestamp('2022-01-01 00:00:00')).\n",
      "  warnings.warn(f'{key}: cannot fetch chunk for variable '\n",
      "/cmsaf/cmsaf-ops3/stkothe/KE/ect/lib/python3.12/site-packages/xcube_cci/chunkstore.py:975: UserWarning: PFR/0.5.24: cannot fetch chunk for variable 'PFR' and time_range (Timestamp('2021-01-01 00:00:00'), Timestamp('2022-01-01 00:00:00')).\n",
      "  warnings.warn(f'{key}: cannot fetch chunk for variable '\n",
      "/cmsaf/cmsaf-ops3/stkothe/KE/ect/lib/python3.12/site-packages/xcube_cci/chunkstore.py:975: UserWarning: PFR/0.5.22: cannot fetch chunk for variable 'PFR' and time_range (Timestamp('2021-01-01 00:00:00'), Timestamp('2022-01-01 00:00:00')).\n",
      "  warnings.warn(f'{key}: cannot fetch chunk for variable '\n",
      "/cmsaf/cmsaf-ops3/stkothe/KE/ect/lib/python3.12/site-packages/xcube_cci/chunkstore.py:975: UserWarning: PFR/0.5.23: cannot fetch chunk for variable 'PFR' and time_range (Timestamp('2021-01-01 00:00:00'), Timestamp('2022-01-01 00:00:00')).\n",
      "  warnings.warn(f'{key}: cannot fetch chunk for variable '\n",
      "/cmsaf/cmsaf-ops3/stkothe/KE/ect/lib/python3.12/site-packages/xcube_cci/chunkstore.py:975: UserWarning: PFR/0.5.20: cannot fetch chunk for variable 'PFR' and time_range (Timestamp('2021-01-01 00:00:00'), Timestamp('2022-01-01 00:00:00')).\n",
      "  warnings.warn(f'{key}: cannot fetch chunk for variable '\n",
      "/cmsaf/cmsaf-ops3/stkothe/KE/ect/lib/python3.12/site-packages/xcube_cci/chunkstore.py:975: UserWarning: PFR/0.5.2: cannot fetch chunk for variable 'PFR' and time_range (Timestamp('2021-01-01 00:00:00'), Timestamp('2022-01-01 00:00:00')).\n",
      "  warnings.warn(f'{key}: cannot fetch chunk for variable '\n",
      "/cmsaf/cmsaf-ops3/stkothe/KE/ect/lib/python3.12/site-packages/xcube_cci/chunkstore.py:975: UserWarning: PFR/0.5.21: cannot fetch chunk for variable 'PFR' and time_range (Timestamp('2021-01-01 00:00:00'), Timestamp('2022-01-01 00:00:00')).\n",
      "  warnings.warn(f'{key}: cannot fetch chunk for variable '\n",
      "/cmsaf/cmsaf-ops3/stkothe/KE/ect/lib/python3.12/site-packages/xcube_cci/chunkstore.py:975: UserWarning: PFR/0.5.19: cannot fetch chunk for variable 'PFR' and time_range (Timestamp('2021-01-01 00:00:00'), Timestamp('2022-01-01 00:00:00')).\n",
      "  warnings.warn(f'{key}: cannot fetch chunk for variable '\n",
      "/cmsaf/cmsaf-ops3/stkothe/KE/ect/lib/python3.12/site-packages/xcube_cci/chunkstore.py:975: UserWarning: PFR/0.5.18: cannot fetch chunk for variable 'PFR' and time_range (Timestamp('2021-01-01 00:00:00'), Timestamp('2022-01-01 00:00:00')).\n",
      "  warnings.warn(f'{key}: cannot fetch chunk for variable '\n",
      "/cmsaf/cmsaf-ops3/stkothe/KE/ect/lib/python3.12/site-packages/xcube_cci/chunkstore.py:975: UserWarning: PFR/0.5.15: cannot fetch chunk for variable 'PFR' and time_range (Timestamp('2021-01-01 00:00:00'), Timestamp('2022-01-01 00:00:00')).\n",
      "  warnings.warn(f'{key}: cannot fetch chunk for variable '\n",
      "/cmsaf/cmsaf-ops3/stkothe/KE/ect/lib/python3.12/site-packages/xcube_cci/chunkstore.py:975: UserWarning: PFR/0.5.17: cannot fetch chunk for variable 'PFR' and time_range (Timestamp('2021-01-01 00:00:00'), Timestamp('2022-01-01 00:00:00')).\n",
      "  warnings.warn(f'{key}: cannot fetch chunk for variable '\n",
      "/cmsaf/cmsaf-ops3/stkothe/KE/ect/lib/python3.12/site-packages/xcube_cci/chunkstore.py:975: UserWarning: PFR/0.5.16: cannot fetch chunk for variable 'PFR' and time_range (Timestamp('2021-01-01 00:00:00'), Timestamp('2022-01-01 00:00:00')).\n",
      "  warnings.warn(f'{key}: cannot fetch chunk for variable '\n",
      "/cmsaf/cmsaf-ops3/stkothe/KE/ect/lib/python3.12/site-packages/xcube_cci/chunkstore.py:975: UserWarning: PFR/0.5.14: cannot fetch chunk for variable 'PFR' and time_range (Timestamp('2021-01-01 00:00:00'), Timestamp('2022-01-01 00:00:00')).\n",
      "  warnings.warn(f'{key}: cannot fetch chunk for variable '\n",
      "/cmsaf/cmsaf-ops3/stkothe/KE/ect/lib/python3.12/site-packages/xcube_cci/chunkstore.py:975: UserWarning: PFR/0.5.13: cannot fetch chunk for variable 'PFR' and time_range (Timestamp('2021-01-01 00:00:00'), Timestamp('2022-01-01 00:00:00')).\n",
      "  warnings.warn(f'{key}: cannot fetch chunk for variable '\n",
      "/cmsaf/cmsaf-ops3/stkothe/KE/ect/lib/python3.12/site-packages/xcube_cci/chunkstore.py:975: UserWarning: PFR/0.5.12: cannot fetch chunk for variable 'PFR' and time_range (Timestamp('2021-01-01 00:00:00'), Timestamp('2022-01-01 00:00:00')).\n",
      "  warnings.warn(f'{key}: cannot fetch chunk for variable '\n",
      "/cmsaf/cmsaf-ops3/stkothe/KE/ect/lib/python3.12/site-packages/xcube_cci/chunkstore.py:975: UserWarning: PFR/0.5.10: cannot fetch chunk for variable 'PFR' and time_range (Timestamp('2021-01-01 00:00:00'), Timestamp('2022-01-01 00:00:00')).\n",
      "  warnings.warn(f'{key}: cannot fetch chunk for variable '\n",
      "/cmsaf/cmsaf-ops3/stkothe/KE/ect/lib/python3.12/site-packages/xcube_cci/chunkstore.py:975: UserWarning: PFR/0.5.11: cannot fetch chunk for variable 'PFR' and time_range (Timestamp('2021-01-01 00:00:00'), Timestamp('2022-01-01 00:00:00')).\n",
      "  warnings.warn(f'{key}: cannot fetch chunk for variable '\n",
      "/cmsaf/cmsaf-ops3/stkothe/KE/ect/lib/python3.12/site-packages/xcube_cci/chunkstore.py:975: UserWarning: PFR/0.5.1: cannot fetch chunk for variable 'PFR' and time_range (Timestamp('2021-01-01 00:00:00'), Timestamp('2022-01-01 00:00:00')).\n",
      "  warnings.warn(f'{key}: cannot fetch chunk for variable '\n",
      "/cmsaf/cmsaf-ops3/stkothe/KE/ect/lib/python3.12/site-packages/xcube_cci/chunkstore.py:975: UserWarning: PFR/0.5.0: cannot fetch chunk for variable 'PFR' and time_range (Timestamp('2021-01-01 00:00:00'), Timestamp('2022-01-01 00:00:00')).\n",
      "  warnings.warn(f'{key}: cannot fetch chunk for variable '\n",
      "/cmsaf/cmsaf-ops3/stkothe/KE/ect/lib/python3.12/site-packages/xcube_cci/chunkstore.py:975: UserWarning: PFR/0.4.9: cannot fetch chunk for variable 'PFR' and time_range (Timestamp('2021-01-01 00:00:00'), Timestamp('2022-01-01 00:00:00')).\n",
      "  warnings.warn(f'{key}: cannot fetch chunk for variable '\n",
      "/cmsaf/cmsaf-ops3/stkothe/KE/ect/lib/python3.12/site-packages/xcube_cci/chunkstore.py:975: UserWarning: PFR/0.4.6: cannot fetch chunk for variable 'PFR' and time_range (Timestamp('2021-01-01 00:00:00'), Timestamp('2022-01-01 00:00:00')).\n",
      "  warnings.warn(f'{key}: cannot fetch chunk for variable '\n",
      "/cmsaf/cmsaf-ops3/stkothe/KE/ect/lib/python3.12/site-packages/xcube_cci/chunkstore.py:975: UserWarning: PFR/0.4.7: cannot fetch chunk for variable 'PFR' and time_range (Timestamp('2021-01-01 00:00:00'), Timestamp('2022-01-01 00:00:00')).\n",
      "  warnings.warn(f'{key}: cannot fetch chunk for variable '\n",
      "/cmsaf/cmsaf-ops3/stkothe/KE/ect/lib/python3.12/site-packages/xcube_cci/chunkstore.py:975: UserWarning: PFR/0.4.5: cannot fetch chunk for variable 'PFR' and time_range (Timestamp('2021-01-01 00:00:00'), Timestamp('2022-01-01 00:00:00')).\n",
      "  warnings.warn(f'{key}: cannot fetch chunk for variable '\n",
      "/cmsaf/cmsaf-ops3/stkothe/KE/ect/lib/python3.12/site-packages/xcube_cci/chunkstore.py:975: UserWarning: PFR/0.4.4: cannot fetch chunk for variable 'PFR' and time_range (Timestamp('2021-01-01 00:00:00'), Timestamp('2022-01-01 00:00:00')).\n",
      "  warnings.warn(f'{key}: cannot fetch chunk for variable '\n",
      "/cmsaf/cmsaf-ops3/stkothe/KE/ect/lib/python3.12/site-packages/xcube_cci/chunkstore.py:975: UserWarning: PFR/0.4.8: cannot fetch chunk for variable 'PFR' and time_range (Timestamp('2021-01-01 00:00:00'), Timestamp('2022-01-01 00:00:00')).\n",
      "  warnings.warn(f'{key}: cannot fetch chunk for variable '\n",
      "/cmsaf/cmsaf-ops3/stkothe/KE/ect/lib/python3.12/site-packages/xcube_cci/chunkstore.py:975: UserWarning: PFR/0.4.35: cannot fetch chunk for variable 'PFR' and time_range (Timestamp('2021-01-01 00:00:00'), Timestamp('2022-01-01 00:00:00')).\n",
      "  warnings.warn(f'{key}: cannot fetch chunk for variable '\n",
      "/cmsaf/cmsaf-ops3/stkothe/KE/ect/lib/python3.12/site-packages/xcube_cci/chunkstore.py:975: UserWarning: PFR/0.4.33: cannot fetch chunk for variable 'PFR' and time_range (Timestamp('2021-01-01 00:00:00'), Timestamp('2022-01-01 00:00:00')).\n",
      "  warnings.warn(f'{key}: cannot fetch chunk for variable '\n",
      "/cmsaf/cmsaf-ops3/stkothe/KE/ect/lib/python3.12/site-packages/xcube_cci/chunkstore.py:975: UserWarning: PFR/0.4.34: cannot fetch chunk for variable 'PFR' and time_range (Timestamp('2021-01-01 00:00:00'), Timestamp('2022-01-01 00:00:00')).\n",
      "  warnings.warn(f'{key}: cannot fetch chunk for variable '\n",
      "/cmsaf/cmsaf-ops3/stkothe/KE/ect/lib/python3.12/site-packages/xcube_cci/chunkstore.py:975: UserWarning: PFR/0.4.32: cannot fetch chunk for variable 'PFR' and time_range (Timestamp('2021-01-01 00:00:00'), Timestamp('2022-01-01 00:00:00')).\n",
      "  warnings.warn(f'{key}: cannot fetch chunk for variable '\n",
      "/cmsaf/cmsaf-ops3/stkothe/KE/ect/lib/python3.12/site-packages/xcube_cci/chunkstore.py:975: UserWarning: PFR/0.4.31: cannot fetch chunk for variable 'PFR' and time_range (Timestamp('2021-01-01 00:00:00'), Timestamp('2022-01-01 00:00:00')).\n",
      "  warnings.warn(f'{key}: cannot fetch chunk for variable '\n",
      "/cmsaf/cmsaf-ops3/stkothe/KE/ect/lib/python3.12/site-packages/xcube_cci/chunkstore.py:975: UserWarning: PFR/0.4.30: cannot fetch chunk for variable 'PFR' and time_range (Timestamp('2021-01-01 00:00:00'), Timestamp('2022-01-01 00:00:00')).\n",
      "  warnings.warn(f'{key}: cannot fetch chunk for variable '\n",
      "/cmsaf/cmsaf-ops3/stkothe/KE/ect/lib/python3.12/site-packages/xcube_cci/chunkstore.py:975: UserWarning: PFR/0.4.3: cannot fetch chunk for variable 'PFR' and time_range (Timestamp('2021-01-01 00:00:00'), Timestamp('2022-01-01 00:00:00')).\n",
      "  warnings.warn(f'{key}: cannot fetch chunk for variable '\n",
      "/cmsaf/cmsaf-ops3/stkothe/KE/ect/lib/python3.12/site-packages/xcube_cci/chunkstore.py:975: UserWarning: PFR/0.4.27: cannot fetch chunk for variable 'PFR' and time_range (Timestamp('2021-01-01 00:00:00'), Timestamp('2022-01-01 00:00:00')).\n",
      "  warnings.warn(f'{key}: cannot fetch chunk for variable '\n",
      "/cmsaf/cmsaf-ops3/stkothe/KE/ect/lib/python3.12/site-packages/xcube_cci/chunkstore.py:975: UserWarning: PFR/0.4.28: cannot fetch chunk for variable 'PFR' and time_range (Timestamp('2021-01-01 00:00:00'), Timestamp('2022-01-01 00:00:00')).\n",
      "  warnings.warn(f'{key}: cannot fetch chunk for variable '\n",
      "/cmsaf/cmsaf-ops3/stkothe/KE/ect/lib/python3.12/site-packages/xcube_cci/chunkstore.py:975: UserWarning: PFR/0.4.29: cannot fetch chunk for variable 'PFR' and time_range (Timestamp('2021-01-01 00:00:00'), Timestamp('2022-01-01 00:00:00')).\n",
      "  warnings.warn(f'{key}: cannot fetch chunk for variable '\n",
      "/cmsaf/cmsaf-ops3/stkothe/KE/ect/lib/python3.12/site-packages/xcube_cci/chunkstore.py:975: UserWarning: PFR/0.4.26: cannot fetch chunk for variable 'PFR' and time_range (Timestamp('2021-01-01 00:00:00'), Timestamp('2022-01-01 00:00:00')).\n",
      "  warnings.warn(f'{key}: cannot fetch chunk for variable '\n",
      "/cmsaf/cmsaf-ops3/stkothe/KE/ect/lib/python3.12/site-packages/xcube_cci/chunkstore.py:975: UserWarning: PFR/0.4.25: cannot fetch chunk for variable 'PFR' and time_range (Timestamp('2021-01-01 00:00:00'), Timestamp('2022-01-01 00:00:00')).\n",
      "  warnings.warn(f'{key}: cannot fetch chunk for variable '\n",
      "/cmsaf/cmsaf-ops3/stkothe/KE/ect/lib/python3.12/site-packages/xcube_cci/chunkstore.py:975: UserWarning: PFR/0.4.24: cannot fetch chunk for variable 'PFR' and time_range (Timestamp('2021-01-01 00:00:00'), Timestamp('2022-01-01 00:00:00')).\n",
      "  warnings.warn(f'{key}: cannot fetch chunk for variable '\n",
      "/cmsaf/cmsaf-ops3/stkothe/KE/ect/lib/python3.12/site-packages/xcube_cci/chunkstore.py:975: UserWarning: PFR/0.4.23: cannot fetch chunk for variable 'PFR' and time_range (Timestamp('2021-01-01 00:00:00'), Timestamp('2022-01-01 00:00:00')).\n",
      "  warnings.warn(f'{key}: cannot fetch chunk for variable '\n",
      "/cmsaf/cmsaf-ops3/stkothe/KE/ect/lib/python3.12/site-packages/xcube_cci/chunkstore.py:975: UserWarning: PFR/0.4.22: cannot fetch chunk for variable 'PFR' and time_range (Timestamp('2021-01-01 00:00:00'), Timestamp('2022-01-01 00:00:00')).\n",
      "  warnings.warn(f'{key}: cannot fetch chunk for variable '\n",
      "/cmsaf/cmsaf-ops3/stkothe/KE/ect/lib/python3.12/site-packages/xcube_cci/chunkstore.py:975: UserWarning: PFR/0.4.21: cannot fetch chunk for variable 'PFR' and time_range (Timestamp('2021-01-01 00:00:00'), Timestamp('2022-01-01 00:00:00')).\n",
      "  warnings.warn(f'{key}: cannot fetch chunk for variable '\n",
      "/cmsaf/cmsaf-ops3/stkothe/KE/ect/lib/python3.12/site-packages/xcube_cci/chunkstore.py:975: UserWarning: PFR/0.4.20: cannot fetch chunk for variable 'PFR' and time_range (Timestamp('2021-01-01 00:00:00'), Timestamp('2022-01-01 00:00:00')).\n",
      "  warnings.warn(f'{key}: cannot fetch chunk for variable '\n",
      "/cmsaf/cmsaf-ops3/stkothe/KE/ect/lib/python3.12/site-packages/xcube_cci/chunkstore.py:975: UserWarning: PFR/0.4.2: cannot fetch chunk for variable 'PFR' and time_range (Timestamp('2021-01-01 00:00:00'), Timestamp('2022-01-01 00:00:00')).\n",
      "  warnings.warn(f'{key}: cannot fetch chunk for variable '\n",
      "/cmsaf/cmsaf-ops3/stkothe/KE/ect/lib/python3.12/site-packages/xcube_cci/chunkstore.py:975: UserWarning: PFR/0.4.19: cannot fetch chunk for variable 'PFR' and time_range (Timestamp('2021-01-01 00:00:00'), Timestamp('2022-01-01 00:00:00')).\n",
      "  warnings.warn(f'{key}: cannot fetch chunk for variable '\n",
      "/cmsaf/cmsaf-ops3/stkothe/KE/ect/lib/python3.12/site-packages/xcube_cci/chunkstore.py:975: UserWarning: PFR/0.4.17: cannot fetch chunk for variable 'PFR' and time_range (Timestamp('2021-01-01 00:00:00'), Timestamp('2022-01-01 00:00:00')).\n",
      "  warnings.warn(f'{key}: cannot fetch chunk for variable '\n",
      "/cmsaf/cmsaf-ops3/stkothe/KE/ect/lib/python3.12/site-packages/xcube_cci/chunkstore.py:975: UserWarning: PFR/0.4.16: cannot fetch chunk for variable 'PFR' and time_range (Timestamp('2021-01-01 00:00:00'), Timestamp('2022-01-01 00:00:00')).\n",
      "  warnings.warn(f'{key}: cannot fetch chunk for variable '\n",
      "/cmsaf/cmsaf-ops3/stkothe/KE/ect/lib/python3.12/site-packages/xcube_cci/chunkstore.py:975: UserWarning: PFR/0.4.18: cannot fetch chunk for variable 'PFR' and time_range (Timestamp('2021-01-01 00:00:00'), Timestamp('2022-01-01 00:00:00')).\n",
      "  warnings.warn(f'{key}: cannot fetch chunk for variable '\n",
      "/cmsaf/cmsaf-ops3/stkothe/KE/ect/lib/python3.12/site-packages/xcube_cci/chunkstore.py:975: UserWarning: PFR/0.4.15: cannot fetch chunk for variable 'PFR' and time_range (Timestamp('2021-01-01 00:00:00'), Timestamp('2022-01-01 00:00:00')).\n",
      "  warnings.warn(f'{key}: cannot fetch chunk for variable '\n",
      "/cmsaf/cmsaf-ops3/stkothe/KE/ect/lib/python3.12/site-packages/xcube_cci/chunkstore.py:975: UserWarning: PFR/0.4.14: cannot fetch chunk for variable 'PFR' and time_range (Timestamp('2021-01-01 00:00:00'), Timestamp('2022-01-01 00:00:00')).\n",
      "  warnings.warn(f'{key}: cannot fetch chunk for variable '\n",
      "/cmsaf/cmsaf-ops3/stkothe/KE/ect/lib/python3.12/site-packages/xcube_cci/chunkstore.py:975: UserWarning: PFR/0.4.13: cannot fetch chunk for variable 'PFR' and time_range (Timestamp('2021-01-01 00:00:00'), Timestamp('2022-01-01 00:00:00')).\n",
      "  warnings.warn(f'{key}: cannot fetch chunk for variable '\n",
      "/cmsaf/cmsaf-ops3/stkothe/KE/ect/lib/python3.12/site-packages/xcube_cci/chunkstore.py:975: UserWarning: PFR/0.4.12: cannot fetch chunk for variable 'PFR' and time_range (Timestamp('2021-01-01 00:00:00'), Timestamp('2022-01-01 00:00:00')).\n",
      "  warnings.warn(f'{key}: cannot fetch chunk for variable '\n",
      "/cmsaf/cmsaf-ops3/stkothe/KE/ect/lib/python3.12/site-packages/xcube_cci/chunkstore.py:975: UserWarning: PFR/0.4.10: cannot fetch chunk for variable 'PFR' and time_range (Timestamp('2021-01-01 00:00:00'), Timestamp('2022-01-01 00:00:00')).\n",
      "  warnings.warn(f'{key}: cannot fetch chunk for variable '\n",
      "/cmsaf/cmsaf-ops3/stkothe/KE/ect/lib/python3.12/site-packages/xcube_cci/chunkstore.py:975: UserWarning: PFR/0.4.11: cannot fetch chunk for variable 'PFR' and time_range (Timestamp('2021-01-01 00:00:00'), Timestamp('2022-01-01 00:00:00')).\n",
      "  warnings.warn(f'{key}: cannot fetch chunk for variable '\n",
      "/cmsaf/cmsaf-ops3/stkothe/KE/ect/lib/python3.12/site-packages/xcube_cci/chunkstore.py:975: UserWarning: PFR/0.4.1: cannot fetch chunk for variable 'PFR' and time_range (Timestamp('2021-01-01 00:00:00'), Timestamp('2022-01-01 00:00:00')).\n",
      "  warnings.warn(f'{key}: cannot fetch chunk for variable '\n",
      "/cmsaf/cmsaf-ops3/stkothe/KE/ect/lib/python3.12/site-packages/xcube_cci/chunkstore.py:975: UserWarning: PFR/0.4.0: cannot fetch chunk for variable 'PFR' and time_range (Timestamp('2021-01-01 00:00:00'), Timestamp('2022-01-01 00:00:00')).\n",
      "  warnings.warn(f'{key}: cannot fetch chunk for variable '\n",
      "/cmsaf/cmsaf-ops3/stkothe/KE/ect/lib/python3.12/site-packages/xcube_cci/chunkstore.py:975: UserWarning: PFR/0.3.9: cannot fetch chunk for variable 'PFR' and time_range (Timestamp('2021-01-01 00:00:00'), Timestamp('2022-01-01 00:00:00')).\n",
      "  warnings.warn(f'{key}: cannot fetch chunk for variable '\n",
      "/cmsaf/cmsaf-ops3/stkothe/KE/ect/lib/python3.12/site-packages/xcube_cci/chunkstore.py:975: UserWarning: PFR/0.3.8: cannot fetch chunk for variable 'PFR' and time_range (Timestamp('2021-01-01 00:00:00'), Timestamp('2022-01-01 00:00:00')).\n",
      "  warnings.warn(f'{key}: cannot fetch chunk for variable '\n",
      "/cmsaf/cmsaf-ops3/stkothe/KE/ect/lib/python3.12/site-packages/xcube_cci/chunkstore.py:975: UserWarning: PFR/0.3.7: cannot fetch chunk for variable 'PFR' and time_range (Timestamp('2021-01-01 00:00:00'), Timestamp('2022-01-01 00:00:00')).\n",
      "  warnings.warn(f'{key}: cannot fetch chunk for variable '\n",
      "/cmsaf/cmsaf-ops3/stkothe/KE/ect/lib/python3.12/site-packages/xcube_cci/chunkstore.py:975: UserWarning: PFR/0.3.6: cannot fetch chunk for variable 'PFR' and time_range (Timestamp('2021-01-01 00:00:00'), Timestamp('2022-01-01 00:00:00')).\n",
      "  warnings.warn(f'{key}: cannot fetch chunk for variable '\n",
      "/cmsaf/cmsaf-ops3/stkothe/KE/ect/lib/python3.12/site-packages/xcube_cci/chunkstore.py:975: UserWarning: PFR/0.3.5: cannot fetch chunk for variable 'PFR' and time_range (Timestamp('2021-01-01 00:00:00'), Timestamp('2022-01-01 00:00:00')).\n",
      "  warnings.warn(f'{key}: cannot fetch chunk for variable '\n",
      "/cmsaf/cmsaf-ops3/stkothe/KE/ect/lib/python3.12/site-packages/xcube_cci/chunkstore.py:975: UserWarning: PFR/0.3.4: cannot fetch chunk for variable 'PFR' and time_range (Timestamp('2021-01-01 00:00:00'), Timestamp('2022-01-01 00:00:00')).\n",
      "  warnings.warn(f'{key}: cannot fetch chunk for variable '\n",
      "/cmsaf/cmsaf-ops3/stkothe/KE/ect/lib/python3.12/site-packages/xcube_cci/chunkstore.py:975: UserWarning: PFR/0.3.35: cannot fetch chunk for variable 'PFR' and time_range (Timestamp('2021-01-01 00:00:00'), Timestamp('2022-01-01 00:00:00')).\n",
      "  warnings.warn(f'{key}: cannot fetch chunk for variable '\n",
      "/cmsaf/cmsaf-ops3/stkothe/KE/ect/lib/python3.12/site-packages/xcube_cci/chunkstore.py:975: UserWarning: PFR/0.3.34: cannot fetch chunk for variable 'PFR' and time_range (Timestamp('2021-01-01 00:00:00'), Timestamp('2022-01-01 00:00:00')).\n",
      "  warnings.warn(f'{key}: cannot fetch chunk for variable '\n",
      "/cmsaf/cmsaf-ops3/stkothe/KE/ect/lib/python3.12/site-packages/xcube_cci/chunkstore.py:975: UserWarning: PFR/0.3.33: cannot fetch chunk for variable 'PFR' and time_range (Timestamp('2021-01-01 00:00:00'), Timestamp('2022-01-01 00:00:00')).\n",
      "  warnings.warn(f'{key}: cannot fetch chunk for variable '\n",
      "/cmsaf/cmsaf-ops3/stkothe/KE/ect/lib/python3.12/site-packages/xcube_cci/chunkstore.py:975: UserWarning: PFR/0.3.32: cannot fetch chunk for variable 'PFR' and time_range (Timestamp('2021-01-01 00:00:00'), Timestamp('2022-01-01 00:00:00')).\n",
      "  warnings.warn(f'{key}: cannot fetch chunk for variable '\n",
      "/cmsaf/cmsaf-ops3/stkothe/KE/ect/lib/python3.12/site-packages/xcube_cci/chunkstore.py:975: UserWarning: PFR/0.3.31: cannot fetch chunk for variable 'PFR' and time_range (Timestamp('2021-01-01 00:00:00'), Timestamp('2022-01-01 00:00:00')).\n",
      "  warnings.warn(f'{key}: cannot fetch chunk for variable '\n",
      "/cmsaf/cmsaf-ops3/stkothe/KE/ect/lib/python3.12/site-packages/xcube_cci/chunkstore.py:975: UserWarning: PFR/0.3.30: cannot fetch chunk for variable 'PFR' and time_range (Timestamp('2021-01-01 00:00:00'), Timestamp('2022-01-01 00:00:00')).\n",
      "  warnings.warn(f'{key}: cannot fetch chunk for variable '\n",
      "/cmsaf/cmsaf-ops3/stkothe/KE/ect/lib/python3.12/site-packages/xcube_cci/chunkstore.py:975: UserWarning: PFR/0.3.3: cannot fetch chunk for variable 'PFR' and time_range (Timestamp('2021-01-01 00:00:00'), Timestamp('2022-01-01 00:00:00')).\n",
      "  warnings.warn(f'{key}: cannot fetch chunk for variable '\n",
      "/cmsaf/cmsaf-ops3/stkothe/KE/ect/lib/python3.12/site-packages/xcube_cci/chunkstore.py:975: UserWarning: PFR/0.3.29: cannot fetch chunk for variable 'PFR' and time_range (Timestamp('2021-01-01 00:00:00'), Timestamp('2022-01-01 00:00:00')).\n",
      "  warnings.warn(f'{key}: cannot fetch chunk for variable '\n",
      "/cmsaf/cmsaf-ops3/stkothe/KE/ect/lib/python3.12/site-packages/xcube_cci/chunkstore.py:975: UserWarning: PFR/0.3.27: cannot fetch chunk for variable 'PFR' and time_range (Timestamp('2021-01-01 00:00:00'), Timestamp('2022-01-01 00:00:00')).\n",
      "  warnings.warn(f'{key}: cannot fetch chunk for variable '\n",
      "/cmsaf/cmsaf-ops3/stkothe/KE/ect/lib/python3.12/site-packages/xcube_cci/chunkstore.py:975: UserWarning: PFR/0.3.28: cannot fetch chunk for variable 'PFR' and time_range (Timestamp('2021-01-01 00:00:00'), Timestamp('2022-01-01 00:00:00')).\n",
      "  warnings.warn(f'{key}: cannot fetch chunk for variable '\n",
      "/cmsaf/cmsaf-ops3/stkothe/KE/ect/lib/python3.12/site-packages/xcube_cci/chunkstore.py:975: UserWarning: PFR/0.3.26: cannot fetch chunk for variable 'PFR' and time_range (Timestamp('2021-01-01 00:00:00'), Timestamp('2022-01-01 00:00:00')).\n",
      "  warnings.warn(f'{key}: cannot fetch chunk for variable '\n",
      "/cmsaf/cmsaf-ops3/stkothe/KE/ect/lib/python3.12/site-packages/xcube_cci/chunkstore.py:975: UserWarning: PFR/0.3.25: cannot fetch chunk for variable 'PFR' and time_range (Timestamp('2021-01-01 00:00:00'), Timestamp('2022-01-01 00:00:00')).\n",
      "  warnings.warn(f'{key}: cannot fetch chunk for variable '\n",
      "/cmsaf/cmsaf-ops3/stkothe/KE/ect/lib/python3.12/site-packages/xcube_cci/chunkstore.py:975: UserWarning: PFR/0.3.24: cannot fetch chunk for variable 'PFR' and time_range (Timestamp('2021-01-01 00:00:00'), Timestamp('2022-01-01 00:00:00')).\n",
      "  warnings.warn(f'{key}: cannot fetch chunk for variable '\n",
      "/cmsaf/cmsaf-ops3/stkothe/KE/ect/lib/python3.12/site-packages/xcube_cci/chunkstore.py:975: UserWarning: PFR/0.3.23: cannot fetch chunk for variable 'PFR' and time_range (Timestamp('2021-01-01 00:00:00'), Timestamp('2022-01-01 00:00:00')).\n",
      "  warnings.warn(f'{key}: cannot fetch chunk for variable '\n",
      "/cmsaf/cmsaf-ops3/stkothe/KE/ect/lib/python3.12/site-packages/xcube_cci/chunkstore.py:975: UserWarning: PFR/0.3.21: cannot fetch chunk for variable 'PFR' and time_range (Timestamp('2021-01-01 00:00:00'), Timestamp('2022-01-01 00:00:00')).\n",
      "  warnings.warn(f'{key}: cannot fetch chunk for variable '\n",
      "/cmsaf/cmsaf-ops3/stkothe/KE/ect/lib/python3.12/site-packages/xcube_cci/chunkstore.py:975: UserWarning: PFR/0.3.22: cannot fetch chunk for variable 'PFR' and time_range (Timestamp('2021-01-01 00:00:00'), Timestamp('2022-01-01 00:00:00')).\n",
      "  warnings.warn(f'{key}: cannot fetch chunk for variable '\n",
      "/cmsaf/cmsaf-ops3/stkothe/KE/ect/lib/python3.12/site-packages/xcube_cci/chunkstore.py:975: UserWarning: PFR/0.3.20: cannot fetch chunk for variable 'PFR' and time_range (Timestamp('2021-01-01 00:00:00'), Timestamp('2022-01-01 00:00:00')).\n",
      "  warnings.warn(f'{key}: cannot fetch chunk for variable '\n",
      "/cmsaf/cmsaf-ops3/stkothe/KE/ect/lib/python3.12/site-packages/xcube_cci/chunkstore.py:975: UserWarning: PFR/0.3.2: cannot fetch chunk for variable 'PFR' and time_range (Timestamp('2021-01-01 00:00:00'), Timestamp('2022-01-01 00:00:00')).\n",
      "  warnings.warn(f'{key}: cannot fetch chunk for variable '\n",
      "/cmsaf/cmsaf-ops3/stkothe/KE/ect/lib/python3.12/site-packages/xcube_cci/chunkstore.py:975: UserWarning: PFR/0.3.19: cannot fetch chunk for variable 'PFR' and time_range (Timestamp('2021-01-01 00:00:00'), Timestamp('2022-01-01 00:00:00')).\n",
      "  warnings.warn(f'{key}: cannot fetch chunk for variable '\n",
      "/cmsaf/cmsaf-ops3/stkothe/KE/ect/lib/python3.12/site-packages/xcube_cci/chunkstore.py:975: UserWarning: PFR/0.3.17: cannot fetch chunk for variable 'PFR' and time_range (Timestamp('2021-01-01 00:00:00'), Timestamp('2022-01-01 00:00:00')).\n",
      "  warnings.warn(f'{key}: cannot fetch chunk for variable '\n",
      "/cmsaf/cmsaf-ops3/stkothe/KE/ect/lib/python3.12/site-packages/xcube_cci/chunkstore.py:975: UserWarning: PFR/0.3.18: cannot fetch chunk for variable 'PFR' and time_range (Timestamp('2021-01-01 00:00:00'), Timestamp('2022-01-01 00:00:00')).\n",
      "  warnings.warn(f'{key}: cannot fetch chunk for variable '\n",
      "/cmsaf/cmsaf-ops3/stkothe/KE/ect/lib/python3.12/site-packages/xcube_cci/chunkstore.py:975: UserWarning: PFR/0.3.16: cannot fetch chunk for variable 'PFR' and time_range (Timestamp('2021-01-01 00:00:00'), Timestamp('2022-01-01 00:00:00')).\n",
      "  warnings.warn(f'{key}: cannot fetch chunk for variable '\n",
      "/cmsaf/cmsaf-ops3/stkothe/KE/ect/lib/python3.12/site-packages/xcube_cci/chunkstore.py:975: UserWarning: PFR/0.3.15: cannot fetch chunk for variable 'PFR' and time_range (Timestamp('2021-01-01 00:00:00'), Timestamp('2022-01-01 00:00:00')).\n",
      "  warnings.warn(f'{key}: cannot fetch chunk for variable '\n",
      "/cmsaf/cmsaf-ops3/stkothe/KE/ect/lib/python3.12/site-packages/xcube_cci/chunkstore.py:975: UserWarning: PFR/0.3.14: cannot fetch chunk for variable 'PFR' and time_range (Timestamp('2021-01-01 00:00:00'), Timestamp('2022-01-01 00:00:00')).\n",
      "  warnings.warn(f'{key}: cannot fetch chunk for variable '\n",
      "/cmsaf/cmsaf-ops3/stkothe/KE/ect/lib/python3.12/site-packages/xcube_cci/chunkstore.py:975: UserWarning: PFR/0.3.13: cannot fetch chunk for variable 'PFR' and time_range (Timestamp('2021-01-01 00:00:00'), Timestamp('2022-01-01 00:00:00')).\n",
      "  warnings.warn(f'{key}: cannot fetch chunk for variable '\n",
      "/cmsaf/cmsaf-ops3/stkothe/KE/ect/lib/python3.12/site-packages/xcube_cci/chunkstore.py:975: UserWarning: PFR/0.3.12: cannot fetch chunk for variable 'PFR' and time_range (Timestamp('2021-01-01 00:00:00'), Timestamp('2022-01-01 00:00:00')).\n",
      "  warnings.warn(f'{key}: cannot fetch chunk for variable '\n",
      "/cmsaf/cmsaf-ops3/stkothe/KE/ect/lib/python3.12/site-packages/xcube_cci/chunkstore.py:975: UserWarning: PFR/0.3.11: cannot fetch chunk for variable 'PFR' and time_range (Timestamp('2021-01-01 00:00:00'), Timestamp('2022-01-01 00:00:00')).\n",
      "  warnings.warn(f'{key}: cannot fetch chunk for variable '\n",
      "/cmsaf/cmsaf-ops3/stkothe/KE/ect/lib/python3.12/site-packages/xcube_cci/chunkstore.py:975: UserWarning: PFR/0.3.10: cannot fetch chunk for variable 'PFR' and time_range (Timestamp('2021-01-01 00:00:00'), Timestamp('2022-01-01 00:00:00')).\n",
      "  warnings.warn(f'{key}: cannot fetch chunk for variable '\n",
      "/cmsaf/cmsaf-ops3/stkothe/KE/ect/lib/python3.12/site-packages/xcube_cci/chunkstore.py:975: UserWarning: PFR/0.3.1: cannot fetch chunk for variable 'PFR' and time_range (Timestamp('2021-01-01 00:00:00'), Timestamp('2022-01-01 00:00:00')).\n",
      "  warnings.warn(f'{key}: cannot fetch chunk for variable '\n",
      "/cmsaf/cmsaf-ops3/stkothe/KE/ect/lib/python3.12/site-packages/xcube_cci/chunkstore.py:975: UserWarning: PFR/0.3.0: cannot fetch chunk for variable 'PFR' and time_range (Timestamp('2021-01-01 00:00:00'), Timestamp('2022-01-01 00:00:00')).\n",
      "  warnings.warn(f'{key}: cannot fetch chunk for variable '\n",
      "/cmsaf/cmsaf-ops3/stkothe/KE/ect/lib/python3.12/site-packages/xcube_cci/chunkstore.py:975: UserWarning: PFR/0.2.9: cannot fetch chunk for variable 'PFR' and time_range (Timestamp('2021-01-01 00:00:00'), Timestamp('2022-01-01 00:00:00')).\n",
      "  warnings.warn(f'{key}: cannot fetch chunk for variable '\n",
      "/cmsaf/cmsaf-ops3/stkothe/KE/ect/lib/python3.12/site-packages/xcube_cci/chunkstore.py:975: UserWarning: PFR/0.2.8: cannot fetch chunk for variable 'PFR' and time_range (Timestamp('2021-01-01 00:00:00'), Timestamp('2022-01-01 00:00:00')).\n",
      "  warnings.warn(f'{key}: cannot fetch chunk for variable '\n",
      "/cmsaf/cmsaf-ops3/stkothe/KE/ect/lib/python3.12/site-packages/xcube_cci/chunkstore.py:975: UserWarning: PFR/0.2.7: cannot fetch chunk for variable 'PFR' and time_range (Timestamp('2021-01-01 00:00:00'), Timestamp('2022-01-01 00:00:00')).\n",
      "  warnings.warn(f'{key}: cannot fetch chunk for variable '\n",
      "/cmsaf/cmsaf-ops3/stkothe/KE/ect/lib/python3.12/site-packages/xcube_cci/chunkstore.py:975: UserWarning: PFR/0.2.6: cannot fetch chunk for variable 'PFR' and time_range (Timestamp('2021-01-01 00:00:00'), Timestamp('2022-01-01 00:00:00')).\n",
      "  warnings.warn(f'{key}: cannot fetch chunk for variable '\n",
      "/cmsaf/cmsaf-ops3/stkothe/KE/ect/lib/python3.12/site-packages/xcube_cci/chunkstore.py:975: UserWarning: PFR/0.2.5: cannot fetch chunk for variable 'PFR' and time_range (Timestamp('2021-01-01 00:00:00'), Timestamp('2022-01-01 00:00:00')).\n",
      "  warnings.warn(f'{key}: cannot fetch chunk for variable '\n",
      "/cmsaf/cmsaf-ops3/stkothe/KE/ect/lib/python3.12/site-packages/xcube_cci/chunkstore.py:975: UserWarning: PFR/0.2.4: cannot fetch chunk for variable 'PFR' and time_range (Timestamp('2021-01-01 00:00:00'), Timestamp('2022-01-01 00:00:00')).\n",
      "  warnings.warn(f'{key}: cannot fetch chunk for variable '\n",
      "/cmsaf/cmsaf-ops3/stkothe/KE/ect/lib/python3.12/site-packages/xcube_cci/chunkstore.py:975: UserWarning: PFR/0.2.35: cannot fetch chunk for variable 'PFR' and time_range (Timestamp('2021-01-01 00:00:00'), Timestamp('2022-01-01 00:00:00')).\n",
      "  warnings.warn(f'{key}: cannot fetch chunk for variable '\n",
      "/cmsaf/cmsaf-ops3/stkothe/KE/ect/lib/python3.12/site-packages/xcube_cci/chunkstore.py:975: UserWarning: PFR/0.2.34: cannot fetch chunk for variable 'PFR' and time_range (Timestamp('2021-01-01 00:00:00'), Timestamp('2022-01-01 00:00:00')).\n",
      "  warnings.warn(f'{key}: cannot fetch chunk for variable '\n",
      "/cmsaf/cmsaf-ops3/stkothe/KE/ect/lib/python3.12/site-packages/xcube_cci/chunkstore.py:975: UserWarning: PFR/0.2.32: cannot fetch chunk for variable 'PFR' and time_range (Timestamp('2021-01-01 00:00:00'), Timestamp('2022-01-01 00:00:00')).\n",
      "  warnings.warn(f'{key}: cannot fetch chunk for variable '\n",
      "/cmsaf/cmsaf-ops3/stkothe/KE/ect/lib/python3.12/site-packages/xcube_cci/chunkstore.py:975: UserWarning: PFR/0.2.33: cannot fetch chunk for variable 'PFR' and time_range (Timestamp('2021-01-01 00:00:00'), Timestamp('2022-01-01 00:00:00')).\n",
      "  warnings.warn(f'{key}: cannot fetch chunk for variable '\n",
      "/cmsaf/cmsaf-ops3/stkothe/KE/ect/lib/python3.12/site-packages/xcube_cci/chunkstore.py:975: UserWarning: PFR/0.2.31: cannot fetch chunk for variable 'PFR' and time_range (Timestamp('2021-01-01 00:00:00'), Timestamp('2022-01-01 00:00:00')).\n",
      "  warnings.warn(f'{key}: cannot fetch chunk for variable '\n",
      "/cmsaf/cmsaf-ops3/stkothe/KE/ect/lib/python3.12/site-packages/xcube_cci/chunkstore.py:975: UserWarning: PFR/0.2.30: cannot fetch chunk for variable 'PFR' and time_range (Timestamp('2021-01-01 00:00:00'), Timestamp('2022-01-01 00:00:00')).\n",
      "  warnings.warn(f'{key}: cannot fetch chunk for variable '\n",
      "/cmsaf/cmsaf-ops3/stkothe/KE/ect/lib/python3.12/site-packages/xcube_cci/chunkstore.py:975: UserWarning: PFR/0.2.3: cannot fetch chunk for variable 'PFR' and time_range (Timestamp('2021-01-01 00:00:00'), Timestamp('2022-01-01 00:00:00')).\n",
      "  warnings.warn(f'{key}: cannot fetch chunk for variable '\n",
      "/cmsaf/cmsaf-ops3/stkothe/KE/ect/lib/python3.12/site-packages/xcube_cci/chunkstore.py:975: UserWarning: PFR/0.2.29: cannot fetch chunk for variable 'PFR' and time_range (Timestamp('2021-01-01 00:00:00'), Timestamp('2022-01-01 00:00:00')).\n",
      "  warnings.warn(f'{key}: cannot fetch chunk for variable '\n",
      "/cmsaf/cmsaf-ops3/stkothe/KE/ect/lib/python3.12/site-packages/xcube_cci/chunkstore.py:975: UserWarning: PFR/0.2.27: cannot fetch chunk for variable 'PFR' and time_range (Timestamp('2021-01-01 00:00:00'), Timestamp('2022-01-01 00:00:00')).\n",
      "  warnings.warn(f'{key}: cannot fetch chunk for variable '\n",
      "/cmsaf/cmsaf-ops3/stkothe/KE/ect/lib/python3.12/site-packages/xcube_cci/chunkstore.py:975: UserWarning: PFR/0.2.28: cannot fetch chunk for variable 'PFR' and time_range (Timestamp('2021-01-01 00:00:00'), Timestamp('2022-01-01 00:00:00')).\n",
      "  warnings.warn(f'{key}: cannot fetch chunk for variable '\n",
      "/cmsaf/cmsaf-ops3/stkothe/KE/ect/lib/python3.12/site-packages/xcube_cci/chunkstore.py:975: UserWarning: PFR/0.2.26: cannot fetch chunk for variable 'PFR' and time_range (Timestamp('2021-01-01 00:00:00'), Timestamp('2022-01-01 00:00:00')).\n",
      "  warnings.warn(f'{key}: cannot fetch chunk for variable '\n",
      "/cmsaf/cmsaf-ops3/stkothe/KE/ect/lib/python3.12/site-packages/xcube_cci/chunkstore.py:975: UserWarning: PFR/0.2.25: cannot fetch chunk for variable 'PFR' and time_range (Timestamp('2021-01-01 00:00:00'), Timestamp('2022-01-01 00:00:00')).\n",
      "  warnings.warn(f'{key}: cannot fetch chunk for variable '\n",
      "/cmsaf/cmsaf-ops3/stkothe/KE/ect/lib/python3.12/site-packages/xcube_cci/chunkstore.py:975: UserWarning: PFR/0.2.24: cannot fetch chunk for variable 'PFR' and time_range (Timestamp('2021-01-01 00:00:00'), Timestamp('2022-01-01 00:00:00')).\n",
      "  warnings.warn(f'{key}: cannot fetch chunk for variable '\n",
      "/cmsaf/cmsaf-ops3/stkothe/KE/ect/lib/python3.12/site-packages/xcube_cci/chunkstore.py:975: UserWarning: PFR/0.2.23: cannot fetch chunk for variable 'PFR' and time_range (Timestamp('2021-01-01 00:00:00'), Timestamp('2022-01-01 00:00:00')).\n",
      "  warnings.warn(f'{key}: cannot fetch chunk for variable '\n",
      "/cmsaf/cmsaf-ops3/stkothe/KE/ect/lib/python3.12/site-packages/xcube_cci/chunkstore.py:975: UserWarning: PFR/0.2.22: cannot fetch chunk for variable 'PFR' and time_range (Timestamp('2021-01-01 00:00:00'), Timestamp('2022-01-01 00:00:00')).\n",
      "  warnings.warn(f'{key}: cannot fetch chunk for variable '\n",
      "/cmsaf/cmsaf-ops3/stkothe/KE/ect/lib/python3.12/site-packages/xcube_cci/chunkstore.py:975: UserWarning: PFR/0.2.21: cannot fetch chunk for variable 'PFR' and time_range (Timestamp('2021-01-01 00:00:00'), Timestamp('2022-01-01 00:00:00')).\n",
      "  warnings.warn(f'{key}: cannot fetch chunk for variable '\n",
      "/cmsaf/cmsaf-ops3/stkothe/KE/ect/lib/python3.12/site-packages/xcube_cci/chunkstore.py:975: UserWarning: PFR/0.2.20: cannot fetch chunk for variable 'PFR' and time_range (Timestamp('2021-01-01 00:00:00'), Timestamp('2022-01-01 00:00:00')).\n",
      "  warnings.warn(f'{key}: cannot fetch chunk for variable '\n",
      "/cmsaf/cmsaf-ops3/stkothe/KE/ect/lib/python3.12/site-packages/xcube_cci/chunkstore.py:975: UserWarning: PFR/0.2.2: cannot fetch chunk for variable 'PFR' and time_range (Timestamp('2021-01-01 00:00:00'), Timestamp('2022-01-01 00:00:00')).\n",
      "  warnings.warn(f'{key}: cannot fetch chunk for variable '\n",
      "/cmsaf/cmsaf-ops3/stkothe/KE/ect/lib/python3.12/site-packages/xcube_cci/chunkstore.py:975: UserWarning: PFR/0.2.19: cannot fetch chunk for variable 'PFR' and time_range (Timestamp('2021-01-01 00:00:00'), Timestamp('2022-01-01 00:00:00')).\n",
      "  warnings.warn(f'{key}: cannot fetch chunk for variable '\n",
      "/cmsaf/cmsaf-ops3/stkothe/KE/ect/lib/python3.12/site-packages/xcube_cci/chunkstore.py:975: UserWarning: PFR/0.2.18: cannot fetch chunk for variable 'PFR' and time_range (Timestamp('2021-01-01 00:00:00'), Timestamp('2022-01-01 00:00:00')).\n",
      "  warnings.warn(f'{key}: cannot fetch chunk for variable '\n",
      "/cmsaf/cmsaf-ops3/stkothe/KE/ect/lib/python3.12/site-packages/xcube_cci/chunkstore.py:975: UserWarning: PFR/0.2.17: cannot fetch chunk for variable 'PFR' and time_range (Timestamp('2021-01-01 00:00:00'), Timestamp('2022-01-01 00:00:00')).\n",
      "  warnings.warn(f'{key}: cannot fetch chunk for variable '\n",
      "/cmsaf/cmsaf-ops3/stkothe/KE/ect/lib/python3.12/site-packages/xcube_cci/chunkstore.py:975: UserWarning: PFR/0.2.16: cannot fetch chunk for variable 'PFR' and time_range (Timestamp('2021-01-01 00:00:00'), Timestamp('2022-01-01 00:00:00')).\n",
      "  warnings.warn(f'{key}: cannot fetch chunk for variable '\n",
      "/cmsaf/cmsaf-ops3/stkothe/KE/ect/lib/python3.12/site-packages/xcube_cci/chunkstore.py:975: UserWarning: PFR/0.2.15: cannot fetch chunk for variable 'PFR' and time_range (Timestamp('2021-01-01 00:00:00'), Timestamp('2022-01-01 00:00:00')).\n",
      "  warnings.warn(f'{key}: cannot fetch chunk for variable '\n",
      "/cmsaf/cmsaf-ops3/stkothe/KE/ect/lib/python3.12/site-packages/xcube_cci/chunkstore.py:975: UserWarning: PFR/0.2.14: cannot fetch chunk for variable 'PFR' and time_range (Timestamp('2021-01-01 00:00:00'), Timestamp('2022-01-01 00:00:00')).\n",
      "  warnings.warn(f'{key}: cannot fetch chunk for variable '\n",
      "/cmsaf/cmsaf-ops3/stkothe/KE/ect/lib/python3.12/site-packages/xcube_cci/chunkstore.py:975: UserWarning: PFR/0.2.13: cannot fetch chunk for variable 'PFR' and time_range (Timestamp('2021-01-01 00:00:00'), Timestamp('2022-01-01 00:00:00')).\n",
      "  warnings.warn(f'{key}: cannot fetch chunk for variable '\n",
      "/cmsaf/cmsaf-ops3/stkothe/KE/ect/lib/python3.12/site-packages/xcube_cci/chunkstore.py:975: UserWarning: PFR/0.2.11: cannot fetch chunk for variable 'PFR' and time_range (Timestamp('2021-01-01 00:00:00'), Timestamp('2022-01-01 00:00:00')).\n",
      "  warnings.warn(f'{key}: cannot fetch chunk for variable '\n",
      "/cmsaf/cmsaf-ops3/stkothe/KE/ect/lib/python3.12/site-packages/xcube_cci/chunkstore.py:975: UserWarning: PFR/0.2.12: cannot fetch chunk for variable 'PFR' and time_range (Timestamp('2021-01-01 00:00:00'), Timestamp('2022-01-01 00:00:00')).\n",
      "  warnings.warn(f'{key}: cannot fetch chunk for variable '\n",
      "/cmsaf/cmsaf-ops3/stkothe/KE/ect/lib/python3.12/site-packages/xcube_cci/chunkstore.py:975: UserWarning: PFR/0.2.10: cannot fetch chunk for variable 'PFR' and time_range (Timestamp('2021-01-01 00:00:00'), Timestamp('2022-01-01 00:00:00')).\n",
      "  warnings.warn(f'{key}: cannot fetch chunk for variable '\n",
      "/cmsaf/cmsaf-ops3/stkothe/KE/ect/lib/python3.12/site-packages/xcube_cci/chunkstore.py:975: UserWarning: PFR/0.2.1: cannot fetch chunk for variable 'PFR' and time_range (Timestamp('2021-01-01 00:00:00'), Timestamp('2022-01-01 00:00:00')).\n",
      "  warnings.warn(f'{key}: cannot fetch chunk for variable '\n",
      "/cmsaf/cmsaf-ops3/stkothe/KE/ect/lib/python3.12/site-packages/xcube_cci/chunkstore.py:975: UserWarning: PFR/0.2.0: cannot fetch chunk for variable 'PFR' and time_range (Timestamp('2021-01-01 00:00:00'), Timestamp('2022-01-01 00:00:00')).\n",
      "  warnings.warn(f'{key}: cannot fetch chunk for variable '\n",
      "/cmsaf/cmsaf-ops3/stkothe/KE/ect/lib/python3.12/site-packages/xcube_cci/chunkstore.py:975: UserWarning: PFR/0.1.9: cannot fetch chunk for variable 'PFR' and time_range (Timestamp('2021-01-01 00:00:00'), Timestamp('2022-01-01 00:00:00')).\n",
      "  warnings.warn(f'{key}: cannot fetch chunk for variable '\n",
      "/cmsaf/cmsaf-ops3/stkothe/KE/ect/lib/python3.12/site-packages/xcube_cci/chunkstore.py:975: UserWarning: PFR/0.1.8: cannot fetch chunk for variable 'PFR' and time_range (Timestamp('2021-01-01 00:00:00'), Timestamp('2022-01-01 00:00:00')).\n",
      "  warnings.warn(f'{key}: cannot fetch chunk for variable '\n",
      "/cmsaf/cmsaf-ops3/stkothe/KE/ect/lib/python3.12/site-packages/xcube_cci/chunkstore.py:975: UserWarning: PFR/0.1.7: cannot fetch chunk for variable 'PFR' and time_range (Timestamp('2021-01-01 00:00:00'), Timestamp('2022-01-01 00:00:00')).\n",
      "  warnings.warn(f'{key}: cannot fetch chunk for variable '\n",
      "/cmsaf/cmsaf-ops3/stkothe/KE/ect/lib/python3.12/site-packages/xcube_cci/chunkstore.py:975: UserWarning: PFR/0.1.6: cannot fetch chunk for variable 'PFR' and time_range (Timestamp('2021-01-01 00:00:00'), Timestamp('2022-01-01 00:00:00')).\n",
      "  warnings.warn(f'{key}: cannot fetch chunk for variable '\n",
      "/cmsaf/cmsaf-ops3/stkothe/KE/ect/lib/python3.12/site-packages/xcube_cci/chunkstore.py:975: UserWarning: PFR/0.1.5: cannot fetch chunk for variable 'PFR' and time_range (Timestamp('2021-01-01 00:00:00'), Timestamp('2022-01-01 00:00:00')).\n",
      "  warnings.warn(f'{key}: cannot fetch chunk for variable '\n",
      "/cmsaf/cmsaf-ops3/stkothe/KE/ect/lib/python3.12/site-packages/xcube_cci/chunkstore.py:975: UserWarning: PFR/0.1.4: cannot fetch chunk for variable 'PFR' and time_range (Timestamp('2021-01-01 00:00:00'), Timestamp('2022-01-01 00:00:00')).\n",
      "  warnings.warn(f'{key}: cannot fetch chunk for variable '\n",
      "/cmsaf/cmsaf-ops3/stkothe/KE/ect/lib/python3.12/site-packages/xcube_cci/chunkstore.py:975: UserWarning: PFR/0.1.35: cannot fetch chunk for variable 'PFR' and time_range (Timestamp('2021-01-01 00:00:00'), Timestamp('2022-01-01 00:00:00')).\n",
      "  warnings.warn(f'{key}: cannot fetch chunk for variable '\n",
      "/cmsaf/cmsaf-ops3/stkothe/KE/ect/lib/python3.12/site-packages/xcube_cci/chunkstore.py:975: UserWarning: PFR/0.1.34: cannot fetch chunk for variable 'PFR' and time_range (Timestamp('2021-01-01 00:00:00'), Timestamp('2022-01-01 00:00:00')).\n",
      "  warnings.warn(f'{key}: cannot fetch chunk for variable '\n",
      "/cmsaf/cmsaf-ops3/stkothe/KE/ect/lib/python3.12/site-packages/xcube_cci/chunkstore.py:975: UserWarning: PFR/0.1.33: cannot fetch chunk for variable 'PFR' and time_range (Timestamp('2021-01-01 00:00:00'), Timestamp('2022-01-01 00:00:00')).\n",
      "  warnings.warn(f'{key}: cannot fetch chunk for variable '\n",
      "/cmsaf/cmsaf-ops3/stkothe/KE/ect/lib/python3.12/site-packages/xcube_cci/chunkstore.py:975: UserWarning: PFR/0.1.32: cannot fetch chunk for variable 'PFR' and time_range (Timestamp('2021-01-01 00:00:00'), Timestamp('2022-01-01 00:00:00')).\n",
      "  warnings.warn(f'{key}: cannot fetch chunk for variable '\n",
      "/cmsaf/cmsaf-ops3/stkothe/KE/ect/lib/python3.12/site-packages/xcube_cci/chunkstore.py:975: UserWarning: PFR/0.1.31: cannot fetch chunk for variable 'PFR' and time_range (Timestamp('2021-01-01 00:00:00'), Timestamp('2022-01-01 00:00:00')).\n",
      "  warnings.warn(f'{key}: cannot fetch chunk for variable '\n",
      "/cmsaf/cmsaf-ops3/stkothe/KE/ect/lib/python3.12/site-packages/xcube_cci/chunkstore.py:975: UserWarning: PFR/0.1.30: cannot fetch chunk for variable 'PFR' and time_range (Timestamp('2021-01-01 00:00:00'), Timestamp('2022-01-01 00:00:00')).\n",
      "  warnings.warn(f'{key}: cannot fetch chunk for variable '\n",
      "/cmsaf/cmsaf-ops3/stkothe/KE/ect/lib/python3.12/site-packages/xcube_cci/chunkstore.py:975: UserWarning: PFR/0.1.3: cannot fetch chunk for variable 'PFR' and time_range (Timestamp('2021-01-01 00:00:00'), Timestamp('2022-01-01 00:00:00')).\n",
      "  warnings.warn(f'{key}: cannot fetch chunk for variable '\n",
      "/cmsaf/cmsaf-ops3/stkothe/KE/ect/lib/python3.12/site-packages/xcube_cci/chunkstore.py:975: UserWarning: PFR/0.1.29: cannot fetch chunk for variable 'PFR' and time_range (Timestamp('2021-01-01 00:00:00'), Timestamp('2022-01-01 00:00:00')).\n",
      "  warnings.warn(f'{key}: cannot fetch chunk for variable '\n",
      "/cmsaf/cmsaf-ops3/stkothe/KE/ect/lib/python3.12/site-packages/xcube_cci/chunkstore.py:975: UserWarning: PFR/0.1.28: cannot fetch chunk for variable 'PFR' and time_range (Timestamp('2021-01-01 00:00:00'), Timestamp('2022-01-01 00:00:00')).\n",
      "  warnings.warn(f'{key}: cannot fetch chunk for variable '\n",
      "/cmsaf/cmsaf-ops3/stkothe/KE/ect/lib/python3.12/site-packages/xcube_cci/chunkstore.py:975: UserWarning: PFR/0.1.27: cannot fetch chunk for variable 'PFR' and time_range (Timestamp('2021-01-01 00:00:00'), Timestamp('2022-01-01 00:00:00')).\n",
      "  warnings.warn(f'{key}: cannot fetch chunk for variable '\n",
      "/cmsaf/cmsaf-ops3/stkothe/KE/ect/lib/python3.12/site-packages/xcube_cci/chunkstore.py:975: UserWarning: PFR/0.1.26: cannot fetch chunk for variable 'PFR' and time_range (Timestamp('2021-01-01 00:00:00'), Timestamp('2022-01-01 00:00:00')).\n",
      "  warnings.warn(f'{key}: cannot fetch chunk for variable '\n",
      "/cmsaf/cmsaf-ops3/stkothe/KE/ect/lib/python3.12/site-packages/xcube_cci/chunkstore.py:975: UserWarning: PFR/0.1.25: cannot fetch chunk for variable 'PFR' and time_range (Timestamp('2021-01-01 00:00:00'), Timestamp('2022-01-01 00:00:00')).\n",
      "  warnings.warn(f'{key}: cannot fetch chunk for variable '\n",
      "/cmsaf/cmsaf-ops3/stkothe/KE/ect/lib/python3.12/site-packages/xcube_cci/chunkstore.py:975: UserWarning: PFR/0.1.24: cannot fetch chunk for variable 'PFR' and time_range (Timestamp('2021-01-01 00:00:00'), Timestamp('2022-01-01 00:00:00')).\n",
      "  warnings.warn(f'{key}: cannot fetch chunk for variable '\n",
      "/cmsaf/cmsaf-ops3/stkothe/KE/ect/lib/python3.12/site-packages/xcube_cci/chunkstore.py:975: UserWarning: PFR/0.1.23: cannot fetch chunk for variable 'PFR' and time_range (Timestamp('2021-01-01 00:00:00'), Timestamp('2022-01-01 00:00:00')).\n",
      "  warnings.warn(f'{key}: cannot fetch chunk for variable '\n",
      "/cmsaf/cmsaf-ops3/stkothe/KE/ect/lib/python3.12/site-packages/xcube_cci/chunkstore.py:975: UserWarning: PFR/0.1.22: cannot fetch chunk for variable 'PFR' and time_range (Timestamp('2021-01-01 00:00:00'), Timestamp('2022-01-01 00:00:00')).\n",
      "  warnings.warn(f'{key}: cannot fetch chunk for variable '\n",
      "/cmsaf/cmsaf-ops3/stkothe/KE/ect/lib/python3.12/site-packages/xcube_cci/chunkstore.py:975: UserWarning: PFR/0.1.21: cannot fetch chunk for variable 'PFR' and time_range (Timestamp('2021-01-01 00:00:00'), Timestamp('2022-01-01 00:00:00')).\n",
      "  warnings.warn(f'{key}: cannot fetch chunk for variable '\n",
      "/cmsaf/cmsaf-ops3/stkothe/KE/ect/lib/python3.12/site-packages/xcube_cci/chunkstore.py:975: UserWarning: PFR/0.1.20: cannot fetch chunk for variable 'PFR' and time_range (Timestamp('2021-01-01 00:00:00'), Timestamp('2022-01-01 00:00:00')).\n",
      "  warnings.warn(f'{key}: cannot fetch chunk for variable '\n",
      "/cmsaf/cmsaf-ops3/stkothe/KE/ect/lib/python3.12/site-packages/xcube_cci/chunkstore.py:975: UserWarning: PFR/0.1.2: cannot fetch chunk for variable 'PFR' and time_range (Timestamp('2021-01-01 00:00:00'), Timestamp('2022-01-01 00:00:00')).\n",
      "  warnings.warn(f'{key}: cannot fetch chunk for variable '\n",
      "/cmsaf/cmsaf-ops3/stkothe/KE/ect/lib/python3.12/site-packages/xcube_cci/chunkstore.py:975: UserWarning: PFR/0.1.19: cannot fetch chunk for variable 'PFR' and time_range (Timestamp('2021-01-01 00:00:00'), Timestamp('2022-01-01 00:00:00')).\n",
      "  warnings.warn(f'{key}: cannot fetch chunk for variable '\n",
      "/cmsaf/cmsaf-ops3/stkothe/KE/ect/lib/python3.12/site-packages/xcube_cci/chunkstore.py:975: UserWarning: PFR/0.1.18: cannot fetch chunk for variable 'PFR' and time_range (Timestamp('2021-01-01 00:00:00'), Timestamp('2022-01-01 00:00:00')).\n",
      "  warnings.warn(f'{key}: cannot fetch chunk for variable '\n",
      "/cmsaf/cmsaf-ops3/stkothe/KE/ect/lib/python3.12/site-packages/xcube_cci/chunkstore.py:975: UserWarning: PFR/0.1.17: cannot fetch chunk for variable 'PFR' and time_range (Timestamp('2021-01-01 00:00:00'), Timestamp('2022-01-01 00:00:00')).\n",
      "  warnings.warn(f'{key}: cannot fetch chunk for variable '\n",
      "/cmsaf/cmsaf-ops3/stkothe/KE/ect/lib/python3.12/site-packages/xcube_cci/chunkstore.py:975: UserWarning: PFR/0.1.16: cannot fetch chunk for variable 'PFR' and time_range (Timestamp('2021-01-01 00:00:00'), Timestamp('2022-01-01 00:00:00')).\n",
      "  warnings.warn(f'{key}: cannot fetch chunk for variable '\n",
      "/cmsaf/cmsaf-ops3/stkothe/KE/ect/lib/python3.12/site-packages/xcube_cci/chunkstore.py:975: UserWarning: PFR/0.1.15: cannot fetch chunk for variable 'PFR' and time_range (Timestamp('2021-01-01 00:00:00'), Timestamp('2022-01-01 00:00:00')).\n",
      "  warnings.warn(f'{key}: cannot fetch chunk for variable '\n",
      "/cmsaf/cmsaf-ops3/stkothe/KE/ect/lib/python3.12/site-packages/xcube_cci/chunkstore.py:975: UserWarning: PFR/0.1.14: cannot fetch chunk for variable 'PFR' and time_range (Timestamp('2021-01-01 00:00:00'), Timestamp('2022-01-01 00:00:00')).\n",
      "  warnings.warn(f'{key}: cannot fetch chunk for variable '\n",
      "/cmsaf/cmsaf-ops3/stkothe/KE/ect/lib/python3.12/site-packages/xcube_cci/chunkstore.py:975: UserWarning: PFR/0.1.13: cannot fetch chunk for variable 'PFR' and time_range (Timestamp('2021-01-01 00:00:00'), Timestamp('2022-01-01 00:00:00')).\n",
      "  warnings.warn(f'{key}: cannot fetch chunk for variable '\n",
      "/cmsaf/cmsaf-ops3/stkothe/KE/ect/lib/python3.12/site-packages/xcube_cci/chunkstore.py:975: UserWarning: PFR/0.1.12: cannot fetch chunk for variable 'PFR' and time_range (Timestamp('2021-01-01 00:00:00'), Timestamp('2022-01-01 00:00:00')).\n",
      "  warnings.warn(f'{key}: cannot fetch chunk for variable '\n",
      "/cmsaf/cmsaf-ops3/stkothe/KE/ect/lib/python3.12/site-packages/xcube_cci/chunkstore.py:975: UserWarning: PFR/0.1.10: cannot fetch chunk for variable 'PFR' and time_range (Timestamp('2021-01-01 00:00:00'), Timestamp('2022-01-01 00:00:00')).\n",
      "  warnings.warn(f'{key}: cannot fetch chunk for variable '\n",
      "/cmsaf/cmsaf-ops3/stkothe/KE/ect/lib/python3.12/site-packages/xcube_cci/chunkstore.py:975: UserWarning: PFR/0.1.1: cannot fetch chunk for variable 'PFR' and time_range (Timestamp('2021-01-01 00:00:00'), Timestamp('2022-01-01 00:00:00')).\n",
      "  warnings.warn(f'{key}: cannot fetch chunk for variable '\n",
      "/cmsaf/cmsaf-ops3/stkothe/KE/ect/lib/python3.12/site-packages/xcube_cci/chunkstore.py:975: UserWarning: PFR/0.1.11: cannot fetch chunk for variable 'PFR' and time_range (Timestamp('2021-01-01 00:00:00'), Timestamp('2022-01-01 00:00:00')).\n",
      "  warnings.warn(f'{key}: cannot fetch chunk for variable '\n",
      "/cmsaf/cmsaf-ops3/stkothe/KE/ect/lib/python3.12/site-packages/xcube_cci/chunkstore.py:975: UserWarning: PFR/0.1.0: cannot fetch chunk for variable 'PFR' and time_range (Timestamp('2021-01-01 00:00:00'), Timestamp('2022-01-01 00:00:00')).\n",
      "  warnings.warn(f'{key}: cannot fetch chunk for variable '\n",
      "/cmsaf/cmsaf-ops3/stkothe/KE/ect/lib/python3.12/site-packages/xcube_cci/chunkstore.py:975: UserWarning: PFR/0.0.9: cannot fetch chunk for variable 'PFR' and time_range (Timestamp('2021-01-01 00:00:00'), Timestamp('2022-01-01 00:00:00')).\n",
      "  warnings.warn(f'{key}: cannot fetch chunk for variable '\n",
      "/cmsaf/cmsaf-ops3/stkothe/KE/ect/lib/python3.12/site-packages/xcube_cci/chunkstore.py:975: UserWarning: PFR/0.0.8: cannot fetch chunk for variable 'PFR' and time_range (Timestamp('2021-01-01 00:00:00'), Timestamp('2022-01-01 00:00:00')).\n",
      "  warnings.warn(f'{key}: cannot fetch chunk for variable '\n",
      "/cmsaf/cmsaf-ops3/stkothe/KE/ect/lib/python3.12/site-packages/xcube_cci/chunkstore.py:975: UserWarning: PFR/0.0.5: cannot fetch chunk for variable 'PFR' and time_range (Timestamp('2021-01-01 00:00:00'), Timestamp('2022-01-01 00:00:00')).\n",
      "  warnings.warn(f'{key}: cannot fetch chunk for variable '\n",
      "/cmsaf/cmsaf-ops3/stkothe/KE/ect/lib/python3.12/site-packages/xcube_cci/chunkstore.py:975: UserWarning: PFR/0.0.7: cannot fetch chunk for variable 'PFR' and time_range (Timestamp('2021-01-01 00:00:00'), Timestamp('2022-01-01 00:00:00')).\n",
      "  warnings.warn(f'{key}: cannot fetch chunk for variable '\n",
      "/cmsaf/cmsaf-ops3/stkothe/KE/ect/lib/python3.12/site-packages/xcube_cci/chunkstore.py:975: UserWarning: PFR/0.0.6: cannot fetch chunk for variable 'PFR' and time_range (Timestamp('2021-01-01 00:00:00'), Timestamp('2022-01-01 00:00:00')).\n",
      "  warnings.warn(f'{key}: cannot fetch chunk for variable '\n",
      "/cmsaf/cmsaf-ops3/stkothe/KE/ect/lib/python3.12/site-packages/xcube_cci/chunkstore.py:975: UserWarning: PFR/0.0.4: cannot fetch chunk for variable 'PFR' and time_range (Timestamp('2021-01-01 00:00:00'), Timestamp('2022-01-01 00:00:00')).\n",
      "  warnings.warn(f'{key}: cannot fetch chunk for variable '\n",
      "/cmsaf/cmsaf-ops3/stkothe/KE/ect/lib/python3.12/site-packages/xcube_cci/chunkstore.py:975: UserWarning: PFR/0.0.35: cannot fetch chunk for variable 'PFR' and time_range (Timestamp('2021-01-01 00:00:00'), Timestamp('2022-01-01 00:00:00')).\n",
      "  warnings.warn(f'{key}: cannot fetch chunk for variable '\n",
      "/cmsaf/cmsaf-ops3/stkothe/KE/ect/lib/python3.12/site-packages/xcube_cci/chunkstore.py:975: UserWarning: PFR/0.0.34: cannot fetch chunk for variable 'PFR' and time_range (Timestamp('2021-01-01 00:00:00'), Timestamp('2022-01-01 00:00:00')).\n",
      "  warnings.warn(f'{key}: cannot fetch chunk for variable '\n",
      "/cmsaf/cmsaf-ops3/stkothe/KE/ect/lib/python3.12/site-packages/xcube_cci/chunkstore.py:975: UserWarning: PFR/0.0.33: cannot fetch chunk for variable 'PFR' and time_range (Timestamp('2021-01-01 00:00:00'), Timestamp('2022-01-01 00:00:00')).\n",
      "  warnings.warn(f'{key}: cannot fetch chunk for variable '\n",
      "/cmsaf/cmsaf-ops3/stkothe/KE/ect/lib/python3.12/site-packages/xcube_cci/chunkstore.py:975: UserWarning: PFR/0.0.31: cannot fetch chunk for variable 'PFR' and time_range (Timestamp('2021-01-01 00:00:00'), Timestamp('2022-01-01 00:00:00')).\n",
      "  warnings.warn(f'{key}: cannot fetch chunk for variable '\n",
      "/cmsaf/cmsaf-ops3/stkothe/KE/ect/lib/python3.12/site-packages/xcube_cci/chunkstore.py:975: UserWarning: PFR/0.0.32: cannot fetch chunk for variable 'PFR' and time_range (Timestamp('2021-01-01 00:00:00'), Timestamp('2022-01-01 00:00:00')).\n",
      "  warnings.warn(f'{key}: cannot fetch chunk for variable '\n",
      "/cmsaf/cmsaf-ops3/stkothe/KE/ect/lib/python3.12/site-packages/xcube_cci/chunkstore.py:975: UserWarning: PFR/0.0.30: cannot fetch chunk for variable 'PFR' and time_range (Timestamp('2021-01-01 00:00:00'), Timestamp('2022-01-01 00:00:00')).\n",
      "  warnings.warn(f'{key}: cannot fetch chunk for variable '\n",
      "/cmsaf/cmsaf-ops3/stkothe/KE/ect/lib/python3.12/site-packages/xcube_cci/chunkstore.py:975: UserWarning: PFR/0.0.3: cannot fetch chunk for variable 'PFR' and time_range (Timestamp('2021-01-01 00:00:00'), Timestamp('2022-01-01 00:00:00')).\n",
      "  warnings.warn(f'{key}: cannot fetch chunk for variable '\n",
      "/cmsaf/cmsaf-ops3/stkothe/KE/ect/lib/python3.12/site-packages/xcube_cci/chunkstore.py:975: UserWarning: PFR/0.0.29: cannot fetch chunk for variable 'PFR' and time_range (Timestamp('2021-01-01 00:00:00'), Timestamp('2022-01-01 00:00:00')).\n",
      "  warnings.warn(f'{key}: cannot fetch chunk for variable '\n",
      "/cmsaf/cmsaf-ops3/stkothe/KE/ect/lib/python3.12/site-packages/xcube_cci/chunkstore.py:975: UserWarning: PFR/0.0.28: cannot fetch chunk for variable 'PFR' and time_range (Timestamp('2021-01-01 00:00:00'), Timestamp('2022-01-01 00:00:00')).\n",
      "  warnings.warn(f'{key}: cannot fetch chunk for variable '\n",
      "/cmsaf/cmsaf-ops3/stkothe/KE/ect/lib/python3.12/site-packages/xcube_cci/chunkstore.py:975: UserWarning: PFR/0.0.27: cannot fetch chunk for variable 'PFR' and time_range (Timestamp('2021-01-01 00:00:00'), Timestamp('2022-01-01 00:00:00')).\n",
      "  warnings.warn(f'{key}: cannot fetch chunk for variable '\n",
      "/cmsaf/cmsaf-ops3/stkothe/KE/ect/lib/python3.12/site-packages/xcube_cci/chunkstore.py:975: UserWarning: PFR/0.0.26: cannot fetch chunk for variable 'PFR' and time_range (Timestamp('2021-01-01 00:00:00'), Timestamp('2022-01-01 00:00:00')).\n",
      "  warnings.warn(f'{key}: cannot fetch chunk for variable '\n",
      "/cmsaf/cmsaf-ops3/stkothe/KE/ect/lib/python3.12/site-packages/xcube_cci/chunkstore.py:975: UserWarning: PFR/0.0.25: cannot fetch chunk for variable 'PFR' and time_range (Timestamp('2021-01-01 00:00:00'), Timestamp('2022-01-01 00:00:00')).\n",
      "  warnings.warn(f'{key}: cannot fetch chunk for variable '\n",
      "/cmsaf/cmsaf-ops3/stkothe/KE/ect/lib/python3.12/site-packages/xcube_cci/chunkstore.py:975: UserWarning: PFR/0.0.24: cannot fetch chunk for variable 'PFR' and time_range (Timestamp('2021-01-01 00:00:00'), Timestamp('2022-01-01 00:00:00')).\n",
      "  warnings.warn(f'{key}: cannot fetch chunk for variable '\n",
      "/cmsaf/cmsaf-ops3/stkothe/KE/ect/lib/python3.12/site-packages/xcube_cci/chunkstore.py:975: UserWarning: PFR/0.0.23: cannot fetch chunk for variable 'PFR' and time_range (Timestamp('2021-01-01 00:00:00'), Timestamp('2022-01-01 00:00:00')).\n",
      "  warnings.warn(f'{key}: cannot fetch chunk for variable '\n",
      "/cmsaf/cmsaf-ops3/stkothe/KE/ect/lib/python3.12/site-packages/xcube_cci/chunkstore.py:975: UserWarning: PFR/0.0.22: cannot fetch chunk for variable 'PFR' and time_range (Timestamp('2021-01-01 00:00:00'), Timestamp('2022-01-01 00:00:00')).\n",
      "  warnings.warn(f'{key}: cannot fetch chunk for variable '\n",
      "/cmsaf/cmsaf-ops3/stkothe/KE/ect/lib/python3.12/site-packages/xcube_cci/chunkstore.py:975: UserWarning: PFR/0.0.20: cannot fetch chunk for variable 'PFR' and time_range (Timestamp('2021-01-01 00:00:00'), Timestamp('2022-01-01 00:00:00')).\n",
      "  warnings.warn(f'{key}: cannot fetch chunk for variable '\n",
      "/cmsaf/cmsaf-ops3/stkothe/KE/ect/lib/python3.12/site-packages/xcube_cci/chunkstore.py:975: UserWarning: PFR/0.0.21: cannot fetch chunk for variable 'PFR' and time_range (Timestamp('2021-01-01 00:00:00'), Timestamp('2022-01-01 00:00:00')).\n",
      "  warnings.warn(f'{key}: cannot fetch chunk for variable '\n",
      "/cmsaf/cmsaf-ops3/stkothe/KE/ect/lib/python3.12/site-packages/xcube_cci/chunkstore.py:975: UserWarning: PFR/0.0.2: cannot fetch chunk for variable 'PFR' and time_range (Timestamp('2021-01-01 00:00:00'), Timestamp('2022-01-01 00:00:00')).\n",
      "  warnings.warn(f'{key}: cannot fetch chunk for variable '\n",
      "/cmsaf/cmsaf-ops3/stkothe/KE/ect/lib/python3.12/site-packages/xcube_cci/chunkstore.py:975: UserWarning: PFR/0.0.19: cannot fetch chunk for variable 'PFR' and time_range (Timestamp('2021-01-01 00:00:00'), Timestamp('2022-01-01 00:00:00')).\n",
      "  warnings.warn(f'{key}: cannot fetch chunk for variable '\n",
      "/cmsaf/cmsaf-ops3/stkothe/KE/ect/lib/python3.12/site-packages/xcube_cci/chunkstore.py:975: UserWarning: PFR/0.0.18: cannot fetch chunk for variable 'PFR' and time_range (Timestamp('2021-01-01 00:00:00'), Timestamp('2022-01-01 00:00:00')).\n",
      "  warnings.warn(f'{key}: cannot fetch chunk for variable '\n",
      "/cmsaf/cmsaf-ops3/stkothe/KE/ect/lib/python3.12/site-packages/xcube_cci/chunkstore.py:975: UserWarning: PFR/0.0.17: cannot fetch chunk for variable 'PFR' and time_range (Timestamp('2021-01-01 00:00:00'), Timestamp('2022-01-01 00:00:00')).\n",
      "  warnings.warn(f'{key}: cannot fetch chunk for variable '\n",
      "/cmsaf/cmsaf-ops3/stkothe/KE/ect/lib/python3.12/site-packages/xcube_cci/chunkstore.py:975: UserWarning: PFR/0.0.16: cannot fetch chunk for variable 'PFR' and time_range (Timestamp('2021-01-01 00:00:00'), Timestamp('2022-01-01 00:00:00')).\n",
      "  warnings.warn(f'{key}: cannot fetch chunk for variable '\n",
      "/cmsaf/cmsaf-ops3/stkothe/KE/ect/lib/python3.12/site-packages/xcube_cci/chunkstore.py:975: UserWarning: PFR/0.0.15: cannot fetch chunk for variable 'PFR' and time_range (Timestamp('2021-01-01 00:00:00'), Timestamp('2022-01-01 00:00:00')).\n",
      "  warnings.warn(f'{key}: cannot fetch chunk for variable '\n",
      "/cmsaf/cmsaf-ops3/stkothe/KE/ect/lib/python3.12/site-packages/xcube_cci/chunkstore.py:975: UserWarning: PFR/0.0.14: cannot fetch chunk for variable 'PFR' and time_range (Timestamp('2021-01-01 00:00:00'), Timestamp('2022-01-01 00:00:00')).\n",
      "  warnings.warn(f'{key}: cannot fetch chunk for variable '\n",
      "/cmsaf/cmsaf-ops3/stkothe/KE/ect/lib/python3.12/site-packages/xcube_cci/chunkstore.py:975: UserWarning: PFR/0.0.13: cannot fetch chunk for variable 'PFR' and time_range (Timestamp('2021-01-01 00:00:00'), Timestamp('2022-01-01 00:00:00')).\n",
      "  warnings.warn(f'{key}: cannot fetch chunk for variable '\n",
      "/cmsaf/cmsaf-ops3/stkothe/KE/ect/lib/python3.12/site-packages/xcube_cci/chunkstore.py:975: UserWarning: PFR/0.0.12: cannot fetch chunk for variable 'PFR' and time_range (Timestamp('2021-01-01 00:00:00'), Timestamp('2022-01-01 00:00:00')).\n",
      "  warnings.warn(f'{key}: cannot fetch chunk for variable '\n",
      "/cmsaf/cmsaf-ops3/stkothe/KE/ect/lib/python3.12/site-packages/xcube_cci/chunkstore.py:975: UserWarning: PFR/0.0.11: cannot fetch chunk for variable 'PFR' and time_range (Timestamp('2021-01-01 00:00:00'), Timestamp('2022-01-01 00:00:00')).\n",
      "  warnings.warn(f'{key}: cannot fetch chunk for variable '\n",
      "/cmsaf/cmsaf-ops3/stkothe/KE/ect/lib/python3.12/site-packages/xcube_cci/chunkstore.py:975: UserWarning: PFR/0.0.10: cannot fetch chunk for variable 'PFR' and time_range (Timestamp('2021-01-01 00:00:00'), Timestamp('2022-01-01 00:00:00')).\n",
      "  warnings.warn(f'{key}: cannot fetch chunk for variable '\n",
      "/cmsaf/cmsaf-ops3/stkothe/KE/ect/lib/python3.12/site-packages/xcube_cci/chunkstore.py:975: UserWarning: PFR/0.0.1: cannot fetch chunk for variable 'PFR' and time_range (Timestamp('2021-01-01 00:00:00'), Timestamp('2022-01-01 00:00:00')).\n",
      "  warnings.warn(f'{key}: cannot fetch chunk for variable '\n",
      "/cmsaf/cmsaf-ops3/stkothe/KE/ect/lib/python3.12/site-packages/xcube_cci/chunkstore.py:975: UserWarning: PFR/0.0.0: cannot fetch chunk for variable 'PFR' and time_range (Timestamp('2021-01-01 00:00:00'), Timestamp('2022-01-01 00:00:00')).\n",
      "  warnings.warn(f'{key}: cannot fetch chunk for variable '\n"
     ]
    }
   ],
   "source": [
    "import matplotlib.pyplot as plt\n",
    "\n",
    "# Select the cloud fraction data at the available time (e.g. first and only time slice)\n",
    "pfr = pfr_ds[\"PFR\"].isel(time=0)\n",
    "\n",
    "# Plot\n",
    "plt.figure(figsize=(10, 5))\n",
    "pfr.plot(\n",
    "    cmap=\"Blues\",  # reverse blues\n",
    "    cbar_kwargs={\"label\": \"Permafrost\"}\n",
    ")\n",
    "plt.title(\"Permafrost – 2021 (Permafrost CCI)\")\n",
    "plt.xlabel(\"Longitude\")\n",
    "plt.ylabel(\"Latitude\")\n",
    "plt.tight_layout()\n",
    "plt.show()"
   ]
  }
 ],
 "metadata": {
  "kernelspec": {
   "display_name": "Python 3 (ipykernel)",
   "language": "python",
   "name": "python3"
  },
  "language_info": {
   "codemirror_mode": {
    "name": "ipython",
    "version": 3
   },
   "file_extension": ".py",
   "mimetype": "text/x-python",
   "name": "python",
   "nbconvert_exporter": "python",
   "pygments_lexer": "ipython3",
   "version": "3.12.7"
  }
 },
 "nbformat": 4,
 "nbformat_minor": 5
}
