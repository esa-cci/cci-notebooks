{
 "cells": [
  {
   "cell_type": "markdown",
   "id": "ab36065c-42b2-4539-94b5-c1e048a0e8b4",
   "metadata": {},
   "source": [
    "# Getting Started with Sea Ice CCI Data"
   ]
  },
  {
   "cell_type": "markdown",
   "id": "7820f8bc-21f0-4933-8972-0b19f268532e",
   "metadata": {},
   "source": [
    "### 1. Import Necessary Packages\n",
    "\n",
    "In this section, we import the required Python packages to work with ESA Climate Change Initiative (CCI) data. Most notably, we use the [ESA Climate Toolbox](https://esa-climate-toolbox.readthedocs.io/en/latest/) which simplifies access, manipulation, and visualization of CCI datasets in Python.\n",
    "\n",
    "These packages allow us to:\n",
    "- Access satellite-based climate data records from ESA.\n",
    "- Handle geospatial and temporal dimensions efficiently.\n",
    "- Visualize data with intuitive plotting tools.\n",
    "\n",
    "📚 For a broader introduction to the toolbox and how to install it, visit:  \n",
    "🔗 [ESA CCI Climate Toolbox Quick Start](https://esa-climate-toolbox.readthedocs.io/en/latest/quick_start.html#jupyter-notebooks)  \n",
    "🔗 [ESA Climate Data Toolbox Website](https://climate.esa.int/en/data/toolbox/)"
   ]
  },
  {
   "cell_type": "code",
   "execution_count": 1,
   "id": "f05b0d63-ff02-41f8-9070-f0d9c44d9a3c",
   "metadata": {},
   "outputs": [],
   "source": [
    "from xcube.core.store import new_data_store\n",
    "from esa_climate_toolbox.core import get_op\n",
    "from esa_climate_toolbox.core import list_ecv_datasets\n",
    "from esa_climate_toolbox.core import get_store\n",
    "from esa_climate_toolbox.core import list_datasets\n",
    "from esa_climate_toolbox.ops import plot\n",
    "import xarray as xr\n",
    "import matplotlib.pyplot as plt\n",
    "import warnings\n",
    "%matplotlib inline"
   ]
  },
  {
   "cell_type": "markdown",
   "id": "a2f223ea-569a-4c84-8266-8572f861f3ed",
   "metadata": {},
   "source": [
    "### Step 2: Connect to the ESA CCI Data Store\n",
    "\n",
    "The ESA Climate Toolbox provides direct access to the **ESA Climate Data Store**, which hosts harmonized satellite-based climate data records produced under the **ESA Climate Change Initiative (CCI)**.\n",
    "\n",
    "In this step, we establish a connection to the data store so we can browse and open datasets. This connection allows us to access data **without having to download files manually** — a convenient way to explore and analyze large geospatial datasets in cloud-friendly formats such as **Zarr** or **Kerchunk**.\n",
    "\n",
    "The data store includes a wide range of essential climate variables (ECVs), such as aerosols, land surface temperature, sea level, and soil moisture.\n",
    "\n",
    "📘 Learn more about available datasets:  \n",
    "🔗 [ESA Climate Data Toolbox – Quick Start Guide](https://esa-climate-toolbox.readthedocs.io/en/latest/quick_start.html#data-access)"
   ]
  },
  {
   "cell_type": "code",
   "execution_count": 2,
   "id": "94164c99-2ef2-48d7-b098-6e136ee861af",
   "metadata": {},
   "outputs": [],
   "source": [
    "cci_store = new_data_store(\"esa-cci\")\n",
    "# List all available data sets of an ECV\n",
    "# list_ecv_datasets(\"seaice\")"
   ]
  },
  {
   "cell_type": "markdown",
   "id": "d736f1da-a755-4df7-864a-5f14f988159f",
   "metadata": {},
   "source": [
    "### Step 3: Define the Dataset ID  \n",
    "To work with a specific ESA CCI dataset, we need to specify its **dataset ID**. This unique identifier tells the toolbox which variable and product we want to access.\n",
    "\n",
    "In this example, we are using a dataset from the **Sea Ice CCI project** that provides daily Level 4 sea ice concentration (SICONC) data derived from multiple satellite sensors over the Southern Hemisphere. Sea ice concentration is a key parameter for monitoring polar climate change, seasonal variability, and its interaction with the atmosphere and ocean.\n",
    "\n",
    "For other ESA CCI projects (e.g., Ozone, Land Cover, Permafrost), simply replace the dataset ID accordingly.\n",
    "\n",
    "We will use the following dataset ID:"
   ]
  },
  {
   "cell_type": "code",
   "execution_count": 3,
   "id": "7672a7f4-be9a-4b8f-a888-93d31647d5b4",
   "metadata": {},
   "outputs": [],
   "source": [
    "data_id = 'esacci.SEAICE.day.L4.SICONC.multi-sensor.multi-platform.AMSR_25kmEASE2.2-1.SH'"
   ]
  },
  {
   "cell_type": "markdown",
   "id": "817922fd-a86b-4cee-ab9b-5a042692be42",
   "metadata": {},
   "source": [
    "📘 A full list of dataset IDs can be retrieved from the store or found in the [ESA CCI Climate Toolbox documentation](https://esa-climate-toolbox.readthedocs.io/en/latest/quick_start.html#accessing-data)."
   ]
  },
  {
   "cell_type": "markdown",
   "id": "b1e9d068-a81b-4d00-91cb-cc020bd5333a",
   "metadata": {},
   "source": [
    "### Step 4: Describe Dataset (Check Available Variables and Metadata)\n",
    "\n",
    "Before loading the full dataset, it’s helpful to **inspect the metadata** to understand its structure. This includes:\n",
    "\n",
    "- Available variables (e.g., AOD, uncertainty estimates)\n",
    "- Temporal and spatial coverage\n",
    "- Data format and structure\n",
    "\n",
    "This step ensures we know what the dataset contains and how to work with it. It also helps confirm that the variable we want to plot or analyze is actually included.\n",
    "\n",
    "🛠️ Tip: You can use the description to verify variable names, dimensions (e.g., `lat`, `lon`, `time`), and time coverage.\n",
    "\n",
    "📘 More on dataset structure:  \n",
    "🔗 [ESA Climate Toolbox – Data Access](https://esa-climate-toolbox.readthedocs.io/en/latest/quick_start.html#accessing-data)"
   ]
  },
  {
   "cell_type": "code",
   "execution_count": 4,
   "id": "1ccb7546-70f0-479d-bb0a-d902190500af",
   "metadata": {},
   "outputs": [
    {
     "data": {
      "application/json": {
       "attrs": {
        "abstract": "The dataset provides a Climate Data Record of Sea Ice Concentration (SIC) for the polar regions, derived from medium resolution passive microwave satellite data from the Advanced Microwave Scanning Radiometer series (AMSR-E and AMSR-2).  It is processed with an algorithm using medium resolution (19 GHz and 37 GHz) imaging channels, and has been gridded at 25km grid spacing.   This version of the product is v2.1, which is an extension of the v2.0 Sea_Ice_cci data and has identical data until 2015-12-25.\n\nThis product was generated in the context of the ESA Climate Change Initiative Programme (ESA CCI) by the Sea Ice CCI (Sea_Ice_cci) project. The EUMETSAT OSI SAF contributed with access and re-use of part of its processing software and facilities.\n\nA SIC CDR at 50 km grid spacing is also available.",
        "catalog_url": "https://catalogue.ceda.ac.uk/uuid/f17f146a31b14dfd960cde0874236ee5",
        "cci_project": "SEAICE",
        "data_type": "SICONC",
        "ecv": "SEAICE",
        "history": "2017-02-14T16:01:55Z creation",
        "institute": "Norwegian Meteorological Institute",
        "platform_id": "multi-platform",
        "processing_level": "L4",
        "product_string": "AMSR_25kmEASE2",
        "product_version": "2-1",
        "project": "Climate Change Initiative - European Space Agency",
        "publication_date": "2017-10-06T11:09:00",
        "references": "Product User Guide DX.X Issue X.X,Algorithm Theoretical Basis Document v3 DX.X Issue X.X,http://www.esa-seaice-cci.org,http://www.esa-cci.org",
        "sensor_id": "multi-sensor",
        "source": "FCDR of AMSR-E Brightness Temperatures V3 (doi: 10.5067/AMSR-E/AE_L2A.003), AMSR2 L1R data from JAXA,ERA-Interim fields from ECMWF (doi: 10.1002/qj.828)",
        "title": "ESA Sea Ice Climate Change Initiative (Sea_Ice_cci):  Sea Ice Concentration Climate Data Record from the AMSR-E and AMSR-2 instruments at 25km grid spacing, version 2.1",
        "uuid": "f17f146a31b14dfd960cde0874236ee5"
       },
       "bbox": [
        -180,
        -90,
        180,
        90
       ],
       "coords": {
        "time": {
         "attrs": {
          "axis": "T",
          "bounds": "time_bnds",
          "calendar": "standard",
          "chunk_sizes": 1,
          "data_type": "float64",
          "dimensions": [
           "time"
          ],
          "file_chunk_sizes": 1,
          "file_dimensions": [
           "time"
          ],
          "fill_value": null,
          "long_name": "reference time of product",
          "orig_data_type": "float64",
          "shape": [
           5138
          ],
          "size": 5138,
          "standard_name": "time",
          "units": "seconds since 1978-01-01 00:00:00"
         },
         "dims": [
          "time"
         ],
         "dtype": "float64",
         "name": "time"
        },
        "time_bnds": {
         "attrs": {
          "chunk_sizes": [
           1,
           2
          ],
          "data_type": "float64",
          "dimensions": [
           "time",
           "nv"
          ],
          "file_chunk_sizes": [
           1,
           2
          ],
          "file_dimensions": [
           "time",
           "nv"
          ],
          "fill_value": null,
          "orig_data_type": "float64",
          "shape": [
           5138,
           2
          ],
          "size": 10276,
          "units": "seconds since 1978-01-01 00:00:00"
         },
         "dims": [
          "time",
          "nv"
         ],
         "dtype": "float64",
         "name": "time_bnds"
        },
        "xc": {
         "attrs": {
          "chunk_sizes": [
           432
          ],
          "data_type": "float64",
          "dimensions": [
           "xc"
          ],
          "file_chunk_sizes": [
           432
          ],
          "file_dimensions": [
           "xc"
          ],
          "fill_value": null,
          "long_name": "x coordinate of projection (eastings)",
          "orig_data_type": "float64",
          "shape": [
           432
          ],
          "size": 432,
          "standard_name": "projection_x_coordinate",
          "units": "km"
         },
         "dims": [
          "xc"
         ],
         "dtype": "float64",
         "name": "xc"
        },
        "yc": {
         "attrs": {
          "chunk_sizes": [
           432
          ],
          "data_type": "float64",
          "dimensions": [
           "yc"
          ],
          "file_chunk_sizes": [
           432
          ],
          "file_dimensions": [
           "yc"
          ],
          "fill_value": null,
          "long_name": "y coordinate of projection (northings)",
          "orig_data_type": "float64",
          "shape": [
           432
          ],
          "size": 432,
          "standard_name": "projection_y_coordinate",
          "units": "km"
         },
         "dims": [
          "yc"
         ],
         "dtype": "float64",
         "name": "yc"
        }
       },
       "crs": "Lambert Azimuthal Equal Area",
       "data_id": "esacci.SEAICE.day.L4.SICONC.multi-sensor.multi-platform.AMSR_25kmEASE2.2-1.SH",
       "data_type": "dataset",
       "data_vars": {
        "Lambert_Azimuthal_Grid": {
         "attrs": {
          "chunk_sizes": [
           1
          ],
          "data_type": "int64",
          "dimensions": [],
          "false_easting": 0,
          "false_northing": 0,
          "file_chunk_sizes": [
           1
          ],
          "file_dimensions": [],
          "fill_value": 9223372036854776000,
          "grid_mapping_name": "lambert_azimuthal_equal_area",
          "inverse_flattening": 298.257223563,
          "latitude_of_projection_origin": -90,
          "longitude_of_projection_origin": 0,
          "orig_data_type": "int32",
          "proj4_string": "+proj=laea +lon_0=0 +datum=WGS84 +ellps=WGS84 +lat_0=-90.0",
          "semi_major_axis": 6378137,
          "shape": [
           1
          ],
          "size": 1
         },
         "dims": [],
         "dtype": "int64",
         "name": "Lambert_Azimuthal_Grid"
        },
        "algorithm_standard_error": {
         "attrs": {
          "chunk_sizes": [
           1,
           432,
           432
          ],
          "comment": "this is one of the two components contributing to 'total_standard_error'",
          "coordinates": "time lat lon",
          "data_type": "int32",
          "dimensions": [
           "time",
           "yc",
           "xc"
          ],
          "file_chunk_sizes": [
           1,
           432,
           432
          ],
          "file_dimensions": [
           "time",
           "yc",
           "xc"
          ],
          "fill_value": -32767,
          "grid_mapping": "Lambert_Azimuthal_Grid",
          "long_name": "algorithm uncertainty (one standard deviation) of concentration of sea ice",
          "orig_data_type": "int32",
          "scale_factor": 0.01,
          "shape": [
           5138,
           432,
           432
          ],
          "size": 958874112,
          "units": "%"
         },
         "dims": [
          "time",
          "yc",
          "xc"
         ],
         "dtype": "int32",
         "name": "algorithm_standard_error"
        },
        "ice_conc": {
         "attrs": {
          "ancillary_variables": "total_standard_error status_flag",
          "chunk_sizes": [
           1,
           432,
           432
          ],
          "comment": "this field is the primary sea ice concentration estimate for this climate data record",
          "coordinates": "time lat lon",
          "data_type": "int32",
          "dimensions": [
           "time",
           "yc",
           "xc"
          ],
          "file_chunk_sizes": [
           1,
           432,
           432
          ],
          "file_dimensions": [
           "time",
           "yc",
           "xc"
          ],
          "fill_value": -32767,
          "grid_mapping": "Lambert_Azimuthal_Grid",
          "long_name": "fully filtered concentration of sea ice using atmospheric correction of brightness temperatures and open water filters",
          "orig_data_type": "int32",
          "scale_factor": 0.01,
          "shape": [
           5138,
           432,
           432
          ],
          "size": 958874112,
          "standard_name": "sea_ice_area_fraction",
          "units": "%",
          "valid_max": 10000,
          "valid_min": 0
         },
         "dims": [
          "time",
          "yc",
          "xc"
         ],
         "dtype": "int32",
         "name": "ice_conc"
        },
        "lat": {
         "attrs": {
          "chunk_sizes": [
           432,
           432
          ],
          "data_type": "float32",
          "dimensions": [
           "yc",
           "xc"
          ],
          "file_chunk_sizes": [
           432,
           432
          ],
          "file_dimensions": [
           "yc",
           "xc"
          ],
          "fill_value": null,
          "long_name": "latitude coordinate",
          "orig_data_type": "float32",
          "shape": [
           432,
           432
          ],
          "size": 186624,
          "standard_name": "latitude",
          "units": "degrees_north"
         },
         "dims": [
          "time",
          "yc",
          "xc"
         ],
         "dtype": "float32",
         "name": "lat"
        },
        "lon": {
         "attrs": {
          "chunk_sizes": [
           432,
           432
          ],
          "data_type": "float32",
          "dimensions": [
           "yc",
           "xc"
          ],
          "file_chunk_sizes": [
           432,
           432
          ],
          "file_dimensions": [
           "yc",
           "xc"
          ],
          "fill_value": null,
          "long_name": "longitude coordinate",
          "orig_data_type": "float32",
          "shape": [
           432,
           432
          ],
          "size": 186624,
          "standard_name": "longitude",
          "units": "degrees_east"
         },
         "dims": [
          "time",
          "yc",
          "xc"
         ],
         "dtype": "float32",
         "name": "lon"
        },
        "raw_ice_conc_values": {
         "attrs": {
          "chunk_sizes": [
           1,
           432,
           432
          ],
          "comment": "this field can be used in combination with 'ice_conc' to access un-bounded normal distribution of sea ice concentration estimates corresponding to the uncertainty estimate in 'total_standard_error'. It does also feature some amount of un-physical data (below 0% and above 100%).",
          "coordinates": "time lat lon",
          "data_type": "int32",
          "dimensions": [
           "time",
           "yc",
           "xc"
          ],
          "file_chunk_sizes": [
           1,
           432,
           432
          ],
          "file_dimensions": [
           "time",
           "yc",
           "xc"
          ],
          "fill_value": -32767,
          "grid_mapping": "Lambert_Azimuthal_Grid",
          "long_name": "sea ice concentration estimates as retrieved by the algorithm, and that were edited away by the various filters",
          "orig_data_type": "int32",
          "scale_factor": 0.01,
          "shape": [
           5138,
           432,
           432
          ],
          "size": 958874112,
          "units": "%"
         },
         "dims": [
          "time",
          "yc",
          "xc"
         ],
         "dtype": "int32",
         "name": "raw_ice_conc_values"
        },
        "smearing_standard_error": {
         "attrs": {
          "chunk_sizes": [
           1,
           432,
           432
          ],
          "comment": "this is one of the two components contributing to 'total_standard_error'",
          "coordinates": "time lat lon",
          "data_type": "int32",
          "dimensions": [
           "time",
           "yc",
           "xc"
          ],
          "file_chunk_sizes": [
           1,
           432,
           432
          ],
          "file_dimensions": [
           "time",
           "yc",
           "xc"
          ],
          "fill_value": -32767,
          "grid_mapping": "Lambert_Azimuthal_Grid",
          "long_name": "smearing uncertainty (one standard deviation) of concentration of sea ice",
          "orig_data_type": "int32",
          "scale_factor": 0.01,
          "shape": [
           5138,
           432,
           432
          ],
          "size": 958874112,
          "units": "%"
         },
         "dims": [
          "time",
          "yc",
          "xc"
         ],
         "dtype": "int32",
         "name": "smearing_standard_error"
        },
        "status_flag": {
         "attrs": {
          "chunk_sizes": [
           1,
           432,
           432
          ],
          "comment": "Flag values found in the map might be combinations of those listed above. For example flag value 80 (= 2^4 + 2^6 = 16 + 64) indicates high_t2m AND temporal_interp",
          "coordinates": "time lat lon",
          "data_type": "int16",
          "dimensions": [
           "time",
           "yc",
           "xc"
          ],
          "file_chunk_sizes": [
           1,
           432,
           432
          ],
          "file_dimensions": [
           "time",
           "yc",
           "xc"
          ],
          "fill_value": -32768,
          "flag_descriptions": "\nall bits to 0 (flag 0): Nominal retrieval by the SIC algorithm\nbit 1 (flag 1): Position is over land\nbit 2 (flag 2): Position is lake\nbit 3 (flag 4): SIC is set to zero by the open water filter\nbit 4 (flag 8): SIC value is changed for correcting land spill-over effects\nbit 5 (flag 16): Handle with caution, the 2m air temperature is high at this position, and this might be false ice\nbit 6 (flag 32): Value is the result of spatial interpolation\nbit 7 (flag 64): Value is the result of temporal interpolation\nbit 8 (flag 128): SIC is set to zero since position is outside maximum sea ice climatology.",
          "flag_masks": [
           1,
           2,
           4,
           8,
           16,
           32,
           64,
           128
          ],
          "flag_meanings": "land lake open_water_filtered land_spill_over high_t2m spatial_interp temporal_interp max_ice_climo",
          "grid_mapping": "Lambert_Azimuthal_Grid",
          "long_name": "status flag bit array for sea ice concentration retrievals",
          "orig_data_type": "int16",
          "shape": [
           5138,
           432,
           432
          ],
          "size": 958874112,
          "standard_name": "sea_ice_area_fraction status_flag",
          "valid_max": 32767,
          "valid_min": 0
         },
         "dims": [
          "time",
          "yc",
          "xc"
         ],
         "dtype": "int16",
         "name": "status_flag"
        },
        "total_standard_error": {
         "attrs": {
          "chunk_sizes": [
           1,
           432,
           432
          ],
          "coordinates": "time lat lon",
          "data_type": "int32",
          "dimensions": [
           "time",
           "yc",
           "xc"
          ],
          "file_chunk_sizes": [
           1,
           432,
           432
          ],
          "file_dimensions": [
           "time",
           "yc",
           "xc"
          ],
          "fill_value": -32767,
          "grid_mapping": "Lambert_Azimuthal_Grid",
          "long_name": "total uncertainty (one standard deviation) of concentration of sea ice",
          "orig_data_type": "int32",
          "scale_factor": 0.01,
          "shape": [
           5138,
           432,
           432
          ],
          "size": 958874112,
          "standard_name": "sea_ice_area_fraction standard_error",
          "units": "%"
         },
         "dims": [
          "time",
          "yc",
          "xc"
         ],
         "dtype": "int32",
         "name": "total_standard_error"
        }
       },
       "dims": {
        "nv": 2,
        "time": 5138,
        "xc": 432,
        "yc": 432
       },
       "open_params_schema": {
        "additionalProperties": false,
        "properties": {
         "normalize_data": {
          "default": true,
          "type": "boolean"
         },
         "time_range": {
          "items": [
           {
            "format": "date",
            "maxDate": "2017-05-15",
            "minDate": "2002-05-31",
            "type": "string"
           },
           {
            "format": "date",
            "maxDate": "2017-05-15",
            "minDate": "2002-05-31",
            "type": "string"
           }
          ],
          "type": "array"
         },
         "variable_names": {
          "items": {
           "enum": [
            "Lambert_Azimuthal_Grid",
            "lat",
            "lon",
            "ice_conc",
            "raw_ice_conc_values",
            "total_standard_error",
            "smearing_standard_error",
            "algorithm_standard_error",
            "status_flag"
           ],
           "type": "string"
          },
          "type": "array"
         }
        },
        "type": "object"
       },
       "spatial_res": 25,
       "time_period": "1D",
       "time_range": [
        "2002-05-31",
        "2017-05-15"
       ]
      },
      "text/plain": [
       "<xcube.core.store.descriptor.DatasetDescriptor at 0x7f7199f47ec0>"
      ]
     },
     "execution_count": 4,
     "metadata": {},
     "output_type": "execute_result"
    }
   ],
   "source": [
    "cci_store.describe_data(data_id)"
   ]
  },
  {
   "cell_type": "markdown",
   "id": "c4fd984c-0028-418a-8d9f-37dae390c869",
   "metadata": {},
   "source": [
    "### Step 5: Check Open Parameters for the Dataset\n",
    "\n",
    "Before opening the dataset, we can inspect which parameters are supported by the **Zarr opener** (e.g., `time_range`, `bbox`, `variable_names`). This step helps ensure that we pass valid arguments when loading data and avoid errors.\n",
    "\n",
    "The command below lists all expected input parameters and their allowed values for the selected dataset."
   ]
  },
  {
   "cell_type": "code",
   "execution_count": 5,
   "id": "a0ee1118-47e2-47c4-9401-1bb069776fdc",
   "metadata": {},
   "outputs": [
    {
     "data": {
      "application/json": {
       "additionalProperties": false,
       "properties": {
        "normalize_data": {
         "default": true,
         "type": "boolean"
        },
        "time_range": {
         "items": [
          {
           "format": "date",
           "maxDate": "2017-05-15",
           "minDate": "2002-05-31",
           "type": "string"
          },
          {
           "format": "date",
           "maxDate": "2017-05-15",
           "minDate": "2002-05-31",
           "type": "string"
          }
         ],
         "type": "array"
        },
        "variable_names": {
         "items": {
          "enum": [
           "Lambert_Azimuthal_Grid",
           "lat",
           "lon",
           "ice_conc",
           "raw_ice_conc_values",
           "total_standard_error",
           "smearing_standard_error",
           "algorithm_standard_error",
           "status_flag"
          ],
          "type": "string"
         },
         "type": "array"
        }
       },
       "type": "object"
      },
      "text/plain": [
       "<xcube.util.jsonschema.JsonObjectSchema at 0x7f7191ab1b50>"
      ]
     },
     "execution_count": 5,
     "metadata": {},
     "output_type": "execute_result"
    }
   ],
   "source": [
    "cci_store.get_open_data_params_schema(data_id=data_id, opener_id='dataset:zarr:cciodp')"
   ]
  },
  {
   "cell_type": "markdown",
   "id": "63e58869-eac7-4f36-823c-8eaab9df7380",
   "metadata": {},
   "source": [
    "### Step 6: Define Region, Time Range, and Variables of Interest\n",
    "\n",
    "Before opening the dataset, we define a few key parameters:\n",
    "\n",
    "- **Time range**: the date(s) we want to load\n",
    "- **Variables**: which data variable(s) to retrieve\n",
    "- *(Optional)* **Bounding box**: spatial region of interest — here we skip it to load the global dataset"
   ]
  },
  {
   "cell_type": "code",
   "execution_count": 6,
   "id": "8a2be689-288c-4fb5-abe9-99b4b84eef07",
   "metadata": {},
   "outputs": [],
   "source": [
    "variables = ['ice_conc']  # Variable to retrieve\n",
    "start_date = '2016-09-21'    # Start and end date (same for a single timestep)\n",
    "end_date = '2016-09-21'\n",
    "# bbox = (-10.0, 35.0, 30.0, 60.0)  # Optional: restrict to a region like Europe"
   ]
  },
  {
   "cell_type": "markdown",
   "id": "14f9e524-ff7f-47e7-af2c-0e8ac2e3d668",
   "metadata": {},
   "source": [
    "### Step 7: Open the Dataset\n",
    "\n",
    "Now we open the dataset using the selected parameters.  \n",
    "The ESA Climate Toolbox will download only the necessary data (e.g., variable and time range).\n",
    "You can always adjust the time range or variables to explore different slices of the dataset."
   ]
  },
  {
   "cell_type": "code",
   "execution_count": 7,
   "id": "145b10bc-68b4-4645-a4a8-761965cb6098",
   "metadata": {},
   "outputs": [],
   "source": [
    "seaice_ds = cci_store.open_data(\n",
    "    data_id=data_id,\n",
    "    variable_names=variables,\n",
    "    time_range=[start_date, end_date]\n",
    "    # bbox=bbox  # Uncomment if regional selection is needed\n",
    ")"
   ]
  },
  {
   "cell_type": "markdown",
   "id": "26aeedd6-d471-4056-ae4e-3057d7221cc3",
   "metadata": {},
   "source": [
    "### Step 8: Display Dataset Structure\n",
    "\n",
    "We print a summary of the opened dataset to inspect its structure, dimensions, variables, and metadata.  \n",
    "This helps verify that the data was loaded correctly and shows what is available for analysis and visualization.\n",
    "This step is useful to understand what the dataset contains before working with it further."
   ]
  },
  {
   "cell_type": "code",
   "execution_count": 8,
   "id": "192daaeb-241a-4fba-956f-3e7ac8cb04b5",
   "metadata": {},
   "outputs": [
    {
     "name": "stdout",
     "output_type": "stream",
     "text": [
      "\n",
      "Opened Dataset:\n",
      " <xarray.Dataset> Size: 1MB\n",
      "Dimensions:                 (time: 1, yc: 432, xc: 432, bnds: 2)\n",
      "Coordinates:\n",
      "  * time                    (time) datetime64[ns] 8B 2016-09-21T12:00:00\n",
      "    time_bnds               (time, bnds) datetime64[ns] 16B dask.array<chunksize=(1, 2), meta=np.ndarray>\n",
      "  * xc                      (xc) float64 3kB -5.388e+03 -5.362e+03 ... 5.388e+03\n",
      "  * yc                      (yc) float64 3kB 5.388e+03 5.362e+03 ... -5.388e+03\n",
      "Dimensions without coordinates: bnds\n",
      "Data variables:\n",
      "    Lambert_Azimuthal_Grid  float64 8B ...\n",
      "    ice_conc                (time, yc, xc) float64 1MB dask.array<chunksize=(1, 432, 432), meta=np.ndarray>\n",
      "Attributes:\n",
      "    Conventions:             CF-1.7\n",
      "    title:                   esacci.SEAICE.day.L4.SICONC.multi-sensor.multi-p...\n",
      "    date_created:            2025-04-17T13:10:33.132685\n",
      "    processing_level:        L4\n",
      "    time_coverage_start:     2016-09-21T00:00:00\n",
      "    time_coverage_end:       2016-09-22T00:00:00\n",
      "    time_coverage_duration:  P1DT0H0M0S\n",
      "    history:                 [{'program': 'xcube_cci.chunkstore.CciChunkStore...\n"
     ]
    }
   ],
   "source": [
    "print(\"\\nOpened Dataset:\\n\", seaice_ds)"
   ]
  },
  {
   "cell_type": "markdown",
   "id": "7671aca3-81d9-472a-a93f-12d447155676",
   "metadata": {},
   "source": [
    "### Step 9: Visualize Results\n",
    "\n",
    "We now create a simple map plot of the selected variable.  \n",
    "This allows us to explore the spatial patterns of the data — in this case, the Aerosol Optical Depth (AOD) for the selected day.\n",
    "For more interactive and advanced visualizations, check out the [ESA Climate Toolbox](https://climate.esa.int/en/data/toolbox/) or the [Toolbox documentation](https://esa-climate-toolbox.readthedocs.io/en/latest/quick_start.html#jupyter-notebooks)."
   ]
  },
  {
   "cell_type": "code",
   "execution_count": 9,
   "id": "65ec997b-a0e8-40d7-8aa9-737a3ac2ec0d",
   "metadata": {
    "scrolled": true
   },
   "outputs": [
    {
     "data": {
      "image/png": "[encoded data removed]",
      "text/plain": [
       "<Figure size 800x800 with 2 Axes>"
      ]
     },
     "metadata": {},
     "output_type": "display_data"
    }
   ],
   "source": [
    "# Force eager loading by disabling chunks\n",
    "seaice_ds_eager = seaice_ds.compute()\n",
    "\n",
    "# Extract ice concentration\n",
    "ice_conc = seaice_ds_eager[\"ice_conc\"].isel(time=0).squeeze()\n",
    "\n",
    "# Extract coordinates\n",
    "x = seaice_ds_eager[\"xc\"].values\n",
    "y = seaice_ds_eager[\"yc\"].values\n",
    "\n",
    "# Plot\n",
    "import matplotlib.pyplot as plt\n",
    "import cartopy.crs as ccrs\n",
    "\n",
    "fig = plt.figure(figsize=(8, 8))\n",
    "ax = plt.axes(projection=ccrs.SouthPolarStereo())\n",
    "\n",
    "mesh = ax.pcolormesh(\n",
    "    x, y, ice_conc,\n",
    "    transform=ccrs.SouthPolarStereo(),\n",
    "    cmap=\"Blues\",\n",
    "    vmin=0, vmax=100\n",
    ")\n",
    "\n",
    "ax.coastlines()\n",
    "plt.colorbar(mesh, ax=ax, orientation='vertical', label=\"Sea Ice Concentration (%)\")\n",
    "plt.title(\"Sea Ice Concentration – Southern Hemisphere\")\n",
    "plt.tight_layout()\n",
    "plt.show()"
   ]
  }
 ],
 "metadata": {
  "kernelspec": {
   "display_name": "Python 3 (ipykernel)",
   "language": "python",
   "name": "python3"
  },
  "language_info": {
   "codemirror_mode": {
    "name": "ipython",
    "version": 3
   },
   "file_extension": ".py",
   "mimetype": "text/x-python",
   "name": "python",
   "nbconvert_exporter": "python",
   "pygments_lexer": "ipython3",
   "version": "3.12.7"
  }
 },
 "nbformat": 4,
 "nbformat_minor": 5
}
